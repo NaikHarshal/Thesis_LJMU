{
 "cells": [
  {
   "cell_type": "code",
   "execution_count": 1,
   "id": "20f961d4-46d1-4a42-a49e-2b95c1c4a305",
   "metadata": {},
   "outputs": [],
   "source": [
    "import os\n",
    "import pandas as pd"
   ]
  },
  {
   "cell_type": "code",
   "execution_count": 2,
   "id": "57aa769e-4c28-40e7-a1c9-80338da91a41",
   "metadata": {},
   "outputs": [],
   "source": [
    "def check_folder_structure(root_dir):\n",
    "    \"\"\"\n",
    "    Checks if each folder within the root directory adheres to the following structure:\n",
    "        - Contains a subfolder named \"XX\"\n",
    "        - The \"XX\" subfolder contains exactly 8 files\n",
    "\n",
    "    Args:\n",
    "        root_dir: The path to the root directory containing the 200 folders.\n",
    "\n",
    "    Returns:\n",
    "        A list of tuples:\n",
    "            - (folder_path, True) if the folder structure is consistent\n",
    "            - (folder_path, False) if the folder structure is inconsistent\n",
    "    \"\"\"\n",
    "\n",
    "    results = []\n",
    "    for folder in os.listdir(root_dir):\n",
    "        folder_path = os.path.join(root_dir, folder)\n",
    "        if not os.path.isdir(folder_path):\n",
    "            continue  # Skip if not a directory\n",
    "\n",
    "        xx_folder_path = os.path.join(folder_path, \"EEG\")\n",
    "        if not os.path.exists(xx_folder_path):\n",
    "            results.append((folder_path, False))  # \"XX\" folder missing\n",
    "            continue\n",
    "\n",
    "        try:\n",
    "            files_in_xx = os.listdir(xx_folder_path)\n",
    "        except OSError:\n",
    "            results.append((folder_path, False))  # Unable to list files in \"XX\"\n",
    "            continue\n",
    "\n",
    "        if len(files_in_xx) != 8:\n",
    "            results.append((folder_path, False))  # Incorrect number of files\n",
    "        else:\n",
    "            results.append((folder_path, True))\n",
    "\n",
    "    return results\n"
   ]
  },
  {
   "cell_type": "code",
   "execution_count": 3,
   "id": "a266a51b-f15b-4ed1-b507-50ed7df230e5",
   "metadata": {},
   "outputs": [
    {
     "name": "stdout",
     "output_type": "stream",
     "text": [
      "\n",
      "Consistent folders: 0\n",
      "Inconsistent folders: 128\n"
     ]
    }
   ],
   "source": [
    "####\n",
    "root_directory = \"Dataset_clean_for_jupyter\"  # Replace with the actual path\n",
    "verification_results = check_folder_structure(root_directory)\n",
    "\n",
    "for folder_path, is_consistent in verification_results:\n",
    "    print(f\"{folder_path}: {'Consistent' if is_consistent else 'Inconsistent'}\")\n",
    "\n",
    "# Count the number of consistent and inconsistent folders\n",
    "consistent_count = sum(result[1] for result in verification_results)\n",
    "inconsistent_count = len(verification_results) - consistent_count\n",
    "print(f\"\\nConsistent folders: {consistent_count}\")\n",
    "print(f\"Inconsistent folders: {inconsistent_count}\")"
   ]
  },
  {
   "cell_type": "markdown",
   "id": "b7750e02-d9f7-4bac-9729-0e99dfd420aa",
   "metadata": {
    "scrolled": true
   },
   "source": [
    "----------"
   ]
  },
  {
   "cell_type": "code",
   "execution_count": 4,
   "id": "d2a2c661-d4bb-481c-86e5-761e5681b8fc",
   "metadata": {},
   "outputs": [],
   "source": [
    "def compare_files_in_folders(root_dir):\n",
    "    \"\"\"\n",
    "    Compares 'event_1_psg.csv' and 'event_1_hb.csv' files within each subfolder of the root directory.\n",
    "\n",
    "    Args:\n",
    "        root_dir: The path to the root directory containing the 200 folders.\n",
    "\n",
    "    Returns:\n",
    "        A list of tuples:\n",
    "            - (folder_path, True) if the specified columns are equal in both files.\n",
    "            - (folder_path, False) if the specified columns are not equal.\n",
    "    \"\"\"\n",
    "\n",
    "    results = []\n",
    "    cols_to_compare = ['onset', 'duration', 'begsample', 'endsample', 'offset']\n",
    "    for index, folder in enumerate(os.listdir(root_dir), start=1):\n",
    "        folder_path = os.path.join(root_dir, f'sub-{index}')\n",
    "        eeg_folder_path = os.path.join(folder_path, \"eeg\")\n",
    "\n",
    "        psg_file_path = os.path.join(eeg_folder_path, f'sub-{index}_task-Sleep_acq-psg_events.tsv')\n",
    "        hb_file_path = os.path.join(eeg_folder_path, f'sub-{index}_task-Sleep_acq-headband_events.tsv')\n",
    "\n",
    "        df_psg = pd.read_csv(psg_file_path,sep = '\\t')\n",
    "        df_hb = pd.read_csv(hb_file_path,sep = '\\t')\n",
    "\n",
    "        comparison_result = df_psg[cols_to_compare].equals(df_hb[cols_to_compare])\n",
    "        results.append((folder_path, comparison_result))\n",
    "\n",
    "\n",
    "    return results\n"
   ]
  },
  {
   "cell_type": "code",
   "execution_count": 5,
   "id": "ccd08813-a904-468f-9ab7-dc9899142692",
   "metadata": {},
   "outputs": [
    {
     "name": "stdout",
     "output_type": "stream",
     "text": [
      "Dataset_clean_for_jupyter\\sub-1: Equal\n",
      "Dataset_clean_for_jupyter\\sub-2: Equal\n",
      "Dataset_clean_for_jupyter\\sub-3: Equal\n",
      "Dataset_clean_for_jupyter\\sub-4: Equal\n",
      "Dataset_clean_for_jupyter\\sub-5: Equal\n",
      "Dataset_clean_for_jupyter\\sub-6: Equal\n",
      "Dataset_clean_for_jupyter\\sub-7: Equal\n",
      "Dataset_clean_for_jupyter\\sub-8: Equal\n",
      "Dataset_clean_for_jupyter\\sub-9: Equal\n",
      "Dataset_clean_for_jupyter\\sub-10: Equal\n",
      "Dataset_clean_for_jupyter\\sub-11: Equal\n",
      "Dataset_clean_for_jupyter\\sub-12: Equal\n",
      "Dataset_clean_for_jupyter\\sub-13: Equal\n",
      "Dataset_clean_for_jupyter\\sub-14: Equal\n",
      "Dataset_clean_for_jupyter\\sub-15: Equal\n",
      "Dataset_clean_for_jupyter\\sub-16: Equal\n",
      "Dataset_clean_for_jupyter\\sub-17: Equal\n",
      "Dataset_clean_for_jupyter\\sub-18: Equal\n",
      "Dataset_clean_for_jupyter\\sub-19: Equal\n",
      "Dataset_clean_for_jupyter\\sub-20: Equal\n",
      "Dataset_clean_for_jupyter\\sub-21: Equal\n",
      "Dataset_clean_for_jupyter\\sub-22: Equal\n",
      "Dataset_clean_for_jupyter\\sub-23: Equal\n",
      "Dataset_clean_for_jupyter\\sub-24: Equal\n",
      "Dataset_clean_for_jupyter\\sub-25: Equal\n",
      "Dataset_clean_for_jupyter\\sub-26: Equal\n",
      "Dataset_clean_for_jupyter\\sub-27: Equal\n",
      "Dataset_clean_for_jupyter\\sub-28: Equal\n",
      "Dataset_clean_for_jupyter\\sub-29: Equal\n",
      "Dataset_clean_for_jupyter\\sub-30: Equal\n",
      "Dataset_clean_for_jupyter\\sub-31: Equal\n",
      "Dataset_clean_for_jupyter\\sub-32: Equal\n",
      "Dataset_clean_for_jupyter\\sub-33: Equal\n",
      "Dataset_clean_for_jupyter\\sub-34: Equal\n",
      "Dataset_clean_for_jupyter\\sub-35: Equal\n",
      "Dataset_clean_for_jupyter\\sub-36: Equal\n",
      "Dataset_clean_for_jupyter\\sub-37: Equal\n",
      "Dataset_clean_for_jupyter\\sub-38: Equal\n",
      "Dataset_clean_for_jupyter\\sub-39: Equal\n",
      "Dataset_clean_for_jupyter\\sub-40: Equal\n",
      "Dataset_clean_for_jupyter\\sub-41: Equal\n",
      "Dataset_clean_for_jupyter\\sub-42: Equal\n",
      "Dataset_clean_for_jupyter\\sub-43: Equal\n",
      "Dataset_clean_for_jupyter\\sub-44: Equal\n",
      "Dataset_clean_for_jupyter\\sub-45: Equal\n",
      "Dataset_clean_for_jupyter\\sub-46: Equal\n",
      "Dataset_clean_for_jupyter\\sub-47: Equal\n",
      "Dataset_clean_for_jupyter\\sub-48: Equal\n",
      "Dataset_clean_for_jupyter\\sub-49: Equal\n",
      "Dataset_clean_for_jupyter\\sub-50: Equal\n",
      "Dataset_clean_for_jupyter\\sub-51: Equal\n",
      "Dataset_clean_for_jupyter\\sub-52: Equal\n",
      "Dataset_clean_for_jupyter\\sub-53: Equal\n",
      "Dataset_clean_for_jupyter\\sub-54: Equal\n",
      "Dataset_clean_for_jupyter\\sub-55: Equal\n",
      "Dataset_clean_for_jupyter\\sub-56: Equal\n",
      "Dataset_clean_for_jupyter\\sub-57: Equal\n",
      "Dataset_clean_for_jupyter\\sub-58: Equal\n",
      "Dataset_clean_for_jupyter\\sub-59: Equal\n",
      "Dataset_clean_for_jupyter\\sub-60: Equal\n",
      "Dataset_clean_for_jupyter\\sub-61: Equal\n",
      "Dataset_clean_for_jupyter\\sub-62: Equal\n",
      "Dataset_clean_for_jupyter\\sub-63: Equal\n",
      "Dataset_clean_for_jupyter\\sub-64: Equal\n",
      "Dataset_clean_for_jupyter\\sub-65: Equal\n",
      "Dataset_clean_for_jupyter\\sub-66: Equal\n",
      "Dataset_clean_for_jupyter\\sub-67: Equal\n",
      "Dataset_clean_for_jupyter\\sub-68: Equal\n",
      "Dataset_clean_for_jupyter\\sub-69: Equal\n",
      "Dataset_clean_for_jupyter\\sub-70: Equal\n",
      "Dataset_clean_for_jupyter\\sub-71: Equal\n",
      "Dataset_clean_for_jupyter\\sub-72: Equal\n",
      "Dataset_clean_for_jupyter\\sub-73: Equal\n",
      "Dataset_clean_for_jupyter\\sub-74: Equal\n",
      "Dataset_clean_for_jupyter\\sub-75: Equal\n",
      "Dataset_clean_for_jupyter\\sub-76: Equal\n",
      "Dataset_clean_for_jupyter\\sub-77: Equal\n",
      "Dataset_clean_for_jupyter\\sub-78: Equal\n",
      "Dataset_clean_for_jupyter\\sub-79: Equal\n",
      "Dataset_clean_for_jupyter\\sub-80: Equal\n",
      "Dataset_clean_for_jupyter\\sub-81: Equal\n",
      "Dataset_clean_for_jupyter\\sub-82: Equal\n",
      "Dataset_clean_for_jupyter\\sub-83: Equal\n",
      "Dataset_clean_for_jupyter\\sub-84: Equal\n",
      "Dataset_clean_for_jupyter\\sub-85: Equal\n",
      "Dataset_clean_for_jupyter\\sub-86: Equal\n",
      "Dataset_clean_for_jupyter\\sub-87: Equal\n",
      "Dataset_clean_for_jupyter\\sub-88: Equal\n",
      "Dataset_clean_for_jupyter\\sub-89: Equal\n",
      "Dataset_clean_for_jupyter\\sub-90: Equal\n",
      "Dataset_clean_for_jupyter\\sub-91: Equal\n",
      "Dataset_clean_for_jupyter\\sub-92: Equal\n",
      "Dataset_clean_for_jupyter\\sub-93: Equal\n",
      "Dataset_clean_for_jupyter\\sub-94: Equal\n",
      "Dataset_clean_for_jupyter\\sub-95: Equal\n",
      "Dataset_clean_for_jupyter\\sub-96: Equal\n",
      "Dataset_clean_for_jupyter\\sub-97: Equal\n",
      "Dataset_clean_for_jupyter\\sub-98: Equal\n",
      "Dataset_clean_for_jupyter\\sub-99: Equal\n",
      "Dataset_clean_for_jupyter\\sub-100: Equal\n",
      "Dataset_clean_for_jupyter\\sub-101: Equal\n",
      "Dataset_clean_for_jupyter\\sub-102: Equal\n",
      "Dataset_clean_for_jupyter\\sub-103: Equal\n",
      "Dataset_clean_for_jupyter\\sub-104: Equal\n",
      "Dataset_clean_for_jupyter\\sub-105: Equal\n",
      "Dataset_clean_for_jupyter\\sub-106: Equal\n",
      "Dataset_clean_for_jupyter\\sub-107: Equal\n",
      "Dataset_clean_for_jupyter\\sub-108: Equal\n",
      "Dataset_clean_for_jupyter\\sub-109: Equal\n",
      "Dataset_clean_for_jupyter\\sub-110: Equal\n",
      "Dataset_clean_for_jupyter\\sub-111: Equal\n",
      "Dataset_clean_for_jupyter\\sub-112: Equal\n",
      "Dataset_clean_for_jupyter\\sub-113: Equal\n",
      "Dataset_clean_for_jupyter\\sub-114: Equal\n",
      "Dataset_clean_for_jupyter\\sub-115: Equal\n",
      "Dataset_clean_for_jupyter\\sub-116: Equal\n",
      "Dataset_clean_for_jupyter\\sub-117: Equal\n",
      "Dataset_clean_for_jupyter\\sub-118: Equal\n",
      "Dataset_clean_for_jupyter\\sub-119: Equal\n",
      "Dataset_clean_for_jupyter\\sub-120: Equal\n",
      "Dataset_clean_for_jupyter\\sub-121: Equal\n",
      "Dataset_clean_for_jupyter\\sub-122: Equal\n",
      "Dataset_clean_for_jupyter\\sub-123: Equal\n",
      "Dataset_clean_for_jupyter\\sub-124: Equal\n",
      "Dataset_clean_for_jupyter\\sub-125: Equal\n",
      "Dataset_clean_for_jupyter\\sub-126: Equal\n",
      "Dataset_clean_for_jupyter\\sub-127: Equal\n",
      "Dataset_clean_for_jupyter\\sub-128: Equal\n",
      "\n",
      "Equal folders: 128\n",
      "Not Equal folders: 0\n"
     ]
    }
   ],
   "source": [
    "root_directory = \"Dataset_clean_for_jupyter\"  \n",
    "verification_results = compare_files_in_folders(root_directory)\n",
    "\n",
    "# Print the results\n",
    "for folder_path, is_equal in verification_results:\n",
    "    print(f\"{folder_path}: {'Equal' if is_equal else 'Not Equal'}\")\n",
    "\n",
    "# Count the number of equal and not equal folders\n",
    "equal_count = sum(result[1] for result in verification_results)\n",
    "not_equal_count = len(verification_results) - equal_count\n",
    "print(f\"\\nEqual folders: {equal_count}\")\n",
    "print(f\"Not Equal folders: {not_equal_count}\")"
   ]
  },
  {
   "cell_type": "markdown",
   "id": "6080de10-fbd7-463d-9671-187629fb4bde",
   "metadata": {},
   "source": [
    "so yes all the files have same columns "
   ]
  },
  {
   "cell_type": "markdown",
   "id": "5b201907-2dd0-4091-963d-4cab5e34e1e6",
   "metadata": {},
   "source": [
    "----------"
   ]
  },
  {
   "cell_type": "code",
   "execution_count": 6,
   "id": "8780d802-c663-4359-9e70-1c32a45fe782",
   "metadata": {},
   "outputs": [
    {
     "data": {
      "text/plain": [
       "np.int64(0)"
      ]
     },
     "execution_count": 6,
     "metadata": {},
     "output_type": "execute_result"
    }
   ],
   "source": [
    "# for each night let's check the offset value\n",
    "offset_value = 0 \n",
    "for sub_no in range(1,129):\n",
    "    event_1_psg = pd.read_csv(f'Dataset_clean_for_jupyter\\\\sub-{sub_no}\\\\eeg\\\\sub-{sub_no}_task-Sleep_acq-psg_events.tsv',sep = '\\t')\n",
    "    event_1_hb = pd.read_csv(f'Dataset_clean_for_jupyter\\\\sub-{sub_no}\\\\eeg\\\\sub-{sub_no}_task-Sleep_acq-headband_events.tsv',sep = '\\t')\n",
    "    offset_value += (event_1_hb['offset'].sum() + event_1_psg['offset'].sum())\n",
    "offset_value"
   ]
  },
  {
   "cell_type": "markdown",
   "id": "61d759d3-313a-4da9-b8ab-0620da248a88",
   "metadata": {},
   "source": [
    "Good News.! ,This means that there is no offset value present in the dataset and we can ignore this column"
   ]
  },
  {
   "cell_type": "code",
   "execution_count": 8,
   "id": "3a5ef468-4b64-400f-a6b9-ed43197f2d7c",
   "metadata": {},
   "outputs": [
    {
     "data": {
      "text/plain": [
       "128"
      ]
     },
     "execution_count": 8,
     "metadata": {},
     "output_type": "execute_result"
    }
   ],
   "source": [
    "#this is just optimization of function: \"compare_files_in_folders\"\n",
    "cols_to_compare = ['onset', 'duration', 'begsample', 'endsample', 'offset']\n",
    "comparison_result =0\n",
    "for sub_no in range(1,129):\n",
    "    event_1_psg = pd.read_csv(f'Dataset_clean_for_jupyter\\\\sub-{sub_no}\\\\eeg\\\\sub-{sub_no}_task-Sleep_acq-psg_events.tsv',sep = '\\t')\n",
    "    event_1_hb = pd.read_csv(f'Dataset_clean_for_jupyter\\\\sub-{sub_no}\\\\eeg\\\\sub-{sub_no}_task-Sleep_acq-headband_events.tsv',sep = '\\t')\n",
    "    \n",
    "    # Check for equality of the selected columns\n",
    "    comparison_result += event_1_psg[cols_to_compare].equals(event_1_hb[cols_to_compare])\n",
    "comparison_result"
   ]
  },
  {
   "cell_type": "code",
   "execution_count": null,
   "id": "dfe74a45-bb11-4c73-8f04-887796b367c4",
   "metadata": {},
   "outputs": [],
   "source": []
  }
 ],
 "metadata": {
  "kernelspec": {
   "display_name": "Python 3 (ipykernel)",
   "language": "python",
   "name": "python3"
  },
  "language_info": {
   "codemirror_mode": {
    "name": "ipython",
    "version": 3
   },
   "file_extension": ".py",
   "mimetype": "text/x-python",
   "name": "python",
   "nbconvert_exporter": "python",
   "pygments_lexer": "ipython3",
   "version": "3.12.9"
  }
 },
 "nbformat": 4,
 "nbformat_minor": 5
}
