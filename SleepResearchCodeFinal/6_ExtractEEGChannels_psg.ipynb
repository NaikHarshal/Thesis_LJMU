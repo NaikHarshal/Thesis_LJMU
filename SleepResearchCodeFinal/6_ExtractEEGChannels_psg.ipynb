{
 "cells": [
  {
   "cell_type": "markdown",
   "id": "a3802037-e843-41fa-a691-c16ef39df7e0",
   "metadata": {},
   "source": [
    "## This code will extract 6 channels from psg edf file(sub-1_task-Sleep_acq-psg_eeg.edf)  and store it as new (sub-1_task-Sleep_acq-psg_eeg_6-channels.edf)"
   ]
  },
  {
   "cell_type": "markdown",
   "id": "73eb8a22-9682-4967-8d0a-b7f64745dc81",
   "metadata": {},
   "source": [
    "ok, let's try this for 1 file first "
   ]
  },
  {
   "cell_type": "code",
   "execution_count": 16,
   "id": "bccc71d8-daba-492d-a756-5a79069e042b",
   "metadata": {},
   "outputs": [],
   "source": [
    "sub_no = 29"
   ]
  },
  {
   "cell_type": "code",
   "execution_count": 2,
   "id": "974551a3-4fd1-41ca-9943-22fc37d35d39",
   "metadata": {},
   "outputs": [],
   "source": [
    "#pip install mne\n",
    "#pip install pyedflib"
   ]
  },
  {
   "cell_type": "code",
   "execution_count": 1,
   "id": "890af452-dda7-4311-9f07-e95c140cc321",
   "metadata": {},
   "outputs": [],
   "source": [
    "import mne\n",
    "import pyedflib\n",
    "import numpy as np\n"
   ]
  },
  {
   "cell_type": "code",
   "execution_count": 4,
   "id": "8fb9efa5-8b40-4166-aae8-37ef167770e8",
   "metadata": {},
   "outputs": [
    {
     "name": "stdout",
     "output_type": "stream",
     "text": [
      "Extracting EDF parameters from C:\\Users\\naikh\\SleepResearchCode_experient\\Dataset_clean_for_jupyter\\sub-29\\eeg\\sub-29_task-Sleep_acq-psg_eeg.edf...\n",
      "EDF file detected\n",
      "Setting channel info structure...\n",
      "Creating raw.info structure...\n",
      "Reading 0 ... 8510463  =      0.000 ... 33243.996 secs...\n"
     ]
    },
    {
     "name": "stderr",
     "output_type": "stream",
     "text": [
      "C:\\Users\\naikh\\AppData\\Local\\Temp\\ipykernel_6448\\2810092197.py:2: RuntimeWarning: Channels contain different highpass filters. Highest filter setting will be stored.\n",
      "  raw = mne.io.read_raw_edf(file_path, preload=True)\n"
     ]
    },
    {
     "name": "stdout",
     "output_type": "stream",
     "text": [
      "<RawEDF | sub-29_task-Sleep_acq-psg_eeg.edf, 14 x 8510464 (33244.0 s), ~909.0 MiB, data loaded>\n",
      "<Info | 8 non-empty values\n",
      " bads: []\n",
      " ch_names: PSG_F3, PSG_F4, PSG_C3, PSG_C4, PSG_O1, PSG_O2, PSG_EOG, ...\n",
      " chs: 14 EEG\n",
      " custom_ref_applied: False\n",
      " highpass: 0.1 Hz\n",
      " lowpass: 128.0 Hz\n",
      " meas_date: 2023-02-09 22:02:56 UTC\n",
      " nchan: 14\n",
      " projs: []\n",
      " sfreq: 256.0 Hz\n",
      " subject_info: <subject_info | his_id: sub-29>\n",
      ">\n"
     ]
    }
   ],
   "source": [
    "\n",
    "file_path = f'Dataset_clean_for_jupyter/sub-{sub_no}/eeg/sub-{sub_no}_task-Sleep_acq-psg_eeg.edf'\n",
    "raw = mne.io.read_raw_edf(file_path, preload=True)\n",
    "print(raw)\n",
    "print(raw.info)"
   ]
  },
  {
   "cell_type": "code",
   "execution_count": 5,
   "id": "187ee377-a606-4cfd-9811-4c084f7ab220",
   "metadata": {},
   "outputs": [
    {
     "data": {
      "text/plain": [
       "['PSG_F3',\n",
       " 'PSG_F4',\n",
       " 'PSG_C3',\n",
       " 'PSG_C4',\n",
       " 'PSG_O1',\n",
       " 'PSG_O2',\n",
       " 'PSG_EOG',\n",
       " 'PSG_EMG',\n",
       " 'PSG_THER',\n",
       " 'PSG_THOR',\n",
       " 'PSG_ABD',\n",
       " 'PSG_PULSE',\n",
       " 'PSG_BEAT',\n",
       " 'PSG_SPO2']"
      ]
     },
     "execution_count": 5,
     "metadata": {},
     "output_type": "execute_result"
    }
   ],
   "source": [
    "raw.ch_names"
   ]
  },
  {
   "cell_type": "code",
   "execution_count": 6,
   "id": "028068a1-afc5-4167-8da7-e5ab4d087e86",
   "metadata": {},
   "outputs": [],
   "source": [
    "raw2 = raw.copy().pick(range(6))"
   ]
  },
  {
   "cell_type": "code",
   "execution_count": 7,
   "id": "22d9501a-53ff-4180-bc76-85dad7ce0291",
   "metadata": {},
   "outputs": [
    {
     "data": {
      "text/plain": [
       "['PSG_F3', 'PSG_F4', 'PSG_C3', 'PSG_C4', 'PSG_O1', 'PSG_O2']"
      ]
     },
     "execution_count": 7,
     "metadata": {},
     "output_type": "execute_result"
    }
   ],
   "source": [
    "raw2.ch_names"
   ]
  },
  {
   "cell_type": "code",
   "execution_count": 8,
   "id": "846ceedb-c774-42a8-ac67-84073d4abc3c",
   "metadata": {},
   "outputs": [],
   "source": [
    "# Define the new file path\n",
    "new_file_path =f'Dataset_clean_for_jupyter/sub-{sub_no}/eeg/sub-{sub_no}_task-Sleep_acq-psg_eeg_6-channels.edf'\n",
    "\n",
    "# Save the modified data as a new EDF file\n",
    "##raw2.save(new_file_path,fmt='edf', overwrite=True)"
   ]
  },
  {
   "cell_type": "code",
   "execution_count": 13,
   "id": "f4c94c61-58a0-421c-8381-8b63d1275c8b",
   "metadata": {},
   "outputs": [],
   "source": [
    "\n",
    "\n",
    "# Create a new EDF file\n",
    "n_channels = len(raw2.ch_names)\n",
    "n_samples = raw.n_times\n",
    "sample_rate = raw.info['sfreq']\n",
    "\n",
    "# Initialize the EDF file\n",
    "with pyedflib.EdfWriter(new_file_path, n_channels=n_channels, file_type=pyedflib.FILETYPE_EDFPLUS) as f:\n",
    "    # Set the header information\n",
    "    channel_info = []\n",
    "    data_list = []\n",
    "\n",
    "    for i, ch_name in enumerate(raw2.ch_names):\n",
    "        ch_dict = {\n",
    "            'label': ch_name,\n",
    "            'dimension': 'uV',\n",
    "            'sample_frequency': sample_rate,\n",
    "            'physical_max': raw._data[i].max(),\n",
    "            'physical_min': raw._data[i].min(),\n",
    "            'digital_max': 32767,\n",
    "            'digital_min': -32768,\n",
    "            'transducer': '',\n",
    "            'prefilter': ''\n",
    "        }\n",
    "        channel_info.append(ch_dict)\n",
    "        data_list.append(raw._data[i])\n",
    "\n",
    "    f.setSignalHeaders(channel_info)\n",
    "    f.writeSamples(data_list)"
   ]
  },
  {
   "cell_type": "code",
   "execution_count": 10,
   "id": "d6e43dbb-0385-49b3-b0d1-1f0c1a924975",
   "metadata": {},
   "outputs": [
    {
     "name": "stdout",
     "output_type": "stream",
     "text": [
      "Channel 0 (PSG_F3):\n",
      "  Digital Min: -32768\n",
      "  Digital Max: 32767\n",
      "  Physical Min: -548.417\n",
      "  Physical Max: 1959.649\n",
      "\n",
      "Channel 1 (PSG_F4):\n",
      "  Digital Min: -32768\n",
      "  Digital Max: 32767\n",
      "  Physical Min: -1051.04\n",
      "  Physical Max: 970.8509\n",
      "\n",
      "Channel 2 (PSG_C3):\n",
      "  Digital Min: -32768\n",
      "  Digital Max: 32767\n",
      "  Physical Min: -3200.0\n",
      "  Physical Max: 2977.532\n",
      "\n",
      "Channel 3 (PSG_C4):\n",
      "  Digital Min: -32768\n",
      "  Digital Max: 32767\n",
      "  Physical Min: -3200.0\n",
      "  Physical Max: 3200.0\n",
      "\n",
      "Channel 4 (PSG_O1):\n",
      "  Digital Min: -32768\n",
      "  Digital Max: 32767\n",
      "  Physical Min: -340.871\n",
      "  Physical Max: 359.9176\n",
      "\n",
      "Channel 5 (PSG_O2):\n",
      "  Digital Min: -32768\n",
      "  Digital Max: 32767\n",
      "  Physical Min: -439.403\n",
      "  Physical Max: 788.5374\n",
      "\n",
      "Channel 6 (PSG_EOG):\n",
      "  Digital Min: -32768\n",
      "  Digital Max: 32767\n",
      "  Physical Min: -620.753\n",
      "  Physical Max: 983.9506\n",
      "\n",
      "Channel 7 (PSG_EMG):\n",
      "  Digital Min: -32768\n",
      "  Digital Max: 32767\n",
      "  Physical Min: -3200.0\n",
      "  Physical Max: 3200.0\n",
      "\n",
      "Channel 8 (PSG_THER):\n",
      "  Digital Min: -32768\n",
      "  Digital Max: 32767\n",
      "  Physical Min: -463.926\n",
      "  Physical Max: 535.0179\n",
      "\n",
      "Channel 9 (PSG_THOR):\n",
      "  Digital Min: -32768\n",
      "  Digital Max: 32767\n",
      "  Physical Min: -198.006\n",
      "  Physical Max: 353.8628\n",
      "\n",
      "Channel 10 (PSG_ABD):\n",
      "  Digital Min: -32768\n",
      "  Digital Max: 32767\n",
      "  Physical Min: -152.2\n",
      "  Physical Max: 207.9622\n",
      "\n",
      "Channel 11 (PSG_PULSE):\n",
      "  Digital Min: -32768\n",
      "  Digital Max: 32767\n",
      "  Physical Min: -199.954\n",
      "  Physical Max: 198.4897\n",
      "\n",
      "Channel 12 (PSG_BEAT):\n",
      "  Digital Min: -32768\n",
      "  Digital Max: 32767\n",
      "  Physical Min: 0.0\n",
      "  Physical Max: 255.0\n",
      "\n",
      "Channel 13 (PSG_SPO2):\n",
      "  Digital Min: -32768\n",
      "  Digital Max: 32767\n",
      "  Physical Min: 0.0\n",
      "  Physical Max: 99.0\n",
      "\n"
     ]
    }
   ],
   "source": [
    "### this code is or checking digital min digital max\n",
    "\n",
    "import pyedflib\n",
    "\n",
    "# Open the EDF file\n",
    "edf_file = pyedflib.EdfReader(file_path)\n",
    "\n",
    "# Get the number of channels\n",
    "n_channels = edf_file.signals_in_file\n",
    "\n",
    "# Print the digital and physical ranges for each channel\n",
    "for i in range(n_channels):\n",
    "    digital_min = edf_file.getDigitalMinimum(i)\n",
    "    digital_max = edf_file.getDigitalMaximum(i)\n",
    "    physical_min = edf_file.getPhysicalMinimum(i)\n",
    "    physical_max = edf_file.getPhysicalMaximum(i)\n",
    "    channel_label = edf_file.getLabel(i)\n",
    "    \n",
    "    print(f\"Channel {i} ({channel_label}):\")\n",
    "    print(f\"  Digital Min: {digital_min}\")\n",
    "    print(f\"  Digital Max: {digital_max}\")\n",
    "    print(f\"  Physical Min: {physical_min}\")\n",
    "    print(f\"  Physical Max: {physical_max}\")\n",
    "    print()\n",
    "\n",
    "# Close the EDF file\n",
    "edf_file.close()"
   ]
  },
  {
   "cell_type": "markdown",
   "id": "75761081-61b0-4b8d-97e6-39131bcb0e9c",
   "metadata": {},
   "source": [
    "### ok, let's do this for all the channels"
   ]
  },
  {
   "cell_type": "code",
   "execution_count": 3,
   "id": "2094efdc-3e7b-4ab1-835d-0558109a54df",
   "metadata": {},
   "outputs": [],
   "source": [
    "# Create a new EDF file\n",
    "def filter_6_channels(sub_no):\n",
    "    file_path = f'Dataset_clean_for_jupyter/sub-{sub_no}/eeg/sub-{sub_no}_task-Sleep_acq-psg_eeg.edf'\n",
    "    new_file_path =f'Dataset_clean_for_jupyter/sub-{sub_no}/eeg/sub-{sub_no}_task-Sleep_acq-psg_eeg_6-channels.edf'\n",
    "    \n",
    "    raw = mne.io.read_raw_edf(file_path, preload=True)\n",
    "    raw2= raw.copy().pick(range(6))\n",
    "    n_samples = raw.n_times\n",
    "    sample_rate = raw.info['sfreq']\n",
    "    \n",
    "    # Initialize the EDF file\n",
    "    with pyedflib.EdfWriter(new_file_path, n_channels=6, file_type=pyedflib.FILETYPE_EDFPLUS) as f:\n",
    "        # Set the header information\n",
    "        channel_info = []\n",
    "        data_list = []\n",
    "    \n",
    "        for i, ch_name in enumerate(raw2.ch_names):\n",
    "            ch_dict = {\n",
    "                'label': ch_name,\n",
    "                'dimension': 'uV',\n",
    "                'sample_frequency': sample_rate,\n",
    "                'physical_max': raw._data[i].max(),\n",
    "                'physical_min': raw._data[i].min(),\n",
    "                'digital_max': 32767,\n",
    "                'digital_min': -32768,\n",
    "                'transducer': '',\n",
    "                'prefilter': ''\n",
    "            }\n",
    "            channel_info.append(ch_dict)\n",
    "            data_list.append(raw._data[i])\n",
    "    \n",
    "        f.setSignalHeaders(channel_info)\n",
    "        f.writeSamples(data_list)"
   ]
  },
  {
   "cell_type": "code",
   "execution_count": 4,
   "id": "a053662b-c995-4b96-98f3-78866f7e8dab",
   "metadata": {},
   "outputs": [
    {
     "name": "stdout",
     "output_type": "stream",
     "text": [
      "Extracting EDF parameters from C:\\Users\\naikh\\SleepResearchCode_experient\\Dataset_clean_for_jupyter\\sub-1\\eeg\\sub-1_task-Sleep_acq-psg_eeg.edf...\n",
      "EDF file detected\n",
      "Setting channel info structure...\n",
      "Creating raw.info structure...\n",
      "Reading 0 ... 7029503  =      0.000 ... 27458.996 secs...\n"
     ]
    },
    {
     "name": "stderr",
     "output_type": "stream",
     "text": [
      "C:\\Users\\naikh\\anaconda3\\envs\\PytorchEnvironment\\Lib\\site-packages\\pyedflib\\edfwriter.py:134: UserWarning: Physical minimum for channel 0 (PSG_F3) is -0.003199929851056687, which has 21 chars, however, EDF+ can only save 8 chars, will be truncated to -0.00319, some loss of precision is to be expected\n",
      "  warnings.warn('Physical minimum for channel {} ({}) is {}, which has {} chars, '\\\n",
      "C:\\Users\\naikh\\anaconda3\\envs\\PytorchEnvironment\\Lib\\site-packages\\pyedflib\\edfwriter.py:141: UserWarning: Physical maximum for channel 0 (PSG_F3) is 0.00010226150644693723, which has 22 chars, however, EDF+ can only save 8 chars, will be truncated to 0.000102, some loss of precision is to be expected.\n",
      "  warnings.warn('Physical maximum for channel {} ({}) is {}, which has {} chars, '\\\n",
      "C:\\Users\\naikh\\anaconda3\\envs\\PytorchEnvironment\\Lib\\site-packages\\pyedflib\\edfwriter.py:134: UserWarning: Physical minimum for channel 1 (PSG_F4) is -0.0031999347552605474, which has 22 chars, however, EDF+ can only save 8 chars, will be truncated to -0.00319, some loss of precision is to be expected\n",
      "  warnings.warn('Physical minimum for channel {} ({}) is {}, which has {} chars, '\\\n",
      "C:\\Users\\naikh\\anaconda3\\envs\\PytorchEnvironment\\Lib\\site-packages\\pyedflib\\edfwriter.py:141: UserWarning: Physical maximum for channel 1 (PSG_F4) is -0.0003433243278248261, which has 22 chars, however, EDF+ can only save 8 chars, will be truncated to -0.00034, some loss of precision is to be expected.\n",
      "  warnings.warn('Physical maximum for channel {} ({}) is {}, which has {} chars, '\\\n",
      "C:\\Users\\naikh\\anaconda3\\envs\\PytorchEnvironment\\Lib\\site-packages\\pyedflib\\edfwriter.py:134: UserWarning: Physical minimum for channel 2 (PSG_C3) is -0.003199902342259861, which has 21 chars, however, EDF+ can only save 8 chars, will be truncated to -0.00319, some loss of precision is to be expected\n",
      "  warnings.warn('Physical minimum for channel {} ({}) is {}, which has {} chars, '\\\n",
      "C:\\Users\\naikh\\anaconda3\\envs\\PytorchEnvironment\\Lib\\site-packages\\pyedflib\\edfwriter.py:141: UserWarning: Physical maximum for channel 2 (PSG_C3) is 0.0031999999999999997, which has 21 chars, however, EDF+ can only save 8 chars, will be truncated to 0.003199, some loss of precision is to be expected.\n",
      "  warnings.warn('Physical maximum for channel {} ({}) is {}, which has {} chars, '\\\n",
      "C:\\Users\\naikh\\anaconda3\\envs\\PytorchEnvironment\\Lib\\site-packages\\pyedflib\\edfwriter.py:134: UserWarning: Physical minimum for channel 3 (PSG_C4) is -0.003199902342259861, which has 21 chars, however, EDF+ can only save 8 chars, will be truncated to -0.00319, some loss of precision is to be expected\n",
      "  warnings.warn('Physical minimum for channel {} ({}) is {}, which has {} chars, '\\\n",
      "C:\\Users\\naikh\\anaconda3\\envs\\PytorchEnvironment\\Lib\\site-packages\\pyedflib\\edfwriter.py:141: UserWarning: Physical maximum for channel 3 (PSG_C4) is 0.0031999999999999997, which has 21 chars, however, EDF+ can only save 8 chars, will be truncated to 0.003199, some loss of precision is to be expected.\n",
      "  warnings.warn('Physical maximum for channel {} ({}) is {}, which has {} chars, '\\\n",
      "C:\\Users\\naikh\\anaconda3\\envs\\PytorchEnvironment\\Lib\\site-packages\\pyedflib\\edfwriter.py:134: UserWarning: Physical minimum for channel 4 (PSG_O1) is -0.003199929821255817, which has 21 chars, however, EDF+ can only save 8 chars, will be truncated to -0.00319, some loss of precision is to be expected\n",
      "  warnings.warn('Physical minimum for channel {} ({}) is {}, which has {} chars, '\\\n",
      "C:\\Users\\naikh\\anaconda3\\envs\\PytorchEnvironment\\Lib\\site-packages\\pyedflib\\edfwriter.py:141: UserWarning: Physical maximum for channel 4 (PSG_O1) is 0.00010506795727473831, which has 22 chars, however, EDF+ can only save 8 chars, will be truncated to 0.000105, some loss of precision is to be expected.\n",
      "  warnings.warn('Physical maximum for channel {} ({}) is {}, which has {} chars, '\\\n",
      "C:\\Users\\naikh\\anaconda3\\envs\\PytorchEnvironment\\Lib\\site-packages\\pyedflib\\edfwriter.py:134: UserWarning: Physical minimum for channel 5 (PSG_O2) is -0.003199933360448615, which has 21 chars, however, EDF+ can only save 8 chars, will be truncated to -0.00319, some loss of precision is to be expected\n",
      "  warnings.warn('Physical minimum for channel {} ({}) is {}, which has {} chars, '\\\n",
      "C:\\Users\\naikh\\anaconda3\\envs\\PytorchEnvironment\\Lib\\site-packages\\pyedflib\\edfwriter.py:141: UserWarning: Physical maximum for channel 5 (PSG_O2) is -0.00021987926207370128, which has 23 chars, however, EDF+ can only save 8 chars, will be truncated to -0.00021, some loss of precision is to be expected.\n",
      "  warnings.warn('Physical maximum for channel {} ({}) is {}, which has {} chars, '\\\n"
     ]
    },
    {
     "name": "stdout",
     "output_type": "stream",
     "text": [
      "Extracting EDF parameters from C:\\Users\\naikh\\SleepResearchCode_experient\\Dataset_clean_for_jupyter\\sub-2\\eeg\\sub-2_task-Sleep_acq-psg_eeg.edf...\n",
      "EDF file detected\n",
      "Setting channel info structure...\n",
      "Creating raw.info structure...\n",
      "Reading 0 ... 7014399  =      0.000 ... 27399.996 secs...\n"
     ]
    },
    {
     "name": "stderr",
     "output_type": "stream",
     "text": [
      "C:\\Users\\naikh\\anaconda3\\envs\\PytorchEnvironment\\Lib\\site-packages\\pyedflib\\edfwriter.py:134: UserWarning: Physical minimum for channel 0 (PSG_F3) is -0.00319990750873579, which has 20 chars, however, EDF+ can only save 8 chars, will be truncated to -0.00319, some loss of precision is to be expected\n",
      "  warnings.warn('Physical minimum for channel {} ({}) is {}, which has {} chars, '\\\n",
      "C:\\Users\\naikh\\anaconda3\\envs\\PytorchEnvironment\\Lib\\site-packages\\pyedflib\\edfwriter.py:141: UserWarning: Physical maximum for channel 0 (PSG_F3) is 0.002540747786984054, which has 20 chars, however, EDF+ can only save 8 chars, will be truncated to 0.002540, some loss of precision is to be expected.\n",
      "  warnings.warn('Physical maximum for channel {} ({}) is {}, which has {} chars, '\\\n",
      "C:\\Users\\naikh\\anaconda3\\envs\\PytorchEnvironment\\Lib\\site-packages\\pyedflib\\edfwriter.py:134: UserWarning: Physical minimum for channel 1 (PSG_F4) is -0.003199925243411917, which has 21 chars, however, EDF+ can only save 8 chars, will be truncated to -0.00319, some loss of precision is to be expected\n",
      "  warnings.warn('Physical minimum for channel {} ({}) is {}, which has {} chars, '\\\n",
      "C:\\Users\\naikh\\anaconda3\\envs\\PytorchEnvironment\\Lib\\site-packages\\pyedflib\\edfwriter.py:141: UserWarning: Physical maximum for channel 1 (PSG_F4) is 0.0005503137543450064, which has 21 chars, however, EDF+ can only save 8 chars, will be truncated to 0.000550, some loss of precision is to be expected.\n",
      "  warnings.warn('Physical maximum for channel {} ({}) is {}, which has {} chars, '\\\n",
      "C:\\Users\\naikh\\anaconda3\\envs\\PytorchEnvironment\\Lib\\site-packages\\pyedflib\\edfwriter.py:134: UserWarning: Physical minimum for channel 3 (PSG_C4) is -0.0031999248023193714, which has 22 chars, however, EDF+ can only save 8 chars, will be truncated to -0.00319, some loss of precision is to be expected\n",
      "  warnings.warn('Physical minimum for channel {} ({}) is {}, which has {} chars, '\\\n",
      "C:\\Users\\naikh\\anaconda3\\envs\\PytorchEnvironment\\Lib\\site-packages\\pyedflib\\edfwriter.py:141: UserWarning: Physical maximum for channel 3 (PSG_C4) is 0.0005947005575646601, which has 21 chars, however, EDF+ can only save 8 chars, will be truncated to 0.000594, some loss of precision is to be expected.\n",
      "  warnings.warn('Physical maximum for channel {} ({}) is {}, which has {} chars, '\\\n",
      "C:\\Users\\naikh\\anaconda3\\envs\\PytorchEnvironment\\Lib\\site-packages\\pyedflib\\edfwriter.py:134: UserWarning: Physical minimum for channel 4 (PSG_O1) is -0.0031999159357137407, which has 22 chars, however, EDF+ can only save 8 chars, will be truncated to -0.00319, some loss of precision is to be expected\n",
      "  warnings.warn('Physical minimum for channel {} ({}) is {}, which has {} chars, '\\\n",
      "C:\\Users\\naikh\\anaconda3\\envs\\PytorchEnvironment\\Lib\\site-packages\\pyedflib\\edfwriter.py:141: UserWarning: Physical maximum for channel 4 (PSG_O1) is 0.0015423185807431148, which has 21 chars, however, EDF+ can only save 8 chars, will be truncated to 0.001542, some loss of precision is to be expected.\n",
      "  warnings.warn('Physical maximum for channel {} ({}) is {}, which has {} chars, '\\\n",
      "C:\\Users\\naikh\\anaconda3\\envs\\PytorchEnvironment\\Lib\\site-packages\\pyedflib\\edfwriter.py:134: UserWarning: Physical minimum for channel 5 (PSG_O2) is -0.003199924529610132, which has 21 chars, however, EDF+ can only save 8 chars, will be truncated to -0.00319, some loss of precision is to be expected\n",
      "  warnings.warn('Physical minimum for channel {} ({}) is {}, which has {} chars, '\\\n",
      "C:\\Users\\naikh\\anaconda3\\envs\\PytorchEnvironment\\Lib\\site-packages\\pyedflib\\edfwriter.py:141: UserWarning: Physical maximum for channel 5 (PSG_O2) is 0.0006222733652552076, which has 21 chars, however, EDF+ can only save 8 chars, will be truncated to 0.000622, some loss of precision is to be expected.\n",
      "  warnings.warn('Physical maximum for channel {} ({}) is {}, which has {} chars, '\\\n"
     ]
    },
    {
     "name": "stdout",
     "output_type": "stream",
     "text": [
      "Extracting EDF parameters from C:\\Users\\naikh\\SleepResearchCode_experient\\Dataset_clean_for_jupyter\\sub-3\\eeg\\sub-3_task-Sleep_acq-psg_eeg.edf...\n",
      "EDF file detected\n",
      "Setting channel info structure...\n",
      "Creating raw.info structure...\n",
      "Reading 0 ... 7659775  =      0.000 ... 29920.996 secs...\n"
     ]
    },
    {
     "name": "stderr",
     "output_type": "stream",
     "text": [
      "C:\\Users\\naikh\\anaconda3\\envs\\PytorchEnvironment\\Lib\\site-packages\\pyedflib\\edfwriter.py:134: UserWarning: Physical minimum for channel 0 (PSG_F3) is -0.003199512363118944, which has 21 chars, however, EDF+ can only save 8 chars, will be truncated to -0.00319, some loss of precision is to be expected\n",
      "  warnings.warn('Physical minimum for channel {} ({}) is {}, which has {} chars, '\\\n",
      "C:\\Users\\naikh\\anaconda3\\envs\\PytorchEnvironment\\Lib\\site-packages\\pyedflib\\edfwriter.py:141: UserWarning: Physical maximum for channel 0 (PSG_F3) is 0.0031984371787136642, which has 21 chars, however, EDF+ can only save 8 chars, will be truncated to 0.003198, some loss of precision is to be expected.\n",
      "  warnings.warn('Physical maximum for channel {} ({}) is {}, which has {} chars, '\\\n",
      "C:\\Users\\naikh\\anaconda3\\envs\\PytorchEnvironment\\Lib\\site-packages\\pyedflib\\edfwriter.py:134: UserWarning: Physical minimum for channel 1 (PSG_F4) is -0.0031974648244754707, which has 22 chars, however, EDF+ can only save 8 chars, will be truncated to -0.00319, some loss of precision is to be expected\n",
      "  warnings.warn('Physical minimum for channel {} ({}) is {}, which has {} chars, '\\\n",
      "C:\\Users\\naikh\\anaconda3\\envs\\PytorchEnvironment\\Lib\\site-packages\\pyedflib\\edfwriter.py:141: UserWarning: Physical maximum for channel 1 (PSG_F4) is 0.0031977539999999993, which has 21 chars, however, EDF+ can only save 8 chars, will be truncated to 0.003197, some loss of precision is to be expected.\n",
      "  warnings.warn('Physical maximum for channel {} ({}) is {}, which has {} chars, '\\\n",
      "C:\\Users\\naikh\\anaconda3\\envs\\PytorchEnvironment\\Lib\\site-packages\\pyedflib\\edfwriter.py:134: UserWarning: Physical minimum for channel 4 (PSG_O1) is -0.0031968724391546496, which has 22 chars, however, EDF+ can only save 8 chars, will be truncated to -0.00319, some loss of precision is to be expected\n",
      "  warnings.warn('Physical minimum for channel {} ({}) is {}, which has {} chars, '\\\n",
      "C:\\Users\\naikh\\anaconda3\\envs\\PytorchEnvironment\\Lib\\site-packages\\pyedflib\\edfwriter.py:141: UserWarning: Physical maximum for channel 4 (PSG_O1) is 0.0031963873174639507, which has 21 chars, however, EDF+ can only save 8 chars, will be truncated to 0.003196, some loss of precision is to be expected.\n",
      "  warnings.warn('Physical maximum for channel {} ({}) is {}, which has {} chars, '\\\n",
      "C:\\Users\\naikh\\anaconda3\\envs\\PytorchEnvironment\\Lib\\site-packages\\pyedflib\\edfwriter.py:134: UserWarning: Physical minimum for channel 5 (PSG_O2) is -0.003198832406256199, which has 21 chars, however, EDF+ can only save 8 chars, will be truncated to -0.00319, some loss of precision is to be expected\n",
      "  warnings.warn('Physical minimum for channel {} ({}) is {}, which has {} chars, '\\\n",
      "C:\\Users\\naikh\\anaconda3\\envs\\PytorchEnvironment\\Lib\\site-packages\\pyedflib\\edfwriter.py:141: UserWarning: Physical maximum for channel 5 (PSG_O2) is 0.003194826531380179, which has 20 chars, however, EDF+ can only save 8 chars, will be truncated to 0.003194, some loss of precision is to be expected.\n",
      "  warnings.warn('Physical maximum for channel {} ({}) is {}, which has {} chars, '\\\n"
     ]
    },
    {
     "name": "stdout",
     "output_type": "stream",
     "text": [
      "Extracting EDF parameters from C:\\Users\\naikh\\SleepResearchCode_experient\\Dataset_clean_for_jupyter\\sub-4\\eeg\\sub-4_task-Sleep_acq-psg_eeg.edf...\n",
      "EDF file detected\n",
      "Setting channel info structure...\n",
      "Creating raw.info structure...\n",
      "Reading 0 ... 8219647  =      0.000 ... 32107.996 secs...\n"
     ]
    },
    {
     "name": "stderr",
     "output_type": "stream",
     "text": [
      "C:\\Users\\naikh\\anaconda3\\envs\\PytorchEnvironment\\Lib\\site-packages\\pyedflib\\edfwriter.py:134: UserWarning: Physical minimum for channel 0 (PSG_F3) is -0.003199902342259861, which has 21 chars, however, EDF+ can only save 8 chars, will be truncated to -0.00319, some loss of precision is to be expected\n",
      "  warnings.warn('Physical minimum for channel {} ({}) is {}, which has {} chars, '\\\n",
      "C:\\Users\\naikh\\anaconda3\\envs\\PytorchEnvironment\\Lib\\site-packages\\pyedflib\\edfwriter.py:141: UserWarning: Physical maximum for channel 0 (PSG_F3) is 0.0031999999999999997, which has 21 chars, however, EDF+ can only save 8 chars, will be truncated to 0.003199, some loss of precision is to be expected.\n",
      "  warnings.warn('Physical maximum for channel {} ({}) is {}, which has {} chars, '\\\n",
      "C:\\Users\\naikh\\anaconda3\\envs\\PytorchEnvironment\\Lib\\site-packages\\pyedflib\\edfwriter.py:134: UserWarning: Physical minimum for channel 1 (PSG_F4) is -0.003199902342259861, which has 21 chars, however, EDF+ can only save 8 chars, will be truncated to -0.00319, some loss of precision is to be expected\n",
      "  warnings.warn('Physical minimum for channel {} ({}) is {}, which has {} chars, '\\\n",
      "C:\\Users\\naikh\\anaconda3\\envs\\PytorchEnvironment\\Lib\\site-packages\\pyedflib\\edfwriter.py:141: UserWarning: Physical maximum for channel 1 (PSG_F4) is 0.0031999999999999997, which has 21 chars, however, EDF+ can only save 8 chars, will be truncated to 0.003199, some loss of precision is to be expected.\n",
      "  warnings.warn('Physical maximum for channel {} ({}) is {}, which has {} chars, '\\\n",
      "C:\\Users\\naikh\\anaconda3\\envs\\PytorchEnvironment\\Lib\\site-packages\\pyedflib\\edfwriter.py:134: UserWarning: Physical minimum for channel 4 (PSG_O1) is -0.003199902342259861, which has 21 chars, however, EDF+ can only save 8 chars, will be truncated to -0.00319, some loss of precision is to be expected\n",
      "  warnings.warn('Physical minimum for channel {} ({}) is {}, which has {} chars, '\\\n",
      "C:\\Users\\naikh\\anaconda3\\envs\\PytorchEnvironment\\Lib\\site-packages\\pyedflib\\edfwriter.py:141: UserWarning: Physical maximum for channel 4 (PSG_O1) is 0.0031999999999999997, which has 21 chars, however, EDF+ can only save 8 chars, will be truncated to 0.003199, some loss of precision is to be expected.\n",
      "  warnings.warn('Physical maximum for channel {} ({}) is {}, which has {} chars, '\\\n",
      "C:\\Users\\naikh\\anaconda3\\envs\\PytorchEnvironment\\Lib\\site-packages\\pyedflib\\edfwriter.py:134: UserWarning: Physical minimum for channel 5 (PSG_O2) is -0.003199902342259861, which has 21 chars, however, EDF+ can only save 8 chars, will be truncated to -0.00319, some loss of precision is to be expected\n",
      "  warnings.warn('Physical minimum for channel {} ({}) is {}, which has {} chars, '\\\n",
      "C:\\Users\\naikh\\anaconda3\\envs\\PytorchEnvironment\\Lib\\site-packages\\pyedflib\\edfwriter.py:141: UserWarning: Physical maximum for channel 5 (PSG_O2) is 0.0031999999999999997, which has 21 chars, however, EDF+ can only save 8 chars, will be truncated to 0.003199, some loss of precision is to be expected.\n",
      "  warnings.warn('Physical maximum for channel {} ({}) is {}, which has {} chars, '\\\n"
     ]
    },
    {
     "name": "stdout",
     "output_type": "stream",
     "text": [
      "Extracting EDF parameters from C:\\Users\\naikh\\SleepResearchCode_experient\\Dataset_clean_for_jupyter\\sub-5\\eeg\\sub-5_task-Sleep_acq-psg_eeg.edf...\n",
      "EDF file detected\n",
      "Setting channel info structure...\n",
      "Creating raw.info structure...\n",
      "Reading 0 ... 7725567  =      0.000 ... 30177.996 secs...\n"
     ]
    },
    {
     "name": "stderr",
     "output_type": "stream",
     "text": [
      "C:\\Users\\naikh\\anaconda3\\envs\\PytorchEnvironment\\Lib\\site-packages\\pyedflib\\edfwriter.py:134: UserWarning: Physical minimum for channel 0 (PSG_F3) is -0.00041243776312199586, which has 23 chars, however, EDF+ can only save 8 chars, will be truncated to -0.00041, some loss of precision is to be expected\n",
      "  warnings.warn('Physical minimum for channel {} ({}) is {}, which has {} chars, '\\\n",
      "C:\\Users\\naikh\\anaconda3\\envs\\PytorchEnvironment\\Lib\\site-packages\\pyedflib\\edfwriter.py:141: UserWarning: Physical maximum for channel 0 (PSG_F3) is 0.0008493782, which has 12 chars, however, EDF+ can only save 8 chars, will be truncated to 0.000849, some loss of precision is to be expected.\n",
      "  warnings.warn('Physical maximum for channel {} ({}) is {}, which has {} chars, '\\\n",
      "C:\\Users\\naikh\\anaconda3\\envs\\PytorchEnvironment\\Lib\\site-packages\\pyedflib\\edfwriter.py:134: UserWarning: Physical minimum for channel 1 (PSG_F4) is -0.00038934399042648963, which has 23 chars, however, EDF+ can only save 8 chars, will be truncated to -0.00038, some loss of precision is to be expected\n",
      "  warnings.warn('Physical minimum for channel {} ({}) is {}, which has {} chars, '\\\n",
      "C:\\Users\\naikh\\anaconda3\\envs\\PytorchEnvironment\\Lib\\site-packages\\pyedflib\\edfwriter.py:141: UserWarning: Physical maximum for channel 1 (PSG_F4) is 0.0005968353000000002, which has 21 chars, however, EDF+ can only save 8 chars, will be truncated to 0.000596, some loss of precision is to be expected.\n",
      "  warnings.warn('Physical maximum for channel {} ({}) is {}, which has {} chars, '\\\n",
      "C:\\Users\\naikh\\anaconda3\\envs\\PytorchEnvironment\\Lib\\site-packages\\pyedflib\\edfwriter.py:134: UserWarning: Physical minimum for channel 3 (PSG_C4) is -7.747861643396664e-05, which has 22 chars, however, EDF+ can only save 8 chars, will be truncated to -7.74786, some loss of precision is to be expected\n",
      "  warnings.warn('Physical minimum for channel {} ({}) is {}, which has {} chars, '\\\n",
      "C:\\Users\\naikh\\anaconda3\\envs\\PytorchEnvironment\\Lib\\site-packages\\pyedflib\\edfwriter.py:141: UserWarning: Physical maximum for channel 3 (PSG_C4) is 0.001070866, which has 11 chars, however, EDF+ can only save 8 chars, will be truncated to 0.001070, some loss of precision is to be expected.\n",
      "  warnings.warn('Physical maximum for channel {} ({}) is {}, which has {} chars, '\\\n",
      "C:\\Users\\naikh\\anaconda3\\envs\\PytorchEnvironment\\Lib\\site-packages\\pyedflib\\edfwriter.py:134: UserWarning: Physical minimum for channel 4 (PSG_O1) is 0.0003534913151750972, which has 21 chars, however, EDF+ can only save 8 chars, will be truncated to 0.000353, some loss of precision is to be expected\n",
      "  warnings.warn('Physical minimum for channel {} ({}) is {}, which has {} chars, '\\\n",
      "C:\\Users\\naikh\\anaconda3\\envs\\PytorchEnvironment\\Lib\\site-packages\\pyedflib\\edfwriter.py:141: UserWarning: Physical maximum for channel 4 (PSG_O1) is 0.00243202, which has 10 chars, however, EDF+ can only save 8 chars, will be truncated to 0.002432, some loss of precision is to be expected.\n",
      "  warnings.warn('Physical maximum for channel {} ({}) is {}, which has {} chars, '\\\n",
      "C:\\Users\\naikh\\anaconda3\\envs\\PytorchEnvironment\\Lib\\site-packages\\pyedflib\\edfwriter.py:134: UserWarning: Physical minimum for channel 5 (PSG_O2) is 5.606369802395647e-06, which has 21 chars, however, EDF+ can only save 8 chars, will be truncated to 5.606369, some loss of precision is to be expected\n",
      "  warnings.warn('Physical minimum for channel {} ({}) is {}, which has {} chars, '\\\n",
      "C:\\Users\\naikh\\anaconda3\\envs\\PytorchEnvironment\\Lib\\site-packages\\pyedflib\\edfwriter.py:141: UserWarning: Physical maximum for channel 5 (PSG_O2) is 0.0010015289999999997, which has 21 chars, however, EDF+ can only save 8 chars, will be truncated to 0.001001, some loss of precision is to be expected.\n",
      "  warnings.warn('Physical maximum for channel {} ({}) is {}, which has {} chars, '\\\n"
     ]
    },
    {
     "name": "stdout",
     "output_type": "stream",
     "text": [
      "Extracting EDF parameters from C:\\Users\\naikh\\SleepResearchCode_experient\\Dataset_clean_for_jupyter\\sub-6\\eeg\\sub-6_task-Sleep_acq-psg_eeg.edf...\n",
      "EDF file detected\n",
      "Setting channel info structure...\n",
      "Creating raw.info structure...\n",
      "Reading 0 ... 7670015  =      0.000 ... 29960.996 secs...\n"
     ]
    },
    {
     "name": "stderr",
     "output_type": "stream",
     "text": [
      "C:\\Users\\naikh\\anaconda3\\envs\\PytorchEnvironment\\Lib\\site-packages\\pyedflib\\edfwriter.py:134: UserWarning: Physical minimum for channel 0 (PSG_F3) is -0.002225215413199054, which has 21 chars, however, EDF+ can only save 8 chars, will be truncated to -0.00222, some loss of precision is to be expected\n",
      "  warnings.warn('Physical minimum for channel {} ({}) is {}, which has {} chars, '\\\n",
      "C:\\Users\\naikh\\anaconda3\\envs\\PytorchEnvironment\\Lib\\site-packages\\pyedflib\\edfwriter.py:141: UserWarning: Physical maximum for channel 0 (PSG_F3) is 0.0018002215425650411, which has 21 chars, however, EDF+ can only save 8 chars, will be truncated to 0.001800, some loss of precision is to be expected.\n",
      "  warnings.warn('Physical maximum for channel {} ({}) is {}, which has {} chars, '\\\n",
      "C:\\Users\\naikh\\anaconda3\\envs\\PytorchEnvironment\\Lib\\site-packages\\pyedflib\\edfwriter.py:134: UserWarning: Physical minimum for channel 1 (PSG_F4) is -0.00021186235626764323, which has 23 chars, however, EDF+ can only save 8 chars, will be truncated to -0.00021, some loss of precision is to be expected\n",
      "  warnings.warn('Physical minimum for channel {} ({}) is {}, which has {} chars, '\\\n",
      "C:\\Users\\naikh\\anaconda3\\envs\\PytorchEnvironment\\Lib\\site-packages\\pyedflib\\edfwriter.py:141: UserWarning: Physical maximum for channel 1 (PSG_F4) is 0.002102132, which has 11 chars, however, EDF+ can only save 8 chars, will be truncated to 0.002102, some loss of precision is to be expected.\n",
      "  warnings.warn('Physical maximum for channel {} ({}) is {}, which has {} chars, '\\\n",
      "C:\\Users\\naikh\\anaconda3\\envs\\PytorchEnvironment\\Lib\\site-packages\\pyedflib\\edfwriter.py:134: UserWarning: Physical minimum for channel 2 (PSG_C3) is -0.0009145898384252689, which has 22 chars, however, EDF+ can only save 8 chars, will be truncated to -0.00091, some loss of precision is to be expected\n",
      "  warnings.warn('Physical minimum for channel {} ({}) is {}, which has {} chars, '\\\n",
      "C:\\Users\\naikh\\anaconda3\\envs\\PytorchEnvironment\\Lib\\site-packages\\pyedflib\\edfwriter.py:141: UserWarning: Physical maximum for channel 2 (PSG_C3) is 0.0004560479729182881, which has 21 chars, however, EDF+ can only save 8 chars, will be truncated to 0.000456, some loss of precision is to be expected.\n",
      "  warnings.warn('Physical maximum for channel {} ({}) is {}, which has {} chars, '\\\n",
      "C:\\Users\\naikh\\anaconda3\\envs\\PytorchEnvironment\\Lib\\site-packages\\pyedflib\\edfwriter.py:134: UserWarning: Physical minimum for channel 3 (PSG_C4) is -0.0031999023452353704, which has 22 chars, however, EDF+ can only save 8 chars, will be truncated to -0.00319, some loss of precision is to be expected\n",
      "  warnings.warn('Physical minimum for channel {} ({}) is {}, which has {} chars, '\\\n",
      "C:\\Users\\naikh\\anaconda3\\envs\\PytorchEnvironment\\Lib\\site-packages\\pyedflib\\edfwriter.py:141: UserWarning: Physical maximum for channel 3 (PSG_C4) is 0.003199609690470741, which has 20 chars, however, EDF+ can only save 8 chars, will be truncated to 0.003199, some loss of precision is to be expected.\n",
      "  warnings.warn('Physical maximum for channel {} ({}) is {}, which has {} chars, '\\\n",
      "C:\\Users\\naikh\\anaconda3\\envs\\PytorchEnvironment\\Lib\\site-packages\\pyedflib\\edfwriter.py:134: UserWarning: Physical minimum for channel 4 (PSG_O1) is -0.0031992224762951095, which has 22 chars, however, EDF+ can only save 8 chars, will be truncated to -0.00319, some loss of precision is to be expected\n",
      "  warnings.warn('Physical minimum for channel {} ({}) is {}, which has {} chars, '\\\n",
      "C:\\Users\\naikh\\anaconda3\\envs\\PytorchEnvironment\\Lib\\site-packages\\pyedflib\\edfwriter.py:141: UserWarning: Physical maximum for channel 4 (PSG_O1) is 0.003184484198428321, which has 20 chars, however, EDF+ can only save 8 chars, will be truncated to 0.003184, some loss of precision is to be expected.\n",
      "  warnings.warn('Physical maximum for channel {} ({}) is {}, which has {} chars, '\\\n",
      "C:\\Users\\naikh\\anaconda3\\envs\\PytorchEnvironment\\Lib\\site-packages\\pyedflib\\edfwriter.py:134: UserWarning: Physical minimum for channel 5 (PSG_O2) is -0.003187402743038071, which has 21 chars, however, EDF+ can only save 8 chars, will be truncated to -0.00318, some loss of precision is to be expected\n",
      "  warnings.warn('Physical minimum for channel {} ({}) is {}, which has {} chars, '\\\n",
      "C:\\Users\\naikh\\anaconda3\\envs\\PytorchEnvironment\\Lib\\site-packages\\pyedflib\\edfwriter.py:141: UserWarning: Physical maximum for channel 5 (PSG_O2) is 0.003184970659494927, which has 20 chars, however, EDF+ can only save 8 chars, will be truncated to 0.003184, some loss of precision is to be expected.\n",
      "  warnings.warn('Physical maximum for channel {} ({}) is {}, which has {} chars, '\\\n"
     ]
    },
    {
     "name": "stdout",
     "output_type": "stream",
     "text": [
      "Extracting EDF parameters from C:\\Users\\naikh\\SleepResearchCode_experient\\Dataset_clean_for_jupyter\\sub-7\\eeg\\sub-7_task-Sleep_acq-psg_eeg.edf...\n",
      "EDF file detected\n",
      "Setting channel info structure...\n",
      "Creating raw.info structure...\n",
      "Reading 0 ... 7187967  =      0.000 ... 28077.996 secs...\n",
      "Extracting EDF parameters from C:\\Users\\naikh\\SleepResearchCode_experient\\Dataset_clean_for_jupyter\\sub-8\\eeg\\sub-8_task-Sleep_acq-psg_eeg.edf...\n",
      "EDF file detected\n",
      "Setting channel info structure...\n",
      "Creating raw.info structure...\n",
      "Reading 0 ... 3146239  =      0.000 ... 12289.996 secs...\n"
     ]
    },
    {
     "name": "stderr",
     "output_type": "stream",
     "text": [
      "C:\\Users\\naikh\\anaconda3\\envs\\PytorchEnvironment\\Lib\\site-packages\\pyedflib\\edfwriter.py:134: UserWarning: Physical minimum for channel 0 (PSG_F3) is -0.0004020711458686198, which has 22 chars, however, EDF+ can only save 8 chars, will be truncated to -0.00040, some loss of precision is to be expected\n",
      "  warnings.warn('Physical minimum for channel {} ({}) is {}, which has {} chars, '\\\n",
      "C:\\Users\\naikh\\anaconda3\\envs\\PytorchEnvironment\\Lib\\site-packages\\pyedflib\\edfwriter.py:141: UserWarning: Physical maximum for channel 0 (PSG_F3) is 0.0005650965000000001, which has 21 chars, however, EDF+ can only save 8 chars, will be truncated to 0.000565, some loss of precision is to be expected.\n",
      "  warnings.warn('Physical maximum for channel {} ({}) is {}, which has {} chars, '\\\n",
      "C:\\Users\\naikh\\anaconda3\\envs\\PytorchEnvironment\\Lib\\site-packages\\pyedflib\\edfwriter.py:134: UserWarning: Physical minimum for channel 1 (PSG_F4) is -0.0014765087362722208, which has 22 chars, however, EDF+ can only save 8 chars, will be truncated to -0.00147, some loss of precision is to be expected\n",
      "  warnings.warn('Physical minimum for channel {} ({}) is {}, which has {} chars, '\\\n",
      "C:\\Users\\naikh\\anaconda3\\envs\\PytorchEnvironment\\Lib\\site-packages\\pyedflib\\edfwriter.py:141: UserWarning: Physical maximum for channel 1 (PSG_F4) is -5.500956161440473e-05, which has 22 chars, however, EDF+ can only save 8 chars, will be truncated to -5.50095, some loss of precision is to be expected.\n",
      "  warnings.warn('Physical maximum for channel {} ({}) is {}, which has {} chars, '\\\n",
      "C:\\Users\\naikh\\anaconda3\\envs\\PytorchEnvironment\\Lib\\site-packages\\pyedflib\\edfwriter.py:134: UserWarning: Physical minimum for channel 2 (PSG_C3) is -0.0004503600127855344, which has 22 chars, however, EDF+ can only save 8 chars, will be truncated to -0.00045, some loss of precision is to be expected\n",
      "  warnings.warn('Physical minimum for channel {} ({}) is {}, which has {} chars, '\\\n",
      "C:\\Users\\naikh\\anaconda3\\envs\\PytorchEnvironment\\Lib\\site-packages\\pyedflib\\edfwriter.py:141: UserWarning: Physical maximum for channel 2 (PSG_C3) is 0.0004859937, which has 12 chars, however, EDF+ can only save 8 chars, will be truncated to 0.000485, some loss of precision is to be expected.\n",
      "  warnings.warn('Physical maximum for channel {} ({}) is {}, which has {} chars, '\\\n",
      "C:\\Users\\naikh\\anaconda3\\envs\\PytorchEnvironment\\Lib\\site-packages\\pyedflib\\edfwriter.py:134: UserWarning: Physical minimum for channel 3 (PSG_C4) is -0.000421008395117113, which has 21 chars, however, EDF+ can only save 8 chars, will be truncated to -0.00042, some loss of precision is to be expected\n",
      "  warnings.warn('Physical minimum for channel {} ({}) is {}, which has {} chars, '\\\n",
      "C:\\Users\\naikh\\anaconda3\\envs\\PytorchEnvironment\\Lib\\site-packages\\pyedflib\\edfwriter.py:141: UserWarning: Physical maximum for channel 3 (PSG_C4) is 0.0005544518, which has 12 chars, however, EDF+ can only save 8 chars, will be truncated to 0.000554, some loss of precision is to be expected.\n",
      "  warnings.warn('Physical maximum for channel {} ({}) is {}, which has {} chars, '\\\n",
      "C:\\Users\\naikh\\anaconda3\\envs\\PytorchEnvironment\\Lib\\site-packages\\pyedflib\\edfwriter.py:134: UserWarning: Physical minimum for channel 4 (PSG_O1) is 0.0002833942874341955, which has 21 chars, however, EDF+ can only save 8 chars, will be truncated to 0.000283, some loss of precision is to be expected\n",
      "  warnings.warn('Physical minimum for channel {} ({}) is {}, which has {} chars, '\\\n",
      "C:\\Users\\naikh\\anaconda3\\envs\\PytorchEnvironment\\Lib\\site-packages\\pyedflib\\edfwriter.py:141: UserWarning: Physical maximum for channel 4 (PSG_O1) is 0.001848026, which has 11 chars, however, EDF+ can only save 8 chars, will be truncated to 0.001848, some loss of precision is to be expected.\n",
      "  warnings.warn('Physical maximum for channel {} ({}) is {}, which has {} chars, '\\\n",
      "C:\\Users\\naikh\\anaconda3\\envs\\PytorchEnvironment\\Lib\\site-packages\\pyedflib\\edfwriter.py:134: UserWarning: Physical minimum for channel 5 (PSG_O2) is -1.3700666346227251e-05, which has 23 chars, however, EDF+ can only save 8 chars, will be truncated to -1.37006, some loss of precision is to be expected\n",
      "  warnings.warn('Physical minimum for channel {} ({}) is {}, which has {} chars, '\\\n",
      "C:\\Users\\naikh\\anaconda3\\envs\\PytorchEnvironment\\Lib\\site-packages\\pyedflib\\edfwriter.py:141: UserWarning: Physical maximum for channel 5 (PSG_O2) is 0.0012708689999999998, which has 21 chars, however, EDF+ can only save 8 chars, will be truncated to 0.001270, some loss of precision is to be expected.\n",
      "  warnings.warn('Physical maximum for channel {} ({}) is {}, which has {} chars, '\\\n"
     ]
    },
    {
     "name": "stdout",
     "output_type": "stream",
     "text": [
      "Extracting EDF parameters from C:\\Users\\naikh\\SleepResearchCode_experient\\Dataset_clean_for_jupyter\\sub-9\\eeg\\sub-9_task-Sleep_acq-psg_eeg.edf...\n",
      "EDF file detected\n",
      "Setting channel info structure...\n",
      "Creating raw.info structure...\n",
      "Reading 0 ... 8107775  =      0.000 ... 31670.996 secs...\n"
     ]
    },
    {
     "name": "stderr",
     "output_type": "stream",
     "text": [
      "C:\\Users\\naikh\\anaconda3\\envs\\PytorchEnvironment\\Lib\\site-packages\\pyedflib\\edfwriter.py:134: UserWarning: Physical minimum for channel 0 (PSG_F3) is -0.0003550206065766384, which has 22 chars, however, EDF+ can only save 8 chars, will be truncated to -0.00035, some loss of precision is to be expected\n",
      "  warnings.warn('Physical minimum for channel {} ({}) is {}, which has {} chars, '\\\n",
      "C:\\Users\\naikh\\anaconda3\\envs\\PytorchEnvironment\\Lib\\site-packages\\pyedflib\\edfwriter.py:141: UserWarning: Physical maximum for channel 0 (PSG_F3) is 0.00040405890000000004, which has 22 chars, however, EDF+ can only save 8 chars, will be truncated to 0.000404, some loss of precision is to be expected.\n",
      "  warnings.warn('Physical maximum for channel {} ({}) is {}, which has {} chars, '\\\n",
      "C:\\Users\\naikh\\anaconda3\\envs\\PytorchEnvironment\\Lib\\site-packages\\pyedflib\\edfwriter.py:134: UserWarning: Physical minimum for channel 1 (PSG_F4) is 8.191473792629892e-06, which has 21 chars, however, EDF+ can only save 8 chars, will be truncated to 8.191473, some loss of precision is to be expected\n",
      "  warnings.warn('Physical minimum for channel {} ({}) is {}, which has {} chars, '\\\n",
      "C:\\Users\\naikh\\anaconda3\\envs\\PytorchEnvironment\\Lib\\site-packages\\pyedflib\\edfwriter.py:141: UserWarning: Physical maximum for channel 1 (PSG_F4) is 0.001075065, which has 11 chars, however, EDF+ can only save 8 chars, will be truncated to 0.001075, some loss of precision is to be expected.\n",
      "  warnings.warn('Physical maximum for channel {} ({}) is {}, which has {} chars, '\\\n",
      "C:\\Users\\naikh\\anaconda3\\envs\\PytorchEnvironment\\Lib\\site-packages\\pyedflib\\edfwriter.py:134: UserWarning: Physical minimum for channel 2 (PSG_C3) is 7.908389868009464e-05, which has 21 chars, however, EDF+ can only save 8 chars, will be truncated to 7.908389, some loss of precision is to be expected\n",
      "  warnings.warn('Physical minimum for channel {} ({}) is {}, which has {} chars, '\\\n",
      "C:\\Users\\naikh\\anaconda3\\envs\\PytorchEnvironment\\Lib\\site-packages\\pyedflib\\edfwriter.py:141: UserWarning: Physical maximum for channel 2 (PSG_C3) is 0.0010160800000000002, which has 21 chars, however, EDF+ can only save 8 chars, will be truncated to 0.001016, some loss of precision is to be expected.\n",
      "  warnings.warn('Physical maximum for channel {} ({}) is {}, which has {} chars, '\\\n",
      "C:\\Users\\naikh\\anaconda3\\envs\\PytorchEnvironment\\Lib\\site-packages\\pyedflib\\edfwriter.py:134: UserWarning: Physical minimum for channel 3 (PSG_C4) is -0.0003735809767254139, which has 22 chars, however, EDF+ can only save 8 chars, will be truncated to -0.00037, some loss of precision is to be expected\n",
      "  warnings.warn('Physical minimum for channel {} ({}) is {}, which has {} chars, '\\\n",
      "C:\\Users\\naikh\\anaconda3\\envs\\PytorchEnvironment\\Lib\\site-packages\\pyedflib\\edfwriter.py:141: UserWarning: Physical maximum for channel 3 (PSG_C4) is 0.0004037658999999999, which has 21 chars, however, EDF+ can only save 8 chars, will be truncated to 0.000403, some loss of precision is to be expected.\n",
      "  warnings.warn('Physical maximum for channel {} ({}) is {}, which has {} chars, '\\\n",
      "C:\\Users\\naikh\\anaconda3\\envs\\PytorchEnvironment\\Lib\\site-packages\\pyedflib\\edfwriter.py:134: UserWarning: Physical minimum for channel 4 (PSG_O1) is -0.00017005020714122224, which has 23 chars, however, EDF+ can only save 8 chars, will be truncated to -0.00017, some loss of precision is to be expected\n",
      "  warnings.warn('Physical minimum for channel {} ({}) is {}, which has {} chars, '\\\n",
      "C:\\Users\\naikh\\anaconda3\\envs\\PytorchEnvironment\\Lib\\site-packages\\pyedflib\\edfwriter.py:141: UserWarning: Physical maximum for channel 4 (PSG_O1) is 0.001179461, which has 11 chars, however, EDF+ can only save 8 chars, will be truncated to 0.001179, some loss of precision is to be expected.\n",
      "  warnings.warn('Physical maximum for channel {} ({}) is {}, which has {} chars, '\\\n",
      "C:\\Users\\naikh\\anaconda3\\envs\\PytorchEnvironment\\Lib\\site-packages\\pyedflib\\edfwriter.py:134: UserWarning: Physical minimum for channel 5 (PSG_O2) is 0.00046813218194857715, which has 22 chars, however, EDF+ can only save 8 chars, will be truncated to 0.000468, some loss of precision is to be expected\n",
      "  warnings.warn('Physical minimum for channel {} ({}) is {}, which has {} chars, '\\\n",
      "C:\\Users\\naikh\\anaconda3\\envs\\PytorchEnvironment\\Lib\\site-packages\\pyedflib\\edfwriter.py:141: UserWarning: Physical maximum for channel 5 (PSG_O2) is 0.0021826990000000006, which has 21 chars, however, EDF+ can only save 8 chars, will be truncated to 0.002182, some loss of precision is to be expected.\n",
      "  warnings.warn('Physical maximum for channel {} ({}) is {}, which has {} chars, '\\\n"
     ]
    },
    {
     "name": "stdout",
     "output_type": "stream",
     "text": [
      "Extracting EDF parameters from C:\\Users\\naikh\\SleepResearchCode_experient\\Dataset_clean_for_jupyter\\sub-10\\eeg\\sub-10_task-Sleep_acq-psg_eeg.edf...\n",
      "EDF file detected\n",
      "Setting channel info structure...\n",
      "Creating raw.info structure...\n",
      "Reading 0 ... 7631615  =      0.000 ... 29810.996 secs...\n"
     ]
    },
    {
     "name": "stderr",
     "output_type": "stream",
     "text": [
      "C:\\Users\\naikh\\anaconda3\\envs\\PytorchEnvironment\\Lib\\site-packages\\pyedflib\\edfwriter.py:134: UserWarning: Physical minimum for channel 0 (PSG_F3) is -0.0005298284590066377, which has 22 chars, however, EDF+ can only save 8 chars, will be truncated to -0.00052, some loss of precision is to be expected\n",
      "  warnings.warn('Physical minimum for channel {} ({}) is {}, which has {} chars, '\\\n",
      "C:\\Users\\naikh\\anaconda3\\envs\\PytorchEnvironment\\Lib\\site-packages\\pyedflib\\edfwriter.py:141: UserWarning: Physical maximum for channel 0 (PSG_F3) is 0.00021330125671778437, which has 22 chars, however, EDF+ can only save 8 chars, will be truncated to 0.000213, some loss of precision is to be expected.\n",
      "  warnings.warn('Physical maximum for channel {} ({}) is {}, which has {} chars, '\\\n",
      "C:\\Users\\naikh\\anaconda3\\envs\\PytorchEnvironment\\Lib\\site-packages\\pyedflib\\edfwriter.py:134: UserWarning: Physical minimum for channel 1 (PSG_F4) is -0.00045385305024643315, which has 23 chars, however, EDF+ can only save 8 chars, will be truncated to -0.00045, some loss of precision is to be expected\n",
      "  warnings.warn('Physical minimum for channel {} ({}) is {}, which has {} chars, '\\\n",
      "C:\\Users\\naikh\\anaconda3\\envs\\PytorchEnvironment\\Lib\\site-packages\\pyedflib\\edfwriter.py:141: UserWarning: Physical maximum for channel 1 (PSG_F4) is 0.00011342083278858627, which has 22 chars, however, EDF+ can only save 8 chars, will be truncated to 0.000113, some loss of precision is to be expected.\n",
      "  warnings.warn('Physical maximum for channel {} ({}) is {}, which has {} chars, '\\\n",
      "C:\\Users\\naikh\\anaconda3\\envs\\PytorchEnvironment\\Lib\\site-packages\\pyedflib\\edfwriter.py:134: UserWarning: Physical minimum for channel 2 (PSG_C3) is -0.00034165220927748533, which has 23 chars, however, EDF+ can only save 8 chars, will be truncated to -0.00034, some loss of precision is to be expected\n",
      "  warnings.warn('Physical minimum for channel {} ({}) is {}, which has {} chars, '\\\n",
      "C:\\Users\\naikh\\anaconda3\\envs\\PytorchEnvironment\\Lib\\site-packages\\pyedflib\\edfwriter.py:141: UserWarning: Physical maximum for channel 2 (PSG_C3) is 0.00102399, which has 10 chars, however, EDF+ can only save 8 chars, will be truncated to 0.001023, some loss of precision is to be expected.\n",
      "  warnings.warn('Physical maximum for channel {} ({}) is {}, which has {} chars, '\\\n",
      "C:\\Users\\naikh\\anaconda3\\envs\\PytorchEnvironment\\Lib\\site-packages\\pyedflib\\edfwriter.py:134: UserWarning: Physical minimum for channel 3 (PSG_C4) is -0.00010035713229571985, which has 23 chars, however, EDF+ can only save 8 chars, will be truncated to -0.00010, some loss of precision is to be expected\n",
      "  warnings.warn('Physical minimum for channel {} ({}) is {}, which has {} chars, '\\\n",
      "C:\\Users\\naikh\\anaconda3\\envs\\PytorchEnvironment\\Lib\\site-packages\\pyedflib\\edfwriter.py:141: UserWarning: Physical maximum for channel 3 (PSG_C4) is 0.001515111, which has 11 chars, however, EDF+ can only save 8 chars, will be truncated to 0.001515, some loss of precision is to be expected.\n",
      "  warnings.warn('Physical maximum for channel {} ({}) is {}, which has {} chars, '\\\n",
      "C:\\Users\\naikh\\anaconda3\\envs\\PytorchEnvironment\\Lib\\site-packages\\pyedflib\\edfwriter.py:134: UserWarning: Physical minimum for channel 4 (PSG_O1) is -0.0003753642238864729, which has 22 chars, however, EDF+ can only save 8 chars, will be truncated to -0.00037, some loss of precision is to be expected\n",
      "  warnings.warn('Physical minimum for channel {} ({}) is {}, which has {} chars, '\\\n",
      "C:\\Users\\naikh\\anaconda3\\envs\\PytorchEnvironment\\Lib\\site-packages\\pyedflib\\edfwriter.py:141: UserWarning: Physical maximum for channel 4 (PSG_O1) is 0.0007048447, which has 12 chars, however, EDF+ can only save 8 chars, will be truncated to 0.000704, some loss of precision is to be expected.\n",
      "  warnings.warn('Physical maximum for channel {} ({}) is {}, which has {} chars, '\\\n",
      "C:\\Users\\naikh\\anaconda3\\envs\\PytorchEnvironment\\Lib\\site-packages\\pyedflib\\edfwriter.py:134: UserWarning: Physical minimum for channel 5 (PSG_O2) is -0.0010687926581994351, which has 22 chars, however, EDF+ can only save 8 chars, will be truncated to -0.00106, some loss of precision is to be expected\n",
      "  warnings.warn('Physical minimum for channel {} ({}) is {}, which has {} chars, '\\\n",
      "C:\\Users\\naikh\\anaconda3\\envs\\PytorchEnvironment\\Lib\\site-packages\\pyedflib\\edfwriter.py:141: UserWarning: Physical maximum for channel 5 (PSG_O2) is 0.000433174472214847, which has 20 chars, however, EDF+ can only save 8 chars, will be truncated to 0.000433, some loss of precision is to be expected.\n",
      "  warnings.warn('Physical maximum for channel {} ({}) is {}, which has {} chars, '\\\n"
     ]
    },
    {
     "name": "stdout",
     "output_type": "stream",
     "text": [
      "Extracting EDF parameters from C:\\Users\\naikh\\SleepResearchCode_experient\\Dataset_clean_for_jupyter\\sub-11\\eeg\\sub-11_task-Sleep_acq-psg_eeg.edf...\n",
      "EDF file detected\n",
      "Setting channel info structure...\n",
      "Creating raw.info structure...\n",
      "Reading 0 ... 7568127  =      0.000 ... 29562.996 secs...\n"
     ]
    },
    {
     "name": "stderr",
     "output_type": "stream",
     "text": [
      "C:\\Users\\naikh\\anaconda3\\envs\\PytorchEnvironment\\Lib\\site-packages\\pyedflib\\edfwriter.py:134: UserWarning: Physical minimum for channel 0 (PSG_F3) is 6.319396879530024e-05, which has 21 chars, however, EDF+ can only save 8 chars, will be truncated to 6.319396, some loss of precision is to be expected\n",
      "  warnings.warn('Physical minimum for channel {} ({}) is {}, which has {} chars, '\\\n",
      "C:\\Users\\naikh\\anaconda3\\envs\\PytorchEnvironment\\Lib\\site-packages\\pyedflib\\edfwriter.py:141: UserWarning: Physical maximum for channel 0 (PSG_F3) is 0.0013352249999999998, which has 21 chars, however, EDF+ can only save 8 chars, will be truncated to 0.001335, some loss of precision is to be expected.\n",
      "  warnings.warn('Physical maximum for channel {} ({}) is {}, which has {} chars, '\\\n",
      "C:\\Users\\naikh\\anaconda3\\envs\\PytorchEnvironment\\Lib\\site-packages\\pyedflib\\edfwriter.py:134: UserWarning: Physical minimum for channel 1 (PSG_F4) is -3.314974042877861e-05, which has 22 chars, however, EDF+ can only save 8 chars, will be truncated to -3.31497, some loss of precision is to be expected\n",
      "  warnings.warn('Physical minimum for channel {} ({}) is {}, which has {} chars, '\\\n",
      "C:\\Users\\naikh\\anaconda3\\envs\\PytorchEnvironment\\Lib\\site-packages\\pyedflib\\edfwriter.py:141: UserWarning: Physical maximum for channel 1 (PSG_F4) is 0.002304479, which has 11 chars, however, EDF+ can only save 8 chars, will be truncated to 0.002304, some loss of precision is to be expected.\n",
      "  warnings.warn('Physical maximum for channel {} ({}) is {}, which has {} chars, '\\\n",
      "C:\\Users\\naikh\\anaconda3\\envs\\PytorchEnvironment\\Lib\\site-packages\\pyedflib\\edfwriter.py:134: UserWarning: Physical minimum for channel 2 (PSG_C3) is -0.0031984365211108565, which has 22 chars, however, EDF+ can only save 8 chars, will be truncated to -0.00319, some loss of precision is to be expected\n",
      "  warnings.warn('Physical minimum for channel {} ({}) is {}, which has {} chars, '\\\n",
      "C:\\Users\\naikh\\anaconda3\\envs\\PytorchEnvironment\\Lib\\site-packages\\pyedflib\\edfwriter.py:141: UserWarning: Physical maximum for channel 2 (PSG_C3) is 0.0031997069999999987, which has 21 chars, however, EDF+ can only save 8 chars, will be truncated to 0.003199, some loss of precision is to be expected.\n",
      "  warnings.warn('Physical maximum for channel {} ({}) is {}, which has {} chars, '\\\n",
      "C:\\Users\\naikh\\anaconda3\\envs\\PytorchEnvironment\\Lib\\site-packages\\pyedflib\\edfwriter.py:134: UserWarning: Physical minimum for channel 4 (PSG_O1) is 0.0002637854596475166, which has 21 chars, however, EDF+ can only save 8 chars, will be truncated to 0.000263, some loss of precision is to be expected\n",
      "  warnings.warn('Physical minimum for channel {} ({}) is {}, which has {} chars, '\\\n",
      "C:\\Users\\naikh\\anaconda3\\envs\\PytorchEnvironment\\Lib\\site-packages\\pyedflib\\edfwriter.py:141: UserWarning: Physical maximum for channel 4 (PSG_O1) is 0.002647745, which has 11 chars, however, EDF+ can only save 8 chars, will be truncated to 0.002647, some loss of precision is to be expected.\n",
      "  warnings.warn('Physical maximum for channel {} ({}) is {}, which has {} chars, '\\\n",
      "C:\\Users\\naikh\\anaconda3\\envs\\PytorchEnvironment\\Lib\\site-packages\\pyedflib\\edfwriter.py:134: UserWarning: Physical minimum for channel 5 (PSG_O2) is 0.00011443790991073473, which has 22 chars, however, EDF+ can only save 8 chars, will be truncated to 0.000114, some loss of precision is to be expected\n",
      "  warnings.warn('Physical minimum for channel {} ({}) is {}, which has {} chars, '\\\n",
      "C:\\Users\\naikh\\anaconda3\\envs\\PytorchEnvironment\\Lib\\site-packages\\pyedflib\\edfwriter.py:141: UserWarning: Physical maximum for channel 5 (PSG_O2) is 0.0014494850000000001, which has 21 chars, however, EDF+ can only save 8 chars, will be truncated to 0.001449, some loss of precision is to be expected.\n",
      "  warnings.warn('Physical maximum for channel {} ({}) is {}, which has {} chars, '\\\n"
     ]
    },
    {
     "name": "stdout",
     "output_type": "stream",
     "text": [
      "Extracting EDF parameters from C:\\Users\\naikh\\SleepResearchCode_experient\\Dataset_clean_for_jupyter\\sub-12\\eeg\\sub-12_task-Sleep_acq-psg_eeg.edf...\n",
      "EDF file detected\n",
      "Setting channel info structure...\n",
      "Creating raw.info structure...\n",
      "Reading 0 ... 7783423  =      0.000 ... 30403.996 secs...\n"
     ]
    },
    {
     "name": "stderr",
     "output_type": "stream",
     "text": [
      "C:\\Users\\naikh\\anaconda3\\envs\\PytorchEnvironment\\Lib\\site-packages\\pyedflib\\edfwriter.py:134: UserWarning: Physical minimum for channel 1 (PSG_F4) is -0.003199907580254825, which has 21 chars, however, EDF+ can only save 8 chars, will be truncated to -0.00319, some loss of precision is to be expected\n",
      "  warnings.warn('Physical minimum for channel {} ({}) is {}, which has {} chars, '\\\n",
      "C:\\Users\\naikh\\anaconda3\\envs\\PytorchEnvironment\\Lib\\site-packages\\pyedflib\\edfwriter.py:141: UserWarning: Physical maximum for channel 1 (PSG_F4) is 0.0025318725957122145, which has 21 chars, however, EDF+ can only save 8 chars, will be truncated to 0.002531, some loss of precision is to be expected.\n",
      "  warnings.warn('Physical maximum for channel {} ({}) is {}, which has {} chars, '\\\n",
      "C:\\Users\\naikh\\anaconda3\\envs\\PytorchEnvironment\\Lib\\site-packages\\pyedflib\\edfwriter.py:134: UserWarning: Physical minimum for channel 3 (PSG_C4) is -0.0031999174408026245, which has 22 chars, however, EDF+ can only save 8 chars, will be truncated to -0.00319, some loss of precision is to be expected\n",
      "  warnings.warn('Physical minimum for channel {} ({}) is {}, which has {} chars, '\\\n",
      "C:\\Users\\naikh\\anaconda3\\envs\\PytorchEnvironment\\Lib\\site-packages\\pyedflib\\edfwriter.py:141: UserWarning: Physical maximum for channel 3 (PSG_C4) is 0.0013740272121919581, which has 21 chars, however, EDF+ can only save 8 chars, will be truncated to 0.001374, some loss of precision is to be expected.\n",
      "  warnings.warn('Physical maximum for channel {} ({}) is {}, which has {} chars, '\\\n",
      "C:\\Users\\naikh\\anaconda3\\envs\\PytorchEnvironment\\Lib\\site-packages\\pyedflib\\edfwriter.py:134: UserWarning: Physical minimum for channel 5 (PSG_O2) is -0.0005156351519035629, which has 22 chars, however, EDF+ can only save 8 chars, will be truncated to -0.00051, some loss of precision is to be expected\n",
      "  warnings.warn('Physical minimum for channel {} ({}) is {}, which has {} chars, '\\\n"
     ]
    },
    {
     "name": "stdout",
     "output_type": "stream",
     "text": [
      "Extracting EDF parameters from C:\\Users\\naikh\\SleepResearchCode_experient\\Dataset_clean_for_jupyter\\sub-13\\eeg\\sub-13_task-Sleep_acq-psg_eeg.edf...\n",
      "EDF file detected\n",
      "Setting channel info structure...\n",
      "Creating raw.info structure...\n",
      "Reading 0 ... 7663359  =      0.000 ... 29934.996 secs...\n"
     ]
    },
    {
     "name": "stderr",
     "output_type": "stream",
     "text": [
      "C:\\Users\\naikh\\anaconda3\\envs\\PytorchEnvironment\\Lib\\site-packages\\pyedflib\\edfwriter.py:134: UserWarning: Physical minimum for channel 0 (PSG_F3) is -0.0031999293265125507, which has 22 chars, however, EDF+ can only save 8 chars, will be truncated to -0.00319, some loss of precision is to be expected\n",
      "  warnings.warn('Physical minimum for channel {} ({}) is {}, which has {} chars, '\\\n",
      "C:\\Users\\naikh\\anaconda3\\envs\\PytorchEnvironment\\Lib\\site-packages\\pyedflib\\edfwriter.py:141: UserWarning: Physical maximum for channel 0 (PSG_F3) is 0.00015183148926527768, which has 22 chars, however, EDF+ can only save 8 chars, will be truncated to 0.000151, some loss of precision is to be expected.\n",
      "  warnings.warn('Physical maximum for channel {} ({}) is {}, which has {} chars, '\\\n",
      "C:\\Users\\naikh\\anaconda3\\envs\\PytorchEnvironment\\Lib\\site-packages\\pyedflib\\edfwriter.py:134: UserWarning: Physical minimum for channel 1 (PSG_F4) is -0.0031999321176317997, which has 22 chars, however, EDF+ can only save 8 chars, will be truncated to -0.00319, some loss of precision is to be expected\n",
      "  warnings.warn('Physical minimum for channel {} ({}) is {}, which has {} chars, '\\\n",
      "C:\\Users\\naikh\\anaconda3\\envs\\PytorchEnvironment\\Lib\\site-packages\\pyedflib\\edfwriter.py:141: UserWarning: Physical maximum for channel 1 (PSG_F4) is -0.0001076865990081634, which has 22 chars, however, EDF+ can only save 8 chars, will be truncated to -0.00010, some loss of precision is to be expected.\n",
      "  warnings.warn('Physical maximum for channel {} ({}) is {}, which has {} chars, '\\\n",
      "C:\\Users\\naikh\\anaconda3\\envs\\PytorchEnvironment\\Lib\\site-packages\\pyedflib\\edfwriter.py:134: UserWarning: Physical minimum for channel 2 (PSG_C3) is -0.003199914357610437, which has 21 chars, however, EDF+ can only save 8 chars, will be truncated to -0.00319, some loss of precision is to be expected\n",
      "  warnings.warn('Physical minimum for channel {} ({}) is {}, which has {} chars, '\\\n",
      "C:\\Users\\naikh\\anaconda3\\envs\\PytorchEnvironment\\Lib\\site-packages\\pyedflib\\edfwriter.py:141: UserWarning: Physical maximum for channel 2 (PSG_C3) is 0.00172203941295491, which has 19 chars, however, EDF+ can only save 8 chars, will be truncated to 0.001722, some loss of precision is to be expected.\n",
      "  warnings.warn('Physical maximum for channel {} ({}) is {}, which has {} chars, '\\\n",
      "C:\\Users\\naikh\\anaconda3\\envs\\PytorchEnvironment\\Lib\\site-packages\\pyedflib\\edfwriter.py:134: UserWarning: Physical minimum for channel 3 (PSG_C4) is -0.0031999370099076827, which has 22 chars, however, EDF+ can only save 8 chars, will be truncated to -0.00319, some loss of precision is to be expected\n",
      "  warnings.warn('Physical minimum for channel {} ({}) is {}, which has {} chars, '\\\n",
      "C:\\Users\\naikh\\anaconda3\\envs\\PytorchEnvironment\\Lib\\site-packages\\pyedflib\\edfwriter.py:141: UserWarning: Physical maximum for channel 3 (PSG_C4) is -0.0005373458076646069, which has 22 chars, however, EDF+ can only save 8 chars, will be truncated to -0.00053, some loss of precision is to be expected.\n",
      "  warnings.warn('Physical maximum for channel {} ({}) is {}, which has {} chars, '\\\n",
      "C:\\Users\\naikh\\anaconda3\\envs\\PytorchEnvironment\\Lib\\site-packages\\pyedflib\\edfwriter.py:134: UserWarning: Physical minimum for channel 5 (PSG_O2) is -0.0031999281015793087, which has 22 chars, however, EDF+ can only save 8 chars, will be truncated to -0.00319, some loss of precision is to be expected\n",
      "  warnings.warn('Physical minimum for channel {} ({}) is {}, which has {} chars, '\\\n",
      "C:\\Users\\naikh\\anaconda3\\envs\\PytorchEnvironment\\Lib\\site-packages\\pyedflib\\edfwriter.py:141: UserWarning: Physical maximum for channel 5 (PSG_O2) is 0.0002690268999313348, which has 21 chars, however, EDF+ can only save 8 chars, will be truncated to 0.000269, some loss of precision is to be expected.\n",
      "  warnings.warn('Physical maximum for channel {} ({}) is {}, which has {} chars, '\\\n"
     ]
    },
    {
     "name": "stdout",
     "output_type": "stream",
     "text": [
      "Extracting EDF parameters from C:\\Users\\naikh\\SleepResearchCode_experient\\Dataset_clean_for_jupyter\\sub-14\\eeg\\sub-14_task-Sleep_acq-psg_eeg.edf...\n",
      "EDF file detected\n",
      "Setting channel info structure...\n",
      "Creating raw.info structure...\n",
      "Reading 0 ... 8220927  =      0.000 ... 32112.996 secs...\n"
     ]
    },
    {
     "name": "stderr",
     "output_type": "stream",
     "text": [
      "C:\\Users\\naikh\\anaconda3\\envs\\PytorchEnvironment\\Lib\\site-packages\\pyedflib\\edfwriter.py:134: UserWarning: Physical minimum for channel 0 (PSG_F3) is -0.0031911229099565114, which has 22 chars, however, EDF+ can only save 8 chars, will be truncated to -0.00319, some loss of precision is to be expected\n",
      "  warnings.warn('Physical minimum for channel {} ({}) is {}, which has {} chars, '\\\n",
      "C:\\Users\\naikh\\anaconda3\\envs\\PytorchEnvironment\\Lib\\site-packages\\pyedflib\\edfwriter.py:141: UserWarning: Physical maximum for channel 0 (PSG_F3) is 0.0031984369999999997, which has 21 chars, however, EDF+ can only save 8 chars, will be truncated to 0.003198, some loss of precision is to be expected.\n",
      "  warnings.warn('Physical maximum for channel {} ({}) is {}, which has {} chars, '\\\n",
      "C:\\Users\\naikh\\anaconda3\\envs\\PytorchEnvironment\\Lib\\site-packages\\pyedflib\\edfwriter.py:134: UserWarning: Physical minimum for channel 1 (PSG_F4) is -0.003198922373601892, which has 21 chars, however, EDF+ can only save 8 chars, will be truncated to -0.00319, some loss of precision is to be expected\n",
      "  warnings.warn('Physical minimum for channel {} ({}) is {}, which has {} chars, '\\\n",
      "C:\\Users\\naikh\\anaconda3\\envs\\PytorchEnvironment\\Lib\\site-packages\\pyedflib\\edfwriter.py:141: UserWarning: Physical maximum for channel 1 (PSG_F4) is 0.0031988283736018924, which has 21 chars, however, EDF+ can only save 8 chars, will be truncated to 0.003198, some loss of precision is to be expected.\n",
      "  warnings.warn('Physical maximum for channel {} ({}) is {}, which has {} chars, '\\\n",
      "C:\\Users\\naikh\\anaconda3\\envs\\PytorchEnvironment\\Lib\\site-packages\\pyedflib\\edfwriter.py:134: UserWarning: Physical minimum for channel 2 (PSG_C3) is -0.0031997023482871747, which has 22 chars, however, EDF+ can only save 8 chars, will be truncated to -0.00319, some loss of precision is to be expected\n",
      "  warnings.warn('Physical minimum for channel {} ({}) is {}, which has {} chars, '\\\n",
      "C:\\Users\\naikh\\anaconda3\\envs\\PytorchEnvironment\\Lib\\site-packages\\pyedflib\\edfwriter.py:141: UserWarning: Physical maximum for channel 2 (PSG_C3) is 0.0031998049999999996, which has 21 chars, however, EDF+ can only save 8 chars, will be truncated to 0.003199, some loss of precision is to be expected.\n",
      "  warnings.warn('Physical maximum for channel {} ({}) is {}, which has {} chars, '\\\n",
      "C:\\Users\\naikh\\anaconda3\\envs\\PytorchEnvironment\\Lib\\site-packages\\pyedflib\\edfwriter.py:134: UserWarning: Physical minimum for channel 3 (PSG_C4) is -0.00319970236021973, which has 20 chars, however, EDF+ can only save 8 chars, will be truncated to -0.00319, some loss of precision is to be expected\n",
      "  warnings.warn('Physical minimum for channel {} ({}) is {}, which has {} chars, '\\\n",
      "C:\\Users\\naikh\\anaconda3\\envs\\PytorchEnvironment\\Lib\\site-packages\\pyedflib\\edfwriter.py:141: UserWarning: Physical maximum for channel 3 (PSG_C4) is 0.003198241881757839, which has 20 chars, however, EDF+ can only save 8 chars, will be truncated to 0.003198, some loss of precision is to be expected.\n",
      "  warnings.warn('Physical maximum for channel {} ({}) is {}, which has {} chars, '\\\n",
      "C:\\Users\\naikh\\anaconda3\\envs\\PytorchEnvironment\\Lib\\site-packages\\pyedflib\\edfwriter.py:134: UserWarning: Physical minimum for channel 4 (PSG_O1) is -0.00319902175616083, which has 20 chars, however, EDF+ can only save 8 chars, will be truncated to -0.00319, some loss of precision is to be expected\n",
      "  warnings.warn('Physical minimum for channel {} ({}) is {}, which has {} chars, '\\\n",
      "C:\\Users\\naikh\\anaconda3\\envs\\PytorchEnvironment\\Lib\\site-packages\\pyedflib\\edfwriter.py:141: UserWarning: Physical maximum for channel 4 (PSG_O1) is 0.0031999019999999993, which has 21 chars, however, EDF+ can only save 8 chars, will be truncated to 0.003199, some loss of precision is to be expected.\n",
      "  warnings.warn('Physical maximum for channel {} ({}) is {}, which has {} chars, '\\\n",
      "C:\\Users\\naikh\\anaconda3\\envs\\PytorchEnvironment\\Lib\\site-packages\\pyedflib\\edfwriter.py:134: UserWarning: Physical minimum for channel 5 (PSG_O2) is -0.003196191777706569, which has 21 chars, however, EDF+ can only save 8 chars, will be truncated to -0.00319, some loss of precision is to be expected\n",
      "  warnings.warn('Physical minimum for channel {} ({}) is {}, which has {} chars, '\\\n",
      "C:\\Users\\naikh\\anaconda3\\envs\\PytorchEnvironment\\Lib\\site-packages\\pyedflib\\edfwriter.py:141: UserWarning: Physical maximum for channel 5 (PSG_O2) is 0.003197852, which has 11 chars, however, EDF+ can only save 8 chars, will be truncated to 0.003197, some loss of precision is to be expected.\n",
      "  warnings.warn('Physical maximum for channel {} ({}) is {}, which has {} chars, '\\\n"
     ]
    },
    {
     "name": "stdout",
     "output_type": "stream",
     "text": [
      "Extracting EDF parameters from C:\\Users\\naikh\\SleepResearchCode_experient\\Dataset_clean_for_jupyter\\sub-15\\eeg\\sub-15_task-Sleep_acq-psg_eeg.edf...\n",
      "EDF file detected\n",
      "Setting channel info structure...\n",
      "Creating raw.info structure...\n",
      "Reading 0 ... 8403711  =      0.000 ... 32826.996 secs...\n",
      "Extracting EDF parameters from C:\\Users\\naikh\\SleepResearchCode_experient\\Dataset_clean_for_jupyter\\sub-16\\eeg\\sub-16_task-Sleep_acq-psg_eeg.edf...\n",
      "EDF file detected\n",
      "Setting channel info structure...\n",
      "Creating raw.info structure...\n",
      "Reading 0 ... 7898879  =      0.000 ... 30854.996 secs...\n"
     ]
    },
    {
     "name": "stderr",
     "output_type": "stream",
     "text": [
      "C:\\Users\\naikh\\anaconda3\\envs\\PytorchEnvironment\\Lib\\site-packages\\pyedflib\\edfwriter.py:134: UserWarning: Physical minimum for channel 4 (PSG_O1) is -0.002579751912108034, which has 21 chars, however, EDF+ can only save 8 chars, will be truncated to -0.00257, some loss of precision is to be expected\n",
      "  warnings.warn('Physical minimum for channel {} ({}) is {}, which has {} chars, '\\\n",
      "C:\\Users\\naikh\\anaconda3\\envs\\PytorchEnvironment\\Lib\\site-packages\\pyedflib\\edfwriter.py:134: UserWarning: Physical minimum for channel 5 (PSG_O2) is -0.0024186697898832686, which has 22 chars, however, EDF+ can only save 8 chars, will be truncated to -0.00241, some loss of precision is to be expected\n",
      "  warnings.warn('Physical minimum for channel {} ({}) is {}, which has {} chars, '\\\n"
     ]
    },
    {
     "name": "stdout",
     "output_type": "stream",
     "text": [
      "Extracting EDF parameters from C:\\Users\\naikh\\SleepResearchCode_experient\\Dataset_clean_for_jupyter\\sub-17\\eeg\\sub-17_task-Sleep_acq-psg_eeg.edf...\n",
      "EDF file detected\n",
      "Setting channel info structure...\n",
      "Creating raw.info structure...\n",
      "Reading 0 ... 7584767  =      0.000 ... 29627.996 secs...\n"
     ]
    },
    {
     "name": "stderr",
     "output_type": "stream",
     "text": [
      "C:\\Users\\naikh\\anaconda3\\envs\\PytorchEnvironment\\Lib\\site-packages\\pyedflib\\edfwriter.py:134: UserWarning: Physical minimum for channel 0 (PSG_F3) is -0.0031999445666330965, which has 22 chars, however, EDF+ can only save 8 chars, will be truncated to -0.00319, some loss of precision is to be expected\n",
      "  warnings.warn('Physical minimum for channel {} ({}) is {}, which has {} chars, '\\\n",
      "C:\\Users\\naikh\\anaconda3\\envs\\PytorchEnvironment\\Lib\\site-packages\\pyedflib\\edfwriter.py:141: UserWarning: Physical maximum for channel 0 (PSG_F3) is -0.001137878751201648, which has 21 chars, however, EDF+ can only save 8 chars, will be truncated to -0.00113, some loss of precision is to be expected.\n",
      "  warnings.warn('Physical maximum for channel {} ({}) is {}, which has {} chars, '\\\n",
      "C:\\Users\\naikh\\anaconda3\\envs\\PytorchEnvironment\\Lib\\site-packages\\pyedflib\\edfwriter.py:134: UserWarning: Physical minimum for channel 1 (PSG_F4) is -0.0031999380247241934, which has 22 chars, however, EDF+ can only save 8 chars, will be truncated to -0.00319, some loss of precision is to be expected\n",
      "  warnings.warn('Physical minimum for channel {} ({}) is {}, which has {} chars, '\\\n",
      "C:\\Users\\naikh\\anaconda3\\envs\\PytorchEnvironment\\Lib\\site-packages\\pyedflib\\edfwriter.py:141: UserWarning: Physical maximum for channel 1 (PSG_F4) is -0.0006224482791943237, which has 22 chars, however, EDF+ can only save 8 chars, will be truncated to -0.00062, some loss of precision is to be expected.\n",
      "  warnings.warn('Physical maximum for channel {} ({}) is {}, which has {} chars, '\\\n",
      "C:\\Users\\naikh\\anaconda3\\envs\\PytorchEnvironment\\Lib\\site-packages\\pyedflib\\edfwriter.py:134: UserWarning: Physical minimum for channel 2 (PSG_C3) is -0.0031999231079728385, which has 22 chars, however, EDF+ can only save 8 chars, will be truncated to -0.00319, some loss of precision is to be expected\n",
      "  warnings.warn('Physical minimum for channel {} ({}) is {}, which has {} chars, '\\\n",
      "C:\\Users\\naikh\\anaconda3\\envs\\PytorchEnvironment\\Lib\\site-packages\\pyedflib\\edfwriter.py:141: UserWarning: Physical maximum for channel 2 (PSG_C3) is 0.000767628601510643, which has 20 chars, however, EDF+ can only save 8 chars, will be truncated to 0.000767, some loss of precision is to be expected.\n",
      "  warnings.warn('Physical maximum for channel {} ({}) is {}, which has {} chars, '\\\n",
      "C:\\Users\\naikh\\anaconda3\\envs\\PytorchEnvironment\\Lib\\site-packages\\pyedflib\\edfwriter.py:134: UserWarning: Physical minimum for channel 4 (PSG_O1) is -0.0031999042109559775, which has 22 chars, however, EDF+ can only save 8 chars, will be truncated to -0.00319, some loss of precision is to be expected\n",
      "  warnings.warn('Physical minimum for channel {} ({}) is {}, which has {} chars, '\\\n",
      "C:\\Users\\naikh\\anaconda3\\envs\\PytorchEnvironment\\Lib\\site-packages\\pyedflib\\edfwriter.py:141: UserWarning: Physical maximum for channel 4 (PSG_O1) is 0.002957415538796063, which has 20 chars, however, EDF+ can only save 8 chars, will be truncated to 0.002957, some loss of precision is to be expected.\n",
      "  warnings.warn('Physical maximum for channel {} ({}) is {}, which has {} chars, '\\\n",
      "C:\\Users\\naikh\\anaconda3\\envs\\PytorchEnvironment\\Lib\\site-packages\\pyedflib\\edfwriter.py:134: UserWarning: Physical minimum for channel 5 (PSG_O2) is -0.0031999067189288164, which has 22 chars, however, EDF+ can only save 8 chars, will be truncated to -0.00319, some loss of precision is to be expected\n",
      "  warnings.warn('Physical minimum for channel {} ({}) is {}, which has {} chars, '\\\n",
      "C:\\Users\\naikh\\anaconda3\\envs\\PytorchEnvironment\\Lib\\site-packages\\pyedflib\\edfwriter.py:141: UserWarning: Physical maximum for channel 5 (PSG_O2) is 0.0026392084939345383, which has 21 chars, however, EDF+ can only save 8 chars, will be truncated to 0.002639, some loss of precision is to be expected.\n",
      "  warnings.warn('Physical maximum for channel {} ({}) is {}, which has {} chars, '\\\n"
     ]
    },
    {
     "name": "stdout",
     "output_type": "stream",
     "text": [
      "Extracting EDF parameters from C:\\Users\\naikh\\SleepResearchCode_experient\\Dataset_clean_for_jupyter\\sub-18\\eeg\\sub-18_task-Sleep_acq-psg_eeg.edf...\n",
      "EDF file detected\n",
      "Setting channel info structure...\n",
      "Creating raw.info structure...\n",
      "Reading 0 ... 8043775  =      0.000 ... 31420.996 secs...\n"
     ]
    },
    {
     "name": "stderr",
     "output_type": "stream",
     "text": [
      "C:\\Users\\naikh\\anaconda3\\envs\\PytorchEnvironment\\Lib\\site-packages\\pyedflib\\edfwriter.py:134: UserWarning: Physical minimum for channel 0 (PSG_F3) is -0.0003861174866376745, which has 22 chars, however, EDF+ can only save 8 chars, will be truncated to -0.00038, some loss of precision is to be expected\n",
      "  warnings.warn('Physical minimum for channel {} ({}) is {}, which has {} chars, '\\\n",
      "C:\\Users\\naikh\\anaconda3\\envs\\PytorchEnvironment\\Lib\\site-packages\\pyedflib\\edfwriter.py:141: UserWarning: Physical maximum for channel 0 (PSG_F3) is 0.0005906828, which has 12 chars, however, EDF+ can only save 8 chars, will be truncated to 0.000590, some loss of precision is to be expected.\n",
      "  warnings.warn('Physical maximum for channel {} ({}) is {}, which has {} chars, '\\\n",
      "C:\\Users\\naikh\\anaconda3\\envs\\PytorchEnvironment\\Lib\\site-packages\\pyedflib\\edfwriter.py:134: UserWarning: Physical minimum for channel 1 (PSG_F4) is -0.00029737682703593504, which has 23 chars, however, EDF+ can only save 8 chars, will be truncated to -0.00029, some loss of precision is to be expected\n",
      "  warnings.warn('Physical minimum for channel {} ({}) is {}, which has {} chars, '\\\n",
      "C:\\Users\\naikh\\anaconda3\\envs\\PytorchEnvironment\\Lib\\site-packages\\pyedflib\\edfwriter.py:141: UserWarning: Physical maximum for channel 1 (PSG_F4) is 0.0006924421999999999, which has 21 chars, however, EDF+ can only save 8 chars, will be truncated to 0.000692, some loss of precision is to be expected.\n",
      "  warnings.warn('Physical maximum for channel {} ({}) is {}, which has {} chars, '\\\n",
      "C:\\Users\\naikh\\anaconda3\\envs\\PytorchEnvironment\\Lib\\site-packages\\pyedflib\\edfwriter.py:134: UserWarning: Physical minimum for channel 2 (PSG_C3) is -0.00032446119241626614, which has 23 chars, however, EDF+ can only save 8 chars, will be truncated to -0.00032, some loss of precision is to be expected\n",
      "  warnings.warn('Physical minimum for channel {} ({}) is {}, which has {} chars, '\\\n",
      "C:\\Users\\naikh\\anaconda3\\envs\\PytorchEnvironment\\Lib\\site-packages\\pyedflib\\edfwriter.py:141: UserWarning: Physical maximum for channel 2 (PSG_C3) is 0.0011116869999999999, which has 21 chars, however, EDF+ can only save 8 chars, will be truncated to 0.001111, some loss of precision is to be expected.\n",
      "  warnings.warn('Physical maximum for channel {} ({}) is {}, which has {} chars, '\\\n",
      "C:\\Users\\naikh\\anaconda3\\envs\\PytorchEnvironment\\Lib\\site-packages\\pyedflib\\edfwriter.py:134: UserWarning: Physical minimum for channel 3 (PSG_C4) is 8.526201037613419e-06, which has 21 chars, however, EDF+ can only save 8 chars, will be truncated to 8.526201, some loss of precision is to be expected\n",
      "  warnings.warn('Physical minimum for channel {} ({}) is {}, which has {} chars, '\\\n",
      "C:\\Users\\naikh\\anaconda3\\envs\\PytorchEnvironment\\Lib\\site-packages\\pyedflib\\edfwriter.py:141: UserWarning: Physical maximum for channel 3 (PSG_C4) is 0.001979767, which has 11 chars, however, EDF+ can only save 8 chars, will be truncated to 0.001979, some loss of precision is to be expected.\n",
      "  warnings.warn('Physical maximum for channel {} ({}) is {}, which has {} chars, '\\\n",
      "C:\\Users\\naikh\\anaconda3\\envs\\PytorchEnvironment\\Lib\\site-packages\\pyedflib\\edfwriter.py:134: UserWarning: Physical minimum for channel 4 (PSG_O1) is -0.0031996123913939118, which has 22 chars, however, EDF+ can only save 8 chars, will be truncated to -0.00319, some loss of precision is to be expected\n",
      "  warnings.warn('Physical minimum for channel {} ({}) is {}, which has {} chars, '\\\n",
      "C:\\Users\\naikh\\anaconda3\\envs\\PytorchEnvironment\\Lib\\site-packages\\pyedflib\\edfwriter.py:141: UserWarning: Physical maximum for channel 4 (PSG_O1) is 0.003194434567635615, which has 20 chars, however, EDF+ can only save 8 chars, will be truncated to 0.003194, some loss of precision is to be expected.\n",
      "  warnings.warn('Physical maximum for channel {} ({}) is {}, which has {} chars, '\\\n",
      "C:\\Users\\naikh\\anaconda3\\envs\\PytorchEnvironment\\Lib\\site-packages\\pyedflib\\edfwriter.py:134: UserWarning: Physical minimum for channel 5 (PSG_O2) is -0.003199122375020981, which has 21 chars, however, EDF+ can only save 8 chars, will be truncated to -0.00319, some loss of precision is to be expected\n",
      "  warnings.warn('Physical minimum for channel {} ({}) is {}, which has {} chars, '\\\n",
      "C:\\Users\\naikh\\anaconda3\\envs\\PytorchEnvironment\\Lib\\site-packages\\pyedflib\\edfwriter.py:141: UserWarning: Physical maximum for channel 5 (PSG_O2) is 0.0031980472501258865, which has 21 chars, however, EDF+ can only save 8 chars, will be truncated to 0.003198, some loss of precision is to be expected.\n",
      "  warnings.warn('Physical maximum for channel {} ({}) is {}, which has {} chars, '\\\n"
     ]
    },
    {
     "name": "stdout",
     "output_type": "stream",
     "text": [
      "Extracting EDF parameters from C:\\Users\\naikh\\SleepResearchCode_experient\\Dataset_clean_for_jupyter\\sub-19\\eeg\\sub-19_task-Sleep_acq-psg_eeg.edf...\n",
      "EDF file detected\n",
      "Setting channel info structure...\n",
      "Creating raw.info structure...\n",
      "Reading 0 ... 7776511  =      0.000 ... 30376.996 secs...\n"
     ]
    },
    {
     "name": "stderr",
     "output_type": "stream",
     "text": [
      "C:\\Users\\naikh\\anaconda3\\envs\\PytorchEnvironment\\Lib\\site-packages\\pyedflib\\edfwriter.py:134: UserWarning: Physical minimum for channel 0 (PSG_F3) is -0.0006932022241443503, which has 22 chars, however, EDF+ can only save 8 chars, will be truncated to -0.00069, some loss of precision is to be expected\n",
      "  warnings.warn('Physical minimum for channel {} ({}) is {}, which has {} chars, '\\\n",
      "C:\\Users\\naikh\\anaconda3\\envs\\PytorchEnvironment\\Lib\\site-packages\\pyedflib\\edfwriter.py:141: UserWarning: Physical maximum for channel 0 (PSG_F3) is 0.0006438695179003587, which has 21 chars, however, EDF+ can only save 8 chars, will be truncated to 0.000643, some loss of precision is to be expected.\n",
      "  warnings.warn('Physical maximum for channel {} ({}) is {}, which has {} chars, '\\\n",
      "C:\\Users\\naikh\\anaconda3\\envs\\PytorchEnvironment\\Lib\\site-packages\\pyedflib\\edfwriter.py:134: UserWarning: Physical minimum for channel 1 (PSG_F4) is 9.258020926222627e-05, which has 21 chars, however, EDF+ can only save 8 chars, will be truncated to 9.258020, some loss of precision is to be expected\n",
      "  warnings.warn('Physical minimum for channel {} ({}) is {}, which has {} chars, '\\\n",
      "C:\\Users\\naikh\\anaconda3\\envs\\PytorchEnvironment\\Lib\\site-packages\\pyedflib\\edfwriter.py:141: UserWarning: Physical maximum for channel 1 (PSG_F4) is 0.0019252739999999998, which has 21 chars, however, EDF+ can only save 8 chars, will be truncated to 0.001925, some loss of precision is to be expected.\n",
      "  warnings.warn('Physical maximum for channel {} ({}) is {}, which has {} chars, '\\\n",
      "C:\\Users\\naikh\\anaconda3\\envs\\PytorchEnvironment\\Lib\\site-packages\\pyedflib\\edfwriter.py:134: UserWarning: Physical minimum for channel 3 (PSG_C4) is -0.0003498591925841155, which has 22 chars, however, EDF+ can only save 8 chars, will be truncated to -0.00034, some loss of precision is to be expected\n",
      "  warnings.warn('Physical minimum for channel {} ({}) is {}, which has {} chars, '\\\n",
      "C:\\Users\\naikh\\anaconda3\\envs\\PytorchEnvironment\\Lib\\site-packages\\pyedflib\\edfwriter.py:141: UserWarning: Physical maximum for channel 3 (PSG_C4) is 0.0014058319999999997, which has 21 chars, however, EDF+ can only save 8 chars, will be truncated to 0.001405, some loss of precision is to be expected.\n",
      "  warnings.warn('Physical maximum for channel {} ({}) is {}, which has {} chars, '\\\n",
      "C:\\Users\\naikh\\anaconda3\\envs\\PytorchEnvironment\\Lib\\site-packages\\pyedflib\\edfwriter.py:134: UserWarning: Physical minimum for channel 4 (PSG_O1) is -0.00012580524795910582, which has 23 chars, however, EDF+ can only save 8 chars, will be truncated to -0.00012, some loss of precision is to be expected\n",
      "  warnings.warn('Physical minimum for channel {} ({}) is {}, which has {} chars, '\\\n",
      "C:\\Users\\naikh\\anaconda3\\envs\\PytorchEnvironment\\Lib\\site-packages\\pyedflib\\edfwriter.py:141: UserWarning: Physical maximum for channel 4 (PSG_O1) is 0.001173797, which has 11 chars, however, EDF+ can only save 8 chars, will be truncated to 0.001173, some loss of precision is to be expected.\n",
      "  warnings.warn('Physical maximum for channel {} ({}) is {}, which has {} chars, '\\\n",
      "C:\\Users\\naikh\\anaconda3\\envs\\PytorchEnvironment\\Lib\\site-packages\\pyedflib\\edfwriter.py:134: UserWarning: Physical minimum for channel 5 (PSG_O2) is -0.0008720357207598992, which has 22 chars, however, EDF+ can only save 8 chars, will be truncated to -0.00087, some loss of precision is to be expected\n",
      "  warnings.warn('Physical minimum for channel {} ({}) is {}, which has {} chars, '\\\n"
     ]
    },
    {
     "name": "stdout",
     "output_type": "stream",
     "text": [
      "Extracting EDF parameters from C:\\Users\\naikh\\SleepResearchCode_experient\\Dataset_clean_for_jupyter\\sub-20\\eeg\\sub-20_task-Sleep_acq-psg_eeg.edf...\n",
      "EDF file detected\n",
      "Setting channel info structure...\n",
      "Creating raw.info structure...\n",
      "Reading 0 ... 6077183  =      0.000 ... 23738.996 secs...\n"
     ]
    },
    {
     "name": "stderr",
     "output_type": "stream",
     "text": [
      "C:\\Users\\naikh\\AppData\\Local\\Temp\\ipykernel_16604\\791336486.py:6: RuntimeWarning: Number of records from the header does not match the file size (perhaps the recording was not stopped before exiting). Inferring from the file size.\n",
      "  raw = mne.io.read_raw_edf(file_path, preload=True)\n",
      "C:\\Users\\naikh\\anaconda3\\envs\\PytorchEnvironment\\Lib\\site-packages\\pyedflib\\edfwriter.py:134: UserWarning: Physical minimum for channel 0 (PSG_F3) is -0.000424052898970016, which has 21 chars, however, EDF+ can only save 8 chars, will be truncated to -0.00042, some loss of precision is to be expected\n",
      "  warnings.warn('Physical minimum for channel {} ({}) is {}, which has {} chars, '\\\n",
      "C:\\Users\\naikh\\anaconda3\\envs\\PytorchEnvironment\\Lib\\site-packages\\pyedflib\\edfwriter.py:141: UserWarning: Physical maximum for channel 0 (PSG_F3) is 0.001526342, which has 11 chars, however, EDF+ can only save 8 chars, will be truncated to 0.001526, some loss of precision is to be expected.\n",
      "  warnings.warn('Physical maximum for channel {} ({}) is {}, which has {} chars, '\\\n",
      "C:\\Users\\naikh\\anaconda3\\envs\\PytorchEnvironment\\Lib\\site-packages\\pyedflib\\edfwriter.py:134: UserWarning: Physical minimum for channel 1 (PSG_F4) is -0.0007053733602655069, which has 22 chars, however, EDF+ can only save 8 chars, will be truncated to -0.00070, some loss of precision is to be expected\n",
      "  warnings.warn('Physical minimum for channel {} ({}) is {}, which has {} chars, '\\\n",
      "C:\\Users\\naikh\\anaconda3\\envs\\PytorchEnvironment\\Lib\\site-packages\\pyedflib\\edfwriter.py:141: UserWarning: Physical maximum for channel 1 (PSG_F4) is 0.0009713585822842756, which has 21 chars, however, EDF+ can only save 8 chars, will be truncated to 0.000971, some loss of precision is to be expected.\n",
      "  warnings.warn('Physical maximum for channel {} ({}) is {}, which has {} chars, '\\\n",
      "C:\\Users\\naikh\\anaconda3\\envs\\PytorchEnvironment\\Lib\\site-packages\\pyedflib\\edfwriter.py:134: UserWarning: Physical minimum for channel 2 (PSG_C3) is -0.0008998409206897078, which has 22 chars, however, EDF+ can only save 8 chars, will be truncated to -0.00089, some loss of precision is to be expected\n",
      "  warnings.warn('Physical minimum for channel {} ({}) is {}, which has {} chars, '\\\n",
      "C:\\Users\\naikh\\anaconda3\\envs\\PytorchEnvironment\\Lib\\site-packages\\pyedflib\\edfwriter.py:141: UserWarning: Physical maximum for channel 2 (PSG_C3) is 0.0006047527279987793, which has 21 chars, however, EDF+ can only save 8 chars, will be truncated to 0.000604, some loss of precision is to be expected.\n",
      "  warnings.warn('Physical maximum for channel {} ({}) is {}, which has {} chars, '\\\n",
      "C:\\Users\\naikh\\anaconda3\\envs\\PytorchEnvironment\\Lib\\site-packages\\pyedflib\\edfwriter.py:134: UserWarning: Physical minimum for channel 3 (PSG_C4) is -0.0019785316959029524, which has 22 chars, however, EDF+ can only save 8 chars, will be truncated to -0.00197, some loss of precision is to be expected\n",
      "  warnings.warn('Physical minimum for channel {} ({}) is {}, which has {} chars, '\\\n",
      "C:\\Users\\naikh\\anaconda3\\envs\\PytorchEnvironment\\Lib\\site-packages\\pyedflib\\edfwriter.py:141: UserWarning: Physical maximum for channel 3 (PSG_C4) is 0.0010782355040970472, which has 21 chars, however, EDF+ can only save 8 chars, will be truncated to 0.001078, some loss of precision is to be expected.\n",
      "  warnings.warn('Physical maximum for channel {} ({}) is {}, which has {} chars, '\\\n",
      "C:\\Users\\naikh\\anaconda3\\envs\\PytorchEnvironment\\Lib\\site-packages\\pyedflib\\edfwriter.py:134: UserWarning: Physical minimum for channel 4 (PSG_O1) is -0.0028776847196154724, which has 22 chars, however, EDF+ can only save 8 chars, will be truncated to -0.00287, some loss of precision is to be expected\n",
      "  warnings.warn('Physical minimum for channel {} ({}) is {}, which has {} chars, '\\\n",
      "C:\\Users\\naikh\\anaconda3\\envs\\PytorchEnvironment\\Lib\\site-packages\\pyedflib\\edfwriter.py:141: UserWarning: Physical maximum for channel 4 (PSG_O1) is 0.0023834257839322496, which has 21 chars, however, EDF+ can only save 8 chars, will be truncated to 0.002383, some loss of precision is to be expected.\n",
      "  warnings.warn('Physical maximum for channel {} ({}) is {}, which has {} chars, '\\\n",
      "C:\\Users\\naikh\\anaconda3\\envs\\PytorchEnvironment\\Lib\\site-packages\\pyedflib\\edfwriter.py:134: UserWarning: Physical minimum for channel 5 (PSG_O2) is -0.001138646142366674, which has 21 chars, however, EDF+ can only save 8 chars, will be truncated to -0.00113, some loss of precision is to be expected\n",
      "  warnings.warn('Physical minimum for channel {} ({}) is {}, which has {} chars, '\\\n",
      "C:\\Users\\naikh\\anaconda3\\envs\\PytorchEnvironment\\Lib\\site-packages\\pyedflib\\edfwriter.py:141: UserWarning: Physical maximum for channel 5 (PSG_O2) is 0.0009483126608377204, which has 21 chars, however, EDF+ can only save 8 chars, will be truncated to 0.000948, some loss of precision is to be expected.\n",
      "  warnings.warn('Physical maximum for channel {} ({}) is {}, which has {} chars, '\\\n"
     ]
    },
    {
     "name": "stdout",
     "output_type": "stream",
     "text": [
      "Extracting EDF parameters from C:\\Users\\naikh\\SleepResearchCode_experient\\Dataset_clean_for_jupyter\\sub-21\\eeg\\sub-21_task-Sleep_acq-psg_eeg.edf...\n",
      "EDF file detected\n",
      "Setting channel info structure...\n",
      "Creating raw.info structure...\n",
      "Reading 0 ... 8012543  =      0.000 ... 31298.996 secs...\n"
     ]
    },
    {
     "name": "stderr",
     "output_type": "stream",
     "text": [
      "C:\\Users\\naikh\\anaconda3\\envs\\PytorchEnvironment\\Lib\\site-packages\\pyedflib\\edfwriter.py:134: UserWarning: Physical minimum for channel 0 (PSG_F3) is -0.0004626214378515297, which has 22 chars, however, EDF+ can only save 8 chars, will be truncated to -0.00046, some loss of precision is to be expected\n",
      "  warnings.warn('Physical minimum for channel {} ({}) is {}, which has {} chars, '\\\n",
      "C:\\Users\\naikh\\anaconda3\\envs\\PytorchEnvironment\\Lib\\site-packages\\pyedflib\\edfwriter.py:141: UserWarning: Physical maximum for channel 0 (PSG_F3) is 0.0005628504, which has 12 chars, however, EDF+ can only save 8 chars, will be truncated to 0.000562, some loss of precision is to be expected.\n",
      "  warnings.warn('Physical maximum for channel {} ({}) is {}, which has {} chars, '\\\n",
      "C:\\Users\\naikh\\anaconda3\\envs\\PytorchEnvironment\\Lib\\site-packages\\pyedflib\\edfwriter.py:134: UserWarning: Physical minimum for channel 1 (PSG_F4) is -0.0004326216976577401, which has 22 chars, however, EDF+ can only save 8 chars, will be truncated to -0.00043, some loss of precision is to be expected\n",
      "  warnings.warn('Physical minimum for channel {} ({}) is {}, which has {} chars, '\\\n",
      "C:\\Users\\naikh\\anaconda3\\envs\\PytorchEnvironment\\Lib\\site-packages\\pyedflib\\edfwriter.py:141: UserWarning: Physical maximum for channel 1 (PSG_F4) is 0.002312389, which has 11 chars, however, EDF+ can only save 8 chars, will be truncated to 0.002312, some loss of precision is to be expected.\n",
      "  warnings.warn('Physical maximum for channel {} ({}) is {}, which has {} chars, '\\\n",
      "C:\\Users\\naikh\\anaconda3\\envs\\PytorchEnvironment\\Lib\\site-packages\\pyedflib\\edfwriter.py:134: UserWarning: Physical minimum for channel 2 (PSG_C3) is -0.003199926727641718, which has 21 chars, however, EDF+ can only save 8 chars, will be truncated to -0.00319, some loss of precision is to be expected\n",
      "  warnings.warn('Physical minimum for channel {} ({}) is {}, which has {} chars, '\\\n",
      "C:\\Users\\naikh\\anaconda3\\envs\\PytorchEnvironment\\Lib\\site-packages\\pyedflib\\edfwriter.py:141: UserWarning: Physical maximum for channel 2 (PSG_C3) is 0.00040287512907606626, which has 22 chars, however, EDF+ can only save 8 chars, will be truncated to 0.000402, some loss of precision is to be expected.\n",
      "  warnings.warn('Physical maximum for channel {} ({}) is {}, which has {} chars, '\\\n",
      "C:\\Users\\naikh\\anaconda3\\envs\\PytorchEnvironment\\Lib\\site-packages\\pyedflib\\edfwriter.py:134: UserWarning: Physical minimum for channel 4 (PSG_O1) is -0.0001560687730220493, which has 22 chars, however, EDF+ can only save 8 chars, will be truncated to -0.00015, some loss of precision is to be expected\n",
      "  warnings.warn('Physical minimum for channel {} ({}) is {}, which has {} chars, '\\\n",
      "C:\\Users\\naikh\\anaconda3\\envs\\PytorchEnvironment\\Lib\\site-packages\\pyedflib\\edfwriter.py:141: UserWarning: Physical maximum for channel 4 (PSG_O1) is 0.0013214560000000001, which has 21 chars, however, EDF+ can only save 8 chars, will be truncated to 0.001321, some loss of precision is to be expected.\n",
      "  warnings.warn('Physical maximum for channel {} ({}) is {}, which has {} chars, '\\\n"
     ]
    },
    {
     "name": "stdout",
     "output_type": "stream",
     "text": [
      "Extracting EDF parameters from C:\\Users\\naikh\\SleepResearchCode_experient\\Dataset_clean_for_jupyter\\sub-22\\eeg\\sub-22_task-Sleep_acq-psg_eeg.edf...\n",
      "EDF file detected\n",
      "Setting channel info structure...\n",
      "Creating raw.info structure...\n",
      "Reading 0 ... 7945471  =      0.000 ... 31036.996 secs...\n"
     ]
    },
    {
     "name": "stderr",
     "output_type": "stream",
     "text": [
      "C:\\Users\\naikh\\anaconda3\\envs\\PytorchEnvironment\\Lib\\site-packages\\pyedflib\\edfwriter.py:134: UserWarning: Physical minimum for channel 0 (PSG_F3) is -0.0006340682085145342, which has 22 chars, however, EDF+ can only save 8 chars, will be truncated to -0.00063, some loss of precision is to be expected\n",
      "  warnings.warn('Physical minimum for channel {} ({}) is {}, which has {} chars, '\\\n",
      "C:\\Users\\naikh\\anaconda3\\envs\\PytorchEnvironment\\Lib\\site-packages\\pyedflib\\edfwriter.py:141: UserWarning: Physical maximum for channel 0 (PSG_F3) is 0.0021155110000000005, which has 21 chars, however, EDF+ can only save 8 chars, will be truncated to 0.002115, some loss of precision is to be expected.\n",
      "  warnings.warn('Physical maximum for channel {} ({}) is {}, which has {} chars, '\\\n",
      "C:\\Users\\naikh\\anaconda3\\envs\\PytorchEnvironment\\Lib\\site-packages\\pyedflib\\edfwriter.py:134: UserWarning: Physical minimum for channel 1 (PSG_F4) is -0.0006297342023346302, which has 22 chars, however, EDF+ can only save 8 chars, will be truncated to -0.00062, some loss of precision is to be expected\n",
      "  warnings.warn('Physical minimum for channel {} ({}) is {}, which has {} chars, '\\\n",
      "C:\\Users\\naikh\\anaconda3\\envs\\PytorchEnvironment\\Lib\\site-packages\\pyedflib\\edfwriter.py:141: UserWarning: Physical maximum for channel 1 (PSG_F4) is 0.002116683, which has 11 chars, however, EDF+ can only save 8 chars, will be truncated to 0.002116, some loss of precision is to be expected.\n",
      "  warnings.warn('Physical maximum for channel {} ({}) is {}, which has {} chars, '\\\n",
      "C:\\Users\\naikh\\anaconda3\\envs\\PytorchEnvironment\\Lib\\site-packages\\pyedflib\\edfwriter.py:134: UserWarning: Physical minimum for channel 2 (PSG_C3) is -0.0016372552489814602, which has 22 chars, however, EDF+ can only save 8 chars, will be truncated to -0.00163, some loss of precision is to be expected\n",
      "  warnings.warn('Physical minimum for channel {} ({}) is {}, which has {} chars, '\\\n",
      "C:\\Users\\naikh\\anaconda3\\envs\\PytorchEnvironment\\Lib\\site-packages\\pyedflib\\edfwriter.py:141: UserWarning: Physical maximum for channel 2 (PSG_C3) is 0.0021192220000000005, which has 21 chars, however, EDF+ can only save 8 chars, will be truncated to 0.002119, some loss of precision is to be expected.\n",
      "  warnings.warn('Physical maximum for channel {} ({}) is {}, which has {} chars, '\\\n",
      "C:\\Users\\naikh\\anaconda3\\envs\\PytorchEnvironment\\Lib\\site-packages\\pyedflib\\edfwriter.py:134: UserWarning: Physical minimum for channel 3 (PSG_C4) is -0.0031994170445410848, which has 22 chars, however, EDF+ can only save 8 chars, will be truncated to -0.00319, some loss of precision is to be expected\n",
      "  warnings.warn('Physical minimum for channel {} ({}) is {}, which has {} chars, '\\\n",
      "C:\\Users\\naikh\\anaconda3\\envs\\PytorchEnvironment\\Lib\\site-packages\\pyedflib\\edfwriter.py:141: UserWarning: Physical maximum for channel 3 (PSG_C4) is 0.0031999019999999997, which has 21 chars, however, EDF+ can only save 8 chars, will be truncated to 0.003199, some loss of precision is to be expected.\n",
      "  warnings.warn('Physical maximum for channel {} ({}) is {}, which has {} chars, '\\\n",
      "C:\\Users\\naikh\\anaconda3\\envs\\PytorchEnvironment\\Lib\\site-packages\\pyedflib\\edfwriter.py:134: UserWarning: Physical minimum for channel 5 (PSG_O2) is -0.003199704687571527, which has 21 chars, however, EDF+ can only save 8 chars, will be truncated to -0.00319, some loss of precision is to be expected\n",
      "  warnings.warn('Physical minimum for channel {} ({}) is {}, which has {} chars, '\\\n",
      "C:\\Users\\naikh\\anaconda3\\envs\\PytorchEnvironment\\Lib\\site-packages\\pyedflib\\edfwriter.py:141: UserWarning: Physical maximum for channel 5 (PSG_O2) is 0.0031999999999999993, which has 21 chars, however, EDF+ can only save 8 chars, will be truncated to 0.003199, some loss of precision is to be expected.\n",
      "  warnings.warn('Physical maximum for channel {} ({}) is {}, which has {} chars, '\\\n"
     ]
    },
    {
     "name": "stdout",
     "output_type": "stream",
     "text": [
      "Extracting EDF parameters from C:\\Users\\naikh\\SleepResearchCode_experient\\Dataset_clean_for_jupyter\\sub-23\\eeg\\sub-23_task-Sleep_acq-psg_eeg.edf...\n",
      "EDF file detected\n",
      "Setting channel info structure...\n",
      "Creating raw.info structure...\n",
      "Reading 0 ... 8601087  =      0.000 ... 33597.996 secs...\n"
     ]
    },
    {
     "name": "stderr",
     "output_type": "stream",
     "text": [
      "C:\\Users\\naikh\\AppData\\Local\\Temp\\ipykernel_16604\\791336486.py:6: RuntimeWarning: Physical range is not defined in following channels:\n",
      "PSG_BEAT, PSG_SPO2\n",
      "  raw = mne.io.read_raw_edf(file_path, preload=True)\n",
      "C:\\Users\\naikh\\AppData\\Local\\Temp\\ipykernel_16604\\791336486.py:6: RuntimeWarning: Channels contain different highpass filters. Highest filter setting will be stored.\n",
      "  raw = mne.io.read_raw_edf(file_path, preload=True)\n",
      "C:\\Users\\naikh\\anaconda3\\envs\\PytorchEnvironment\\Lib\\site-packages\\pyedflib\\edfwriter.py:134: UserWarning: Physical minimum for channel 0 (PSG_F3) is -0.002208242171927977, which has 21 chars, however, EDF+ can only save 8 chars, will be truncated to -0.00220, some loss of precision is to be expected\n",
      "  warnings.warn('Physical minimum for channel {} ({}) is {}, which has {} chars, '\\\n",
      "C:\\Users\\naikh\\anaconda3\\envs\\PytorchEnvironment\\Lib\\site-packages\\pyedflib\\edfwriter.py:141: UserWarning: Physical maximum for channel 0 (PSG_F3) is 1.619362977035166e-05, which has 21 chars, however, EDF+ can only save 8 chars, will be truncated to 1.619362, some loss of precision is to be expected.\n",
      "  warnings.warn('Physical maximum for channel {} ({}) is {}, which has {} chars, '\\\n",
      "C:\\Users\\naikh\\anaconda3\\envs\\PytorchEnvironment\\Lib\\site-packages\\pyedflib\\edfwriter.py:134: UserWarning: Physical minimum for channel 1 (PSG_F4) is -0.0013381298715999083, which has 22 chars, however, EDF+ can only save 8 chars, will be truncated to -0.00133, some loss of precision is to be expected\n",
      "  warnings.warn('Physical minimum for channel {} ({}) is {}, which has {} chars, '\\\n",
      "C:\\Users\\naikh\\anaconda3\\envs\\PytorchEnvironment\\Lib\\site-packages\\pyedflib\\edfwriter.py:141: UserWarning: Physical maximum for channel 1 (PSG_F4) is 0.00011851801602655063, which has 22 chars, however, EDF+ can only save 8 chars, will be truncated to 0.000118, some loss of precision is to be expected.\n",
      "  warnings.warn('Physical maximum for channel {} ({}) is {}, which has {} chars, '\\\n",
      "C:\\Users\\naikh\\anaconda3\\envs\\PytorchEnvironment\\Lib\\site-packages\\pyedflib\\edfwriter.py:134: UserWarning: Physical minimum for channel 2 (PSG_C3) is -0.0031999023437552453, which has 22 chars, however, EDF+ can only save 8 chars, will be truncated to -0.00319, some loss of precision is to be expected\n",
      "  warnings.warn('Physical minimum for channel {} ({}) is {}, which has {} chars, '\\\n",
      "C:\\Users\\naikh\\anaconda3\\envs\\PytorchEnvironment\\Lib\\site-packages\\pyedflib\\edfwriter.py:141: UserWarning: Physical maximum for channel 2 (PSG_C3) is 0.0031998043437552453, which has 21 chars, however, EDF+ can only save 8 chars, will be truncated to 0.003199, some loss of precision is to be expected.\n",
      "  warnings.warn('Physical maximum for channel {} ({}) is {}, which has {} chars, '\\\n",
      "C:\\Users\\naikh\\anaconda3\\envs\\PytorchEnvironment\\Lib\\site-packages\\pyedflib\\edfwriter.py:134: UserWarning: Physical minimum for channel 3 (PSG_C4) is -0.0031995146993209736, which has 22 chars, however, EDF+ can only save 8 chars, will be truncated to -0.00319, some loss of precision is to be expected\n",
      "  warnings.warn('Physical minimum for channel {} ({}) is {}, which has {} chars, '\\\n",
      "C:\\Users\\naikh\\anaconda3\\envs\\PytorchEnvironment\\Lib\\site-packages\\pyedflib\\edfwriter.py:141: UserWarning: Physical maximum for channel 3 (PSG_C4) is 0.003199804999999999, which has 20 chars, however, EDF+ can only save 8 chars, will be truncated to 0.003199, some loss of precision is to be expected.\n",
      "  warnings.warn('Physical maximum for channel {} ({}) is {}, which has {} chars, '\\\n",
      "C:\\Users\\naikh\\anaconda3\\envs\\PytorchEnvironment\\Lib\\site-packages\\pyedflib\\edfwriter.py:134: UserWarning: Physical minimum for channel 4 (PSG_O1) is -0.000902253703089952, which has 21 chars, however, EDF+ can only save 8 chars, will be truncated to -0.00090, some loss of precision is to be expected\n",
      "  warnings.warn('Physical minimum for channel {} ({}) is {}, which has {} chars, '\\\n",
      "C:\\Users\\naikh\\anaconda3\\envs\\PytorchEnvironment\\Lib\\site-packages\\pyedflib\\edfwriter.py:141: UserWarning: Physical maximum for channel 4 (PSG_O1) is 0.001970294, which has 11 chars, however, EDF+ can only save 8 chars, will be truncated to 0.001970, some loss of precision is to be expected.\n",
      "  warnings.warn('Physical maximum for channel {} ({}) is {}, which has {} chars, '\\\n",
      "C:\\Users\\naikh\\anaconda3\\envs\\PytorchEnvironment\\Lib\\site-packages\\pyedflib\\edfwriter.py:134: UserWarning: Physical minimum for channel 5 (PSG_O2) is -0.003192186136720836, which has 21 chars, however, EDF+ can only save 8 chars, will be truncated to -0.00319, some loss of precision is to be expected\n",
      "  warnings.warn('Physical minimum for channel {} ({}) is {}, which has {} chars, '\\\n",
      "C:\\Users\\naikh\\anaconda3\\envs\\PytorchEnvironment\\Lib\\site-packages\\pyedflib\\edfwriter.py:141: UserWarning: Physical maximum for channel 5 (PSG_O2) is 0.0031999019999999997, which has 21 chars, however, EDF+ can only save 8 chars, will be truncated to 0.003199, some loss of precision is to be expected.\n",
      "  warnings.warn('Physical maximum for channel {} ({}) is {}, which has {} chars, '\\\n"
     ]
    },
    {
     "name": "stdout",
     "output_type": "stream",
     "text": [
      "Extracting EDF parameters from C:\\Users\\naikh\\SleepResearchCode_experient\\Dataset_clean_for_jupyter\\sub-24\\eeg\\sub-24_task-Sleep_acq-psg_eeg.edf...\n",
      "EDF file detected\n",
      "Setting channel info structure...\n",
      "Creating raw.info structure...\n",
      "Reading 0 ... 7168511  =      0.000 ... 28001.996 secs...\n"
     ]
    },
    {
     "name": "stderr",
     "output_type": "stream",
     "text": [
      "C:\\Users\\naikh\\AppData\\Local\\Temp\\ipykernel_16604\\791336486.py:6: RuntimeWarning: Channels contain different highpass filters. Highest filter setting will be stored.\n",
      "  raw = mne.io.read_raw_edf(file_path, preload=True)\n"
     ]
    },
    {
     "name": "stdout",
     "output_type": "stream",
     "text": [
      "Extracting EDF parameters from C:\\Users\\naikh\\SleepResearchCode_experient\\Dataset_clean_for_jupyter\\sub-25\\eeg\\sub-25_task-Sleep_acq-psg_eeg.edf...\n",
      "EDF file detected\n",
      "Setting channel info structure...\n",
      "Creating raw.info structure...\n",
      "Reading 0 ... 8321535  =      0.000 ... 32505.996 secs...\n"
     ]
    },
    {
     "name": "stderr",
     "output_type": "stream",
     "text": [
      "C:\\Users\\naikh\\AppData\\Local\\Temp\\ipykernel_16604\\791336486.py:6: RuntimeWarning: Channels contain different highpass filters. Highest filter setting will be stored.\n",
      "  raw = mne.io.read_raw_edf(file_path, preload=True)\n",
      "C:\\Users\\naikh\\anaconda3\\envs\\PytorchEnvironment\\Lib\\site-packages\\pyedflib\\edfwriter.py:134: UserWarning: Physical minimum for channel 0 (PSG_F3) is -0.003197656027206836, which has 21 chars, however, EDF+ can only save 8 chars, will be truncated to -0.00319, some loss of precision is to be expected\n",
      "  warnings.warn('Physical minimum for channel {} ({}) is {}, which has {} chars, '\\\n",
      "C:\\Users\\naikh\\anaconda3\\envs\\PytorchEnvironment\\Lib\\site-packages\\pyedflib\\edfwriter.py:141: UserWarning: Physical maximum for channel 0 (PSG_F3) is 0.003199706999999999, which has 20 chars, however, EDF+ can only save 8 chars, will be truncated to 0.003199, some loss of precision is to be expected.\n",
      "  warnings.warn('Physical maximum for channel {} ({}) is {}, which has {} chars, '\\\n",
      "C:\\Users\\naikh\\anaconda3\\envs\\PytorchEnvironment\\Lib\\site-packages\\pyedflib\\edfwriter.py:134: UserWarning: Physical minimum for channel 1 (PSG_F4) is -0.0031985324108339055, which has 22 chars, however, EDF+ can only save 8 chars, will be truncated to -0.00319, some loss of precision is to be expected\n",
      "  warnings.warn('Physical minimum for channel {} ({}) is {}, which has {} chars, '\\\n",
      "C:\\Users\\naikh\\anaconda3\\envs\\PytorchEnvironment\\Lib\\site-packages\\pyedflib\\edfwriter.py:141: UserWarning: Physical maximum for channel 1 (PSG_F4) is 0.0031951193950103002, which has 21 chars, however, EDF+ can only save 8 chars, will be truncated to 0.003195, some loss of precision is to be expected.\n",
      "  warnings.warn('Physical maximum for channel {} ({}) is {}, which has {} chars, '\\\n",
      "C:\\Users\\naikh\\anaconda3\\envs\\PytorchEnvironment\\Lib\\site-packages\\pyedflib\\edfwriter.py:134: UserWarning: Physical minimum for channel 2 (PSG_C3) is -0.003198629470603494, which has 21 chars, however, EDF+ can only save 8 chars, will be truncated to -0.00319, some loss of precision is to be expected\n",
      "  warnings.warn('Physical minimum for channel {} ({}) is {}, which has {} chars, '\\\n",
      "C:\\Users\\naikh\\anaconda3\\envs\\PytorchEnvironment\\Lib\\site-packages\\pyedflib\\edfwriter.py:141: UserWarning: Physical maximum for channel 2 (PSG_C3) is 0.003199316, which has 11 chars, however, EDF+ can only save 8 chars, will be truncated to 0.003199, some loss of precision is to be expected.\n",
      "  warnings.warn('Physical maximum for channel {} ({}) is {}, which has {} chars, '\\\n",
      "C:\\Users\\naikh\\anaconda3\\envs\\PytorchEnvironment\\Lib\\site-packages\\pyedflib\\edfwriter.py:134: UserWarning: Physical minimum for channel 3 (PSG_C4) is -0.0031966833543297475, which has 22 chars, however, EDF+ can only save 8 chars, will be truncated to -0.00319, some loss of precision is to be expected\n",
      "  warnings.warn('Physical minimum for channel {} ({}) is {}, which has {} chars, '\\\n",
      "C:\\Users\\naikh\\anaconda3\\envs\\PytorchEnvironment\\Lib\\site-packages\\pyedflib\\edfwriter.py:141: UserWarning: Physical maximum for channel 3 (PSG_C4) is 0.0031993160000000002, which has 21 chars, however, EDF+ can only save 8 chars, will be truncated to 0.003199, some loss of precision is to be expected.\n",
      "  warnings.warn('Physical maximum for channel {} ({}) is {}, which has {} chars, '\\\n",
      "C:\\Users\\naikh\\anaconda3\\envs\\PytorchEnvironment\\Lib\\site-packages\\pyedflib\\edfwriter.py:134: UserWarning: Physical minimum for channel 4 (PSG_O1) is -0.00319951237503624, which has 20 chars, however, EDF+ can only save 8 chars, will be truncated to -0.00319, some loss of precision is to be expected\n",
      "  warnings.warn('Physical minimum for channel {} ({}) is {}, which has {} chars, '\\\n",
      "C:\\Users\\naikh\\anaconda3\\envs\\PytorchEnvironment\\Lib\\site-packages\\pyedflib\\edfwriter.py:141: UserWarning: Physical maximum for channel 4 (PSG_O1) is 0.0031968752505073627, which has 21 chars, however, EDF+ can only save 8 chars, will be truncated to 0.003196, some loss of precision is to be expected.\n",
      "  warnings.warn('Physical maximum for channel {} ({}) is {}, which has {} chars, '\\\n",
      "C:\\Users\\naikh\\anaconda3\\envs\\PytorchEnvironment\\Lib\\site-packages\\pyedflib\\edfwriter.py:134: UserWarning: Physical minimum for channel 5 (PSG_O2) is -0.003199412363149462, which has 21 chars, however, EDF+ can only save 8 chars, will be truncated to -0.00319, some loss of precision is to be expected\n",
      "  warnings.warn('Physical minimum for channel {} ({}) is {}, which has {} chars, '\\\n",
      "C:\\Users\\naikh\\anaconda3\\envs\\PytorchEnvironment\\Lib\\site-packages\\pyedflib\\edfwriter.py:141: UserWarning: Physical maximum for channel 5 (PSG_O2) is 0.003198730452597849, which has 20 chars, however, EDF+ can only save 8 chars, will be truncated to 0.003198, some loss of precision is to be expected.\n",
      "  warnings.warn('Physical maximum for channel {} ({}) is {}, which has {} chars, '\\\n"
     ]
    },
    {
     "name": "stdout",
     "output_type": "stream",
     "text": [
      "Extracting EDF parameters from C:\\Users\\naikh\\SleepResearchCode_experient\\Dataset_clean_for_jupyter\\sub-26\\eeg\\sub-26_task-Sleep_acq-psg_eeg.edf...\n",
      "EDF file detected\n",
      "Setting channel info structure...\n",
      "Creating raw.info structure...\n",
      "Reading 0 ... 7470847  =      0.000 ... 29182.996 secs...\n"
     ]
    },
    {
     "name": "stderr",
     "output_type": "stream",
     "text": [
      "C:\\Users\\naikh\\AppData\\Local\\Temp\\ipykernel_16604\\791336486.py:6: RuntimeWarning: Channels contain different highpass filters. Highest filter setting will be stored.\n",
      "  raw = mne.io.read_raw_edf(file_path, preload=True)\n",
      "C:\\Users\\naikh\\anaconda3\\envs\\PytorchEnvironment\\Lib\\site-packages\\pyedflib\\edfwriter.py:134: UserWarning: Physical minimum for channel 0 (PSG_F3) is -0.00011710639859464407, which has 23 chars, however, EDF+ can only save 8 chars, will be truncated to -0.00011, some loss of precision is to be expected\n",
      "  warnings.warn('Physical minimum for channel {} ({}) is {}, which has {} chars, '\\\n",
      "C:\\Users\\naikh\\anaconda3\\envs\\PytorchEnvironment\\Lib\\site-packages\\pyedflib\\edfwriter.py:141: UserWarning: Physical maximum for channel 0 (PSG_F3) is 0.0005779873, which has 12 chars, however, EDF+ can only save 8 chars, will be truncated to 0.000577, some loss of precision is to be expected.\n",
      "  warnings.warn('Physical maximum for channel {} ({}) is {}, which has {} chars, '\\\n",
      "C:\\Users\\naikh\\anaconda3\\envs\\PytorchEnvironment\\Lib\\site-packages\\pyedflib\\edfwriter.py:134: UserWarning: Physical minimum for channel 1 (PSG_F4) is -0.00011907047837033638, which has 23 chars, however, EDF+ can only save 8 chars, will be truncated to -0.00011, some loss of precision is to be expected\n",
      "  warnings.warn('Physical minimum for channel {} ({}) is {}, which has {} chars, '\\\n",
      "C:\\Users\\naikh\\anaconda3\\envs\\PytorchEnvironment\\Lib\\site-packages\\pyedflib\\edfwriter.py:141: UserWarning: Physical maximum for channel 1 (PSG_F4) is 0.0010320960000000001, which has 21 chars, however, EDF+ can only save 8 chars, will be truncated to 0.001032, some loss of precision is to be expected.\n",
      "  warnings.warn('Physical maximum for channel {} ({}) is {}, which has {} chars, '\\\n",
      "C:\\Users\\naikh\\anaconda3\\envs\\PytorchEnvironment\\Lib\\site-packages\\pyedflib\\edfwriter.py:134: UserWarning: Physical minimum for channel 3 (PSG_C4) is -0.00014962511504844735, which has 23 chars, however, EDF+ can only save 8 chars, will be truncated to -0.00014, some loss of precision is to be expected\n",
      "  warnings.warn('Physical minimum for channel {} ({}) is {}, which has {} chars, '\\\n",
      "C:\\Users\\naikh\\anaconda3\\envs\\PytorchEnvironment\\Lib\\site-packages\\pyedflib\\edfwriter.py:141: UserWarning: Physical maximum for channel 3 (PSG_C4) is 0.0006035737000000001, which has 21 chars, however, EDF+ can only save 8 chars, will be truncated to 0.000603, some loss of precision is to be expected.\n",
      "  warnings.warn('Physical maximum for channel {} ({}) is {}, which has {} chars, '\\\n",
      "C:\\Users\\naikh\\anaconda3\\envs\\PytorchEnvironment\\Lib\\site-packages\\pyedflib\\edfwriter.py:134: UserWarning: Physical minimum for channel 4 (PSG_O1) is 4.632831563286788e-05, which has 21 chars, however, EDF+ can only save 8 chars, will be truncated to 4.632831, some loss of precision is to be expected\n",
      "  warnings.warn('Physical minimum for channel {} ({}) is {}, which has {} chars, '\\\n",
      "C:\\Users\\naikh\\anaconda3\\envs\\PytorchEnvironment\\Lib\\site-packages\\pyedflib\\edfwriter.py:141: UserWarning: Physical maximum for channel 4 (PSG_O1) is 0.001291279, which has 11 chars, however, EDF+ can only save 8 chars, will be truncated to 0.001291, some loss of precision is to be expected.\n",
      "  warnings.warn('Physical maximum for channel {} ({}) is {}, which has {} chars, '\\\n",
      "C:\\Users\\naikh\\anaconda3\\envs\\PytorchEnvironment\\Lib\\site-packages\\pyedflib\\edfwriter.py:134: UserWarning: Physical minimum for channel 5 (PSG_O2) is -0.003199907467002365, which has 21 chars, however, EDF+ can only save 8 chars, will be truncated to -0.00319, some loss of precision is to be expected\n",
      "  warnings.warn('Physical minimum for channel {} ({}) is {}, which has {} chars, '\\\n",
      "C:\\Users\\naikh\\anaconda3\\envs\\PytorchEnvironment\\Lib\\site-packages\\pyedflib\\edfwriter.py:141: UserWarning: Physical maximum for channel 5 (PSG_O2) is 0.0025459290211337447, which has 21 chars, however, EDF+ can only save 8 chars, will be truncated to 0.002545, some loss of precision is to be expected.\n",
      "  warnings.warn('Physical maximum for channel {} ({}) is {}, which has {} chars, '\\\n"
     ]
    },
    {
     "name": "stdout",
     "output_type": "stream",
     "text": [
      "Extracting EDF parameters from C:\\Users\\naikh\\SleepResearchCode_experient\\Dataset_clean_for_jupyter\\sub-27\\eeg\\sub-27_task-Sleep_acq-psg_eeg.edf...\n",
      "EDF file detected\n",
      "Setting channel info structure...\n",
      "Creating raw.info structure...\n",
      "Reading 0 ... 7311615  =      0.000 ... 28560.996 secs...\n"
     ]
    },
    {
     "name": "stderr",
     "output_type": "stream",
     "text": [
      "C:\\Users\\naikh\\AppData\\Local\\Temp\\ipykernel_16604\\791336486.py:6: RuntimeWarning: Channels contain different highpass filters. Highest filter setting will be stored.\n",
      "  raw = mne.io.read_raw_edf(file_path, preload=True)\n",
      "C:\\Users\\naikh\\anaconda3\\envs\\PytorchEnvironment\\Lib\\site-packages\\pyedflib\\edfwriter.py:134: UserWarning: Physical minimum for channel 0 (PSG_F3) is -6.501819945067518e-05, which has 22 chars, however, EDF+ can only save 8 chars, will be truncated to -6.50181, some loss of precision is to be expected\n",
      "  warnings.warn('Physical minimum for channel {} ({}) is {}, which has {} chars, '\\\n",
      "C:\\Users\\naikh\\anaconda3\\envs\\PytorchEnvironment\\Lib\\site-packages\\pyedflib\\edfwriter.py:141: UserWarning: Physical maximum for channel 0 (PSG_F3) is 0.001343429, which has 11 chars, however, EDF+ can only save 8 chars, will be truncated to 0.001343, some loss of precision is to be expected.\n",
      "  warnings.warn('Physical maximum for channel {} ({}) is {}, which has {} chars, '\\\n",
      "C:\\Users\\naikh\\anaconda3\\envs\\PytorchEnvironment\\Lib\\site-packages\\pyedflib\\edfwriter.py:134: UserWarning: Physical minimum for channel 1 (PSG_F4) is 3.0589434592202565e-05, which has 22 chars, however, EDF+ can only save 8 chars, will be truncated to 3.058943, some loss of precision is to be expected\n",
      "  warnings.warn('Physical minimum for channel {} ({}) is {}, which has {} chars, '\\\n",
      "C:\\Users\\naikh\\anaconda3\\envs\\PytorchEnvironment\\Lib\\site-packages\\pyedflib\\edfwriter.py:141: UserWarning: Physical maximum for channel 1 (PSG_F4) is 0.0011364919999999996, which has 21 chars, however, EDF+ can only save 8 chars, will be truncated to 0.001136, some loss of precision is to be expected.\n",
      "  warnings.warn('Physical maximum for channel {} ({}) is {}, which has {} chars, '\\\n",
      "C:\\Users\\naikh\\anaconda3\\envs\\PytorchEnvironment\\Lib\\site-packages\\pyedflib\\edfwriter.py:134: UserWarning: Physical minimum for channel 3 (PSG_C4) is -0.0006227992144869154, which has 22 chars, however, EDF+ can only save 8 chars, will be truncated to -0.00062, some loss of precision is to be expected\n",
      "  warnings.warn('Physical minimum for channel {} ({}) is {}, which has {} chars, '\\\n",
      "C:\\Users\\naikh\\anaconda3\\envs\\PytorchEnvironment\\Lib\\site-packages\\pyedflib\\edfwriter.py:141: UserWarning: Physical maximum for channel 3 (PSG_C4) is -5.91754411779965e-05, which has 21 chars, however, EDF+ can only save 8 chars, will be truncated to -5.91754, some loss of precision is to be expected.\n",
      "  warnings.warn('Physical maximum for channel {} ({}) is {}, which has {} chars, '\\\n",
      "C:\\Users\\naikh\\anaconda3\\envs\\PytorchEnvironment\\Lib\\site-packages\\pyedflib\\edfwriter.py:134: UserWarning: Physical minimum for channel 4 (PSG_O1) is -0.0003007166188387884, which has 22 chars, however, EDF+ can only save 8 chars, will be truncated to -0.00030, some loss of precision is to be expected\n",
      "  warnings.warn('Physical minimum for channel {} ({}) is {}, which has {} chars, '\\\n",
      "C:\\Users\\naikh\\anaconda3\\envs\\PytorchEnvironment\\Lib\\site-packages\\pyedflib\\edfwriter.py:141: UserWarning: Physical maximum for channel 4 (PSG_O1) is 0.0003569879, which has 12 chars, however, EDF+ can only save 8 chars, will be truncated to 0.000356, some loss of precision is to be expected.\n",
      "  warnings.warn('Physical maximum for channel {} ({}) is {}, which has {} chars, '\\\n",
      "C:\\Users\\naikh\\anaconda3\\envs\\PytorchEnvironment\\Lib\\site-packages\\pyedflib\\edfwriter.py:134: UserWarning: Physical minimum for channel 5 (PSG_O2) is -0.00048392978962386507, which has 23 chars, however, EDF+ can only save 8 chars, will be truncated to -0.00048, some loss of precision is to be expected\n",
      "  warnings.warn('Physical minimum for channel {} ({}) is {}, which has {} chars, '\\\n",
      "C:\\Users\\naikh\\anaconda3\\envs\\PytorchEnvironment\\Lib\\site-packages\\pyedflib\\edfwriter.py:141: UserWarning: Physical maximum for channel 5 (PSG_O2) is 0.0002904360386511025, which has 21 chars, however, EDF+ can only save 8 chars, will be truncated to 0.000290, some loss of precision is to be expected.\n",
      "  warnings.warn('Physical maximum for channel {} ({}) is {}, which has {} chars, '\\\n"
     ]
    },
    {
     "name": "stdout",
     "output_type": "stream",
     "text": [
      "Extracting EDF parameters from C:\\Users\\naikh\\SleepResearchCode_experient\\Dataset_clean_for_jupyter\\sub-28\\eeg\\sub-28_task-Sleep_acq-psg_eeg.edf...\n",
      "EDF file detected\n",
      "Setting channel info structure...\n",
      "Creating raw.info structure...\n",
      "Reading 0 ... 6598143  =      0.000 ... 25773.996 secs...\n"
     ]
    },
    {
     "name": "stderr",
     "output_type": "stream",
     "text": [
      "C:\\Users\\naikh\\AppData\\Local\\Temp\\ipykernel_16604\\791336486.py:6: RuntimeWarning: Channels contain different highpass filters. Highest filter setting will be stored.\n",
      "  raw = mne.io.read_raw_edf(file_path, preload=True)\n"
     ]
    },
    {
     "name": "stdout",
     "output_type": "stream",
     "text": [
      "Extracting EDF parameters from C:\\Users\\naikh\\SleepResearchCode_experient\\Dataset_clean_for_jupyter\\sub-29\\eeg\\sub-29_task-Sleep_acq-psg_eeg.edf...\n",
      "EDF file detected\n",
      "Setting channel info structure...\n",
      "Creating raw.info structure...\n",
      "Reading 0 ... 8510463  =      0.000 ... 33243.996 secs...\n"
     ]
    },
    {
     "name": "stderr",
     "output_type": "stream",
     "text": [
      "C:\\Users\\naikh\\AppData\\Local\\Temp\\ipykernel_16604\\791336486.py:6: RuntimeWarning: Channels contain different highpass filters. Highest filter setting will be stored.\n",
      "  raw = mne.io.read_raw_edf(file_path, preload=True)\n",
      "C:\\Users\\naikh\\anaconda3\\envs\\PytorchEnvironment\\Lib\\site-packages\\pyedflib\\edfwriter.py:134: UserWarning: Physical minimum for channel 0 (PSG_F3) is 0.0003546934214236667, which has 21 chars, however, EDF+ can only save 8 chars, will be truncated to 0.000354, some loss of precision is to be expected\n",
      "  warnings.warn('Physical minimum for channel {} ({}) is {}, which has {} chars, '\\\n",
      "C:\\Users\\naikh\\anaconda3\\envs\\PytorchEnvironment\\Lib\\site-packages\\pyedflib\\edfwriter.py:141: UserWarning: Physical maximum for channel 0 (PSG_F3) is 0.001959649, which has 11 chars, however, EDF+ can only save 8 chars, will be truncated to 0.001959, some loss of precision is to be expected.\n",
      "  warnings.warn('Physical maximum for channel {} ({}) is {}, which has {} chars, '\\\n",
      "C:\\Users\\naikh\\anaconda3\\envs\\PytorchEnvironment\\Lib\\site-packages\\pyedflib\\edfwriter.py:134: UserWarning: Physical minimum for channel 1 (PSG_F4) is -0.001051009147922484, which has 21 chars, however, EDF+ can only save 8 chars, will be truncated to -0.00105, some loss of precision is to be expected\n",
      "  warnings.warn('Physical minimum for channel {} ({}) is {}, which has {} chars, '\\\n",
      "C:\\Users\\naikh\\anaconda3\\envs\\PytorchEnvironment\\Lib\\site-packages\\pyedflib\\edfwriter.py:141: UserWarning: Physical maximum for channel 1 (PSG_F4) is 0.0008937207062104218, which has 21 chars, however, EDF+ can only save 8 chars, will be truncated to 0.000893, some loss of precision is to be expected.\n",
      "  warnings.warn('Physical maximum for channel {} ({}) is {}, which has {} chars, '\\\n",
      "C:\\Users\\naikh\\anaconda3\\envs\\PytorchEnvironment\\Lib\\site-packages\\pyedflib\\edfwriter.py:134: UserWarning: Physical minimum for channel 2 (PSG_C3) is -0.0031999057369039444, which has 22 chars, however, EDF+ can only save 8 chars, will be truncated to -0.00319, some loss of precision is to be expected\n",
      "  warnings.warn('Physical minimum for channel {} ({}) is {}, which has {} chars, '\\\n",
      "C:\\Users\\naikh\\anaconda3\\envs\\PytorchEnvironment\\Lib\\site-packages\\pyedflib\\edfwriter.py:141: UserWarning: Physical maximum for channel 2 (PSG_C3) is 0.0027628006671854733, which has 21 chars, however, EDF+ can only save 8 chars, will be truncated to 0.002762, some loss of precision is to be expected.\n",
      "  warnings.warn('Physical maximum for channel {} ({}) is {}, which has {} chars, '\\\n",
      "C:\\Users\\naikh\\anaconda3\\envs\\PytorchEnvironment\\Lib\\site-packages\\pyedflib\\edfwriter.py:134: UserWarning: Physical minimum for channel 4 (PSG_O1) is -0.0003223180401922636, which has 22 chars, however, EDF+ can only save 8 chars, will be truncated to -0.00032, some loss of precision is to be expected\n",
      "  warnings.warn('Physical minimum for channel {} ({}) is {}, which has {} chars, '\\\n",
      "C:\\Users\\naikh\\anaconda3\\envs\\PytorchEnvironment\\Lib\\site-packages\\pyedflib\\edfwriter.py:141: UserWarning: Physical maximum for channel 4 (PSG_O1) is 0.0003599175999999999, which has 21 chars, however, EDF+ can only save 8 chars, will be truncated to 0.000359, some loss of precision is to be expected.\n",
      "  warnings.warn('Physical maximum for channel {} ({}) is {}, which has {} chars, '\\\n",
      "C:\\Users\\naikh\\anaconda3\\envs\\PytorchEnvironment\\Lib\\site-packages\\pyedflib\\edfwriter.py:134: UserWarning: Physical minimum for channel 5 (PSG_O2) is -0.0001675454084290837, which has 22 chars, however, EDF+ can only save 8 chars, will be truncated to -0.00016, some loss of precision is to be expected\n",
      "  warnings.warn('Physical minimum for channel {} ({}) is {}, which has {} chars, '\\\n",
      "C:\\Users\\naikh\\anaconda3\\envs\\PytorchEnvironment\\Lib\\site-packages\\pyedflib\\edfwriter.py:141: UserWarning: Physical maximum for channel 5 (PSG_O2) is 0.0007885373999999999, which has 21 chars, however, EDF+ can only save 8 chars, will be truncated to 0.000788, some loss of precision is to be expected.\n",
      "  warnings.warn('Physical maximum for channel {} ({}) is {}, which has {} chars, '\\\n"
     ]
    },
    {
     "name": "stdout",
     "output_type": "stream",
     "text": [
      "Extracting EDF parameters from C:\\Users\\naikh\\SleepResearchCode_experient\\Dataset_clean_for_jupyter\\sub-30\\eeg\\sub-30_task-Sleep_acq-psg_eeg.edf...\n",
      "EDF file detected\n",
      "Setting channel info structure...\n",
      "Creating raw.info structure...\n",
      "Reading 0 ... 6408191  =      0.000 ... 25031.996 secs...\n"
     ]
    },
    {
     "name": "stderr",
     "output_type": "stream",
     "text": [
      "C:\\Users\\naikh\\AppData\\Local\\Temp\\ipykernel_16604\\791336486.py:6: RuntimeWarning: Channels contain different highpass filters. Highest filter setting will be stored.\n",
      "  raw = mne.io.read_raw_edf(file_path, preload=True)\n",
      "C:\\Users\\naikh\\anaconda3\\envs\\PytorchEnvironment\\Lib\\site-packages\\pyedflib\\edfwriter.py:134: UserWarning: Physical minimum for channel 0 (PSG_F3) is 0.0002308613238727398, which has 21 chars, however, EDF+ can only save 8 chars, will be truncated to 0.000230, some loss of precision is to be expected\n",
      "  warnings.warn('Physical minimum for channel {} ({}) is {}, which has {} chars, '\\\n",
      "C:\\Users\\naikh\\anaconda3\\envs\\PytorchEnvironment\\Lib\\site-packages\\pyedflib\\edfwriter.py:134: UserWarning: Physical minimum for channel 1 (PSG_F4) is -0.0006011202611581597, which has 22 chars, however, EDF+ can only save 8 chars, will be truncated to -0.00060, some loss of precision is to be expected\n",
      "  warnings.warn('Physical minimum for channel {} ({}) is {}, which has {} chars, '\\\n",
      "C:\\Users\\naikh\\anaconda3\\envs\\PytorchEnvironment\\Lib\\site-packages\\pyedflib\\edfwriter.py:141: UserWarning: Physical maximum for channel 1 (PSG_F4) is 0.0013489950000000002, which has 21 chars, however, EDF+ can only save 8 chars, will be truncated to 0.001348, some loss of precision is to be expected.\n",
      "  warnings.warn('Physical maximum for channel {} ({}) is {}, which has {} chars, '\\\n",
      "C:\\Users\\naikh\\anaconda3\\envs\\PytorchEnvironment\\Lib\\site-packages\\pyedflib\\edfwriter.py:134: UserWarning: Physical minimum for channel 3 (PSG_C4) is -0.0027497525524376285, which has 22 chars, however, EDF+ can only save 8 chars, will be truncated to -0.00274, some loss of precision is to be expected\n",
      "  warnings.warn('Physical minimum for channel {} ({}) is {}, which has {} chars, '\\\n",
      "C:\\Users\\naikh\\anaconda3\\envs\\PytorchEnvironment\\Lib\\site-packages\\pyedflib\\edfwriter.py:141: UserWarning: Physical maximum for channel 3 (PSG_C4) is 0.0028307560000000002, which has 21 chars, however, EDF+ can only save 8 chars, will be truncated to 0.002830, some loss of precision is to be expected.\n",
      "  warnings.warn('Physical maximum for channel {} ({}) is {}, which has {} chars, '\\\n",
      "C:\\Users\\naikh\\anaconda3\\envs\\PytorchEnvironment\\Lib\\site-packages\\pyedflib\\edfwriter.py:134: UserWarning: Physical minimum for channel 4 (PSG_O1) is -0.0010525680942854963, which has 22 chars, however, EDF+ can only save 8 chars, will be truncated to -0.00105, some loss of precision is to be expected\n",
      "  warnings.warn('Physical minimum for channel {} ({}) is {}, which has {} chars, '\\\n",
      "C:\\Users\\naikh\\anaconda3\\envs\\PytorchEnvironment\\Lib\\site-packages\\pyedflib\\edfwriter.py:141: UserWarning: Physical maximum for channel 4 (PSG_O1) is 0.0010241748627603572, which has 21 chars, however, EDF+ can only save 8 chars, will be truncated to 0.001024, some loss of precision is to be expected.\n",
      "  warnings.warn('Physical maximum for channel {} ({}) is {}, which has {} chars, '\\\n"
     ]
    },
    {
     "name": "stdout",
     "output_type": "stream",
     "text": [
      "Extracting EDF parameters from C:\\Users\\naikh\\SleepResearchCode_experient\\Dataset_clean_for_jupyter\\sub-31\\eeg\\sub-31_task-Sleep_acq-psg_eeg.edf...\n",
      "EDF file detected\n",
      "Setting channel info structure...\n",
      "Creating raw.info structure...\n",
      "Reading 0 ... 6533887  =      0.000 ... 25522.996 secs...\n"
     ]
    },
    {
     "name": "stderr",
     "output_type": "stream",
     "text": [
      "C:\\Users\\naikh\\AppData\\Local\\Temp\\ipykernel_16604\\791336486.py:6: RuntimeWarning: Channels contain different highpass filters. Highest filter setting will be stored.\n",
      "  raw = mne.io.read_raw_edf(file_path, preload=True)\n",
      "C:\\Users\\naikh\\anaconda3\\envs\\PytorchEnvironment\\Lib\\site-packages\\pyedflib\\edfwriter.py:134: UserWarning: Physical minimum for channel 0 (PSG_F3) is -0.000516516549813077, which has 21 chars, however, EDF+ can only save 8 chars, will be truncated to -0.00051, some loss of precision is to be expected\n",
      "  warnings.warn('Physical minimum for channel {} ({}) is {}, which has {} chars, '\\\n",
      "C:\\Users\\naikh\\anaconda3\\envs\\PytorchEnvironment\\Lib\\site-packages\\pyedflib\\edfwriter.py:141: UserWarning: Physical maximum for channel 0 (PSG_F3) is 0.0006310155, which has 12 chars, however, EDF+ can only save 8 chars, will be truncated to 0.000631, some loss of precision is to be expected.\n",
      "  warnings.warn('Physical maximum for channel {} ({}) is {}, which has {} chars, '\\\n",
      "C:\\Users\\naikh\\anaconda3\\envs\\PytorchEnvironment\\Lib\\site-packages\\pyedflib\\edfwriter.py:134: UserWarning: Physical minimum for channel 1 (PSG_F4) is -0.0005104907391592278, which has 22 chars, however, EDF+ can only save 8 chars, will be truncated to -0.00051, some loss of precision is to be expected\n",
      "  warnings.warn('Physical minimum for channel {} ({}) is {}, which has {} chars, '\\\n",
      "C:\\Users\\naikh\\anaconda3\\envs\\PytorchEnvironment\\Lib\\site-packages\\pyedflib\\edfwriter.py:141: UserWarning: Physical maximum for channel 1 (PSG_F4) is 0.0004691484125246052, which has 21 chars, however, EDF+ can only save 8 chars, will be truncated to 0.000469, some loss of precision is to be expected.\n",
      "  warnings.warn('Physical maximum for channel {} ({}) is {}, which has {} chars, '\\\n",
      "C:\\Users\\naikh\\anaconda3\\envs\\PytorchEnvironment\\Lib\\site-packages\\pyedflib\\edfwriter.py:134: UserWarning: Physical minimum for channel 3 (PSG_C4) is -0.0003324587321736476, which has 22 chars, however, EDF+ can only save 8 chars, will be truncated to -0.00033, some loss of precision is to be expected\n",
      "  warnings.warn('Physical minimum for channel {} ({}) is {}, which has {} chars, '\\\n",
      "C:\\Users\\naikh\\anaconda3\\envs\\PytorchEnvironment\\Lib\\site-packages\\pyedflib\\edfwriter.py:141: UserWarning: Physical maximum for channel 3 (PSG_C4) is 0.0017891390000000001, which has 21 chars, however, EDF+ can only save 8 chars, will be truncated to 0.001789, some loss of precision is to be expected.\n",
      "  warnings.warn('Physical maximum for channel {} ({}) is {}, which has {} chars, '\\\n",
      "C:\\Users\\naikh\\anaconda3\\envs\\PytorchEnvironment\\Lib\\site-packages\\pyedflib\\edfwriter.py:134: UserWarning: Physical minimum for channel 4 (PSG_O1) is -0.0003423695333180743, which has 22 chars, however, EDF+ can only save 8 chars, will be truncated to -0.00034, some loss of precision is to be expected\n",
      "  warnings.warn('Physical minimum for channel {} ({}) is {}, which has {} chars, '\\\n",
      "C:\\Users\\naikh\\anaconda3\\envs\\PytorchEnvironment\\Lib\\site-packages\\pyedflib\\edfwriter.py:141: UserWarning: Physical maximum for channel 4 (PSG_O1) is 0.0006420508000000001, which has 21 chars, however, EDF+ can only save 8 chars, will be truncated to 0.000642, some loss of precision is to be expected.\n",
      "  warnings.warn('Physical maximum for channel {} ({}) is {}, which has {} chars, '\\\n",
      "C:\\Users\\naikh\\anaconda3\\envs\\PytorchEnvironment\\Lib\\site-packages\\pyedflib\\edfwriter.py:134: UserWarning: Physical minimum for channel 5 (PSG_O2) is -0.0001553568104661631, which has 22 chars, however, EDF+ can only save 8 chars, will be truncated to -0.00015, some loss of precision is to be expected\n",
      "  warnings.warn('Physical minimum for channel {} ({}) is {}, which has {} chars, '\\\n",
      "C:\\Users\\naikh\\anaconda3\\envs\\PytorchEnvironment\\Lib\\site-packages\\pyedflib\\edfwriter.py:141: UserWarning: Physical maximum for channel 5 (PSG_O2) is 0.0009536766999999999, which has 21 chars, however, EDF+ can only save 8 chars, will be truncated to 0.000953, some loss of precision is to be expected.\n",
      "  warnings.warn('Physical maximum for channel {} ({}) is {}, which has {} chars, '\\\n"
     ]
    },
    {
     "name": "stdout",
     "output_type": "stream",
     "text": [
      "Extracting EDF parameters from C:\\Users\\naikh\\SleepResearchCode_experient\\Dataset_clean_for_jupyter\\sub-32\\eeg\\sub-32_task-Sleep_acq-psg_eeg.edf...\n",
      "EDF file detected\n",
      "Setting channel info structure...\n",
      "Creating raw.info structure...\n",
      "Reading 0 ... 6394367  =      0.000 ... 24977.996 secs...\n"
     ]
    },
    {
     "name": "stderr",
     "output_type": "stream",
     "text": [
      "C:\\Users\\naikh\\AppData\\Local\\Temp\\ipykernel_16604\\791336486.py:6: RuntimeWarning: Channels contain different highpass filters. Highest filter setting will be stored.\n",
      "  raw = mne.io.read_raw_edf(file_path, preload=True)\n",
      "C:\\Users\\naikh\\anaconda3\\envs\\PytorchEnvironment\\Lib\\site-packages\\pyedflib\\edfwriter.py:134: UserWarning: Physical minimum for channel 0 (PSG_F3) is -0.0008529725503501945, which has 22 chars, however, EDF+ can only save 8 chars, will be truncated to -0.00085, some loss of precision is to be expected\n",
      "  warnings.warn('Physical minimum for channel {} ({}) is {}, which has {} chars, '\\\n",
      "C:\\Users\\naikh\\anaconda3\\envs\\PytorchEnvironment\\Lib\\site-packages\\pyedflib\\edfwriter.py:141: UserWarning: Physical maximum for channel 0 (PSG_F3) is 9.936010272373533e-05, which has 21 chars, however, EDF+ can only save 8 chars, will be truncated to 9.936010, some loss of precision is to be expected.\n",
      "  warnings.warn('Physical maximum for channel {} ({}) is {}, which has {} chars, '\\\n",
      "C:\\Users\\naikh\\anaconda3\\envs\\PytorchEnvironment\\Lib\\site-packages\\pyedflib\\edfwriter.py:134: UserWarning: Physical minimum for channel 1 (PSG_F4) is -0.0008690825716441596, which has 22 chars, however, EDF+ can only save 8 chars, will be truncated to -0.00086, some loss of precision is to be expected\n",
      "  warnings.warn('Physical minimum for channel {} ({}) is {}, which has {} chars, '\\\n",
      "C:\\Users\\naikh\\anaconda3\\envs\\PytorchEnvironment\\Lib\\site-packages\\pyedflib\\edfwriter.py:141: UserWarning: Physical maximum for channel 1 (PSG_F4) is 0.00037380719560692766, which has 22 chars, however, EDF+ can only save 8 chars, will be truncated to 0.000373, some loss of precision is to be expected.\n",
      "  warnings.warn('Physical maximum for channel {} ({}) is {}, which has {} chars, '\\\n",
      "C:\\Users\\naikh\\anaconda3\\envs\\PytorchEnvironment\\Lib\\site-packages\\pyedflib\\edfwriter.py:134: UserWarning: Physical minimum for channel 2 (PSG_C3) is -0.0008434013911329824, which has 22 chars, however, EDF+ can only save 8 chars, will be truncated to -0.00084, some loss of precision is to be expected\n",
      "  warnings.warn('Physical minimum for channel {} ({}) is {}, which has {} chars, '\\\n",
      "C:\\Users\\naikh\\anaconda3\\envs\\PytorchEnvironment\\Lib\\site-packages\\pyedflib\\edfwriter.py:141: UserWarning: Physical maximum for channel 2 (PSG_C3) is 0.00013557129472190432, which has 22 chars, however, EDF+ can only save 8 chars, will be truncated to 0.000135, some loss of precision is to be expected.\n",
      "  warnings.warn('Physical maximum for channel {} ({}) is {}, which has {} chars, '\\\n",
      "C:\\Users\\naikh\\anaconda3\\envs\\PytorchEnvironment\\Lib\\site-packages\\pyedflib\\edfwriter.py:134: UserWarning: Physical minimum for channel 3 (PSG_C4) is -0.00010306862769512474, which has 23 chars, however, EDF+ can only save 8 chars, will be truncated to -0.00010, some loss of precision is to be expected\n",
      "  warnings.warn('Physical minimum for channel {} ({}) is {}, which has {} chars, '\\\n",
      "C:\\Users\\naikh\\anaconda3\\envs\\PytorchEnvironment\\Lib\\site-packages\\pyedflib\\edfwriter.py:141: UserWarning: Physical maximum for channel 3 (PSG_C4) is 0.001904961, which has 11 chars, however, EDF+ can only save 8 chars, will be truncated to 0.001904, some loss of precision is to be expected.\n",
      "  warnings.warn('Physical maximum for channel {} ({}) is {}, which has {} chars, '\\\n",
      "C:\\Users\\naikh\\anaconda3\\envs\\PytorchEnvironment\\Lib\\site-packages\\pyedflib\\edfwriter.py:134: UserWarning: Physical minimum for channel 4 (PSG_O1) is -0.0008505300063523308, which has 22 chars, however, EDF+ can only save 8 chars, will be truncated to -0.00085, some loss of precision is to be expected\n",
      "  warnings.warn('Physical minimum for channel {} ({}) is {}, which has {} chars, '\\\n",
      "C:\\Users\\naikh\\anaconda3\\envs\\PytorchEnvironment\\Lib\\site-packages\\pyedflib\\edfwriter.py:141: UserWarning: Physical maximum for channel 4 (PSG_O1) is 0.00015870934069275966, which has 22 chars, however, EDF+ can only save 8 chars, will be truncated to 0.000158, some loss of precision is to be expected.\n",
      "  warnings.warn('Physical maximum for channel {} ({}) is {}, which has {} chars, '\\\n",
      "C:\\Users\\naikh\\anaconda3\\envs\\PytorchEnvironment\\Lib\\site-packages\\pyedflib\\edfwriter.py:134: UserWarning: Physical minimum for channel 5 (PSG_O2) is -0.0008300218320912489, which has 22 chars, however, EDF+ can only save 8 chars, will be truncated to -0.00083, some loss of precision is to be expected\n",
      "  warnings.warn('Physical minimum for channel {} ({}) is {}, which has {} chars, '\\\n",
      "C:\\Users\\naikh\\anaconda3\\envs\\PytorchEnvironment\\Lib\\site-packages\\pyedflib\\edfwriter.py:141: UserWarning: Physical maximum for channel 5 (PSG_O2) is 0.00022225897490348666, which has 22 chars, however, EDF+ can only save 8 chars, will be truncated to 0.000222, some loss of precision is to be expected.\n",
      "  warnings.warn('Physical maximum for channel {} ({}) is {}, which has {} chars, '\\\n"
     ]
    },
    {
     "name": "stdout",
     "output_type": "stream",
     "text": [
      "Extracting EDF parameters from C:\\Users\\naikh\\SleepResearchCode_experient\\Dataset_clean_for_jupyter\\sub-33\\eeg\\sub-33_task-Sleep_acq-psg_eeg.edf...\n",
      "EDF file detected\n",
      "Setting channel info structure...\n",
      "Creating raw.info structure...\n",
      "Reading 0 ... 6733055  =      0.000 ... 26300.996 secs...\n"
     ]
    },
    {
     "name": "stderr",
     "output_type": "stream",
     "text": [
      "C:\\Users\\naikh\\AppData\\Local\\Temp\\ipykernel_16604\\791336486.py:6: RuntimeWarning: Channels contain different highpass filters. Highest filter setting will be stored.\n",
      "  raw = mne.io.read_raw_edf(file_path, preload=True)\n",
      "C:\\Users\\naikh\\anaconda3\\envs\\PytorchEnvironment\\Lib\\site-packages\\pyedflib\\edfwriter.py:134: UserWarning: Physical minimum for channel 0 (PSG_F3) is -0.00017154058365758749, which has 23 chars, however, EDF+ can only save 8 chars, will be truncated to -0.00017, some loss of precision is to be expected\n",
      "  warnings.warn('Physical minimum for channel {} ({}) is {}, which has {} chars, '\\\n",
      "C:\\Users\\naikh\\anaconda3\\envs\\PytorchEnvironment\\Lib\\site-packages\\pyedflib\\edfwriter.py:141: UserWarning: Physical maximum for channel 0 (PSG_F3) is 0.0016712660000000002, which has 21 chars, however, EDF+ can only save 8 chars, will be truncated to 0.001671, some loss of precision is to be expected.\n",
      "  warnings.warn('Physical maximum for channel {} ({}) is {}, which has {} chars, '\\\n",
      "C:\\Users\\naikh\\anaconda3\\envs\\PytorchEnvironment\\Lib\\site-packages\\pyedflib\\edfwriter.py:134: UserWarning: Physical minimum for channel 1 (PSG_F4) is 8.34313592736703e-06, which has 20 chars, however, EDF+ can only save 8 chars, will be truncated to 8.343135, some loss of precision is to be expected\n",
      "  warnings.warn('Physical minimum for channel {} ({}) is {}, which has {} chars, '\\\n",
      "C:\\Users\\naikh\\anaconda3\\envs\\PytorchEnvironment\\Lib\\site-packages\\pyedflib\\edfwriter.py:141: UserWarning: Physical maximum for channel 1 (PSG_F4) is 0.0016559329999999996, which has 21 chars, however, EDF+ can only save 8 chars, will be truncated to 0.001655, some loss of precision is to be expected.\n",
      "  warnings.warn('Physical maximum for channel {} ({}) is {}, which has {} chars, '\\\n",
      "C:\\Users\\naikh\\anaconda3\\envs\\PytorchEnvironment\\Lib\\site-packages\\pyedflib\\edfwriter.py:134: UserWarning: Physical minimum for channel 2 (PSG_C3) is -0.00018541189375143063, which has 23 chars, however, EDF+ can only save 8 chars, will be truncated to -0.00018, some loss of precision is to be expected\n",
      "  warnings.warn('Physical minimum for channel {} ({}) is {}, which has {} chars, '\\\n",
      "C:\\Users\\naikh\\anaconda3\\envs\\PytorchEnvironment\\Lib\\site-packages\\pyedflib\\edfwriter.py:141: UserWarning: Physical maximum for channel 2 (PSG_C3) is 0.0016534919999999997, which has 21 chars, however, EDF+ can only save 8 chars, will be truncated to 0.001653, some loss of precision is to be expected.\n",
      "  warnings.warn('Physical maximum for channel {} ({}) is {}, which has {} chars, '\\\n",
      "C:\\Users\\naikh\\anaconda3\\envs\\PytorchEnvironment\\Lib\\site-packages\\pyedflib\\edfwriter.py:134: UserWarning: Physical minimum for channel 3 (PSG_C4) is -0.0003027340267185473, which has 22 chars, however, EDF+ can only save 8 chars, will be truncated to -0.00030, some loss of precision is to be expected\n",
      "  warnings.warn('Physical minimum for channel {} ({}) is {}, which has {} chars, '\\\n",
      "C:\\Users\\naikh\\anaconda3\\envs\\PytorchEnvironment\\Lib\\site-packages\\pyedflib\\edfwriter.py:141: UserWarning: Physical maximum for channel 3 (PSG_C4) is 0.001670973, which has 11 chars, however, EDF+ can only save 8 chars, will be truncated to 0.001670, some loss of precision is to be expected.\n",
      "  warnings.warn('Physical maximum for channel {} ({}) is {}, which has {} chars, '\\\n",
      "C:\\Users\\naikh\\anaconda3\\envs\\PytorchEnvironment\\Lib\\site-packages\\pyedflib\\edfwriter.py:134: UserWarning: Physical minimum for channel 4 (PSG_O1) is 7.678364065003427e-05, which has 21 chars, however, EDF+ can only save 8 chars, will be truncated to 7.678364, some loss of precision is to be expected\n",
      "  warnings.warn('Physical minimum for channel {} ({}) is {}, which has {} chars, '\\\n",
      "C:\\Users\\naikh\\anaconda3\\envs\\PytorchEnvironment\\Lib\\site-packages\\pyedflib\\edfwriter.py:141: UserWarning: Physical maximum for channel 4 (PSG_O1) is 0.0016547619999999997, which has 21 chars, however, EDF+ can only save 8 chars, will be truncated to 0.001654, some loss of precision is to be expected.\n",
      "  warnings.warn('Physical maximum for channel {} ({}) is {}, which has {} chars, '\\\n",
      "C:\\Users\\naikh\\anaconda3\\envs\\PytorchEnvironment\\Lib\\site-packages\\pyedflib\\edfwriter.py:134: UserWarning: Physical minimum for channel 5 (PSG_O2) is 3.65701724422064e-05, which has 20 chars, however, EDF+ can only save 8 chars, will be truncated to 3.657017, some loss of precision is to be expected\n",
      "  warnings.warn('Physical minimum for channel {} ({}) is {}, which has {} chars, '\\\n",
      "C:\\Users\\naikh\\anaconda3\\envs\\PytorchEnvironment\\Lib\\site-packages\\pyedflib\\edfwriter.py:141: UserWarning: Physical maximum for channel 5 (PSG_O2) is 0.0016516369999999996, which has 21 chars, however, EDF+ can only save 8 chars, will be truncated to 0.001651, some loss of precision is to be expected.\n",
      "  warnings.warn('Physical maximum for channel {} ({}) is {}, which has {} chars, '\\\n"
     ]
    },
    {
     "name": "stdout",
     "output_type": "stream",
     "text": [
      "Extracting EDF parameters from C:\\Users\\naikh\\SleepResearchCode_experient\\Dataset_clean_for_jupyter\\sub-34\\eeg\\sub-34_task-Sleep_acq-psg_eeg.edf...\n",
      "EDF file detected\n",
      "Setting channel info structure...\n",
      "Creating raw.info structure...\n",
      "Reading 0 ... 7214847  =      0.000 ... 28182.996 secs...\n"
     ]
    },
    {
     "name": "stderr",
     "output_type": "stream",
     "text": [
      "C:\\Users\\naikh\\AppData\\Local\\Temp\\ipykernel_16604\\791336486.py:6: RuntimeWarning: Channels contain different highpass filters. Highest filter setting will be stored.\n",
      "  raw = mne.io.read_raw_edf(file_path, preload=True)\n",
      "C:\\Users\\naikh\\anaconda3\\envs\\PytorchEnvironment\\Lib\\site-packages\\pyedflib\\edfwriter.py:134: UserWarning: Physical minimum for channel 0 (PSG_F3) is -0.003095832795452811, which has 21 chars, however, EDF+ can only save 8 chars, will be truncated to -0.00309, some loss of precision is to be expected\n",
      "  warnings.warn('Physical minimum for channel {} ({}) is {}, which has {} chars, '\\\n",
      "C:\\Users\\naikh\\anaconda3\\envs\\PytorchEnvironment\\Lib\\site-packages\\pyedflib\\edfwriter.py:134: UserWarning: Physical minimum for channel 1 (PSG_F4) is -0.003199939549182879, which has 21 chars, however, EDF+ can only save 8 chars, will be truncated to -0.00319, some loss of precision is to be expected\n",
      "  warnings.warn('Physical minimum for channel {} ({}) is {}, which has {} chars, '\\\n",
      "C:\\Users\\naikh\\anaconda3\\envs\\PytorchEnvironment\\Lib\\site-packages\\pyedflib\\edfwriter.py:141: UserWarning: Physical maximum for channel 1 (PSG_F4) is -0.0007476917018677043, which has 22 chars, however, EDF+ can only save 8 chars, will be truncated to -0.00074, some loss of precision is to be expected.\n",
      "  warnings.warn('Physical maximum for channel {} ({}) is {}, which has {} chars, '\\\n",
      "C:\\Users\\naikh\\anaconda3\\envs\\PytorchEnvironment\\Lib\\site-packages\\pyedflib\\edfwriter.py:134: UserWarning: Physical minimum for channel 2 (PSG_C3) is -0.0031999317093156327, which has 22 chars, however, EDF+ can only save 8 chars, will be truncated to -0.00319, some loss of precision is to be expected\n",
      "  warnings.warn('Physical minimum for channel {} ({}) is {}, which has {} chars, '\\\n",
      "C:\\Users\\naikh\\anaconda3\\envs\\PytorchEnvironment\\Lib\\site-packages\\pyedflib\\edfwriter.py:141: UserWarning: Physical maximum for channel 2 (PSG_C3) is -7.037451682307175e-05, which has 22 chars, however, EDF+ can only save 8 chars, will be truncated to -7.03745, some loss of precision is to be expected.\n",
      "  warnings.warn('Physical maximum for channel {} ({}) is {}, which has {} chars, '\\\n",
      "C:\\Users\\naikh\\anaconda3\\envs\\PytorchEnvironment\\Lib\\site-packages\\pyedflib\\edfwriter.py:134: UserWarning: Physical minimum for channel 4 (PSG_O1) is -0.0031999281343709465, which has 22 chars, however, EDF+ can only save 8 chars, will be truncated to -0.00319, some loss of precision is to be expected\n",
      "  warnings.warn('Physical minimum for channel {} ({}) is {}, which has {} chars, '\\\n",
      "C:\\Users\\naikh\\anaconda3\\envs\\PytorchEnvironment\\Lib\\site-packages\\pyedflib\\edfwriter.py:141: UserWarning: Physical maximum for channel 4 (PSG_O1) is 0.0002658636923476001, which has 21 chars, however, EDF+ can only save 8 chars, will be truncated to 0.000265, some loss of precision is to be expected.\n",
      "  warnings.warn('Physical maximum for channel {} ({}) is {}, which has {} chars, '\\\n",
      "C:\\Users\\naikh\\anaconda3\\envs\\PytorchEnvironment\\Lib\\site-packages\\pyedflib\\edfwriter.py:134: UserWarning: Physical minimum for channel 5 (PSG_O2) is -0.0031999251718776225, which has 22 chars, however, EDF+ can only save 8 chars, will be truncated to -0.00319, some loss of precision is to be expected\n",
      "  warnings.warn('Physical minimum for channel {} ({}) is {}, which has {} chars, '\\\n",
      "C:\\Users\\naikh\\anaconda3\\envs\\PytorchEnvironment\\Lib\\site-packages\\pyedflib\\edfwriter.py:141: UserWarning: Physical maximum for channel 5 (PSG_O2) is 0.0005574941651789122, which has 21 chars, however, EDF+ can only save 8 chars, will be truncated to 0.000557, some loss of precision is to be expected.\n",
      "  warnings.warn('Physical maximum for channel {} ({}) is {}, which has {} chars, '\\\n"
     ]
    },
    {
     "name": "stdout",
     "output_type": "stream",
     "text": [
      "Extracting EDF parameters from C:\\Users\\naikh\\SleepResearchCode_experient\\Dataset_clean_for_jupyter\\sub-35\\eeg\\sub-35_task-Sleep_acq-psg_eeg.edf...\n",
      "EDF file detected\n",
      "Setting channel info structure...\n",
      "Creating raw.info structure...\n",
      "Reading 0 ... 6727935  =      0.000 ... 26280.996 secs...\n"
     ]
    },
    {
     "name": "stderr",
     "output_type": "stream",
     "text": [
      "C:\\Users\\naikh\\AppData\\Local\\Temp\\ipykernel_16604\\791336486.py:6: RuntimeWarning: Channels contain different highpass filters. Highest filter setting will be stored.\n",
      "  raw = mne.io.read_raw_edf(file_path, preload=True)\n",
      "C:\\Users\\naikh\\anaconda3\\envs\\PytorchEnvironment\\Lib\\site-packages\\pyedflib\\edfwriter.py:134: UserWarning: Physical minimum for channel 1 (PSG_F4) is -0.002635669197589074, which has 21 chars, however, EDF+ can only save 8 chars, will be truncated to -0.00263, some loss of precision is to be expected\n",
      "  warnings.warn('Physical minimum for channel {} ({}) is {}, which has {} chars, '\\\n",
      "C:\\Users\\naikh\\anaconda3\\envs\\PytorchEnvironment\\Lib\\site-packages\\pyedflib\\edfwriter.py:141: UserWarning: Physical maximum for channel 1 (PSG_F4) is 0.0003762998324254214, which has 21 chars, however, EDF+ can only save 8 chars, will be truncated to 0.000376, some loss of precision is to be expected.\n",
      "  warnings.warn('Physical maximum for channel {} ({}) is {}, which has {} chars, '\\\n",
      "C:\\Users\\naikh\\anaconda3\\envs\\PytorchEnvironment\\Lib\\site-packages\\pyedflib\\edfwriter.py:134: UserWarning: Physical minimum for channel 3 (PSG_C4) is -0.0019527525136186768, which has 22 chars, however, EDF+ can only save 8 chars, will be truncated to -0.00195, some loss of precision is to be expected\n",
      "  warnings.warn('Physical minimum for channel {} ({}) is {}, which has {} chars, '\\\n",
      "C:\\Users\\naikh\\anaconda3\\envs\\PytorchEnvironment\\Lib\\site-packages\\pyedflib\\edfwriter.py:134: UserWarning: Physical minimum for channel 5 (PSG_O2) is -0.0031999162680399784, which has 22 chars, however, EDF+ can only save 8 chars, will be truncated to -0.00319, some loss of precision is to be expected\n",
      "  warnings.warn('Physical minimum for channel {} ({}) is {}, which has {} chars, '\\\n",
      "C:\\Users\\naikh\\anaconda3\\envs\\PytorchEnvironment\\Lib\\site-packages\\pyedflib\\edfwriter.py:141: UserWarning: Physical maximum for channel 5 (PSG_O2) is 0.001504898833600366, which has 20 chars, however, EDF+ can only save 8 chars, will be truncated to 0.001504, some loss of precision is to be expected.\n",
      "  warnings.warn('Physical maximum for channel {} ({}) is {}, which has {} chars, '\\\n"
     ]
    },
    {
     "name": "stdout",
     "output_type": "stream",
     "text": [
      "Extracting EDF parameters from C:\\Users\\naikh\\SleepResearchCode_experient\\Dataset_clean_for_jupyter\\sub-36\\eeg\\sub-36_task-Sleep_acq-psg_eeg.edf...\n",
      "EDF file detected\n",
      "Setting channel info structure...\n",
      "Creating raw.info structure...\n",
      "Reading 0 ... 6873599  =      0.000 ... 26849.996 secs...\n"
     ]
    },
    {
     "name": "stderr",
     "output_type": "stream",
     "text": [
      "C:\\Users\\naikh\\AppData\\Local\\Temp\\ipykernel_16604\\791336486.py:6: RuntimeWarning: Channels contain different highpass filters. Highest filter setting will be stored.\n",
      "  raw = mne.io.read_raw_edf(file_path, preload=True)\n",
      "C:\\Users\\naikh\\anaconda3\\envs\\PytorchEnvironment\\Lib\\site-packages\\pyedflib\\edfwriter.py:134: UserWarning: Physical minimum for channel 0 (PSG_F3) is -0.0002641053632318608, which has 22 chars, however, EDF+ can only save 8 chars, will be truncated to -0.00026, some loss of precision is to be expected\n",
      "  warnings.warn('Physical minimum for channel {} ({}) is {}, which has {} chars, '\\\n",
      "C:\\Users\\naikh\\anaconda3\\envs\\PytorchEnvironment\\Lib\\site-packages\\pyedflib\\edfwriter.py:141: UserWarning: Physical maximum for channel 0 (PSG_F3) is 0.00039800409999999996, which has 22 chars, however, EDF+ can only save 8 chars, will be truncated to 0.000398, some loss of precision is to be expected.\n",
      "  warnings.warn('Physical maximum for channel {} ({}) is {}, which has {} chars, '\\\n",
      "C:\\Users\\naikh\\anaconda3\\envs\\PytorchEnvironment\\Lib\\site-packages\\pyedflib\\edfwriter.py:134: UserWarning: Physical minimum for channel 1 (PSG_F4) is -0.0002392801414785992, which has 22 chars, however, EDF+ can only save 8 chars, will be truncated to -0.00023, some loss of precision is to be expected\n",
      "  warnings.warn('Physical minimum for channel {} ({}) is {}, which has {} chars, '\\\n",
      "C:\\Users\\naikh\\anaconda3\\envs\\PytorchEnvironment\\Lib\\site-packages\\pyedflib\\edfwriter.py:141: UserWarning: Physical maximum for channel 1 (PSG_F4) is 0.0005259358, which has 12 chars, however, EDF+ can only save 8 chars, will be truncated to 0.000525, some loss of precision is to be expected.\n",
      "  warnings.warn('Physical maximum for channel {} ({}) is {}, which has {} chars, '\\\n",
      "C:\\Users\\naikh\\anaconda3\\envs\\PytorchEnvironment\\Lib\\site-packages\\pyedflib\\edfwriter.py:134: UserWarning: Physical minimum for channel 2 (PSG_C3) is -0.00011850522801556423, which has 23 chars, however, EDF+ can only save 8 chars, will be truncated to -0.00011, some loss of precision is to be expected\n",
      "  warnings.warn('Physical minimum for channel {} ({}) is {}, which has {} chars, '\\\n",
      "C:\\Users\\naikh\\anaconda3\\envs\\PytorchEnvironment\\Lib\\site-packages\\pyedflib\\edfwriter.py:141: UserWarning: Physical maximum for channel 2 (PSG_C3) is 0.0011165699999999997, which has 21 chars, however, EDF+ can only save 8 chars, will be truncated to 0.001116, some loss of precision is to be expected.\n",
      "  warnings.warn('Physical maximum for channel {} ({}) is {}, which has {} chars, '\\\n",
      "C:\\Users\\naikh\\anaconda3\\envs\\PytorchEnvironment\\Lib\\site-packages\\pyedflib\\edfwriter.py:134: UserWarning: Physical minimum for channel 3 (PSG_C4) is -7.452954464637218e-05, which has 22 chars, however, EDF+ can only save 8 chars, will be truncated to -7.45295, some loss of precision is to be expected\n",
      "  warnings.warn('Physical minimum for channel {} ({}) is {}, which has {} chars, '\\\n",
      "C:\\Users\\naikh\\anaconda3\\envs\\PytorchEnvironment\\Lib\\site-packages\\pyedflib\\edfwriter.py:141: UserWarning: Physical maximum for channel 3 (PSG_C4) is 0.0009404928999999999, which has 21 chars, however, EDF+ can only save 8 chars, will be truncated to 0.000940, some loss of precision is to be expected.\n",
      "  warnings.warn('Physical maximum for channel {} ({}) is {}, which has {} chars, '\\\n",
      "C:\\Users\\naikh\\anaconda3\\envs\\PytorchEnvironment\\Lib\\site-packages\\pyedflib\\edfwriter.py:134: UserWarning: Physical minimum for channel 4 (PSG_O1) is -3.865290337987332e-05, which has 22 chars, however, EDF+ can only save 8 chars, will be truncated to -3.86529, some loss of precision is to be expected\n",
      "  warnings.warn('Physical minimum for channel {} ({}) is {}, which has {} chars, '\\\n",
      "C:\\Users\\naikh\\anaconda3\\envs\\PytorchEnvironment\\Lib\\site-packages\\pyedflib\\edfwriter.py:141: UserWarning: Physical maximum for channel 4 (PSG_O1) is 0.0006301366, which has 12 chars, however, EDF+ can only save 8 chars, will be truncated to 0.000630, some loss of precision is to be expected.\n",
      "  warnings.warn('Physical maximum for channel {} ({}) is {}, which has {} chars, '\\\n",
      "C:\\Users\\naikh\\anaconda3\\envs\\PytorchEnvironment\\Lib\\site-packages\\pyedflib\\edfwriter.py:134: UserWarning: Physical minimum for channel 5 (PSG_O2) is -0.00018662009991607544, which has 23 chars, however, EDF+ can only save 8 chars, will be truncated to -0.00018, some loss of precision is to be expected\n",
      "  warnings.warn('Physical minimum for channel {} ({}) is {}, which has {} chars, '\\\n",
      "C:\\Users\\naikh\\anaconda3\\envs\\PytorchEnvironment\\Lib\\site-packages\\pyedflib\\edfwriter.py:141: UserWarning: Physical maximum for channel 5 (PSG_O2) is 0.0023616080000000003, which has 21 chars, however, EDF+ can only save 8 chars, will be truncated to 0.002361, some loss of precision is to be expected.\n",
      "  warnings.warn('Physical maximum for channel {} ({}) is {}, which has {} chars, '\\\n"
     ]
    },
    {
     "name": "stdout",
     "output_type": "stream",
     "text": [
      "Extracting EDF parameters from C:\\Users\\naikh\\SleepResearchCode_experient\\Dataset_clean_for_jupyter\\sub-37\\eeg\\sub-37_task-Sleep_acq-psg_eeg.edf...\n",
      "EDF file detected\n",
      "Setting channel info structure...\n",
      "Creating raw.info structure...\n",
      "Reading 0 ... 6582783  =      0.000 ... 25713.996 secs...\n"
     ]
    },
    {
     "name": "stderr",
     "output_type": "stream",
     "text": [
      "C:\\Users\\naikh\\AppData\\Local\\Temp\\ipykernel_16604\\791336486.py:6: RuntimeWarning: Channels contain different highpass filters. Highest filter setting will be stored.\n",
      "  raw = mne.io.read_raw_edf(file_path, preload=True)\n",
      "C:\\Users\\naikh\\anaconda3\\envs\\PytorchEnvironment\\Lib\\site-packages\\pyedflib\\edfwriter.py:134: UserWarning: Physical minimum for channel 0 (PSG_F3) is -0.001480479483009079, which has 21 chars, however, EDF+ can only save 8 chars, will be truncated to -0.00148, some loss of precision is to be expected\n",
      "  warnings.warn('Physical minimum for channel {} ({}) is {}, which has {} chars, '\\\n",
      "C:\\Users\\naikh\\anaconda3\\envs\\PytorchEnvironment\\Lib\\site-packages\\pyedflib\\edfwriter.py:141: UserWarning: Physical maximum for channel 0 (PSG_F3) is 0.0017449969999999999, which has 21 chars, however, EDF+ can only save 8 chars, will be truncated to 0.001744, some loss of precision is to be expected.\n",
      "  warnings.warn('Physical maximum for channel {} ({}) is {}, which has {} chars, '\\\n",
      "C:\\Users\\naikh\\anaconda3\\envs\\PytorchEnvironment\\Lib\\site-packages\\pyedflib\\edfwriter.py:134: UserWarning: Physical minimum for channel 1 (PSG_F4) is -0.0016085959336537728, which has 22 chars, however, EDF+ can only save 8 chars, will be truncated to -0.00160, some loss of precision is to be expected\n",
      "  warnings.warn('Physical minimum for channel {} ({}) is {}, which has {} chars, '\\\n",
      "C:\\Users\\naikh\\anaconda3\\envs\\PytorchEnvironment\\Lib\\site-packages\\pyedflib\\edfwriter.py:141: UserWarning: Physical maximum for channel 1 (PSG_F4) is 0.0016928479999999998, which has 21 chars, however, EDF+ can only save 8 chars, will be truncated to 0.001692, some loss of precision is to be expected.\n",
      "  warnings.warn('Physical maximum for channel {} ({}) is {}, which has {} chars, '\\\n",
      "C:\\Users\\naikh\\anaconda3\\envs\\PytorchEnvironment\\Lib\\site-packages\\pyedflib\\edfwriter.py:134: UserWarning: Physical minimum for channel 3 (PSG_C4) is -0.0019079354228274967, which has 22 chars, however, EDF+ can only save 8 chars, will be truncated to -0.00190, some loss of precision is to be expected\n",
      "  warnings.warn('Physical minimum for channel {} ({}) is {}, which has {} chars, '\\\n",
      "C:\\Users\\naikh\\anaconda3\\envs\\PytorchEnvironment\\Lib\\site-packages\\pyedflib\\edfwriter.py:141: UserWarning: Physical maximum for channel 3 (PSG_C4) is 0.0014444673981841764, which has 21 chars, however, EDF+ can only save 8 chars, will be truncated to 0.001444, some loss of precision is to be expected.\n",
      "  warnings.warn('Physical maximum for channel {} ({}) is {}, which has {} chars, '\\\n",
      "C:\\Users\\naikh\\anaconda3\\envs\\PytorchEnvironment\\Lib\\site-packages\\pyedflib\\edfwriter.py:134: UserWarning: Physical minimum for channel 4 (PSG_O1) is -0.0015513945040817885, which has 22 chars, however, EDF+ can only save 8 chars, will be truncated to -0.00155, some loss of precision is to be expected\n",
      "  warnings.warn('Physical minimum for channel {} ({}) is {}, which has {} chars, '\\\n",
      "C:\\Users\\naikh\\anaconda3\\envs\\PytorchEnvironment\\Lib\\site-packages\\pyedflib\\edfwriter.py:141: UserWarning: Physical maximum for channel 4 (PSG_O1) is 0.0013135744575417713, which has 21 chars, however, EDF+ can only save 8 chars, will be truncated to 0.001313, some loss of precision is to be expected.\n",
      "  warnings.warn('Physical maximum for channel {} ({}) is {}, which has {} chars, '\\\n",
      "C:\\Users\\naikh\\anaconda3\\envs\\PytorchEnvironment\\Lib\\site-packages\\pyedflib\\edfwriter.py:134: UserWarning: Physical minimum for channel 5 (PSG_O2) is -0.0014165249508812084, which has 22 chars, however, EDF+ can only save 8 chars, will be truncated to -0.00141, some loss of precision is to be expected\n",
      "  warnings.warn('Physical minimum for channel {} ({}) is {}, which has {} chars, '\\\n",
      "C:\\Users\\naikh\\anaconda3\\envs\\PytorchEnvironment\\Lib\\site-packages\\pyedflib\\edfwriter.py:141: UserWarning: Physical maximum for channel 5 (PSG_O2) is 0.0020770340000000006, which has 21 chars, however, EDF+ can only save 8 chars, will be truncated to 0.002077, some loss of precision is to be expected.\n",
      "  warnings.warn('Physical maximum for channel {} ({}) is {}, which has {} chars, '\\\n"
     ]
    },
    {
     "name": "stdout",
     "output_type": "stream",
     "text": [
      "Extracting EDF parameters from C:\\Users\\naikh\\SleepResearchCode_experient\\Dataset_clean_for_jupyter\\sub-38\\eeg\\sub-38_task-Sleep_acq-psg_eeg.edf...\n",
      "EDF file detected\n",
      "Setting channel info structure...\n",
      "Creating raw.info structure...\n",
      "Reading 0 ... 6540799  =      0.000 ... 25549.996 secs...\n"
     ]
    },
    {
     "name": "stderr",
     "output_type": "stream",
     "text": [
      "C:\\Users\\naikh\\AppData\\Local\\Temp\\ipykernel_16604\\791336486.py:6: RuntimeWarning: Channels contain different highpass filters. Highest filter setting will be stored.\n",
      "  raw = mne.io.read_raw_edf(file_path, preload=True)\n",
      "C:\\Users\\naikh\\anaconda3\\envs\\PytorchEnvironment\\Lib\\site-packages\\pyedflib\\edfwriter.py:134: UserWarning: Physical minimum for channel 0 (PSG_F3) is -0.0004363609027267872, which has 22 chars, however, EDF+ can only save 8 chars, will be truncated to -0.00043, some loss of precision is to be expected\n",
      "  warnings.warn('Physical minimum for channel {} ({}) is {}, which has {} chars, '\\\n",
      "C:\\Users\\naikh\\anaconda3\\envs\\PytorchEnvironment\\Lib\\site-packages\\pyedflib\\edfwriter.py:141: UserWarning: Physical maximum for channel 0 (PSG_F3) is 0.0009291645999999998, which has 21 chars, however, EDF+ can only save 8 chars, will be truncated to 0.000929, some loss of precision is to be expected.\n",
      "  warnings.warn('Physical maximum for channel {} ({}) is {}, which has {} chars, '\\\n",
      "C:\\Users\\naikh\\anaconda3\\envs\\PytorchEnvironment\\Lib\\site-packages\\pyedflib\\edfwriter.py:134: UserWarning: Physical minimum for channel 1 (PSG_F4) is -0.00046801108033875025, which has 23 chars, however, EDF+ can only save 8 chars, will be truncated to -0.00046, some loss of precision is to be expected\n",
      "  warnings.warn('Physical minimum for channel {} ({}) is {}, which has {} chars, '\\\n",
      "C:\\Users\\naikh\\anaconda3\\envs\\PytorchEnvironment\\Lib\\site-packages\\pyedflib\\edfwriter.py:141: UserWarning: Physical maximum for channel 1 (PSG_F4) is 0.0004209820050354771, which has 21 chars, however, EDF+ can only save 8 chars, will be truncated to 0.000420, some loss of precision is to be expected.\n",
      "  warnings.warn('Physical maximum for channel {} ({}) is {}, which has {} chars, '\\\n",
      "C:\\Users\\naikh\\anaconda3\\envs\\PytorchEnvironment\\Lib\\site-packages\\pyedflib\\edfwriter.py:134: UserWarning: Physical minimum for channel 3 (PSG_C4) is -0.0018893316914625775, which has 22 chars, however, EDF+ can only save 8 chars, will be truncated to -0.00188, some loss of precision is to be expected\n",
      "  warnings.warn('Physical minimum for channel {} ({}) is {}, which has {} chars, '\\\n",
      "C:\\Users\\naikh\\anaconda3\\envs\\PytorchEnvironment\\Lib\\site-packages\\pyedflib\\edfwriter.py:141: UserWarning: Physical maximum for channel 3 (PSG_C4) is 0.0031999999999999993, which has 21 chars, however, EDF+ can only save 8 chars, will be truncated to 0.003199, some loss of precision is to be expected.\n",
      "  warnings.warn('Physical maximum for channel {} ({}) is {}, which has {} chars, '\\\n",
      "C:\\Users\\naikh\\anaconda3\\envs\\PytorchEnvironment\\Lib\\site-packages\\pyedflib\\edfwriter.py:134: UserWarning: Physical minimum for channel 4 (PSG_O1) is -0.0003795798297093156, which has 22 chars, however, EDF+ can only save 8 chars, will be truncated to -0.00037, some loss of precision is to be expected\n",
      "  warnings.warn('Physical minimum for channel {} ({}) is {}, which has {} chars, '\\\n",
      "C:\\Users\\naikh\\anaconda3\\envs\\PytorchEnvironment\\Lib\\site-packages\\pyedflib\\edfwriter.py:141: UserWarning: Physical maximum for channel 4 (PSG_O1) is 0.0006622659999999999, which has 21 chars, however, EDF+ can only save 8 chars, will be truncated to 0.000662, some loss of precision is to be expected.\n",
      "  warnings.warn('Physical maximum for channel {} ({}) is {}, which has {} chars, '\\\n",
      "C:\\Users\\naikh\\anaconda3\\envs\\PytorchEnvironment\\Lib\\site-packages\\pyedflib\\edfwriter.py:134: UserWarning: Physical minimum for channel 5 (PSG_O2) is -0.00012282817372396426, which has 23 chars, however, EDF+ can only save 8 chars, will be truncated to -0.00012, some loss of precision is to be expected\n",
      "  warnings.warn('Physical minimum for channel {} ({}) is {}, which has {} chars, '\\\n",
      "C:\\Users\\naikh\\anaconda3\\envs\\PytorchEnvironment\\Lib\\site-packages\\pyedflib\\edfwriter.py:141: UserWarning: Physical maximum for channel 5 (PSG_O2) is 0.001315499, which has 11 chars, however, EDF+ can only save 8 chars, will be truncated to 0.001315, some loss of precision is to be expected.\n",
      "  warnings.warn('Physical maximum for channel {} ({}) is {}, which has {} chars, '\\\n"
     ]
    },
    {
     "name": "stdout",
     "output_type": "stream",
     "text": [
      "Extracting EDF parameters from C:\\Users\\naikh\\SleepResearchCode_experient\\Dataset_clean_for_jupyter\\sub-39\\eeg\\sub-39_task-Sleep_acq-psg_eeg.edf...\n",
      "EDF file detected\n",
      "Setting channel info structure...\n",
      "Creating raw.info structure...\n",
      "Reading 0 ... 6966527  =      0.000 ... 27212.996 secs...\n"
     ]
    },
    {
     "name": "stderr",
     "output_type": "stream",
     "text": [
      "C:\\Users\\naikh\\AppData\\Local\\Temp\\ipykernel_16604\\791336486.py:6: RuntimeWarning: Channels contain different highpass filters. Highest filter setting will be stored.\n",
      "  raw = mne.io.read_raw_edf(file_path, preload=True)\n",
      "C:\\Users\\naikh\\anaconda3\\envs\\PytorchEnvironment\\Lib\\site-packages\\pyedflib\\edfwriter.py:134: UserWarning: Physical minimum for channel 0 (PSG_F3) is -0.0031999402987457084, which has 22 chars, however, EDF+ can only save 8 chars, will be truncated to -0.00319, some loss of precision is to be expected\n",
      "  warnings.warn('Physical minimum for channel {} ({}) is {}, which has {} chars, '\\\n",
      "C:\\Users\\naikh\\anaconda3\\envs\\PytorchEnvironment\\Lib\\site-packages\\pyedflib\\edfwriter.py:141: UserWarning: Physical maximum for channel 0 (PSG_F3) is -0.0008081289480613411, which has 22 chars, however, EDF+ can only save 8 chars, will be truncated to -0.00080, some loss of precision is to be expected.\n",
      "  warnings.warn('Physical maximum for channel {} ({}) is {}, which has {} chars, '\\\n",
      "C:\\Users\\naikh\\anaconda3\\envs\\PytorchEnvironment\\Lib\\site-packages\\pyedflib\\edfwriter.py:134: UserWarning: Physical minimum for channel 1 (PSG_F4) is -0.003199926234378576, which has 21 chars, however, EDF+ can only save 8 chars, will be truncated to -0.00319, some loss of precision is to be expected\n",
      "  warnings.warn('Physical minimum for channel {} ({}) is {}, which has {} chars, '\\\n",
      "C:\\Users\\naikh\\anaconda3\\envs\\PytorchEnvironment\\Lib\\site-packages\\pyedflib\\edfwriter.py:141: UserWarning: Physical maximum for channel 1 (PSG_F4) is 0.0004515457917143506, which has 21 chars, however, EDF+ can only save 8 chars, will be truncated to 0.000451, some loss of precision is to be expected.\n",
      "  warnings.warn('Physical maximum for channel {} ({}) is {}, which has {} chars, '\\\n",
      "C:\\Users\\naikh\\anaconda3\\envs\\PytorchEnvironment\\Lib\\site-packages\\pyedflib\\edfwriter.py:134: UserWarning: Physical minimum for channel 2 (PSG_C3) is -0.0031999238366826883, which has 22 chars, however, EDF+ can only save 8 chars, will be truncated to -0.00319, some loss of precision is to be expected\n",
      "  warnings.warn('Physical minimum for channel {} ({}) is {}, which has {} chars, '\\\n",
      "C:\\Users\\naikh\\anaconda3\\envs\\PytorchEnvironment\\Lib\\site-packages\\pyedflib\\edfwriter.py:141: UserWarning: Physical maximum for channel 2 (PSG_C3) is 0.0006927833111009388, which has 21 chars, however, EDF+ can only save 8 chars, will be truncated to 0.000692, some loss of precision is to be expected.\n",
      "  warnings.warn('Physical maximum for channel {} ({}) is {}, which has {} chars, '\\\n",
      "C:\\Users\\naikh\\anaconda3\\envs\\PytorchEnvironment\\Lib\\site-packages\\pyedflib\\edfwriter.py:134: UserWarning: Physical minimum for channel 3 (PSG_C4) is -0.003199931081956206, which has 21 chars, however, EDF+ can only save 8 chars, will be truncated to -0.00319, some loss of precision is to be expected\n",
      "  warnings.warn('Physical minimum for channel {} ({}) is {}, which has {} chars, '\\\n",
      "C:\\Users\\naikh\\anaconda3\\envs\\PytorchEnvironment\\Lib\\site-packages\\pyedflib\\edfwriter.py:141: UserWarning: Physical maximum for channel 3 (PSG_C4) is -1.26093925993747e-05, which has 21 chars, however, EDF+ can only save 8 chars, will be truncated to -1.26093, some loss of precision is to be expected.\n",
      "  warnings.warn('Physical maximum for channel {} ({}) is {}, which has {} chars, '\\\n",
      "C:\\Users\\naikh\\anaconda3\\envs\\PytorchEnvironment\\Lib\\site-packages\\pyedflib\\edfwriter.py:134: UserWarning: Physical minimum for channel 4 (PSG_O1) is -0.0031999259557183185, which has 22 chars, however, EDF+ can only save 8 chars, will be truncated to -0.00319, some loss of precision is to be expected\n",
      "  warnings.warn('Physical minimum for channel {} ({}) is {}, which has {} chars, '\\\n",
      "C:\\Users\\naikh\\anaconda3\\envs\\PytorchEnvironment\\Lib\\site-packages\\pyedflib\\edfwriter.py:141: UserWarning: Physical maximum for channel 4 (PSG_O1) is 0.00047918631247425035, which has 22 chars, however, EDF+ can only save 8 chars, will be truncated to 0.000479, some loss of precision is to be expected.\n",
      "  warnings.warn('Physical maximum for channel {} ({}) is {}, which has {} chars, '\\\n",
      "C:\\Users\\naikh\\anaconda3\\envs\\PytorchEnvironment\\Lib\\site-packages\\pyedflib\\edfwriter.py:134: UserWarning: Physical minimum for channel 5 (PSG_O2) is -0.003199938646131075, which has 21 chars, however, EDF+ can only save 8 chars, will be truncated to -0.00319, some loss of precision is to be expected\n",
      "  warnings.warn('Physical minimum for channel {} ({}) is {}, which has {} chars, '\\\n",
      "C:\\Users\\naikh\\anaconda3\\envs\\PytorchEnvironment\\Lib\\site-packages\\pyedflib\\edfwriter.py:141: UserWarning: Physical maximum for channel 5 (PSG_O2) is -0.0006738771547508965, which has 22 chars, however, EDF+ can only save 8 chars, will be truncated to -0.00067, some loss of precision is to be expected.\n",
      "  warnings.warn('Physical maximum for channel {} ({}) is {}, which has {} chars, '\\\n"
     ]
    },
    {
     "name": "stdout",
     "output_type": "stream",
     "text": [
      "Extracting EDF parameters from C:\\Users\\naikh\\SleepResearchCode_experient\\Dataset_clean_for_jupyter\\sub-40\\eeg\\sub-40_task-Sleep_acq-psg_eeg.edf...\n",
      "EDF file detected\n",
      "Setting channel info structure...\n",
      "Creating raw.info structure...\n",
      "Reading 0 ... 6401791  =      0.000 ... 25006.996 secs...\n"
     ]
    },
    {
     "name": "stderr",
     "output_type": "stream",
     "text": [
      "C:\\Users\\naikh\\AppData\\Local\\Temp\\ipykernel_16604\\791336486.py:6: RuntimeWarning: Channels contain different highpass filters. Highest filter setting will be stored.\n",
      "  raw = mne.io.read_raw_edf(file_path, preload=True)\n",
      "C:\\Users\\naikh\\anaconda3\\envs\\PytorchEnvironment\\Lib\\site-packages\\pyedflib\\edfwriter.py:134: UserWarning: Physical minimum for channel 0 (PSG_F3) is -0.003199944031656367, which has 21 chars, however, EDF+ can only save 8 chars, will be truncated to -0.00319, some loss of precision is to be expected\n",
      "  warnings.warn('Physical minimum for channel {} ({}) is {}, which has {} chars, '\\\n",
      "C:\\Users\\naikh\\anaconda3\\envs\\PytorchEnvironment\\Lib\\site-packages\\pyedflib\\edfwriter.py:141: UserWarning: Physical maximum for channel 0 (PSG_F3) is -0.001097884981481651, which has 21 chars, however, EDF+ can only save 8 chars, will be truncated to -0.00109, some loss of precision is to be expected.\n",
      "  warnings.warn('Physical maximum for channel {} ({}) is {}, which has {} chars, '\\\n",
      "C:\\Users\\naikh\\anaconda3\\envs\\PytorchEnvironment\\Lib\\site-packages\\pyedflib\\edfwriter.py:134: UserWarning: Physical minimum for channel 1 (PSG_F4) is -0.0031999318941023877, which has 22 chars, however, EDF+ can only save 8 chars, will be truncated to -0.00319, some loss of precision is to be expected\n",
      "  warnings.warn('Physical minimum for channel {} ({}) is {}, which has {} chars, '\\\n",
      "C:\\Users\\naikh\\anaconda3\\envs\\PytorchEnvironment\\Lib\\site-packages\\pyedflib\\edfwriter.py:141: UserWarning: Physical maximum for channel 1 (PSG_F4) is -8.728805554284019e-05, which has 22 chars, however, EDF+ can only save 8 chars, will be truncated to -8.72880, some loss of precision is to be expected.\n",
      "  warnings.warn('Physical maximum for channel {} ({}) is {}, which has {} chars, '\\\n",
      "C:\\Users\\naikh\\anaconda3\\envs\\PytorchEnvironment\\Lib\\site-packages\\pyedflib\\edfwriter.py:134: UserWarning: Physical minimum for channel 2 (PSG_C3) is -0.0031999433446814676, which has 22 chars, however, EDF+ can only save 8 chars, will be truncated to -0.00319, some loss of precision is to be expected\n",
      "  warnings.warn('Physical minimum for channel {} ({}) is {}, which has {} chars, '\\\n",
      "C:\\Users\\naikh\\anaconda3\\envs\\PytorchEnvironment\\Lib\\site-packages\\pyedflib\\edfwriter.py:141: UserWarning: Physical maximum for channel 2 (PSG_C3) is -0.0010459647894102385, which has 22 chars, however, EDF+ can only save 8 chars, will be truncated to -0.00104, some loss of precision is to be expected.\n",
      "  warnings.warn('Physical maximum for channel {} ({}) is {}, which has {} chars, '\\\n",
      "C:\\Users\\naikh\\anaconda3\\envs\\PytorchEnvironment\\Lib\\site-packages\\pyedflib\\edfwriter.py:134: UserWarning: Physical minimum for channel 4 (PSG_O1) is -0.0031999420035156785, which has 22 chars, however, EDF+ can only save 8 chars, will be truncated to -0.00319, some loss of precision is to be expected\n",
      "  warnings.warn('Physical minimum for channel {} ({}) is {}, which has {} chars, '\\\n",
      "C:\\Users\\naikh\\anaconda3\\envs\\PytorchEnvironment\\Lib\\site-packages\\pyedflib\\edfwriter.py:141: UserWarning: Physical maximum for channel 4 (PSG_O1) is -0.0009427768302128631, which has 22 chars, however, EDF+ can only save 8 chars, will be truncated to -0.00094, some loss of precision is to be expected.\n",
      "  warnings.warn('Physical maximum for channel {} ({}) is {}, which has {} chars, '\\\n",
      "C:\\Users\\naikh\\anaconda3\\envs\\PytorchEnvironment\\Lib\\site-packages\\pyedflib\\edfwriter.py:134: UserWarning: Physical minimum for channel 5 (PSG_O2) is -0.003199939903846799, which has 21 chars, however, EDF+ can only save 8 chars, will be truncated to -0.00319, some loss of precision is to be expected\n",
      "  warnings.warn('Physical minimum for channel {} ({}) is {}, which has {} chars, '\\\n",
      "C:\\Users\\naikh\\anaconda3\\envs\\PytorchEnvironment\\Lib\\site-packages\\pyedflib\\edfwriter.py:141: UserWarning: Physical maximum for channel 5 (PSG_O2) is -0.0007763822375738157, which has 22 chars, however, EDF+ can only save 8 chars, will be truncated to -0.00077, some loss of precision is to be expected.\n",
      "  warnings.warn('Physical maximum for channel {} ({}) is {}, which has {} chars, '\\\n"
     ]
    },
    {
     "name": "stdout",
     "output_type": "stream",
     "text": [
      "Extracting EDF parameters from C:\\Users\\naikh\\SleepResearchCode_experient\\Dataset_clean_for_jupyter\\sub-41\\eeg\\sub-41_task-Sleep_acq-psg_eeg.edf...\n",
      "EDF file detected\n",
      "Setting channel info structure...\n",
      "Creating raw.info structure...\n",
      "Reading 0 ... 7040511  =      0.000 ... 27501.996 secs...\n"
     ]
    },
    {
     "name": "stderr",
     "output_type": "stream",
     "text": [
      "C:\\Users\\naikh\\AppData\\Local\\Temp\\ipykernel_16604\\791336486.py:6: RuntimeWarning: Channels contain different highpass filters. Highest filter setting will be stored.\n",
      "  raw = mne.io.read_raw_edf(file_path, preload=True)\n",
      "C:\\Users\\naikh\\anaconda3\\envs\\PytorchEnvironment\\Lib\\site-packages\\pyedflib\\edfwriter.py:134: UserWarning: Physical minimum for channel 0 (PSG_F3) is -0.0008357817712947279, which has 22 chars, however, EDF+ can only save 8 chars, will be truncated to -0.00083, some loss of precision is to be expected\n",
      "  warnings.warn('Physical minimum for channel {} ({}) is {}, which has {} chars, '\\\n",
      "C:\\Users\\naikh\\anaconda3\\envs\\PytorchEnvironment\\Lib\\site-packages\\pyedflib\\edfwriter.py:141: UserWarning: Physical maximum for channel 0 (PSG_F3) is 0.0004337218154940109, which has 21 chars, however, EDF+ can only save 8 chars, will be truncated to 0.000433, some loss of precision is to be expected.\n",
      "  warnings.warn('Physical maximum for channel {} ({}) is {}, which has {} chars, '\\\n",
      "C:\\Users\\naikh\\anaconda3\\envs\\PytorchEnvironment\\Lib\\site-packages\\pyedflib\\edfwriter.py:134: UserWarning: Physical minimum for channel 1 (PSG_F4) is -0.0007804139569771878, which has 22 chars, however, EDF+ can only save 8 chars, will be truncated to -0.00078, some loss of precision is to be expected\n",
      "  warnings.warn('Physical minimum for channel {} ({}) is {}, which has {} chars, '\\\n",
      "C:\\Users\\naikh\\anaconda3\\envs\\PytorchEnvironment\\Lib\\site-packages\\pyedflib\\edfwriter.py:141: UserWarning: Physical maximum for channel 1 (PSG_F4) is 0.00011534995355916675, which has 22 chars, however, EDF+ can only save 8 chars, will be truncated to 0.000115, some loss of precision is to be expected.\n",
      "  warnings.warn('Physical maximum for channel {} ({}) is {}, which has {} chars, '\\\n",
      "C:\\Users\\naikh\\anaconda3\\envs\\PytorchEnvironment\\Lib\\site-packages\\pyedflib\\edfwriter.py:134: UserWarning: Physical minimum for channel 2 (PSG_C3) is -0.0012889098537346457, which has 22 chars, however, EDF+ can only save 8 chars, will be truncated to -0.00128, some loss of precision is to be expected\n",
      "  warnings.warn('Physical minimum for channel {} ({}) is {}, which has {} chars, '\\\n",
      "C:\\Users\\naikh\\anaconda3\\envs\\PytorchEnvironment\\Lib\\site-packages\\pyedflib\\edfwriter.py:141: UserWarning: Physical maximum for channel 2 (PSG_C3) is 0.00022515617742427719, which has 22 chars, however, EDF+ can only save 8 chars, will be truncated to 0.000225, some loss of precision is to be expected.\n",
      "  warnings.warn('Physical maximum for channel {} ({}) is {}, which has {} chars, '\\\n",
      "C:\\Users\\naikh\\anaconda3\\envs\\PytorchEnvironment\\Lib\\site-packages\\pyedflib\\edfwriter.py:134: UserWarning: Physical minimum for channel 3 (PSG_C4) is -0.0007845111857068742, which has 22 chars, however, EDF+ can only save 8 chars, will be truncated to -0.00078, some loss of precision is to be expected\n",
      "  warnings.warn('Physical minimum for channel {} ({}) is {}, which has {} chars, '\\\n",
      "C:\\Users\\naikh\\anaconda3\\envs\\PytorchEnvironment\\Lib\\site-packages\\pyedflib\\edfwriter.py:141: UserWarning: Physical maximum for channel 3 (PSG_C4) is 0.0005179984425421529, which has 21 chars, however, EDF+ can only save 8 chars, will be truncated to 0.000517, some loss of precision is to be expected.\n",
      "  warnings.warn('Physical maximum for channel {} ({}) is {}, which has {} chars, '\\\n",
      "C:\\Users\\naikh\\anaconda3\\envs\\PytorchEnvironment\\Lib\\site-packages\\pyedflib\\edfwriter.py:134: UserWarning: Physical minimum for channel 4 (PSG_O1) is -0.0005382250253620202, which has 22 chars, however, EDF+ can only save 8 chars, will be truncated to -0.00053, some loss of precision is to be expected\n",
      "  warnings.warn('Physical minimum for channel {} ({}) is {}, which has {} chars, '\\\n",
      "C:\\Users\\naikh\\anaconda3\\envs\\PytorchEnvironment\\Lib\\site-packages\\pyedflib\\edfwriter.py:141: UserWarning: Physical maximum for channel 4 (PSG_O1) is 0.00047988657699855034, which has 22 chars, however, EDF+ can only save 8 chars, will be truncated to 0.000479, some loss of precision is to be expected.\n",
      "  warnings.warn('Physical maximum for channel {} ({}) is {}, which has {} chars, '\\\n",
      "C:\\Users\\naikh\\anaconda3\\envs\\PytorchEnvironment\\Lib\\site-packages\\pyedflib\\edfwriter.py:134: UserWarning: Physical minimum for channel 5 (PSG_O2) is -0.0008258379034561685, which has 22 chars, however, EDF+ can only save 8 chars, will be truncated to -0.00082, some loss of precision is to be expected\n",
      "  warnings.warn('Physical minimum for channel {} ({}) is {}, which has {} chars, '\\\n",
      "C:\\Users\\naikh\\anaconda3\\envs\\PytorchEnvironment\\Lib\\site-packages\\pyedflib\\edfwriter.py:141: UserWarning: Physical maximum for channel 5 (PSG_O2) is 0.001107683, which has 11 chars, however, EDF+ can only save 8 chars, will be truncated to 0.001107, some loss of precision is to be expected.\n",
      "  warnings.warn('Physical maximum for channel {} ({}) is {}, which has {} chars, '\\\n"
     ]
    },
    {
     "name": "stdout",
     "output_type": "stream",
     "text": [
      "Extracting EDF parameters from C:\\Users\\naikh\\SleepResearchCode_experient\\Dataset_clean_for_jupyter\\sub-42\\eeg\\sub-42_task-Sleep_acq-psg_eeg.edf...\n",
      "EDF file detected\n",
      "Setting channel info structure...\n",
      "Creating raw.info structure...\n",
      "Reading 0 ... 6871039  =      0.000 ... 26839.996 secs...\n"
     ]
    },
    {
     "name": "stderr",
     "output_type": "stream",
     "text": [
      "C:\\Users\\naikh\\AppData\\Local\\Temp\\ipykernel_16604\\791336486.py:6: RuntimeWarning: Channels contain different highpass filters. Highest filter setting will be stored.\n",
      "  raw = mne.io.read_raw_edf(file_path, preload=True)\n",
      "C:\\Users\\naikh\\anaconda3\\envs\\PytorchEnvironment\\Lib\\site-packages\\pyedflib\\edfwriter.py:134: UserWarning: Physical minimum for channel 0 (PSG_F3) is -0.0031999387012680244, which has 22 chars, however, EDF+ can only save 8 chars, will be truncated to -0.00319, some loss of precision is to be expected\n",
      "  warnings.warn('Physical minimum for channel {} ({}) is {}, which has {} chars, '\\\n",
      "C:\\Users\\naikh\\anaconda3\\envs\\PytorchEnvironment\\Lib\\site-packages\\pyedflib\\edfwriter.py:141: UserWarning: Physical maximum for channel 0 (PSG_F3) is -0.0006784153614648663, which has 22 chars, however, EDF+ can only save 8 chars, will be truncated to -0.00067, some loss of precision is to be expected.\n",
      "  warnings.warn('Physical maximum for channel {} ({}) is {}, which has {} chars, '\\\n",
      "C:\\Users\\naikh\\anaconda3\\envs\\PytorchEnvironment\\Lib\\site-packages\\pyedflib\\edfwriter.py:134: UserWarning: Physical minimum for channel 1 (PSG_F4) is -0.0031999329774624248, which has 22 chars, however, EDF+ can only save 8 chars, will be truncated to -0.00319, some loss of precision is to be expected\n",
      "  warnings.warn('Physical minimum for channel {} ({}) is {}, which has {} chars, '\\\n",
      "C:\\Users\\naikh\\anaconda3\\envs\\PytorchEnvironment\\Lib\\site-packages\\pyedflib\\edfwriter.py:141: UserWarning: Physical maximum for channel 1 (PSG_F4) is -0.0001855273274738689, which has 22 chars, however, EDF+ can only save 8 chars, will be truncated to -0.00018, some loss of precision is to be expected.\n",
      "  warnings.warn('Physical maximum for channel {} ({}) is {}, which has {} chars, '\\\n",
      "C:\\Users\\naikh\\anaconda3\\envs\\PytorchEnvironment\\Lib\\site-packages\\pyedflib\\edfwriter.py:134: UserWarning: Physical minimum for channel 2 (PSG_C3) is -0.0031999361545418476, which has 22 chars, however, EDF+ can only save 8 chars, will be truncated to -0.00319, some loss of precision is to be expected\n",
      "  warnings.warn('Physical minimum for channel {} ({}) is {}, which has {} chars, '\\\n",
      "C:\\Users\\naikh\\anaconda3\\envs\\PytorchEnvironment\\Lib\\site-packages\\pyedflib\\edfwriter.py:141: UserWarning: Physical maximum for channel 2 (PSG_C3) is -0.00046454134547188505, which has 23 chars, however, EDF+ can only save 8 chars, will be truncated to -0.00046, some loss of precision is to be expected.\n",
      "  warnings.warn('Physical maximum for channel {} ({}) is {}, which has {} chars, '\\\n",
      "C:\\Users\\naikh\\anaconda3\\envs\\PytorchEnvironment\\Lib\\site-packages\\pyedflib\\edfwriter.py:134: UserWarning: Physical minimum for channel 3 (PSG_C4) is 0.0009247039208056764, which has 21 chars, however, EDF+ can only save 8 chars, will be truncated to 0.000924, some loss of precision is to be expected\n",
      "  warnings.warn('Physical minimum for channel {} ({}) is {}, which has {} chars, '\\\n",
      "C:\\Users\\naikh\\anaconda3\\envs\\PytorchEnvironment\\Lib\\site-packages\\pyedflib\\edfwriter.py:134: UserWarning: Physical minimum for channel 4 (PSG_O1) is -0.0015036599505271991, which has 22 chars, however, EDF+ can only save 8 chars, will be truncated to -0.00150, some loss of precision is to be expected\n",
      "  warnings.warn('Physical minimum for channel {} ({}) is {}, which has {} chars, '\\\n",
      "C:\\Users\\naikh\\anaconda3\\envs\\PytorchEnvironment\\Lib\\site-packages\\pyedflib\\edfwriter.py:141: UserWarning: Physical maximum for channel 4 (PSG_O1) is -0.00021414692422674908, which has 23 chars, however, EDF+ can only save 8 chars, will be truncated to -0.00021, some loss of precision is to be expected.\n",
      "  warnings.warn('Physical maximum for channel {} ({}) is {}, which has {} chars, '\\\n",
      "C:\\Users\\naikh\\anaconda3\\envs\\PytorchEnvironment\\Lib\\site-packages\\pyedflib\\edfwriter.py:134: UserWarning: Physical minimum for channel 5 (PSG_O2) is -0.0031999440704020754, which has 22 chars, however, EDF+ can only save 8 chars, will be truncated to -0.00319, some loss of precision is to be expected\n",
      "  warnings.warn('Physical minimum for channel {} ({}) is {}, which has {} chars, '\\\n",
      "C:\\Users\\naikh\\anaconda3\\envs\\PytorchEnvironment\\Lib\\site-packages\\pyedflib\\edfwriter.py:141: UserWarning: Physical maximum for channel 5 (PSG_O2) is -0.0011007944010894943, which has 22 chars, however, EDF+ can only save 8 chars, will be truncated to -0.00110, some loss of precision is to be expected.\n",
      "  warnings.warn('Physical maximum for channel {} ({}) is {}, which has {} chars, '\\\n"
     ]
    },
    {
     "name": "stdout",
     "output_type": "stream",
     "text": [
      "Extracting EDF parameters from C:\\Users\\naikh\\SleepResearchCode_experient\\Dataset_clean_for_jupyter\\sub-43\\eeg\\sub-43_task-Sleep_acq-psg_eeg.edf...\n",
      "EDF file detected\n",
      "Setting channel info structure...\n",
      "Creating raw.info structure...\n",
      "Reading 0 ... 6452479  =      0.000 ... 25204.996 secs...\n"
     ]
    },
    {
     "name": "stderr",
     "output_type": "stream",
     "text": [
      "C:\\Users\\naikh\\AppData\\Local\\Temp\\ipykernel_16604\\791336486.py:6: RuntimeWarning: Channels contain different highpass filters. Highest filter setting will be stored.\n",
      "  raw = mne.io.read_raw_edf(file_path, preload=True)\n",
      "C:\\Users\\naikh\\anaconda3\\envs\\PytorchEnvironment\\Lib\\site-packages\\pyedflib\\edfwriter.py:134: UserWarning: Physical minimum for channel 0 (PSG_F3) is -0.003199928150759136, which has 21 chars, however, EDF+ can only save 8 chars, will be truncated to -0.00319, some loss of precision is to be expected\n",
      "  warnings.warn('Physical minimum for channel {} ({}) is {}, which has {} chars, '\\\n",
      "C:\\Users\\naikh\\anaconda3\\envs\\PytorchEnvironment\\Lib\\site-packages\\pyedflib\\edfwriter.py:141: UserWarning: Physical maximum for channel 0 (PSG_F3) is 0.0002642829974822614, which has 21 chars, however, EDF+ can only save 8 chars, will be truncated to 0.000264, some loss of precision is to be expected.\n",
      "  warnings.warn('Physical maximum for channel {} ({}) is {}, which has {} chars, '\\\n",
      "C:\\Users\\naikh\\anaconda3\\envs\\PytorchEnvironment\\Lib\\site-packages\\pyedflib\\edfwriter.py:134: UserWarning: Physical minimum for channel 1 (PSG_F4) is -0.0031999111790493627, which has 22 chars, however, EDF+ can only save 8 chars, will be truncated to -0.00319, some loss of precision is to be expected\n",
      "  warnings.warn('Physical minimum for channel {} ({}) is {}, which has {} chars, '\\\n",
      "C:\\Users\\naikh\\anaconda3\\envs\\PytorchEnvironment\\Lib\\site-packages\\pyedflib\\edfwriter.py:141: UserWarning: Physical maximum for channel 1 (PSG_F4) is 0.0020941727627222092, which has 21 chars, however, EDF+ can only save 8 chars, will be truncated to 0.002094, some loss of precision is to be expected.\n",
      "  warnings.warn('Physical maximum for channel {} ({}) is {}, which has {} chars, '\\\n",
      "C:\\Users\\naikh\\anaconda3\\envs\\PytorchEnvironment\\Lib\\site-packages\\pyedflib\\edfwriter.py:134: UserWarning: Physical minimum for channel 2 (PSG_C3) is -0.003199941961791409, which has 21 chars, however, EDF+ can only save 8 chars, will be truncated to -0.00319, some loss of precision is to be expected\n",
      "  warnings.warn('Physical minimum for channel {} ({}) is {}, which has {} chars, '\\\n",
      "C:\\Users\\naikh\\anaconda3\\envs\\PytorchEnvironment\\Lib\\site-packages\\pyedflib\\edfwriter.py:141: UserWarning: Physical maximum for channel 2 (PSG_C3) is -0.0009395278518043792, which has 22 chars, however, EDF+ can only save 8 chars, will be truncated to -0.00093, some loss of precision is to be expected.\n",
      "  warnings.warn('Physical maximum for channel {} ({}) is {}, which has {} chars, '\\\n",
      "C:\\Users\\naikh\\anaconda3\\envs\\PytorchEnvironment\\Lib\\site-packages\\pyedflib\\edfwriter.py:134: UserWarning: Physical minimum for channel 4 (PSG_O1) is -0.003199942089947356, which has 21 chars, however, EDF+ can only save 8 chars, will be truncated to -0.00319, some loss of precision is to be expected\n",
      "  warnings.warn('Physical minimum for channel {} ({}) is {}, which has {} chars, '\\\n",
      "C:\\Users\\naikh\\anaconda3\\envs\\PytorchEnvironment\\Lib\\site-packages\\pyedflib\\edfwriter.py:141: UserWarning: Physical maximum for channel 4 (PSG_O1) is -0.000949499534163424, which has 21 chars, however, EDF+ can only save 8 chars, will be truncated to -0.00094, some loss of precision is to be expected.\n",
      "  warnings.warn('Physical maximum for channel {} ({}) is {}, which has {} chars, '\\\n",
      "C:\\Users\\naikh\\anaconda3\\envs\\PytorchEnvironment\\Lib\\site-packages\\pyedflib\\edfwriter.py:134: UserWarning: Physical minimum for channel 5 (PSG_O2) is -0.0031999388040894177, which has 22 chars, however, EDF+ can only save 8 chars, will be truncated to -0.00319, some loss of precision is to be expected\n",
      "  warnings.warn('Physical minimum for channel {} ({}) is {}, which has {} chars, '\\\n",
      "C:\\Users\\naikh\\anaconda3\\envs\\PytorchEnvironment\\Lib\\site-packages\\pyedflib\\edfwriter.py:141: UserWarning: Physical maximum for channel 5 (PSG_O2) is -0.0006868675401235978, which has 22 chars, however, EDF+ can only save 8 chars, will be truncated to -0.00068, some loss of precision is to be expected.\n",
      "  warnings.warn('Physical maximum for channel {} ({}) is {}, which has {} chars, '\\\n"
     ]
    },
    {
     "name": "stdout",
     "output_type": "stream",
     "text": [
      "Extracting EDF parameters from C:\\Users\\naikh\\SleepResearchCode_experient\\Dataset_clean_for_jupyter\\sub-44\\eeg\\sub-44_task-Sleep_acq-psg_eeg.edf...\n",
      "EDF file detected\n",
      "Setting channel info structure...\n",
      "Creating raw.info structure...\n",
      "Reading 0 ... 6534399  =      0.000 ... 25524.996 secs...\n"
     ]
    },
    {
     "name": "stderr",
     "output_type": "stream",
     "text": [
      "C:\\Users\\naikh\\AppData\\Local\\Temp\\ipykernel_16604\\791336486.py:6: RuntimeWarning: Channels contain different highpass filters. Highest filter setting will be stored.\n",
      "  raw = mne.io.read_raw_edf(file_path, preload=True)\n",
      "C:\\Users\\naikh\\anaconda3\\envs\\PytorchEnvironment\\Lib\\site-packages\\pyedflib\\edfwriter.py:134: UserWarning: Physical minimum for channel 0 (PSG_F3) is -0.0003326479455252918, which has 22 chars, however, EDF+ can only save 8 chars, will be truncated to -0.00033, some loss of precision is to be expected\n",
      "  warnings.warn('Physical minimum for channel {} ({}) is {}, which has {} chars, '\\\n",
      "C:\\Users\\naikh\\anaconda3\\envs\\PytorchEnvironment\\Lib\\site-packages\\pyedflib\\edfwriter.py:141: UserWarning: Physical maximum for channel 0 (PSG_F3) is 0.002698625, which has 11 chars, however, EDF+ can only save 8 chars, will be truncated to 0.002698, some loss of precision is to be expected.\n",
      "  warnings.warn('Physical maximum for channel {} ({}) is {}, which has {} chars, '\\\n",
      "C:\\Users\\naikh\\anaconda3\\envs\\PytorchEnvironment\\Lib\\site-packages\\pyedflib\\edfwriter.py:134: UserWarning: Physical minimum for channel 1 (PSG_F4) is -0.0003990818358434426, which has 22 chars, however, EDF+ can only save 8 chars, will be truncated to -0.00039, some loss of precision is to be expected\n",
      "  warnings.warn('Physical minimum for channel {} ({}) is {}, which has {} chars, '\\\n",
      "C:\\Users\\naikh\\anaconda3\\envs\\PytorchEnvironment\\Lib\\site-packages\\pyedflib\\edfwriter.py:141: UserWarning: Physical maximum for channel 1 (PSG_F4) is 0.002740813, which has 11 chars, however, EDF+ can only save 8 chars, will be truncated to 0.002740, some loss of precision is to be expected.\n",
      "  warnings.warn('Physical maximum for channel {} ({}) is {}, which has {} chars, '\\\n",
      "C:\\Users\\naikh\\anaconda3\\envs\\PytorchEnvironment\\Lib\\site-packages\\pyedflib\\edfwriter.py:134: UserWarning: Physical minimum for channel 2 (PSG_C3) is 7.064550405127022e-05, which has 21 chars, however, EDF+ can only save 8 chars, will be truncated to 7.064550, some loss of precision is to be expected\n",
      "  warnings.warn('Physical minimum for channel {} ({}) is {}, which has {} chars, '\\\n",
      "C:\\Users\\naikh\\anaconda3\\envs\\PytorchEnvironment\\Lib\\site-packages\\pyedflib\\edfwriter.py:141: UserWarning: Physical maximum for channel 2 (PSG_C3) is 0.002894917, which has 11 chars, however, EDF+ can only save 8 chars, will be truncated to 0.002894, some loss of precision is to be expected.\n",
      "  warnings.warn('Physical maximum for channel {} ({}) is {}, which has {} chars, '\\\n",
      "C:\\Users\\naikh\\anaconda3\\envs\\PytorchEnvironment\\Lib\\site-packages\\pyedflib\\edfwriter.py:134: UserWarning: Physical minimum for channel 3 (PSG_C4) is -0.0002632607313801785, which has 22 chars, however, EDF+ can only save 8 chars, will be truncated to -0.00026, some loss of precision is to be expected\n",
      "  warnings.warn('Physical minimum for channel {} ({}) is {}, which has {} chars, '\\\n",
      "C:\\Users\\naikh\\anaconda3\\envs\\PytorchEnvironment\\Lib\\site-packages\\pyedflib\\edfwriter.py:141: UserWarning: Physical maximum for channel 3 (PSG_C4) is 0.002801947, which has 11 chars, however, EDF+ can only save 8 chars, will be truncated to 0.002801, some loss of precision is to be expected.\n",
      "  warnings.warn('Physical maximum for channel {} ({}) is {}, which has {} chars, '\\\n",
      "C:\\Users\\naikh\\anaconda3\\envs\\PytorchEnvironment\\Lib\\site-packages\\pyedflib\\edfwriter.py:134: UserWarning: Physical minimum for channel 4 (PSG_O1) is -3.2360050354773193e-06, which has 23 chars, however, EDF+ can only save 8 chars, will be truncated to -3.23600, some loss of precision is to be expected\n",
      "  warnings.warn('Physical minimum for channel {} ({}) is {}, which has {} chars, '\\\n",
      "C:\\Users\\naikh\\anaconda3\\envs\\PytorchEnvironment\\Lib\\site-packages\\pyedflib\\edfwriter.py:141: UserWarning: Physical maximum for channel 4 (PSG_O1) is 0.002984958, which has 11 chars, however, EDF+ can only save 8 chars, will be truncated to 0.002984, some loss of precision is to be expected.\n",
      "  warnings.warn('Physical maximum for channel {} ({}) is {}, which has {} chars, '\\\n",
      "C:\\Users\\naikh\\anaconda3\\envs\\PytorchEnvironment\\Lib\\site-packages\\pyedflib\\edfwriter.py:134: UserWarning: Physical minimum for channel 5 (PSG_O2) is -0.00046013232318608356, which has 23 chars, however, EDF+ can only save 8 chars, will be truncated to -0.00046, some loss of precision is to be expected\n",
      "  warnings.warn('Physical minimum for channel {} ({}) is {}, which has {} chars, '\\\n",
      "C:\\Users\\naikh\\anaconda3\\envs\\PytorchEnvironment\\Lib\\site-packages\\pyedflib\\edfwriter.py:141: UserWarning: Physical maximum for channel 5 (PSG_O2) is 0.0027361260000000006, which has 21 chars, however, EDF+ can only save 8 chars, will be truncated to 0.002736, some loss of precision is to be expected.\n",
      "  warnings.warn('Physical maximum for channel {} ({}) is {}, which has {} chars, '\\\n"
     ]
    },
    {
     "name": "stdout",
     "output_type": "stream",
     "text": [
      "Extracting EDF parameters from C:\\Users\\naikh\\SleepResearchCode_experient\\Dataset_clean_for_jupyter\\sub-45\\eeg\\sub-45_task-Sleep_acq-psg_eeg.edf...\n",
      "EDF file detected\n",
      "Setting channel info structure...\n",
      "Creating raw.info structure...\n",
      "Reading 0 ... 6308351  =      0.000 ... 24641.996 secs...\n"
     ]
    },
    {
     "name": "stderr",
     "output_type": "stream",
     "text": [
      "C:\\Users\\naikh\\AppData\\Local\\Temp\\ipykernel_16604\\791336486.py:6: RuntimeWarning: Channels contain different highpass filters. Highest filter setting will be stored.\n",
      "  raw = mne.io.read_raw_edf(file_path, preload=True)\n"
     ]
    },
    {
     "name": "stdout",
     "output_type": "stream",
     "text": [
      "Extracting EDF parameters from C:\\Users\\naikh\\SleepResearchCode_experient\\Dataset_clean_for_jupyter\\sub-46\\eeg\\sub-46_task-Sleep_acq-psg_eeg.edf...\n",
      "EDF file detected\n",
      "Setting channel info structure...\n",
      "Creating raw.info structure...\n",
      "Reading 0 ... 7435007  =      0.000 ... 29042.996 secs...\n"
     ]
    },
    {
     "name": "stderr",
     "output_type": "stream",
     "text": [
      "C:\\Users\\naikh\\AppData\\Local\\Temp\\ipykernel_16604\\791336486.py:6: RuntimeWarning: Channels contain different highpass filters. Highest filter setting will be stored.\n",
      "  raw = mne.io.read_raw_edf(file_path, preload=True)\n",
      "C:\\Users\\naikh\\anaconda3\\envs\\PytorchEnvironment\\Lib\\site-packages\\pyedflib\\edfwriter.py:134: UserWarning: Physical minimum for channel 0 (PSG_F3) is -0.0004996507735118639, which has 22 chars, however, EDF+ can only save 8 chars, will be truncated to -0.00049, some loss of precision is to be expected\n",
      "  warnings.warn('Physical minimum for channel {} ({}) is {}, which has {} chars, '\\\n",
      "C:\\Users\\naikh\\anaconda3\\envs\\PytorchEnvironment\\Lib\\site-packages\\pyedflib\\edfwriter.py:141: UserWarning: Physical maximum for channel 0 (PSG_F3) is 0.0004967401571389333, which has 21 chars, however, EDF+ can only save 8 chars, will be truncated to 0.000496, some loss of precision is to be expected.\n",
      "  warnings.warn('Physical maximum for channel {} ({}) is {}, which has {} chars, '\\\n",
      "C:\\Users\\naikh\\anaconda3\\envs\\PytorchEnvironment\\Lib\\site-packages\\pyedflib\\edfwriter.py:134: UserWarning: Physical minimum for channel 1 (PSG_F4) is -0.0005023851789318684, which has 22 chars, however, EDF+ can only save 8 chars, will be truncated to -0.00050, some loss of precision is to be expected\n",
      "  warnings.warn('Physical minimum for channel {} ({}) is {}, which has {} chars, '\\\n",
      "C:\\Users\\naikh\\anaconda3\\envs\\PytorchEnvironment\\Lib\\site-packages\\pyedflib\\edfwriter.py:141: UserWarning: Physical maximum for channel 1 (PSG_F4) is 0.00043651466613260094, which has 22 chars, however, EDF+ can only save 8 chars, will be truncated to 0.000436, some loss of precision is to be expected.\n",
      "  warnings.warn('Physical maximum for channel {} ({}) is {}, which has {} chars, '\\\n",
      "C:\\Users\\naikh\\anaconda3\\envs\\PytorchEnvironment\\Lib\\site-packages\\pyedflib\\edfwriter.py:134: UserWarning: Physical minimum for channel 3 (PSG_C4) is -0.00016874455004959178, which has 23 chars, however, EDF+ can only save 8 chars, will be truncated to -0.00016, some loss of precision is to be expected\n",
      "  warnings.warn('Physical minimum for channel {} ({}) is {}, which has {} chars, '\\\n",
      "C:\\Users\\naikh\\anaconda3\\envs\\PytorchEnvironment\\Lib\\site-packages\\pyedflib\\edfwriter.py:141: UserWarning: Physical maximum for channel 3 (PSG_C4) is 0.0007186145000000001, which has 21 chars, however, EDF+ can only save 8 chars, will be truncated to 0.000718, some loss of precision is to be expected.\n",
      "  warnings.warn('Physical maximum for channel {} ({}) is {}, which has {} chars, '\\\n",
      "C:\\Users\\naikh\\anaconda3\\envs\\PytorchEnvironment\\Lib\\site-packages\\pyedflib\\edfwriter.py:134: UserWarning: Physical minimum for channel 4 (PSG_O1) is 0.00015335472350652327, which has 22 chars, however, EDF+ can only save 8 chars, will be truncated to 0.000153, some loss of precision is to be expected\n",
      "  warnings.warn('Physical minimum for channel {} ({}) is {}, which has {} chars, '\\\n",
      "C:\\Users\\naikh\\anaconda3\\envs\\PytorchEnvironment\\Lib\\site-packages\\pyedflib\\edfwriter.py:141: UserWarning: Physical maximum for channel 4 (PSG_O1) is 0.001688161, which has 11 chars, however, EDF+ can only save 8 chars, will be truncated to 0.001688, some loss of precision is to be expected.\n",
      "  warnings.warn('Physical maximum for channel {} ({}) is {}, which has {} chars, '\\\n",
      "C:\\Users\\naikh\\anaconda3\\envs\\PytorchEnvironment\\Lib\\site-packages\\pyedflib\\edfwriter.py:134: UserWarning: Physical minimum for channel 5 (PSG_O2) is -0.00020693197317463955, which has 23 chars, however, EDF+ can only save 8 chars, will be truncated to -0.00020, some loss of precision is to be expected\n",
      "  warnings.warn('Physical minimum for channel {} ({}) is {}, which has {} chars, '\\\n",
      "C:\\Users\\naikh\\anaconda3\\envs\\PytorchEnvironment\\Lib\\site-packages\\pyedflib\\edfwriter.py:141: UserWarning: Physical maximum for channel 5 (PSG_O2) is 0.0014211640000000002, which has 21 chars, however, EDF+ can only save 8 chars, will be truncated to 0.001421, some loss of precision is to be expected.\n",
      "  warnings.warn('Physical maximum for channel {} ({}) is {}, which has {} chars, '\\\n"
     ]
    },
    {
     "name": "stdout",
     "output_type": "stream",
     "text": [
      "Extracting EDF parameters from C:\\Users\\naikh\\SleepResearchCode_experient\\Dataset_clean_for_jupyter\\sub-47\\eeg\\sub-47_task-Sleep_acq-psg_eeg.edf...\n",
      "EDF file detected\n",
      "Setting channel info structure...\n",
      "Creating raw.info structure...\n",
      "Reading 0 ... 6236671  =      0.000 ... 24361.996 secs...\n"
     ]
    },
    {
     "name": "stderr",
     "output_type": "stream",
     "text": [
      "C:\\Users\\naikh\\AppData\\Local\\Temp\\ipykernel_16604\\791336486.py:6: RuntimeWarning: Channels contain different highpass filters. Highest filter setting will be stored.\n",
      "  raw = mne.io.read_raw_edf(file_path, preload=True)\n",
      "C:\\Users\\naikh\\anaconda3\\envs\\PytorchEnvironment\\Lib\\site-packages\\pyedflib\\edfwriter.py:134: UserWarning: Physical minimum for channel 0 (PSG_F3) is -0.003199935299183642, which has 21 chars, however, EDF+ can only save 8 chars, will be truncated to -0.00319, some loss of precision is to be expected\n",
      "  warnings.warn('Physical minimum for channel {} ({}) is {}, which has {} chars, '\\\n",
      "C:\\Users\\naikh\\anaconda3\\envs\\PytorchEnvironment\\Lib\\site-packages\\pyedflib\\edfwriter.py:141: UserWarning: Physical maximum for channel 0 (PSG_F3) is -0.00039075525456626245, which has 23 chars, however, EDF+ can only save 8 chars, will be truncated to -0.00039, some loss of precision is to be expected.\n",
      "  warnings.warn('Physical maximum for channel {} ({}) is {}, which has {} chars, '\\\n",
      "C:\\Users\\naikh\\anaconda3\\envs\\PytorchEnvironment\\Lib\\site-packages\\pyedflib\\edfwriter.py:134: UserWarning: Physical minimum for channel 2 (PSG_C3) is -0.003199934983260853, which has 21 chars, however, EDF+ can only save 8 chars, will be truncated to -0.00319, some loss of precision is to be expected\n",
      "  warnings.warn('Physical minimum for channel {} ({}) is {}, which has {} chars, '\\\n",
      "C:\\Users\\naikh\\anaconda3\\envs\\PytorchEnvironment\\Lib\\site-packages\\pyedflib\\edfwriter.py:141: UserWarning: Physical maximum for channel 2 (PSG_C3) is -0.0003632546542763408, which has 22 chars, however, EDF+ can only save 8 chars, will be truncated to -0.00036, some loss of precision is to be expected.\n",
      "  warnings.warn('Physical maximum for channel {} ({}) is {}, which has {} chars, '\\\n"
     ]
    },
    {
     "name": "stdout",
     "output_type": "stream",
     "text": [
      "Extracting EDF parameters from C:\\Users\\naikh\\SleepResearchCode_experient\\Dataset_clean_for_jupyter\\sub-48\\eeg\\sub-48_task-Sleep_acq-psg_eeg.edf...\n",
      "EDF file detected\n",
      "Setting channel info structure...\n",
      "Creating raw.info structure...\n",
      "Reading 0 ... 8055551  =      0.000 ... 31466.996 secs...\n"
     ]
    },
    {
     "name": "stderr",
     "output_type": "stream",
     "text": [
      "C:\\Users\\naikh\\AppData\\Local\\Temp\\ipykernel_16604\\791336486.py:6: RuntimeWarning: Channels contain different highpass filters. Highest filter setting will be stored.\n",
      "  raw = mne.io.read_raw_edf(file_path, preload=True)\n",
      "C:\\Users\\naikh\\anaconda3\\envs\\PytorchEnvironment\\Lib\\site-packages\\pyedflib\\edfwriter.py:134: UserWarning: Physical minimum for channel 0 (PSG_F3) is -0.003199942720294499, which has 21 chars, however, EDF+ can only save 8 chars, will be truncated to -0.00319, some loss of precision is to be expected\n",
      "  warnings.warn('Physical minimum for channel {} ({}) is {}, which has {} chars, '\\\n",
      "C:\\Users\\naikh\\anaconda3\\envs\\PytorchEnvironment\\Lib\\site-packages\\pyedflib\\edfwriter.py:141: UserWarning: Physical maximum for channel 0 (PSG_F3) is -0.0009982254002517737, which has 22 chars, however, EDF+ can only save 8 chars, will be truncated to -0.00099, some loss of precision is to be expected.\n",
      "  warnings.warn('Physical maximum for channel {} ({}) is {}, which has {} chars, '\\\n",
      "C:\\Users\\naikh\\anaconda3\\envs\\PytorchEnvironment\\Lib\\site-packages\\pyedflib\\edfwriter.py:134: UserWarning: Physical minimum for channel 1 (PSG_F4) is -0.0031999354496833753, which has 22 chars, however, EDF+ can only save 8 chars, will be truncated to -0.00319, some loss of precision is to be expected\n",
      "  warnings.warn('Physical minimum for channel {} ({}) is {}, which has {} chars, '\\\n",
      "C:\\Users\\naikh\\anaconda3\\envs\\PytorchEnvironment\\Lib\\site-packages\\pyedflib\\edfwriter.py:141: UserWarning: Physical maximum for channel 1 (PSG_F4) is -0.00040380938445105675, which has 23 chars, however, EDF+ can only save 8 chars, will be truncated to -0.00040, some loss of precision is to be expected.\n",
      "  warnings.warn('Physical maximum for channel {} ({}) is {}, which has {} chars, '\\\n",
      "C:\\Users\\naikh\\anaconda3\\envs\\PytorchEnvironment\\Lib\\site-packages\\pyedflib\\edfwriter.py:134: UserWarning: Physical minimum for channel 2 (PSG_C3) is -0.003199943013861295, which has 21 chars, however, EDF+ can only save 8 chars, will be truncated to -0.00319, some loss of precision is to be expected\n",
      "  warnings.warn('Physical minimum for channel {} ({}) is {}, which has {} chars, '\\\n",
      "C:\\Users\\naikh\\anaconda3\\envs\\PytorchEnvironment\\Lib\\site-packages\\pyedflib\\edfwriter.py:141: UserWarning: Physical maximum for channel 2 (PSG_C3) is -0.0010207360836621653, which has 22 chars, however, EDF+ can only save 8 chars, will be truncated to -0.00102, some loss of precision is to be expected.\n",
      "  warnings.warn('Physical maximum for channel {} ({}) is {}, which has {} chars, '\\\n",
      "C:\\Users\\naikh\\anaconda3\\envs\\PytorchEnvironment\\Lib\\site-packages\\pyedflib\\edfwriter.py:134: UserWarning: Physical minimum for channel 4 (PSG_O1) is -0.003199935899717708, which has 21 chars, however, EDF+ can only save 8 chars, will be truncated to -0.00319, some loss of precision is to be expected\n",
      "  warnings.warn('Physical minimum for channel {} ({}) is {}, which has {} chars, '\\\n",
      "C:\\Users\\naikh\\anaconda3\\envs\\PytorchEnvironment\\Lib\\site-packages\\pyedflib\\edfwriter.py:141: UserWarning: Physical maximum for channel 4 (PSG_O1) is -0.0004426622569314105, which has 22 chars, however, EDF+ can only save 8 chars, will be truncated to -0.00044, some loss of precision is to be expected.\n",
      "  warnings.warn('Physical maximum for channel {} ({}) is {}, which has {} chars, '\\\n",
      "C:\\Users\\naikh\\anaconda3\\envs\\PytorchEnvironment\\Lib\\site-packages\\pyedflib\\edfwriter.py:134: UserWarning: Physical minimum for channel 5 (PSG_O2) is -0.003199911360860609, which has 21 chars, however, EDF+ can only save 8 chars, will be truncated to -0.00319, some loss of precision is to be expected\n",
      "  warnings.warn('Physical minimum for channel {} ({}) is {}, which has {} chars, '\\\n",
      "C:\\Users\\naikh\\anaconda3\\envs\\PytorchEnvironment\\Lib\\site-packages\\pyedflib\\edfwriter.py:141: UserWarning: Physical maximum for channel 5 (PSG_O2) is 0.00207252192840467, which has 19 chars, however, EDF+ can only save 8 chars, will be truncated to 0.002072, some loss of precision is to be expected.\n",
      "  warnings.warn('Physical maximum for channel {} ({}) is {}, which has {} chars, '\\\n"
     ]
    },
    {
     "name": "stdout",
     "output_type": "stream",
     "text": [
      "Extracting EDF parameters from C:\\Users\\naikh\\SleepResearchCode_experient\\Dataset_clean_for_jupyter\\sub-49\\eeg\\sub-49_task-Sleep_acq-psg_eeg.edf...\n",
      "EDF file detected\n",
      "Setting channel info structure...\n",
      "Creating raw.info structure...\n",
      "Reading 0 ... 6933759  =      0.000 ... 27084.996 secs...\n"
     ]
    },
    {
     "name": "stderr",
     "output_type": "stream",
     "text": [
      "C:\\Users\\naikh\\AppData\\Local\\Temp\\ipykernel_16604\\791336486.py:6: RuntimeWarning: Channels contain different highpass filters. Highest filter setting will be stored.\n",
      "  raw = mne.io.read_raw_edf(file_path, preload=True)\n",
      "C:\\Users\\naikh\\anaconda3\\envs\\PytorchEnvironment\\Lib\\site-packages\\pyedflib\\edfwriter.py:134: UserWarning: Physical minimum for channel 0 (PSG_F3) is -0.0005375538533302815, which has 22 chars, however, EDF+ can only save 8 chars, will be truncated to -0.00053, some loss of precision is to be expected\n",
      "  warnings.warn('Physical minimum for channel {} ({}) is {}, which has {} chars, '\\\n",
      "C:\\Users\\naikh\\anaconda3\\envs\\PytorchEnvironment\\Lib\\site-packages\\pyedflib\\edfwriter.py:141: UserWarning: Physical maximum for channel 0 (PSG_F3) is 0.0012489939999999998, which has 21 chars, however, EDF+ can only save 8 chars, will be truncated to 0.001248, some loss of precision is to be expected.\n",
      "  warnings.warn('Physical maximum for channel {} ({}) is {}, which has {} chars, '\\\n",
      "C:\\Users\\naikh\\anaconda3\\envs\\PytorchEnvironment\\Lib\\site-packages\\pyedflib\\edfwriter.py:134: UserWarning: Physical minimum for channel 1 (PSG_F4) is -0.0002899327293202106, which has 22 chars, however, EDF+ can only save 8 chars, will be truncated to -0.00028, some loss of precision is to be expected\n",
      "  warnings.warn('Physical minimum for channel {} ({}) is {}, which has {} chars, '\\\n",
      "C:\\Users\\naikh\\anaconda3\\envs\\PytorchEnvironment\\Lib\\site-packages\\pyedflib\\edfwriter.py:141: UserWarning: Physical maximum for channel 1 (PSG_F4) is 0.0012596379999999996, which has 21 chars, however, EDF+ can only save 8 chars, will be truncated to 0.001259, some loss of precision is to be expected.\n",
      "  warnings.warn('Physical maximum for channel {} ({}) is {}, which has {} chars, '\\\n",
      "C:\\Users\\naikh\\anaconda3\\envs\\PytorchEnvironment\\Lib\\site-packages\\pyedflib\\edfwriter.py:134: UserWarning: Physical minimum for channel 3 (PSG_C4) is -0.000411929028534371, which has 21 chars, however, EDF+ can only save 8 chars, will be truncated to -0.00041, some loss of precision is to be expected\n",
      "  warnings.warn('Physical minimum for channel {} ({}) is {}, which has {} chars, '\\\n",
      "C:\\Users\\naikh\\anaconda3\\envs\\PytorchEnvironment\\Lib\\site-packages\\pyedflib\\edfwriter.py:141: UserWarning: Physical maximum for channel 3 (PSG_C4) is 0.0012873729999999996, which has 21 chars, however, EDF+ can only save 8 chars, will be truncated to 0.001287, some loss of precision is to be expected.\n",
      "  warnings.warn('Physical maximum for channel {} ({}) is {}, which has {} chars, '\\\n",
      "C:\\Users\\naikh\\anaconda3\\envs\\PytorchEnvironment\\Lib\\site-packages\\pyedflib\\edfwriter.py:134: UserWarning: Physical minimum for channel 4 (PSG_O1) is 0.0001098193724879835, which has 21 chars, however, EDF+ can only save 8 chars, will be truncated to 0.000109, some loss of precision is to be expected\n",
      "  warnings.warn('Physical minimum for channel {} ({}) is {}, which has {} chars, '\\\n",
      "C:\\Users\\naikh\\anaconda3\\envs\\PytorchEnvironment\\Lib\\site-packages\\pyedflib\\edfwriter.py:141: UserWarning: Physical maximum for channel 4 (PSG_O1) is 0.001673902, which has 11 chars, however, EDF+ can only save 8 chars, will be truncated to 0.001673, some loss of precision is to be expected.\n",
      "  warnings.warn('Physical maximum for channel {} ({}) is {}, which has {} chars, '\\\n",
      "C:\\Users\\naikh\\anaconda3\\envs\\PytorchEnvironment\\Lib\\site-packages\\pyedflib\\edfwriter.py:134: UserWarning: Physical minimum for channel 5 (PSG_O2) is 0.0005740680835889217, which has 21 chars, however, EDF+ can only save 8 chars, will be truncated to 0.000574, some loss of precision is to be expected\n",
      "  warnings.warn('Physical minimum for channel {} ({}) is {}, which has {} chars, '\\\n",
      "C:\\Users\\naikh\\anaconda3\\envs\\PytorchEnvironment\\Lib\\site-packages\\pyedflib\\edfwriter.py:141: UserWarning: Physical maximum for channel 5 (PSG_O2) is 0.003199999999999999, which has 20 chars, however, EDF+ can only save 8 chars, will be truncated to 0.003199, some loss of precision is to be expected.\n",
      "  warnings.warn('Physical maximum for channel {} ({}) is {}, which has {} chars, '\\\n"
     ]
    },
    {
     "name": "stdout",
     "output_type": "stream",
     "text": [
      "Extracting EDF parameters from C:\\Users\\naikh\\SleepResearchCode_experient\\Dataset_clean_for_jupyter\\sub-50\\eeg\\sub-50_task-Sleep_acq-psg_eeg.edf...\n",
      "EDF file detected\n",
      "Setting channel info structure...\n",
      "Creating raw.info structure...\n",
      "Reading 0 ... 6876159  =      0.000 ... 26859.996 secs...\n"
     ]
    },
    {
     "name": "stderr",
     "output_type": "stream",
     "text": [
      "C:\\Users\\naikh\\AppData\\Local\\Temp\\ipykernel_16604\\791336486.py:6: RuntimeWarning: Channels contain different highpass filters. Highest filter setting will be stored.\n",
      "  raw = mne.io.read_raw_edf(file_path, preload=True)\n",
      "C:\\Users\\naikh\\anaconda3\\envs\\PytorchEnvironment\\Lib\\site-packages\\pyedflib\\edfwriter.py:134: UserWarning: Physical minimum for channel 0 (PSG_F3) is -0.003199924851499199, which has 21 chars, however, EDF+ can only save 8 chars, will be truncated to -0.00319, some loss of precision is to be expected\n",
      "  warnings.warn('Physical minimum for channel {} ({}) is {}, which has {} chars, '\\\n",
      "C:\\Users\\naikh\\anaconda3\\envs\\PytorchEnvironment\\Lib\\site-packages\\pyedflib\\edfwriter.py:141: UserWarning: Physical maximum for channel 0 (PSG_F3) is 0.000589738895399405, which has 20 chars, however, EDF+ can only save 8 chars, will be truncated to 0.000589, some loss of precision is to be expected.\n",
      "  warnings.warn('Physical maximum for channel {} ({}) is {}, which has {} chars, '\\\n",
      "C:\\Users\\naikh\\anaconda3\\envs\\PytorchEnvironment\\Lib\\site-packages\\pyedflib\\edfwriter.py:134: UserWarning: Physical minimum for channel 1 (PSG_F4) is -0.003199932695826657, which has 21 chars, however, EDF+ can only save 8 chars, will be truncated to -0.00319, some loss of precision is to be expected\n",
      "  warnings.warn('Physical minimum for channel {} ({}) is {}, which has {} chars, '\\\n",
      "C:\\Users\\naikh\\anaconda3\\envs\\PytorchEnvironment\\Lib\\site-packages\\pyedflib\\edfwriter.py:141: UserWarning: Physical maximum for channel 1 (PSG_F4) is -0.00016013970681315288, which has 23 chars, however, EDF+ can only save 8 chars, will be truncated to -0.00016, some loss of precision is to be expected.\n",
      "  warnings.warn('Physical maximum for channel {} ({}) is {}, which has {} chars, '\\\n",
      "C:\\Users\\naikh\\anaconda3\\envs\\PytorchEnvironment\\Lib\\site-packages\\pyedflib\\edfwriter.py:134: UserWarning: Physical minimum for channel 2 (PSG_C3) is -0.0031999219307392995, which has 22 chars, however, EDF+ can only save 8 chars, will be truncated to -0.00319, some loss of precision is to be expected\n",
      "  warnings.warn('Physical minimum for channel {} ({}) is {}, which has {} chars, '\\\n",
      "C:\\Users\\naikh\\anaconda3\\envs\\PytorchEnvironment\\Lib\\site-packages\\pyedflib\\edfwriter.py:141: UserWarning: Physical maximum for channel 2 (PSG_C3) is 0.0008900485680933854, which has 21 chars, however, EDF+ can only save 8 chars, will be truncated to 0.000890, some loss of precision is to be expected.\n",
      "  warnings.warn('Physical maximum for channel {} ({}) is {}, which has {} chars, '\\\n",
      "C:\\Users\\naikh\\anaconda3\\envs\\PytorchEnvironment\\Lib\\site-packages\\pyedflib\\edfwriter.py:134: UserWarning: Physical minimum for channel 3 (PSG_C4) is -0.0031999301550621802, which has 22 chars, however, EDF+ can only save 8 chars, will be truncated to -0.00319, some loss of precision is to be expected\n",
      "  warnings.warn('Physical minimum for channel {} ({}) is {}, which has {} chars, '\\\n",
      "C:\\Users\\naikh\\anaconda3\\envs\\PytorchEnvironment\\Lib\\site-packages\\pyedflib\\edfwriter.py:141: UserWarning: Physical maximum for channel 3 (PSG_C4) is 7.370208053711804e-05, which has 21 chars, however, EDF+ can only save 8 chars, will be truncated to 7.370208, some loss of precision is to be expected.\n",
      "  warnings.warn('Physical maximum for channel {} ({}) is {}, which has {} chars, '\\\n",
      "C:\\Users\\naikh\\anaconda3\\envs\\PytorchEnvironment\\Lib\\site-packages\\pyedflib\\edfwriter.py:134: UserWarning: Physical minimum for channel 4 (PSG_O1) is -0.0031999367074006255, which has 22 chars, however, EDF+ can only save 8 chars, will be truncated to -0.00319, some loss of precision is to be expected\n",
      "  warnings.warn('Physical minimum for channel {} ({}) is {}, which has {} chars, '\\\n",
      "C:\\Users\\naikh\\anaconda3\\envs\\PytorchEnvironment\\Lib\\site-packages\\pyedflib\\edfwriter.py:141: UserWarning: Physical maximum for channel 4 (PSG_O1) is -0.0005117101341725796, which has 22 chars, however, EDF+ can only save 8 chars, will be truncated to -0.00051, some loss of precision is to be expected.\n",
      "  warnings.warn('Physical maximum for channel {} ({}) is {}, which has {} chars, '\\\n",
      "C:\\Users\\naikh\\anaconda3\\envs\\PytorchEnvironment\\Lib\\site-packages\\pyedflib\\edfwriter.py:134: UserWarning: Physical minimum for channel 5 (PSG_O2) is -0.0031999387042481115, which has 22 chars, however, EDF+ can only save 8 chars, will be truncated to -0.00319, some loss of precision is to be expected\n",
      "  warnings.warn('Physical minimum for channel {} ({}) is {}, which has {} chars, '\\\n",
      "C:\\Users\\naikh\\anaconda3\\envs\\PytorchEnvironment\\Lib\\site-packages\\pyedflib\\edfwriter.py:141: UserWarning: Physical maximum for channel 5 (PSG_O2) is -0.0006786605418265049, which has 22 chars, however, EDF+ can only save 8 chars, will be truncated to -0.00067, some loss of precision is to be expected.\n",
      "  warnings.warn('Physical maximum for channel {} ({}) is {}, which has {} chars, '\\\n"
     ]
    },
    {
     "name": "stdout",
     "output_type": "stream",
     "text": [
      "Extracting EDF parameters from C:\\Users\\naikh\\SleepResearchCode_experient\\Dataset_clean_for_jupyter\\sub-51\\eeg\\sub-51_task-Sleep_acq-psg_eeg.edf...\n",
      "EDF file detected\n",
      "Setting channel info structure...\n",
      "Creating raw.info structure...\n",
      "Reading 0 ... 6876159  =      0.000 ... 26859.996 secs...\n"
     ]
    },
    {
     "name": "stderr",
     "output_type": "stream",
     "text": [
      "C:\\Users\\naikh\\AppData\\Local\\Temp\\ipykernel_16604\\791336486.py:6: RuntimeWarning: Channels contain different highpass filters. Highest filter setting will be stored.\n",
      "  raw = mne.io.read_raw_edf(file_path, preload=True)\n",
      "C:\\Users\\naikh\\anaconda3\\envs\\PytorchEnvironment\\Lib\\site-packages\\pyedflib\\edfwriter.py:134: UserWarning: Physical minimum for channel 0 (PSG_F3) is -0.0006550592094941634, which has 22 chars, however, EDF+ can only save 8 chars, will be truncated to -0.00065, some loss of precision is to be expected\n",
      "  warnings.warn('Physical minimum for channel {} ({}) is {}, which has {} chars, '\\\n",
      "C:\\Users\\naikh\\anaconda3\\envs\\PytorchEnvironment\\Lib\\site-packages\\pyedflib\\edfwriter.py:141: UserWarning: Physical maximum for channel 0 (PSG_F3) is 0.0008438116999999998, which has 21 chars, however, EDF+ can only save 8 chars, will be truncated to 0.000843, some loss of precision is to be expected.\n",
      "  warnings.warn('Physical maximum for channel {} ({}) is {}, which has {} chars, '\\\n",
      "C:\\Users\\naikh\\anaconda3\\envs\\PytorchEnvironment\\Lib\\site-packages\\pyedflib\\edfwriter.py:134: UserWarning: Physical minimum for channel 1 (PSG_F4) is -0.0007209363150408178, which has 22 chars, however, EDF+ can only save 8 chars, will be truncated to -0.00072, some loss of precision is to be expected\n",
      "  warnings.warn('Physical minimum for channel {} ({}) is {}, which has {} chars, '\\\n",
      "C:\\Users\\naikh\\anaconda3\\envs\\PytorchEnvironment\\Lib\\site-packages\\pyedflib\\edfwriter.py:141: UserWarning: Physical maximum for channel 1 (PSG_F4) is 0.0006796735135728997, which has 21 chars, however, EDF+ can only save 8 chars, will be truncated to 0.000679, some loss of precision is to be expected.\n",
      "  warnings.warn('Physical maximum for channel {} ({}) is {}, which has {} chars, '\\\n",
      "C:\\Users\\naikh\\anaconda3\\envs\\PytorchEnvironment\\Lib\\site-packages\\pyedflib\\edfwriter.py:134: UserWarning: Physical minimum for channel 2 (PSG_C3) is -0.001064167946440833, which has 21 chars, however, EDF+ can only save 8 chars, will be truncated to -0.00106, some loss of precision is to be expected\n",
      "  warnings.warn('Physical minimum for channel {} ({}) is {}, which has {} chars, '\\\n",
      "C:\\Users\\naikh\\anaconda3\\envs\\PytorchEnvironment\\Lib\\site-packages\\pyedflib\\edfwriter.py:134: UserWarning: Physical minimum for channel 4 (PSG_O1) is -0.0003417303231555658, which has 22 chars, however, EDF+ can only save 8 chars, will be truncated to -0.00034, some loss of precision is to be expected\n",
      "  warnings.warn('Physical minimum for channel {} ({}) is {}, which has {} chars, '\\\n",
      "C:\\Users\\naikh\\anaconda3\\envs\\PytorchEnvironment\\Lib\\site-packages\\pyedflib\\edfwriter.py:141: UserWarning: Physical maximum for channel 4 (PSG_O1) is 0.00116032, which has 10 chars, however, EDF+ can only save 8 chars, will be truncated to 0.001160, some loss of precision is to be expected.\n",
      "  warnings.warn('Physical maximum for channel {} ({}) is {}, which has {} chars, '\\\n",
      "C:\\Users\\naikh\\anaconda3\\envs\\PytorchEnvironment\\Lib\\site-packages\\pyedflib\\edfwriter.py:134: UserWarning: Physical minimum for channel 5 (PSG_O2) is -0.00037100452831311507, which has 23 chars, however, EDF+ can only save 8 chars, will be truncated to -0.00037, some loss of precision is to be expected\n",
      "  warnings.warn('Physical minimum for channel {} ({}) is {}, which has {} chars, '\\\n",
      "C:\\Users\\naikh\\anaconda3\\envs\\PytorchEnvironment\\Lib\\site-packages\\pyedflib\\edfwriter.py:141: UserWarning: Physical maximum for channel 5 (PSG_O2) is 0.0017999789999999997, which has 21 chars, however, EDF+ can only save 8 chars, will be truncated to 0.001799, some loss of precision is to be expected.\n",
      "  warnings.warn('Physical maximum for channel {} ({}) is {}, which has {} chars, '\\\n"
     ]
    },
    {
     "name": "stdout",
     "output_type": "stream",
     "text": [
      "Extracting EDF parameters from C:\\Users\\naikh\\SleepResearchCode_experient\\Dataset_clean_for_jupyter\\sub-52\\eeg\\sub-52_task-Sleep_acq-psg_eeg.edf...\n",
      "EDF file detected\n",
      "Setting channel info structure...\n",
      "Creating raw.info structure...\n",
      "Reading 0 ... 7094271  =      0.000 ... 27711.996 secs...\n"
     ]
    },
    {
     "name": "stderr",
     "output_type": "stream",
     "text": [
      "C:\\Users\\naikh\\AppData\\Local\\Temp\\ipykernel_16604\\791336486.py:6: RuntimeWarning: Channels contain different highpass filters. Highest filter setting will be stored.\n",
      "  raw = mne.io.read_raw_edf(file_path, preload=True)\n",
      "C:\\Users\\naikh\\anaconda3\\envs\\PytorchEnvironment\\Lib\\site-packages\\pyedflib\\edfwriter.py:134: UserWarning: Physical minimum for channel 0 (PSG_F3) is -0.0003213310031082628, which has 22 chars, however, EDF+ can only save 8 chars, will be truncated to -0.00032, some loss of precision is to be expected\n",
      "  warnings.warn('Physical minimum for channel {} ({}) is {}, which has {} chars, '\\\n",
      "C:\\Users\\naikh\\anaconda3\\envs\\PytorchEnvironment\\Lib\\site-packages\\pyedflib\\edfwriter.py:141: UserWarning: Physical maximum for channel 0 (PSG_F3) is 0.0009178362999999999, which has 21 chars, however, EDF+ can only save 8 chars, will be truncated to 0.000917, some loss of precision is to be expected.\n",
      "  warnings.warn('Physical maximum for channel {} ({}) is {}, which has {} chars, '\\\n",
      "C:\\Users\\naikh\\anaconda3\\envs\\PytorchEnvironment\\Lib\\site-packages\\pyedflib\\edfwriter.py:134: UserWarning: Physical minimum for channel 1 (PSG_F4) is -0.00035033822592813, which has 20 chars, however, EDF+ can only save 8 chars, will be truncated to -0.00035, some loss of precision is to be expected\n",
      "  warnings.warn('Physical minimum for channel {} ({}) is {}, which has {} chars, '\\\n",
      "C:\\Users\\naikh\\anaconda3\\envs\\PytorchEnvironment\\Lib\\site-packages\\pyedflib\\edfwriter.py:141: UserWarning: Physical maximum for channel 1 (PSG_F4) is 0.0001215225851682307, which has 21 chars, however, EDF+ can only save 8 chars, will be truncated to 0.000121, some loss of precision is to be expected.\n",
      "  warnings.warn('Physical maximum for channel {} ({}) is {}, which has {} chars, '\\\n",
      "C:\\Users\\naikh\\anaconda3\\envs\\PytorchEnvironment\\Lib\\site-packages\\pyedflib\\edfwriter.py:134: UserWarning: Physical minimum for channel 2 (PSG_C3) is -0.0001742796311894407, which has 22 chars, however, EDF+ can only save 8 chars, will be truncated to -0.00017, some loss of precision is to be expected\n",
      "  warnings.warn('Physical minimum for channel {} ({}) is {}, which has {} chars, '\\\n",
      "C:\\Users\\naikh\\anaconda3\\envs\\PytorchEnvironment\\Lib\\site-packages\\pyedflib\\edfwriter.py:141: UserWarning: Physical maximum for channel 2 (PSG_C3) is 0.0006858015000000002, which has 21 chars, however, EDF+ can only save 8 chars, will be truncated to 0.000685, some loss of precision is to be expected.\n",
      "  warnings.warn('Physical maximum for channel {} ({}) is {}, which has {} chars, '\\\n",
      "C:\\Users\\naikh\\anaconda3\\envs\\PytorchEnvironment\\Lib\\site-packages\\pyedflib\\edfwriter.py:134: UserWarning: Physical minimum for channel 3 (PSG_C4) is -0.0002207087191485466, which has 22 chars, however, EDF+ can only save 8 chars, will be truncated to -0.00022, some loss of precision is to be expected\n",
      "  warnings.warn('Physical minimum for channel {} ({}) is {}, which has {} chars, '\\\n",
      "C:\\Users\\naikh\\anaconda3\\envs\\PytorchEnvironment\\Lib\\site-packages\\pyedflib\\edfwriter.py:141: UserWarning: Physical maximum for channel 3 (PSG_C4) is 0.0005862882, which has 12 chars, however, EDF+ can only save 8 chars, will be truncated to 0.000586, some loss of precision is to be expected.\n",
      "  warnings.warn('Physical maximum for channel {} ({}) is {}, which has {} chars, '\\\n",
      "C:\\Users\\naikh\\anaconda3\\envs\\PytorchEnvironment\\Lib\\site-packages\\pyedflib\\edfwriter.py:134: UserWarning: Physical minimum for channel 4 (PSG_O1) is -0.0002784110983443961, which has 22 chars, however, EDF+ can only save 8 chars, will be truncated to -0.00027, some loss of precision is to be expected\n",
      "  warnings.warn('Physical minimum for channel {} ({}) is {}, which has {} chars, '\\\n",
      "C:\\Users\\naikh\\anaconda3\\envs\\PytorchEnvironment\\Lib\\site-packages\\pyedflib\\edfwriter.py:141: UserWarning: Physical maximum for channel 4 (PSG_O1) is 0.0011442070000000004, which has 21 chars, however, EDF+ can only save 8 chars, will be truncated to 0.001144, some loss of precision is to be expected.\n",
      "  warnings.warn('Physical maximum for channel {} ({}) is {}, which has {} chars, '\\\n",
      "C:\\Users\\naikh\\anaconda3\\envs\\PytorchEnvironment\\Lib\\site-packages\\pyedflib\\edfwriter.py:134: UserWarning: Physical minimum for channel 5 (PSG_O2) is -0.0005189714695689327, which has 22 chars, however, EDF+ can only save 8 chars, will be truncated to -0.00051, some loss of precision is to be expected\n",
      "  warnings.warn('Physical minimum for channel {} ({}) is {}, which has {} chars, '\\\n",
      "C:\\Users\\naikh\\anaconda3\\envs\\PytorchEnvironment\\Lib\\site-packages\\pyedflib\\edfwriter.py:141: UserWarning: Physical maximum for channel 5 (PSG_O2) is 0.0005810147, which has 12 chars, however, EDF+ can only save 8 chars, will be truncated to 0.000581, some loss of precision is to be expected.\n",
      "  warnings.warn('Physical maximum for channel {} ({}) is {}, which has {} chars, '\\\n"
     ]
    },
    {
     "name": "stdout",
     "output_type": "stream",
     "text": [
      "Extracting EDF parameters from C:\\Users\\naikh\\SleepResearchCode_experient\\Dataset_clean_for_jupyter\\sub-53\\eeg\\sub-53_task-Sleep_acq-psg_eeg.edf...\n",
      "EDF file detected\n",
      "Setting channel info structure...\n",
      "Creating raw.info structure...\n",
      "Reading 0 ... 5122047  =      0.000 ... 20007.996 secs...\n"
     ]
    },
    {
     "name": "stderr",
     "output_type": "stream",
     "text": [
      "C:\\Users\\naikh\\AppData\\Local\\Temp\\ipykernel_16604\\791336486.py:6: RuntimeWarning: Channels contain different highpass filters. Highest filter setting will be stored.\n",
      "  raw = mne.io.read_raw_edf(file_path, preload=True)\n",
      "C:\\Users\\naikh\\anaconda3\\envs\\PytorchEnvironment\\Lib\\site-packages\\pyedflib\\edfwriter.py:134: UserWarning: Physical minimum for channel 0 (PSG_F3) is -0.0031999332322880905, which has 22 chars, however, EDF+ can only save 8 chars, will be truncated to -0.00319, some loss of precision is to be expected\n",
      "  warnings.warn('Physical minimum for channel {} ({}) is {}, which has {} chars, '\\\n",
      "C:\\Users\\naikh\\anaconda3\\envs\\PytorchEnvironment\\Lib\\site-packages\\pyedflib\\edfwriter.py:141: UserWarning: Physical maximum for channel 0 (PSG_F3) is -0.00020840590017547831, which has 23 chars, however, EDF+ can only save 8 chars, will be truncated to -0.00020, some loss of precision is to be expected.\n",
      "  warnings.warn('Physical maximum for channel {} ({}) is {}, which has {} chars, '\\\n",
      "C:\\Users\\naikh\\anaconda3\\envs\\PytorchEnvironment\\Lib\\site-packages\\pyedflib\\edfwriter.py:134: UserWarning: Physical minimum for channel 1 (PSG_F4) is -0.003199931403830014, which has 21 chars, however, EDF+ can only save 8 chars, will be truncated to -0.00319, some loss of precision is to be expected\n",
      "  warnings.warn('Physical minimum for channel {} ({}) is {}, which has {} chars, '\\\n",
      "C:\\Users\\naikh\\anaconda3\\envs\\PytorchEnvironment\\Lib\\site-packages\\pyedflib\\edfwriter.py:141: UserWarning: Physical maximum for channel 1 (PSG_F4) is -4.231250705729769e-05, which has 22 chars, however, EDF+ can only save 8 chars, will be truncated to -4.23125, some loss of precision is to be expected.\n",
      "  warnings.warn('Physical maximum for channel {} ({}) is {}, which has {} chars, '\\\n",
      "C:\\Users\\naikh\\anaconda3\\envs\\PytorchEnvironment\\Lib\\site-packages\\pyedflib\\edfwriter.py:134: UserWarning: Physical minimum for channel 3 (PSG_C4) is -0.0031999312697184707, which has 22 chars, however, EDF+ can only save 8 chars, will be truncated to -0.00319, some loss of precision is to be expected\n",
      "  warnings.warn('Physical minimum for channel {} ({}) is {}, which has {} chars, '\\\n",
      "C:\\Users\\naikh\\anaconda3\\envs\\PytorchEnvironment\\Lib\\site-packages\\pyedflib\\edfwriter.py:141: UserWarning: Physical maximum for channel 3 (PSG_C4) is -2.9953225040055485e-05, which has 23 chars, however, EDF+ can only save 8 chars, will be truncated to -2.99532, some loss of precision is to be expected.\n",
      "  warnings.warn('Physical maximum for channel {} ({}) is {}, which has {} chars, '\\\n",
      "C:\\Users\\naikh\\anaconda3\\envs\\PytorchEnvironment\\Lib\\site-packages\\pyedflib\\edfwriter.py:134: UserWarning: Physical minimum for channel 5 (PSG_O2) is -0.0031999433163683523, which has 22 chars, however, EDF+ can only save 8 chars, will be truncated to -0.00319, some loss of precision is to be expected\n",
      "  warnings.warn('Physical minimum for channel {} ({}) is {}, which has {} chars, '\\\n",
      "C:\\Users\\naikh\\anaconda3\\envs\\PytorchEnvironment\\Lib\\site-packages\\pyedflib\\edfwriter.py:141: UserWarning: Physical maximum for channel 5 (PSG_O2) is -0.001043811335771725, which has 21 chars, however, EDF+ can only save 8 chars, will be truncated to -0.00104, some loss of precision is to be expected.\n",
      "  warnings.warn('Physical maximum for channel {} ({}) is {}, which has {} chars, '\\\n"
     ]
    },
    {
     "name": "stdout",
     "output_type": "stream",
     "text": [
      "Extracting EDF parameters from C:\\Users\\naikh\\SleepResearchCode_experient\\Dataset_clean_for_jupyter\\sub-54\\eeg\\sub-54_task-Sleep_acq-psg_eeg.edf...\n",
      "EDF file detected\n",
      "Setting channel info structure...\n",
      "Creating raw.info structure...\n",
      "Reading 0 ... 6073087  =      0.000 ... 23722.996 secs...\n"
     ]
    },
    {
     "name": "stderr",
     "output_type": "stream",
     "text": [
      "C:\\Users\\naikh\\AppData\\Local\\Temp\\ipykernel_16604\\791336486.py:6: RuntimeWarning: Channels contain different highpass filters. Highest filter setting will be stored.\n",
      "  raw = mne.io.read_raw_edf(file_path, preload=True)\n",
      "C:\\Users\\naikh\\anaconda3\\envs\\PytorchEnvironment\\Lib\\site-packages\\pyedflib\\edfwriter.py:134: UserWarning: Physical minimum for channel 0 (PSG_F3) is -0.003199932658564126, which has 21 chars, however, EDF+ can only save 8 chars, will be truncated to -0.00319, some loss of precision is to be expected\n",
      "  warnings.warn('Physical minimum for channel {} ({}) is {}, which has {} chars, '\\\n",
      "C:\\Users\\naikh\\anaconda3\\envs\\PytorchEnvironment\\Lib\\site-packages\\pyedflib\\edfwriter.py:141: UserWarning: Physical maximum for channel 0 (PSG_F3) is -0.00015677317141985203, which has 23 chars, however, EDF+ can only save 8 chars, will be truncated to -0.00015, some loss of precision is to be expected.\n",
      "  warnings.warn('Physical maximum for channel {} ({}) is {}, which has {} chars, '\\\n",
      "C:\\Users\\naikh\\anaconda3\\envs\\PytorchEnvironment\\Lib\\site-packages\\pyedflib\\edfwriter.py:134: UserWarning: Physical minimum for channel 1 (PSG_F4) is 0.000709154699015793, which has 20 chars, however, EDF+ can only save 8 chars, will be truncated to 0.000709, some loss of precision is to be expected\n",
      "  warnings.warn('Physical minimum for channel {} ({}) is {}, which has {} chars, '\\\n",
      "C:\\Users\\naikh\\anaconda3\\envs\\PytorchEnvironment\\Lib\\site-packages\\pyedflib\\edfwriter.py:134: UserWarning: Physical minimum for channel 3 (PSG_C4) is -0.003199918661264973, which has 21 chars, however, EDF+ can only save 8 chars, will be truncated to -0.00319, some loss of precision is to be expected\n",
      "  warnings.warn('Physical minimum for channel {} ({}) is {}, which has {} chars, '\\\n",
      "C:\\Users\\naikh\\anaconda3\\envs\\PytorchEnvironment\\Lib\\site-packages\\pyedflib\\edfwriter.py:141: UserWarning: Physical maximum for channel 3 (PSG_C4) is 0.0012397935127183945, which has 21 chars, however, EDF+ can only save 8 chars, will be truncated to 0.001239, some loss of precision is to be expected.\n",
      "  warnings.warn('Physical maximum for channel {} ({}) is {}, which has {} chars, '\\\n",
      "C:\\Users\\naikh\\anaconda3\\envs\\PytorchEnvironment\\Lib\\site-packages\\pyedflib\\edfwriter.py:134: UserWarning: Physical minimum for channel 4 (PSG_O1) is -0.0031999134992751962, which has 22 chars, however, EDF+ can only save 8 chars, will be truncated to -0.00319, some loss of precision is to be expected\n",
      "  warnings.warn('Physical minimum for channel {} ({}) is {}, which has {} chars, '\\\n",
      "C:\\Users\\naikh\\anaconda3\\envs\\PytorchEnvironment\\Lib\\site-packages\\pyedflib\\edfwriter.py:141: UserWarning: Physical maximum for channel 4 (PSG_O1) is 0.0018211940733958954, which has 21 chars, however, EDF+ can only save 8 chars, will be truncated to 0.001821, some loss of precision is to be expected.\n",
      "  warnings.warn('Physical maximum for channel {} ({}) is {}, which has {} chars, '\\\n",
      "C:\\Users\\naikh\\anaconda3\\envs\\PytorchEnvironment\\Lib\\site-packages\\pyedflib\\edfwriter.py:134: UserWarning: Physical minimum for channel 5 (PSG_O2) is -0.0031999347433432517, which has 22 chars, however, EDF+ can only save 8 chars, will be truncated to -0.00319, some loss of precision is to be expected\n",
      "  warnings.warn('Physical minimum for channel {} ({}) is {}, which has {} chars, '\\\n",
      "C:\\Users\\naikh\\anaconda3\\envs\\PytorchEnvironment\\Lib\\site-packages\\pyedflib\\edfwriter.py:141: UserWarning: Physical maximum for channel 5 (PSG_O2) is -0.0003422804876783393, which has 22 chars, however, EDF+ can only save 8 chars, will be truncated to -0.00034, some loss of precision is to be expected.\n",
      "  warnings.warn('Physical maximum for channel {} ({}) is {}, which has {} chars, '\\\n"
     ]
    },
    {
     "name": "stdout",
     "output_type": "stream",
     "text": [
      "Extracting EDF parameters from C:\\Users\\naikh\\SleepResearchCode_experient\\Dataset_clean_for_jupyter\\sub-55\\eeg\\sub-55_task-Sleep_acq-psg_eeg.edf...\n",
      "EDF file detected\n",
      "Setting channel info structure...\n",
      "Creating raw.info structure...\n",
      "Reading 0 ... 8242943  =      0.000 ... 32198.996 secs...\n"
     ]
    },
    {
     "name": "stderr",
     "output_type": "stream",
     "text": [
      "C:\\Users\\naikh\\AppData\\Local\\Temp\\ipykernel_16604\\791336486.py:6: RuntimeWarning: Channels contain different highpass filters. Highest filter setting will be stored.\n",
      "  raw = mne.io.read_raw_edf(file_path, preload=True)\n",
      "C:\\Users\\naikh\\anaconda3\\envs\\PytorchEnvironment\\Lib\\site-packages\\pyedflib\\edfwriter.py:134: UserWarning: Physical minimum for channel 0 (PSG_F3) is -0.0007198353857328147, which has 22 chars, however, EDF+ can only save 8 chars, will be truncated to -0.00071, some loss of precision is to be expected\n",
      "  warnings.warn('Physical minimum for channel {} ({}) is {}, which has {} chars, '\\\n",
      "C:\\Users\\naikh\\anaconda3\\envs\\PytorchEnvironment\\Lib\\site-packages\\pyedflib\\edfwriter.py:141: UserWarning: Physical maximum for channel 0 (PSG_F3) is 0.0012090519999999993, which has 21 chars, however, EDF+ can only save 8 chars, will be truncated to 0.001209, some loss of precision is to be expected.\n",
      "  warnings.warn('Physical maximum for channel {} ({}) is {}, which has {} chars, '\\\n",
      "C:\\Users\\naikh\\anaconda3\\envs\\PytorchEnvironment\\Lib\\site-packages\\pyedflib\\edfwriter.py:134: UserWarning: Physical minimum for channel 1 (PSG_F4) is -0.000708443158937972, which has 21 chars, however, EDF+ can only save 8 chars, will be truncated to -0.00070, some loss of precision is to be expected\n",
      "  warnings.warn('Physical minimum for channel {} ({}) is {}, which has {} chars, '\\\n",
      "C:\\Users\\naikh\\anaconda3\\envs\\PytorchEnvironment\\Lib\\site-packages\\pyedflib\\edfwriter.py:141: UserWarning: Physical maximum for channel 1 (PSG_F4) is 0.0014425509999999998, which has 21 chars, however, EDF+ can only save 8 chars, will be truncated to 0.001442, some loss of precision is to be expected.\n",
      "  warnings.warn('Physical maximum for channel {} ({}) is {}, which has {} chars, '\\\n",
      "C:\\Users\\naikh\\anaconda3\\envs\\PytorchEnvironment\\Lib\\site-packages\\pyedflib\\edfwriter.py:134: UserWarning: Physical minimum for channel 2 (PSG_C3) is 0.0005096208577096208, which has 21 chars, however, EDF+ can only save 8 chars, will be truncated to 0.000509, some loss of precision is to be expected\n",
      "  warnings.warn('Physical minimum for channel {} ({}) is {}, which has {} chars, '\\\n",
      "C:\\Users\\naikh\\anaconda3\\envs\\PytorchEnvironment\\Lib\\site-packages\\pyedflib\\edfwriter.py:134: UserWarning: Physical minimum for channel 3 (PSG_C4) is -0.0008336561176928358, which has 22 chars, however, EDF+ can only save 8 chars, will be truncated to -0.00083, some loss of precision is to be expected\n",
      "  warnings.warn('Physical minimum for channel {} ({}) is {}, which has {} chars, '\\\n",
      "C:\\Users\\naikh\\anaconda3\\envs\\PytorchEnvironment\\Lib\\site-packages\\pyedflib\\edfwriter.py:141: UserWarning: Physical maximum for channel 3 (PSG_C4) is 0.001126433, which has 11 chars, however, EDF+ can only save 8 chars, will be truncated to 0.001126, some loss of precision is to be expected.\n",
      "  warnings.warn('Physical maximum for channel {} ({}) is {}, which has {} chars, '\\\n",
      "C:\\Users\\naikh\\anaconda3\\envs\\PytorchEnvironment\\Lib\\site-packages\\pyedflib\\edfwriter.py:134: UserWarning: Physical minimum for channel 4 (PSG_O1) is 0.0006313031649042496, which has 21 chars, however, EDF+ can only save 8 chars, will be truncated to 0.000631, some loss of precision is to be expected\n",
      "  warnings.warn('Physical minimum for channel {} ({}) is {}, which has {} chars, '\\\n",
      "C:\\Users\\naikh\\anaconda3\\envs\\PytorchEnvironment\\Lib\\site-packages\\pyedflib\\edfwriter.py:134: UserWarning: Physical minimum for channel 5 (PSG_O2) is -0.0002718570905973908, which has 22 chars, however, EDF+ can only save 8 chars, will be truncated to -0.00027, some loss of precision is to be expected\n",
      "  warnings.warn('Physical minimum for channel {} ({}) is {}, which has {} chars, '\\\n",
      "C:\\Users\\naikh\\anaconda3\\envs\\PytorchEnvironment\\Lib\\site-packages\\pyedflib\\edfwriter.py:141: UserWarning: Physical maximum for channel 5 (PSG_O2) is 0.0009470358999999999, which has 21 chars, however, EDF+ can only save 8 chars, will be truncated to 0.000947, some loss of precision is to be expected.\n",
      "  warnings.warn('Physical maximum for channel {} ({}) is {}, which has {} chars, '\\\n"
     ]
    },
    {
     "name": "stdout",
     "output_type": "stream",
     "text": [
      "Extracting EDF parameters from C:\\Users\\naikh\\SleepResearchCode_experient\\Dataset_clean_for_jupyter\\sub-56\\eeg\\sub-56_task-Sleep_acq-psg_eeg.edf...\n",
      "EDF file detected\n",
      "Setting channel info structure...\n",
      "Creating raw.info structure...\n",
      "Reading 0 ... 7359231  =      0.000 ... 28746.996 secs...\n"
     ]
    },
    {
     "name": "stderr",
     "output_type": "stream",
     "text": [
      "C:\\Users\\naikh\\AppData\\Local\\Temp\\ipykernel_16604\\791336486.py:6: RuntimeWarning: Channels contain different highpass filters. Highest filter setting will be stored.\n",
      "  raw = mne.io.read_raw_edf(file_path, preload=True)\n",
      "C:\\Users\\naikh\\anaconda3\\envs\\PytorchEnvironment\\Lib\\site-packages\\pyedflib\\edfwriter.py:134: UserWarning: Physical minimum for channel 0 (PSG_F3) is -0.0003235732281254291, which has 22 chars, however, EDF+ can only save 8 chars, will be truncated to -0.00032, some loss of precision is to be expected\n",
      "  warnings.warn('Physical minimum for channel {} ({}) is {}, which has {} chars, '\\\n",
      "C:\\Users\\naikh\\anaconda3\\envs\\PytorchEnvironment\\Lib\\site-packages\\pyedflib\\edfwriter.py:141: UserWarning: Physical maximum for channel 0 (PSG_F3) is 0.0009128556999999999, which has 21 chars, however, EDF+ can only save 8 chars, will be truncated to 0.000912, some loss of precision is to be expected.\n",
      "  warnings.warn('Physical maximum for channel {} ({}) is {}, which has {} chars, '\\\n",
      "C:\\Users\\naikh\\anaconda3\\envs\\PytorchEnvironment\\Lib\\site-packages\\pyedflib\\edfwriter.py:134: UserWarning: Physical minimum for channel 1 (PSG_F4) is 0.0005409352303044177, which has 21 chars, however, EDF+ can only save 8 chars, will be truncated to 0.000540, some loss of precision is to be expected\n",
      "  warnings.warn('Physical minimum for channel {} ({}) is {}, which has {} chars, '\\\n",
      "C:\\Users\\naikh\\anaconda3\\envs\\PytorchEnvironment\\Lib\\site-packages\\pyedflib\\edfwriter.py:134: UserWarning: Physical minimum for channel 2 (PSG_C3) is 0.00021182542549782573, which has 22 chars, however, EDF+ can only save 8 chars, will be truncated to 0.000211, some loss of precision is to be expected\n",
      "  warnings.warn('Physical minimum for channel {} ({}) is {}, which has {} chars, '\\\n",
      "C:\\Users\\naikh\\anaconda3\\envs\\PytorchEnvironment\\Lib\\site-packages\\pyedflib\\edfwriter.py:141: UserWarning: Physical maximum for channel 2 (PSG_C3) is 0.002174496, which has 11 chars, however, EDF+ can only save 8 chars, will be truncated to 0.002174, some loss of precision is to be expected.\n",
      "  warnings.warn('Physical maximum for channel {} ({}) is {}, which has {} chars, '\\\n",
      "C:\\Users\\naikh\\anaconda3\\envs\\PytorchEnvironment\\Lib\\site-packages\\pyedflib\\edfwriter.py:134: UserWarning: Physical minimum for channel 3 (PSG_C4) is -0.00017596134790569918, which has 23 chars, however, EDF+ can only save 8 chars, will be truncated to -0.00017, some loss of precision is to be expected\n",
      "  warnings.warn('Physical minimum for channel {} ({}) is {}, which has {} chars, '\\\n",
      "C:\\Users\\naikh\\anaconda3\\envs\\PytorchEnvironment\\Lib\\site-packages\\pyedflib\\edfwriter.py:141: UserWarning: Physical maximum for channel 3 (PSG_C4) is 0.0014290749999999997, which has 21 chars, however, EDF+ can only save 8 chars, will be truncated to 0.001429, some loss of precision is to be expected.\n",
      "  warnings.warn('Physical maximum for channel {} ({}) is {}, which has {} chars, '\\\n",
      "C:\\Users\\naikh\\anaconda3\\envs\\PytorchEnvironment\\Lib\\site-packages\\pyedflib\\edfwriter.py:134: UserWarning: Physical minimum for channel 4 (PSG_O1) is -0.00013029159871824213, which has 23 chars, however, EDF+ can only save 8 chars, will be truncated to -0.00013, some loss of precision is to be expected\n",
      "  warnings.warn('Physical minimum for channel {} ({}) is {}, which has {} chars, '\\\n",
      "C:\\Users\\naikh\\anaconda3\\envs\\PytorchEnvironment\\Lib\\site-packages\\pyedflib\\edfwriter.py:141: UserWarning: Physical maximum for channel 4 (PSG_O1) is 0.001219794, which has 11 chars, however, EDF+ can only save 8 chars, will be truncated to 0.001219, some loss of precision is to be expected.\n",
      "  warnings.warn('Physical maximum for channel {} ({}) is {}, which has {} chars, '\\\n",
      "C:\\Users\\naikh\\anaconda3\\envs\\PytorchEnvironment\\Lib\\site-packages\\pyedflib\\edfwriter.py:134: UserWarning: Physical minimum for channel 5 (PSG_O2) is 0.00013971432761120025, which has 22 chars, however, EDF+ can only save 8 chars, will be truncated to 0.000139, some loss of precision is to be expected\n",
      "  warnings.warn('Physical minimum for channel {} ({}) is {}, which has {} chars, '\\\n"
     ]
    },
    {
     "name": "stdout",
     "output_type": "stream",
     "text": [
      "Extracting EDF parameters from C:\\Users\\naikh\\SleepResearchCode_experient\\Dataset_clean_for_jupyter\\sub-57\\eeg\\sub-57_task-Sleep_acq-psg_eeg.edf...\n",
      "EDF file detected\n",
      "Setting channel info structure...\n",
      "Creating raw.info structure...\n",
      "Reading 0 ... 7925759  =      0.000 ... 30959.996 secs...\n"
     ]
    },
    {
     "name": "stderr",
     "output_type": "stream",
     "text": [
      "C:\\Users\\naikh\\AppData\\Local\\Temp\\ipykernel_16604\\791336486.py:6: RuntimeWarning: Channels contain different highpass filters. Highest filter setting will be stored.\n",
      "  raw = mne.io.read_raw_edf(file_path, preload=True)\n",
      "C:\\Users\\naikh\\anaconda3\\envs\\PytorchEnvironment\\Lib\\site-packages\\pyedflib\\edfwriter.py:134: UserWarning: Physical minimum for channel 0 (PSG_F3) is -0.00046997127603570603, which has 23 chars, however, EDF+ can only save 8 chars, will be truncated to -0.00046, some loss of precision is to be expected\n",
      "  warnings.warn('Physical minimum for channel {} ({}) is {}, which has {} chars, '\\\n",
      "C:\\Users\\naikh\\anaconda3\\envs\\PytorchEnvironment\\Lib\\site-packages\\pyedflib\\edfwriter.py:141: UserWarning: Physical maximum for channel 0 (PSG_F3) is 0.0015603269999999998, which has 21 chars, however, EDF+ can only save 8 chars, will be truncated to 0.001560, some loss of precision is to be expected.\n",
      "  warnings.warn('Physical maximum for channel {} ({}) is {}, which has {} chars, '\\\n",
      "C:\\Users\\naikh\\anaconda3\\envs\\PytorchEnvironment\\Lib\\site-packages\\pyedflib\\edfwriter.py:134: UserWarning: Physical minimum for channel 1 (PSG_F4) is -0.00042629787655451285, which has 23 chars, however, EDF+ can only save 8 chars, will be truncated to -0.00042, some loss of precision is to be expected\n",
      "  warnings.warn('Physical minimum for channel {} ({}) is {}, which has {} chars, '\\\n",
      "C:\\Users\\naikh\\anaconda3\\envs\\PytorchEnvironment\\Lib\\site-packages\\pyedflib\\edfwriter.py:141: UserWarning: Physical maximum for channel 1 (PSG_F4) is 0.0016461680000000002, which has 21 chars, however, EDF+ can only save 8 chars, will be truncated to 0.001646, some loss of precision is to be expected.\n",
      "  warnings.warn('Physical maximum for channel {} ({}) is {}, which has {} chars, '\\\n",
      "C:\\Users\\naikh\\anaconda3\\envs\\PytorchEnvironment\\Lib\\site-packages\\pyedflib\\edfwriter.py:134: UserWarning: Physical minimum for channel 2 (PSG_C3) is -0.0006633017142595559, which has 22 chars, however, EDF+ can only save 8 chars, will be truncated to -0.00066, some loss of precision is to be expected\n",
      "  warnings.warn('Physical minimum for channel {} ({}) is {}, which has {} chars, '\\\n",
      "C:\\Users\\naikh\\anaconda3\\envs\\PytorchEnvironment\\Lib\\site-packages\\pyedflib\\edfwriter.py:141: UserWarning: Physical maximum for channel 2 (PSG_C3) is 0.001445188, which has 11 chars, however, EDF+ can only save 8 chars, will be truncated to 0.001445, some loss of precision is to be expected.\n",
      "  warnings.warn('Physical maximum for channel {} ({}) is {}, which has {} chars, '\\\n",
      "C:\\Users\\naikh\\anaconda3\\envs\\PytorchEnvironment\\Lib\\site-packages\\pyedflib\\edfwriter.py:134: UserWarning: Physical minimum for channel 3 (PSG_C4) is -0.0006992304139162279, which has 22 chars, however, EDF+ can only save 8 chars, will be truncated to -0.00069, some loss of precision is to be expected\n",
      "  warnings.warn('Physical minimum for channel {} ({}) is {}, which has {} chars, '\\\n",
      "C:\\Users\\naikh\\anaconda3\\envs\\PytorchEnvironment\\Lib\\site-packages\\pyedflib\\edfwriter.py:141: UserWarning: Physical maximum for channel 3 (PSG_C4) is 0.0014822979999999997, which has 21 chars, however, EDF+ can only save 8 chars, will be truncated to 0.001482, some loss of precision is to be expected.\n",
      "  warnings.warn('Physical maximum for channel {} ({}) is {}, which has {} chars, '\\\n",
      "C:\\Users\\naikh\\anaconda3\\envs\\PytorchEnvironment\\Lib\\site-packages\\pyedflib\\edfwriter.py:134: UserWarning: Physical minimum for channel 4 (PSG_O1) is 0.00016257160027466236, which has 22 chars, however, EDF+ can only save 8 chars, will be truncated to 0.000162, some loss of precision is to be expected\n",
      "  warnings.warn('Physical minimum for channel {} ({}) is {}, which has {} chars, '\\\n",
      "C:\\Users\\naikh\\anaconda3\\envs\\PytorchEnvironment\\Lib\\site-packages\\pyedflib\\edfwriter.py:141: UserWarning: Physical maximum for channel 4 (PSG_O1) is 0.001191278, which has 11 chars, however, EDF+ can only save 8 chars, will be truncated to 0.001191, some loss of precision is to be expected.\n",
      "  warnings.warn('Physical maximum for channel {} ({}) is {}, which has {} chars, '\\\n",
      "C:\\Users\\naikh\\anaconda3\\envs\\PytorchEnvironment\\Lib\\site-packages\\pyedflib\\edfwriter.py:134: UserWarning: Physical minimum for channel 5 (PSG_O2) is -0.00020721469056229493, which has 23 chars, however, EDF+ can only save 8 chars, will be truncated to -0.00020, some loss of precision is to be expected\n",
      "  warnings.warn('Physical minimum for channel {} ({}) is {}, which has {} chars, '\\\n",
      "C:\\Users\\naikh\\anaconda3\\envs\\PytorchEnvironment\\Lib\\site-packages\\pyedflib\\edfwriter.py:141: UserWarning: Physical maximum for channel 5 (PSG_O2) is 0.000727306, which has 11 chars, however, EDF+ can only save 8 chars, will be truncated to 0.000727, some loss of precision is to be expected.\n",
      "  warnings.warn('Physical maximum for channel {} ({}) is {}, which has {} chars, '\\\n"
     ]
    },
    {
     "name": "stdout",
     "output_type": "stream",
     "text": [
      "Extracting EDF parameters from C:\\Users\\naikh\\SleepResearchCode_experient\\Dataset_clean_for_jupyter\\sub-58\\eeg\\sub-58_task-Sleep_acq-psg_eeg.edf...\n",
      "EDF file detected\n",
      "Setting channel info structure...\n",
      "Creating raw.info structure...\n",
      "Reading 0 ... 7721471  =      0.000 ... 30161.996 secs...\n"
     ]
    },
    {
     "name": "stderr",
     "output_type": "stream",
     "text": [
      "C:\\Users\\naikh\\AppData\\Local\\Temp\\ipykernel_16604\\791336486.py:6: RuntimeWarning: Channels contain different highpass filters. Highest filter setting will be stored.\n",
      "  raw = mne.io.read_raw_edf(file_path, preload=True)\n",
      "C:\\Users\\naikh\\anaconda3\\envs\\PytorchEnvironment\\Lib\\site-packages\\pyedflib\\edfwriter.py:134: UserWarning: Physical minimum for channel 0 (PSG_F3) is -0.0007807995762066072, which has 22 chars, however, EDF+ can only save 8 chars, will be truncated to -0.00078, some loss of precision is to be expected\n",
      "  warnings.warn('Physical minimum for channel {} ({}) is {}, which has {} chars, '\\\n",
      "C:\\Users\\naikh\\anaconda3\\envs\\PytorchEnvironment\\Lib\\site-packages\\pyedflib\\edfwriter.py:141: UserWarning: Physical maximum for channel 0 (PSG_F3) is 0.0006020533385366597, which has 21 chars, however, EDF+ can only save 8 chars, will be truncated to 0.000602, some loss of precision is to be expected.\n",
      "  warnings.warn('Physical maximum for channel {} ({}) is {}, which has {} chars, '\\\n",
      "C:\\Users\\naikh\\anaconda3\\envs\\PytorchEnvironment\\Lib\\site-packages\\pyedflib\\edfwriter.py:134: UserWarning: Physical minimum for channel 1 (PSG_F4) is 0.0001878861888761729, which has 21 chars, however, EDF+ can only save 8 chars, will be truncated to 0.000187, some loss of precision is to be expected\n",
      "  warnings.warn('Physical minimum for channel {} ({}) is {}, which has {} chars, '\\\n",
      "C:\\Users\\naikh\\anaconda3\\envs\\PytorchEnvironment\\Lib\\site-packages\\pyedflib\\edfwriter.py:141: UserWarning: Physical maximum for channel 1 (PSG_F4) is 0.0015512439999999996, which has 21 chars, however, EDF+ can only save 8 chars, will be truncated to 0.001551, some loss of precision is to be expected.\n",
      "  warnings.warn('Physical maximum for channel {} ({}) is {}, which has {} chars, '\\\n",
      "C:\\Users\\naikh\\anaconda3\\envs\\PytorchEnvironment\\Lib\\site-packages\\pyedflib\\edfwriter.py:134: UserWarning: Physical minimum for channel 2 (PSG_C3) is 0.0008057999324788281, which has 21 chars, however, EDF+ can only save 8 chars, will be truncated to 0.000805, some loss of precision is to be expected\n",
      "  warnings.warn('Physical minimum for channel {} ({}) is {}, which has {} chars, '\\\n",
      "C:\\Users\\naikh\\anaconda3\\envs\\PytorchEnvironment\\Lib\\site-packages\\pyedflib\\edfwriter.py:134: UserWarning: Physical minimum for channel 3 (PSG_C4) is 0.00021775850217441075, which has 22 chars, however, EDF+ can only save 8 chars, will be truncated to 0.000217, some loss of precision is to be expected\n",
      "  warnings.warn('Physical minimum for channel {} ({}) is {}, which has {} chars, '\\\n",
      "C:\\Users\\naikh\\anaconda3\\envs\\PytorchEnvironment\\Lib\\site-packages\\pyedflib\\edfwriter.py:141: UserWarning: Physical maximum for channel 3 (PSG_C4) is 0.0019380670000000003, which has 21 chars, however, EDF+ can only save 8 chars, will be truncated to 0.001938, some loss of precision is to be expected.\n",
      "  warnings.warn('Physical maximum for channel {} ({}) is {}, which has {} chars, '\\\n",
      "C:\\Users\\naikh\\anaconda3\\envs\\PytorchEnvironment\\Lib\\site-packages\\pyedflib\\edfwriter.py:134: UserWarning: Physical minimum for channel 4 (PSG_O1) is -0.0005988615999389639, which has 22 chars, however, EDF+ can only save 8 chars, will be truncated to -0.00059, some loss of precision is to be expected\n",
      "  warnings.warn('Physical minimum for channel {} ({}) is {}, which has {} chars, '\\\n",
      "C:\\Users\\naikh\\anaconda3\\envs\\PytorchEnvironment\\Lib\\site-packages\\pyedflib\\edfwriter.py:141: UserWarning: Physical maximum for channel 4 (PSG_O1) is 0.0010252599999999998, which has 21 chars, however, EDF+ can only save 8 chars, will be truncated to 0.001025, some loss of precision is to be expected.\n",
      "  warnings.warn('Physical maximum for channel {} ({}) is {}, which has {} chars, '\\\n",
      "C:\\Users\\naikh\\anaconda3\\envs\\PytorchEnvironment\\Lib\\site-packages\\pyedflib\\edfwriter.py:134: UserWarning: Physical minimum for channel 5 (PSG_O2) is -0.00022109258263523305, which has 23 chars, however, EDF+ can only save 8 chars, will be truncated to -0.00022, some loss of precision is to be expected\n",
      "  warnings.warn('Physical minimum for channel {} ({}) is {}, which has {} chars, '\\\n",
      "C:\\Users\\naikh\\anaconda3\\envs\\PytorchEnvironment\\Lib\\site-packages\\pyedflib\\edfwriter.py:141: UserWarning: Physical maximum for channel 5 (PSG_O2) is 0.001568627, which has 11 chars, however, EDF+ can only save 8 chars, will be truncated to 0.001568, some loss of precision is to be expected.\n",
      "  warnings.warn('Physical maximum for channel {} ({}) is {}, which has {} chars, '\\\n"
     ]
    },
    {
     "name": "stdout",
     "output_type": "stream",
     "text": [
      "Extracting EDF parameters from C:\\Users\\naikh\\SleepResearchCode_experient\\Dataset_clean_for_jupyter\\sub-59\\eeg\\sub-59_task-Sleep_acq-psg_eeg.edf...\n",
      "EDF file detected\n",
      "Setting channel info structure...\n",
      "Creating raw.info structure...\n",
      "Reading 0 ... 8122879  =      0.000 ... 31729.996 secs...\n"
     ]
    },
    {
     "name": "stderr",
     "output_type": "stream",
     "text": [
      "C:\\Users\\naikh\\AppData\\Local\\Temp\\ipykernel_16604\\791336486.py:6: RuntimeWarning: Channels contain different highpass filters. Highest filter setting will be stored.\n",
      "  raw = mne.io.read_raw_edf(file_path, preload=True)\n",
      "C:\\Users\\naikh\\anaconda3\\envs\\PytorchEnvironment\\Lib\\site-packages\\pyedflib\\edfwriter.py:134: UserWarning: Physical minimum for channel 0 (PSG_F3) is -0.0031999336301670863, which has 22 chars, however, EDF+ can only save 8 chars, will be truncated to -0.00319, some loss of precision is to be expected\n",
      "  warnings.warn('Physical minimum for channel {} ({}) is {}, which has {} chars, '\\\n",
      "C:\\Users\\naikh\\anaconda3\\envs\\PytorchEnvironment\\Lib\\site-packages\\pyedflib\\edfwriter.py:141: UserWarning: Physical maximum for channel 0 (PSG_F3) is -0.00024395401185625974, which has 23 chars, however, EDF+ can only save 8 chars, will be truncated to -0.00024, some loss of precision is to be expected.\n",
      "  warnings.warn('Physical maximum for channel {} ({}) is {}, which has {} chars, '\\\n",
      "C:\\Users\\naikh\\anaconda3\\envs\\PytorchEnvironment\\Lib\\site-packages\\pyedflib\\edfwriter.py:134: UserWarning: Physical minimum for channel 1 (PSG_F4) is -0.003199936430226596, which has 21 chars, however, EDF+ can only save 8 chars, will be truncated to -0.00319, some loss of precision is to be expected\n",
      "  warnings.warn('Physical minimum for channel {} ({}) is {}, which has {} chars, '\\\n",
      "C:\\Users\\naikh\\anaconda3\\envs\\PytorchEnvironment\\Lib\\site-packages\\pyedflib\\edfwriter.py:141: UserWarning: Physical maximum for channel 1 (PSG_F4) is -0.0004881134666056306, which has 22 chars, however, EDF+ can only save 8 chars, will be truncated to -0.00048, some loss of precision is to be expected.\n",
      "  warnings.warn('Physical maximum for channel {} ({}) is {}, which has {} chars, '\\\n",
      "C:\\Users\\naikh\\anaconda3\\envs\\PytorchEnvironment\\Lib\\site-packages\\pyedflib\\edfwriter.py:134: UserWarning: Physical minimum for channel 2 (PSG_C3) is 0.0009901416291905089, which has 21 chars, however, EDF+ can only save 8 chars, will be truncated to 0.000990, some loss of precision is to be expected\n",
      "  warnings.warn('Physical minimum for channel {} ({}) is {}, which has {} chars, '\\\n",
      "C:\\Users\\naikh\\anaconda3\\envs\\PytorchEnvironment\\Lib\\site-packages\\pyedflib\\edfwriter.py:134: UserWarning: Physical minimum for channel 3 (PSG_C4) is -0.003199937066535439, which has 21 chars, however, EDF+ can only save 8 chars, will be truncated to -0.00319, some loss of precision is to be expected\n",
      "  warnings.warn('Physical minimum for channel {} ({}) is {}, which has {} chars, '\\\n",
      "C:\\Users\\naikh\\anaconda3\\envs\\PytorchEnvironment\\Lib\\site-packages\\pyedflib\\edfwriter.py:141: UserWarning: Physical maximum for channel 3 (PSG_C4) is -0.0005421309911985959, which has 22 chars, however, EDF+ can only save 8 chars, will be truncated to -0.00054, some loss of precision is to be expected.\n",
      "  warnings.warn('Physical maximum for channel {} ({}) is {}, which has {} chars, '\\\n",
      "C:\\Users\\naikh\\anaconda3\\envs\\PytorchEnvironment\\Lib\\site-packages\\pyedflib\\edfwriter.py:134: UserWarning: Physical minimum for channel 4 (PSG_O1) is -0.002209793687251087, which has 21 chars, however, EDF+ can only save 8 chars, will be truncated to -0.00220, some loss of precision is to be expected\n",
      "  warnings.warn('Physical minimum for channel {} ({}) is {}, which has {} chars, '\\\n",
      "C:\\Users\\naikh\\anaconda3\\envs\\PytorchEnvironment\\Lib\\site-packages\\pyedflib\\edfwriter.py:141: UserWarning: Physical maximum for channel 4 (PSG_O1) is 0.000871696246005951, which has 20 chars, however, EDF+ can only save 8 chars, will be truncated to 0.000871, some loss of precision is to be expected.\n",
      "  warnings.warn('Physical maximum for channel {} ({}) is {}, which has {} chars, '\\\n",
      "C:\\Users\\naikh\\anaconda3\\envs\\PytorchEnvironment\\Lib\\site-packages\\pyedflib\\edfwriter.py:134: UserWarning: Physical minimum for channel 5 (PSG_O2) is -0.0031999373824536503, which has 22 chars, however, EDF+ can only save 8 chars, will be truncated to -0.00319, some loss of precision is to be expected\n",
      "  warnings.warn('Physical minimum for channel {} ({}) is {}, which has {} chars, '\\\n",
      "C:\\Users\\naikh\\anaconda3\\envs\\PytorchEnvironment\\Lib\\site-packages\\pyedflib\\edfwriter.py:141: UserWarning: Physical maximum for channel 5 (PSG_O2) is -0.0005687480848569463, which has 22 chars, however, EDF+ can only save 8 chars, will be truncated to -0.00056, some loss of precision is to be expected.\n",
      "  warnings.warn('Physical maximum for channel {} ({}) is {}, which has {} chars, '\\\n"
     ]
    },
    {
     "name": "stdout",
     "output_type": "stream",
     "text": [
      "Extracting EDF parameters from C:\\Users\\naikh\\SleepResearchCode_experient\\Dataset_clean_for_jupyter\\sub-60\\eeg\\sub-60_task-Sleep_acq-psg_eeg.edf...\n",
      "EDF file detected\n",
      "Setting channel info structure...\n",
      "Creating raw.info structure...\n",
      "Reading 0 ... 7087359  =      0.000 ... 27684.996 secs...\n"
     ]
    },
    {
     "name": "stderr",
     "output_type": "stream",
     "text": [
      "C:\\Users\\naikh\\AppData\\Local\\Temp\\ipykernel_16604\\791336486.py:6: RuntimeWarning: Channels contain different highpass filters. Highest filter setting will be stored.\n",
      "  raw = mne.io.read_raw_edf(file_path, preload=True)\n",
      "C:\\Users\\naikh\\anaconda3\\envs\\PytorchEnvironment\\Lib\\site-packages\\pyedflib\\edfwriter.py:134: UserWarning: Physical minimum for channel 0 (PSG_F3) is -0.0004091457198443579, which has 22 chars, however, EDF+ can only save 8 chars, will be truncated to -0.00040, some loss of precision is to be expected\n",
      "  warnings.warn('Physical minimum for channel {} ({}) is {}, which has {} chars, '\\\n",
      "C:\\Users\\naikh\\anaconda3\\envs\\PytorchEnvironment\\Lib\\site-packages\\pyedflib\\edfwriter.py:141: UserWarning: Physical maximum for channel 0 (PSG_F3) is 0.001279072, which has 11 chars, however, EDF+ can only save 8 chars, will be truncated to 0.001279, some loss of precision is to be expected.\n",
      "  warnings.warn('Physical maximum for channel {} ({}) is {}, which has {} chars, '\\\n",
      "C:\\Users\\naikh\\anaconda3\\envs\\PytorchEnvironment\\Lib\\site-packages\\pyedflib\\edfwriter.py:134: UserWarning: Physical minimum for channel 1 (PSG_F4) is -0.0007814845730357824, which has 22 chars, however, EDF+ can only save 8 chars, will be truncated to -0.00078, some loss of precision is to be expected\n",
      "  warnings.warn('Physical minimum for channel {} ({}) is {}, which has {} chars, '\\\n",
      "C:\\Users\\naikh\\anaconda3\\envs\\PytorchEnvironment\\Lib\\site-packages\\pyedflib\\edfwriter.py:141: UserWarning: Physical maximum for channel 1 (PSG_F4) is 0.00048004937223926163, which has 22 chars, however, EDF+ can only save 8 chars, will be truncated to 0.000480, some loss of precision is to be expected.\n",
      "  warnings.warn('Physical maximum for channel {} ({}) is {}, which has {} chars, '\\\n",
      "C:\\Users\\naikh\\anaconda3\\envs\\PytorchEnvironment\\Lib\\site-packages\\pyedflib\\edfwriter.py:134: UserWarning: Physical minimum for channel 2 (PSG_C3) is -9.031088471808947e-05, which has 22 chars, however, EDF+ can only save 8 chars, will be truncated to -9.03108, some loss of precision is to be expected\n",
      "  warnings.warn('Physical minimum for channel {} ({}) is {}, which has {} chars, '\\\n",
      "C:\\Users\\naikh\\anaconda3\\envs\\PytorchEnvironment\\Lib\\site-packages\\pyedflib\\edfwriter.py:141: UserWarning: Physical maximum for channel 2 (PSG_C3) is 0.001727126, which has 11 chars, however, EDF+ can only save 8 chars, will be truncated to 0.001727, some loss of precision is to be expected.\n",
      "  warnings.warn('Physical maximum for channel {} ({}) is {}, which has {} chars, '\\\n",
      "C:\\Users\\naikh\\anaconda3\\envs\\PytorchEnvironment\\Lib\\site-packages\\pyedflib\\edfwriter.py:134: UserWarning: Physical minimum for channel 3 (PSG_C4) is -0.00028362149878690773, which has 23 chars, however, EDF+ can only save 8 chars, will be truncated to -0.00028, some loss of precision is to be expected\n",
      "  warnings.warn('Physical minimum for channel {} ({}) is {}, which has {} chars, '\\\n",
      "C:\\Users\\naikh\\anaconda3\\envs\\PytorchEnvironment\\Lib\\site-packages\\pyedflib\\edfwriter.py:141: UserWarning: Physical maximum for channel 3 (PSG_C4) is 0.001778103, which has 11 chars, however, EDF+ can only save 8 chars, will be truncated to 0.001778, some loss of precision is to be expected.\n",
      "  warnings.warn('Physical maximum for channel {} ({}) is {}, which has {} chars, '\\\n",
      "C:\\Users\\naikh\\anaconda3\\envs\\PytorchEnvironment\\Lib\\site-packages\\pyedflib\\edfwriter.py:134: UserWarning: Physical minimum for channel 4 (PSG_O1) is -0.000582455567956054, which has 21 chars, however, EDF+ can only save 8 chars, will be truncated to -0.00058, some loss of precision is to be expected\n",
      "  warnings.warn('Physical minimum for channel {} ({}) is {}, which has {} chars, '\\\n",
      "C:\\Users\\naikh\\anaconda3\\envs\\PytorchEnvironment\\Lib\\site-packages\\pyedflib\\edfwriter.py:141: UserWarning: Physical maximum for channel 4 (PSG_O1) is 0.0010100250000000001, which has 21 chars, however, EDF+ can only save 8 chars, will be truncated to 0.001010, some loss of precision is to be expected.\n",
      "  warnings.warn('Physical maximum for channel {} ({}) is {}, which has {} chars, '\\\n",
      "C:\\Users\\naikh\\anaconda3\\envs\\PytorchEnvironment\\Lib\\site-packages\\pyedflib\\edfwriter.py:134: UserWarning: Physical minimum for channel 5 (PSG_O2) is -0.0008272843749111161, which has 22 chars, however, EDF+ can only save 8 chars, will be truncated to -0.00082, some loss of precision is to be expected\n",
      "  warnings.warn('Physical minimum for channel {} ({}) is {}, which has {} chars, '\\\n",
      "C:\\Users\\naikh\\anaconda3\\envs\\PytorchEnvironment\\Lib\\site-packages\\pyedflib\\edfwriter.py:141: UserWarning: Physical maximum for channel 5 (PSG_O2) is 0.0006214533256214236, which has 21 chars, however, EDF+ can only save 8 chars, will be truncated to 0.000621, some loss of precision is to be expected.\n",
      "  warnings.warn('Physical maximum for channel {} ({}) is {}, which has {} chars, '\\\n"
     ]
    },
    {
     "name": "stdout",
     "output_type": "stream",
     "text": [
      "Extracting EDF parameters from C:\\Users\\naikh\\SleepResearchCode_experient\\Dataset_clean_for_jupyter\\sub-61\\eeg\\sub-61_task-Sleep_acq-psg_eeg.edf...\n",
      "EDF file detected\n",
      "Setting channel info structure...\n",
      "Creating raw.info structure...\n",
      "Reading 0 ... 7287551  =      0.000 ... 28466.996 secs...\n"
     ]
    },
    {
     "name": "stderr",
     "output_type": "stream",
     "text": [
      "C:\\Users\\naikh\\AppData\\Local\\Temp\\ipykernel_16604\\791336486.py:6: RuntimeWarning: Channels contain different highpass filters. Highest filter setting will be stored.\n",
      "  raw = mne.io.read_raw_edf(file_path, preload=True)\n",
      "C:\\Users\\naikh\\anaconda3\\envs\\PytorchEnvironment\\Lib\\site-packages\\pyedflib\\edfwriter.py:134: UserWarning: Physical minimum for channel 0 (PSG_F3) is -8.071102220187679e-05, which has 22 chars, however, EDF+ can only save 8 chars, will be truncated to -8.07110, some loss of precision is to be expected\n",
      "  warnings.warn('Physical minimum for channel {} ({}) is {}, which has {} chars, '\\\n",
      "C:\\Users\\naikh\\anaconda3\\envs\\PytorchEnvironment\\Lib\\site-packages\\pyedflib\\edfwriter.py:141: UserWarning: Physical maximum for channel 0 (PSG_F3) is 0.0007238880000000001, which has 21 chars, however, EDF+ can only save 8 chars, will be truncated to 0.000723, some loss of precision is to be expected.\n",
      "  warnings.warn('Physical maximum for channel {} ({}) is {}, which has {} chars, '\\\n",
      "C:\\Users\\naikh\\anaconda3\\envs\\PytorchEnvironment\\Lib\\site-packages\\pyedflib\\edfwriter.py:134: UserWarning: Physical minimum for channel 1 (PSG_F4) is -1.83324891737239e-05, which has 21 chars, however, EDF+ can only save 8 chars, will be truncated to -1.83324, some loss of precision is to be expected\n",
      "  warnings.warn('Physical minimum for channel {} ({}) is {}, which has {} chars, '\\\n",
      "C:\\Users\\naikh\\anaconda3\\envs\\PytorchEnvironment\\Lib\\site-packages\\pyedflib\\edfwriter.py:141: UserWarning: Physical maximum for channel 1 (PSG_F4) is 0.001021158, which has 11 chars, however, EDF+ can only save 8 chars, will be truncated to 0.001021, some loss of precision is to be expected.\n",
      "  warnings.warn('Physical maximum for channel {} ({}) is {}, which has {} chars, '\\\n",
      "C:\\Users\\naikh\\anaconda3\\envs\\PytorchEnvironment\\Lib\\site-packages\\pyedflib\\edfwriter.py:134: UserWarning: Physical minimum for channel 2 (PSG_C3) is 0.0009850146651102462, which has 21 chars, however, EDF+ can only save 8 chars, will be truncated to 0.000985, some loss of precision is to be expected\n",
      "  warnings.warn('Physical minimum for channel {} ({}) is {}, which has {} chars, '\\\n",
      "C:\\Users\\naikh\\anaconda3\\envs\\PytorchEnvironment\\Lib\\site-packages\\pyedflib\\edfwriter.py:141: UserWarning: Physical maximum for channel 2 (PSG_C3) is 0.0030748029999999997, which has 21 chars, however, EDF+ can only save 8 chars, will be truncated to 0.003074, some loss of precision is to be expected.\n",
      "  warnings.warn('Physical maximum for channel {} ({}) is {}, which has {} chars, '\\\n",
      "C:\\Users\\naikh\\anaconda3\\envs\\PytorchEnvironment\\Lib\\site-packages\\pyedflib\\edfwriter.py:134: UserWarning: Physical minimum for channel 3 (PSG_C4) is -0.000176412797019913, which has 21 chars, however, EDF+ can only save 8 chars, will be truncated to -0.00017, some loss of precision is to be expected\n",
      "  warnings.warn('Physical minimum for channel {} ({}) is {}, which has {} chars, '\\\n",
      "C:\\Users\\naikh\\anaconda3\\envs\\PytorchEnvironment\\Lib\\site-packages\\pyedflib\\edfwriter.py:141: UserWarning: Physical maximum for channel 3 (PSG_C4) is 0.0006411719, which has 12 chars, however, EDF+ can only save 8 chars, will be truncated to 0.000641, some loss of precision is to be expected.\n",
      "  warnings.warn('Physical maximum for channel {} ({}) is {}, which has {} chars, '\\\n",
      "C:\\Users\\naikh\\anaconda3\\envs\\PytorchEnvironment\\Lib\\site-packages\\pyedflib\\edfwriter.py:134: UserWarning: Physical minimum for channel 4 (PSG_O1) is 0.0001987191053788052, which has 21 chars, however, EDF+ can only save 8 chars, will be truncated to 0.000198, some loss of precision is to be expected\n",
      "  warnings.warn('Physical minimum for channel {} ({}) is {}, which has {} chars, '\\\n",
      "C:\\Users\\naikh\\anaconda3\\envs\\PytorchEnvironment\\Lib\\site-packages\\pyedflib\\edfwriter.py:141: UserWarning: Physical maximum for channel 4 (PSG_O1) is 0.001204755, which has 11 chars, however, EDF+ can only save 8 chars, will be truncated to 0.001204, some loss of precision is to be expected.\n",
      "  warnings.warn('Physical maximum for channel {} ({}) is {}, which has {} chars, '\\\n",
      "C:\\Users\\naikh\\anaconda3\\envs\\PytorchEnvironment\\Lib\\site-packages\\pyedflib\\edfwriter.py:134: UserWarning: Physical minimum for channel 5 (PSG_O2) is -0.00025937243479972526, which has 23 chars, however, EDF+ can only save 8 chars, will be truncated to -0.00025, some loss of precision is to be expected\n",
      "  warnings.warn('Physical minimum for channel {} ({}) is {}, which has {} chars, '\\\n",
      "C:\\Users\\naikh\\anaconda3\\envs\\PytorchEnvironment\\Lib\\site-packages\\pyedflib\\edfwriter.py:141: UserWarning: Physical maximum for channel 5 (PSG_O2) is 0.0005456626000000001, which has 21 chars, however, EDF+ can only save 8 chars, will be truncated to 0.000545, some loss of precision is to be expected.\n",
      "  warnings.warn('Physical maximum for channel {} ({}) is {}, which has {} chars, '\\\n"
     ]
    },
    {
     "name": "stdout",
     "output_type": "stream",
     "text": [
      "Extracting EDF parameters from C:\\Users\\naikh\\SleepResearchCode_experient\\Dataset_clean_for_jupyter\\sub-62\\eeg\\sub-62_task-Sleep_acq-psg_eeg.edf...\n",
      "EDF file detected\n",
      "Setting channel info structure...\n",
      "Creating raw.info structure...\n",
      "Reading 0 ... 7550463  =      0.000 ... 29493.996 secs...\n"
     ]
    },
    {
     "name": "stderr",
     "output_type": "stream",
     "text": [
      "C:\\Users\\naikh\\AppData\\Local\\Temp\\ipykernel_16604\\791336486.py:6: RuntimeWarning: Channels contain different highpass filters. Highest filter setting will be stored.\n",
      "  raw = mne.io.read_raw_edf(file_path, preload=True)\n",
      "C:\\Users\\naikh\\anaconda3\\envs\\PytorchEnvironment\\Lib\\site-packages\\pyedflib\\edfwriter.py:134: UserWarning: Physical minimum for channel 0 (PSG_F3) is -0.0007488651736461432, which has 22 chars, however, EDF+ can only save 8 chars, will be truncated to -0.00074, some loss of precision is to be expected\n",
      "  warnings.warn('Physical minimum for channel {} ({}) is {}, which has {} chars, '\\\n",
      "C:\\Users\\naikh\\anaconda3\\envs\\PytorchEnvironment\\Lib\\site-packages\\pyedflib\\edfwriter.py:141: UserWarning: Physical maximum for channel 0 (PSG_F3) is 0.0007451881653376058, which has 21 chars, however, EDF+ can only save 8 chars, will be truncated to 0.000745, some loss of precision is to be expected.\n",
      "  warnings.warn('Physical maximum for channel {} ({}) is {}, which has {} chars, '\\\n",
      "C:\\Users\\naikh\\anaconda3\\envs\\PytorchEnvironment\\Lib\\site-packages\\pyedflib\\edfwriter.py:134: UserWarning: Physical minimum for channel 1 (PSG_F4) is -0.0006986712642481117, which has 22 chars, however, EDF+ can only save 8 chars, will be truncated to -0.00069, some loss of precision is to be expected\n",
      "  warnings.warn('Physical minimum for channel {} ({}) is {}, which has {} chars, '\\\n",
      "C:\\Users\\naikh\\anaconda3\\envs\\PytorchEnvironment\\Lib\\site-packages\\pyedflib\\edfwriter.py:141: UserWarning: Physical maximum for channel 1 (PSG_F4) is 0.0006228182035934995, which has 21 chars, however, EDF+ can only save 8 chars, will be truncated to 0.000622, some loss of precision is to be expected.\n",
      "  warnings.warn('Physical maximum for channel {} ({}) is {}, which has {} chars, '\\\n",
      "C:\\Users\\naikh\\anaconda3\\envs\\PytorchEnvironment\\Lib\\site-packages\\pyedflib\\edfwriter.py:134: UserWarning: Physical minimum for channel 4 (PSG_O1) is -0.00041369712666514076, which has 23 chars, however, EDF+ can only save 8 chars, will be truncated to -0.00041, some loss of precision is to be expected\n",
      "  warnings.warn('Physical minimum for channel {} ({}) is {}, which has {} chars, '\\\n",
      "C:\\Users\\naikh\\anaconda3\\envs\\PytorchEnvironment\\Lib\\site-packages\\pyedflib\\edfwriter.py:141: UserWarning: Physical maximum for channel 4 (PSG_O1) is 0.0012535839999999999, which has 21 chars, however, EDF+ can only save 8 chars, will be truncated to 0.001253, some loss of precision is to be expected.\n",
      "  warnings.warn('Physical maximum for channel {} ({}) is {}, which has {} chars, '\\\n",
      "C:\\Users\\naikh\\anaconda3\\envs\\PytorchEnvironment\\Lib\\site-packages\\pyedflib\\edfwriter.py:134: UserWarning: Physical minimum for channel 5 (PSG_O2) is -0.0009864582909285115, which has 22 chars, however, EDF+ can only save 8 chars, will be truncated to -0.00098, some loss of precision is to be expected\n",
      "  warnings.warn('Physical minimum for channel {} ({}) is {}, which has {} chars, '\\\n",
      "C:\\Users\\naikh\\anaconda3\\envs\\PytorchEnvironment\\Lib\\site-packages\\pyedflib\\edfwriter.py:141: UserWarning: Physical maximum for channel 5 (PSG_O2) is 0.001057194, which has 11 chars, however, EDF+ can only save 8 chars, will be truncated to 0.001057, some loss of precision is to be expected.\n",
      "  warnings.warn('Physical maximum for channel {} ({}) is {}, which has {} chars, '\\\n"
     ]
    },
    {
     "name": "stdout",
     "output_type": "stream",
     "text": [
      "Extracting EDF parameters from C:\\Users\\naikh\\SleepResearchCode_experient\\Dataset_clean_for_jupyter\\sub-63\\eeg\\sub-63_task-Sleep_acq-psg_eeg.edf...\n",
      "EDF file detected\n",
      "Setting channel info structure...\n",
      "Creating raw.info structure...\n",
      "Reading 0 ... 6825215  =      0.000 ... 26660.996 secs...\n"
     ]
    },
    {
     "name": "stderr",
     "output_type": "stream",
     "text": [
      "C:\\Users\\naikh\\AppData\\Local\\Temp\\ipykernel_16604\\791336486.py:6: RuntimeWarning: Channels contain different highpass filters. Highest filter setting will be stored.\n",
      "  raw = mne.io.read_raw_edf(file_path, preload=True)\n",
      "C:\\Users\\naikh\\anaconda3\\envs\\PytorchEnvironment\\Lib\\site-packages\\pyedflib\\edfwriter.py:134: UserWarning: Physical minimum for channel 0 (PSG_F3) is -0.0031999397443961243, which has 22 chars, however, EDF+ can only save 8 chars, will be truncated to -0.00319, some loss of precision is to be expected\n",
      "  warnings.warn('Physical minimum for channel {} ({}) is {}, which has {} chars, '\\\n",
      "C:\\Users\\naikh\\anaconda3\\envs\\PytorchEnvironment\\Lib\\site-packages\\pyedflib\\edfwriter.py:141: UserWarning: Physical maximum for channel 0 (PSG_F3) is -0.0007635044016784924, which has 22 chars, however, EDF+ can only save 8 chars, will be truncated to -0.00076, some loss of precision is to be expected.\n",
      "  warnings.warn('Physical maximum for channel {} ({}) is {}, which has {} chars, '\\\n",
      "C:\\Users\\naikh\\anaconda3\\envs\\PytorchEnvironment\\Lib\\site-packages\\pyedflib\\edfwriter.py:134: UserWarning: Physical minimum for channel 1 (PSG_F4) is -0.003199933671900511, which has 21 chars, however, EDF+ can only save 8 chars, will be truncated to -0.00319, some loss of precision is to be expected\n",
      "  warnings.warn('Physical minimum for channel {} ({}) is {}, which has {} chars, '\\\n",
      "C:\\Users\\naikh\\anaconda3\\envs\\PytorchEnvironment\\Lib\\site-packages\\pyedflib\\edfwriter.py:141: UserWarning: Physical maximum for channel 1 (PSG_F4) is -0.0002476699636530101, which has 22 chars, however, EDF+ can only save 8 chars, will be truncated to -0.00024, some loss of precision is to be expected.\n",
      "  warnings.warn('Physical maximum for channel {} ({}) is {}, which has {} chars, '\\\n",
      "C:\\Users\\naikh\\anaconda3\\envs\\PytorchEnvironment\\Lib\\site-packages\\pyedflib\\edfwriter.py:134: UserWarning: Physical minimum for channel 2 (PSG_C3) is 0.001160819880674449, which has 20 chars, however, EDF+ can only save 8 chars, will be truncated to 0.001160, some loss of precision is to be expected\n",
      "  warnings.warn('Physical minimum for channel {} ({}) is {}, which has {} chars, '\\\n",
      "C:\\Users\\naikh\\anaconda3\\envs\\PytorchEnvironment\\Lib\\site-packages\\pyedflib\\edfwriter.py:134: UserWarning: Physical minimum for channel 4 (PSG_O1) is 0.001095365366720073, which has 20 chars, however, EDF+ can only save 8 chars, will be truncated to 0.001095, some loss of precision is to be expected\n",
      "  warnings.warn('Physical minimum for channel {} ({}) is {}, which has {} chars, '\\\n",
      "C:\\Users\\naikh\\anaconda3\\envs\\PytorchEnvironment\\Lib\\site-packages\\pyedflib\\edfwriter.py:134: UserWarning: Physical minimum for channel 5 (PSG_O2) is -0.00170687397531548, which has 20 chars, however, EDF+ can only save 8 chars, will be truncated to -0.00170, some loss of precision is to be expected\n",
      "  warnings.warn('Physical minimum for channel {} ({}) is {}, which has {} chars, '\\\n",
      "C:\\Users\\naikh\\anaconda3\\envs\\PytorchEnvironment\\Lib\\site-packages\\pyedflib\\edfwriter.py:141: UserWarning: Physical maximum for channel 5 (PSG_O2) is -7.419924819714658e-05, which has 22 chars, however, EDF+ can only save 8 chars, will be truncated to -7.41992, some loss of precision is to be expected.\n",
      "  warnings.warn('Physical maximum for channel {} ({}) is {}, which has {} chars, '\\\n"
     ]
    },
    {
     "name": "stdout",
     "output_type": "stream",
     "text": [
      "Extracting EDF parameters from C:\\Users\\naikh\\SleepResearchCode_experient\\Dataset_clean_for_jupyter\\sub-64\\eeg\\sub-64_task-Sleep_acq-psg_eeg.edf...\n",
      "EDF file detected\n",
      "Setting channel info structure...\n",
      "Creating raw.info structure...\n",
      "Reading 0 ... 6804991  =      0.000 ... 26581.996 secs...\n"
     ]
    },
    {
     "name": "stderr",
     "output_type": "stream",
     "text": [
      "C:\\Users\\naikh\\AppData\\Local\\Temp\\ipykernel_16604\\791336486.py:6: RuntimeWarning: Channels contain different highpass filters. Highest filter setting will be stored.\n",
      "  raw = mne.io.read_raw_edf(file_path, preload=True)\n",
      "C:\\Users\\naikh\\anaconda3\\envs\\PytorchEnvironment\\Lib\\site-packages\\pyedflib\\edfwriter.py:134: UserWarning: Physical minimum for channel 0 (PSG_F3) is -0.0009323977782864119, which has 22 chars, however, EDF+ can only save 8 chars, will be truncated to -0.00093, some loss of precision is to be expected\n",
      "  warnings.warn('Physical minimum for channel {} ({}) is {}, which has {} chars, '\\\n",
      "C:\\Users\\naikh\\anaconda3\\envs\\PytorchEnvironment\\Lib\\site-packages\\pyedflib\\edfwriter.py:141: UserWarning: Physical maximum for channel 0 (PSG_F3) is 0.003199999999999999, which has 20 chars, however, EDF+ can only save 8 chars, will be truncated to 0.003199, some loss of precision is to be expected.\n",
      "  warnings.warn('Physical maximum for channel {} ({}) is {}, which has {} chars, '\\\n",
      "C:\\Users\\naikh\\anaconda3\\envs\\PytorchEnvironment\\Lib\\site-packages\\pyedflib\\edfwriter.py:134: UserWarning: Physical minimum for channel 1 (PSG_F4) is 0.0007608053077439536, which has 21 chars, however, EDF+ can only save 8 chars, will be truncated to 0.000760, some loss of precision is to be expected\n",
      "  warnings.warn('Physical minimum for channel {} ({}) is {}, which has {} chars, '\\\n",
      "C:\\Users\\naikh\\anaconda3\\envs\\PytorchEnvironment\\Lib\\site-packages\\pyedflib\\edfwriter.py:141: UserWarning: Physical maximum for channel 1 (PSG_F4) is 0.002866889, which has 11 chars, however, EDF+ can only save 8 chars, will be truncated to 0.002866, some loss of precision is to be expected.\n",
      "  warnings.warn('Physical maximum for channel {} ({}) is {}, which has {} chars, '\\\n",
      "C:\\Users\\naikh\\anaconda3\\envs\\PytorchEnvironment\\Lib\\site-packages\\pyedflib\\edfwriter.py:134: UserWarning: Physical minimum for channel 2 (PSG_C3) is -0.0020960327114976727, which has 22 chars, however, EDF+ can only save 8 chars, will be truncated to -0.00209, some loss of precision is to be expected\n",
      "  warnings.warn('Physical minimum for channel {} ({}) is {}, which has {} chars, '\\\n",
      "C:\\Users\\naikh\\anaconda3\\envs\\PytorchEnvironment\\Lib\\site-packages\\pyedflib\\edfwriter.py:141: UserWarning: Physical maximum for channel 2 (PSG_C3) is 0.0001949060722362094, which has 21 chars, however, EDF+ can only save 8 chars, will be truncated to 0.000194, some loss of precision is to be expected.\n",
      "  warnings.warn('Physical maximum for channel {} ({}) is {}, which has {} chars, '\\\n",
      "C:\\Users\\naikh\\anaconda3\\envs\\PytorchEnvironment\\Lib\\site-packages\\pyedflib\\edfwriter.py:134: UserWarning: Physical minimum for channel 3 (PSG_C4) is -0.003199942659197375, which has 21 chars, however, EDF+ can only save 8 chars, will be truncated to -0.00319, some loss of precision is to be expected\n",
      "  warnings.warn('Physical minimum for channel {} ({}) is {}, which has {} chars, '\\\n",
      "C:\\Users\\naikh\\anaconda3\\envs\\PytorchEnvironment\\Lib\\site-packages\\pyedflib\\edfwriter.py:141: UserWarning: Physical maximum for channel 3 (PSG_C4) is -0.0009935259150072482, which has 22 chars, however, EDF+ can only save 8 chars, will be truncated to -0.00099, some loss of precision is to be expected.\n",
      "  warnings.warn('Physical maximum for channel {} ({}) is {}, which has {} chars, '\\\n",
      "C:\\Users\\naikh\\anaconda3\\envs\\PytorchEnvironment\\Lib\\site-packages\\pyedflib\\edfwriter.py:134: UserWarning: Physical minimum for channel 4 (PSG_O1) is 0.0005187312617380024, which has 21 chars, however, EDF+ can only save 8 chars, will be truncated to 0.000518, some loss of precision is to be expected\n",
      "  warnings.warn('Physical minimum for channel {} ({}) is {}, which has {} chars, '\\\n",
      "C:\\Users\\naikh\\anaconda3\\envs\\PytorchEnvironment\\Lib\\site-packages\\pyedflib\\edfwriter.py:141: UserWarning: Physical maximum for channel 4 (PSG_O1) is 0.0031999999999999993, which has 21 chars, however, EDF+ can only save 8 chars, will be truncated to 0.003199, some loss of precision is to be expected.\n",
      "  warnings.warn('Physical maximum for channel {} ({}) is {}, which has {} chars, '\\\n",
      "C:\\Users\\naikh\\anaconda3\\envs\\PytorchEnvironment\\Lib\\site-packages\\pyedflib\\edfwriter.py:134: UserWarning: Physical minimum for channel 5 (PSG_O2) is 0.0007694659422293429, which has 21 chars, however, EDF+ can only save 8 chars, will be truncated to 0.000769, some loss of precision is to be expected\n",
      "  warnings.warn('Physical minimum for channel {} ({}) is {}, which has {} chars, '\\\n"
     ]
    },
    {
     "name": "stdout",
     "output_type": "stream",
     "text": [
      "Extracting EDF parameters from C:\\Users\\naikh\\SleepResearchCode_experient\\Dataset_clean_for_jupyter\\sub-65\\eeg\\sub-65_task-Sleep_acq-psg_eeg.edf...\n",
      "EDF file detected\n",
      "Setting channel info structure...\n",
      "Creating raw.info structure...\n",
      "Reading 0 ... 6894079  =      0.000 ... 26929.996 secs...\n"
     ]
    },
    {
     "name": "stderr",
     "output_type": "stream",
     "text": [
      "C:\\Users\\naikh\\AppData\\Local\\Temp\\ipykernel_16604\\791336486.py:6: RuntimeWarning: Channels contain different highpass filters. Highest filter setting will be stored.\n",
      "  raw = mne.io.read_raw_edf(file_path, preload=True)\n",
      "C:\\Users\\naikh\\anaconda3\\envs\\PytorchEnvironment\\Lib\\site-packages\\pyedflib\\edfwriter.py:134: UserWarning: Physical minimum for channel 0 (PSG_F3) is -0.000675331632370489, which has 21 chars, however, EDF+ can only save 8 chars, will be truncated to -0.00067, some loss of precision is to be expected\n",
      "  warnings.warn('Physical minimum for channel {} ({}) is {}, which has {} chars, '\\\n",
      "C:\\Users\\naikh\\anaconda3\\envs\\PytorchEnvironment\\Lib\\site-packages\\pyedflib\\edfwriter.py:141: UserWarning: Physical maximum for channel 0 (PSG_F3) is 0.0006437167900175478, which has 21 chars, however, EDF+ can only save 8 chars, will be truncated to 0.000643, some loss of precision is to be expected.\n",
      "  warnings.warn('Physical maximum for channel {} ({}) is {}, which has {} chars, '\\\n",
      "C:\\Users\\naikh\\anaconda3\\envs\\PytorchEnvironment\\Lib\\site-packages\\pyedflib\\edfwriter.py:134: UserWarning: Physical minimum for channel 1 (PSG_F4) is -0.0010119188147554741, which has 22 chars, however, EDF+ can only save 8 chars, will be truncated to -0.00101, some loss of precision is to be expected\n",
      "  warnings.warn('Physical minimum for channel {} ({}) is {}, which has {} chars, '\\\n",
      "C:\\Users\\naikh\\anaconda3\\envs\\PytorchEnvironment\\Lib\\site-packages\\pyedflib\\edfwriter.py:141: UserWarning: Physical maximum for channel 1 (PSG_F4) is 0.0010518230000000003, which has 21 chars, however, EDF+ can only save 8 chars, will be truncated to 0.001051, some loss of precision is to be expected.\n",
      "  warnings.warn('Physical maximum for channel {} ({}) is {}, which has {} chars, '\\\n",
      "C:\\Users\\naikh\\anaconda3\\envs\\PytorchEnvironment\\Lib\\site-packages\\pyedflib\\edfwriter.py:134: UserWarning: Physical minimum for channel 2 (PSG_C3) is -0.0013955410308842601, which has 22 chars, however, EDF+ can only save 8 chars, will be truncated to -0.00139, some loss of precision is to be expected\n",
      "  warnings.warn('Physical minimum for channel {} ({}) is {}, which has {} chars, '\\\n",
      "C:\\Users\\naikh\\anaconda3\\envs\\PytorchEnvironment\\Lib\\site-packages\\pyedflib\\edfwriter.py:141: UserWarning: Physical maximum for channel 2 (PSG_C3) is 0.0009411250870984969, which has 21 chars, however, EDF+ can only save 8 chars, will be truncated to 0.000941, some loss of precision is to be expected.\n",
      "  warnings.warn('Physical maximum for channel {} ({}) is {}, which has {} chars, '\\\n",
      "C:\\Users\\naikh\\anaconda3\\envs\\PytorchEnvironment\\Lib\\site-packages\\pyedflib\\edfwriter.py:134: UserWarning: Physical minimum for channel 3 (PSG_C4) is -0.0006607861064316779, which has 22 chars, however, EDF+ can only save 8 chars, will be truncated to -0.00066, some loss of precision is to be expected\n",
      "  warnings.warn('Physical minimum for channel {} ({}) is {}, which has {} chars, '\\\n",
      "C:\\Users\\naikh\\anaconda3\\envs\\PytorchEnvironment\\Lib\\site-packages\\pyedflib\\edfwriter.py:141: UserWarning: Physical maximum for channel 3 (PSG_C4) is 0.0014573949999999996, which has 21 chars, however, EDF+ can only save 8 chars, will be truncated to 0.001457, some loss of precision is to be expected.\n",
      "  warnings.warn('Physical maximum for channel {} ({}) is {}, which has {} chars, '\\\n",
      "C:\\Users\\naikh\\anaconda3\\envs\\PytorchEnvironment\\Lib\\site-packages\\pyedflib\\edfwriter.py:134: UserWarning: Physical minimum for channel 4 (PSG_O1) is -0.0005374141759517814, which has 22 chars, however, EDF+ can only save 8 chars, will be truncated to -0.00053, some loss of precision is to be expected\n",
      "  warnings.warn('Physical minimum for channel {} ({}) is {}, which has {} chars, '\\\n",
      "C:\\Users\\naikh\\anaconda3\\envs\\PytorchEnvironment\\Lib\\site-packages\\pyedflib\\edfwriter.py:141: UserWarning: Physical maximum for channel 4 (PSG_O1) is 0.0011598320000000002, which has 21 chars, however, EDF+ can only save 8 chars, will be truncated to 0.001159, some loss of precision is to be expected.\n",
      "  warnings.warn('Physical maximum for channel {} ({}) is {}, which has {} chars, '\\\n",
      "C:\\Users\\naikh\\anaconda3\\envs\\PytorchEnvironment\\Lib\\site-packages\\pyedflib\\edfwriter.py:134: UserWarning: Physical minimum for channel 5 (PSG_O2) is -0.00027237166256198974, which has 23 chars, however, EDF+ can only save 8 chars, will be truncated to -0.00027, some loss of precision is to be expected\n",
      "  warnings.warn('Physical minimum for channel {} ({}) is {}, which has {} chars, '\\\n",
      "C:\\Users\\naikh\\anaconda3\\envs\\PytorchEnvironment\\Lib\\site-packages\\pyedflib\\edfwriter.py:141: UserWarning: Physical maximum for channel 5 (PSG_O2) is 0.00055953, which has 10 chars, however, EDF+ can only save 8 chars, will be truncated to 0.000559, some loss of precision is to be expected.\n",
      "  warnings.warn('Physical maximum for channel {} ({}) is {}, which has {} chars, '\\\n"
     ]
    },
    {
     "name": "stdout",
     "output_type": "stream",
     "text": [
      "Extracting EDF parameters from C:\\Users\\naikh\\SleepResearchCode_experient\\Dataset_clean_for_jupyter\\sub-66\\eeg\\sub-66_task-Sleep_acq-psg_eeg.edf...\n",
      "EDF file detected\n",
      "Setting channel info structure...\n",
      "Creating raw.info structure...\n",
      "Reading 0 ... 8306175  =      0.000 ... 32445.996 secs...\n"
     ]
    },
    {
     "name": "stderr",
     "output_type": "stream",
     "text": [
      "C:\\Users\\naikh\\AppData\\Local\\Temp\\ipykernel_16604\\791336486.py:6: RuntimeWarning: Channels contain different highpass filters. Highest filter setting will be stored.\n",
      "  raw = mne.io.read_raw_edf(file_path, preload=True)\n",
      "C:\\Users\\naikh\\anaconda3\\envs\\PytorchEnvironment\\Lib\\site-packages\\pyedflib\\edfwriter.py:134: UserWarning: Physical minimum for channel 0 (PSG_F3) is -0.0031999372557885097, which has 22 chars, however, EDF+ can only save 8 chars, will be truncated to -0.00319, some loss of precision is to be expected\n",
      "  warnings.warn('Physical minimum for channel {} ({}) is {}, which has {} chars, '\\\n",
      "C:\\Users\\naikh\\anaconda3\\envs\\PytorchEnvironment\\Lib\\site-packages\\pyedflib\\edfwriter.py:141: UserWarning: Physical maximum for channel 0 (PSG_F3) is -0.0005580922310002289, which has 22 chars, however, EDF+ can only save 8 chars, will be truncated to -0.00055, some loss of precision is to be expected.\n",
      "  warnings.warn('Physical maximum for channel {} ({}) is {}, which has {} chars, '\\\n",
      "C:\\Users\\naikh\\anaconda3\\envs\\PytorchEnvironment\\Lib\\site-packages\\pyedflib\\edfwriter.py:134: UserWarning: Physical minimum for channel 1 (PSG_F4) is -0.0031999370173586635, which has 22 chars, however, EDF+ can only save 8 chars, will be truncated to -0.00319, some loss of precision is to be expected\n",
      "  warnings.warn('Physical minimum for channel {} ({}) is {}, which has {} chars, '\\\n",
      "C:\\Users\\naikh\\anaconda3\\envs\\PytorchEnvironment\\Lib\\site-packages\\pyedflib\\edfwriter.py:141: UserWarning: Physical maximum for channel 1 (PSG_F4) is -0.0005379756812634469, which has 22 chars, however, EDF+ can only save 8 chars, will be truncated to -0.00053, some loss of precision is to be expected.\n",
      "  warnings.warn('Physical maximum for channel {} ({}) is {}, which has {} chars, '\\\n",
      "C:\\Users\\naikh\\anaconda3\\envs\\PytorchEnvironment\\Lib\\site-packages\\pyedflib\\edfwriter.py:134: UserWarning: Physical minimum for channel 2 (PSG_C3) is -0.0031999370620645453, which has 22 chars, however, EDF+ can only save 8 chars, will be truncated to -0.00319, some loss of precision is to be expected\n",
      "  warnings.warn('Physical minimum for channel {} ({}) is {}, which has {} chars, '\\\n",
      "C:\\Users\\naikh\\anaconda3\\envs\\PytorchEnvironment\\Lib\\site-packages\\pyedflib\\edfwriter.py:141: UserWarning: Physical maximum for channel 2 (PSG_C3) is -0.0005417533581506067, which has 22 chars, however, EDF+ can only save 8 chars, will be truncated to -0.00054, some loss of precision is to be expected.\n",
      "  warnings.warn('Physical maximum for channel {} ({}) is {}, which has {} chars, '\\\n",
      "C:\\Users\\naikh\\anaconda3\\envs\\PytorchEnvironment\\Lib\\site-packages\\pyedflib\\edfwriter.py:134: UserWarning: Physical minimum for channel 3 (PSG_C4) is -0.003199936923477531, which has 21 chars, however, EDF+ can only save 8 chars, will be truncated to -0.00319, some loss of precision is to be expected\n",
      "  warnings.warn('Physical minimum for channel {} ({}) is {}, which has {} chars, '\\\n",
      "C:\\Users\\naikh\\anaconda3\\envs\\PytorchEnvironment\\Lib\\site-packages\\pyedflib\\edfwriter.py:141: UserWarning: Physical maximum for channel 3 (PSG_C4) is -0.0005300338804135195, which has 22 chars, however, EDF+ can only save 8 chars, will be truncated to -0.00053, some loss of precision is to be expected.\n",
      "  warnings.warn('Physical maximum for channel {} ({}) is {}, which has {} chars, '\\\n",
      "C:\\Users\\naikh\\anaconda3\\envs\\PytorchEnvironment\\Lib\\site-packages\\pyedflib\\edfwriter.py:134: UserWarning: Physical minimum for channel 5 (PSG_O2) is -0.0031999298525520713, which has 22 chars, however, EDF+ can only save 8 chars, will be truncated to -0.00319, some loss of precision is to be expected\n",
      "  warnings.warn('Physical minimum for channel {} ({}) is {}, which has {} chars, '\\\n",
      "C:\\Users\\naikh\\anaconda3\\envs\\PytorchEnvironment\\Lib\\site-packages\\pyedflib\\edfwriter.py:141: UserWarning: Physical maximum for channel 5 (PSG_O2) is 0.00010212096379034108, which has 22 chars, however, EDF+ can only save 8 chars, will be truncated to 0.000102, some loss of precision is to be expected.\n",
      "  warnings.warn('Physical maximum for channel {} ({}) is {}, which has {} chars, '\\\n"
     ]
    },
    {
     "name": "stdout",
     "output_type": "stream",
     "text": [
      "Extracting EDF parameters from C:\\Users\\naikh\\SleepResearchCode_experient\\Dataset_clean_for_jupyter\\sub-67\\eeg\\sub-67_task-Sleep_acq-psg_eeg.edf...\n",
      "EDF file detected\n",
      "Setting channel info structure...\n",
      "Creating raw.info structure...\n",
      "Reading 0 ... 7100671  =      0.000 ... 27736.996 secs...\n"
     ]
    },
    {
     "name": "stderr",
     "output_type": "stream",
     "text": [
      "C:\\Users\\naikh\\AppData\\Local\\Temp\\ipykernel_16604\\791336486.py:6: RuntimeWarning: Channels contain different highpass filters. Highest filter setting will be stored.\n",
      "  raw = mne.io.read_raw_edf(file_path, preload=True)\n",
      "C:\\Users\\naikh\\anaconda3\\envs\\PytorchEnvironment\\Lib\\site-packages\\pyedflib\\edfwriter.py:134: UserWarning: Physical minimum for channel 0 (PSG_F3) is -1.8345158159761467e-06, which has 23 chars, however, EDF+ can only save 8 chars, will be truncated to -1.83451, some loss of precision is to be expected\n",
      "  warnings.warn('Physical minimum for channel {} ({}) is {}, which has {} chars, '\\\n",
      "C:\\Users\\naikh\\anaconda3\\envs\\PytorchEnvironment\\Lib\\site-packages\\pyedflib\\edfwriter.py:141: UserWarning: Physical maximum for channel 0 (PSG_F3) is 0.0016272220000000002, which has 21 chars, however, EDF+ can only save 8 chars, will be truncated to 0.001627, some loss of precision is to be expected.\n",
      "  warnings.warn('Physical maximum for channel {} ({}) is {}, which has {} chars, '\\\n",
      "C:\\Users\\naikh\\anaconda3\\envs\\PytorchEnvironment\\Lib\\site-packages\\pyedflib\\edfwriter.py:134: UserWarning: Physical minimum for channel 1 (PSG_F4) is 0.0004545391718928817, which has 21 chars, however, EDF+ can only save 8 chars, will be truncated to 0.000454, some loss of precision is to be expected\n",
      "  warnings.warn('Physical minimum for channel {} ({}) is {}, which has {} chars, '\\\n",
      "C:\\Users\\naikh\\anaconda3\\envs\\PytorchEnvironment\\Lib\\site-packages\\pyedflib\\edfwriter.py:141: UserWarning: Physical maximum for channel 1 (PSG_F4) is 0.002521083, which has 11 chars, however, EDF+ can only save 8 chars, will be truncated to 0.002521, some loss of precision is to be expected.\n",
      "  warnings.warn('Physical maximum for channel {} ({}) is {}, which has {} chars, '\\\n",
      "C:\\Users\\naikh\\anaconda3\\envs\\PytorchEnvironment\\Lib\\site-packages\\pyedflib\\edfwriter.py:134: UserWarning: Physical minimum for channel 2 (PSG_C3) is -0.0023998348914320592, which has 22 chars, however, EDF+ can only save 8 chars, will be truncated to -0.00239, some loss of precision is to be expected\n",
      "  warnings.warn('Physical minimum for channel {} ({}) is {}, which has {} chars, '\\\n",
      "C:\\Users\\naikh\\anaconda3\\envs\\PytorchEnvironment\\Lib\\site-packages\\pyedflib\\edfwriter.py:134: UserWarning: Physical minimum for channel 3 (PSG_C4) is -0.0005153116588082704, which has 22 chars, however, EDF+ can only save 8 chars, will be truncated to -0.00051, some loss of precision is to be expected\n",
      "  warnings.warn('Physical minimum for channel {} ({}) is {}, which has {} chars, '\\\n",
      "C:\\Users\\naikh\\anaconda3\\envs\\PytorchEnvironment\\Lib\\site-packages\\pyedflib\\edfwriter.py:141: UserWarning: Physical maximum for channel 3 (PSG_C4) is 0.0012680369999999999, which has 21 chars, however, EDF+ can only save 8 chars, will be truncated to 0.001268, some loss of precision is to be expected.\n",
      "  warnings.warn('Physical maximum for channel {} ({}) is {}, which has {} chars, '\\\n",
      "C:\\Users\\naikh\\anaconda3\\envs\\PytorchEnvironment\\Lib\\site-packages\\pyedflib\\edfwriter.py:134: UserWarning: Physical minimum for channel 4 (PSG_O1) is 0.00037687987814145104, which has 22 chars, however, EDF+ can only save 8 chars, will be truncated to 0.000376, some loss of precision is to be expected\n",
      "  warnings.warn('Physical minimum for channel {} ({}) is {}, which has {} chars, '\\\n",
      "C:\\Users\\naikh\\anaconda3\\envs\\PytorchEnvironment\\Lib\\site-packages\\pyedflib\\edfwriter.py:141: UserWarning: Physical maximum for channel 4 (PSG_O1) is 0.0028445259999999996, which has 21 chars, however, EDF+ can only save 8 chars, will be truncated to 0.002844, some loss of precision is to be expected.\n",
      "  warnings.warn('Physical maximum for channel {} ({}) is {}, which has {} chars, '\\\n",
      "C:\\Users\\naikh\\anaconda3\\envs\\PytorchEnvironment\\Lib\\site-packages\\pyedflib\\edfwriter.py:134: UserWarning: Physical minimum for channel 5 (PSG_O2) is 0.00026866001739528486, which has 22 chars, however, EDF+ can only save 8 chars, will be truncated to 0.000268, some loss of precision is to be expected\n",
      "  warnings.warn('Physical minimum for channel {} ({}) is {}, which has {} chars, '\\\n"
     ]
    },
    {
     "name": "stdout",
     "output_type": "stream",
     "text": [
      "Extracting EDF parameters from C:\\Users\\naikh\\SleepResearchCode_experient\\Dataset_clean_for_jupyter\\sub-68\\eeg\\sub-68_task-Sleep_acq-psg_eeg.edf...\n",
      "EDF file detected\n",
      "Setting channel info structure...\n",
      "Creating raw.info structure...\n",
      "Reading 0 ... 6687231  =      0.000 ... 26121.996 secs...\n"
     ]
    },
    {
     "name": "stderr",
     "output_type": "stream",
     "text": [
      "C:\\Users\\naikh\\AppData\\Local\\Temp\\ipykernel_16604\\791336486.py:6: RuntimeWarning: Channels contain different highpass filters. Highest filter setting will be stored.\n",
      "  raw = mne.io.read_raw_edf(file_path, preload=True)\n",
      "C:\\Users\\naikh\\anaconda3\\envs\\PytorchEnvironment\\Lib\\site-packages\\pyedflib\\edfwriter.py:134: UserWarning: Physical minimum for channel 0 (PSG_F3) is 0.0001507737743190662, which has 21 chars, however, EDF+ can only save 8 chars, will be truncated to 0.000150, some loss of precision is to be expected\n",
      "  warnings.warn('Physical minimum for channel {} ({}) is {}, which has {} chars, '\\\n",
      "C:\\Users\\naikh\\anaconda3\\envs\\PytorchEnvironment\\Lib\\site-packages\\pyedflib\\edfwriter.py:134: UserWarning: Physical minimum for channel 1 (PSG_F4) is 0.00023937611841000987, which has 22 chars, however, EDF+ can only save 8 chars, will be truncated to 0.000239, some loss of precision is to be expected\n",
      "  warnings.warn('Physical minimum for channel {} ({}) is {}, which has {} chars, '\\\n",
      "C:\\Users\\naikh\\anaconda3\\envs\\PytorchEnvironment\\Lib\\site-packages\\pyedflib\\edfwriter.py:134: UserWarning: Physical minimum for channel 2 (PSG_C3) is 0.0006666933725795376, which has 21 chars, however, EDF+ can only save 8 chars, will be truncated to 0.000666, some loss of precision is to be expected\n",
      "  warnings.warn('Physical minimum for channel {} ({}) is {}, which has {} chars, '\\\n",
      "C:\\Users\\naikh\\anaconda3\\envs\\PytorchEnvironment\\Lib\\site-packages\\pyedflib\\edfwriter.py:134: UserWarning: Physical minimum for channel 3 (PSG_C4) is -0.0003780123667658503, which has 22 chars, however, EDF+ can only save 8 chars, will be truncated to -0.00037, some loss of precision is to be expected\n",
      "  warnings.warn('Physical minimum for channel {} ({}) is {}, which has {} chars, '\\\n",
      "C:\\Users\\naikh\\anaconda3\\envs\\PytorchEnvironment\\Lib\\site-packages\\pyedflib\\edfwriter.py:141: UserWarning: Physical maximum for channel 3 (PSG_C4) is 0.0024379769999999996, which has 21 chars, however, EDF+ can only save 8 chars, will be truncated to 0.002437, some loss of precision is to be expected.\n",
      "  warnings.warn('Physical maximum for channel {} ({}) is {}, which has {} chars, '\\\n",
      "C:\\Users\\naikh\\anaconda3\\envs\\PytorchEnvironment\\Lib\\site-packages\\pyedflib\\edfwriter.py:134: UserWarning: Physical minimum for channel 4 (PSG_O1) is 0.00015279922178988305, which has 22 chars, however, EDF+ can only save 8 chars, will be truncated to 0.000152, some loss of precision is to be expected\n",
      "  warnings.warn('Physical minimum for channel {} ({}) is {}, which has {} chars, '\\\n",
      "C:\\Users\\naikh\\anaconda3\\envs\\PytorchEnvironment\\Lib\\site-packages\\pyedflib\\edfwriter.py:134: UserWarning: Physical minimum for channel 5 (PSG_O2) is 0.0002228496272831312, which has 21 chars, however, EDF+ can only save 8 chars, will be truncated to 0.000222, some loss of precision is to be expected\n",
      "  warnings.warn('Physical minimum for channel {} ({}) is {}, which has {} chars, '\\\n",
      "C:\\Users\\naikh\\anaconda3\\envs\\PytorchEnvironment\\Lib\\site-packages\\pyedflib\\edfwriter.py:141: UserWarning: Physical maximum for channel 5 (PSG_O2) is 0.002861714, which has 11 chars, however, EDF+ can only save 8 chars, will be truncated to 0.002861, some loss of precision is to be expected.\n",
      "  warnings.warn('Physical maximum for channel {} ({}) is {}, which has {} chars, '\\\n"
     ]
    },
    {
     "name": "stdout",
     "output_type": "stream",
     "text": [
      "Extracting EDF parameters from C:\\Users\\naikh\\SleepResearchCode_experient\\Dataset_clean_for_jupyter\\sub-69\\eeg\\sub-69_task-Sleep_acq-psg_eeg.edf...\n",
      "EDF file detected\n",
      "Setting channel info structure...\n",
      "Creating raw.info structure...\n",
      "Reading 0 ... 7709695  =      0.000 ... 30115.996 secs...\n"
     ]
    },
    {
     "name": "stderr",
     "output_type": "stream",
     "text": [
      "C:\\Users\\naikh\\AppData\\Local\\Temp\\ipykernel_16604\\791336486.py:6: RuntimeWarning: Channels contain different highpass filters. Highest filter setting will be stored.\n",
      "  raw = mne.io.read_raw_edf(file_path, preload=True)\n",
      "C:\\Users\\naikh\\anaconda3\\envs\\PytorchEnvironment\\Lib\\site-packages\\pyedflib\\edfwriter.py:134: UserWarning: Physical minimum for channel 0 (PSG_F3) is 5.0297987078660267e-05, which has 22 chars, however, EDF+ can only save 8 chars, will be truncated to 5.029798, some loss of precision is to be expected\n",
      "  warnings.warn('Physical minimum for channel {} ({}) is {}, which has {} chars, '\\\n",
      "C:\\Users\\naikh\\anaconda3\\envs\\PytorchEnvironment\\Lib\\site-packages\\pyedflib\\edfwriter.py:141: UserWarning: Physical maximum for channel 0 (PSG_F3) is 0.0009443991999999999, which has 21 chars, however, EDF+ can only save 8 chars, will be truncated to 0.000944, some loss of precision is to be expected.\n",
      "  warnings.warn('Physical maximum for channel {} ({}) is {}, which has {} chars, '\\\n",
      "C:\\Users\\naikh\\anaconda3\\envs\\PytorchEnvironment\\Lib\\site-packages\\pyedflib\\edfwriter.py:134: UserWarning: Physical minimum for channel 1 (PSG_F4) is -0.0004429242814694438, which has 22 chars, however, EDF+ can only save 8 chars, will be truncated to -0.00044, some loss of precision is to be expected\n",
      "  warnings.warn('Physical minimum for channel {} ({}) is {}, which has {} chars, '\\\n",
      "C:\\Users\\naikh\\anaconda3\\envs\\PytorchEnvironment\\Lib\\site-packages\\pyedflib\\edfwriter.py:141: UserWarning: Physical maximum for channel 1 (PSG_F4) is 0.0005112871, which has 12 chars, however, EDF+ can only save 8 chars, will be truncated to 0.000511, some loss of precision is to be expected.\n",
      "  warnings.warn('Physical maximum for channel {} ({}) is {}, which has {} chars, '\\\n",
      "C:\\Users\\naikh\\anaconda3\\envs\\PytorchEnvironment\\Lib\\site-packages\\pyedflib\\edfwriter.py:134: UserWarning: Physical minimum for channel 2 (PSG_C3) is 0.0004082326978713664, which has 21 chars, however, EDF+ can only save 8 chars, will be truncated to 0.000408, some loss of precision is to be expected\n",
      "  warnings.warn('Physical minimum for channel {} ({}) is {}, which has {} chars, '\\\n",
      "C:\\Users\\naikh\\anaconda3\\envs\\PytorchEnvironment\\Lib\\site-packages\\pyedflib\\edfwriter.py:141: UserWarning: Physical maximum for channel 2 (PSG_C3) is 0.0018906049999999996, which has 21 chars, however, EDF+ can only save 8 chars, will be truncated to 0.001890, some loss of precision is to be expected.\n",
      "  warnings.warn('Physical maximum for channel {} ({}) is {}, which has {} chars, '\\\n",
      "C:\\Users\\naikh\\anaconda3\\envs\\PytorchEnvironment\\Lib\\site-packages\\pyedflib\\edfwriter.py:134: UserWarning: Physical minimum for channel 3 (PSG_C4) is 0.000550885344335088, which has 20 chars, however, EDF+ can only save 8 chars, will be truncated to 0.000550, some loss of precision is to be expected\n",
      "  warnings.warn('Physical minimum for channel {} ({}) is {}, which has {} chars, '\\\n",
      "C:\\Users\\naikh\\anaconda3\\envs\\PytorchEnvironment\\Lib\\site-packages\\pyedflib\\edfwriter.py:141: UserWarning: Physical maximum for channel 3 (PSG_C4) is 0.002264438999999999, which has 20 chars, however, EDF+ can only save 8 chars, will be truncated to 0.002264, some loss of precision is to be expected.\n",
      "  warnings.warn('Physical maximum for channel {} ({}) is {}, which has {} chars, '\\\n",
      "C:\\Users\\naikh\\anaconda3\\envs\\PytorchEnvironment\\Lib\\site-packages\\pyedflib\\edfwriter.py:134: UserWarning: Physical minimum for channel 4 (PSG_O1) is 0.00014326140680552383, which has 22 chars, however, EDF+ can only save 8 chars, will be truncated to 0.000143, some loss of precision is to be expected\n",
      "  warnings.warn('Physical minimum for channel {} ({}) is {}, which has {} chars, '\\\n",
      "C:\\Users\\naikh\\anaconda3\\envs\\PytorchEnvironment\\Lib\\site-packages\\pyedflib\\edfwriter.py:141: UserWarning: Physical maximum for channel 4 (PSG_O1) is 0.0014583720000000003, which has 21 chars, however, EDF+ can only save 8 chars, will be truncated to 0.001458, some loss of precision is to be expected.\n",
      "  warnings.warn('Physical maximum for channel {} ({}) is {}, which has {} chars, '\\\n",
      "C:\\Users\\naikh\\anaconda3\\envs\\PytorchEnvironment\\Lib\\site-packages\\pyedflib\\edfwriter.py:134: UserWarning: Physical minimum for channel 5 (PSG_O2) is 6.352070740825519e-05, which has 21 chars, however, EDF+ can only save 8 chars, will be truncated to 6.352070, some loss of precision is to be expected\n",
      "  warnings.warn('Physical minimum for channel {} ({}) is {}, which has {} chars, '\\\n",
      "C:\\Users\\naikh\\anaconda3\\envs\\PytorchEnvironment\\Lib\\site-packages\\pyedflib\\edfwriter.py:141: UserWarning: Physical maximum for channel 5 (PSG_O2) is 0.00163357, which has 10 chars, however, EDF+ can only save 8 chars, will be truncated to 0.001633, some loss of precision is to be expected.\n",
      "  warnings.warn('Physical maximum for channel {} ({}) is {}, which has {} chars, '\\\n"
     ]
    },
    {
     "name": "stdout",
     "output_type": "stream",
     "text": [
      "Extracting EDF parameters from C:\\Users\\naikh\\SleepResearchCode_experient\\Dataset_clean_for_jupyter\\sub-70\\eeg\\sub-70_task-Sleep_acq-psg_eeg.edf...\n",
      "EDF file detected\n",
      "Setting channel info structure...\n",
      "Creating raw.info structure...\n",
      "Reading 0 ... 6833151  =      0.000 ... 26691.996 secs...\n"
     ]
    },
    {
     "name": "stderr",
     "output_type": "stream",
     "text": [
      "C:\\Users\\naikh\\AppData\\Local\\Temp\\ipykernel_16604\\791336486.py:6: RuntimeWarning: Channels contain different highpass filters. Highest filter setting will be stored.\n",
      "  raw = mne.io.read_raw_edf(file_path, preload=True)\n",
      "C:\\Users\\naikh\\anaconda3\\envs\\PytorchEnvironment\\Lib\\site-packages\\pyedflib\\edfwriter.py:134: UserWarning: Physical minimum for channel 0 (PSG_F3) is 0.0009748505345845731, which has 21 chars, however, EDF+ can only save 8 chars, will be truncated to 0.000974, some loss of precision is to be expected\n",
      "  warnings.warn('Physical minimum for channel {} ({}) is {}, which has {} chars, '\\\n",
      "C:\\Users\\naikh\\anaconda3\\envs\\PytorchEnvironment\\Lib\\site-packages\\pyedflib\\edfwriter.py:134: UserWarning: Physical minimum for channel 1 (PSG_F4) is 0.0010418267319752803, which has 21 chars, however, EDF+ can only save 8 chars, will be truncated to 0.001041, some loss of precision is to be expected\n",
      "  warnings.warn('Physical minimum for channel {} ({}) is {}, which has {} chars, '\\\n",
      "C:\\Users\\naikh\\anaconda3\\envs\\PytorchEnvironment\\Lib\\site-packages\\pyedflib\\edfwriter.py:134: UserWarning: Physical minimum for channel 2 (PSG_C3) is 0.0006426747569085222, which has 21 chars, however, EDF+ can only save 8 chars, will be truncated to 0.000642, some loss of precision is to be expected\n",
      "  warnings.warn('Physical minimum for channel {} ({}) is {}, which has {} chars, '\\\n",
      "C:\\Users\\naikh\\anaconda3\\envs\\PytorchEnvironment\\Lib\\site-packages\\pyedflib\\edfwriter.py:134: UserWarning: Physical minimum for channel 3 (PSG_C4) is 0.001100738389379721, which has 20 chars, however, EDF+ can only save 8 chars, will be truncated to 0.001100, some loss of precision is to be expected\n",
      "  warnings.warn('Physical minimum for channel {} ({}) is {}, which has {} chars, '\\\n",
      "C:\\Users\\naikh\\anaconda3\\envs\\PytorchEnvironment\\Lib\\site-packages\\pyedflib\\edfwriter.py:134: UserWarning: Physical minimum for channel 4 (PSG_O1) is 0.0009173608788281072, which has 21 chars, however, EDF+ can only save 8 chars, will be truncated to 0.000917, some loss of precision is to be expected\n",
      "  warnings.warn('Physical minimum for channel {} ({}) is {}, which has {} chars, '\\\n",
      "C:\\Users\\naikh\\anaconda3\\envs\\PytorchEnvironment\\Lib\\site-packages\\pyedflib\\edfwriter.py:134: UserWarning: Physical minimum for channel 5 (PSG_O2) is -2.745279880979615e-05, which has 22 chars, however, EDF+ can only save 8 chars, will be truncated to -2.74527, some loss of precision is to be expected\n",
      "  warnings.warn('Physical minimum for channel {} ({}) is {}, which has {} chars, '\\\n",
      "C:\\Users\\naikh\\anaconda3\\envs\\PytorchEnvironment\\Lib\\site-packages\\pyedflib\\edfwriter.py:141: UserWarning: Physical maximum for channel 5 (PSG_O2) is 0.0014720440000000003, which has 21 chars, however, EDF+ can only save 8 chars, will be truncated to 0.001472, some loss of precision is to be expected.\n",
      "  warnings.warn('Physical maximum for channel {} ({}) is {}, which has {} chars, '\\\n"
     ]
    },
    {
     "name": "stdout",
     "output_type": "stream",
     "text": [
      "Extracting EDF parameters from C:\\Users\\naikh\\SleepResearchCode_experient\\Dataset_clean_for_jupyter\\sub-71\\eeg\\sub-71_task-Sleep_acq-psg_eeg.edf...\n",
      "EDF file detected\n",
      "Setting channel info structure...\n",
      "Creating raw.info structure...\n",
      "Reading 0 ... 8556799  =      0.000 ... 33424.996 secs...\n"
     ]
    },
    {
     "name": "stderr",
     "output_type": "stream",
     "text": [
      "C:\\Users\\naikh\\AppData\\Local\\Temp\\ipykernel_16604\\791336486.py:6: RuntimeWarning: Channels contain different highpass filters. Highest filter setting will be stored.\n",
      "  raw = mne.io.read_raw_edf(file_path, preload=True)\n",
      "C:\\Users\\naikh\\anaconda3\\envs\\PytorchEnvironment\\Lib\\site-packages\\pyedflib\\edfwriter.py:134: UserWarning: Physical minimum for channel 0 (PSG_F3) is -0.00015610246649881742, which has 23 chars, however, EDF+ can only save 8 chars, will be truncated to -0.00015, some loss of precision is to be expected\n",
      "  warnings.warn('Physical minimum for channel {} ({}) is {}, which has {} chars, '\\\n",
      "C:\\Users\\naikh\\anaconda3\\envs\\PytorchEnvironment\\Lib\\site-packages\\pyedflib\\edfwriter.py:141: UserWarning: Physical maximum for channel 0 (PSG_F3) is 0.0010155919999999998, which has 21 chars, however, EDF+ can only save 8 chars, will be truncated to 0.001015, some loss of precision is to be expected.\n",
      "  warnings.warn('Physical maximum for channel {} ({}) is {}, which has {} chars, '\\\n",
      "C:\\Users\\naikh\\anaconda3\\envs\\PytorchEnvironment\\Lib\\site-packages\\pyedflib\\edfwriter.py:134: UserWarning: Physical minimum for channel 1 (PSG_F4) is -0.0004524800815564202, which has 22 chars, however, EDF+ can only save 8 chars, will be truncated to -0.00045, some loss of precision is to be expected\n",
      "  warnings.warn('Physical minimum for channel {} ({}) is {}, which has {} chars, '\\\n",
      "C:\\Users\\naikh\\anaconda3\\envs\\PytorchEnvironment\\Lib\\site-packages\\pyedflib\\edfwriter.py:141: UserWarning: Physical maximum for channel 1 (PSG_F4) is 0.0006718364000000001, which has 21 chars, however, EDF+ can only save 8 chars, will be truncated to 0.000671, some loss of precision is to be expected.\n",
      "  warnings.warn('Physical maximum for channel {} ({}) is {}, which has {} chars, '\\\n",
      "C:\\Users\\naikh\\anaconda3\\envs\\PytorchEnvironment\\Lib\\site-packages\\pyedflib\\edfwriter.py:134: UserWarning: Physical minimum for channel 2 (PSG_C3) is -0.0005977453999145494, which has 22 chars, however, EDF+ can only save 8 chars, will be truncated to -0.00059, some loss of precision is to be expected\n",
      "  warnings.warn('Physical minimum for channel {} ({}) is {}, which has {} chars, '\\\n",
      "C:\\Users\\naikh\\anaconda3\\envs\\PytorchEnvironment\\Lib\\site-packages\\pyedflib\\edfwriter.py:141: UserWarning: Physical maximum for channel 2 (PSG_C3) is 0.0007479117999999999, which has 21 chars, however, EDF+ can only save 8 chars, will be truncated to 0.000747, some loss of precision is to be expected.\n",
      "  warnings.warn('Physical maximum for channel {} ({}) is {}, which has {} chars, '\\\n",
      "C:\\Users\\naikh\\anaconda3\\envs\\PytorchEnvironment\\Lib\\site-packages\\pyedflib\\edfwriter.py:134: UserWarning: Physical minimum for channel 4 (PSG_O1) is 0.0003605669424124514, which has 21 chars, however, EDF+ can only save 8 chars, will be truncated to 0.000360, some loss of precision is to be expected\n",
      "  warnings.warn('Physical minimum for channel {} ({}) is {}, which has {} chars, '\\\n",
      "C:\\Users\\naikh\\anaconda3\\envs\\PytorchEnvironment\\Lib\\site-packages\\pyedflib\\edfwriter.py:141: UserWarning: Physical maximum for channel 4 (PSG_O1) is 0.00183162, which has 10 chars, however, EDF+ can only save 8 chars, will be truncated to 0.001831, some loss of precision is to be expected.\n",
      "  warnings.warn('Physical maximum for channel {} ({}) is {}, which has {} chars, '\\\n",
      "C:\\Users\\naikh\\anaconda3\\envs\\PytorchEnvironment\\Lib\\site-packages\\pyedflib\\edfwriter.py:134: UserWarning: Physical minimum for channel 5 (PSG_O2) is 3.659673014419775e-05, which has 21 chars, however, EDF+ can only save 8 chars, will be truncated to 3.659673, some loss of precision is to be expected\n",
      "  warnings.warn('Physical minimum for channel {} ({}) is {}, which has {} chars, '\\\n",
      "C:\\Users\\naikh\\anaconda3\\envs\\PytorchEnvironment\\Lib\\site-packages\\pyedflib\\edfwriter.py:141: UserWarning: Physical maximum for channel 5 (PSG_O2) is 0.0009718409999999999, which has 21 chars, however, EDF+ can only save 8 chars, will be truncated to 0.000971, some loss of precision is to be expected.\n",
      "  warnings.warn('Physical maximum for channel {} ({}) is {}, which has {} chars, '\\\n"
     ]
    },
    {
     "name": "stdout",
     "output_type": "stream",
     "text": [
      "Extracting EDF parameters from C:\\Users\\naikh\\SleepResearchCode_experient\\Dataset_clean_for_jupyter\\sub-72\\eeg\\sub-72_task-Sleep_acq-psg_eeg.edf...\n",
      "EDF file detected\n",
      "Setting channel info structure...\n",
      "Creating raw.info structure...\n",
      "Reading 0 ... 7420159  =      0.000 ... 28984.996 secs...\n"
     ]
    },
    {
     "name": "stderr",
     "output_type": "stream",
     "text": [
      "C:\\Users\\naikh\\AppData\\Local\\Temp\\ipykernel_16604\\791336486.py:6: RuntimeWarning: Channels contain different highpass filters. Highest filter setting will be stored.\n",
      "  raw = mne.io.read_raw_edf(file_path, preload=True)\n"
     ]
    },
    {
     "name": "stdout",
     "output_type": "stream",
     "text": [
      "Extracting EDF parameters from C:\\Users\\naikh\\SleepResearchCode_experient\\Dataset_clean_for_jupyter\\sub-73\\eeg\\sub-73_task-Sleep_acq-psg_eeg.edf...\n",
      "EDF file detected\n",
      "Setting channel info structure...\n",
      "Creating raw.info structure...\n",
      "Reading 0 ... 6644735  =      0.000 ... 25955.996 secs...\n"
     ]
    },
    {
     "name": "stderr",
     "output_type": "stream",
     "text": [
      "C:\\Users\\naikh\\AppData\\Local\\Temp\\ipykernel_16604\\791336486.py:6: RuntimeWarning: Channels contain different highpass filters. Highest filter setting will be stored.\n",
      "  raw = mne.io.read_raw_edf(file_path, preload=True)\n",
      "C:\\Users\\naikh\\anaconda3\\envs\\PytorchEnvironment\\Lib\\site-packages\\pyedflib\\edfwriter.py:134: UserWarning: Physical minimum for channel 0 (PSG_F3) is -0.00319994044180209, which has 20 chars, however, EDF+ can only save 8 chars, will be truncated to -0.00319, some loss of precision is to be expected\n",
      "  warnings.warn('Physical minimum for channel {} ({}) is {}, which has {} chars, '\\\n",
      "C:\\Users\\naikh\\anaconda3\\envs\\PytorchEnvironment\\Lib\\site-packages\\pyedflib\\edfwriter.py:141: UserWarning: Physical maximum for channel 0 (PSG_F3) is -0.0008195779459525444, which has 22 chars, however, EDF+ can only save 8 chars, will be truncated to -0.00081, some loss of precision is to be expected.\n",
      "  warnings.warn('Physical maximum for channel {} ({}) is {}, which has {} chars, '\\\n",
      "C:\\Users\\naikh\\anaconda3\\envs\\PytorchEnvironment\\Lib\\site-packages\\pyedflib\\edfwriter.py:134: UserWarning: Physical minimum for channel 1 (PSG_F4) is 0.00022234112352178238, which has 22 chars, however, EDF+ can only save 8 chars, will be truncated to 0.000222, some loss of precision is to be expected\n",
      "  warnings.warn('Physical minimum for channel {} ({}) is {}, which has {} chars, '\\\n",
      "C:\\Users\\naikh\\anaconda3\\envs\\PytorchEnvironment\\Lib\\site-packages\\pyedflib\\edfwriter.py:134: UserWarning: Physical minimum for channel 2 (PSG_C3) is 0.0002256766381322957, which has 21 chars, however, EDF+ can only save 8 chars, will be truncated to 0.000225, some loss of precision is to be expected\n",
      "  warnings.warn('Physical minimum for channel {} ({}) is {}, which has {} chars, '\\\n",
      "C:\\Users\\naikh\\anaconda3\\envs\\PytorchEnvironment\\Lib\\site-packages\\pyedflib\\edfwriter.py:134: UserWarning: Physical minimum for channel 3 (PSG_C4) is 0.00015414914625772473, which has 22 chars, however, EDF+ can only save 8 chars, will be truncated to 0.000154, some loss of precision is to be expected\n",
      "  warnings.warn('Physical minimum for channel {} ({}) is {}, which has {} chars, '\\\n",
      "C:\\Users\\naikh\\anaconda3\\envs\\PytorchEnvironment\\Lib\\site-packages\\pyedflib\\edfwriter.py:134: UserWarning: Physical minimum for channel 4 (PSG_O1) is -0.003199922654962997, which has 21 chars, however, EDF+ can only save 8 chars, will be truncated to -0.00319, some loss of precision is to be expected\n",
      "  warnings.warn('Physical minimum for channel {} ({}) is {}, which has {} chars, '\\\n",
      "C:\\Users\\naikh\\anaconda3\\envs\\PytorchEnvironment\\Lib\\site-packages\\pyedflib\\edfwriter.py:141: UserWarning: Physical maximum for channel 4 (PSG_O1) is 0.0008145168006103608, which has 21 chars, however, EDF+ can only save 8 chars, will be truncated to 0.000814, some loss of precision is to be expected.\n",
      "  warnings.warn('Physical maximum for channel {} ({}) is {}, which has {} chars, '\\\n",
      "C:\\Users\\naikh\\anaconda3\\envs\\PytorchEnvironment\\Lib\\site-packages\\pyedflib\\edfwriter.py:134: UserWarning: Physical minimum for channel 5 (PSG_O2) is -0.003199936591166552, which has 21 chars, however, EDF+ can only save 8 chars, will be truncated to -0.00319, some loss of precision is to be expected\n",
      "  warnings.warn('Physical minimum for channel {} ({}) is {}, which has {} chars, '\\\n",
      "C:\\Users\\naikh\\anaconda3\\envs\\PytorchEnvironment\\Lib\\site-packages\\pyedflib\\edfwriter.py:141: UserWarning: Physical maximum for channel 5 (PSG_O2) is -0.0005018273191302353, which has 22 chars, however, EDF+ can only save 8 chars, will be truncated to -0.00050, some loss of precision is to be expected.\n",
      "  warnings.warn('Physical maximum for channel {} ({}) is {}, which has {} chars, '\\\n"
     ]
    },
    {
     "name": "stdout",
     "output_type": "stream",
     "text": [
      "Extracting EDF parameters from C:\\Users\\naikh\\SleepResearchCode_experient\\Dataset_clean_for_jupyter\\sub-74\\eeg\\sub-74_task-Sleep_acq-psg_eeg.edf...\n",
      "EDF file detected\n",
      "Setting channel info structure...\n",
      "Creating raw.info structure...\n",
      "Reading 0 ... 7443199  =      0.000 ... 29074.996 secs...\n"
     ]
    },
    {
     "name": "stderr",
     "output_type": "stream",
     "text": [
      "C:\\Users\\naikh\\AppData\\Local\\Temp\\ipykernel_16604\\791336486.py:6: RuntimeWarning: Channels contain different highpass filters. Highest filter setting will be stored.\n",
      "  raw = mne.io.read_raw_edf(file_path, preload=True)\n",
      "C:\\Users\\naikh\\anaconda3\\envs\\PytorchEnvironment\\Lib\\site-packages\\pyedflib\\edfwriter.py:134: UserWarning: Physical minimum for channel 0 (PSG_F3) is 1.531640753795676e-05, which has 21 chars, however, EDF+ can only save 8 chars, will be truncated to 1.531640, some loss of precision is to be expected\n",
      "  warnings.warn('Physical minimum for channel {} ({}) is {}, which has {} chars, '\\\n",
      "C:\\Users\\naikh\\anaconda3\\envs\\PytorchEnvironment\\Lib\\site-packages\\pyedflib\\edfwriter.py:141: UserWarning: Physical maximum for channel 0 (PSG_F3) is 0.0015542719999999998, which has 21 chars, however, EDF+ can only save 8 chars, will be truncated to 0.001554, some loss of precision is to be expected.\n",
      "  warnings.warn('Physical maximum for channel {} ({}) is {}, which has {} chars, '\\\n",
      "C:\\Users\\naikh\\anaconda3\\envs\\PytorchEnvironment\\Lib\\site-packages\\pyedflib\\edfwriter.py:134: UserWarning: Physical minimum for channel 1 (PSG_F4) is -0.0003859968552147708, which has 22 chars, however, EDF+ can only save 8 chars, will be truncated to -0.00038, some loss of precision is to be expected\n",
      "  warnings.warn('Physical minimum for channel {} ({}) is {}, which has {} chars, '\\\n",
      "C:\\Users\\naikh\\anaconda3\\envs\\PytorchEnvironment\\Lib\\site-packages\\pyedflib\\edfwriter.py:141: UserWarning: Physical maximum for channel 1 (PSG_F4) is 0.0009967436999999998, which has 21 chars, however, EDF+ can only save 8 chars, will be truncated to 0.000996, some loss of precision is to be expected.\n",
      "  warnings.warn('Physical maximum for channel {} ({}) is {}, which has {} chars, '\\\n",
      "C:\\Users\\naikh\\anaconda3\\envs\\PytorchEnvironment\\Lib\\site-packages\\pyedflib\\edfwriter.py:134: UserWarning: Physical minimum for channel 2 (PSG_C3) is -0.0004548588561959259, which has 22 chars, however, EDF+ can only save 8 chars, will be truncated to -0.00045, some loss of precision is to be expected\n",
      "  warnings.warn('Physical minimum for channel {} ({}) is {}, which has {} chars, '\\\n",
      "C:\\Users\\naikh\\anaconda3\\envs\\PytorchEnvironment\\Lib\\site-packages\\pyedflib\\edfwriter.py:141: UserWarning: Physical maximum for channel 2 (PSG_C3) is 0.0008108033999999999, which has 21 chars, however, EDF+ can only save 8 chars, will be truncated to 0.000810, some loss of precision is to be expected.\n",
      "  warnings.warn('Physical maximum for channel {} ({}) is {}, which has {} chars, '\\\n",
      "C:\\Users\\naikh\\anaconda3\\envs\\PytorchEnvironment\\Lib\\site-packages\\pyedflib\\edfwriter.py:134: UserWarning: Physical minimum for channel 3 (PSG_C4) is 0.0008412676429388875, which has 21 chars, however, EDF+ can only save 8 chars, will be truncated to 0.000841, some loss of precision is to be expected\n",
      "  warnings.warn('Physical minimum for channel {} ({}) is {}, which has {} chars, '\\\n",
      "C:\\Users\\naikh\\anaconda3\\envs\\PytorchEnvironment\\Lib\\site-packages\\pyedflib\\edfwriter.py:134: UserWarning: Physical minimum for channel 4 (PSG_O1) is -0.000630823901045243, which has 21 chars, however, EDF+ can only save 8 chars, will be truncated to -0.00063, some loss of precision is to be expected\n",
      "  warnings.warn('Physical minimum for channel {} ({}) is {}, which has {} chars, '\\\n",
      "C:\\Users\\naikh\\anaconda3\\envs\\PytorchEnvironment\\Lib\\site-packages\\pyedflib\\edfwriter.py:141: UserWarning: Physical maximum for channel 4 (PSG_O1) is 0.00102399, which has 10 chars, however, EDF+ can only save 8 chars, will be truncated to 0.001023, some loss of precision is to be expected.\n",
      "  warnings.warn('Physical maximum for channel {} ({}) is {}, which has {} chars, '\\\n",
      "C:\\Users\\naikh\\anaconda3\\envs\\PytorchEnvironment\\Lib\\site-packages\\pyedflib\\edfwriter.py:134: UserWarning: Physical minimum for channel 5 (PSG_O2) is 2.6174364431220055e-05, which has 22 chars, however, EDF+ can only save 8 chars, will be truncated to 2.617436, some loss of precision is to be expected\n",
      "  warnings.warn('Physical minimum for channel {} ({}) is {}, which has {} chars, '\\\n",
      "C:\\Users\\naikh\\anaconda3\\envs\\PytorchEnvironment\\Lib\\site-packages\\pyedflib\\edfwriter.py:141: UserWarning: Physical maximum for channel 5 (PSG_O2) is 0.0019510550000000002, which has 21 chars, however, EDF+ can only save 8 chars, will be truncated to 0.001951, some loss of precision is to be expected.\n",
      "  warnings.warn('Physical maximum for channel {} ({}) is {}, which has {} chars, '\\\n"
     ]
    },
    {
     "name": "stdout",
     "output_type": "stream",
     "text": [
      "Extracting EDF parameters from C:\\Users\\naikh\\SleepResearchCode_experient\\Dataset_clean_for_jupyter\\sub-75\\eeg\\sub-75_task-Sleep_acq-psg_eeg.edf...\n",
      "EDF file detected\n",
      "Setting channel info structure...\n",
      "Creating raw.info structure...\n",
      "Reading 0 ... 6633983  =      0.000 ... 25913.996 secs...\n"
     ]
    },
    {
     "name": "stderr",
     "output_type": "stream",
     "text": [
      "C:\\Users\\naikh\\AppData\\Local\\Temp\\ipykernel_16604\\791336486.py:6: RuntimeWarning: Channels contain different highpass filters. Highest filter setting will be stored.\n",
      "  raw = mne.io.read_raw_edf(file_path, preload=True)\n"
     ]
    },
    {
     "name": "stdout",
     "output_type": "stream",
     "text": [
      "Extracting EDF parameters from C:\\Users\\naikh\\SleepResearchCode_experient\\Dataset_clean_for_jupyter\\sub-76\\eeg\\sub-76_task-Sleep_acq-psg_eeg.edf...\n",
      "EDF file detected\n",
      "Setting channel info structure...\n",
      "Creating raw.info structure...\n",
      "Reading 0 ... 8049919  =      0.000 ... 31444.996 secs...\n"
     ]
    },
    {
     "name": "stderr",
     "output_type": "stream",
     "text": [
      "C:\\Users\\naikh\\AppData\\Local\\Temp\\ipykernel_16604\\791336486.py:6: RuntimeWarning: Channels contain different highpass filters. Highest filter setting will be stored.\n",
      "  raw = mne.io.read_raw_edf(file_path, preload=True)\n",
      "C:\\Users\\naikh\\anaconda3\\envs\\PytorchEnvironment\\Lib\\site-packages\\pyedflib\\edfwriter.py:134: UserWarning: Physical minimum for channel 0 (PSG_F3) is -0.0004842926630624856, which has 22 chars, however, EDF+ can only save 8 chars, will be truncated to -0.00048, some loss of precision is to be expected\n",
      "  warnings.warn('Physical minimum for channel {} ({}) is {}, which has {} chars, '\\\n",
      "C:\\Users\\naikh\\anaconda3\\envs\\PytorchEnvironment\\Lib\\site-packages\\pyedflib\\edfwriter.py:141: UserWarning: Physical maximum for channel 0 (PSG_F3) is 0.0008012329000000001, which has 21 chars, however, EDF+ can only save 8 chars, will be truncated to 0.000801, some loss of precision is to be expected.\n",
      "  warnings.warn('Physical maximum for channel {} ({}) is {}, which has {} chars, '\\\n",
      "C:\\Users\\naikh\\anaconda3\\envs\\PytorchEnvironment\\Lib\\site-packages\\pyedflib\\edfwriter.py:134: UserWarning: Physical minimum for channel 1 (PSG_F4) is -1.325986587319744e-05, which has 22 chars, however, EDF+ can only save 8 chars, will be truncated to -1.32598, some loss of precision is to be expected\n",
      "  warnings.warn('Physical minimum for channel {} ({}) is {}, which has {} chars, '\\\n",
      "C:\\Users\\naikh\\anaconda3\\envs\\PytorchEnvironment\\Lib\\site-packages\\pyedflib\\edfwriter.py:141: UserWarning: Physical maximum for channel 1 (PSG_F4) is 0.001074284, which has 11 chars, however, EDF+ can only save 8 chars, will be truncated to 0.001074, some loss of precision is to be expected.\n",
      "  warnings.warn('Physical maximum for channel {} ({}) is {}, which has {} chars, '\\\n",
      "C:\\Users\\naikh\\anaconda3\\envs\\PytorchEnvironment\\Lib\\site-packages\\pyedflib\\edfwriter.py:134: UserWarning: Physical minimum for channel 2 (PSG_C3) is 0.00022193160959792476, which has 22 chars, however, EDF+ can only save 8 chars, will be truncated to 0.000221, some loss of precision is to be expected\n",
      "  warnings.warn('Physical minimum for channel {} ({}) is {}, which has {} chars, '\\\n",
      "C:\\Users\\naikh\\anaconda3\\envs\\PytorchEnvironment\\Lib\\site-packages\\pyedflib\\edfwriter.py:141: UserWarning: Physical maximum for channel 2 (PSG_C3) is 0.002016095, which has 11 chars, however, EDF+ can only save 8 chars, will be truncated to 0.002016, some loss of precision is to be expected.\n",
      "  warnings.warn('Physical maximum for channel {} ({}) is {}, which has {} chars, '\\\n",
      "C:\\Users\\naikh\\anaconda3\\envs\\PytorchEnvironment\\Lib\\site-packages\\pyedflib\\edfwriter.py:134: UserWarning: Physical minimum for channel 3 (PSG_C4) is -0.0012647746263675897, which has 22 chars, however, EDF+ can only save 8 chars, will be truncated to -0.00126, some loss of precision is to be expected\n",
      "  warnings.warn('Physical minimum for channel {} ({}) is {}, which has {} chars, '\\\n",
      "C:\\Users\\naikh\\anaconda3\\envs\\PytorchEnvironment\\Lib\\site-packages\\pyedflib\\edfwriter.py:141: UserWarning: Physical maximum for channel 3 (PSG_C4) is 0.00085965961528954, which has 19 chars, however, EDF+ can only save 8 chars, will be truncated to 0.000859, some loss of precision is to be expected.\n",
      "  warnings.warn('Physical maximum for channel {} ({}) is {}, which has {} chars, '\\\n",
      "C:\\Users\\naikh\\anaconda3\\envs\\PytorchEnvironment\\Lib\\site-packages\\pyedflib\\edfwriter.py:134: UserWarning: Physical minimum for channel 4 (PSG_O1) is 9.729229114213785e-05, which has 21 chars, however, EDF+ can only save 8 chars, will be truncated to 9.729229, some loss of precision is to be expected\n",
      "  warnings.warn('Physical minimum for channel {} ({}) is {}, which has {} chars, '\\\n",
      "C:\\Users\\naikh\\anaconda3\\envs\\PytorchEnvironment\\Lib\\site-packages\\pyedflib\\edfwriter.py:134: UserWarning: Physical minimum for channel 5 (PSG_O2) is -3.1697259647516715e-05, which has 23 chars, however, EDF+ can only save 8 chars, will be truncated to -3.16972, some loss of precision is to be expected\n",
      "  warnings.warn('Physical minimum for channel {} ({}) is {}, which has {} chars, '\\\n",
      "C:\\Users\\naikh\\anaconda3\\envs\\PytorchEnvironment\\Lib\\site-packages\\pyedflib\\edfwriter.py:141: UserWarning: Physical maximum for channel 5 (PSG_O2) is 0.0017035899999999998, which has 21 chars, however, EDF+ can only save 8 chars, will be truncated to 0.001703, some loss of precision is to be expected.\n",
      "  warnings.warn('Physical maximum for channel {} ({}) is {}, which has {} chars, '\\\n"
     ]
    },
    {
     "name": "stdout",
     "output_type": "stream",
     "text": [
      "Extracting EDF parameters from C:\\Users\\naikh\\SleepResearchCode_experient\\Dataset_clean_for_jupyter\\sub-77\\eeg\\sub-77_task-Sleep_acq-psg_eeg.edf...\n",
      "EDF file detected\n",
      "Setting channel info structure...\n",
      "Creating raw.info structure...\n",
      "Reading 0 ... 8281855  =      0.000 ... 32350.996 secs...\n"
     ]
    },
    {
     "name": "stderr",
     "output_type": "stream",
     "text": [
      "C:\\Users\\naikh\\AppData\\Local\\Temp\\ipykernel_16604\\791336486.py:6: RuntimeWarning: Channels contain different highpass filters. Highest filter setting will be stored.\n",
      "  raw = mne.io.read_raw_edf(file_path, preload=True)\n",
      "C:\\Users\\naikh\\anaconda3\\envs\\PytorchEnvironment\\Lib\\site-packages\\pyedflib\\edfwriter.py:134: UserWarning: Physical minimum for channel 0 (PSG_F3) is -0.00045732131658197906, which has 23 chars, however, EDF+ can only save 8 chars, will be truncated to -0.00045, some loss of precision is to be expected\n",
      "  warnings.warn('Physical minimum for channel {} ({}) is {}, which has {} chars, '\\\n",
      "C:\\Users\\naikh\\anaconda3\\envs\\PytorchEnvironment\\Lib\\site-packages\\pyedflib\\edfwriter.py:141: UserWarning: Physical maximum for channel 0 (PSG_F3) is 0.0009380513999999998, which has 21 chars, however, EDF+ can only save 8 chars, will be truncated to 0.000938, some loss of precision is to be expected.\n",
      "  warnings.warn('Physical maximum for channel {} ({}) is {}, which has {} chars, '\\\n",
      "C:\\Users\\naikh\\anaconda3\\envs\\PytorchEnvironment\\Lib\\site-packages\\pyedflib\\edfwriter.py:134: UserWarning: Physical minimum for channel 1 (PSG_F4) is -0.0007461339603097581, which has 22 chars, however, EDF+ can only save 8 chars, will be truncated to -0.00074, some loss of precision is to be expected\n",
      "  warnings.warn('Physical minimum for channel {} ({}) is {}, which has {} chars, '\\\n",
      "C:\\Users\\naikh\\anaconda3\\envs\\PytorchEnvironment\\Lib\\site-packages\\pyedflib\\edfwriter.py:141: UserWarning: Physical maximum for channel 1 (PSG_F4) is 0.0004096150950087741, which has 21 chars, however, EDF+ can only save 8 chars, will be truncated to 0.000409, some loss of precision is to be expected.\n",
      "  warnings.warn('Physical maximum for channel {} ({}) is {}, which has {} chars, '\\\n",
      "C:\\Users\\naikh\\anaconda3\\envs\\PytorchEnvironment\\Lib\\site-packages\\pyedflib\\edfwriter.py:134: UserWarning: Physical minimum for channel 2 (PSG_C3) is -0.00045439180766002887, which has 23 chars, however, EDF+ can only save 8 chars, will be truncated to -0.00045, some loss of precision is to be expected\n",
      "  warnings.warn('Physical minimum for channel {} ({}) is {}, which has {} chars, '\\\n",
      "C:\\Users\\naikh\\anaconda3\\envs\\PytorchEnvironment\\Lib\\site-packages\\pyedflib\\edfwriter.py:141: UserWarning: Physical maximum for channel 2 (PSG_C3) is 0.001229169, which has 11 chars, however, EDF+ can only save 8 chars, will be truncated to 0.001229, some loss of precision is to be expected.\n",
      "  warnings.warn('Physical maximum for channel {} ({}) is {}, which has {} chars, '\\\n",
      "C:\\Users\\naikh\\anaconda3\\envs\\PytorchEnvironment\\Lib\\site-packages\\pyedflib\\edfwriter.py:134: UserWarning: Physical minimum for channel 4 (PSG_O1) is -0.00010100566820782791, which has 23 chars, however, EDF+ can only save 8 chars, will be truncated to -0.00010, some loss of precision is to be expected\n",
      "  warnings.warn('Physical minimum for channel {} ({}) is {}, which has {} chars, '\\\n",
      "C:\\Users\\naikh\\anaconda3\\envs\\PytorchEnvironment\\Lib\\site-packages\\pyedflib\\edfwriter.py:141: UserWarning: Physical maximum for channel 4 (PSG_O1) is 0.0014742899999999998, which has 21 chars, however, EDF+ can only save 8 chars, will be truncated to 0.001474, some loss of precision is to be expected.\n",
      "  warnings.warn('Physical maximum for channel {} ({}) is {}, which has {} chars, '\\\n",
      "C:\\Users\\naikh\\anaconda3\\envs\\PytorchEnvironment\\Lib\\site-packages\\pyedflib\\edfwriter.py:134: UserWarning: Physical minimum for channel 5 (PSG_O2) is -0.0001903895797970549, which has 22 chars, however, EDF+ can only save 8 chars, will be truncated to -0.00019, some loss of precision is to be expected\n",
      "  warnings.warn('Physical minimum for channel {} ({}) is {}, which has {} chars, '\\\n",
      "C:\\Users\\naikh\\anaconda3\\envs\\PytorchEnvironment\\Lib\\site-packages\\pyedflib\\edfwriter.py:141: UserWarning: Physical maximum for channel 5 (PSG_O2) is 0.0017511500000000004, which has 21 chars, however, EDF+ can only save 8 chars, will be truncated to 0.001751, some loss of precision is to be expected.\n",
      "  warnings.warn('Physical maximum for channel {} ({}) is {}, which has {} chars, '\\\n"
     ]
    },
    {
     "name": "stdout",
     "output_type": "stream",
     "text": [
      "Extracting EDF parameters from C:\\Users\\naikh\\SleepResearchCode_experient\\Dataset_clean_for_jupyter\\sub-78\\eeg\\sub-78_task-Sleep_acq-psg_eeg.edf...\n",
      "EDF file detected\n",
      "Setting channel info structure...\n",
      "Creating raw.info structure...\n",
      "Reading 0 ... 6765311  =      0.000 ... 26426.996 secs...\n"
     ]
    },
    {
     "name": "stderr",
     "output_type": "stream",
     "text": [
      "C:\\Users\\naikh\\AppData\\Local\\Temp\\ipykernel_16604\\791336486.py:6: RuntimeWarning: Channels contain different highpass filters. Highest filter setting will be stored.\n",
      "  raw = mne.io.read_raw_edf(file_path, preload=True)\n",
      "C:\\Users\\naikh\\anaconda3\\envs\\PytorchEnvironment\\Lib\\site-packages\\pyedflib\\edfwriter.py:134: UserWarning: Physical minimum for channel 0 (PSG_F3) is -0.000914296777613489, which has 21 chars, however, EDF+ can only save 8 chars, will be truncated to -0.00091, some loss of precision is to be expected\n",
      "  warnings.warn('Physical minimum for channel {} ({}) is {}, which has {} chars, '\\\n",
      "C:\\Users\\naikh\\anaconda3\\envs\\PytorchEnvironment\\Lib\\site-packages\\pyedflib\\edfwriter.py:141: UserWarning: Physical maximum for channel 0 (PSG_F3) is 0.0004636905686121918, which has 21 chars, however, EDF+ can only save 8 chars, will be truncated to 0.000463, some loss of precision is to be expected.\n",
      "  warnings.warn('Physical maximum for channel {} ({}) is {}, which has {} chars, '\\\n",
      "C:\\Users\\naikh\\anaconda3\\envs\\PytorchEnvironment\\Lib\\site-packages\\pyedflib\\edfwriter.py:134: UserWarning: Physical minimum for channel 1 (PSG_F4) is -0.0009198616941527427, which has 22 chars, however, EDF+ can only save 8 chars, will be truncated to -0.00091, some loss of precision is to be expected\n",
      "  warnings.warn('Physical minimum for channel {} ({}) is {}, which has {} chars, '\\\n",
      "C:\\Users\\naikh\\anaconda3\\envs\\PytorchEnvironment\\Lib\\site-packages\\pyedflib\\edfwriter.py:141: UserWarning: Physical maximum for channel 1 (PSG_F4) is 0.0005750559267185473, which has 21 chars, however, EDF+ can only save 8 chars, will be truncated to 0.000575, some loss of precision is to be expected.\n",
      "  warnings.warn('Physical maximum for channel {} ({}) is {}, which has {} chars, '\\\n",
      "C:\\Users\\naikh\\anaconda3\\envs\\PytorchEnvironment\\Lib\\site-packages\\pyedflib\\edfwriter.py:134: UserWarning: Physical minimum for channel 2 (PSG_C3) is -0.0026341056075074388, which has 22 chars, however, EDF+ can only save 8 chars, will be truncated to -0.00263, some loss of precision is to be expected\n",
      "  warnings.warn('Physical minimum for channel {} ({}) is {}, which has {} chars, '\\\n",
      "C:\\Users\\naikh\\anaconda3\\envs\\PytorchEnvironment\\Lib\\site-packages\\pyedflib\\edfwriter.py:141: UserWarning: Physical maximum for channel 2 (PSG_C3) is 0.0007460495045090408, which has 21 chars, however, EDF+ can only save 8 chars, will be truncated to 0.000746, some loss of precision is to be expected.\n",
      "  warnings.warn('Physical maximum for channel {} ({}) is {}, which has {} chars, '\\\n",
      "C:\\Users\\naikh\\anaconda3\\envs\\PytorchEnvironment\\Lib\\site-packages\\pyedflib\\edfwriter.py:134: UserWarning: Physical minimum for channel 3 (PSG_C4) is -0.0005403142743419546, which has 22 chars, however, EDF+ can only save 8 chars, will be truncated to -0.00054, some loss of precision is to be expected\n",
      "  warnings.warn('Physical minimum for channel {} ({}) is {}, which has {} chars, '\\\n",
      "C:\\Users\\naikh\\anaconda3\\envs\\PytorchEnvironment\\Lib\\site-packages\\pyedflib\\edfwriter.py:141: UserWarning: Physical maximum for channel 3 (PSG_C4) is 0.001397433, which has 11 chars, however, EDF+ can only save 8 chars, will be truncated to 0.001397, some loss of precision is to be expected.\n",
      "  warnings.warn('Physical maximum for channel {} ({}) is {}, which has {} chars, '\\\n",
      "C:\\Users\\naikh\\anaconda3\\envs\\PytorchEnvironment\\Lib\\site-packages\\pyedflib\\edfwriter.py:134: UserWarning: Physical minimum for channel 4 (PSG_O1) is -0.00024584243808651874, which has 23 chars, however, EDF+ can only save 8 chars, will be truncated to -0.00024, some loss of precision is to be expected\n",
      "  warnings.warn('Physical minimum for channel {} ({}) is {}, which has {} chars, '\\\n",
      "C:\\Users\\naikh\\anaconda3\\envs\\PytorchEnvironment\\Lib\\site-packages\\pyedflib\\edfwriter.py:134: UserWarning: Physical minimum for channel 5 (PSG_O2) is 0.00034480557679102765, which has 22 chars, however, EDF+ can only save 8 chars, will be truncated to 0.000344, some loss of precision is to be expected\n",
      "  warnings.warn('Physical minimum for channel {} ({}) is {}, which has {} chars, '\\\n",
      "C:\\Users\\naikh\\anaconda3\\envs\\PytorchEnvironment\\Lib\\site-packages\\pyedflib\\edfwriter.py:141: UserWarning: Physical maximum for channel 5 (PSG_O2) is 0.003004685, which has 11 chars, however, EDF+ can only save 8 chars, will be truncated to 0.003004, some loss of precision is to be expected.\n",
      "  warnings.warn('Physical maximum for channel {} ({}) is {}, which has {} chars, '\\\n"
     ]
    },
    {
     "name": "stdout",
     "output_type": "stream",
     "text": [
      "Extracting EDF parameters from C:\\Users\\naikh\\SleepResearchCode_experient\\Dataset_clean_for_jupyter\\sub-79\\eeg\\sub-79_task-Sleep_acq-psg_eeg.edf...\n",
      "EDF file detected\n",
      "Setting channel info structure...\n",
      "Creating raw.info structure...\n",
      "Reading 0 ... 7941631  =      0.000 ... 31021.996 secs...\n"
     ]
    },
    {
     "name": "stderr",
     "output_type": "stream",
     "text": [
      "C:\\Users\\naikh\\AppData\\Local\\Temp\\ipykernel_16604\\791336486.py:6: RuntimeWarning: Channels contain different highpass filters. Highest filter setting will be stored.\n",
      "  raw = mne.io.read_raw_edf(file_path, preload=True)\n"
     ]
    },
    {
     "name": "stdout",
     "output_type": "stream",
     "text": [
      "Extracting EDF parameters from C:\\Users\\naikh\\SleepResearchCode_experient\\Dataset_clean_for_jupyter\\sub-80\\eeg\\sub-80_task-Sleep_acq-psg_eeg.edf...\n",
      "EDF file detected\n",
      "Setting channel info structure...\n",
      "Creating raw.info structure...\n",
      "Reading 0 ... 6304255  =      0.000 ... 24625.996 secs...\n"
     ]
    },
    {
     "name": "stderr",
     "output_type": "stream",
     "text": [
      "C:\\Users\\naikh\\AppData\\Local\\Temp\\ipykernel_16604\\791336486.py:6: RuntimeWarning: Channels contain different highpass filters. Highest filter setting will be stored.\n",
      "  raw = mne.io.read_raw_edf(file_path, preload=True)\n",
      "C:\\Users\\naikh\\anaconda3\\envs\\PytorchEnvironment\\Lib\\site-packages\\pyedflib\\edfwriter.py:134: UserWarning: Physical minimum for channel 0 (PSG_F3) is -0.0003826607015320058, which has 22 chars, however, EDF+ can only save 8 chars, will be truncated to -0.00038, some loss of precision is to be expected\n",
      "  warnings.warn('Physical minimum for channel {} ({}) is {}, which has {} chars, '\\\n",
      "C:\\Users\\naikh\\anaconda3\\envs\\PytorchEnvironment\\Lib\\site-packages\\pyedflib\\edfwriter.py:141: UserWarning: Physical maximum for channel 0 (PSG_F3) is 0.0003336847662363622, which has 21 chars, however, EDF+ can only save 8 chars, will be truncated to 0.000333, some loss of precision is to be expected.\n",
      "  warnings.warn('Physical maximum for channel {} ({}) is {}, which has {} chars, '\\\n",
      "C:\\Users\\naikh\\anaconda3\\envs\\PytorchEnvironment\\Lib\\site-packages\\pyedflib\\edfwriter.py:134: UserWarning: Physical minimum for channel 1 (PSG_F4) is -0.0004131301248157473, which has 22 chars, however, EDF+ can only save 8 chars, will be truncated to -0.00041, some loss of precision is to be expected\n",
      "  warnings.warn('Physical minimum for channel {} ({}) is {}, which has {} chars, '\\\n",
      "C:\\Users\\naikh\\anaconda3\\envs\\PytorchEnvironment\\Lib\\site-packages\\pyedflib\\edfwriter.py:141: UserWarning: Physical maximum for channel 1 (PSG_F4) is 0.0002016005402517739, which has 21 chars, however, EDF+ can only save 8 chars, will be truncated to 0.000201, some loss of precision is to be expected.\n",
      "  warnings.warn('Physical maximum for channel {} ({}) is {}, which has {} chars, '\\\n",
      "C:\\Users\\naikh\\anaconda3\\envs\\PytorchEnvironment\\Lib\\site-packages\\pyedflib\\edfwriter.py:134: UserWarning: Physical minimum for channel 2 (PSG_C3) is -8.159106954909595e-05, which has 22 chars, however, EDF+ can only save 8 chars, will be truncated to -8.15910, some loss of precision is to be expected\n",
      "  warnings.warn('Physical minimum for channel {} ({}) is {}, which has {} chars, '\\\n",
      "C:\\Users\\naikh\\anaconda3\\envs\\PytorchEnvironment\\Lib\\site-packages\\pyedflib\\edfwriter.py:141: UserWarning: Physical maximum for channel 2 (PSG_C3) is 0.0007436148999999998, which has 21 chars, however, EDF+ can only save 8 chars, will be truncated to 0.000743, some loss of precision is to be expected.\n",
      "  warnings.warn('Physical maximum for channel {} ({}) is {}, which has {} chars, '\\\n",
      "C:\\Users\\naikh\\anaconda3\\envs\\PytorchEnvironment\\Lib\\site-packages\\pyedflib\\edfwriter.py:134: UserWarning: Physical minimum for channel 3 (PSG_C4) is -0.0003866648685404745, which has 22 chars, however, EDF+ can only save 8 chars, will be truncated to -0.00038, some loss of precision is to be expected\n",
      "  warnings.warn('Physical minimum for channel {} ({}) is {}, which has {} chars, '\\\n",
      "C:\\Users\\naikh\\anaconda3\\envs\\PytorchEnvironment\\Lib\\site-packages\\pyedflib\\edfwriter.py:141: UserWarning: Physical maximum for channel 3 (PSG_C4) is 0.0003014596964034485, which has 21 chars, however, EDF+ can only save 8 chars, will be truncated to 0.000301, some loss of precision is to be expected.\n",
      "  warnings.warn('Physical maximum for channel {} ({}) is {}, which has {} chars, '\\\n",
      "C:\\Users\\naikh\\anaconda3\\envs\\PytorchEnvironment\\Lib\\site-packages\\pyedflib\\edfwriter.py:134: UserWarning: Physical minimum for channel 4 (PSG_O1) is -0.00012480477322957198, which has 23 chars, however, EDF+ can only save 8 chars, will be truncated to -0.00012, some loss of precision is to be expected\n",
      "  warnings.warn('Physical minimum for channel {} ({}) is {}, which has {} chars, '\\\n",
      "C:\\Users\\naikh\\anaconda3\\envs\\PytorchEnvironment\\Lib\\site-packages\\pyedflib\\edfwriter.py:141: UserWarning: Physical maximum for channel 4 (PSG_O1) is 0.0003368704, which has 12 chars, however, EDF+ can only save 8 chars, will be truncated to 0.000336, some loss of precision is to be expected.\n",
      "  warnings.warn('Physical maximum for channel {} ({}) is {}, which has {} chars, '\\\n",
      "C:\\Users\\naikh\\anaconda3\\envs\\PytorchEnvironment\\Lib\\site-packages\\pyedflib\\edfwriter.py:134: UserWarning: Physical minimum for channel 5 (PSG_O2) is 0.00019544493354695967, which has 22 chars, however, EDF+ can only save 8 chars, will be truncated to 0.000195, some loss of precision is to be expected\n",
      "  warnings.warn('Physical minimum for channel {} ({}) is {}, which has {} chars, '\\\n",
      "C:\\Users\\naikh\\anaconda3\\envs\\PytorchEnvironment\\Lib\\site-packages\\pyedflib\\edfwriter.py:141: UserWarning: Physical maximum for channel 5 (PSG_O2) is 0.001171746, which has 11 chars, however, EDF+ can only save 8 chars, will be truncated to 0.001171, some loss of precision is to be expected.\n",
      "  warnings.warn('Physical maximum for channel {} ({}) is {}, which has {} chars, '\\\n"
     ]
    },
    {
     "name": "stdout",
     "output_type": "stream",
     "text": [
      "Extracting EDF parameters from C:\\Users\\naikh\\SleepResearchCode_experient\\Dataset_clean_for_jupyter\\sub-81\\eeg\\sub-81_task-Sleep_acq-psg_eeg.edf...\n",
      "EDF file detected\n",
      "Setting channel info structure...\n",
      "Creating raw.info structure...\n",
      "Reading 0 ... 6955775  =      0.000 ... 27170.996 secs...\n"
     ]
    },
    {
     "name": "stderr",
     "output_type": "stream",
     "text": [
      "C:\\Users\\naikh\\AppData\\Local\\Temp\\ipykernel_16604\\791336486.py:6: RuntimeWarning: Channels contain different highpass filters. Highest filter setting will be stored.\n",
      "  raw = mne.io.read_raw_edf(file_path, preload=True)\n",
      "C:\\Users\\naikh\\anaconda3\\envs\\PytorchEnvironment\\Lib\\site-packages\\pyedflib\\edfwriter.py:134: UserWarning: Physical minimum for channel 0 (PSG_F3) is -0.0008828486286915389, which has 22 chars, however, EDF+ can only save 8 chars, will be truncated to -0.00088, some loss of precision is to be expected\n",
      "  warnings.warn('Physical minimum for channel {} ({}) is {}, which has {} chars, '\\\n",
      "C:\\Users\\naikh\\anaconda3\\envs\\PytorchEnvironment\\Lib\\site-packages\\pyedflib\\edfwriter.py:141: UserWarning: Physical maximum for channel 0 (PSG_F3) is 0.0008086598386221103, which has 21 chars, however, EDF+ can only save 8 chars, will be truncated to 0.000808, some loss of precision is to be expected.\n",
      "  warnings.warn('Physical maximum for channel {} ({}) is {}, which has {} chars, '\\\n",
      "C:\\Users\\naikh\\anaconda3\\envs\\PytorchEnvironment\\Lib\\site-packages\\pyedflib\\edfwriter.py:134: UserWarning: Physical minimum for channel 1 (PSG_F4) is -0.0010145928998687723, which has 22 chars, however, EDF+ can only save 8 chars, will be truncated to -0.00101, some loss of precision is to be expected\n",
      "  warnings.warn('Physical minimum for channel {} ({}) is {}, which has {} chars, '\\\n",
      "C:\\Users\\naikh\\anaconda3\\envs\\PytorchEnvironment\\Lib\\site-packages\\pyedflib\\edfwriter.py:141: UserWarning: Physical maximum for channel 1 (PSG_F4) is 0.0005397622268207828, which has 21 chars, however, EDF+ can only save 8 chars, will be truncated to 0.000539, some loss of precision is to be expected.\n",
      "  warnings.warn('Physical maximum for channel {} ({}) is {}, which has {} chars, '\\\n",
      "C:\\Users\\naikh\\anaconda3\\envs\\PytorchEnvironment\\Lib\\site-packages\\pyedflib\\edfwriter.py:134: UserWarning: Physical minimum for channel 2 (PSG_C3) is -0.00041220929210345614, which has 23 chars, however, EDF+ can only save 8 chars, will be truncated to -0.00041, some loss of precision is to be expected\n",
      "  warnings.warn('Physical minimum for channel {} ({}) is {}, which has {} chars, '\\\n",
      "C:\\Users\\naikh\\anaconda3\\envs\\PytorchEnvironment\\Lib\\site-packages\\pyedflib\\edfwriter.py:141: UserWarning: Physical maximum for channel 2 (PSG_C3) is 0.000826038, which has 11 chars, however, EDF+ can only save 8 chars, will be truncated to 0.000826, some loss of precision is to be expected.\n",
      "  warnings.warn('Physical maximum for channel {} ({}) is {}, which has {} chars, '\\\n",
      "C:\\Users\\naikh\\anaconda3\\envs\\PytorchEnvironment\\Lib\\site-packages\\pyedflib\\edfwriter.py:134: UserWarning: Physical minimum for channel 3 (PSG_C4) is -0.003199915412664988, which has 21 chars, however, EDF+ can only save 8 chars, will be truncated to -0.00319, some loss of precision is to be expected\n",
      "  warnings.warn('Physical minimum for channel {} ({}) is {}, which has {} chars, '\\\n",
      "C:\\Users\\naikh\\anaconda3\\envs\\PytorchEnvironment\\Lib\\site-packages\\pyedflib\\edfwriter.py:141: UserWarning: Physical maximum for channel 3 (PSG_C4) is 0.0016015154846112769, which has 21 chars, however, EDF+ can only save 8 chars, will be truncated to 0.001601, some loss of precision is to be expected.\n",
      "  warnings.warn('Physical maximum for channel {} ({}) is {}, which has {} chars, '\\\n",
      "C:\\Users\\naikh\\anaconda3\\envs\\PytorchEnvironment\\Lib\\site-packages\\pyedflib\\edfwriter.py:134: UserWarning: Physical minimum for channel 4 (PSG_O1) is 0.0007493234550240329, which has 21 chars, however, EDF+ can only save 8 chars, will be truncated to 0.000749, some loss of precision is to be expected\n",
      "  warnings.warn('Physical minimum for channel {} ({}) is {}, which has {} chars, '\\\n",
      "C:\\Users\\naikh\\anaconda3\\envs\\PytorchEnvironment\\Lib\\site-packages\\pyedflib\\edfwriter.py:134: UserWarning: Physical minimum for channel 5 (PSG_O2) is 0.00045489220599679523, which has 22 chars, however, EDF+ can only save 8 chars, will be truncated to 0.000454, some loss of precision is to be expected\n",
      "  warnings.warn('Physical minimum for channel {} ({}) is {}, which has {} chars, '\\\n"
     ]
    },
    {
     "name": "stdout",
     "output_type": "stream",
     "text": [
      "Extracting EDF parameters from C:\\Users\\naikh\\SleepResearchCode_experient\\Dataset_clean_for_jupyter\\sub-82\\eeg\\sub-82_task-Sleep_acq-psg_eeg.edf...\n",
      "EDF file detected\n",
      "Setting channel info structure...\n",
      "Creating raw.info structure...\n",
      "Reading 0 ... 6825727  =      0.000 ... 26662.996 secs...\n"
     ]
    },
    {
     "name": "stderr",
     "output_type": "stream",
     "text": [
      "C:\\Users\\naikh\\AppData\\Local\\Temp\\ipykernel_16604\\791336486.py:6: RuntimeWarning: Channels contain different highpass filters. Highest filter setting will be stored.\n",
      "  raw = mne.io.read_raw_edf(file_path, preload=True)\n"
     ]
    },
    {
     "name": "stdout",
     "output_type": "stream",
     "text": [
      "Extracting EDF parameters from C:\\Users\\naikh\\SleepResearchCode_experient\\Dataset_clean_for_jupyter\\sub-83\\eeg\\sub-83_task-Sleep_acq-psg_eeg.edf...\n",
      "EDF file detected\n",
      "Setting channel info structure...\n",
      "Creating raw.info structure...\n",
      "Reading 0 ... 6998783  =      0.000 ... 27338.996 secs...\n"
     ]
    },
    {
     "name": "stderr",
     "output_type": "stream",
     "text": [
      "C:\\Users\\naikh\\AppData\\Local\\Temp\\ipykernel_16604\\791336486.py:6: RuntimeWarning: Channels contain different highpass filters. Highest filter setting will be stored.\n",
      "  raw = mne.io.read_raw_edf(file_path, preload=True)\n",
      "C:\\Users\\naikh\\anaconda3\\envs\\PytorchEnvironment\\Lib\\site-packages\\pyedflib\\edfwriter.py:134: UserWarning: Physical minimum for channel 0 (PSG_F3) is 0.0005293398915999087, which has 21 chars, however, EDF+ can only save 8 chars, will be truncated to 0.000529, some loss of precision is to be expected\n",
      "  warnings.warn('Physical minimum for channel {} ({}) is {}, which has {} chars, '\\\n",
      "C:\\Users\\naikh\\anaconda3\\envs\\PytorchEnvironment\\Lib\\site-packages\\pyedflib\\edfwriter.py:141: UserWarning: Physical maximum for channel 0 (PSG_F3) is 0.0032000000000000006, which has 21 chars, however, EDF+ can only save 8 chars, will be truncated to 0.003200, some loss of precision is to be expected.\n",
      "  warnings.warn('Physical maximum for channel {} ({}) is {}, which has {} chars, '\\\n",
      "C:\\Users\\naikh\\anaconda3\\envs\\PytorchEnvironment\\Lib\\site-packages\\pyedflib\\edfwriter.py:134: UserWarning: Physical minimum for channel 1 (PSG_F4) is -0.0004093980814877546, which has 22 chars, however, EDF+ can only save 8 chars, will be truncated to -0.00040, some loss of precision is to be expected\n",
      "  warnings.warn('Physical minimum for channel {} ({}) is {}, which has {} chars, '\\\n",
      "C:\\Users\\naikh\\anaconda3\\envs\\PytorchEnvironment\\Lib\\site-packages\\pyedflib\\edfwriter.py:141: UserWarning: Physical maximum for channel 1 (PSG_F4) is 0.0006363867, which has 12 chars, however, EDF+ can only save 8 chars, will be truncated to 0.000636, some loss of precision is to be expected.\n",
      "  warnings.warn('Physical maximum for channel {} ({}) is {}, which has {} chars, '\\\n",
      "C:\\Users\\naikh\\anaconda3\\envs\\PytorchEnvironment\\Lib\\site-packages\\pyedflib\\edfwriter.py:134: UserWarning: Physical minimum for channel 2 (PSG_C3) is 0.0008208284628061342, which has 21 chars, however, EDF+ can only save 8 chars, will be truncated to 0.000820, some loss of precision is to be expected\n",
      "  warnings.warn('Physical minimum for channel {} ({}) is {}, which has {} chars, '\\\n",
      "C:\\Users\\naikh\\anaconda3\\envs\\PytorchEnvironment\\Lib\\site-packages\\pyedflib\\edfwriter.py:134: UserWarning: Physical minimum for channel 3 (PSG_C4) is -0.00025014345296406505, which has 23 chars, however, EDF+ can only save 8 chars, will be truncated to -0.00025, some loss of precision is to be expected\n",
      "  warnings.warn('Physical minimum for channel {} ({}) is {}, which has {} chars, '\\\n",
      "C:\\Users\\naikh\\anaconda3\\envs\\PytorchEnvironment\\Lib\\site-packages\\pyedflib\\edfwriter.py:141: UserWarning: Physical maximum for channel 3 (PSG_C4) is 0.003199999999999999, which has 20 chars, however, EDF+ can only save 8 chars, will be truncated to 0.003199, some loss of precision is to be expected.\n",
      "  warnings.warn('Physical maximum for channel {} ({}) is {}, which has {} chars, '\\\n",
      "C:\\Users\\naikh\\anaconda3\\envs\\PytorchEnvironment\\Lib\\site-packages\\pyedflib\\edfwriter.py:134: UserWarning: Physical minimum for channel 4 (PSG_O1) is 0.00014899111839475075, which has 22 chars, however, EDF+ can only save 8 chars, will be truncated to 0.000148, some loss of precision is to be expected\n",
      "  warnings.warn('Physical minimum for channel {} ({}) is {}, which has {} chars, '\\\n",
      "C:\\Users\\naikh\\anaconda3\\envs\\PytorchEnvironment\\Lib\\site-packages\\pyedflib\\edfwriter.py:141: UserWarning: Physical maximum for channel 4 (PSG_O1) is 0.002900483999999999, which has 20 chars, however, EDF+ can only save 8 chars, will be truncated to 0.002900, some loss of precision is to be expected.\n",
      "  warnings.warn('Physical maximum for channel {} ({}) is {}, which has {} chars, '\\\n",
      "C:\\Users\\naikh\\anaconda3\\envs\\PytorchEnvironment\\Lib\\site-packages\\pyedflib\\edfwriter.py:134: UserWarning: Physical minimum for channel 5 (PSG_O2) is -0.0018026174898908979, which has 22 chars, however, EDF+ can only save 8 chars, will be truncated to -0.00180, some loss of precision is to be expected\n",
      "  warnings.warn('Physical minimum for channel {} ({}) is {}, which has {} chars, '\\\n"
     ]
    },
    {
     "name": "stdout",
     "output_type": "stream",
     "text": [
      "Extracting EDF parameters from C:\\Users\\naikh\\SleepResearchCode_experient\\Dataset_clean_for_jupyter\\sub-84\\eeg\\sub-84_task-Sleep_acq-psg_eeg.edf...\n",
      "EDF file detected\n",
      "Setting channel info structure...\n",
      "Creating raw.info structure...\n",
      "Reading 0 ... 7816447  =      0.000 ... 30532.996 secs...\n"
     ]
    },
    {
     "name": "stderr",
     "output_type": "stream",
     "text": [
      "C:\\Users\\naikh\\AppData\\Local\\Temp\\ipykernel_16604\\791336486.py:6: RuntimeWarning: Channels contain different highpass filters. Highest filter setting will be stored.\n",
      "  raw = mne.io.read_raw_edf(file_path, preload=True)\n",
      "C:\\Users\\naikh\\anaconda3\\envs\\PytorchEnvironment\\Lib\\site-packages\\pyedflib\\edfwriter.py:134: UserWarning: Physical minimum for channel 0 (PSG_F3) is -0.0008106838370061799, which has 22 chars, however, EDF+ can only save 8 chars, will be truncated to -0.00081, some loss of precision is to be expected\n",
      "  warnings.warn('Physical minimum for channel {} ({}) is {}, which has {} chars, '\\\n",
      "C:\\Users\\naikh\\anaconda3\\envs\\PytorchEnvironment\\Lib\\site-packages\\pyedflib\\edfwriter.py:141: UserWarning: Physical maximum for channel 0 (PSG_F3) is 0.0004903947152025634, which has 21 chars, however, EDF+ can only save 8 chars, will be truncated to 0.000490, some loss of precision is to be expected.\n",
      "  warnings.warn('Physical maximum for channel {} ({}) is {}, which has {} chars, '\\\n",
      "C:\\Users\\naikh\\anaconda3\\envs\\PytorchEnvironment\\Lib\\site-packages\\pyedflib\\edfwriter.py:134: UserWarning: Physical minimum for channel 1 (PSG_F4) is -0.0005302181297230487, which has 22 chars, however, EDF+ can only save 8 chars, will be truncated to -0.00053, some loss of precision is to be expected\n",
      "  warnings.warn('Physical minimum for channel {} ({}) is {}, which has {} chars, '\\\n",
      "C:\\Users\\naikh\\anaconda3\\envs\\PytorchEnvironment\\Lib\\site-packages\\pyedflib\\edfwriter.py:141: UserWarning: Physical maximum for channel 1 (PSG_F4) is 0.00036531455911192494, which has 22 chars, however, EDF+ can only save 8 chars, will be truncated to 0.000365, some loss of precision is to be expected.\n",
      "  warnings.warn('Physical maximum for channel {} ({}) is {}, which has {} chars, '\\\n",
      "C:\\Users\\naikh\\anaconda3\\envs\\PytorchEnvironment\\Lib\\site-packages\\pyedflib\\edfwriter.py:134: UserWarning: Physical minimum for channel 2 (PSG_C3) is 0.0004559981605859464, which has 21 chars, however, EDF+ can only save 8 chars, will be truncated to 0.000455, some loss of precision is to be expected\n",
      "  warnings.warn('Physical minimum for channel {} ({}) is {}, which has {} chars, '\\\n",
      "C:\\Users\\naikh\\anaconda3\\envs\\PytorchEnvironment\\Lib\\site-packages\\pyedflib\\edfwriter.py:141: UserWarning: Physical maximum for channel 2 (PSG_C3) is 0.0020090639999999996, which has 21 chars, however, EDF+ can only save 8 chars, will be truncated to 0.002009, some loss of precision is to be expected.\n",
      "  warnings.warn('Physical maximum for channel {} ({}) is {}, which has {} chars, '\\\n",
      "C:\\Users\\naikh\\anaconda3\\envs\\PytorchEnvironment\\Lib\\site-packages\\pyedflib\\edfwriter.py:134: UserWarning: Physical minimum for channel 3 (PSG_C4) is 0.0005932294995040817, which has 21 chars, however, EDF+ can only save 8 chars, will be truncated to 0.000593, some loss of precision is to be expected\n",
      "  warnings.warn('Physical minimum for channel {} ({}) is {}, which has {} chars, '\\\n",
      "C:\\Users\\naikh\\anaconda3\\envs\\PytorchEnvironment\\Lib\\site-packages\\pyedflib\\edfwriter.py:141: UserWarning: Physical maximum for channel 3 (PSG_C4) is 0.0024135619999999997, which has 21 chars, however, EDF+ can only save 8 chars, will be truncated to 0.002413, some loss of precision is to be expected.\n",
      "  warnings.warn('Physical maximum for channel {} ({}) is {}, which has {} chars, '\\\n",
      "C:\\Users\\naikh\\anaconda3\\envs\\PytorchEnvironment\\Lib\\site-packages\\pyedflib\\edfwriter.py:134: UserWarning: Physical minimum for channel 4 (PSG_O1) is 0.0005723163996032655, which has 21 chars, however, EDF+ can only save 8 chars, will be truncated to 0.000572, some loss of precision is to be expected\n",
      "  warnings.warn('Physical minimum for channel {} ({}) is {}, which has {} chars, '\\\n",
      "C:\\Users\\naikh\\anaconda3\\envs\\PytorchEnvironment\\Lib\\site-packages\\pyedflib\\edfwriter.py:134: UserWarning: Physical minimum for channel 5 (PSG_O2) is 0.0004303342700389105, which has 21 chars, however, EDF+ can only save 8 chars, will be truncated to 0.000430, some loss of precision is to be expected\n",
      "  warnings.warn('Physical minimum for channel {} ({}) is {}, which has {} chars, '\\\n",
      "C:\\Users\\naikh\\anaconda3\\envs\\PytorchEnvironment\\Lib\\site-packages\\pyedflib\\edfwriter.py:141: UserWarning: Physical maximum for channel 5 (PSG_O2) is 0.002697453, which has 11 chars, however, EDF+ can only save 8 chars, will be truncated to 0.002697, some loss of precision is to be expected.\n",
      "  warnings.warn('Physical maximum for channel {} ({}) is {}, which has {} chars, '\\\n"
     ]
    },
    {
     "name": "stdout",
     "output_type": "stream",
     "text": [
      "Extracting EDF parameters from C:\\Users\\naikh\\SleepResearchCode_experient\\Dataset_clean_for_jupyter\\sub-85\\eeg\\sub-85_task-Sleep_acq-psg_eeg.edf...\n",
      "EDF file detected\n",
      "Setting channel info structure...\n",
      "Creating raw.info structure...\n",
      "Reading 0 ... 8305663  =      0.000 ... 32443.996 secs...\n"
     ]
    },
    {
     "name": "stderr",
     "output_type": "stream",
     "text": [
      "C:\\Users\\naikh\\AppData\\Local\\Temp\\ipykernel_16604\\791336486.py:6: RuntimeWarning: Channels contain different highpass filters. Highest filter setting will be stored.\n",
      "  raw = mne.io.read_raw_edf(file_path, preload=True)\n"
     ]
    },
    {
     "name": "stdout",
     "output_type": "stream",
     "text": [
      "Extracting EDF parameters from C:\\Users\\naikh\\SleepResearchCode_experient\\Dataset_clean_for_jupyter\\sub-86\\eeg\\sub-86_task-Sleep_acq-psg_eeg.edf...\n",
      "EDF file detected\n",
      "Setting channel info structure...\n",
      "Creating raw.info structure...\n",
      "Reading 0 ... 7254271  =      0.000 ... 28336.996 secs...\n"
     ]
    },
    {
     "name": "stderr",
     "output_type": "stream",
     "text": [
      "C:\\Users\\naikh\\AppData\\Local\\Temp\\ipykernel_16604\\791336486.py:6: RuntimeWarning: Channels contain different highpass filters. Highest filter setting will be stored.\n",
      "  raw = mne.io.read_raw_edf(file_path, preload=True)\n",
      "C:\\Users\\naikh\\anaconda3\\envs\\PytorchEnvironment\\Lib\\site-packages\\pyedflib\\edfwriter.py:134: UserWarning: Physical minimum for channel 0 (PSG_F3) is -0.0006668384965423055, which has 22 chars, however, EDF+ can only save 8 chars, will be truncated to -0.00066, some loss of precision is to be expected\n",
      "  warnings.warn('Physical minimum for channel {} ({}) is {}, which has {} chars, '\\\n",
      "C:\\Users\\naikh\\anaconda3\\envs\\PytorchEnvironment\\Lib\\site-packages\\pyedflib\\edfwriter.py:141: UserWarning: Physical maximum for channel 0 (PSG_F3) is 0.0003197263929427023, which has 21 chars, however, EDF+ can only save 8 chars, will be truncated to 0.000319, some loss of precision is to be expected.\n",
      "  warnings.warn('Physical maximum for channel {} ({}) is {}, which has {} chars, '\\\n",
      "C:\\Users\\naikh\\anaconda3\\envs\\PytorchEnvironment\\Lib\\site-packages\\pyedflib\\edfwriter.py:134: UserWarning: Physical minimum for channel 1 (PSG_F4) is -0.0006530693698222323, which has 22 chars, however, EDF+ can only save 8 chars, will be truncated to -0.00065, some loss of precision is to be expected\n",
      "  warnings.warn('Physical minimum for channel {} ({}) is {}, which has {} chars, '\\\n",
      "C:\\Users\\naikh\\anaconda3\\envs\\PytorchEnvironment\\Lib\\site-packages\\pyedflib\\edfwriter.py:141: UserWarning: Physical maximum for channel 1 (PSG_F4) is 0.00025628538068818185, which has 22 chars, however, EDF+ can only save 8 chars, will be truncated to 0.000256, some loss of precision is to be expected.\n",
      "  warnings.warn('Physical maximum for channel {} ({}) is {}, which has {} chars, '\\\n",
      "C:\\Users\\naikh\\anaconda3\\envs\\PytorchEnvironment\\Lib\\site-packages\\pyedflib\\edfwriter.py:134: UserWarning: Physical minimum for channel 2 (PSG_C3) is -0.0005508232562432288, which has 22 chars, however, EDF+ can only save 8 chars, will be truncated to -0.00055, some loss of precision is to be expected\n",
      "  warnings.warn('Physical minimum for channel {} ({}) is {}, which has {} chars, '\\\n",
      "C:\\Users\\naikh\\anaconda3\\envs\\PytorchEnvironment\\Lib\\site-packages\\pyedflib\\edfwriter.py:141: UserWarning: Physical maximum for channel 2 (PSG_C3) is 0.0002966036516945143, which has 21 chars, however, EDF+ can only save 8 chars, will be truncated to 0.000296, some loss of precision is to be expected.\n",
      "  warnings.warn('Physical maximum for channel {} ({}) is {}, which has {} chars, '\\\n",
      "C:\\Users\\naikh\\anaconda3\\envs\\PytorchEnvironment\\Lib\\site-packages\\pyedflib\\edfwriter.py:134: UserWarning: Physical minimum for channel 3 (PSG_C4) is -0.0005899854871320668, which has 22 chars, however, EDF+ can only save 8 chars, will be truncated to -0.00058, some loss of precision is to be expected\n",
      "  warnings.warn('Physical minimum for channel {} ({}) is {}, which has {} chars, '\\\n",
      "C:\\Users\\naikh\\anaconda3\\envs\\PytorchEnvironment\\Lib\\site-packages\\pyedflib\\edfwriter.py:141: UserWarning: Physical maximum for channel 3 (PSG_C4) is 7.460438355687805e-05, which has 21 chars, however, EDF+ can only save 8 chars, will be truncated to 7.460438, some loss of precision is to be expected.\n",
      "  warnings.warn('Physical maximum for channel {} ({}) is {}, which has {} chars, '\\\n",
      "C:\\Users\\naikh\\anaconda3\\envs\\PytorchEnvironment\\Lib\\site-packages\\pyedflib\\edfwriter.py:134: UserWarning: Physical minimum for channel 4 (PSG_O1) is 0.0009681659510185397, which has 21 chars, however, EDF+ can only save 8 chars, will be truncated to 0.000968, some loss of precision is to be expected\n",
      "  warnings.warn('Physical minimum for channel {} ({}) is {}, which has {} chars, '\\\n",
      "C:\\Users\\naikh\\anaconda3\\envs\\PytorchEnvironment\\Lib\\site-packages\\pyedflib\\edfwriter.py:134: UserWarning: Physical minimum for channel 5 (PSG_O2) is 0.00043478211459525444, which has 22 chars, however, EDF+ can only save 8 chars, will be truncated to 0.000434, some loss of precision is to be expected\n",
      "  warnings.warn('Physical minimum for channel {} ({}) is {}, which has {} chars, '\\\n",
      "C:\\Users\\naikh\\anaconda3\\envs\\PytorchEnvironment\\Lib\\site-packages\\pyedflib\\edfwriter.py:141: UserWarning: Physical maximum for channel 5 (PSG_O2) is 0.002153695, which has 11 chars, however, EDF+ can only save 8 chars, will be truncated to 0.002153, some loss of precision is to be expected.\n",
      "  warnings.warn('Physical maximum for channel {} ({}) is {}, which has {} chars, '\\\n"
     ]
    },
    {
     "name": "stdout",
     "output_type": "stream",
     "text": [
      "Extracting EDF parameters from C:\\Users\\naikh\\SleepResearchCode_experient\\Dataset_clean_for_jupyter\\sub-87\\eeg\\sub-87_task-Sleep_acq-psg_eeg.edf...\n",
      "EDF file detected\n",
      "Setting channel info structure...\n",
      "Creating raw.info structure...\n",
      "Reading 0 ... 7357183  =      0.000 ... 28738.996 secs...\n"
     ]
    },
    {
     "name": "stderr",
     "output_type": "stream",
     "text": [
      "C:\\Users\\naikh\\AppData\\Local\\Temp\\ipykernel_16604\\791336486.py:6: RuntimeWarning: Channels contain different highpass filters. Highest filter setting will be stored.\n",
      "  raw = mne.io.read_raw_edf(file_path, preload=True)\n",
      "C:\\Users\\naikh\\anaconda3\\envs\\PytorchEnvironment\\Lib\\site-packages\\pyedflib\\edfwriter.py:134: UserWarning: Physical minimum for channel 0 (PSG_F3) is -0.0006068666105012588, which has 22 chars, however, EDF+ can only save 8 chars, will be truncated to -0.00060, some loss of precision is to be expected\n",
      "  warnings.warn('Physical minimum for channel {} ({}) is {}, which has {} chars, '\\\n",
      "C:\\Users\\naikh\\anaconda3\\envs\\PytorchEnvironment\\Lib\\site-packages\\pyedflib\\edfwriter.py:141: UserWarning: Physical maximum for channel 0 (PSG_F3) is 0.0006827741000000001, which has 21 chars, however, EDF+ can only save 8 chars, will be truncated to 0.000682, some loss of precision is to be expected.\n",
      "  warnings.warn('Physical maximum for channel {} ({}) is {}, which has {} chars, '\\\n",
      "C:\\Users\\naikh\\anaconda3\\envs\\PytorchEnvironment\\Lib\\site-packages\\pyedflib\\edfwriter.py:134: UserWarning: Physical minimum for channel 1 (PSG_F4) is -0.0006830465593804836, which has 22 chars, however, EDF+ can only save 8 chars, will be truncated to -0.00068, some loss of precision is to be expected\n",
      "  warnings.warn('Physical minimum for channel {} ({}) is {}, which has {} chars, '\\\n",
      "C:\\Users\\naikh\\anaconda3\\envs\\PytorchEnvironment\\Lib\\site-packages\\pyedflib\\edfwriter.py:141: UserWarning: Physical maximum for channel 1 (PSG_F4) is 0.0006304676507362477, which has 21 chars, however, EDF+ can only save 8 chars, will be truncated to 0.000630, some loss of precision is to be expected.\n",
      "  warnings.warn('Physical maximum for channel {} ({}) is {}, which has {} chars, '\\\n",
      "C:\\Users\\naikh\\anaconda3\\envs\\PytorchEnvironment\\Lib\\site-packages\\pyedflib\\edfwriter.py:134: UserWarning: Physical minimum for channel 2 (PSG_C3) is -0.0004924016490669107, which has 22 chars, however, EDF+ can only save 8 chars, will be truncated to -0.00049, some loss of precision is to be expected\n",
      "  warnings.warn('Physical minimum for channel {} ({}) is {}, which has {} chars, '\\\n",
      "C:\\Users\\naikh\\anaconda3\\envs\\PytorchEnvironment\\Lib\\site-packages\\pyedflib\\edfwriter.py:141: UserWarning: Physical maximum for channel 2 (PSG_C3) is 0.0009253559000000001, which has 21 chars, however, EDF+ can only save 8 chars, will be truncated to 0.000925, some loss of precision is to be expected.\n",
      "  warnings.warn('Physical maximum for channel {} ({}) is {}, which has {} chars, '\\\n",
      "C:\\Users\\naikh\\anaconda3\\envs\\PytorchEnvironment\\Lib\\site-packages\\pyedflib\\edfwriter.py:134: UserWarning: Physical minimum for channel 3 (PSG_C4) is -0.0006974032509178301, which has 22 chars, however, EDF+ can only save 8 chars, will be truncated to -0.00069, some loss of precision is to be expected\n",
      "  warnings.warn('Physical minimum for channel {} ({}) is {}, which has {} chars, '\\\n",
      "C:\\Users\\naikh\\anaconda3\\envs\\PytorchEnvironment\\Lib\\site-packages\\pyedflib\\edfwriter.py:141: UserWarning: Physical maximum for channel 3 (PSG_C4) is 0.0005034989376653697, which has 21 chars, however, EDF+ can only save 8 chars, will be truncated to 0.000503, some loss of precision is to be expected.\n",
      "  warnings.warn('Physical maximum for channel {} ({}) is {}, which has {} chars, '\\\n",
      "C:\\Users\\naikh\\anaconda3\\envs\\PytorchEnvironment\\Lib\\site-packages\\pyedflib\\edfwriter.py:134: UserWarning: Physical minimum for channel 4 (PSG_O1) is -0.0006400787322499427, which has 22 chars, however, EDF+ can only save 8 chars, will be truncated to -0.00064, some loss of precision is to be expected\n",
      "  warnings.warn('Physical minimum for channel {} ({}) is {}, which has {} chars, '\\\n",
      "C:\\Users\\naikh\\anaconda3\\envs\\PytorchEnvironment\\Lib\\site-packages\\pyedflib\\edfwriter.py:141: UserWarning: Physical maximum for channel 4 (PSG_O1) is 0.0006053693636987869, which has 21 chars, however, EDF+ can only save 8 chars, will be truncated to 0.000605, some loss of precision is to be expected.\n",
      "  warnings.warn('Physical maximum for channel {} ({}) is {}, which has {} chars, '\\\n",
      "C:\\Users\\naikh\\anaconda3\\envs\\PytorchEnvironment\\Lib\\site-packages\\pyedflib\\edfwriter.py:134: UserWarning: Physical minimum for channel 5 (PSG_O2) is 0.0003916894009613182, which has 21 chars, however, EDF+ can only save 8 chars, will be truncated to 0.000391, some loss of precision is to be expected\n",
      "  warnings.warn('Physical minimum for channel {} ({}) is {}, which has {} chars, '\\\n",
      "C:\\Users\\naikh\\anaconda3\\envs\\PytorchEnvironment\\Lib\\site-packages\\pyedflib\\edfwriter.py:141: UserWarning: Physical maximum for channel 5 (PSG_O2) is 0.0017154069999999995, which has 21 chars, however, EDF+ can only save 8 chars, will be truncated to 0.001715, some loss of precision is to be expected.\n",
      "  warnings.warn('Physical maximum for channel {} ({}) is {}, which has {} chars, '\\\n"
     ]
    },
    {
     "name": "stdout",
     "output_type": "stream",
     "text": [
      "Extracting EDF parameters from C:\\Users\\naikh\\SleepResearchCode_experient\\Dataset_clean_for_jupyter\\sub-88\\eeg\\sub-88_task-Sleep_acq-psg_eeg.edf...\n",
      "EDF file detected\n",
      "Setting channel info structure...\n",
      "Creating raw.info structure...\n",
      "Reading 0 ... 6890239  =      0.000 ... 26914.996 secs...\n"
     ]
    },
    {
     "name": "stderr",
     "output_type": "stream",
     "text": [
      "C:\\Users\\naikh\\AppData\\Local\\Temp\\ipykernel_16604\\791336486.py:6: RuntimeWarning: Channels contain different highpass filters. Highest filter setting will be stored.\n",
      "  raw = mne.io.read_raw_edf(file_path, preload=True)\n",
      "C:\\Users\\naikh\\anaconda3\\envs\\PytorchEnvironment\\Lib\\site-packages\\pyedflib\\edfwriter.py:134: UserWarning: Physical minimum for channel 0 (PSG_F3) is -0.0006784167742275119, which has 22 chars, however, EDF+ can only save 8 chars, will be truncated to -0.00067, some loss of precision is to be expected\n",
      "  warnings.warn('Physical minimum for channel {} ({}) is {}, which has {} chars, '\\\n",
      "C:\\Users\\naikh\\anaconda3\\envs\\PytorchEnvironment\\Lib\\site-packages\\pyedflib\\edfwriter.py:141: UserWarning: Physical maximum for channel 0 (PSG_F3) is 0.001142937, which has 11 chars, however, EDF+ can only save 8 chars, will be truncated to 0.001142, some loss of precision is to be expected.\n",
      "  warnings.warn('Physical maximum for channel {} ({}) is {}, which has {} chars, '\\\n",
      "C:\\Users\\naikh\\anaconda3\\envs\\PytorchEnvironment\\Lib\\site-packages\\pyedflib\\edfwriter.py:134: UserWarning: Physical minimum for channel 1 (PSG_F4) is -0.0002586377250324254, which has 22 chars, however, EDF+ can only save 8 chars, will be truncated to -0.00025, some loss of precision is to be expected\n",
      "  warnings.warn('Physical minimum for channel {} ({}) is {}, which has {} chars, '\\\n",
      "C:\\Users\\naikh\\anaconda3\\envs\\PytorchEnvironment\\Lib\\site-packages\\pyedflib\\edfwriter.py:141: UserWarning: Physical maximum for channel 1 (PSG_F4) is 0.001153875, which has 11 chars, however, EDF+ can only save 8 chars, will be truncated to 0.001153, some loss of precision is to be expected.\n",
      "  warnings.warn('Physical maximum for channel {} ({}) is {}, which has {} chars, '\\\n",
      "C:\\Users\\naikh\\anaconda3\\envs\\PytorchEnvironment\\Lib\\site-packages\\pyedflib\\edfwriter.py:134: UserWarning: Physical minimum for channel 2 (PSG_C3) is -0.0005270548862897689, which has 22 chars, however, EDF+ can only save 8 chars, will be truncated to -0.00052, some loss of precision is to be expected\n",
      "  warnings.warn('Physical minimum for channel {} ({}) is {}, which has {} chars, '\\\n",
      "C:\\Users\\naikh\\anaconda3\\envs\\PytorchEnvironment\\Lib\\site-packages\\pyedflib\\edfwriter.py:141: UserWarning: Physical maximum for channel 2 (PSG_C3) is 0.0009785794, which has 12 chars, however, EDF+ can only save 8 chars, will be truncated to 0.000978, some loss of precision is to be expected.\n",
      "  warnings.warn('Physical maximum for channel {} ({}) is {}, which has {} chars, '\\\n",
      "C:\\Users\\naikh\\anaconda3\\envs\\PytorchEnvironment\\Lib\\site-packages\\pyedflib\\edfwriter.py:134: UserWarning: Physical minimum for channel 3 (PSG_C4) is -0.0011497382608636605, which has 22 chars, however, EDF+ can only save 8 chars, will be truncated to -0.00114, some loss of precision is to be expected\n",
      "  warnings.warn('Physical minimum for channel {} ({}) is {}, which has {} chars, '\\\n",
      "C:\\Users\\naikh\\anaconda3\\envs\\PytorchEnvironment\\Lib\\site-packages\\pyedflib\\edfwriter.py:141: UserWarning: Physical maximum for channel 3 (PSG_C4) is 0.0007316942630609596, which has 21 chars, however, EDF+ can only save 8 chars, will be truncated to 0.000731, some loss of precision is to be expected.\n",
      "  warnings.warn('Physical maximum for channel {} ({}) is {}, which has {} chars, '\\\n",
      "C:\\Users\\naikh\\anaconda3\\envs\\PytorchEnvironment\\Lib\\site-packages\\pyedflib\\edfwriter.py:134: UserWarning: Physical minimum for channel 4 (PSG_O1) is -9.462148165102599e-05, which has 22 chars, however, EDF+ can only save 8 chars, will be truncated to -9.46214, some loss of precision is to be expected\n",
      "  warnings.warn('Physical minimum for channel {} ({}) is {}, which has {} chars, '\\\n",
      "C:\\Users\\naikh\\anaconda3\\envs\\PytorchEnvironment\\Lib\\site-packages\\pyedflib\\edfwriter.py:141: UserWarning: Physical maximum for channel 4 (PSG_O1) is 0.0032000000000000006, which has 21 chars, however, EDF+ can only save 8 chars, will be truncated to 0.003200, some loss of precision is to be expected.\n",
      "  warnings.warn('Physical maximum for channel {} ({}) is {}, which has {} chars, '\\\n",
      "C:\\Users\\naikh\\anaconda3\\envs\\PytorchEnvironment\\Lib\\site-packages\\pyedflib\\edfwriter.py:134: UserWarning: Physical minimum for channel 5 (PSG_O2) is -0.00034122401953154803, which has 23 chars, however, EDF+ can only save 8 chars, will be truncated to -0.00034, some loss of precision is to be expected\n",
      "  warnings.warn('Physical minimum for channel {} ({}) is {}, which has {} chars, '\\\n"
     ]
    },
    {
     "name": "stdout",
     "output_type": "stream",
     "text": [
      "Extracting EDF parameters from C:\\Users\\naikh\\SleepResearchCode_experient\\Dataset_clean_for_jupyter\\sub-89\\eeg\\sub-89_task-Sleep_acq-psg_eeg.edf...\n",
      "EDF file detected\n",
      "Setting channel info structure...\n",
      "Creating raw.info structure...\n",
      "Reading 0 ... 7485695  =      0.000 ... 29240.996 secs...\n"
     ]
    },
    {
     "name": "stderr",
     "output_type": "stream",
     "text": [
      "C:\\Users\\naikh\\AppData\\Local\\Temp\\ipykernel_16604\\791336486.py:6: RuntimeWarning: Channels contain different highpass filters. Highest filter setting will be stored.\n",
      "  raw = mne.io.read_raw_edf(file_path, preload=True)\n",
      "C:\\Users\\naikh\\anaconda3\\envs\\PytorchEnvironment\\Lib\\site-packages\\pyedflib\\edfwriter.py:134: UserWarning: Physical minimum for channel 0 (PSG_F3) is 2.5356667917906634e-05, which has 22 chars, however, EDF+ can only save 8 chars, will be truncated to 2.535666, some loss of precision is to be expected\n",
      "  warnings.warn('Physical minimum for channel {} ({}) is {}, which has {} chars, '\\\n",
      "C:\\Users\\naikh\\anaconda3\\envs\\PytorchEnvironment\\Lib\\site-packages\\pyedflib\\edfwriter.py:141: UserWarning: Physical maximum for channel 0 (PSG_F3) is 0.0021994960000000004, which has 21 chars, however, EDF+ can only save 8 chars, will be truncated to 0.002199, some loss of precision is to be expected.\n",
      "  warnings.warn('Physical maximum for channel {} ({}) is {}, which has {} chars, '\\\n",
      "C:\\Users\\naikh\\anaconda3\\envs\\PytorchEnvironment\\Lib\\site-packages\\pyedflib\\edfwriter.py:134: UserWarning: Physical minimum for channel 1 (PSG_F4) is -0.0007602955503776608, which has 22 chars, however, EDF+ can only save 8 chars, will be truncated to -0.00076, some loss of precision is to be expected\n",
      "  warnings.warn('Physical minimum for channel {} ({}) is {}, which has {} chars, '\\\n",
      "C:\\Users\\naikh\\anaconda3\\envs\\PytorchEnvironment\\Lib\\site-packages\\pyedflib\\edfwriter.py:141: UserWarning: Physical maximum for channel 1 (PSG_F4) is 0.00020107737047379265, which has 22 chars, however, EDF+ can only save 8 chars, will be truncated to 0.000201, some loss of precision is to be expected.\n",
      "  warnings.warn('Physical maximum for channel {} ({}) is {}, which has {} chars, '\\\n",
      "C:\\Users\\naikh\\anaconda3\\envs\\PytorchEnvironment\\Lib\\site-packages\\pyedflib\\edfwriter.py:134: UserWarning: Physical minimum for channel 2 (PSG_C3) is -9.499391241321427e-05, which has 22 chars, however, EDF+ can only save 8 chars, will be truncated to -9.49939, some loss of precision is to be expected\n",
      "  warnings.warn('Physical minimum for channel {} ({}) is {}, which has {} chars, '\\\n",
      "C:\\Users\\naikh\\anaconda3\\envs\\PytorchEnvironment\\Lib\\site-packages\\pyedflib\\edfwriter.py:141: UserWarning: Physical maximum for channel 2 (PSG_C3) is 0.001522142, which has 11 chars, however, EDF+ can only save 8 chars, will be truncated to 0.001522, some loss of precision is to be expected.\n",
      "  warnings.warn('Physical maximum for channel {} ({}) is {}, which has {} chars, '\\\n",
      "C:\\Users\\naikh\\anaconda3\\envs\\PytorchEnvironment\\Lib\\site-packages\\pyedflib\\edfwriter.py:134: UserWarning: Physical minimum for channel 3 (PSG_C4) is 0.00013126116774242767, which has 22 chars, however, EDF+ can only save 8 chars, will be truncated to 0.000131, some loss of precision is to be expected\n",
      "  warnings.warn('Physical minimum for channel {} ({}) is {}, which has {} chars, '\\\n",
      "C:\\Users\\naikh\\anaconda3\\envs\\PytorchEnvironment\\Lib\\site-packages\\pyedflib\\edfwriter.py:141: UserWarning: Physical maximum for channel 3 (PSG_C4) is 0.00134294, which has 10 chars, however, EDF+ can only save 8 chars, will be truncated to 0.001342, some loss of precision is to be expected.\n",
      "  warnings.warn('Physical maximum for channel {} ({}) is {}, which has {} chars, '\\\n",
      "C:\\Users\\naikh\\anaconda3\\envs\\PytorchEnvironment\\Lib\\site-packages\\pyedflib\\edfwriter.py:134: UserWarning: Physical minimum for channel 4 (PSG_O1) is -0.0005277753988754101, which has 22 chars, however, EDF+ can only save 8 chars, will be truncated to -0.00052, some loss of precision is to be expected\n",
      "  warnings.warn('Physical minimum for channel {} ({}) is {}, which has {} chars, '\\\n",
      "C:\\Users\\naikh\\anaconda3\\envs\\PytorchEnvironment\\Lib\\site-packages\\pyedflib\\edfwriter.py:141: UserWarning: Physical maximum for channel 4 (PSG_O1) is 0.0009419577, which has 12 chars, however, EDF+ can only save 8 chars, will be truncated to 0.000941, some loss of precision is to be expected.\n",
      "  warnings.warn('Physical maximum for channel {} ({}) is {}, which has {} chars, '\\\n",
      "C:\\Users\\naikh\\anaconda3\\envs\\PytorchEnvironment\\Lib\\site-packages\\pyedflib\\edfwriter.py:134: UserWarning: Physical minimum for channel 5 (PSG_O2) is 4.374598399328607e-05, which has 21 chars, however, EDF+ can only save 8 chars, will be truncated to 4.374598, some loss of precision is to be expected\n",
      "  warnings.warn('Physical minimum for channel {} ({}) is {}, which has {} chars, '\\\n",
      "C:\\Users\\naikh\\anaconda3\\envs\\PytorchEnvironment\\Lib\\site-packages\\pyedflib\\edfwriter.py:141: UserWarning: Physical maximum for channel 5 (PSG_O2) is 0.0015754629999999998, which has 21 chars, however, EDF+ can only save 8 chars, will be truncated to 0.001575, some loss of precision is to be expected.\n",
      "  warnings.warn('Physical maximum for channel {} ({}) is {}, which has {} chars, '\\\n"
     ]
    },
    {
     "name": "stdout",
     "output_type": "stream",
     "text": [
      "Extracting EDF parameters from C:\\Users\\naikh\\SleepResearchCode_experient\\Dataset_clean_for_jupyter\\sub-90\\eeg\\sub-90_task-Sleep_acq-psg_eeg.edf...\n",
      "EDF file detected\n",
      "Setting channel info structure...\n",
      "Creating raw.info structure...\n",
      "Reading 0 ... 7987967  =      0.000 ... 31202.996 secs...\n"
     ]
    },
    {
     "name": "stderr",
     "output_type": "stream",
     "text": [
      "C:\\Users\\naikh\\AppData\\Local\\Temp\\ipykernel_16604\\791336486.py:6: RuntimeWarning: Channels contain different highpass filters. Highest filter setting will be stored.\n",
      "  raw = mne.io.read_raw_edf(file_path, preload=True)\n",
      "C:\\Users\\naikh\\anaconda3\\envs\\PytorchEnvironment\\Lib\\site-packages\\pyedflib\\edfwriter.py:134: UserWarning: Physical minimum for channel 0 (PSG_F3) is -0.0031999155855344467, which has 22 chars, however, EDF+ can only save 8 chars, will be truncated to -0.00319, some loss of precision is to be expected\n",
      "  warnings.warn('Physical minimum for channel {} ({}) is {}, which has {} chars, '\\\n",
      "C:\\Users\\naikh\\anaconda3\\envs\\PytorchEnvironment\\Lib\\site-packages\\pyedflib\\edfwriter.py:141: UserWarning: Physical maximum for channel 0 (PSG_F3) is 0.0015819106446326391, which has 21 chars, however, EDF+ can only save 8 chars, will be truncated to 0.001581, some loss of precision is to be expected.\n",
      "  warnings.warn('Physical maximum for channel {} ({}) is {}, which has {} chars, '\\\n",
      "C:\\Users\\naikh\\anaconda3\\envs\\PytorchEnvironment\\Lib\\site-packages\\pyedflib\\edfwriter.py:134: UserWarning: Physical minimum for channel 1 (PSG_F4) is -0.0031999266650492102, which has 22 chars, however, EDF+ can only save 8 chars, will be truncated to -0.00319, some loss of precision is to be expected\n",
      "  warnings.warn('Physical minimum for channel {} ({}) is {}, which has {} chars, '\\\n",
      "C:\\Users\\naikh\\anaconda3\\envs\\PytorchEnvironment\\Lib\\site-packages\\pyedflib\\edfwriter.py:141: UserWarning: Physical maximum for channel 1 (PSG_F4) is 0.00040903293321126167, which has 22 chars, however, EDF+ can only save 8 chars, will be truncated to 0.000409, some loss of precision is to be expected.\n",
      "  warnings.warn('Physical maximum for channel {} ({}) is {}, which has {} chars, '\\\n",
      "C:\\Users\\naikh\\anaconda3\\envs\\PytorchEnvironment\\Lib\\site-packages\\pyedflib\\edfwriter.py:134: UserWarning: Physical minimum for channel 2 (PSG_C3) is -0.003199914628824292, which has 21 chars, however, EDF+ can only save 8 chars, will be truncated to -0.00319, some loss of precision is to be expected\n",
      "  warnings.warn('Physical minimum for channel {} ({}) is {}, which has {} chars, '\\\n",
      "C:\\Users\\naikh\\anaconda3\\envs\\PytorchEnvironment\\Lib\\site-packages\\pyedflib\\edfwriter.py:141: UserWarning: Physical maximum for channel 2 (PSG_C3) is 0.0016909146562905316, which has 21 chars, however, EDF+ can only save 8 chars, will be truncated to 0.001690, some loss of precision is to be expected.\n",
      "  warnings.warn('Physical maximum for channel {} ({}) is {}, which has {} chars, '\\\n",
      "C:\\Users\\naikh\\anaconda3\\envs\\PytorchEnvironment\\Lib\\site-packages\\pyedflib\\edfwriter.py:134: UserWarning: Physical minimum for channel 3 (PSG_C4) is -0.0031999295545128556, which has 22 chars, however, EDF+ can only save 8 chars, will be truncated to -0.00319, some loss of precision is to be expected\n",
      "  warnings.warn('Physical minimum for channel {} ({}) is {}, which has {} chars, '\\\n",
      "C:\\Users\\naikh\\anaconda3\\envs\\PytorchEnvironment\\Lib\\site-packages\\pyedflib\\edfwriter.py:141: UserWarning: Physical maximum for channel 3 (PSG_C4) is 0.00013023995925841154, which has 22 chars, however, EDF+ can only save 8 chars, will be truncated to 0.000130, some loss of precision is to be expected.\n",
      "  warnings.warn('Physical maximum for channel {} ({}) is {}, which has {} chars, '\\\n",
      "C:\\Users\\naikh\\anaconda3\\envs\\PytorchEnvironment\\Lib\\site-packages\\pyedflib\\edfwriter.py:134: UserWarning: Physical minimum for channel 4 (PSG_O1) is 5.29362455176622e-05, which has 20 chars, however, EDF+ can only save 8 chars, will be truncated to 5.293624, some loss of precision is to be expected\n",
      "  warnings.warn('Physical minimum for channel {} ({}) is {}, which has {} chars, '\\\n"
     ]
    },
    {
     "name": "stdout",
     "output_type": "stream",
     "text": [
      "Extracting EDF parameters from C:\\Users\\naikh\\SleepResearchCode_experient\\Dataset_clean_for_jupyter\\sub-91\\eeg\\sub-91_task-Sleep_acq-psg_eeg.edf...\n",
      "EDF file detected\n",
      "Setting channel info structure...\n",
      "Creating raw.info structure...\n",
      "Reading 0 ... 7847423  =      0.000 ... 30653.996 secs...\n"
     ]
    },
    {
     "name": "stderr",
     "output_type": "stream",
     "text": [
      "C:\\Users\\naikh\\AppData\\Local\\Temp\\ipykernel_16604\\791336486.py:6: RuntimeWarning: Channels contain different highpass filters. Highest filter setting will be stored.\n",
      "  raw = mne.io.read_raw_edf(file_path, preload=True)\n",
      "C:\\Users\\naikh\\anaconda3\\envs\\PytorchEnvironment\\Lib\\site-packages\\pyedflib\\edfwriter.py:134: UserWarning: Physical minimum for channel 0 (PSG_F3) is -0.00021755978447241935, which has 23 chars, however, EDF+ can only save 8 chars, will be truncated to -0.00021, some loss of precision is to be expected\n",
      "  warnings.warn('Physical minimum for channel {} ({}) is {}, which has {} chars, '\\\n",
      "C:\\Users\\naikh\\anaconda3\\envs\\PytorchEnvironment\\Lib\\site-packages\\pyedflib\\edfwriter.py:141: UserWarning: Physical maximum for channel 0 (PSG_F3) is 0.00032720229999999996, which has 22 chars, however, EDF+ can only save 8 chars, will be truncated to 0.000327, some loss of precision is to be expected.\n",
      "  warnings.warn('Physical maximum for channel {} ({}) is {}, which has {} chars, '\\\n",
      "C:\\Users\\naikh\\anaconda3\\envs\\PytorchEnvironment\\Lib\\site-packages\\pyedflib\\edfwriter.py:134: UserWarning: Physical minimum for channel 1 (PSG_F4) is -9.916661776455328e-05, which has 22 chars, however, EDF+ can only save 8 chars, will be truncated to -9.91666, some loss of precision is to be expected\n",
      "  warnings.warn('Physical minimum for channel {} ({}) is {}, which has {} chars, '\\\n",
      "C:\\Users\\naikh\\anaconda3\\envs\\PytorchEnvironment\\Lib\\site-packages\\pyedflib\\edfwriter.py:141: UserWarning: Physical maximum for channel 1 (PSG_F4) is 0.0003611872000000001, which has 21 chars, however, EDF+ can only save 8 chars, will be truncated to 0.000361, some loss of precision is to be expected.\n",
      "  warnings.warn('Physical maximum for channel {} ({}) is {}, which has {} chars, '\\\n",
      "C:\\Users\\naikh\\anaconda3\\envs\\PytorchEnvironment\\Lib\\site-packages\\pyedflib\\edfwriter.py:134: UserWarning: Physical minimum for channel 2 (PSG_C3) is 0.00010214469545281147, which has 22 chars, however, EDF+ can only save 8 chars, will be truncated to 0.000102, some loss of precision is to be expected\n",
      "  warnings.warn('Physical minimum for channel {} ({}) is {}, which has {} chars, '\\\n",
      "C:\\Users\\naikh\\anaconda3\\envs\\PytorchEnvironment\\Lib\\site-packages\\pyedflib\\edfwriter.py:141: UserWarning: Physical maximum for channel 2 (PSG_C3) is 0.0008049438999999999, which has 21 chars, however, EDF+ can only save 8 chars, will be truncated to 0.000804, some loss of precision is to be expected.\n",
      "  warnings.warn('Physical maximum for channel {} ({}) is {}, which has {} chars, '\\\n",
      "C:\\Users\\naikh\\anaconda3\\envs\\PytorchEnvironment\\Lib\\site-packages\\pyedflib\\edfwriter.py:134: UserWarning: Physical minimum for channel 3 (PSG_C4) is 0.00026019999711604486, which has 22 chars, however, EDF+ can only save 8 chars, will be truncated to 0.000260, some loss of precision is to be expected\n",
      "  warnings.warn('Physical minimum for channel {} ({}) is {}, which has {} chars, '\\\n",
      "C:\\Users\\naikh\\anaconda3\\envs\\PytorchEnvironment\\Lib\\site-packages\\pyedflib\\edfwriter.py:141: UserWarning: Physical maximum for channel 3 (PSG_C4) is 0.0011441090000000001, which has 21 chars, however, EDF+ can only save 8 chars, will be truncated to 0.001144, some loss of precision is to be expected.\n",
      "  warnings.warn('Physical maximum for channel {} ({}) is {}, which has {} chars, '\\\n",
      "C:\\Users\\naikh\\anaconda3\\envs\\PytorchEnvironment\\Lib\\site-packages\\pyedflib\\edfwriter.py:134: UserWarning: Physical minimum for channel 4 (PSG_O1) is 0.0003887870999923705, which has 21 chars, however, EDF+ can only save 8 chars, will be truncated to 0.000388, some loss of precision is to be expected\n",
      "  warnings.warn('Physical minimum for channel {} ({}) is {}, which has {} chars, '\\\n",
      "C:\\Users\\naikh\\anaconda3\\envs\\PytorchEnvironment\\Lib\\site-packages\\pyedflib\\edfwriter.py:141: UserWarning: Physical maximum for channel 4 (PSG_O1) is 0.00158396, which has 10 chars, however, EDF+ can only save 8 chars, will be truncated to 0.001583, some loss of precision is to be expected.\n",
      "  warnings.warn('Physical maximum for channel {} ({}) is {}, which has {} chars, '\\\n",
      "C:\\Users\\naikh\\anaconda3\\envs\\PytorchEnvironment\\Lib\\site-packages\\pyedflib\\edfwriter.py:134: UserWarning: Physical minimum for channel 5 (PSG_O2) is -6.184221956511783e-05, which has 22 chars, however, EDF+ can only save 8 chars, will be truncated to -6.18422, some loss of precision is to be expected\n",
      "  warnings.warn('Physical minimum for channel {} ({}) is {}, which has {} chars, '\\\n",
      "C:\\Users\\naikh\\anaconda3\\envs\\PytorchEnvironment\\Lib\\site-packages\\pyedflib\\edfwriter.py:141: UserWarning: Physical maximum for channel 5 (PSG_O2) is 0.0006563088, which has 12 chars, however, EDF+ can only save 8 chars, will be truncated to 0.000656, some loss of precision is to be expected.\n",
      "  warnings.warn('Physical maximum for channel {} ({}) is {}, which has {} chars, '\\\n"
     ]
    },
    {
     "name": "stdout",
     "output_type": "stream",
     "text": [
      "Extracting EDF parameters from C:\\Users\\naikh\\SleepResearchCode_experient\\Dataset_clean_for_jupyter\\sub-92\\eeg\\sub-92_task-Sleep_acq-psg_eeg.edf...\n",
      "EDF file detected\n",
      "Setting channel info structure...\n",
      "Creating raw.info structure...\n",
      "Reading 0 ... 7592959  =      0.000 ... 29659.996 secs...\n"
     ]
    },
    {
     "name": "stderr",
     "output_type": "stream",
     "text": [
      "C:\\Users\\naikh\\AppData\\Local\\Temp\\ipykernel_16604\\791336486.py:6: RuntimeWarning: Channels contain different highpass filters. Highest filter setting will be stored.\n",
      "  raw = mne.io.read_raw_edf(file_path, preload=True)\n",
      "C:\\Users\\naikh\\anaconda3\\envs\\PytorchEnvironment\\Lib\\site-packages\\pyedflib\\edfwriter.py:134: UserWarning: Physical minimum for channel 0 (PSG_F3) is -0.0004349900822476539, which has 22 chars, however, EDF+ can only save 8 chars, will be truncated to -0.00043, some loss of precision is to be expected\n",
      "  warnings.warn('Physical minimum for channel {} ({}) is {}, which has {} chars, '\\\n",
      "C:\\Users\\naikh\\anaconda3\\envs\\PytorchEnvironment\\Lib\\site-packages\\pyedflib\\edfwriter.py:141: UserWarning: Physical maximum for channel 0 (PSG_F3) is 0.0006939070999999997, which has 21 chars, however, EDF+ can only save 8 chars, will be truncated to 0.000693, some loss of precision is to be expected.\n",
      "  warnings.warn('Physical maximum for channel {} ({}) is {}, which has {} chars, '\\\n",
      "C:\\Users\\naikh\\anaconda3\\envs\\PytorchEnvironment\\Lib\\site-packages\\pyedflib\\edfwriter.py:134: UserWarning: Physical minimum for channel 1 (PSG_F4) is -0.00040031105438925757, which has 23 chars, however, EDF+ can only save 8 chars, will be truncated to -0.00040, some loss of precision is to be expected\n",
      "  warnings.warn('Physical minimum for channel {} ({}) is {}, which has {} chars, '\\\n",
      "C:\\Users\\naikh\\anaconda3\\envs\\PytorchEnvironment\\Lib\\site-packages\\pyedflib\\edfwriter.py:141: UserWarning: Physical maximum for channel 1 (PSG_F4) is 0.0008120729, which has 12 chars, however, EDF+ can only save 8 chars, will be truncated to 0.000812, some loss of precision is to be expected.\n",
      "  warnings.warn('Physical maximum for channel {} ({}) is {}, which has {} chars, '\\\n",
      "C:\\Users\\naikh\\anaconda3\\envs\\PytorchEnvironment\\Lib\\site-packages\\pyedflib\\edfwriter.py:134: UserWarning: Physical minimum for channel 2 (PSG_C3) is -0.00031517188554360263, which has 23 chars, however, EDF+ can only save 8 chars, will be truncated to -0.00031, some loss of precision is to be expected\n",
      "  warnings.warn('Physical minimum for channel {} ({}) is {}, which has {} chars, '\\\n",
      "C:\\Users\\naikh\\anaconda3\\envs\\PytorchEnvironment\\Lib\\site-packages\\pyedflib\\edfwriter.py:141: UserWarning: Physical maximum for channel 2 (PSG_C3) is 0.0007883421, which has 12 chars, however, EDF+ can only save 8 chars, will be truncated to 0.000788, some loss of precision is to be expected.\n",
      "  warnings.warn('Physical maximum for channel {} ({}) is {}, which has {} chars, '\\\n",
      "C:\\Users\\naikh\\anaconda3\\envs\\PytorchEnvironment\\Lib\\site-packages\\pyedflib\\edfwriter.py:134: UserWarning: Physical minimum for channel 3 (PSG_C4) is -8.822064156557564e-05, which has 22 chars, however, EDF+ can only save 8 chars, will be truncated to -8.82206, some loss of precision is to be expected\n",
      "  warnings.warn('Physical minimum for channel {} ({}) is {}, which has {} chars, '\\\n",
      "C:\\Users\\naikh\\anaconda3\\envs\\PytorchEnvironment\\Lib\\site-packages\\pyedflib\\edfwriter.py:141: UserWarning: Physical maximum for channel 3 (PSG_C4) is 0.001240009, which has 11 chars, however, EDF+ can only save 8 chars, will be truncated to 0.001240, some loss of precision is to be expected.\n",
      "  warnings.warn('Physical maximum for channel {} ({}) is {}, which has {} chars, '\\\n",
      "C:\\Users\\naikh\\anaconda3\\envs\\PytorchEnvironment\\Lib\\site-packages\\pyedflib\\edfwriter.py:134: UserWarning: Physical minimum for channel 4 (PSG_O1) is -0.00020936350475318533, which has 23 chars, however, EDF+ can only save 8 chars, will be truncated to -0.00020, some loss of precision is to be expected\n",
      "  warnings.warn('Physical minimum for channel {} ({}) is {}, which has {} chars, '\\\n",
      "C:\\Users\\naikh\\anaconda3\\envs\\PytorchEnvironment\\Lib\\site-packages\\pyedflib\\edfwriter.py:141: UserWarning: Physical maximum for channel 4 (PSG_O1) is 0.0016447029999999997, which has 21 chars, however, EDF+ can only save 8 chars, will be truncated to 0.001644, some loss of precision is to be expected.\n",
      "  warnings.warn('Physical maximum for channel {} ({}) is {}, which has {} chars, '\\\n",
      "C:\\Users\\naikh\\anaconda3\\envs\\PytorchEnvironment\\Lib\\site-packages\\pyedflib\\edfwriter.py:134: UserWarning: Physical minimum for channel 5 (PSG_O2) is 0.00017259796203555343, which has 22 chars, however, EDF+ can only save 8 chars, will be truncated to 0.000172, some loss of precision is to be expected\n",
      "  warnings.warn('Physical minimum for channel {} ({}) is {}, which has {} chars, '\\\n",
      "C:\\Users\\naikh\\anaconda3\\envs\\PytorchEnvironment\\Lib\\site-packages\\pyedflib\\edfwriter.py:141: UserWarning: Physical maximum for channel 5 (PSG_O2) is 0.0028096619999999992, which has 21 chars, however, EDF+ can only save 8 chars, will be truncated to 0.002809, some loss of precision is to be expected.\n",
      "  warnings.warn('Physical maximum for channel {} ({}) is {}, which has {} chars, '\\\n"
     ]
    },
    {
     "name": "stdout",
     "output_type": "stream",
     "text": [
      "Extracting EDF parameters from C:\\Users\\naikh\\SleepResearchCode_experient\\Dataset_clean_for_jupyter\\sub-93\\eeg\\sub-93_task-Sleep_acq-psg_eeg.edf...\n",
      "EDF file detected\n",
      "Setting channel info structure...\n",
      "Creating raw.info structure...\n",
      "Reading 0 ... 6750463  =      0.000 ... 26368.996 secs...\n"
     ]
    },
    {
     "name": "stderr",
     "output_type": "stream",
     "text": [
      "C:\\Users\\naikh\\AppData\\Local\\Temp\\ipykernel_16604\\791336486.py:6: RuntimeWarning: Channels contain different highpass filters. Highest filter setting will be stored.\n",
      "  raw = mne.io.read_raw_edf(file_path, preload=True)\n",
      "C:\\Users\\naikh\\anaconda3\\envs\\PytorchEnvironment\\Lib\\site-packages\\pyedflib\\edfwriter.py:134: UserWarning: Physical minimum for channel 0 (PSG_F3) is -0.0005585383769604028, which has 22 chars, however, EDF+ can only save 8 chars, will be truncated to -0.00055, some loss of precision is to be expected\n",
      "  warnings.warn('Physical minimum for channel {} ({}) is {}, which has {} chars, '\\\n",
      "C:\\Users\\naikh\\anaconda3\\envs\\PytorchEnvironment\\Lib\\site-packages\\pyedflib\\edfwriter.py:141: UserWarning: Physical maximum for channel 0 (PSG_F3) is 0.00026355428615243757, which has 22 chars, however, EDF+ can only save 8 chars, will be truncated to 0.000263, some loss of precision is to be expected.\n",
      "  warnings.warn('Physical maximum for channel {} ({}) is {}, which has {} chars, '\\\n",
      "C:\\Users\\naikh\\anaconda3\\envs\\PytorchEnvironment\\Lib\\site-packages\\pyedflib\\edfwriter.py:134: UserWarning: Physical minimum for channel 1 (PSG_F4) is -0.003199940775603876, which has 21 chars, however, EDF+ can only save 8 chars, will be truncated to -0.00319, some loss of precision is to be expected\n",
      "  warnings.warn('Physical minimum for channel {} ({}) is {}, which has {} chars, '\\\n",
      "C:\\Users\\naikh\\anaconda3\\envs\\PytorchEnvironment\\Lib\\site-packages\\pyedflib\\edfwriter.py:141: UserWarning: Physical maximum for channel 1 (PSG_F4) is -0.0008461856004394596, which has 22 chars, however, EDF+ can only save 8 chars, will be truncated to -0.00084, some loss of precision is to be expected.\n",
      "  warnings.warn('Physical maximum for channel {} ({}) is {}, which has {} chars, '\\\n",
      "C:\\Users\\naikh\\anaconda3\\envs\\PytorchEnvironment\\Lib\\site-packages\\pyedflib\\edfwriter.py:134: UserWarning: Physical minimum for channel 2 (PSG_C3) is -0.00030175891299610895, which has 23 chars, however, EDF+ can only save 8 chars, will be truncated to -0.00030, some loss of precision is to be expected\n",
      "  warnings.warn('Physical minimum for channel {} ({}) is {}, which has {} chars, '\\\n",
      "C:\\Users\\naikh\\anaconda3\\envs\\PytorchEnvironment\\Lib\\site-packages\\pyedflib\\edfwriter.py:141: UserWarning: Physical maximum for channel 2 (PSG_C3) is 0.0004775951999999999, which has 21 chars, however, EDF+ can only save 8 chars, will be truncated to 0.000477, some loss of precision is to be expected.\n",
      "  warnings.warn('Physical maximum for channel {} ({}) is {}, which has {} chars, '\\\n",
      "C:\\Users\\naikh\\anaconda3\\envs\\PytorchEnvironment\\Lib\\site-packages\\pyedflib\\edfwriter.py:134: UserWarning: Physical minimum for channel 3 (PSG_C4) is -0.0002939372417898833, which has 22 chars, however, EDF+ can only save 8 chars, will be truncated to -0.00029, some loss of precision is to be expected\n",
      "  warnings.warn('Physical minimum for channel {} ({}) is {}, which has {} chars, '\\\n",
      "C:\\Users\\naikh\\anaconda3\\envs\\PytorchEnvironment\\Lib\\site-packages\\pyedflib\\edfwriter.py:141: UserWarning: Physical maximum for channel 3 (PSG_C4) is 0.0004611887, which has 12 chars, however, EDF+ can only save 8 chars, will be truncated to 0.000461, some loss of precision is to be expected.\n",
      "  warnings.warn('Physical maximum for channel {} ({}) is {}, which has {} chars, '\\\n",
      "C:\\Users\\naikh\\anaconda3\\envs\\PytorchEnvironment\\Lib\\site-packages\\pyedflib\\edfwriter.py:134: UserWarning: Physical minimum for channel 4 (PSG_O1) is -0.0004348084558312352, which has 22 chars, however, EDF+ can only save 8 chars, will be truncated to -0.00043, some loss of precision is to be expected\n",
      "  warnings.warn('Physical minimum for channel {} ({}) is {}, which has {} chars, '\\\n",
      "C:\\Users\\naikh\\anaconda3\\envs\\PytorchEnvironment\\Lib\\site-packages\\pyedflib\\edfwriter.py:141: UserWarning: Physical maximum for channel 4 (PSG_O1) is 0.0003423027991470207, which has 21 chars, however, EDF+ can only save 8 chars, will be truncated to 0.000342, some loss of precision is to be expected.\n",
      "  warnings.warn('Physical maximum for channel {} ({}) is {}, which has {} chars, '\\\n",
      "C:\\Users\\naikh\\anaconda3\\envs\\PytorchEnvironment\\Lib\\site-packages\\pyedflib\\edfwriter.py:134: UserWarning: Physical minimum for channel 5 (PSG_O2) is -0.00046244498932021056, which has 23 chars, however, EDF+ can only save 8 chars, will be truncated to -0.00046, some loss of precision is to be expected\n",
      "  warnings.warn('Physical minimum for channel {} ({}) is {}, which has {} chars, '\\\n",
      "C:\\Users\\naikh\\anaconda3\\envs\\PytorchEnvironment\\Lib\\site-packages\\pyedflib\\edfwriter.py:141: UserWarning: Physical maximum for channel 5 (PSG_O2) is 0.00032358221947814144, which has 22 chars, however, EDF+ can only save 8 chars, will be truncated to 0.000323, some loss of precision is to be expected.\n",
      "  warnings.warn('Physical maximum for channel {} ({}) is {}, which has {} chars, '\\\n"
     ]
    },
    {
     "name": "stdout",
     "output_type": "stream",
     "text": [
      "Extracting EDF parameters from C:\\Users\\naikh\\SleepResearchCode_experient\\Dataset_clean_for_jupyter\\sub-94\\eeg\\sub-94_task-Sleep_acq-psg_eeg.edf...\n",
      "EDF file detected\n",
      "Setting channel info structure...\n",
      "Creating raw.info structure...\n",
      "Reading 0 ... 7720703  =      0.000 ... 30158.996 secs...\n"
     ]
    },
    {
     "name": "stderr",
     "output_type": "stream",
     "text": [
      "C:\\Users\\naikh\\AppData\\Local\\Temp\\ipykernel_16604\\791336486.py:6: RuntimeWarning: Channels contain different highpass filters. Highest filter setting will be stored.\n",
      "  raw = mne.io.read_raw_edf(file_path, preload=True)\n",
      "C:\\Users\\naikh\\anaconda3\\envs\\PytorchEnvironment\\Lib\\site-packages\\pyedflib\\edfwriter.py:134: UserWarning: Physical minimum for channel 0 (PSG_F3) is -0.0003876205267750057, which has 22 chars, however, EDF+ can only save 8 chars, will be truncated to -0.00038, some loss of precision is to be expected\n",
      "  warnings.warn('Physical minimum for channel {} ({}) is {}, which has {} chars, '\\\n",
      "C:\\Users\\naikh\\anaconda3\\envs\\PytorchEnvironment\\Lib\\site-packages\\pyedflib\\edfwriter.py:141: UserWarning: Physical maximum for channel 0 (PSG_F3) is 0.0005259358, which has 12 chars, however, EDF+ can only save 8 chars, will be truncated to 0.000525, some loss of precision is to be expected.\n",
      "  warnings.warn('Physical maximum for channel {} ({}) is {}, which has {} chars, '\\\n",
      "C:\\Users\\naikh\\anaconda3\\envs\\PytorchEnvironment\\Lib\\site-packages\\pyedflib\\edfwriter.py:134: UserWarning: Physical minimum for channel 1 (PSG_F4) is -0.0003300616123964294, which has 22 chars, however, EDF+ can only save 8 chars, will be truncated to -0.00033, some loss of precision is to be expected\n",
      "  warnings.warn('Physical minimum for channel {} ({}) is {}, which has {} chars, '\\\n",
      "C:\\Users\\naikh\\anaconda3\\envs\\PytorchEnvironment\\Lib\\site-packages\\pyedflib\\edfwriter.py:141: UserWarning: Physical maximum for channel 1 (PSG_F4) is 0.0005348225999999999, which has 21 chars, however, EDF+ can only save 8 chars, will be truncated to 0.000534, some loss of precision is to be expected.\n",
      "  warnings.warn('Physical maximum for channel {} ({}) is {}, which has {} chars, '\\\n",
      "C:\\Users\\naikh\\anaconda3\\envs\\PytorchEnvironment\\Lib\\site-packages\\pyedflib\\edfwriter.py:134: UserWarning: Physical minimum for channel 2 (PSG_C3) is 0.00015126917154192416, which has 22 chars, however, EDF+ can only save 8 chars, will be truncated to 0.000151, some loss of precision is to be expected\n",
      "  warnings.warn('Physical minimum for channel {} ({}) is {}, which has {} chars, '\\\n",
      "C:\\Users\\naikh\\anaconda3\\envs\\PytorchEnvironment\\Lib\\site-packages\\pyedflib\\edfwriter.py:141: UserWarning: Physical maximum for channel 2 (PSG_C3) is 0.001595874, which has 11 chars, however, EDF+ can only save 8 chars, will be truncated to 0.001595, some loss of precision is to be expected.\n",
      "  warnings.warn('Physical maximum for channel {} ({}) is {}, which has {} chars, '\\\n",
      "C:\\Users\\naikh\\anaconda3\\envs\\PytorchEnvironment\\Lib\\site-packages\\pyedflib\\edfwriter.py:134: UserWarning: Physical minimum for channel 3 (PSG_C4) is -0.00016109543561455716, which has 23 chars, however, EDF+ can only save 8 chars, will be truncated to -0.00016, some loss of precision is to be expected\n",
      "  warnings.warn('Physical minimum for channel {} ({}) is {}, which has {} chars, '\\\n",
      "C:\\Users\\naikh\\anaconda3\\envs\\PytorchEnvironment\\Lib\\site-packages\\pyedflib\\edfwriter.py:141: UserWarning: Physical maximum for channel 3 (PSG_C4) is 0.001036197, which has 11 chars, however, EDF+ can only save 8 chars, will be truncated to 0.001036, some loss of precision is to be expected.\n",
      "  warnings.warn('Physical maximum for channel {} ({}) is {}, which has {} chars, '\\\n",
      "C:\\Users\\naikh\\anaconda3\\envs\\PytorchEnvironment\\Lib\\site-packages\\pyedflib\\edfwriter.py:134: UserWarning: Physical minimum for channel 4 (PSG_O1) is -0.00023731538883039593, which has 23 chars, however, EDF+ can only save 8 chars, will be truncated to -0.00023, some loss of precision is to be expected\n",
      "  warnings.warn('Physical minimum for channel {} ({}) is {}, which has {} chars, '\\\n",
      "C:\\Users\\naikh\\anaconda3\\envs\\PytorchEnvironment\\Lib\\site-packages\\pyedflib\\edfwriter.py:141: UserWarning: Physical maximum for channel 4 (PSG_O1) is 0.001066471, which has 11 chars, however, EDF+ can only save 8 chars, will be truncated to 0.001066, some loss of precision is to be expected.\n",
      "  warnings.warn('Physical maximum for channel {} ({}) is {}, which has {} chars, '\\\n",
      "C:\\Users\\naikh\\anaconda3\\envs\\PytorchEnvironment\\Lib\\site-packages\\pyedflib\\edfwriter.py:134: UserWarning: Physical minimum for channel 5 (PSG_O2) is -0.0002540123550194552, which has 22 chars, however, EDF+ can only save 8 chars, will be truncated to -0.00025, some loss of precision is to be expected\n",
      "  warnings.warn('Physical minimum for channel {} ({}) is {}, which has {} chars, '\\\n",
      "C:\\Users\\naikh\\anaconda3\\envs\\PytorchEnvironment\\Lib\\site-packages\\pyedflib\\edfwriter.py:141: UserWarning: Physical maximum for channel 5 (PSG_O2) is 0.0007996704, which has 12 chars, however, EDF+ can only save 8 chars, will be truncated to 0.000799, some loss of precision is to be expected.\n",
      "  warnings.warn('Physical maximum for channel {} ({}) is {}, which has {} chars, '\\\n"
     ]
    },
    {
     "name": "stdout",
     "output_type": "stream",
     "text": [
      "Extracting EDF parameters from C:\\Users\\naikh\\SleepResearchCode_experient\\Dataset_clean_for_jupyter\\sub-95\\eeg\\sub-95_task-Sleep_acq-psg_eeg.edf...\n",
      "EDF file detected\n",
      "Setting channel info structure...\n",
      "Creating raw.info structure...\n",
      "Reading 0 ... 7552511  =      0.000 ... 29501.996 secs...\n"
     ]
    },
    {
     "name": "stderr",
     "output_type": "stream",
     "text": [
      "C:\\Users\\naikh\\AppData\\Local\\Temp\\ipykernel_16604\\791336486.py:6: RuntimeWarning: Channels contain different highpass filters. Highest filter setting will be stored.\n",
      "  raw = mne.io.read_raw_edf(file_path, preload=True)\n",
      "C:\\Users\\naikh\\anaconda3\\envs\\PytorchEnvironment\\Lib\\site-packages\\pyedflib\\edfwriter.py:134: UserWarning: Physical minimum for channel 0 (PSG_F3) is -0.00048731660230716417, which has 23 chars, however, EDF+ can only save 8 chars, will be truncated to -0.00048, some loss of precision is to be expected\n",
      "  warnings.warn('Physical minimum for channel {} ({}) is {}, which has {} chars, '\\\n",
      "C:\\Users\\naikh\\anaconda3\\envs\\PytorchEnvironment\\Lib\\site-packages\\pyedflib\\edfwriter.py:141: UserWarning: Physical maximum for channel 0 (PSG_F3) is 0.0006640238, which has 12 chars, however, EDF+ can only save 8 chars, will be truncated to 0.000664, some loss of precision is to be expected.\n",
      "  warnings.warn('Physical maximum for channel {} ({}) is {}, which has {} chars, '\\\n",
      "C:\\Users\\naikh\\anaconda3\\envs\\PytorchEnvironment\\Lib\\site-packages\\pyedflib\\edfwriter.py:134: UserWarning: Physical minimum for channel 1 (PSG_F4) is 0.00025848670853742295, which has 22 chars, however, EDF+ can only save 8 chars, will be truncated to 0.000258, some loss of precision is to be expected\n",
      "  warnings.warn('Physical minimum for channel {} ({}) is {}, which has {} chars, '\\\n",
      "C:\\Users\\naikh\\anaconda3\\envs\\PytorchEnvironment\\Lib\\site-packages\\pyedflib\\edfwriter.py:141: UserWarning: Physical maximum for channel 1 (PSG_F4) is 0.0028403270000000006, which has 21 chars, however, EDF+ can only save 8 chars, will be truncated to 0.002840, some loss of precision is to be expected.\n",
      "  warnings.warn('Physical maximum for channel {} ({}) is {}, which has {} chars, '\\\n",
      "C:\\Users\\naikh\\anaconda3\\envs\\PytorchEnvironment\\Lib\\site-packages\\pyedflib\\edfwriter.py:134: UserWarning: Physical minimum for channel 2 (PSG_C3) is -0.0006334393221408408, which has 22 chars, however, EDF+ can only save 8 chars, will be truncated to -0.00063, some loss of precision is to be expected\n",
      "  warnings.warn('Physical minimum for channel {} ({}) is {}, which has {} chars, '\\\n",
      "C:\\Users\\naikh\\anaconda3\\envs\\PytorchEnvironment\\Lib\\site-packages\\pyedflib\\edfwriter.py:141: UserWarning: Physical maximum for channel 2 (PSG_C3) is 0.0004259417436942093, which has 21 chars, however, EDF+ can only save 8 chars, will be truncated to 0.000425, some loss of precision is to be expected.\n",
      "  warnings.warn('Physical maximum for channel {} ({}) is {}, which has {} chars, '\\\n",
      "C:\\Users\\naikh\\anaconda3\\envs\\PytorchEnvironment\\Lib\\site-packages\\pyedflib\\edfwriter.py:134: UserWarning: Physical minimum for channel 3 (PSG_C4) is -0.0006589425330876631, which has 22 chars, however, EDF+ can only save 8 chars, will be truncated to -0.00065, some loss of precision is to be expected\n",
      "  warnings.warn('Physical minimum for channel {} ({}) is {}, which has {} chars, '\\\n",
      "C:\\Users\\naikh\\anaconda3\\envs\\PytorchEnvironment\\Lib\\site-packages\\pyedflib\\edfwriter.py:141: UserWarning: Physical maximum for channel 3 (PSG_C4) is 0.0006716411, which has 12 chars, however, EDF+ can only save 8 chars, will be truncated to 0.000671, some loss of precision is to be expected.\n",
      "  warnings.warn('Physical maximum for channel {} ({}) is {}, which has {} chars, '\\\n",
      "C:\\Users\\naikh\\anaconda3\\envs\\PytorchEnvironment\\Lib\\site-packages\\pyedflib\\edfwriter.py:134: UserWarning: Physical minimum for channel 4 (PSG_O1) is -0.00011099648364995812, which has 23 chars, however, EDF+ can only save 8 chars, will be truncated to -0.00011, some loss of precision is to be expected\n",
      "  warnings.warn('Physical minimum for channel {} ({}) is {}, which has {} chars, '\\\n",
      "C:\\Users\\naikh\\anaconda3\\envs\\PytorchEnvironment\\Lib\\site-packages\\pyedflib\\edfwriter.py:141: UserWarning: Physical maximum for channel 4 (PSG_O1) is 0.0012977249999999998, which has 21 chars, however, EDF+ can only save 8 chars, will be truncated to 0.001297, some loss of precision is to be expected.\n",
      "  warnings.warn('Physical maximum for channel {} ({}) is {}, which has {} chars, '\\\n",
      "C:\\Users\\naikh\\anaconda3\\envs\\PytorchEnvironment\\Lib\\site-packages\\pyedflib\\edfwriter.py:134: UserWarning: Physical minimum for channel 5 (PSG_O2) is -0.00047481162027924014, which has 23 chars, however, EDF+ can only save 8 chars, will be truncated to -0.00047, some loss of precision is to be expected\n",
      "  warnings.warn('Physical minimum for channel {} ({}) is {}, which has {} chars, '\\\n",
      "C:\\Users\\naikh\\anaconda3\\envs\\PytorchEnvironment\\Lib\\site-packages\\pyedflib\\edfwriter.py:141: UserWarning: Physical maximum for channel 5 (PSG_O2) is 0.0011168629999999998, which has 21 chars, however, EDF+ can only save 8 chars, will be truncated to 0.001116, some loss of precision is to be expected.\n",
      "  warnings.warn('Physical maximum for channel {} ({}) is {}, which has {} chars, '\\\n"
     ]
    },
    {
     "name": "stdout",
     "output_type": "stream",
     "text": [
      "Extracting EDF parameters from C:\\Users\\naikh\\SleepResearchCode_experient\\Dataset_clean_for_jupyter\\sub-96\\eeg\\sub-96_task-Sleep_acq-psg_eeg.edf...\n",
      "EDF file detected\n",
      "Setting channel info structure...\n",
      "Creating raw.info structure...\n",
      "Reading 0 ... 7460095  =      0.000 ... 29140.996 secs...\n"
     ]
    },
    {
     "name": "stderr",
     "output_type": "stream",
     "text": [
      "C:\\Users\\naikh\\AppData\\Local\\Temp\\ipykernel_16604\\791336486.py:6: RuntimeWarning: Channels contain different highpass filters. Highest filter setting will be stored.\n",
      "  raw = mne.io.read_raw_edf(file_path, preload=True)\n",
      "C:\\Users\\naikh\\anaconda3\\envs\\PytorchEnvironment\\Lib\\site-packages\\pyedflib\\edfwriter.py:134: UserWarning: Physical minimum for channel 0 (PSG_F3) is -0.0004698220313496605, which has 22 chars, however, EDF+ can only save 8 chars, will be truncated to -0.00046, some loss of precision is to be expected\n",
      "  warnings.warn('Physical minimum for channel {} ({}) is {}, which has {} chars, '\\\n",
      "C:\\Users\\naikh\\anaconda3\\envs\\PytorchEnvironment\\Lib\\site-packages\\pyedflib\\edfwriter.py:141: UserWarning: Physical maximum for channel 0 (PSG_F3) is 0.0006130465000000001, which has 21 chars, however, EDF+ can only save 8 chars, will be truncated to 0.000613, some loss of precision is to be expected.\n",
      "  warnings.warn('Physical maximum for channel {} ({}) is {}, which has {} chars, '\\\n",
      "C:\\Users\\naikh\\anaconda3\\envs\\PytorchEnvironment\\Lib\\site-packages\\pyedflib\\edfwriter.py:134: UserWarning: Physical minimum for channel 1 (PSG_F4) is -0.00019582795020981148, which has 23 chars, however, EDF+ can only save 8 chars, will be truncated to -0.00019, some loss of precision is to be expected\n",
      "  warnings.warn('Physical minimum for channel {} ({}) is {}, which has {} chars, '\\\n",
      "C:\\Users\\naikh\\anaconda3\\envs\\PytorchEnvironment\\Lib\\site-packages\\pyedflib\\edfwriter.py:141: UserWarning: Physical maximum for channel 1 (PSG_F4) is 0.0010326820000000003, which has 21 chars, however, EDF+ can only save 8 chars, will be truncated to 0.001032, some loss of precision is to be expected.\n",
      "  warnings.warn('Physical maximum for channel {} ({}) is {}, which has {} chars, '\\\n",
      "C:\\Users\\naikh\\anaconda3\\envs\\PytorchEnvironment\\Lib\\site-packages\\pyedflib\\edfwriter.py:134: UserWarning: Physical minimum for channel 2 (PSG_C3) is -0.00011612083018997481, which has 23 chars, however, EDF+ can only save 8 chars, will be truncated to -0.00011, some loss of precision is to be expected\n",
      "  warnings.warn('Physical minimum for channel {} ({}) is {}, which has {} chars, '\\\n",
      "C:\\Users\\naikh\\anaconda3\\envs\\PytorchEnvironment\\Lib\\site-packages\\pyedflib\\edfwriter.py:141: UserWarning: Physical maximum for channel 2 (PSG_C3) is 0.0009719387, which has 12 chars, however, EDF+ can only save 8 chars, will be truncated to 0.000971, some loss of precision is to be expected.\n",
      "  warnings.warn('Physical maximum for channel {} ({}) is {}, which has {} chars, '\\\n",
      "C:\\Users\\naikh\\anaconda3\\envs\\PytorchEnvironment\\Lib\\site-packages\\pyedflib\\edfwriter.py:134: UserWarning: Physical minimum for channel 3 (PSG_C4) is 0.0004824313777218279, which has 21 chars, however, EDF+ can only save 8 chars, will be truncated to 0.000482, some loss of precision is to be expected\n",
      "  warnings.warn('Physical minimum for channel {} ({}) is {}, which has {} chars, '\\\n",
      "C:\\Users\\naikh\\anaconda3\\envs\\PytorchEnvironment\\Lib\\site-packages\\pyedflib\\edfwriter.py:141: UserWarning: Physical maximum for channel 3 (PSG_C4) is 0.002341491, which has 11 chars, however, EDF+ can only save 8 chars, will be truncated to 0.002341, some loss of precision is to be expected.\n",
      "  warnings.warn('Physical maximum for channel {} ({}) is {}, which has {} chars, '\\\n",
      "C:\\Users\\naikh\\anaconda3\\envs\\PytorchEnvironment\\Lib\\site-packages\\pyedflib\\edfwriter.py:134: UserWarning: Physical minimum for channel 4 (PSG_O1) is -0.00022203263364309144, which has 23 chars, however, EDF+ can only save 8 chars, will be truncated to -0.00022, some loss of precision is to be expected\n",
      "  warnings.warn('Physical minimum for channel {} ({}) is {}, which has {} chars, '\\\n",
      "C:\\Users\\naikh\\anaconda3\\envs\\PytorchEnvironment\\Lib\\site-packages\\pyedflib\\edfwriter.py:141: UserWarning: Physical maximum for channel 4 (PSG_O1) is 0.0009853178, which has 12 chars, however, EDF+ can only save 8 chars, will be truncated to 0.000985, some loss of precision is to be expected.\n",
      "  warnings.warn('Physical maximum for channel {} ({}) is {}, which has {} chars, '\\\n",
      "C:\\Users\\naikh\\anaconda3\\envs\\PytorchEnvironment\\Lib\\site-packages\\pyedflib\\edfwriter.py:134: UserWarning: Physical minimum for channel 5 (PSG_O2) is -3.011179566643773e-05, which has 22 chars, however, EDF+ can only save 8 chars, will be truncated to -3.01117, some loss of precision is to be expected\n",
      "  warnings.warn('Physical minimum for channel {} ({}) is {}, which has {} chars, '\\\n",
      "C:\\Users\\naikh\\anaconda3\\envs\\PytorchEnvironment\\Lib\\site-packages\\pyedflib\\edfwriter.py:141: UserWarning: Physical maximum for channel 5 (PSG_O2) is 0.0009819974000000002, which has 21 chars, however, EDF+ can only save 8 chars, will be truncated to 0.000981, some loss of precision is to be expected.\n",
      "  warnings.warn('Physical maximum for channel {} ({}) is {}, which has {} chars, '\\\n"
     ]
    },
    {
     "name": "stdout",
     "output_type": "stream",
     "text": [
      "Extracting EDF parameters from C:\\Users\\naikh\\SleepResearchCode_experient\\Dataset_clean_for_jupyter\\sub-97\\eeg\\sub-97_task-Sleep_acq-psg_eeg.edf...\n",
      "EDF file detected\n",
      "Setting channel info structure...\n",
      "Creating raw.info structure...\n",
      "Reading 0 ... 8333823  =      0.000 ... 32553.996 secs...\n"
     ]
    },
    {
     "name": "stderr",
     "output_type": "stream",
     "text": [
      "C:\\Users\\naikh\\AppData\\Local\\Temp\\ipykernel_16604\\791336486.py:6: RuntimeWarning: Channels contain different highpass filters. Highest filter setting will be stored.\n",
      "  raw = mne.io.read_raw_edf(file_path, preload=True)\n",
      "C:\\Users\\naikh\\anaconda3\\envs\\PytorchEnvironment\\Lib\\site-packages\\pyedflib\\edfwriter.py:134: UserWarning: Physical minimum for channel 0 (PSG_F3) is -0.0005347105157122148, which has 22 chars, however, EDF+ can only save 8 chars, will be truncated to -0.00053, some loss of precision is to be expected\n",
      "  warnings.warn('Physical minimum for channel {} ({}) is {}, which has {} chars, '\\\n",
      "C:\\Users\\naikh\\anaconda3\\envs\\PytorchEnvironment\\Lib\\site-packages\\pyedflib\\edfwriter.py:141: UserWarning: Physical maximum for channel 0 (PSG_F3) is 0.0003077970518867781, which has 21 chars, however, EDF+ can only save 8 chars, will be truncated to 0.000307, some loss of precision is to be expected.\n",
      "  warnings.warn('Physical maximum for channel {} ({}) is {}, which has {} chars, '\\\n",
      "C:\\Users\\naikh\\anaconda3\\envs\\PytorchEnvironment\\Lib\\site-packages\\pyedflib\\edfwriter.py:134: UserWarning: Physical minimum for channel 1 (PSG_F4) is -0.0005410585380315862, which has 22 chars, however, EDF+ can only save 8 chars, will be truncated to -0.00054, some loss of precision is to be expected\n",
      "  warnings.warn('Physical minimum for channel {} ({}) is {}, which has {} chars, '\\\n",
      "C:\\Users\\naikh\\anaconda3\\envs\\PytorchEnvironment\\Lib\\site-packages\\pyedflib\\edfwriter.py:141: UserWarning: Physical maximum for channel 1 (PSG_F4) is 0.0002890006010482947, which has 21 chars, however, EDF+ can only save 8 chars, will be truncated to 0.000289, some loss of precision is to be expected.\n",
      "  warnings.warn('Physical maximum for channel {} ({}) is {}, which has {} chars, '\\\n",
      "C:\\Users\\naikh\\anaconda3\\envs\\PytorchEnvironment\\Lib\\site-packages\\pyedflib\\edfwriter.py:134: UserWarning: Physical minimum for channel 2 (PSG_C3) is -0.00033532516346074617, which has 23 chars, however, EDF+ can only save 8 chars, will be truncated to -0.00033, some loss of precision is to be expected\n",
      "  warnings.warn('Physical minimum for channel {} ({}) is {}, which has {} chars, '\\\n",
      "C:\\Users\\naikh\\anaconda3\\envs\\PytorchEnvironment\\Lib\\site-packages\\pyedflib\\edfwriter.py:141: UserWarning: Physical maximum for channel 2 (PSG_C3) is 0.0006834576999999999, which has 21 chars, however, EDF+ can only save 8 chars, will be truncated to 0.000683, some loss of precision is to be expected.\n",
      "  warnings.warn('Physical maximum for channel {} ({}) is {}, which has {} chars, '\\\n",
      "C:\\Users\\naikh\\anaconda3\\envs\\PytorchEnvironment\\Lib\\site-packages\\pyedflib\\edfwriter.py:134: UserWarning: Physical minimum for channel 3 (PSG_C4) is -0.0005637511701991302, which has 22 chars, however, EDF+ can only save 8 chars, will be truncated to -0.00056, some loss of precision is to be expected\n",
      "  warnings.warn('Physical minimum for channel {} ({}) is {}, which has {} chars, '\\\n",
      "C:\\Users\\naikh\\anaconda3\\envs\\PytorchEnvironment\\Lib\\site-packages\\pyedflib\\edfwriter.py:141: UserWarning: Physical maximum for channel 3 (PSG_C4) is 0.0008384405000000001, which has 21 chars, however, EDF+ can only save 8 chars, will be truncated to 0.000838, some loss of precision is to be expected.\n",
      "  warnings.warn('Physical maximum for channel {} ({}) is {}, which has {} chars, '\\\n",
      "C:\\Users\\naikh\\anaconda3\\envs\\PytorchEnvironment\\Lib\\site-packages\\pyedflib\\edfwriter.py:134: UserWarning: Physical minimum for channel 4 (PSG_O1) is 0.0002800667523460745, which has 21 chars, however, EDF+ can only save 8 chars, will be truncated to 0.000280, some loss of precision is to be expected\n",
      "  warnings.warn('Physical minimum for channel {} ({}) is {}, which has {} chars, '\\\n",
      "C:\\Users\\naikh\\anaconda3\\envs\\PytorchEnvironment\\Lib\\site-packages\\pyedflib\\edfwriter.py:141: UserWarning: Physical maximum for channel 4 (PSG_O1) is 0.0026178619999999994, which has 21 chars, however, EDF+ can only save 8 chars, will be truncated to 0.002617, some loss of precision is to be expected.\n",
      "  warnings.warn('Physical maximum for channel {} ({}) is {}, which has {} chars, '\\\n",
      "C:\\Users\\naikh\\anaconda3\\envs\\PytorchEnvironment\\Lib\\site-packages\\pyedflib\\edfwriter.py:134: UserWarning: Physical minimum for channel 5 (PSG_O2) is -0.0020464263695231556, which has 22 chars, however, EDF+ can only save 8 chars, will be truncated to -0.00204, some loss of precision is to be expected\n",
      "  warnings.warn('Physical minimum for channel {} ({}) is {}, which has {} chars, '\\\n",
      "C:\\Users\\naikh\\anaconda3\\envs\\PytorchEnvironment\\Lib\\site-packages\\pyedflib\\edfwriter.py:141: UserWarning: Physical maximum for channel 5 (PSG_O2) is -4.8935878631265724e-05, which has 23 chars, however, EDF+ can only save 8 chars, will be truncated to -4.89358, some loss of precision is to be expected.\n",
      "  warnings.warn('Physical maximum for channel {} ({}) is {}, which has {} chars, '\\\n"
     ]
    },
    {
     "name": "stdout",
     "output_type": "stream",
     "text": [
      "Extracting EDF parameters from C:\\Users\\naikh\\SleepResearchCode_experient\\Dataset_clean_for_jupyter\\sub-98\\eeg\\sub-98_task-Sleep_acq-psg_eeg.edf...\n",
      "EDF file detected\n",
      "Setting channel info structure...\n",
      "Creating raw.info structure...\n",
      "Reading 0 ... 6920191  =      0.000 ... 27031.996 secs...\n"
     ]
    },
    {
     "name": "stderr",
     "output_type": "stream",
     "text": [
      "C:\\Users\\naikh\\AppData\\Local\\Temp\\ipykernel_16604\\791336486.py:6: RuntimeWarning: Channels contain different highpass filters. Highest filter setting will be stored.\n",
      "  raw = mne.io.read_raw_edf(file_path, preload=True)\n",
      "C:\\Users\\naikh\\anaconda3\\envs\\PytorchEnvironment\\Lib\\site-packages\\pyedflib\\edfwriter.py:134: UserWarning: Physical minimum for channel 0 (PSG_F3) is -9.67882601815823e-05, which has 21 chars, however, EDF+ can only save 8 chars, will be truncated to -9.67882, some loss of precision is to be expected\n",
      "  warnings.warn('Physical minimum for channel {} ({}) is {}, which has {} chars, '\\\n",
      "C:\\Users\\naikh\\anaconda3\\envs\\PytorchEnvironment\\Lib\\site-packages\\pyedflib\\edfwriter.py:141: UserWarning: Physical maximum for channel 0 (PSG_F3) is 0.0010306310000000002, which has 21 chars, however, EDF+ can only save 8 chars, will be truncated to 0.001030, some loss of precision is to be expected.\n",
      "  warnings.warn('Physical maximum for channel {} ({}) is {}, which has {} chars, '\\\n",
      "C:\\Users\\naikh\\anaconda3\\envs\\PytorchEnvironment\\Lib\\site-packages\\pyedflib\\edfwriter.py:134: UserWarning: Physical minimum for channel 1 (PSG_F4) is -0.00046560789050125877, which has 23 chars, however, EDF+ can only save 8 chars, will be truncated to -0.00046, some loss of precision is to be expected\n",
      "  warnings.warn('Physical minimum for channel {} ({}) is {}, which has {} chars, '\\\n",
      "C:\\Users\\naikh\\anaconda3\\envs\\PytorchEnvironment\\Lib\\site-packages\\pyedflib\\edfwriter.py:141: UserWarning: Physical maximum for channel 1 (PSG_F4) is 0.0010257480000000002, which has 21 chars, however, EDF+ can only save 8 chars, will be truncated to 0.001025, some loss of precision is to be expected.\n",
      "  warnings.warn('Physical maximum for channel {} ({}) is {}, which has {} chars, '\\\n",
      "C:\\Users\\naikh\\anaconda3\\envs\\PytorchEnvironment\\Lib\\site-packages\\pyedflib\\edfwriter.py:134: UserWarning: Physical minimum for channel 2 (PSG_C3) is 0.00011287068690012967, which has 22 chars, however, EDF+ can only save 8 chars, will be truncated to 0.000112, some loss of precision is to be expected\n",
      "  warnings.warn('Physical minimum for channel {} ({}) is {}, which has {} chars, '\\\n",
      "C:\\Users\\naikh\\anaconda3\\envs\\PytorchEnvironment\\Lib\\site-packages\\pyedflib\\edfwriter.py:141: UserWarning: Physical maximum for channel 2 (PSG_C3) is 0.001569018, which has 11 chars, however, EDF+ can only save 8 chars, will be truncated to 0.001569, some loss of precision is to be expected.\n",
      "  warnings.warn('Physical maximum for channel {} ({}) is {}, which has {} chars, '\\\n",
      "C:\\Users\\naikh\\anaconda3\\envs\\PytorchEnvironment\\Lib\\site-packages\\pyedflib\\edfwriter.py:134: UserWarning: Physical minimum for channel 3 (PSG_C4) is 0.0007252128424811171, which has 21 chars, however, EDF+ can only save 8 chars, will be truncated to 0.000725, some loss of precision is to be expected\n",
      "  warnings.warn('Physical minimum for channel {} ({}) is {}, which has {} chars, '\\\n",
      "C:\\Users\\naikh\\anaconda3\\envs\\PytorchEnvironment\\Lib\\site-packages\\pyedflib\\edfwriter.py:134: UserWarning: Physical minimum for channel 4 (PSG_O1) is 0.0003415628405432213, which has 21 chars, however, EDF+ can only save 8 chars, will be truncated to 0.000341, some loss of precision is to be expected\n",
      "  warnings.warn('Physical minimum for channel {} ({}) is {}, which has {} chars, '\\\n",
      "C:\\Users\\naikh\\anaconda3\\envs\\PytorchEnvironment\\Lib\\site-packages\\pyedflib\\edfwriter.py:141: UserWarning: Physical maximum for channel 4 (PSG_O1) is 0.002260142, which has 11 chars, however, EDF+ can only save 8 chars, will be truncated to 0.002260, some loss of precision is to be expected.\n",
      "  warnings.warn('Physical maximum for channel {} ({}) is {}, which has {} chars, '\\\n",
      "C:\\Users\\naikh\\anaconda3\\envs\\PytorchEnvironment\\Lib\\site-packages\\pyedflib\\edfwriter.py:134: UserWarning: Physical minimum for channel 5 (PSG_O2) is -0.0002170954127412832, which has 22 chars, however, EDF+ can only save 8 chars, will be truncated to -0.00021, some loss of precision is to be expected\n",
      "  warnings.warn('Physical minimum for channel {} ({}) is {}, which has {} chars, '\\\n",
      "C:\\Users\\naikh\\anaconda3\\envs\\PytorchEnvironment\\Lib\\site-packages\\pyedflib\\edfwriter.py:141: UserWarning: Physical maximum for channel 5 (PSG_O2) is 0.0013418660000000002, which has 21 chars, however, EDF+ can only save 8 chars, will be truncated to 0.001341, some loss of precision is to be expected.\n",
      "  warnings.warn('Physical maximum for channel {} ({}) is {}, which has {} chars, '\\\n"
     ]
    },
    {
     "name": "stdout",
     "output_type": "stream",
     "text": [
      "Extracting EDF parameters from C:\\Users\\naikh\\SleepResearchCode_experient\\Dataset_clean_for_jupyter\\sub-99\\eeg\\sub-99_task-Sleep_acq-psg_eeg.edf...\n",
      "EDF file detected\n",
      "Setting channel info structure...\n",
      "Creating raw.info structure...\n",
      "Reading 0 ... 8208383  =      0.000 ... 32063.996 secs...\n"
     ]
    },
    {
     "name": "stderr",
     "output_type": "stream",
     "text": [
      "C:\\Users\\naikh\\AppData\\Local\\Temp\\ipykernel_16604\\791336486.py:6: RuntimeWarning: Channels contain different highpass filters. Highest filter setting will be stored.\n",
      "  raw = mne.io.read_raw_edf(file_path, preload=True)\n",
      "C:\\Users\\naikh\\anaconda3\\envs\\PytorchEnvironment\\Lib\\site-packages\\pyedflib\\edfwriter.py:134: UserWarning: Physical minimum for channel 0 (PSG_F3) is -0.0006879585877775235, which has 22 chars, however, EDF+ can only save 8 chars, will be truncated to -0.00068, some loss of precision is to be expected\n",
      "  warnings.warn('Physical minimum for channel {} ({}) is {}, which has {} chars, '\\\n",
      "C:\\Users\\naikh\\anaconda3\\envs\\PytorchEnvironment\\Lib\\site-packages\\pyedflib\\edfwriter.py:141: UserWarning: Physical maximum for channel 0 (PSG_F3) is 0.0019062299999999999, which has 21 chars, however, EDF+ can only save 8 chars, will be truncated to 0.001906, some loss of precision is to be expected.\n",
      "  warnings.warn('Physical maximum for channel {} ({}) is {}, which has {} chars, '\\\n",
      "C:\\Users\\naikh\\anaconda3\\envs\\PytorchEnvironment\\Lib\\site-packages\\pyedflib\\edfwriter.py:134: UserWarning: Physical minimum for channel 1 (PSG_F4) is -0.0031999283504539557, which has 22 chars, however, EDF+ can only save 8 chars, will be truncated to -0.00319, some loss of precision is to be expected\n",
      "  warnings.warn('Physical minimum for channel {} ({}) is {}, which has {} chars, '\\\n",
      "C:\\Users\\naikh\\anaconda3\\envs\\PytorchEnvironment\\Lib\\site-packages\\pyedflib\\edfwriter.py:141: UserWarning: Physical maximum for channel 1 (PSG_F4) is 0.00024505347289234736, which has 22 chars, however, EDF+ can only save 8 chars, will be truncated to 0.000245, some loss of precision is to be expected.\n",
      "  warnings.warn('Physical maximum for channel {} ({}) is {}, which has {} chars, '\\\n",
      "C:\\Users\\naikh\\anaconda3\\envs\\PytorchEnvironment\\Lib\\site-packages\\pyedflib\\edfwriter.py:134: UserWarning: Physical minimum for channel 2 (PSG_C3) is -0.003199927276020447, which has 21 chars, however, EDF+ can only save 8 chars, will be truncated to -0.00319, some loss of precision is to be expected\n",
      "  warnings.warn('Physical minimum for channel {} ({}) is {}, which has {} chars, '\\\n",
      "C:\\Users\\naikh\\anaconda3\\envs\\PytorchEnvironment\\Lib\\site-packages\\pyedflib\\edfwriter.py:141: UserWarning: Physical maximum for channel 2 (PSG_C3) is 0.00034914837412069934, which has 22 chars, however, EDF+ can only save 8 chars, will be truncated to 0.000349, some loss of precision is to be expected.\n",
      "  warnings.warn('Physical maximum for channel {} ({}) is {}, which has {} chars, '\\\n",
      "C:\\Users\\naikh\\anaconda3\\envs\\PytorchEnvironment\\Lib\\site-packages\\pyedflib\\edfwriter.py:134: UserWarning: Physical minimum for channel 3 (PSG_C4) is -0.0031999105293354694, which has 22 chars, however, EDF+ can only save 8 chars, will be truncated to -0.00319, some loss of precision is to be expected\n",
      "  warnings.warn('Physical minimum for channel {} ({}) is {}, which has {} chars, '\\\n",
      "C:\\Users\\naikh\\anaconda3\\envs\\PytorchEnvironment\\Lib\\site-packages\\pyedflib\\edfwriter.py:141: UserWarning: Physical maximum for channel 3 (PSG_C4) is 0.0021719081690699626, which has 21 chars, however, EDF+ can only save 8 chars, will be truncated to 0.002171, some loss of precision is to be expected.\n",
      "  warnings.warn('Physical maximum for channel {} ({}) is {}, which has {} chars, '\\\n",
      "C:\\Users\\naikh\\anaconda3\\envs\\PytorchEnvironment\\Lib\\site-packages\\pyedflib\\edfwriter.py:134: UserWarning: Physical minimum for channel 4 (PSG_O1) is -0.0031999194093385213, which has 22 chars, however, EDF+ can only save 8 chars, will be truncated to -0.00319, some loss of precision is to be expected\n",
      "  warnings.warn('Physical minimum for channel {} ({}) is {}, which has {} chars, '\\\n",
      "C:\\Users\\naikh\\anaconda3\\envs\\PytorchEnvironment\\Lib\\site-packages\\pyedflib\\edfwriter.py:141: UserWarning: Physical maximum for channel 4 (PSG_O1) is 0.001158504154085603, which has 20 chars, however, EDF+ can only save 8 chars, will be truncated to 0.001158, some loss of precision is to be expected.\n",
      "  warnings.warn('Physical maximum for channel {} ({}) is {}, which has {} chars, '\\\n",
      "C:\\Users\\naikh\\anaconda3\\envs\\PytorchEnvironment\\Lib\\site-packages\\pyedflib\\edfwriter.py:134: UserWarning: Physical minimum for channel 5 (PSG_O2) is -0.0031999280896620125, which has 22 chars, however, EDF+ can only save 8 chars, will be truncated to -0.00319, some loss of precision is to be expected\n",
      "  warnings.warn('Physical minimum for channel {} ({}) is {}, which has {} chars, '\\\n",
      "C:\\Users\\naikh\\anaconda3\\envs\\PytorchEnvironment\\Lib\\site-packages\\pyedflib\\edfwriter.py:141: UserWarning: Physical maximum for channel 5 (PSG_O2) is 0.0002701771802548255, which has 21 chars, however, EDF+ can only save 8 chars, will be truncated to 0.000270, some loss of precision is to be expected.\n",
      "  warnings.warn('Physical maximum for channel {} ({}) is {}, which has {} chars, '\\\n"
     ]
    },
    {
     "name": "stdout",
     "output_type": "stream",
     "text": [
      "Extracting EDF parameters from C:\\Users\\naikh\\SleepResearchCode_experient\\Dataset_clean_for_jupyter\\sub-100\\eeg\\sub-100_task-Sleep_acq-psg_eeg.edf...\n",
      "EDF file detected\n",
      "Setting channel info structure...\n",
      "Creating raw.info structure...\n",
      "Reading 0 ... 7653887  =      0.000 ... 29897.996 secs...\n"
     ]
    },
    {
     "name": "stderr",
     "output_type": "stream",
     "text": [
      "C:\\Users\\naikh\\AppData\\Local\\Temp\\ipykernel_16604\\791336486.py:6: RuntimeWarning: Channels contain different highpass filters. Highest filter setting will be stored.\n",
      "  raw = mne.io.read_raw_edf(file_path, preload=True)\n",
      "C:\\Users\\naikh\\anaconda3\\envs\\PytorchEnvironment\\Lib\\site-packages\\pyedflib\\edfwriter.py:134: UserWarning: Physical minimum for channel 0 (PSG_F3) is -0.00268089130560769, which has 20 chars, however, EDF+ can only save 8 chars, will be truncated to -0.00268, some loss of precision is to be expected\n",
      "  warnings.warn('Physical minimum for channel {} ({}) is {}, which has {} chars, '\\\n",
      "C:\\Users\\naikh\\anaconda3\\envs\\PytorchEnvironment\\Lib\\site-packages\\pyedflib\\edfwriter.py:141: UserWarning: Physical maximum for channel 0 (PSG_F3) is 7.850816003662169e-05, which has 21 chars, however, EDF+ can only save 8 chars, will be truncated to 7.850816, some loss of precision is to be expected.\n",
      "  warnings.warn('Physical maximum for channel {} ({}) is {}, which has {} chars, '\\\n",
      "C:\\Users\\naikh\\anaconda3\\envs\\PytorchEnvironment\\Lib\\site-packages\\pyedflib\\edfwriter.py:134: UserWarning: Physical minimum for channel 1 (PSG_F4) is -0.0003254617268024719, which has 22 chars, however, EDF+ can only save 8 chars, will be truncated to -0.00032, some loss of precision is to be expected\n",
      "  warnings.warn('Physical minimum for channel {} ({}) is {}, which has {} chars, '\\\n",
      "C:\\Users\\naikh\\anaconda3\\envs\\PytorchEnvironment\\Lib\\site-packages\\pyedflib\\edfwriter.py:141: UserWarning: Physical maximum for channel 1 (PSG_F4) is 0.0007874632000000001, which has 21 chars, however, EDF+ can only save 8 chars, will be truncated to 0.000787, some loss of precision is to be expected.\n",
      "  warnings.warn('Physical maximum for channel {} ({}) is {}, which has {} chars, '\\\n",
      "C:\\Users\\naikh\\anaconda3\\envs\\PytorchEnvironment\\Lib\\site-packages\\pyedflib\\edfwriter.py:134: UserWarning: Physical minimum for channel 2 (PSG_C3) is -0.0020330361391927977, which has 22 chars, however, EDF+ can only save 8 chars, will be truncated to -0.00203, some loss of precision is to be expected\n",
      "  warnings.warn('Physical minimum for channel {} ({}) is {}, which has {} chars, '\\\n",
      "C:\\Users\\naikh\\anaconda3\\envs\\PytorchEnvironment\\Lib\\site-packages\\pyedflib\\edfwriter.py:141: UserWarning: Physical maximum for channel 2 (PSG_C3) is 0.002341880999999999, which has 20 chars, however, EDF+ can only save 8 chars, will be truncated to 0.002341, some loss of precision is to be expected.\n",
      "  warnings.warn('Physical maximum for channel {} ({}) is {}, which has {} chars, '\\\n",
      "C:\\Users\\naikh\\anaconda3\\envs\\PytorchEnvironment\\Lib\\site-packages\\pyedflib\\edfwriter.py:134: UserWarning: Physical minimum for channel 3 (PSG_C4) is -0.0004238999185168229, which has 22 chars, however, EDF+ can only save 8 chars, will be truncated to -0.00042, some loss of precision is to be expected\n",
      "  warnings.warn('Physical minimum for channel {} ({}) is {}, which has {} chars, '\\\n",
      "C:\\Users\\naikh\\anaconda3\\envs\\PytorchEnvironment\\Lib\\site-packages\\pyedflib\\edfwriter.py:141: UserWarning: Physical maximum for channel 3 (PSG_C4) is 0.002703215, which has 11 chars, however, EDF+ can only save 8 chars, will be truncated to 0.002703, some loss of precision is to be expected.\n",
      "  warnings.warn('Physical maximum for channel {} ({}) is {}, which has {} chars, '\\\n",
      "C:\\Users\\naikh\\anaconda3\\envs\\PytorchEnvironment\\Lib\\site-packages\\pyedflib\\edfwriter.py:134: UserWarning: Physical minimum for channel 4 (PSG_O1) is 0.0005207695263904784, which has 21 chars, however, EDF+ can only save 8 chars, will be truncated to 0.000520, some loss of precision is to be expected\n",
      "  warnings.warn('Physical minimum for channel {} ({}) is {}, which has {} chars, '\\\n",
      "C:\\Users\\naikh\\anaconda3\\envs\\PytorchEnvironment\\Lib\\site-packages\\pyedflib\\edfwriter.py:141: UserWarning: Physical maximum for channel 4 (PSG_O1) is 0.0029538050000000003, which has 21 chars, however, EDF+ can only save 8 chars, will be truncated to 0.002953, some loss of precision is to be expected.\n",
      "  warnings.warn('Physical maximum for channel {} ({}) is {}, which has {} chars, '\\\n",
      "C:\\Users\\naikh\\anaconda3\\envs\\PytorchEnvironment\\Lib\\site-packages\\pyedflib\\edfwriter.py:134: UserWarning: Physical minimum for channel 5 (PSG_O2) is 0.0004805934287327382, which has 21 chars, however, EDF+ can only save 8 chars, will be truncated to 0.000480, some loss of precision is to be expected\n",
      "  warnings.warn('Physical minimum for channel {} ({}) is {}, which has {} chars, '\\\n",
      "C:\\Users\\naikh\\anaconda3\\envs\\PytorchEnvironment\\Lib\\site-packages\\pyedflib\\edfwriter.py:141: UserWarning: Physical maximum for channel 5 (PSG_O2) is 0.00248036, which has 10 chars, however, EDF+ can only save 8 chars, will be truncated to 0.002480, some loss of precision is to be expected.\n",
      "  warnings.warn('Physical maximum for channel {} ({}) is {}, which has {} chars, '\\\n"
     ]
    },
    {
     "name": "stdout",
     "output_type": "stream",
     "text": [
      "Extracting EDF parameters from C:\\Users\\naikh\\SleepResearchCode_experient\\Dataset_clean_for_jupyter\\sub-101\\eeg\\sub-101_task-Sleep_acq-psg_eeg.edf...\n",
      "EDF file detected\n",
      "Setting channel info structure...\n",
      "Creating raw.info structure...\n",
      "Reading 0 ... 7186175  =      0.000 ... 28070.996 secs...\n"
     ]
    },
    {
     "name": "stderr",
     "output_type": "stream",
     "text": [
      "C:\\Users\\naikh\\AppData\\Local\\Temp\\ipykernel_16604\\791336486.py:6: RuntimeWarning: Channels contain different highpass filters. Highest filter setting will be stored.\n",
      "  raw = mne.io.read_raw_edf(file_path, preload=True)\n",
      "C:\\Users\\naikh\\anaconda3\\envs\\PytorchEnvironment\\Lib\\site-packages\\pyedflib\\edfwriter.py:134: UserWarning: Physical minimum for channel 0 (PSG_F3) is 0.00021994461364156556, which has 22 chars, however, EDF+ can only save 8 chars, will be truncated to 0.000219, some loss of precision is to be expected\n",
      "  warnings.warn('Physical minimum for channel {} ({}) is {}, which has {} chars, '\\\n",
      "C:\\Users\\naikh\\anaconda3\\envs\\PytorchEnvironment\\Lib\\site-packages\\pyedflib\\edfwriter.py:141: UserWarning: Physical maximum for channel 0 (PSG_F3) is 0.001434641, which has 11 chars, however, EDF+ can only save 8 chars, will be truncated to 0.001434, some loss of precision is to be expected.\n",
      "  warnings.warn('Physical maximum for channel {} ({}) is {}, which has {} chars, '\\\n",
      "C:\\Users\\naikh\\anaconda3\\envs\\PytorchEnvironment\\Lib\\site-packages\\pyedflib\\edfwriter.py:134: UserWarning: Physical minimum for channel 1 (PSG_F4) is 3.574081846341647e-05, which has 21 chars, however, EDF+ can only save 8 chars, will be truncated to 3.574081, some loss of precision is to be expected\n",
      "  warnings.warn('Physical minimum for channel {} ({}) is {}, which has {} chars, '\\\n",
      "C:\\Users\\naikh\\anaconda3\\envs\\PytorchEnvironment\\Lib\\site-packages\\pyedflib\\edfwriter.py:141: UserWarning: Physical maximum for channel 1 (PSG_F4) is 0.001317452, which has 11 chars, however, EDF+ can only save 8 chars, will be truncated to 0.001317, some loss of precision is to be expected.\n",
      "  warnings.warn('Physical maximum for channel {} ({}) is {}, which has {} chars, '\\\n",
      "C:\\Users\\naikh\\anaconda3\\envs\\PytorchEnvironment\\Lib\\site-packages\\pyedflib\\edfwriter.py:134: UserWarning: Physical minimum for channel 2 (PSG_C3) is 3.370407235828179e-05, which has 21 chars, however, EDF+ can only save 8 chars, will be truncated to 3.370407, some loss of precision is to be expected\n",
      "  warnings.warn('Physical minimum for channel {} ({}) is {}, which has {} chars, '\\\n",
      "C:\\Users\\naikh\\anaconda3\\envs\\PytorchEnvironment\\Lib\\site-packages\\pyedflib\\edfwriter.py:141: UserWarning: Physical maximum for channel 2 (PSG_C3) is 0.002368542, which has 11 chars, however, EDF+ can only save 8 chars, will be truncated to 0.002368, some loss of precision is to be expected.\n",
      "  warnings.warn('Physical maximum for channel {} ({}) is {}, which has {} chars, '\\\n",
      "C:\\Users\\naikh\\anaconda3\\envs\\PytorchEnvironment\\Lib\\site-packages\\pyedflib\\edfwriter.py:134: UserWarning: Physical minimum for channel 3 (PSG_C4) is -0.00047536133863126565, which has 23 chars, however, EDF+ can only save 8 chars, will be truncated to -0.00047, some loss of precision is to be expected\n",
      "  warnings.warn('Physical minimum for channel {} ({}) is {}, which has {} chars, '\\\n",
      "C:\\Users\\naikh\\anaconda3\\envs\\PytorchEnvironment\\Lib\\site-packages\\pyedflib\\edfwriter.py:141: UserWarning: Physical maximum for channel 3 (PSG_C4) is 0.0007928343999999998, which has 21 chars, however, EDF+ can only save 8 chars, will be truncated to 0.000792, some loss of precision is to be expected.\n",
      "  warnings.warn('Physical maximum for channel {} ({}) is {}, which has {} chars, '\\\n",
      "C:\\Users\\naikh\\anaconda3\\envs\\PytorchEnvironment\\Lib\\site-packages\\pyedflib\\edfwriter.py:134: UserWarning: Physical minimum for channel 4 (PSG_O1) is 0.00031985496955825134, which has 22 chars, however, EDF+ can only save 8 chars, will be truncated to 0.000319, some loss of precision is to be expected\n",
      "  warnings.warn('Physical minimum for channel {} ({}) is {}, which has {} chars, '\\\n",
      "C:\\Users\\naikh\\anaconda3\\envs\\PytorchEnvironment\\Lib\\site-packages\\pyedflib\\edfwriter.py:134: UserWarning: Physical minimum for channel 5 (PSG_O2) is 0.00010721253650720984, which has 22 chars, however, EDF+ can only save 8 chars, will be truncated to 0.000107, some loss of precision is to be expected\n",
      "  warnings.warn('Physical minimum for channel {} ({}) is {}, which has {} chars, '\\\n"
     ]
    },
    {
     "name": "stdout",
     "output_type": "stream",
     "text": [
      "Extracting EDF parameters from C:\\Users\\naikh\\SleepResearchCode_experient\\Dataset_clean_for_jupyter\\sub-102\\eeg\\sub-102_task-Sleep_acq-psg_eeg.edf...\n",
      "EDF file detected\n",
      "Setting channel info structure...\n",
      "Creating raw.info structure...\n",
      "Reading 0 ... 7400959  =      0.000 ... 28909.996 secs...\n"
     ]
    },
    {
     "name": "stderr",
     "output_type": "stream",
     "text": [
      "C:\\Users\\naikh\\AppData\\Local\\Temp\\ipykernel_16604\\791336486.py:6: RuntimeWarning: Channels contain different highpass filters. Highest filter setting will be stored.\n",
      "  raw = mne.io.read_raw_edf(file_path, preload=True)\n"
     ]
    },
    {
     "name": "stdout",
     "output_type": "stream",
     "text": [
      "Extracting EDF parameters from C:\\Users\\naikh\\SleepResearchCode_experient\\Dataset_clean_for_jupyter\\sub-103\\eeg\\sub-103_task-Sleep_acq-psg_eeg.edf...\n",
      "EDF file detected\n",
      "Setting channel info structure...\n",
      "Creating raw.info structure...\n",
      "Reading 0 ... 6590207  =      0.000 ... 25742.996 secs...\n"
     ]
    },
    {
     "name": "stderr",
     "output_type": "stream",
     "text": [
      "C:\\Users\\naikh\\AppData\\Local\\Temp\\ipykernel_16604\\791336486.py:6: RuntimeWarning: Channels contain different highpass filters. Highest filter setting will be stored.\n",
      "  raw = mne.io.read_raw_edf(file_path, preload=True)\n",
      "C:\\Users\\naikh\\anaconda3\\envs\\PytorchEnvironment\\Lib\\site-packages\\pyedflib\\edfwriter.py:134: UserWarning: Physical minimum for channel 4 (PSG_O1) is -0.002168062360418097, which has 21 chars, however, EDF+ can only save 8 chars, will be truncated to -0.00216, some loss of precision is to be expected\n",
      "  warnings.warn('Physical minimum for channel {} ({}) is {}, which has {} chars, '\\\n",
      "C:\\Users\\naikh\\anaconda3\\envs\\PytorchEnvironment\\Lib\\site-packages\\pyedflib\\edfwriter.py:134: UserWarning: Physical minimum for channel 5 (PSG_O2) is -0.002517184396124209, which has 21 chars, however, EDF+ can only save 8 chars, will be truncated to -0.00251, some loss of precision is to be expected\n",
      "  warnings.warn('Physical minimum for channel {} ({}) is {}, which has {} chars, '\\\n"
     ]
    },
    {
     "name": "stdout",
     "output_type": "stream",
     "text": [
      "Extracting EDF parameters from C:\\Users\\naikh\\SleepResearchCode_experient\\Dataset_clean_for_jupyter\\sub-104\\eeg\\sub-104_task-Sleep_acq-psg_eeg.edf...\n",
      "EDF file detected\n",
      "Setting channel info structure...\n",
      "Creating raw.info structure...\n",
      "Reading 0 ... 6443519  =      0.000 ... 25169.996 secs...\n"
     ]
    },
    {
     "name": "stderr",
     "output_type": "stream",
     "text": [
      "C:\\Users\\naikh\\AppData\\Local\\Temp\\ipykernel_16604\\791336486.py:6: RuntimeWarning: Channels contain different highpass filters. Highest filter setting will be stored.\n",
      "  raw = mne.io.read_raw_edf(file_path, preload=True)\n",
      "C:\\Users\\naikh\\anaconda3\\envs\\PytorchEnvironment\\Lib\\site-packages\\pyedflib\\edfwriter.py:134: UserWarning: Physical minimum for channel 0 (PSG_F3) is -0.0027957381107362477, which has 22 chars, however, EDF+ can only save 8 chars, will be truncated to -0.00279, some loss of precision is to be expected\n",
      "  warnings.warn('Physical minimum for channel {} ({}) is {}, which has {} chars, '\\\n",
      "C:\\Users\\naikh\\anaconda3\\envs\\PytorchEnvironment\\Lib\\site-packages\\pyedflib\\edfwriter.py:141: UserWarning: Physical maximum for channel 0 (PSG_F3) is -0.0007276915038925764, which has 22 chars, however, EDF+ can only save 8 chars, will be truncated to -0.00072, some loss of precision is to be expected.\n",
      "  warnings.warn('Physical maximum for channel {} ({}) is {}, which has {} chars, '\\\n",
      "C:\\Users\\naikh\\anaconda3\\envs\\PytorchEnvironment\\Lib\\site-packages\\pyedflib\\edfwriter.py:134: UserWarning: Physical minimum for channel 2 (PSG_C3) is -0.002840266754177157, which has 21 chars, however, EDF+ can only save 8 chars, will be truncated to -0.00284, some loss of precision is to be expected\n",
      "  warnings.warn('Physical minimum for channel {} ({}) is {}, which has {} chars, '\\\n",
      "C:\\Users\\naikh\\anaconda3\\envs\\PytorchEnvironment\\Lib\\site-packages\\pyedflib\\edfwriter.py:141: UserWarning: Physical maximum for channel 2 (PSG_C3) is 0.00018389551087205302, which has 22 chars, however, EDF+ can only save 8 chars, will be truncated to 0.000183, some loss of precision is to be expected.\n",
      "  warnings.warn('Physical maximum for channel {} ({}) is {}, which has {} chars, '\\\n",
      "C:\\Users\\naikh\\anaconda3\\envs\\PytorchEnvironment\\Lib\\site-packages\\pyedflib\\edfwriter.py:134: UserWarning: Physical minimum for channel 3 (PSG_C4) is -0.003185754116456855, which has 21 chars, however, EDF+ can only save 8 chars, will be truncated to -0.00318, some loss of precision is to be expected\n",
      "  warnings.warn('Physical minimum for channel {} ({}) is {}, which has {} chars, '\\\n",
      "C:\\Users\\naikh\\anaconda3\\envs\\PytorchEnvironment\\Lib\\site-packages\\pyedflib\\edfwriter.py:141: UserWarning: Physical maximum for channel 3 (PSG_C4) is 0.003190332, which has 11 chars, however, EDF+ can only save 8 chars, will be truncated to 0.003190, some loss of precision is to be expected.\n",
      "  warnings.warn('Physical maximum for channel {} ({}) is {}, which has {} chars, '\\\n",
      "C:\\Users\\naikh\\anaconda3\\envs\\PytorchEnvironment\\Lib\\site-packages\\pyedflib\\edfwriter.py:134: UserWarning: Physical minimum for channel 4 (PSG_O1) is -0.0023240048311284046, which has 22 chars, however, EDF+ can only save 8 chars, will be truncated to -0.00232, some loss of precision is to be expected\n",
      "  warnings.warn('Physical minimum for channel {} ({}) is {}, which has {} chars, '\\\n",
      "C:\\Users\\naikh\\anaconda3\\envs\\PytorchEnvironment\\Lib\\site-packages\\pyedflib\\edfwriter.py:141: UserWarning: Physical maximum for channel 4 (PSG_O1) is 0.002745696, which has 11 chars, however, EDF+ can only save 8 chars, will be truncated to 0.002745, some loss of precision is to be expected.\n",
      "  warnings.warn('Physical maximum for channel {} ({}) is {}, which has {} chars, '\\\n",
      "C:\\Users\\naikh\\anaconda3\\envs\\PytorchEnvironment\\Lib\\site-packages\\pyedflib\\edfwriter.py:134: UserWarning: Physical minimum for channel 5 (PSG_O2) is -0.0028528468962081333, which has 22 chars, however, EDF+ can only save 8 chars, will be truncated to -0.00285, some loss of precision is to be expected\n",
      "  warnings.warn('Physical minimum for channel {} ({}) is {}, which has {} chars, '\\\n",
      "C:\\Users\\naikh\\anaconda3\\envs\\PytorchEnvironment\\Lib\\site-packages\\pyedflib\\edfwriter.py:141: UserWarning: Physical maximum for channel 5 (PSG_O2) is 0.0011696892512703132, which has 21 chars, however, EDF+ can only save 8 chars, will be truncated to 0.001169, some loss of precision is to be expected.\n",
      "  warnings.warn('Physical maximum for channel {} ({}) is {}, which has {} chars, '\\\n"
     ]
    },
    {
     "name": "stdout",
     "output_type": "stream",
     "text": [
      "Extracting EDF parameters from C:\\Users\\naikh\\SleepResearchCode_experient\\Dataset_clean_for_jupyter\\sub-105\\eeg\\sub-105_task-Sleep_acq-psg_eeg.edf...\n",
      "EDF file detected\n",
      "Setting channel info structure...\n",
      "Creating raw.info structure...\n",
      "Reading 0 ... 7474175  =      0.000 ... 29195.996 secs...\n"
     ]
    },
    {
     "name": "stderr",
     "output_type": "stream",
     "text": [
      "C:\\Users\\naikh\\AppData\\Local\\Temp\\ipykernel_16604\\791336486.py:6: RuntimeWarning: Channels contain different highpass filters. Highest filter setting will be stored.\n",
      "  raw = mne.io.read_raw_edf(file_path, preload=True)\n"
     ]
    },
    {
     "name": "stdout",
     "output_type": "stream",
     "text": [
      "Extracting EDF parameters from C:\\Users\\naikh\\SleepResearchCode_experient\\Dataset_clean_for_jupyter\\sub-106\\eeg\\sub-106_task-Sleep_acq-psg_eeg.edf...\n",
      "EDF file detected\n",
      "Setting channel info structure...\n",
      "Creating raw.info structure...\n",
      "Reading 0 ... 6747903  =      0.000 ... 26358.996 secs...\n"
     ]
    },
    {
     "name": "stderr",
     "output_type": "stream",
     "text": [
      "C:\\Users\\naikh\\AppData\\Local\\Temp\\ipykernel_16604\\791336486.py:6: RuntimeWarning: Channels contain different highpass filters. Highest filter setting will be stored.\n",
      "  raw = mne.io.read_raw_edf(file_path, preload=True)\n",
      "C:\\Users\\naikh\\anaconda3\\envs\\PytorchEnvironment\\Lib\\site-packages\\pyedflib\\edfwriter.py:134: UserWarning: Physical minimum for channel 0 (PSG_F3) is -0.000855995543230335, which has 21 chars, however, EDF+ can only save 8 chars, will be truncated to -0.00085, some loss of precision is to be expected\n",
      "  warnings.warn('Physical minimum for channel {} ({}) is {}, which has {} chars, '\\\n",
      "C:\\Users\\naikh\\anaconda3\\envs\\PytorchEnvironment\\Lib\\site-packages\\pyedflib\\edfwriter.py:141: UserWarning: Physical maximum for channel 0 (PSG_F3) is 0.0005242711541710535, which has 21 chars, however, EDF+ can only save 8 chars, will be truncated to 0.000524, some loss of precision is to be expected.\n",
      "  warnings.warn('Physical maximum for channel {} ({}) is {}, which has {} chars, '\\\n",
      "C:\\Users\\naikh\\anaconda3\\envs\\PytorchEnvironment\\Lib\\site-packages\\pyedflib\\edfwriter.py:134: UserWarning: Physical minimum for channel 1 (PSG_F4) is -0.000322024827862974, which has 21 chars, however, EDF+ can only save 8 chars, will be truncated to -0.00032, some loss of precision is to be expected\n",
      "  warnings.warn('Physical minimum for channel {} ({}) is {}, which has {} chars, '\\\n",
      "C:\\Users\\naikh\\anaconda3\\envs\\PytorchEnvironment\\Lib\\site-packages\\pyedflib\\edfwriter.py:141: UserWarning: Physical maximum for channel 1 (PSG_F4) is 0.0006270115000000001, which has 21 chars, however, EDF+ can only save 8 chars, will be truncated to 0.000627, some loss of precision is to be expected.\n",
      "  warnings.warn('Physical maximum for channel {} ({}) is {}, which has {} chars, '\\\n",
      "C:\\Users\\naikh\\anaconda3\\envs\\PytorchEnvironment\\Lib\\site-packages\\pyedflib\\edfwriter.py:134: UserWarning: Physical minimum for channel 2 (PSG_C3) is -0.0003717328329411764, which has 22 chars, however, EDF+ can only save 8 chars, will be truncated to -0.00037, some loss of precision is to be expected\n",
      "  warnings.warn('Physical minimum for channel {} ({}) is {}, which has {} chars, '\\\n",
      "C:\\Users\\naikh\\anaconda3\\envs\\PytorchEnvironment\\Lib\\site-packages\\pyedflib\\edfwriter.py:141: UserWarning: Physical maximum for channel 2 (PSG_C3) is 0.00044722359999999994, which has 22 chars, however, EDF+ can only save 8 chars, will be truncated to 0.000447, some loss of precision is to be expected.\n",
      "  warnings.warn('Physical maximum for channel {} ({}) is {}, which has {} chars, '\\\n",
      "C:\\Users\\naikh\\anaconda3\\envs\\PytorchEnvironment\\Lib\\site-packages\\pyedflib\\edfwriter.py:134: UserWarning: Physical minimum for channel 3 (PSG_C4) is -0.0015943755507438775, which has 22 chars, however, EDF+ can only save 8 chars, will be truncated to -0.00159, some loss of precision is to be expected\n",
      "  warnings.warn('Physical minimum for channel {} ({}) is {}, which has {} chars, '\\\n",
      "C:\\Users\\naikh\\anaconda3\\envs\\PytorchEnvironment\\Lib\\site-packages\\pyedflib\\edfwriter.py:141: UserWarning: Physical maximum for channel 3 (PSG_C4) is 3.966585580224205e-06, which has 21 chars, however, EDF+ can only save 8 chars, will be truncated to 3.966585, some loss of precision is to be expected.\n",
      "  warnings.warn('Physical maximum for channel {} ({}) is {}, which has {} chars, '\\\n",
      "C:\\Users\\naikh\\anaconda3\\envs\\PytorchEnvironment\\Lib\\site-packages\\pyedflib\\edfwriter.py:134: UserWarning: Physical minimum for channel 4 (PSG_O1) is -0.0002046835688715953, which has 22 chars, however, EDF+ can only save 8 chars, will be truncated to -0.00020, some loss of precision is to be expected\n",
      "  warnings.warn('Physical minimum for channel {} ({}) is {}, which has {} chars, '\\\n",
      "C:\\Users\\naikh\\anaconda3\\envs\\PytorchEnvironment\\Lib\\site-packages\\pyedflib\\edfwriter.py:141: UserWarning: Physical maximum for channel 4 (PSG_O1) is 0.0006743755000000001, which has 21 chars, however, EDF+ can only save 8 chars, will be truncated to 0.000674, some loss of precision is to be expected.\n",
      "  warnings.warn('Physical maximum for channel {} ({}) is {}, which has {} chars, '\\\n",
      "C:\\Users\\naikh\\anaconda3\\envs\\PytorchEnvironment\\Lib\\site-packages\\pyedflib\\edfwriter.py:134: UserWarning: Physical minimum for channel 5 (PSG_O2) is -0.0005056084262134736, which has 22 chars, however, EDF+ can only save 8 chars, will be truncated to -0.00050, some loss of precision is to be expected\n",
      "  warnings.warn('Physical minimum for channel {} ({}) is {}, which has {} chars, '\\\n",
      "C:\\Users\\naikh\\anaconda3\\envs\\PytorchEnvironment\\Lib\\site-packages\\pyedflib\\edfwriter.py:141: UserWarning: Physical maximum for channel 5 (PSG_O2) is 0.0003964360908308538, which has 21 chars, however, EDF+ can only save 8 chars, will be truncated to 0.000396, some loss of precision is to be expected.\n",
      "  warnings.warn('Physical maximum for channel {} ({}) is {}, which has {} chars, '\\\n"
     ]
    },
    {
     "name": "stdout",
     "output_type": "stream",
     "text": [
      "Extracting EDF parameters from C:\\Users\\naikh\\SleepResearchCode_experient\\Dataset_clean_for_jupyter\\sub-107\\eeg\\sub-107_task-Sleep_acq-psg_eeg.edf...\n",
      "EDF file detected\n",
      "Setting channel info structure...\n",
      "Creating raw.info structure...\n",
      "Reading 0 ... 7315711  =      0.000 ... 28576.996 secs...\n"
     ]
    },
    {
     "name": "stderr",
     "output_type": "stream",
     "text": [
      "C:\\Users\\naikh\\AppData\\Local\\Temp\\ipykernel_16604\\791336486.py:6: RuntimeWarning: Channels contain different highpass filters. Highest filter setting will be stored.\n",
      "  raw = mne.io.read_raw_edf(file_path, preload=True)\n",
      "C:\\Users\\naikh\\anaconda3\\envs\\PytorchEnvironment\\Lib\\site-packages\\pyedflib\\edfwriter.py:134: UserWarning: Physical minimum for channel 0 (PSG_F3) is -0.0014035540381139848, which has 22 chars, however, EDF+ can only save 8 chars, will be truncated to -0.00140, some loss of precision is to be expected\n",
      "  warnings.warn('Physical minimum for channel {} ({}) is {}, which has {} chars, '\\\n",
      "C:\\Users\\naikh\\anaconda3\\envs\\PytorchEnvironment\\Lib\\site-packages\\pyedflib\\edfwriter.py:141: UserWarning: Physical maximum for channel 0 (PSG_F3) is 0.0005750329685511561, which has 21 chars, however, EDF+ can only save 8 chars, will be truncated to 0.000575, some loss of precision is to be expected.\n",
      "  warnings.warn('Physical maximum for channel {} ({}) is {}, which has {} chars, '\\\n",
      "C:\\Users\\naikh\\anaconda3\\envs\\PytorchEnvironment\\Lib\\site-packages\\pyedflib\\edfwriter.py:134: UserWarning: Physical minimum for channel 1 (PSG_F4) is -0.002238026486881819, which has 21 chars, however, EDF+ can only save 8 chars, will be truncated to -0.00223, some loss of precision is to be expected\n",
      "  warnings.warn('Physical minimum for channel {} ({}) is {}, which has {} chars, '\\\n",
      "C:\\Users\\naikh\\anaconda3\\envs\\PytorchEnvironment\\Lib\\site-packages\\pyedflib\\edfwriter.py:141: UserWarning: Physical maximum for channel 1 (PSG_F4) is -0.00042135380281986735, which has 23 chars, however, EDF+ can only save 8 chars, will be truncated to -0.00042, some loss of precision is to be expected.\n",
      "  warnings.warn('Physical maximum for channel {} ({}) is {}, which has {} chars, '\\\n",
      "C:\\Users\\naikh\\anaconda3\\envs\\PytorchEnvironment\\Lib\\site-packages\\pyedflib\\edfwriter.py:134: UserWarning: Physical minimum for channel 2 (PSG_C3) is -0.0014820682119859616, which has 22 chars, however, EDF+ can only save 8 chars, will be truncated to -0.00148, some loss of precision is to be expected\n",
      "  warnings.warn('Physical minimum for channel {} ({}) is {}, which has {} chars, '\\\n",
      "C:\\Users\\naikh\\anaconda3\\envs\\PytorchEnvironment\\Lib\\site-packages\\pyedflib\\edfwriter.py:141: UserWarning: Physical maximum for channel 2 (PSG_C3) is -1.8007649423971883e-05, which has 23 chars, however, EDF+ can only save 8 chars, will be truncated to -1.80076, some loss of precision is to be expected.\n",
      "  warnings.warn('Physical maximum for channel {} ({}) is {}, which has {} chars, '\\\n",
      "C:\\Users\\naikh\\anaconda3\\envs\\PytorchEnvironment\\Lib\\site-packages\\pyedflib\\edfwriter.py:134: UserWarning: Physical minimum for channel 3 (PSG_C4) is -0.0014657584129884793, which has 22 chars, however, EDF+ can only save 8 chars, will be truncated to -0.00146, some loss of precision is to be expected\n",
      "  warnings.warn('Physical minimum for channel {} ({}) is {}, which has {} chars, '\\\n",
      "C:\\Users\\naikh\\anaconda3\\envs\\PytorchEnvironment\\Lib\\site-packages\\pyedflib\\edfwriter.py:141: UserWarning: Physical maximum for channel 3 (PSG_C4) is -4.069454874494624e-06, which has 22 chars, however, EDF+ can only save 8 chars, will be truncated to -4.06945, some loss of precision is to be expected.\n",
      "  warnings.warn('Physical maximum for channel {} ({}) is {}, which has {} chars, '\\\n",
      "C:\\Users\\naikh\\anaconda3\\envs\\PytorchEnvironment\\Lib\\site-packages\\pyedflib\\edfwriter.py:134: UserWarning: Physical minimum for channel 4 (PSG_O1) is -0.001724862352025635, which has 21 chars, however, EDF+ can only save 8 chars, will be truncated to -0.00172, some loss of precision is to be expected\n",
      "  warnings.warn('Physical minimum for channel {} ({}) is {}, which has {} chars, '\\\n",
      "C:\\Users\\naikh\\anaconda3\\envs\\PytorchEnvironment\\Lib\\site-packages\\pyedflib\\edfwriter.py:141: UserWarning: Physical maximum for channel 4 (PSG_O1) is 0.003199999999999999, which has 20 chars, however, EDF+ can only save 8 chars, will be truncated to 0.003199, some loss of precision is to be expected.\n",
      "  warnings.warn('Physical maximum for channel {} ({}) is {}, which has {} chars, '\\\n",
      "C:\\Users\\naikh\\anaconda3\\envs\\PytorchEnvironment\\Lib\\site-packages\\pyedflib\\edfwriter.py:134: UserWarning: Physical minimum for channel 5 (PSG_O2) is -0.0008166020582894637, which has 22 chars, however, EDF+ can only save 8 chars, will be truncated to -0.00081, some loss of precision is to be expected\n",
      "  warnings.warn('Physical minimum for channel {} ({}) is {}, which has {} chars, '\\\n"
     ]
    },
    {
     "name": "stdout",
     "output_type": "stream",
     "text": [
      "Extracting EDF parameters from C:\\Users\\naikh\\SleepResearchCode_experient\\Dataset_clean_for_jupyter\\sub-108\\eeg\\sub-108_task-Sleep_acq-psg_eeg.edf...\n",
      "EDF file detected\n",
      "Setting channel info structure...\n",
      "Creating raw.info structure...\n",
      "Reading 0 ... 7688447  =      0.000 ... 30032.996 secs...\n"
     ]
    },
    {
     "name": "stderr",
     "output_type": "stream",
     "text": [
      "C:\\Users\\naikh\\AppData\\Local\\Temp\\ipykernel_16604\\791336486.py:6: RuntimeWarning: Channels contain different highpass filters. Highest filter setting will be stored.\n",
      "  raw = mne.io.read_raw_edf(file_path, preload=True)\n",
      "C:\\Users\\naikh\\anaconda3\\envs\\PytorchEnvironment\\Lib\\site-packages\\pyedflib\\edfwriter.py:134: UserWarning: Physical minimum for channel 0 (PSG_F3) is -0.0031999023437552453, which has 22 chars, however, EDF+ can only save 8 chars, will be truncated to -0.00319, some loss of precision is to be expected\n",
      "  warnings.warn('Physical minimum for channel {} ({}) is {}, which has {} chars, '\\\n",
      "C:\\Users\\naikh\\anaconda3\\envs\\PytorchEnvironment\\Lib\\site-packages\\pyedflib\\edfwriter.py:141: UserWarning: Physical maximum for channel 0 (PSG_F3) is 0.0031998043437552453, which has 21 chars, however, EDF+ can only save 8 chars, will be truncated to 0.003199, some loss of precision is to be expected.\n",
      "  warnings.warn('Physical maximum for channel {} ({}) is {}, which has {} chars, '\\\n",
      "C:\\Users\\naikh\\anaconda3\\envs\\PytorchEnvironment\\Lib\\site-packages\\pyedflib\\edfwriter.py:134: UserWarning: Physical minimum for channel 3 (PSG_C4) is -0.0031996046936140997, which has 22 chars, however, EDF+ can only save 8 chars, will be truncated to -0.00319, some loss of precision is to be expected\n",
      "  warnings.warn('Physical minimum for channel {} ({}) is {}, which has {} chars, '\\\n",
      "C:\\Users\\naikh\\anaconda3\\envs\\PytorchEnvironment\\Lib\\site-packages\\pyedflib\\edfwriter.py:141: UserWarning: Physical maximum for channel 3 (PSG_C4) is 0.0031999019999999993, which has 21 chars, however, EDF+ can only save 8 chars, will be truncated to 0.003199, some loss of precision is to be expected.\n",
      "  warnings.warn('Physical maximum for channel {} ({}) is {}, which has {} chars, '\\\n",
      "C:\\Users\\naikh\\anaconda3\\envs\\PytorchEnvironment\\Lib\\site-packages\\pyedflib\\edfwriter.py:134: UserWarning: Physical minimum for channel 5 (PSG_O2) is -0.0031998023557030597, which has 22 chars, however, EDF+ can only save 8 chars, will be truncated to -0.00319, some loss of precision is to be expected\n",
      "  warnings.warn('Physical minimum for channel {} ({}) is {}, which has {} chars, '\\\n",
      "C:\\Users\\naikh\\anaconda3\\envs\\PytorchEnvironment\\Lib\\site-packages\\pyedflib\\edfwriter.py:141: UserWarning: Physical maximum for channel 5 (PSG_O2) is 0.003198535489921416, which has 20 chars, however, EDF+ can only save 8 chars, will be truncated to 0.003198, some loss of precision is to be expected.\n",
      "  warnings.warn('Physical maximum for channel {} ({}) is {}, which has {} chars, '\\\n"
     ]
    },
    {
     "name": "stdout",
     "output_type": "stream",
     "text": [
      "Extracting EDF parameters from C:\\Users\\naikh\\SleepResearchCode_experient\\Dataset_clean_for_jupyter\\sub-109\\eeg\\sub-109_task-Sleep_acq-psg_eeg.edf...\n",
      "EDF file detected\n",
      "Setting channel info structure...\n",
      "Creating raw.info structure...\n",
      "Reading 0 ... 6479103  =      0.000 ... 25308.996 secs...\n"
     ]
    },
    {
     "name": "stderr",
     "output_type": "stream",
     "text": [
      "C:\\Users\\naikh\\AppData\\Local\\Temp\\ipykernel_16604\\791336486.py:6: RuntimeWarning: Channels contain different highpass filters. Highest filter setting will be stored.\n",
      "  raw = mne.io.read_raw_edf(file_path, preload=True)\n",
      "C:\\Users\\naikh\\anaconda3\\envs\\PytorchEnvironment\\Lib\\site-packages\\pyedflib\\edfwriter.py:134: UserWarning: Physical minimum for channel 0 (PSG_F3) is -0.0005539910923323415, which has 22 chars, however, EDF+ can only save 8 chars, will be truncated to -0.00055, some loss of precision is to be expected\n",
      "  warnings.warn('Physical minimum for channel {} ({}) is {}, which has {} chars, '\\\n",
      "C:\\Users\\naikh\\anaconda3\\envs\\PytorchEnvironment\\Lib\\site-packages\\pyedflib\\edfwriter.py:141: UserWarning: Physical maximum for channel 0 (PSG_F3) is 0.000942739, which has 11 chars, however, EDF+ can only save 8 chars, will be truncated to 0.000942, some loss of precision is to be expected.\n",
      "  warnings.warn('Physical maximum for channel {} ({}) is {}, which has {} chars, '\\\n",
      "C:\\Users\\naikh\\anaconda3\\envs\\PytorchEnvironment\\Lib\\site-packages\\pyedflib\\edfwriter.py:134: UserWarning: Physical minimum for channel 1 (PSG_F4) is -9.602011488517587e-05, which has 22 chars, however, EDF+ can only save 8 chars, will be truncated to -9.60201, some loss of precision is to be expected\n",
      "  warnings.warn('Physical minimum for channel {} ({}) is {}, which has {} chars, '\\\n",
      "C:\\Users\\naikh\\anaconda3\\envs\\PytorchEnvironment\\Lib\\site-packages\\pyedflib\\edfwriter.py:141: UserWarning: Physical maximum for channel 1 (PSG_F4) is 0.0016823009999999998, which has 21 chars, however, EDF+ can only save 8 chars, will be truncated to 0.001682, some loss of precision is to be expected.\n",
      "  warnings.warn('Physical maximum for channel {} ({}) is {}, which has {} chars, '\\\n",
      "C:\\Users\\naikh\\anaconda3\\envs\\PytorchEnvironment\\Lib\\site-packages\\pyedflib\\edfwriter.py:134: UserWarning: Physical minimum for channel 2 (PSG_C3) is -0.0031987264588387884, which has 22 chars, however, EDF+ can only save 8 chars, will be truncated to -0.00319, some loss of precision is to be expected\n",
      "  warnings.warn('Physical minimum for channel {} ({}) is {}, which has {} chars, '\\\n",
      "C:\\Users\\naikh\\anaconda3\\envs\\PytorchEnvironment\\Lib\\site-packages\\pyedflib\\edfwriter.py:134: UserWarning: Physical minimum for channel 3 (PSG_C4) is -0.0007180317858823528, which has 22 chars, however, EDF+ can only save 8 chars, will be truncated to -0.00071, some loss of precision is to be expected\n",
      "  warnings.warn('Physical minimum for channel {} ({}) is {}, which has {} chars, '\\\n",
      "C:\\Users\\naikh\\anaconda3\\envs\\PytorchEnvironment\\Lib\\site-packages\\pyedflib\\edfwriter.py:141: UserWarning: Physical maximum for channel 3 (PSG_C4) is 0.0008240847999999999, which has 21 chars, however, EDF+ can only save 8 chars, will be truncated to 0.000824, some loss of precision is to be expected.\n",
      "  warnings.warn('Physical maximum for channel {} ({}) is {}, which has {} chars, '\\\n",
      "C:\\Users\\naikh\\anaconda3\\envs\\PytorchEnvironment\\Lib\\site-packages\\pyedflib\\edfwriter.py:134: UserWarning: Physical minimum for channel 4 (PSG_O1) is -0.0031966824971389335, which has 22 chars, however, EDF+ can only save 8 chars, will be truncated to -0.00319, some loss of precision is to be expected\n",
      "  warnings.warn('Physical minimum for channel {} ({}) is {}, which has {} chars, '\\\n",
      "C:\\Users\\naikh\\anaconda3\\envs\\PytorchEnvironment\\Lib\\site-packages\\pyedflib\\edfwriter.py:141: UserWarning: Physical maximum for channel 4 (PSG_O1) is 0.0031893648912794687, which has 21 chars, however, EDF+ can only save 8 chars, will be truncated to 0.003189, some loss of precision is to be expected.\n",
      "  warnings.warn('Physical maximum for channel {} ({}) is {}, which has {} chars, '\\\n",
      "C:\\Users\\naikh\\anaconda3\\envs\\PytorchEnvironment\\Lib\\site-packages\\pyedflib\\edfwriter.py:134: UserWarning: Physical minimum for channel 5 (PSG_O2) is -0.0007608270190676737, which has 22 chars, however, EDF+ can only save 8 chars, will be truncated to -0.00076, some loss of precision is to be expected\n",
      "  warnings.warn('Physical minimum for channel {} ({}) is {}, which has {} chars, '\\\n",
      "C:\\Users\\naikh\\anaconda3\\envs\\PytorchEnvironment\\Lib\\site-packages\\pyedflib\\edfwriter.py:141: UserWarning: Physical maximum for channel 5 (PSG_O2) is 0.0007748653, which has 12 chars, however, EDF+ can only save 8 chars, will be truncated to 0.000774, some loss of precision is to be expected.\n",
      "  warnings.warn('Physical maximum for channel {} ({}) is {}, which has {} chars, '\\\n"
     ]
    },
    {
     "name": "stdout",
     "output_type": "stream",
     "text": [
      "Extracting EDF parameters from C:\\Users\\naikh\\SleepResearchCode_experient\\Dataset_clean_for_jupyter\\sub-110\\eeg\\sub-110_task-Sleep_acq-psg_eeg.edf...\n",
      "EDF file detected\n",
      "Setting channel info structure...\n",
      "Creating raw.info structure...\n",
      "Reading 0 ... 7323903  =      0.000 ... 28608.996 secs...\n"
     ]
    },
    {
     "name": "stderr",
     "output_type": "stream",
     "text": [
      "C:\\Users\\naikh\\AppData\\Local\\Temp\\ipykernel_16604\\791336486.py:6: RuntimeWarning: Channels contain different highpass filters. Highest filter setting will be stored.\n",
      "  raw = mne.io.read_raw_edf(file_path, preload=True)\n",
      "C:\\Users\\naikh\\anaconda3\\envs\\PytorchEnvironment\\Lib\\site-packages\\pyedflib\\edfwriter.py:134: UserWarning: Physical minimum for channel 0 (PSG_F3) is 0.0006460189448386358, which has 21 chars, however, EDF+ can only save 8 chars, will be truncated to 0.000646, some loss of precision is to be expected\n",
      "  warnings.warn('Physical minimum for channel {} ({}) is {}, which has {} chars, '\\\n",
      "C:\\Users\\naikh\\anaconda3\\envs\\PytorchEnvironment\\Lib\\site-packages\\pyedflib\\edfwriter.py:141: UserWarning: Physical maximum for channel 0 (PSG_F3) is 0.003152538, which has 11 chars, however, EDF+ can only save 8 chars, will be truncated to 0.003152, some loss of precision is to be expected.\n",
      "  warnings.warn('Physical maximum for channel {} ({}) is {}, which has {} chars, '\\\n",
      "C:\\Users\\naikh\\anaconda3\\envs\\PytorchEnvironment\\Lib\\site-packages\\pyedflib\\edfwriter.py:134: UserWarning: Physical minimum for channel 1 (PSG_F4) is -0.000992031552307927, which has 21 chars, however, EDF+ can only save 8 chars, will be truncated to -0.00099, some loss of precision is to be expected\n",
      "  warnings.warn('Physical minimum for channel {} ({}) is {}, which has {} chars, '\\\n",
      "C:\\Users\\naikh\\anaconda3\\envs\\PytorchEnvironment\\Lib\\site-packages\\pyedflib\\edfwriter.py:141: UserWarning: Physical maximum for channel 1 (PSG_F4) is 0.00030171586449988567, which has 22 chars, however, EDF+ can only save 8 chars, will be truncated to 0.000301, some loss of precision is to be expected.\n",
      "  warnings.warn('Physical maximum for channel {} ({}) is {}, which has {} chars, '\\\n",
      "C:\\Users\\naikh\\anaconda3\\envs\\PytorchEnvironment\\Lib\\site-packages\\pyedflib\\edfwriter.py:134: UserWarning: Physical minimum for channel 2 (PSG_C3) is -0.00011116679101243608, which has 23 chars, however, EDF+ can only save 8 chars, will be truncated to -0.00011, some loss of precision is to be expected\n",
      "  warnings.warn('Physical minimum for channel {} ({}) is {}, which has {} chars, '\\\n",
      "C:\\Users\\naikh\\anaconda3\\envs\\PytorchEnvironment\\Lib\\site-packages\\pyedflib\\edfwriter.py:141: UserWarning: Physical maximum for channel 2 (PSG_C3) is 0.002216001, which has 11 chars, however, EDF+ can only save 8 chars, will be truncated to 0.002216, some loss of precision is to be expected.\n",
      "  warnings.warn('Physical maximum for channel {} ({}) is {}, which has {} chars, '\\\n",
      "C:\\Users\\naikh\\anaconda3\\envs\\PytorchEnvironment\\Lib\\site-packages\\pyedflib\\edfwriter.py:134: UserWarning: Physical minimum for channel 3 (PSG_C4) is -0.002203250983077744, which has 21 chars, however, EDF+ can only save 8 chars, will be truncated to -0.00220, some loss of precision is to be expected\n",
      "  warnings.warn('Physical minimum for channel {} ({}) is {}, which has {} chars, '\\\n",
      "C:\\Users\\naikh\\anaconda3\\envs\\PytorchEnvironment\\Lib\\site-packages\\pyedflib\\edfwriter.py:141: UserWarning: Physical maximum for channel 3 (PSG_C4) is 0.001191343368123903, which has 20 chars, however, EDF+ can only save 8 chars, will be truncated to 0.001191, some loss of precision is to be expected.\n",
      "  warnings.warn('Physical maximum for channel {} ({}) is {}, which has {} chars, '\\\n",
      "C:\\Users\\naikh\\anaconda3\\envs\\PytorchEnvironment\\Lib\\site-packages\\pyedflib\\edfwriter.py:134: UserWarning: Physical minimum for channel 4 (PSG_O1) is -0.0031720103964293887, which has 22 chars, however, EDF+ can only save 8 chars, will be truncated to -0.00317, some loss of precision is to be expected\n",
      "  warnings.warn('Physical minimum for channel {} ({}) is {}, which has {} chars, '\\\n",
      "C:\\Users\\naikh\\anaconda3\\envs\\PytorchEnvironment\\Lib\\site-packages\\pyedflib\\edfwriter.py:141: UserWarning: Physical maximum for channel 4 (PSG_O1) is 0.0031982420000000004, which has 21 chars, however, EDF+ can only save 8 chars, will be truncated to 0.003198, some loss of precision is to be expected.\n",
      "  warnings.warn('Physical maximum for channel {} ({}) is {}, which has {} chars, '\\\n",
      "C:\\Users\\naikh\\anaconda3\\envs\\PytorchEnvironment\\Lib\\site-packages\\pyedflib\\edfwriter.py:134: UserWarning: Physical minimum for channel 5 (PSG_O2) is -0.0008123359753566796, which has 22 chars, however, EDF+ can only save 8 chars, will be truncated to -0.00081, some loss of precision is to be expected\n",
      "  warnings.warn('Physical minimum for channel {} ({}) is {}, which has {} chars, '\\\n",
      "C:\\Users\\naikh\\anaconda3\\envs\\PytorchEnvironment\\Lib\\site-packages\\pyedflib\\edfwriter.py:141: UserWarning: Physical maximum for channel 5 (PSG_O2) is 0.0016731209999999999, which has 21 chars, however, EDF+ can only save 8 chars, will be truncated to 0.001673, some loss of precision is to be expected.\n",
      "  warnings.warn('Physical maximum for channel {} ({}) is {}, which has {} chars, '\\\n"
     ]
    },
    {
     "name": "stdout",
     "output_type": "stream",
     "text": [
      "Extracting EDF parameters from C:\\Users\\naikh\\SleepResearchCode_experient\\Dataset_clean_for_jupyter\\sub-111\\eeg\\sub-111_task-Sleep_acq-psg_eeg.edf...\n",
      "EDF file detected\n",
      "Setting channel info structure...\n",
      "Creating raw.info structure...\n",
      "Reading 0 ... 7385087  =      0.000 ... 28847.996 secs...\n"
     ]
    },
    {
     "name": "stderr",
     "output_type": "stream",
     "text": [
      "C:\\Users\\naikh\\AppData\\Local\\Temp\\ipykernel_16604\\791336486.py:6: RuntimeWarning: Channels contain different highpass filters. Highest filter setting will be stored.\n",
      "  raw = mne.io.read_raw_edf(file_path, preload=True)\n",
      "C:\\Users\\naikh\\anaconda3\\envs\\PytorchEnvironment\\Lib\\site-packages\\pyedflib\\edfwriter.py:134: UserWarning: Physical minimum for channel 1 (PSG_F4) is -0.0009159066828412298, which has 22 chars, however, EDF+ can only save 8 chars, will be truncated to -0.00091, some loss of precision is to be expected\n",
      "  warnings.warn('Physical minimum for channel {} ({}) is {}, which has {} chars, '\\\n",
      "C:\\Users\\naikh\\anaconda3\\envs\\PytorchEnvironment\\Lib\\site-packages\\pyedflib\\edfwriter.py:141: UserWarning: Physical maximum for channel 1 (PSG_F4) is 0.002641495, which has 11 chars, however, EDF+ can only save 8 chars, will be truncated to 0.002641, some loss of precision is to be expected.\n",
      "  warnings.warn('Physical maximum for channel {} ({}) is {}, which has {} chars, '\\\n",
      "C:\\Users\\naikh\\anaconda3\\envs\\PytorchEnvironment\\Lib\\site-packages\\pyedflib\\edfwriter.py:134: UserWarning: Physical minimum for channel 2 (PSG_C3) is -0.0014436527360952164, which has 22 chars, however, EDF+ can only save 8 chars, will be truncated to -0.00144, some loss of precision is to be expected\n",
      "  warnings.warn('Physical minimum for channel {} ({}) is {}, which has {} chars, '\\\n",
      "C:\\Users\\naikh\\anaconda3\\envs\\PytorchEnvironment\\Lib\\site-packages\\pyedflib\\edfwriter.py:141: UserWarning: Physical maximum for channel 2 (PSG_C3) is 0.001810135, which has 11 chars, however, EDF+ can only save 8 chars, will be truncated to 0.001810, some loss of precision is to be expected.\n",
      "  warnings.warn('Physical maximum for channel {} ({}) is {}, which has {} chars, '\\\n",
      "C:\\Users\\naikh\\anaconda3\\envs\\PytorchEnvironment\\Lib\\site-packages\\pyedflib\\edfwriter.py:134: UserWarning: Physical minimum for channel 3 (PSG_C4) is -0.0017055902704814223, which has 22 chars, however, EDF+ can only save 8 chars, will be truncated to -0.00170, some loss of precision is to be expected\n",
      "  warnings.warn('Physical minimum for channel {} ({}) is {}, which has {} chars, '\\\n",
      "C:\\Users\\naikh\\anaconda3\\envs\\PytorchEnvironment\\Lib\\site-packages\\pyedflib\\edfwriter.py:141: UserWarning: Physical maximum for channel 3 (PSG_C4) is 0.001407925158159762, which has 20 chars, however, EDF+ can only save 8 chars, will be truncated to 0.001407, some loss of precision is to be expected.\n",
      "  warnings.warn('Physical maximum for channel {} ({}) is {}, which has {} chars, '\\\n",
      "C:\\Users\\naikh\\anaconda3\\envs\\PytorchEnvironment\\Lib\\site-packages\\pyedflib\\edfwriter.py:134: UserWarning: Physical minimum for channel 4 (PSG_O1) is -0.0031983424420386052, which has 22 chars, however, EDF+ can only save 8 chars, will be truncated to -0.00319, some loss of precision is to be expected\n",
      "  warnings.warn('Physical minimum for channel {} ({}) is {}, which has {} chars, '\\\n",
      "C:\\Users\\naikh\\anaconda3\\envs\\PytorchEnvironment\\Lib\\site-packages\\pyedflib\\edfwriter.py:141: UserWarning: Physical maximum for channel 4 (PSG_O1) is 0.003191606471351187, which has 20 chars, however, EDF+ can only save 8 chars, will be truncated to 0.003191, some loss of precision is to be expected.\n",
      "  warnings.warn('Physical maximum for channel {} ({}) is {}, which has {} chars, '\\\n",
      "C:\\Users\\naikh\\anaconda3\\envs\\PytorchEnvironment\\Lib\\site-packages\\pyedflib\\edfwriter.py:134: UserWarning: Physical minimum for channel 5 (PSG_O2) is -0.001515128575112535, which has 21 chars, however, EDF+ can only save 8 chars, will be truncated to -0.00151, some loss of precision is to be expected\n",
      "  warnings.warn('Physical minimum for channel {} ({}) is {}, which has {} chars, '\\\n",
      "C:\\Users\\naikh\\anaconda3\\envs\\PytorchEnvironment\\Lib\\site-packages\\pyedflib\\edfwriter.py:141: UserWarning: Physical maximum for channel 5 (PSG_O2) is 0.00178992, which has 10 chars, however, EDF+ can only save 8 chars, will be truncated to 0.001789, some loss of precision is to be expected.\n",
      "  warnings.warn('Physical maximum for channel {} ({}) is {}, which has {} chars, '\\\n"
     ]
    },
    {
     "name": "stdout",
     "output_type": "stream",
     "text": [
      "Extracting EDF parameters from C:\\Users\\naikh\\SleepResearchCode_experient\\Dataset_clean_for_jupyter\\sub-112\\eeg\\sub-112_task-Sleep_acq-psg_eeg.edf...\n",
      "EDF file detected\n",
      "Setting channel info structure...\n",
      "Creating raw.info structure...\n",
      "Reading 0 ... 7061503  =      0.000 ... 27583.996 secs...\n"
     ]
    },
    {
     "name": "stderr",
     "output_type": "stream",
     "text": [
      "C:\\Users\\naikh\\AppData\\Local\\Temp\\ipykernel_16604\\791336486.py:6: RuntimeWarning: Channels contain different highpass filters. Highest filter setting will be stored.\n",
      "  raw = mne.io.read_raw_edf(file_path, preload=True)\n",
      "C:\\Users\\naikh\\anaconda3\\envs\\PytorchEnvironment\\Lib\\site-packages\\pyedflib\\edfwriter.py:134: UserWarning: Physical minimum for channel 0 (PSG_F3) is -0.0009530682391073473, which has 22 chars, however, EDF+ can only save 8 chars, will be truncated to -0.00095, some loss of precision is to be expected\n",
      "  warnings.warn('Physical minimum for channel {} ({}) is {}, which has {} chars, '\\\n",
      "C:\\Users\\naikh\\anaconda3\\envs\\PytorchEnvironment\\Lib\\site-packages\\pyedflib\\edfwriter.py:141: UserWarning: Physical maximum for channel 0 (PSG_F3) is 0.00021415585791256575, which has 22 chars, however, EDF+ can only save 8 chars, will be truncated to 0.000214, some loss of precision is to be expected.\n",
      "  warnings.warn('Physical maximum for channel {} ({}) is {}, which has {} chars, '\\\n",
      "C:\\Users\\naikh\\anaconda3\\envs\\PytorchEnvironment\\Lib\\site-packages\\pyedflib\\edfwriter.py:134: UserWarning: Physical minimum for channel 1 (PSG_F4) is -0.0009406640217959868, which has 22 chars, however, EDF+ can only save 8 chars, will be truncated to -0.00094, some loss of precision is to be expected\n",
      "  warnings.warn('Physical minimum for channel {} ({}) is {}, which has {} chars, '\\\n",
      "C:\\Users\\naikh\\anaconda3\\envs\\PytorchEnvironment\\Lib\\site-packages\\pyedflib\\edfwriter.py:141: UserWarning: Physical maximum for channel 1 (PSG_F4) is 0.0003718309312703134, which has 21 chars, however, EDF+ can only save 8 chars, will be truncated to 0.000371, some loss of precision is to be expected.\n",
      "  warnings.warn('Physical maximum for channel {} ({}) is {}, which has {} chars, '\\\n",
      "C:\\Users\\naikh\\anaconda3\\envs\\PytorchEnvironment\\Lib\\site-packages\\pyedflib\\edfwriter.py:134: UserWarning: Physical minimum for channel 2 (PSG_C3) is -0.0009313862810528725, which has 22 chars, however, EDF+ can only save 8 chars, will be truncated to -0.00093, some loss of precision is to be expected\n",
      "  warnings.warn('Physical minimum for channel {} ({}) is {}, which has {} chars, '\\\n",
      "C:\\Users\\naikh\\anaconda3\\envs\\PytorchEnvironment\\Lib\\site-packages\\pyedflib\\edfwriter.py:141: UserWarning: Physical maximum for channel 2 (PSG_C3) is 0.000477346515742733, which has 20 chars, however, EDF+ can only save 8 chars, will be truncated to 0.000477, some loss of precision is to be expected.\n",
      "  warnings.warn('Physical maximum for channel {} ({}) is {}, which has {} chars, '\\\n",
      "C:\\Users\\naikh\\anaconda3\\envs\\PytorchEnvironment\\Lib\\site-packages\\pyedflib\\edfwriter.py:134: UserWarning: Physical minimum for channel 3 (PSG_C4) is -0.0009253327026230258, which has 22 chars, however, EDF+ can only save 8 chars, will be truncated to -0.00092, some loss of precision is to be expected\n",
      "  warnings.warn('Physical minimum for channel {} ({}) is {}, which has {} chars, '\\\n",
      "C:\\Users\\naikh\\anaconda3\\envs\\PytorchEnvironment\\Lib\\site-packages\\pyedflib\\edfwriter.py:141: UserWarning: Physical maximum for channel 3 (PSG_C4) is 0.00033421668610666055, which has 22 chars, however, EDF+ can only save 8 chars, will be truncated to 0.000334, some loss of precision is to be expected.\n",
      "  warnings.warn('Physical maximum for channel {} ({}) is {}, which has {} chars, '\\\n",
      "C:\\Users\\naikh\\anaconda3\\envs\\PytorchEnvironment\\Lib\\site-packages\\pyedflib\\edfwriter.py:134: UserWarning: Physical minimum for channel 4 (PSG_O1) is -6.469976849011971e-05, which has 22 chars, however, EDF+ can only save 8 chars, will be truncated to -6.46997, some loss of precision is to be expected\n",
      "  warnings.warn('Physical minimum for channel {} ({}) is {}, which has {} chars, '\\\n",
      "C:\\Users\\naikh\\anaconda3\\envs\\PytorchEnvironment\\Lib\\site-packages\\pyedflib\\edfwriter.py:141: UserWarning: Physical maximum for channel 4 (PSG_O1) is 0.0019204880000000004, which has 21 chars, however, EDF+ can only save 8 chars, will be truncated to 0.001920, some loss of precision is to be expected.\n",
      "  warnings.warn('Physical maximum for channel {} ({}) is {}, which has {} chars, '\\\n",
      "C:\\Users\\naikh\\anaconda3\\envs\\PytorchEnvironment\\Lib\\site-packages\\pyedflib\\edfwriter.py:134: UserWarning: Physical minimum for channel 5 (PSG_O2) is -0.0006851989936858167, which has 22 chars, however, EDF+ can only save 8 chars, will be truncated to -0.00068, some loss of precision is to be expected\n",
      "  warnings.warn('Physical minimum for channel {} ({}) is {}, which has {} chars, '\\\n",
      "C:\\Users\\naikh\\anaconda3\\envs\\PytorchEnvironment\\Lib\\site-packages\\pyedflib\\edfwriter.py:141: UserWarning: Physical maximum for channel 5 (PSG_O2) is 0.0009295552, which has 12 chars, however, EDF+ can only save 8 chars, will be truncated to 0.000929, some loss of precision is to be expected.\n",
      "  warnings.warn('Physical maximum for channel {} ({}) is {}, which has {} chars, '\\\n"
     ]
    },
    {
     "name": "stdout",
     "output_type": "stream",
     "text": [
      "Extracting EDF parameters from C:\\Users\\naikh\\SleepResearchCode_experient\\Dataset_clean_for_jupyter\\sub-113\\eeg\\sub-113_task-Sleep_acq-psg_eeg.edf...\n",
      "EDF file detected\n",
      "Setting channel info structure...\n",
      "Creating raw.info structure...\n",
      "Reading 0 ... 7197951  =      0.000 ... 28116.996 secs...\n"
     ]
    },
    {
     "name": "stderr",
     "output_type": "stream",
     "text": [
      "C:\\Users\\naikh\\AppData\\Local\\Temp\\ipykernel_16604\\791336486.py:6: RuntimeWarning: Channels contain different highpass filters. Highest filter setting will be stored.\n",
      "  raw = mne.io.read_raw_edf(file_path, preload=True)\n",
      "C:\\Users\\naikh\\anaconda3\\envs\\PytorchEnvironment\\Lib\\site-packages\\pyedflib\\edfwriter.py:134: UserWarning: Physical minimum for channel 0 (PSG_F3) is -0.0004751486816662851, which has 22 chars, however, EDF+ can only save 8 chars, will be truncated to -0.00047, some loss of precision is to be expected\n",
      "  warnings.warn('Physical minimum for channel {} ({}) is {}, which has {} chars, '\\\n",
      "C:\\Users\\naikh\\anaconda3\\envs\\PytorchEnvironment\\Lib\\site-packages\\pyedflib\\edfwriter.py:141: UserWarning: Physical maximum for channel 0 (PSG_F3) is 0.0007156847000000001, which has 21 chars, however, EDF+ can only save 8 chars, will be truncated to 0.000715, some loss of precision is to be expected.\n",
      "  warnings.warn('Physical maximum for channel {} ({}) is {}, which has {} chars, '\\\n",
      "C:\\Users\\naikh\\anaconda3\\envs\\PytorchEnvironment\\Lib\\site-packages\\pyedflib\\edfwriter.py:134: UserWarning: Physical minimum for channel 1 (PSG_F4) is -0.0005532208405539024, which has 22 chars, however, EDF+ can only save 8 chars, will be truncated to -0.00055, some loss of precision is to be expected\n",
      "  warnings.warn('Physical minimum for channel {} ({}) is {}, which has {} chars, '\\\n",
      "C:\\Users\\naikh\\anaconda3\\envs\\PytorchEnvironment\\Lib\\site-packages\\pyedflib\\edfwriter.py:141: UserWarning: Physical maximum for channel 1 (PSG_F4) is 0.0006168551, which has 12 chars, however, EDF+ can only save 8 chars, will be truncated to 0.000616, some loss of precision is to be expected.\n",
      "  warnings.warn('Physical maximum for channel {} ({}) is {}, which has {} chars, '\\\n",
      "C:\\Users\\naikh\\anaconda3\\envs\\PytorchEnvironment\\Lib\\site-packages\\pyedflib\\edfwriter.py:134: UserWarning: Physical minimum for channel 2 (PSG_C3) is -0.00021141257648584722, which has 23 chars, however, EDF+ can only save 8 chars, will be truncated to -0.00021, some loss of precision is to be expected\n",
      "  warnings.warn('Physical minimum for channel {} ({}) is {}, which has {} chars, '\\\n",
      "C:\\Users\\naikh\\anaconda3\\envs\\PytorchEnvironment\\Lib\\site-packages\\pyedflib\\edfwriter.py:141: UserWarning: Physical maximum for channel 2 (PSG_C3) is 0.0014892320000000003, which has 21 chars, however, EDF+ can only save 8 chars, will be truncated to 0.001489, some loss of precision is to be expected.\n",
      "  warnings.warn('Physical maximum for channel {} ({}) is {}, which has {} chars, '\\\n",
      "C:\\Users\\naikh\\anaconda3\\envs\\PytorchEnvironment\\Lib\\site-packages\\pyedflib\\edfwriter.py:134: UserWarning: Physical minimum for channel 3 (PSG_C4) is -0.0004490485942320897, which has 22 chars, however, EDF+ can only save 8 chars, will be truncated to -0.00044, some loss of precision is to be expected\n",
      "  warnings.warn('Physical minimum for channel {} ({}) is {}, which has {} chars, '\\\n",
      "C:\\Users\\naikh\\anaconda3\\envs\\PytorchEnvironment\\Lib\\site-packages\\pyedflib\\edfwriter.py:141: UserWarning: Physical maximum for channel 3 (PSG_C4) is 0.0008111939999999999, which has 21 chars, however, EDF+ can only save 8 chars, will be truncated to 0.000811, some loss of precision is to be expected.\n",
      "  warnings.warn('Physical maximum for channel {} ({}) is {}, which has {} chars, '\\\n",
      "C:\\Users\\naikh\\anaconda3\\envs\\PytorchEnvironment\\Lib\\site-packages\\pyedflib\\edfwriter.py:134: UserWarning: Physical minimum for channel 4 (PSG_O1) is 1.3225093958953237e-05, which has 22 chars, however, EDF+ can only save 8 chars, will be truncated to 1.322509, some loss of precision is to be expected\n",
      "  warnings.warn('Physical minimum for channel {} ({}) is {}, which has {} chars, '\\\n",
      "C:\\Users\\naikh\\anaconda3\\envs\\PytorchEnvironment\\Lib\\site-packages\\pyedflib\\edfwriter.py:141: UserWarning: Physical maximum for channel 4 (PSG_O1) is 0.0008892226, which has 12 chars, however, EDF+ can only save 8 chars, will be truncated to 0.000889, some loss of precision is to be expected.\n",
      "  warnings.warn('Physical maximum for channel {} ({}) is {}, which has {} chars, '\\\n",
      "C:\\Users\\naikh\\anaconda3\\envs\\PytorchEnvironment\\Lib\\site-packages\\pyedflib\\edfwriter.py:134: UserWarning: Physical minimum for channel 5 (PSG_O2) is -0.0004414029026504921, which has 22 chars, however, EDF+ can only save 8 chars, will be truncated to -0.00044, some loss of precision is to be expected\n",
      "  warnings.warn('Physical minimum for channel {} ({}) is {}, which has {} chars, '\\\n",
      "C:\\Users\\naikh\\anaconda3\\envs\\PytorchEnvironment\\Lib\\site-packages\\pyedflib\\edfwriter.py:141: UserWarning: Physical maximum for channel 5 (PSG_O2) is 0.0006278904, which has 12 chars, however, EDF+ can only save 8 chars, will be truncated to 0.000627, some loss of precision is to be expected.\n",
      "  warnings.warn('Physical maximum for channel {} ({}) is {}, which has {} chars, '\\\n"
     ]
    },
    {
     "name": "stdout",
     "output_type": "stream",
     "text": [
      "Extracting EDF parameters from C:\\Users\\naikh\\SleepResearchCode_experient\\Dataset_clean_for_jupyter\\sub-114\\eeg\\sub-114_task-Sleep_acq-psg_eeg.edf...\n",
      "EDF file detected\n",
      "Setting channel info structure...\n",
      "Creating raw.info structure...\n",
      "Reading 0 ... 7171327  =      0.000 ... 28012.996 secs...\n"
     ]
    },
    {
     "name": "stderr",
     "output_type": "stream",
     "text": [
      "C:\\Users\\naikh\\AppData\\Local\\Temp\\ipykernel_16604\\791336486.py:6: RuntimeWarning: Channels contain different highpass filters. Highest filter setting will be stored.\n",
      "  raw = mne.io.read_raw_edf(file_path, preload=True)\n",
      "C:\\Users\\naikh\\anaconda3\\envs\\PytorchEnvironment\\Lib\\site-packages\\pyedflib\\edfwriter.py:134: UserWarning: Physical minimum for channel 0 (PSG_F3) is -0.0007392967443778134, which has 22 chars, however, EDF+ can only save 8 chars, will be truncated to -0.00073, some loss of precision is to be expected\n",
      "  warnings.warn('Physical minimum for channel {} ({}) is {}, which has {} chars, '\\\n",
      "C:\\Users\\naikh\\anaconda3\\envs\\PytorchEnvironment\\Lib\\site-packages\\pyedflib\\edfwriter.py:141: UserWarning: Physical maximum for channel 0 (PSG_F3) is 0.0005729828581795987, which has 21 chars, however, EDF+ can only save 8 chars, will be truncated to 0.000572, some loss of precision is to be expected.\n",
      "  warnings.warn('Physical maximum for channel {} ({}) is {}, which has {} chars, '\\\n",
      "C:\\Users\\naikh\\anaconda3\\envs\\PytorchEnvironment\\Lib\\site-packages\\pyedflib\\edfwriter.py:134: UserWarning: Physical minimum for channel 1 (PSG_F4) is -0.0007519933909315633, which has 22 chars, however, EDF+ can only save 8 chars, will be truncated to -0.00075, some loss of precision is to be expected\n",
      "  warnings.warn('Physical minimum for channel {} ({}) is {}, which has {} chars, '\\\n",
      "C:\\Users\\naikh\\anaconda3\\envs\\PytorchEnvironment\\Lib\\site-packages\\pyedflib\\edfwriter.py:141: UserWarning: Physical maximum for channel 1 (PSG_F4) is 0.000345996787113756, which has 20 chars, however, EDF+ can only save 8 chars, will be truncated to 0.000345, some loss of precision is to be expected.\n",
      "  warnings.warn('Physical maximum for channel {} ({}) is {}, which has {} chars, '\\\n",
      "C:\\Users\\naikh\\anaconda3\\envs\\PytorchEnvironment\\Lib\\site-packages\\pyedflib\\edfwriter.py:134: UserWarning: Physical minimum for channel 2 (PSG_C3) is -0.00018524654868390928, which has 23 chars, however, EDF+ can only save 8 chars, will be truncated to -0.00018, some loss of precision is to be expected\n",
      "  warnings.warn('Physical minimum for channel {} ({}) is {}, which has {} chars, '\\\n",
      "C:\\Users\\naikh\\anaconda3\\envs\\PytorchEnvironment\\Lib\\site-packages\\pyedflib\\edfwriter.py:141: UserWarning: Physical maximum for channel 2 (PSG_C3) is 0.0014552470000000004, which has 21 chars, however, EDF+ can only save 8 chars, will be truncated to 0.001455, some loss of precision is to be expected.\n",
      "  warnings.warn('Physical maximum for channel {} ({}) is {}, which has {} chars, '\\\n",
      "C:\\Users\\naikh\\anaconda3\\envs\\PytorchEnvironment\\Lib\\site-packages\\pyedflib\\edfwriter.py:134: UserWarning: Physical minimum for channel 3 (PSG_C4) is -0.0007344147815228503, which has 22 chars, however, EDF+ can only save 8 chars, will be truncated to -0.00073, some loss of precision is to be expected\n",
      "  warnings.warn('Physical minimum for channel {} ({}) is {}, which has {} chars, '\\\n",
      "C:\\Users\\naikh\\anaconda3\\envs\\PytorchEnvironment\\Lib\\site-packages\\pyedflib\\edfwriter.py:141: UserWarning: Physical maximum for channel 3 (PSG_C4) is 0.0004608207136537727, which has 21 chars, however, EDF+ can only save 8 chars, will be truncated to 0.000460, some loss of precision is to be expected.\n",
      "  warnings.warn('Physical maximum for channel {} ({}) is {}, which has {} chars, '\\\n",
      "C:\\Users\\naikh\\anaconda3\\envs\\PytorchEnvironment\\Lib\\site-packages\\pyedflib\\edfwriter.py:134: UserWarning: Physical minimum for channel 4 (PSG_O1) is -0.0006531781897535668, which has 22 chars, however, EDF+ can only save 8 chars, will be truncated to -0.00065, some loss of precision is to be expected\n",
      "  warnings.warn('Physical minimum for channel {} ({}) is {}, which has {} chars, '\\\n",
      "C:\\Users\\naikh\\anaconda3\\envs\\PytorchEnvironment\\Lib\\site-packages\\pyedflib\\edfwriter.py:141: UserWarning: Physical maximum for channel 4 (PSG_O1) is 0.0007327749, which has 12 chars, however, EDF+ can only save 8 chars, will be truncated to 0.000732, some loss of precision is to be expected.\n",
      "  warnings.warn('Physical maximum for channel {} ({}) is {}, which has {} chars, '\\\n",
      "C:\\Users\\naikh\\anaconda3\\envs\\PytorchEnvironment\\Lib\\site-packages\\pyedflib\\edfwriter.py:134: UserWarning: Physical minimum for channel 5 (PSG_O2) is -0.0002703363022507058, which has 22 chars, however, EDF+ can only save 8 chars, will be truncated to -0.00027, some loss of precision is to be expected\n",
      "  warnings.warn('Physical minimum for channel {} ({}) is {}, which has {} chars, '\\\n",
      "C:\\Users\\naikh\\anaconda3\\envs\\PytorchEnvironment\\Lib\\site-packages\\pyedflib\\edfwriter.py:141: UserWarning: Physical maximum for channel 5 (PSG_O2) is 0.001271748, which has 11 chars, however, EDF+ can only save 8 chars, will be truncated to 0.001271, some loss of precision is to be expected.\n",
      "  warnings.warn('Physical maximum for channel {} ({}) is {}, which has {} chars, '\\\n"
     ]
    },
    {
     "name": "stdout",
     "output_type": "stream",
     "text": [
      "Extracting EDF parameters from C:\\Users\\naikh\\SleepResearchCode_experient\\Dataset_clean_for_jupyter\\sub-115\\eeg\\sub-115_task-Sleep_acq-psg_eeg.edf...\n",
      "EDF file detected\n",
      "Setting channel info structure...\n",
      "Creating raw.info structure...\n",
      "Reading 0 ... 6591487  =      0.000 ... 25747.996 secs...\n"
     ]
    },
    {
     "name": "stderr",
     "output_type": "stream",
     "text": [
      "C:\\Users\\naikh\\AppData\\Local\\Temp\\ipykernel_16604\\791336486.py:6: RuntimeWarning: Channels contain different highpass filters. Highest filter setting will be stored.\n",
      "  raw = mne.io.read_raw_edf(file_path, preload=True)\n",
      "C:\\Users\\naikh\\anaconda3\\envs\\PytorchEnvironment\\Lib\\site-packages\\pyedflib\\edfwriter.py:134: UserWarning: Physical minimum for channel 0 (PSG_F3) is 0.0011464620533760586, which has 21 chars, however, EDF+ can only save 8 chars, will be truncated to 0.001146, some loss of precision is to be expected\n",
      "  warnings.warn('Physical minimum for channel {} ({}) is {}, which has {} chars, '\\\n",
      "C:\\Users\\naikh\\anaconda3\\envs\\PytorchEnvironment\\Lib\\site-packages\\pyedflib\\edfwriter.py:134: UserWarning: Physical minimum for channel 1 (PSG_F4) is 0.0005685603663385979, which has 21 chars, however, EDF+ can only save 8 chars, will be truncated to 0.000568, some loss of precision is to be expected\n",
      "  warnings.warn('Physical minimum for channel {} ({}) is {}, which has {} chars, '\\\n",
      "C:\\Users\\naikh\\anaconda3\\envs\\PytorchEnvironment\\Lib\\site-packages\\pyedflib\\edfwriter.py:141: UserWarning: Physical maximum for channel 1 (PSG_F4) is 0.0032000000000000006, which has 21 chars, however, EDF+ can only save 8 chars, will be truncated to 0.003200, some loss of precision is to be expected.\n",
      "  warnings.warn('Physical maximum for channel {} ({}) is {}, which has {} chars, '\\\n",
      "C:\\Users\\naikh\\anaconda3\\envs\\PytorchEnvironment\\Lib\\site-packages\\pyedflib\\edfwriter.py:134: UserWarning: Physical minimum for channel 2 (PSG_C3) is -0.003199937126143282, which has 21 chars, however, EDF+ can only save 8 chars, will be truncated to -0.00319, some loss of precision is to be expected\n",
      "  warnings.warn('Physical minimum for channel {} ({}) is {}, which has {} chars, '\\\n",
      "C:\\Users\\naikh\\anaconda3\\envs\\PytorchEnvironment\\Lib\\site-packages\\pyedflib\\edfwriter.py:141: UserWarning: Physical maximum for channel 2 (PSG_C3) is -0.0005471633635065231, which has 22 chars, however, EDF+ can only save 8 chars, will be truncated to -0.00054, some loss of precision is to be expected.\n",
      "  warnings.warn('Physical maximum for channel {} ({}) is {}, which has {} chars, '\\\n",
      "C:\\Users\\naikh\\anaconda3\\envs\\PytorchEnvironment\\Lib\\site-packages\\pyedflib\\edfwriter.py:134: UserWarning: Physical minimum for channel 3 (PSG_C4) is -0.0031999396996902417, which has 22 chars, however, EDF+ can only save 8 chars, will be truncated to -0.00319, some loss of precision is to be expected\n",
      "  warnings.warn('Physical minimum for channel {} ({}) is {}, which has {} chars, '\\\n",
      "C:\\Users\\naikh\\anaconda3\\envs\\PytorchEnvironment\\Lib\\site-packages\\pyedflib\\edfwriter.py:141: UserWarning: Physical maximum for channel 3 (PSG_C4) is -0.0007598876653269246, which has 22 chars, however, EDF+ can only save 8 chars, will be truncated to -0.00075, some loss of precision is to be expected.\n",
      "  warnings.warn('Physical maximum for channel {} ({}) is {}, which has {} chars, '\\\n",
      "C:\\Users\\naikh\\anaconda3\\envs\\PytorchEnvironment\\Lib\\site-packages\\pyedflib\\edfwriter.py:134: UserWarning: Physical minimum for channel 4 (PSG_O1) is 0.0009812952850537882, which has 21 chars, however, EDF+ can only save 8 chars, will be truncated to 0.000981, some loss of precision is to be expected\n",
      "  warnings.warn('Physical minimum for channel {} ({}) is {}, which has {} chars, '\\\n",
      "C:\\Users\\naikh\\anaconda3\\envs\\PytorchEnvironment\\Lib\\site-packages\\pyedflib\\edfwriter.py:134: UserWarning: Physical minimum for channel 5 (PSG_O2) is -0.003199912107438773, which has 21 chars, however, EDF+ can only save 8 chars, will be truncated to -0.00319, some loss of precision is to be expected\n",
      "  warnings.warn('Physical minimum for channel {} ({}) is {}, which has {} chars, '\\\n",
      "C:\\Users\\naikh\\anaconda3\\envs\\PytorchEnvironment\\Lib\\site-packages\\pyedflib\\edfwriter.py:141: UserWarning: Physical maximum for channel 5 (PSG_O2) is 0.001984079046280614, which has 20 chars, however, EDF+ can only save 8 chars, will be truncated to 0.001984, some loss of precision is to be expected.\n",
      "  warnings.warn('Physical maximum for channel {} ({}) is {}, which has {} chars, '\\\n"
     ]
    },
    {
     "name": "stdout",
     "output_type": "stream",
     "text": [
      "Extracting EDF parameters from C:\\Users\\naikh\\SleepResearchCode_experient\\Dataset_clean_for_jupyter\\sub-116\\eeg\\sub-116_task-Sleep_acq-psg_eeg.edf...\n",
      "EDF file detected\n",
      "Setting channel info structure...\n",
      "Creating raw.info structure...\n",
      "Reading 0 ... 6708223  =      0.000 ... 26203.996 secs...\n"
     ]
    },
    {
     "name": "stderr",
     "output_type": "stream",
     "text": [
      "C:\\Users\\naikh\\AppData\\Local\\Temp\\ipykernel_16604\\791336486.py:6: RuntimeWarning: Channels contain different highpass filters. Highest filter setting will be stored.\n",
      "  raw = mne.io.read_raw_edf(file_path, preload=True)\n",
      "C:\\Users\\naikh\\anaconda3\\envs\\PytorchEnvironment\\Lib\\site-packages\\pyedflib\\edfwriter.py:134: UserWarning: Physical minimum for channel 0 (PSG_F3) is -0.003199928973342489, which has 21 chars, however, EDF+ can only save 8 chars, will be truncated to -0.00319, some loss of precision is to be expected\n",
      "  warnings.warn('Physical minimum for channel {} ({}) is {}, which has {} chars, '\\\n",
      "C:\\Users\\naikh\\anaconda3\\envs\\PytorchEnvironment\\Lib\\site-packages\\pyedflib\\edfwriter.py:141: UserWarning: Physical maximum for channel 0 (PSG_F3) is 0.00018541460361638836, which has 22 chars, however, EDF+ can only save 8 chars, will be truncated to 0.000185, some loss of precision is to be expected.\n",
      "  warnings.warn('Physical maximum for channel {} ({}) is {}, which has {} chars, '\\\n",
      "C:\\Users\\naikh\\anaconda3\\envs\\PytorchEnvironment\\Lib\\site-packages\\pyedflib\\edfwriter.py:134: UserWarning: Physical minimum for channel 2 (PSG_C3) is -0.003199935470542458, which has 21 chars, however, EDF+ can only save 8 chars, will be truncated to -0.00319, some loss of precision is to be expected\n",
      "  warnings.warn('Physical minimum for channel {} ({}) is {}, which has {} chars, '\\\n",
      "C:\\Users\\naikh\\anaconda3\\envs\\PytorchEnvironment\\Lib\\site-packages\\pyedflib\\edfwriter.py:141: UserWarning: Physical maximum for channel 2 (PSG_C3) is -0.0004056163706111239, which has 22 chars, however, EDF+ can only save 8 chars, will be truncated to -0.00040, some loss of precision is to be expected.\n",
      "  warnings.warn('Physical maximum for channel {} ({}) is {}, which has {} chars, '\\\n",
      "C:\\Users\\naikh\\anaconda3\\envs\\PytorchEnvironment\\Lib\\site-packages\\pyedflib\\edfwriter.py:134: UserWarning: Physical minimum for channel 3 (PSG_C4) is -0.003199941982653544, which has 21 chars, however, EDF+ can only save 8 chars, will be truncated to -0.00319, some loss of precision is to be expected\n",
      "  warnings.warn('Physical minimum for channel {} ({}) is {}, which has {} chars, '\\\n",
      "C:\\Users\\naikh\\anaconda3\\envs\\PytorchEnvironment\\Lib\\site-packages\\pyedflib\\edfwriter.py:141: UserWarning: Physical maximum for channel 3 (PSG_C4) is -0.0009411526330785077, which has 22 chars, however, EDF+ can only save 8 chars, will be truncated to -0.00094, some loss of precision is to be expected.\n",
      "  warnings.warn('Physical maximum for channel {} ({}) is {}, which has {} chars, '\\\n",
      "C:\\Users\\naikh\\anaconda3\\envs\\PytorchEnvironment\\Lib\\site-packages\\pyedflib\\edfwriter.py:134: UserWarning: Physical minimum for channel 4 (PSG_O1) is -0.0002543452215457389, which has 22 chars, however, EDF+ can only save 8 chars, will be truncated to -0.00025, some loss of precision is to be expected\n",
      "  warnings.warn('Physical minimum for channel {} ({}) is {}, which has {} chars, '\\\n",
      "C:\\Users\\naikh\\anaconda3\\envs\\PytorchEnvironment\\Lib\\site-packages\\pyedflib\\edfwriter.py:141: UserWarning: Physical maximum for channel 4 (PSG_O1) is 0.0012351259999999996, which has 21 chars, however, EDF+ can only save 8 chars, will be truncated to 0.001235, some loss of precision is to be expected.\n",
      "  warnings.warn('Physical maximum for channel {} ({}) is {}, which has {} chars, '\\\n"
     ]
    },
    {
     "name": "stdout",
     "output_type": "stream",
     "text": [
      "Extracting EDF parameters from C:\\Users\\naikh\\SleepResearchCode_experient\\Dataset_clean_for_jupyter\\sub-117\\eeg\\sub-117_task-Sleep_acq-psg_eeg.edf...\n",
      "EDF file detected\n",
      "Setting channel info structure...\n",
      "Creating raw.info structure...\n",
      "Reading 0 ... 6092543  =      0.000 ... 23798.996 secs...\n"
     ]
    },
    {
     "name": "stderr",
     "output_type": "stream",
     "text": [
      "C:\\Users\\naikh\\AppData\\Local\\Temp\\ipykernel_16604\\791336486.py:6: RuntimeWarning: Channels contain different highpass filters. Highest filter setting will be stored.\n",
      "  raw = mne.io.read_raw_edf(file_path, preload=True)\n",
      "C:\\Users\\naikh\\anaconda3\\envs\\PytorchEnvironment\\Lib\\site-packages\\pyedflib\\edfwriter.py:134: UserWarning: Physical minimum for channel 0 (PSG_F3) is 0.0006460745328908217, which has 21 chars, however, EDF+ can only save 8 chars, will be truncated to 0.000646, some loss of precision is to be expected\n",
      "  warnings.warn('Physical minimum for channel {} ({}) is {}, which has {} chars, '\\\n",
      "C:\\Users\\naikh\\anaconda3\\envs\\PytorchEnvironment\\Lib\\site-packages\\pyedflib\\edfwriter.py:141: UserWarning: Physical maximum for channel 0 (PSG_F3) is 0.002151839, which has 11 chars, however, EDF+ can only save 8 chars, will be truncated to 0.002151, some loss of precision is to be expected.\n",
      "  warnings.warn('Physical maximum for channel {} ({}) is {}, which has {} chars, '\\\n",
      "C:\\Users\\naikh\\anaconda3\\envs\\PytorchEnvironment\\Lib\\site-packages\\pyedflib\\edfwriter.py:134: UserWarning: Physical minimum for channel 1 (PSG_F4) is -5.902989013504231e-05, which has 22 chars, however, EDF+ can only save 8 chars, will be truncated to -5.90298, some loss of precision is to be expected\n",
      "  warnings.warn('Physical minimum for channel {} ({}) is {}, which has {} chars, '\\\n",
      "C:\\Users\\naikh\\anaconda3\\envs\\PytorchEnvironment\\Lib\\site-packages\\pyedflib\\edfwriter.py:141: UserWarning: Physical maximum for channel 1 (PSG_F4) is 0.0008429328, which has 12 chars, however, EDF+ can only save 8 chars, will be truncated to 0.000842, some loss of precision is to be expected.\n",
      "  warnings.warn('Physical maximum for channel {} ({}) is {}, which has {} chars, '\\\n",
      "C:\\Users\\naikh\\anaconda3\\envs\\PytorchEnvironment\\Lib\\site-packages\\pyedflib\\edfwriter.py:134: UserWarning: Physical minimum for channel 2 (PSG_C3) is 0.00018019821519798575, which has 22 chars, however, EDF+ can only save 8 chars, will be truncated to 0.000180, some loss of precision is to be expected\n",
      "  warnings.warn('Physical minimum for channel {} ({}) is {}, which has {} chars, '\\\n",
      "C:\\Users\\naikh\\anaconda3\\envs\\PytorchEnvironment\\Lib\\site-packages\\pyedflib\\edfwriter.py:141: UserWarning: Physical maximum for channel 2 (PSG_C3) is 0.0017881619999999998, which has 21 chars, however, EDF+ can only save 8 chars, will be truncated to 0.001788, some loss of precision is to be expected.\n",
      "  warnings.warn('Physical maximum for channel {} ({}) is {}, which has {} chars, '\\\n",
      "C:\\Users\\naikh\\anaconda3\\envs\\PytorchEnvironment\\Lib\\site-packages\\pyedflib\\edfwriter.py:134: UserWarning: Physical minimum for channel 3 (PSG_C4) is 0.00013732561039139391, which has 22 chars, however, EDF+ can only save 8 chars, will be truncated to 0.000137, some loss of precision is to be expected\n",
      "  warnings.warn('Physical minimum for channel {} ({}) is {}, which has {} chars, '\\\n",
      "C:\\Users\\naikh\\anaconda3\\envs\\PytorchEnvironment\\Lib\\site-packages\\pyedflib\\edfwriter.py:141: UserWarning: Physical maximum for channel 3 (PSG_C4) is 0.001193719, which has 11 chars, however, EDF+ can only save 8 chars, will be truncated to 0.001193, some loss of precision is to be expected.\n",
      "  warnings.warn('Physical maximum for channel {} ({}) is {}, which has {} chars, '\\\n",
      "C:\\Users\\naikh\\anaconda3\\envs\\PytorchEnvironment\\Lib\\site-packages\\pyedflib\\edfwriter.py:134: UserWarning: Physical minimum for channel 4 (PSG_O1) is 0.0004963818713054093, which has 21 chars, however, EDF+ can only save 8 chars, will be truncated to 0.000496, some loss of precision is to be expected\n",
      "  warnings.warn('Physical minimum for channel {} ({}) is {}, which has {} chars, '\\\n",
      "C:\\Users\\naikh\\anaconda3\\envs\\PytorchEnvironment\\Lib\\site-packages\\pyedflib\\edfwriter.py:141: UserWarning: Physical maximum for channel 4 (PSG_O1) is 0.0022790879999999994, which has 21 chars, however, EDF+ can only save 8 chars, will be truncated to 0.002279, some loss of precision is to be expected.\n",
      "  warnings.warn('Physical maximum for channel {} ({}) is {}, which has {} chars, '\\\n",
      "C:\\Users\\naikh\\anaconda3\\envs\\PytorchEnvironment\\Lib\\site-packages\\pyedflib\\edfwriter.py:134: UserWarning: Physical minimum for channel 5 (PSG_O2) is 0.0005966639534447242, which has 21 chars, however, EDF+ can only save 8 chars, will be truncated to 0.000596, some loss of precision is to be expected\n",
      "  warnings.warn('Physical minimum for channel {} ({}) is {}, which has {} chars, '\\\n"
     ]
    },
    {
     "name": "stdout",
     "output_type": "stream",
     "text": [
      "Extracting EDF parameters from C:\\Users\\naikh\\SleepResearchCode_experient\\Dataset_clean_for_jupyter\\sub-118\\eeg\\sub-118_task-Sleep_acq-psg_eeg.edf...\n",
      "EDF file detected\n",
      "Setting channel info structure...\n",
      "Creating raw.info structure...\n",
      "Reading 0 ... 6867199  =      0.000 ... 26824.996 secs...\n"
     ]
    },
    {
     "name": "stderr",
     "output_type": "stream",
     "text": [
      "C:\\Users\\naikh\\AppData\\Local\\Temp\\ipykernel_16604\\791336486.py:6: RuntimeWarning: Channels contain different highpass filters. Highest filter setting will be stored.\n",
      "  raw = mne.io.read_raw_edf(file_path, preload=True)\n",
      "C:\\Users\\naikh\\anaconda3\\envs\\PytorchEnvironment\\Lib\\site-packages\\pyedflib\\edfwriter.py:134: UserWarning: Physical minimum for channel 0 (PSG_F3) is -0.0031987271073929957, which has 22 chars, however, EDF+ can only save 8 chars, will be truncated to -0.00319, some loss of precision is to be expected\n",
      "  warnings.warn('Physical minimum for channel {} ({}) is {}, which has {} chars, '\\\n",
      "C:\\Users\\naikh\\anaconda3\\envs\\PytorchEnvironment\\Lib\\site-packages\\pyedflib\\edfwriter.py:141: UserWarning: Physical maximum for channel 0 (PSG_F3) is 0.0031992189999999992, which has 21 chars, however, EDF+ can only save 8 chars, will be truncated to 0.003199, some loss of precision is to be expected.\n",
      "  warnings.warn('Physical maximum for channel {} ({}) is {}, which has {} chars, '\\\n",
      "C:\\Users\\naikh\\anaconda3\\envs\\PytorchEnvironment\\Lib\\site-packages\\pyedflib\\edfwriter.py:134: UserWarning: Physical minimum for channel 1 (PSG_F4) is -0.0031995123601281754, which has 22 chars, however, EDF+ can only save 8 chars, will be truncated to -0.00319, some loss of precision is to be expected\n",
      "  warnings.warn('Physical minimum for channel {} ({}) is {}, which has {} chars, '\\\n",
      "C:\\Users\\naikh\\anaconda3\\envs\\PytorchEnvironment\\Lib\\site-packages\\pyedflib\\edfwriter.py:141: UserWarning: Physical maximum for channel 1 (PSG_F4) is 0.003198828440512702, which has 20 chars, however, EDF+ can only save 8 chars, will be truncated to 0.003198, some loss of precision is to be expected.\n",
      "  warnings.warn('Physical maximum for channel {} ({}) is {}, which has {} chars, '\\\n",
      "C:\\Users\\naikh\\anaconda3\\envs\\PytorchEnvironment\\Lib\\site-packages\\pyedflib\\edfwriter.py:134: UserWarning: Physical minimum for channel 2 (PSG_C3) is -0.0031994123989013503, which has 22 chars, however, EDF+ can only save 8 chars, will be truncated to -0.00319, some loss of precision is to be expected\n",
      "  warnings.warn('Physical minimum for channel {} ({}) is {}, which has {} chars, '\\\n",
      "C:\\Users\\naikh\\anaconda3\\envs\\PytorchEnvironment\\Lib\\site-packages\\pyedflib\\edfwriter.py:141: UserWarning: Physical maximum for channel 2 (PSG_C3) is 0.003194045169237812, which has 20 chars, however, EDF+ can only save 8 chars, will be truncated to 0.003194, some loss of precision is to be expected.\n",
      "  warnings.warn('Physical maximum for channel {} ({}) is {}, which has {} chars, '\\\n",
      "C:\\Users\\naikh\\anaconda3\\envs\\PytorchEnvironment\\Lib\\site-packages\\pyedflib\\edfwriter.py:134: UserWarning: Physical minimum for channel 3 (PSG_C4) is -0.0031997023795834285, which has 22 chars, however, EDF+ can only save 8 chars, will be truncated to -0.00319, some loss of precision is to be expected\n",
      "  warnings.warn('Physical minimum for channel {} ({}) is {}, which has {} chars, '\\\n",
      "C:\\Users\\naikh\\anaconda3\\envs\\PytorchEnvironment\\Lib\\site-packages\\pyedflib\\edfwriter.py:141: UserWarning: Physical maximum for channel 3 (PSG_C4) is 0.0031957039712520023, which has 21 chars, however, EDF+ can only save 8 chars, will be truncated to 0.003195, some loss of precision is to be expected.\n",
      "  warnings.warn('Physical maximum for channel {} ({}) is {}, which has {} chars, '\\\n",
      "C:\\Users\\naikh\\anaconda3\\envs\\PytorchEnvironment\\Lib\\site-packages\\pyedflib\\edfwriter.py:134: UserWarning: Physical minimum for channel 4 (PSG_O1) is -0.0031999023437552453, which has 22 chars, however, EDF+ can only save 8 chars, will be truncated to -0.00319, some loss of precision is to be expected\n",
      "  warnings.warn('Physical minimum for channel {} ({}) is {}, which has {} chars, '\\\n",
      "C:\\Users\\naikh\\anaconda3\\envs\\PytorchEnvironment\\Lib\\site-packages\\pyedflib\\edfwriter.py:141: UserWarning: Physical maximum for channel 4 (PSG_O1) is 0.0031998043437552453, which has 21 chars, however, EDF+ can only save 8 chars, will be truncated to 0.003199, some loss of precision is to be expected.\n",
      "  warnings.warn('Physical maximum for channel {} ({}) is {}, which has {} chars, '\\\n",
      "C:\\Users\\naikh\\anaconda3\\envs\\PytorchEnvironment\\Lib\\site-packages\\pyedflib\\edfwriter.py:134: UserWarning: Physical minimum for channel 5 (PSG_O2) is -0.0031999023437552453, which has 22 chars, however, EDF+ can only save 8 chars, will be truncated to -0.00319, some loss of precision is to be expected\n",
      "  warnings.warn('Physical minimum for channel {} ({}) is {}, which has {} chars, '\\\n",
      "C:\\Users\\naikh\\anaconda3\\envs\\PytorchEnvironment\\Lib\\site-packages\\pyedflib\\edfwriter.py:141: UserWarning: Physical maximum for channel 5 (PSG_O2) is 0.0031998043437552453, which has 21 chars, however, EDF+ can only save 8 chars, will be truncated to 0.003199, some loss of precision is to be expected.\n",
      "  warnings.warn('Physical maximum for channel {} ({}) is {}, which has {} chars, '\\\n"
     ]
    },
    {
     "name": "stdout",
     "output_type": "stream",
     "text": [
      "Extracting EDF parameters from C:\\Users\\naikh\\SleepResearchCode_experient\\Dataset_clean_for_jupyter\\sub-119\\eeg\\sub-119_task-Sleep_acq-psg_eeg.edf...\n",
      "EDF file detected\n",
      "Setting channel info structure...\n",
      "Creating raw.info structure...\n",
      "Reading 0 ... 6902015  =      0.000 ... 26960.996 secs...\n"
     ]
    },
    {
     "name": "stderr",
     "output_type": "stream",
     "text": [
      "C:\\Users\\naikh\\AppData\\Local\\Temp\\ipykernel_16604\\791336486.py:6: RuntimeWarning: Channels contain different highpass filters. Highest filter setting will be stored.\n",
      "  raw = mne.io.read_raw_edf(file_path, preload=True)\n",
      "C:\\Users\\naikh\\anaconda3\\envs\\PytorchEnvironment\\Lib\\site-packages\\pyedflib\\edfwriter.py:134: UserWarning: Physical minimum for channel 0 (PSG_F3) is 0.00015586838030060278, which has 22 chars, however, EDF+ can only save 8 chars, will be truncated to 0.000155, some loss of precision is to be expected\n",
      "  warnings.warn('Physical minimum for channel {} ({}) is {}, which has {} chars, '\\\n",
      "C:\\Users\\naikh\\anaconda3\\envs\\PytorchEnvironment\\Lib\\site-packages\\pyedflib\\edfwriter.py:141: UserWarning: Physical maximum for channel 0 (PSG_F3) is 0.002066487, which has 11 chars, however, EDF+ can only save 8 chars, will be truncated to 0.002066, some loss of precision is to be expected.\n",
      "  warnings.warn('Physical maximum for channel {} ({}) is {}, which has {} chars, '\\\n",
      "C:\\Users\\naikh\\anaconda3\\envs\\PytorchEnvironment\\Lib\\site-packages\\pyedflib\\edfwriter.py:134: UserWarning: Physical minimum for channel 1 (PSG_F4) is -0.0004384371173968108, which has 22 chars, however, EDF+ can only save 8 chars, will be truncated to -0.00043, some loss of precision is to be expected\n",
      "  warnings.warn('Physical minimum for channel {} ({}) is {}, which has {} chars, '\\\n",
      "C:\\Users\\naikh\\anaconda3\\envs\\PytorchEnvironment\\Lib\\site-packages\\pyedflib\\edfwriter.py:141: UserWarning: Physical maximum for channel 1 (PSG_F4) is 0.0006126558000000001, which has 21 chars, however, EDF+ can only save 8 chars, will be truncated to 0.000612, some loss of precision is to be expected.\n",
      "  warnings.warn('Physical maximum for channel {} ({}) is {}, which has {} chars, '\\\n",
      "C:\\Users\\naikh\\anaconda3\\envs\\PytorchEnvironment\\Lib\\site-packages\\pyedflib\\edfwriter.py:134: UserWarning: Physical minimum for channel 2 (PSG_C3) is -0.0003643047701686122, which has 22 chars, however, EDF+ can only save 8 chars, will be truncated to -0.00036, some loss of precision is to be expected\n",
      "  warnings.warn('Physical minimum for channel {} ({}) is {}, which has {} chars, '\\\n",
      "C:\\Users\\naikh\\anaconda3\\envs\\PytorchEnvironment\\Lib\\site-packages\\pyedflib\\edfwriter.py:141: UserWarning: Physical maximum for channel 2 (PSG_C3) is 0.0014650129999999998, which has 21 chars, however, EDF+ can only save 8 chars, will be truncated to 0.001465, some loss of precision is to be expected.\n",
      "  warnings.warn('Physical maximum for channel {} ({}) is {}, which has {} chars, '\\\n",
      "C:\\Users\\naikh\\anaconda3\\envs\\PytorchEnvironment\\Lib\\site-packages\\pyedflib\\edfwriter.py:134: UserWarning: Physical minimum for channel 3 (PSG_C4) is -0.0005191309543144885, which has 22 chars, however, EDF+ can only save 8 chars, will be truncated to -0.00051, some loss of precision is to be expected\n",
      "  warnings.warn('Physical minimum for channel {} ({}) is {}, which has {} chars, '\\\n",
      "C:\\Users\\naikh\\anaconda3\\envs\\PytorchEnvironment\\Lib\\site-packages\\pyedflib\\edfwriter.py:141: UserWarning: Physical maximum for channel 3 (PSG_C4) is 0.001127996, which has 11 chars, however, EDF+ can only save 8 chars, will be truncated to 0.001127, some loss of precision is to be expected.\n",
      "  warnings.warn('Physical maximum for channel {} ({}) is {}, which has {} chars, '\\\n",
      "C:\\Users\\naikh\\anaconda3\\envs\\PytorchEnvironment\\Lib\\site-packages\\pyedflib\\edfwriter.py:134: UserWarning: Physical minimum for channel 4 (PSG_O1) is -0.0031997023482871747, which has 22 chars, however, EDF+ can only save 8 chars, will be truncated to -0.00319, some loss of precision is to be expected\n",
      "  warnings.warn('Physical minimum for channel {} ({}) is {}, which has {} chars, '\\\n",
      "C:\\Users\\naikh\\anaconda3\\envs\\PytorchEnvironment\\Lib\\site-packages\\pyedflib\\edfwriter.py:141: UserWarning: Physical maximum for channel 4 (PSG_O1) is 0.0031998049999999996, which has 21 chars, however, EDF+ can only save 8 chars, will be truncated to 0.003199, some loss of precision is to be expected.\n",
      "  warnings.warn('Physical maximum for channel {} ({}) is {}, which has {} chars, '\\\n",
      "C:\\Users\\naikh\\anaconda3\\envs\\PytorchEnvironment\\Lib\\site-packages\\pyedflib\\edfwriter.py:134: UserWarning: Physical minimum for channel 5 (PSG_O2) is -0.0031994147053635465, which has 22 chars, however, EDF+ can only save 8 chars, will be truncated to -0.00319, some loss of precision is to be expected\n",
      "  warnings.warn('Physical minimum for channel {} ({}) is {}, which has {} chars, '\\\n",
      "C:\\Users\\naikh\\anaconda3\\envs\\PytorchEnvironment\\Lib\\site-packages\\pyedflib\\edfwriter.py:141: UserWarning: Physical maximum for channel 5 (PSG_O2) is 0.003199707, which has 11 chars, however, EDF+ can only save 8 chars, will be truncated to 0.003199, some loss of precision is to be expected.\n",
      "  warnings.warn('Physical maximum for channel {} ({}) is {}, which has {} chars, '\\\n"
     ]
    },
    {
     "name": "stdout",
     "output_type": "stream",
     "text": [
      "Extracting EDF parameters from C:\\Users\\naikh\\SleepResearchCode_experient\\Dataset_clean_for_jupyter\\sub-120\\eeg\\sub-120_task-Sleep_acq-psg_eeg.edf...\n",
      "EDF file detected\n",
      "Setting channel info structure...\n",
      "Creating raw.info structure...\n",
      "Reading 0 ... 6059775  =      0.000 ... 23670.996 secs...\n"
     ]
    },
    {
     "name": "stderr",
     "output_type": "stream",
     "text": [
      "C:\\Users\\naikh\\AppData\\Local\\Temp\\ipykernel_16604\\791336486.py:6: RuntimeWarning: Channels contain different highpass filters. Highest filter setting will be stored.\n",
      "  raw = mne.io.read_raw_edf(file_path, preload=True)\n",
      "C:\\Users\\naikh\\anaconda3\\envs\\PytorchEnvironment\\Lib\\site-packages\\pyedflib\\edfwriter.py:134: UserWarning: Physical minimum for channel 0 (PSG_F3) is -0.0008260149589456016, which has 22 chars, however, EDF+ can only save 8 chars, will be truncated to -0.00082, some loss of precision is to be expected\n",
      "  warnings.warn('Physical minimum for channel {} ({}) is {}, which has {} chars, '\\\n",
      "C:\\Users\\naikh\\anaconda3\\envs\\PytorchEnvironment\\Lib\\site-packages\\pyedflib\\edfwriter.py:141: UserWarning: Physical maximum for channel 0 (PSG_F3) is 0.0005540981174105439, which has 21 chars, however, EDF+ can only save 8 chars, will be truncated to 0.000554, some loss of precision is to be expected.\n",
      "  warnings.warn('Physical maximum for channel {} ({}) is {}, which has {} chars, '\\\n",
      "C:\\Users\\naikh\\anaconda3\\envs\\PytorchEnvironment\\Lib\\site-packages\\pyedflib\\edfwriter.py:134: UserWarning: Physical minimum for channel 1 (PSG_F4) is -0.00031120310496681163, which has 23 chars, however, EDF+ can only save 8 chars, will be truncated to -0.00031, some loss of precision is to be expected\n",
      "  warnings.warn('Physical minimum for channel {} ({}) is {}, which has {} chars, '\\\n",
      "C:\\Users\\naikh\\anaconda3\\envs\\PytorchEnvironment\\Lib\\site-packages\\pyedflib\\edfwriter.py:141: UserWarning: Physical maximum for channel 1 (PSG_F4) is 0.0006992782, which has 12 chars, however, EDF+ can only save 8 chars, will be truncated to 0.000699, some loss of precision is to be expected.\n",
      "  warnings.warn('Physical maximum for channel {} ({}) is {}, which has {} chars, '\\\n",
      "C:\\Users\\naikh\\anaconda3\\envs\\PytorchEnvironment\\Lib\\site-packages\\pyedflib\\edfwriter.py:134: UserWarning: Physical minimum for channel 2 (PSG_C3) is -7.651585479514756e-05, which has 22 chars, however, EDF+ can only save 8 chars, will be truncated to -7.65158, some loss of precision is to be expected\n",
      "  warnings.warn('Physical minimum for channel {} ({}) is {}, which has {} chars, '\\\n",
      "C:\\Users\\naikh\\anaconda3\\envs\\PytorchEnvironment\\Lib\\site-packages\\pyedflib\\edfwriter.py:141: UserWarning: Physical maximum for channel 2 (PSG_C3) is 0.0015106190000000002, which has 21 chars, however, EDF+ can only save 8 chars, will be truncated to 0.001510, some loss of precision is to be expected.\n",
      "  warnings.warn('Physical maximum for channel {} ({}) is {}, which has {} chars, '\\\n",
      "C:\\Users\\naikh\\anaconda3\\envs\\PytorchEnvironment\\Lib\\site-packages\\pyedflib\\edfwriter.py:134: UserWarning: Physical minimum for channel 3 (PSG_C4) is 5.5424052841992815e-05, which has 22 chars, however, EDF+ can only save 8 chars, will be truncated to 5.542405, some loss of precision is to be expected\n",
      "  warnings.warn('Physical minimum for channel {} ({}) is {}, which has {} chars, '\\\n",
      "C:\\Users\\naikh\\anaconda3\\envs\\PytorchEnvironment\\Lib\\site-packages\\pyedflib\\edfwriter.py:141: UserWarning: Physical maximum for channel 3 (PSG_C4) is 0.0015976319999999997, which has 21 chars, however, EDF+ can only save 8 chars, will be truncated to 0.001597, some loss of precision is to be expected.\n",
      "  warnings.warn('Physical maximum for channel {} ({}) is {}, which has {} chars, '\\\n",
      "C:\\Users\\naikh\\anaconda3\\envs\\PytorchEnvironment\\Lib\\site-packages\\pyedflib\\edfwriter.py:134: UserWarning: Physical minimum for channel 4 (PSG_O1) is -0.0031999023482261386, which has 22 chars, however, EDF+ can only save 8 chars, will be truncated to -0.00319, some loss of precision is to be expected\n",
      "  warnings.warn('Physical minimum for channel {} ({}) is {}, which has {} chars, '\\\n",
      "C:\\Users\\naikh\\anaconda3\\envs\\PytorchEnvironment\\Lib\\site-packages\\pyedflib\\edfwriter.py:141: UserWarning: Physical maximum for channel 4 (PSG_O1) is 0.003199218392904555, which has 20 chars, however, EDF+ can only save 8 chars, will be truncated to 0.003199, some loss of precision is to be expected.\n",
      "  warnings.warn('Physical maximum for channel {} ({}) is {}, which has {} chars, '\\\n",
      "C:\\Users\\naikh\\anaconda3\\envs\\PytorchEnvironment\\Lib\\site-packages\\pyedflib\\edfwriter.py:134: UserWarning: Physical minimum for channel 5 (PSG_O2) is -0.003190241046616312, which has 21 chars, however, EDF+ can only save 8 chars, will be truncated to -0.00319, some loss of precision is to be expected\n",
      "  warnings.warn('Physical minimum for channel {} ({}) is {}, which has {} chars, '\\\n",
      "C:\\Users\\naikh\\anaconda3\\envs\\PytorchEnvironment\\Lib\\site-packages\\pyedflib\\edfwriter.py:141: UserWarning: Physical maximum for channel 5 (PSG_O2) is 0.003194043, which has 11 chars, however, EDF+ can only save 8 chars, will be truncated to 0.003194, some loss of precision is to be expected.\n",
      "  warnings.warn('Physical maximum for channel {} ({}) is {}, which has {} chars, '\\\n"
     ]
    },
    {
     "name": "stdout",
     "output_type": "stream",
     "text": [
      "Extracting EDF parameters from C:\\Users\\naikh\\SleepResearchCode_experient\\Dataset_clean_for_jupyter\\sub-121\\eeg\\sub-121_task-Sleep_acq-psg_eeg.edf...\n",
      "EDF file detected\n",
      "Setting channel info structure...\n",
      "Creating raw.info structure...\n",
      "Reading 0 ... 6861055  =      0.000 ... 26800.996 secs...\n"
     ]
    },
    {
     "name": "stderr",
     "output_type": "stream",
     "text": [
      "C:\\Users\\naikh\\AppData\\Local\\Temp\\ipykernel_16604\\791336486.py:6: RuntimeWarning: Channels contain different highpass filters. Highest filter setting will be stored.\n",
      "  raw = mne.io.read_raw_edf(file_path, preload=True)\n",
      "C:\\Users\\naikh\\anaconda3\\envs\\PytorchEnvironment\\Lib\\site-packages\\pyedflib\\edfwriter.py:134: UserWarning: Physical minimum for channel 0 (PSG_F3) is -0.0031999339758907452, which has 22 chars, however, EDF+ can only save 8 chars, will be truncated to -0.00319, some loss of precision is to be expected\n",
      "  warnings.warn('Physical minimum for channel {} ({}) is {}, which has {} chars, '\\\n",
      "C:\\Users\\naikh\\anaconda3\\envs\\PytorchEnvironment\\Lib\\site-packages\\pyedflib\\edfwriter.py:141: UserWarning: Physical maximum for channel 0 (PSG_F3) is -0.0002746697912565802, which has 22 chars, however, EDF+ can only save 8 chars, will be truncated to -0.00027, some loss of precision is to be expected.\n",
      "  warnings.warn('Physical maximum for channel {} ({}) is {}, which has {} chars, '\\\n",
      "C:\\Users\\naikh\\anaconda3\\envs\\PytorchEnvironment\\Lib\\site-packages\\pyedflib\\edfwriter.py:134: UserWarning: Physical minimum for channel 1 (PSG_F4) is -0.003199921184145876, which has 21 chars, however, EDF+ can only save 8 chars, will be truncated to -0.00319, some loss of precision is to be expected\n",
      "  warnings.warn('Physical minimum for channel {} ({}) is {}, which has {} chars, '\\\n",
      "C:\\Users\\naikh\\anaconda3\\envs\\PytorchEnvironment\\Lib\\site-packages\\pyedflib\\edfwriter.py:141: UserWarning: Physical maximum for channel 1 (PSG_F4) is 0.0009686493404592965, which has 21 chars, however, EDF+ can only save 8 chars, will be truncated to 0.000968, some loss of precision is to be expected.\n",
      "  warnings.warn('Physical maximum for channel {} ({}) is {}, which has {} chars, '\\\n",
      "C:\\Users\\naikh\\anaconda3\\envs\\PytorchEnvironment\\Lib\\site-packages\\pyedflib\\edfwriter.py:134: UserWarning: Physical minimum for channel 2 (PSG_C3) is -0.0031999343201190205, which has 22 chars, however, EDF+ can only save 8 chars, will be truncated to -0.00319, some loss of precision is to be expected\n",
      "  warnings.warn('Physical minimum for channel {} ({}) is {}, which has {} chars, '\\\n",
      "C:\\Users\\naikh\\anaconda3\\envs\\PytorchEnvironment\\Lib\\site-packages\\pyedflib\\edfwriter.py:141: UserWarning: Physical maximum for channel 2 (PSG_C3) is -0.000305093565941863, which has 21 chars, however, EDF+ can only save 8 chars, will be truncated to -0.00030, some loss of precision is to be expected.\n",
      "  warnings.warn('Physical maximum for channel {} ({}) is {}, which has {} chars, '\\\n",
      "C:\\Users\\naikh\\anaconda3\\envs\\PytorchEnvironment\\Lib\\site-packages\\pyedflib\\edfwriter.py:134: UserWarning: Physical minimum for channel 3 (PSG_C4) is -0.0031999174363317308, which has 22 chars, however, EDF+ can only save 8 chars, will be truncated to -0.00319, some loss of precision is to be expected\n",
      "  warnings.warn('Physical minimum for channel {} ({}) is {}, which has {} chars, '\\\n",
      "C:\\Users\\naikh\\anaconda3\\envs\\PytorchEnvironment\\Lib\\site-packages\\pyedflib\\edfwriter.py:141: UserWarning: Physical maximum for channel 3 (PSG_C4) is 0.001374522604104676, which has 20 chars, however, EDF+ can only save 8 chars, will be truncated to 0.001374, some loss of precision is to be expected.\n",
      "  warnings.warn('Physical maximum for channel {} ({}) is {}, which has {} chars, '\\\n"
     ]
    },
    {
     "name": "stdout",
     "output_type": "stream",
     "text": [
      "Extracting EDF parameters from C:\\Users\\naikh\\SleepResearchCode_experient\\Dataset_clean_for_jupyter\\sub-122\\eeg\\sub-122_task-Sleep_acq-psg_eeg.edf...\n",
      "EDF file detected\n",
      "Setting channel info structure...\n",
      "Creating raw.info structure...\n",
      "Reading 0 ... 6728191  =      0.000 ... 26281.996 secs...\n"
     ]
    },
    {
     "name": "stderr",
     "output_type": "stream",
     "text": [
      "C:\\Users\\naikh\\AppData\\Local\\Temp\\ipykernel_16604\\791336486.py:6: RuntimeWarning: Channels contain different highpass filters. Highest filter setting will be stored.\n",
      "  raw = mne.io.read_raw_edf(file_path, preload=True)\n",
      "C:\\Users\\naikh\\anaconda3\\envs\\PytorchEnvironment\\Lib\\site-packages\\pyedflib\\edfwriter.py:134: UserWarning: Physical minimum for channel 0 (PSG_F3) is -0.003184879969924468, which has 21 chars, however, EDF+ can only save 8 chars, will be truncated to -0.00318, some loss of precision is to be expected\n",
      "  warnings.warn('Physical minimum for channel {} ({}) is {}, which has {} chars, '\\\n",
      "C:\\Users\\naikh\\anaconda3\\envs\\PytorchEnvironment\\Lib\\site-packages\\pyedflib\\edfwriter.py:141: UserWarning: Physical maximum for channel 0 (PSG_F3) is 0.003196289, which has 11 chars, however, EDF+ can only save 8 chars, will be truncated to 0.003196, some loss of precision is to be expected.\n",
      "  warnings.warn('Physical maximum for channel {} ({}) is {}, which has {} chars, '\\\n",
      "C:\\Users\\naikh\\anaconda3\\envs\\PytorchEnvironment\\Lib\\site-packages\\pyedflib\\edfwriter.py:134: UserWarning: Physical minimum for channel 2 (PSG_C3) is -0.003199512354177157, which has 21 chars, however, EDF+ can only save 8 chars, will be truncated to -0.00319, some loss of precision is to be expected\n",
      "  warnings.warn('Physical minimum for channel {} ({}) is {}, which has {} chars, '\\\n",
      "C:\\Users\\naikh\\anaconda3\\envs\\PytorchEnvironment\\Lib\\site-packages\\pyedflib\\edfwriter.py:141: UserWarning: Physical maximum for channel 2 (PSG_C3) is 0.0031996089999999995, which has 21 chars, however, EDF+ can only save 8 chars, will be truncated to 0.003199, some loss of precision is to be expected.\n",
      "  warnings.warn('Physical maximum for channel {} ({}) is {}, which has {} chars, '\\\n",
      "C:\\Users\\naikh\\anaconda3\\envs\\PytorchEnvironment\\Lib\\site-packages\\pyedflib\\edfwriter.py:134: UserWarning: Physical minimum for channel 3 (PSG_C4) is 3.167396946669714e-05, which has 21 chars, however, EDF+ can only save 8 chars, will be truncated to 3.167396, some loss of precision is to be expected\n",
      "  warnings.warn('Physical minimum for channel {} ({}) is {}, which has {} chars, '\\\n",
      "C:\\Users\\naikh\\anaconda3\\envs\\PytorchEnvironment\\Lib\\site-packages\\pyedflib\\edfwriter.py:141: UserWarning: Physical maximum for channel 3 (PSG_C4) is 0.001691579, which has 11 chars, however, EDF+ can only save 8 chars, will be truncated to 0.001691, some loss of precision is to be expected.\n",
      "  warnings.warn('Physical maximum for channel {} ({}) is {}, which has {} chars, '\\\n",
      "C:\\Users\\naikh\\anaconda3\\envs\\PytorchEnvironment\\Lib\\site-packages\\pyedflib\\edfwriter.py:134: UserWarning: Physical minimum for channel 4 (PSG_O1) is -0.00013310726536964977, which has 23 chars, however, EDF+ can only save 8 chars, will be truncated to -0.00013, some loss of precision is to be expected\n",
      "  warnings.warn('Physical minimum for channel {} ({}) is {}, which has {} chars, '\\\n",
      "C:\\Users\\naikh\\anaconda3\\envs\\PytorchEnvironment\\Lib\\site-packages\\pyedflib\\edfwriter.py:141: UserWarning: Physical maximum for channel 4 (PSG_O1) is 0.0013002639999999998, which has 21 chars, however, EDF+ can only save 8 chars, will be truncated to 0.001300, some loss of precision is to be expected.\n",
      "  warnings.warn('Physical maximum for channel {} ({}) is {}, which has {} chars, '\\\n",
      "C:\\Users\\naikh\\anaconda3\\envs\\PytorchEnvironment\\Lib\\site-packages\\pyedflib\\edfwriter.py:134: UserWarning: Physical minimum for channel 5 (PSG_O2) is -0.00017424591535820548, which has 23 chars, however, EDF+ can only save 8 chars, will be truncated to -0.00017, some loss of precision is to be expected\n",
      "  warnings.warn('Physical minimum for channel {} ({}) is {}, which has {} chars, '\\\n",
      "C:\\Users\\naikh\\anaconda3\\envs\\PytorchEnvironment\\Lib\\site-packages\\pyedflib\\edfwriter.py:141: UserWarning: Physical maximum for channel 5 (PSG_O2) is 0.0013678430000000003, which has 21 chars, however, EDF+ can only save 8 chars, will be truncated to 0.001367, some loss of precision is to be expected.\n",
      "  warnings.warn('Physical maximum for channel {} ({}) is {}, which has {} chars, '\\\n"
     ]
    },
    {
     "name": "stdout",
     "output_type": "stream",
     "text": [
      "Extracting EDF parameters from C:\\Users\\naikh\\SleepResearchCode_experient\\Dataset_clean_for_jupyter\\sub-123\\eeg\\sub-123_task-Sleep_acq-psg_eeg.edf...\n",
      "EDF file detected\n",
      "Setting channel info structure...\n",
      "Creating raw.info structure...\n",
      "Reading 0 ... 6755583  =      0.000 ... 26388.996 secs...\n"
     ]
    },
    {
     "name": "stderr",
     "output_type": "stream",
     "text": [
      "C:\\Users\\naikh\\AppData\\Local\\Temp\\ipykernel_16604\\791336486.py:6: RuntimeWarning: Channels contain different highpass filters. Highest filter setting will be stored.\n",
      "  raw = mne.io.read_raw_edf(file_path, preload=True)\n",
      "C:\\Users\\naikh\\anaconda3\\envs\\PytorchEnvironment\\Lib\\site-packages\\pyedflib\\edfwriter.py:134: UserWarning: Physical minimum for channel 0 (PSG_F3) is -0.0007209245098344397, which has 22 chars, however, EDF+ can only save 8 chars, will be truncated to -0.00072, some loss of precision is to be expected\n",
      "  warnings.warn('Physical minimum for channel {} ({}) is {}, which has {} chars, '\\\n",
      "C:\\Users\\naikh\\anaconda3\\envs\\PytorchEnvironment\\Lib\\site-packages\\pyedflib\\edfwriter.py:141: UserWarning: Physical maximum for channel 0 (PSG_F3) is 0.0010268219999999997, which has 21 chars, however, EDF+ can only save 8 chars, will be truncated to 0.001026, some loss of precision is to be expected.\n",
      "  warnings.warn('Physical maximum for channel {} ({}) is {}, which has {} chars, '\\\n",
      "C:\\Users\\naikh\\anaconda3\\envs\\PytorchEnvironment\\Lib\\site-packages\\pyedflib\\edfwriter.py:134: UserWarning: Physical minimum for channel 1 (PSG_F4) is -0.0008598071868513008, which has 22 chars, however, EDF+ can only save 8 chars, will be truncated to -0.00085, some loss of precision is to be expected\n",
      "  warnings.warn('Physical minimum for channel {} ({}) is {}, which has {} chars, '\\\n",
      "C:\\Users\\naikh\\anaconda3\\envs\\PytorchEnvironment\\Lib\\site-packages\\pyedflib\\edfwriter.py:141: UserWarning: Physical maximum for channel 1 (PSG_F4) is 0.0002220602825314717, which has 21 chars, however, EDF+ can only save 8 chars, will be truncated to 0.000222, some loss of precision is to be expected.\n",
      "  warnings.warn('Physical maximum for channel {} ({}) is {}, which has {} chars, '\\\n",
      "C:\\Users\\naikh\\anaconda3\\envs\\PytorchEnvironment\\Lib\\site-packages\\pyedflib\\edfwriter.py:134: UserWarning: Physical minimum for channel 2 (PSG_C3) is 1.7772182970931567e-05, which has 22 chars, however, EDF+ can only save 8 chars, will be truncated to 1.777218, some loss of precision is to be expected\n",
      "  warnings.warn('Physical minimum for channel {} ({}) is {}, which has {} chars, '\\\n",
      "C:\\Users\\naikh\\anaconda3\\envs\\PytorchEnvironment\\Lib\\site-packages\\pyedflib\\edfwriter.py:141: UserWarning: Physical maximum for channel 2 (PSG_C3) is 0.0022077970000000005, which has 21 chars, however, EDF+ can only save 8 chars, will be truncated to 0.002207, some loss of precision is to be expected.\n",
      "  warnings.warn('Physical maximum for channel {} ({}) is {}, which has {} chars, '\\\n",
      "C:\\Users\\naikh\\anaconda3\\envs\\PytorchEnvironment\\Lib\\site-packages\\pyedflib\\edfwriter.py:134: UserWarning: Physical minimum for channel 3 (PSG_C4) is 0.00011710479043259317, which has 22 chars, however, EDF+ can only save 8 chars, will be truncated to 0.000117, some loss of precision is to be expected\n",
      "  warnings.warn('Physical minimum for channel {} ({}) is {}, which has {} chars, '\\\n",
      "C:\\Users\\naikh\\anaconda3\\envs\\PytorchEnvironment\\Lib\\site-packages\\pyedflib\\edfwriter.py:141: UserWarning: Physical maximum for channel 3 (PSG_C4) is 0.002306139, which has 11 chars, however, EDF+ can only save 8 chars, will be truncated to 0.002306, some loss of precision is to be expected.\n",
      "  warnings.warn('Physical maximum for channel {} ({}) is {}, which has {} chars, '\\\n",
      "C:\\Users\\naikh\\anaconda3\\envs\\PytorchEnvironment\\Lib\\site-packages\\pyedflib\\edfwriter.py:134: UserWarning: Physical minimum for channel 4 (PSG_O1) is -0.00319993300280766, which has 20 chars, however, EDF+ can only save 8 chars, will be truncated to -0.00319, some loss of precision is to be expected\n",
      "  warnings.warn('Physical minimum for channel {} ({}) is {}, which has {} chars, '\\\n",
      "C:\\Users\\naikh\\anaconda3\\envs\\PytorchEnvironment\\Lib\\site-packages\\pyedflib\\edfwriter.py:141: UserWarning: Physical maximum for channel 4 (PSG_O1) is -0.00018780623239490353, which has 23 chars, however, EDF+ can only save 8 chars, will be truncated to -0.00018, some loss of precision is to be expected.\n",
      "  warnings.warn('Physical maximum for channel {} ({}) is {}, which has {} chars, '\\\n",
      "C:\\Users\\naikh\\anaconda3\\envs\\PytorchEnvironment\\Lib\\site-packages\\pyedflib\\edfwriter.py:134: UserWarning: Physical minimum for channel 5 (PSG_O2) is -0.0004453188047608148, which has 22 chars, however, EDF+ can only save 8 chars, will be truncated to -0.00044, some loss of precision is to be expected\n",
      "  warnings.warn('Physical minimum for channel {} ({}) is {}, which has {} chars, '\\\n",
      "C:\\Users\\naikh\\anaconda3\\envs\\PytorchEnvironment\\Lib\\site-packages\\pyedflib\\edfwriter.py:141: UserWarning: Physical maximum for channel 5 (PSG_O2) is 0.0015781979999999998, which has 21 chars, however, EDF+ can only save 8 chars, will be truncated to 0.001578, some loss of precision is to be expected.\n",
      "  warnings.warn('Physical maximum for channel {} ({}) is {}, which has {} chars, '\\\n"
     ]
    },
    {
     "name": "stdout",
     "output_type": "stream",
     "text": [
      "Extracting EDF parameters from C:\\Users\\naikh\\SleepResearchCode_experient\\Dataset_clean_for_jupyter\\sub-124\\eeg\\sub-124_task-Sleep_acq-psg_eeg.edf...\n",
      "EDF file detected\n",
      "Setting channel info structure...\n",
      "Creating raw.info structure...\n",
      "Reading 0 ... 6828031  =      0.000 ... 26671.996 secs...\n"
     ]
    },
    {
     "name": "stderr",
     "output_type": "stream",
     "text": [
      "C:\\Users\\naikh\\AppData\\Local\\Temp\\ipykernel_16604\\791336486.py:6: RuntimeWarning: Channels contain different highpass filters. Highest filter setting will be stored.\n",
      "  raw = mne.io.read_raw_edf(file_path, preload=True)\n",
      "C:\\Users\\naikh\\anaconda3\\envs\\PytorchEnvironment\\Lib\\site-packages\\pyedflib\\edfwriter.py:134: UserWarning: Physical minimum for channel 0 (PSG_F3) is -0.001192522123682002, which has 21 chars, however, EDF+ can only save 8 chars, will be truncated to -0.00119, some loss of precision is to be expected\n",
      "  warnings.warn('Physical minimum for channel {} ({}) is {}, which has {} chars, '\\\n",
      "C:\\Users\\naikh\\anaconda3\\envs\\PytorchEnvironment\\Lib\\site-packages\\pyedflib\\edfwriter.py:141: UserWarning: Physical maximum for channel 0 (PSG_F3) is 0.0002067575345464256, which has 21 chars, however, EDF+ can only save 8 chars, will be truncated to 0.000206, some loss of precision is to be expected.\n",
      "  warnings.warn('Physical maximum for channel {} ({}) is {}, which has {} chars, '\\\n",
      "C:\\Users\\naikh\\anaconda3\\envs\\PytorchEnvironment\\Lib\\site-packages\\pyedflib\\edfwriter.py:134: UserWarning: Physical minimum for channel 1 (PSG_F4) is -0.0012400813393942166, which has 22 chars, however, EDF+ can only save 8 chars, will be truncated to -0.00124, some loss of precision is to be expected\n",
      "  warnings.warn('Physical minimum for channel {} ({}) is {}, which has {} chars, '\\\n",
      "C:\\Users\\naikh\\anaconda3\\envs\\PytorchEnvironment\\Lib\\site-packages\\pyedflib\\edfwriter.py:141: UserWarning: Physical maximum for channel 1 (PSG_F4) is 0.00018231586501869223, which has 22 chars, however, EDF+ can only save 8 chars, will be truncated to 0.000182, some loss of precision is to be expected.\n",
      "  warnings.warn('Physical maximum for channel {} ({}) is {}, which has {} chars, '\\\n",
      "C:\\Users\\naikh\\anaconda3\\envs\\PytorchEnvironment\\Lib\\site-packages\\pyedflib\\edfwriter.py:134: UserWarning: Physical minimum for channel 2 (PSG_C3) is -0.0031999243761196305, which has 22 chars, however, EDF+ can only save 8 chars, will be truncated to -0.00319, some loss of precision is to be expected\n",
      "  warnings.warn('Physical minimum for channel {} ({}) is {}, which has {} chars, '\\\n",
      "C:\\Users\\naikh\\anaconda3\\envs\\PytorchEnvironment\\Lib\\site-packages\\pyedflib\\edfwriter.py:141: UserWarning: Physical maximum for channel 2 (PSG_C3) is 0.000637836304859999, which has 20 chars, however, EDF+ can only save 8 chars, will be truncated to 0.000637, some loss of precision is to be expected.\n",
      "  warnings.warn('Physical maximum for channel {} ({}) is {}, which has {} chars, '\\\n",
      "C:\\Users\\naikh\\anaconda3\\envs\\PytorchEnvironment\\Lib\\site-packages\\pyedflib\\edfwriter.py:134: UserWarning: Physical minimum for channel 3 (PSG_C4) is -0.0005652347470817121, which has 22 chars, however, EDF+ can only save 8 chars, will be truncated to -0.00056, some loss of precision is to be expected\n",
      "  warnings.warn('Physical minimum for channel {} ({}) is {}, which has {} chars, '\\\n",
      "C:\\Users\\naikh\\anaconda3\\envs\\PytorchEnvironment\\Lib\\site-packages\\pyedflib\\edfwriter.py:141: UserWarning: Physical maximum for channel 3 (PSG_C4) is 0.0024076049999999997, which has 21 chars, however, EDF+ can only save 8 chars, will be truncated to 0.002407, some loss of precision is to be expected.\n",
      "  warnings.warn('Physical maximum for channel {} ({}) is {}, which has {} chars, '\\\n",
      "C:\\Users\\naikh\\anaconda3\\envs\\PytorchEnvironment\\Lib\\site-packages\\pyedflib\\edfwriter.py:134: UserWarning: Physical minimum for channel 4 (PSG_O1) is 0.0001827364386968794, which has 21 chars, however, EDF+ can only save 8 chars, will be truncated to 0.000182, some loss of precision is to be expected\n",
      "  warnings.warn('Physical minimum for channel {} ({}) is {}, which has {} chars, '\\\n",
      "C:\\Users\\naikh\\anaconda3\\envs\\PytorchEnvironment\\Lib\\site-packages\\pyedflib\\edfwriter.py:141: UserWarning: Physical maximum for channel 4 (PSG_O1) is 0.0023109239999999994, which has 21 chars, however, EDF+ can only save 8 chars, will be truncated to 0.002310, some loss of precision is to be expected.\n",
      "  warnings.warn('Physical maximum for channel {} ({}) is {}, which has {} chars, '\\\n",
      "C:\\Users\\naikh\\anaconda3\\envs\\PytorchEnvironment\\Lib\\site-packages\\pyedflib\\edfwriter.py:134: UserWarning: Physical minimum for channel 5 (PSG_O2) is -0.0003691736263065538, which has 22 chars, however, EDF+ can only save 8 chars, will be truncated to -0.00036, some loss of precision is to be expected\n",
      "  warnings.warn('Physical minimum for channel {} ({}) is {}, which has {} chars, '\\\n"
     ]
    },
    {
     "name": "stdout",
     "output_type": "stream",
     "text": [
      "Extracting EDF parameters from C:\\Users\\naikh\\SleepResearchCode_experient\\Dataset_clean_for_jupyter\\sub-125\\eeg\\sub-125_task-Sleep_acq-psg_eeg.edf...\n",
      "EDF file detected\n",
      "Setting channel info structure...\n",
      "Creating raw.info structure...\n",
      "Reading 0 ... 7508735  =      0.000 ... 29330.996 secs...\n"
     ]
    },
    {
     "name": "stderr",
     "output_type": "stream",
     "text": [
      "C:\\Users\\naikh\\AppData\\Local\\Temp\\ipykernel_16604\\791336486.py:6: RuntimeWarning: Channels contain different highpass filters. Highest filter setting will be stored.\n",
      "  raw = mne.io.read_raw_edf(file_path, preload=True)\n",
      "C:\\Users\\naikh\\anaconda3\\envs\\PytorchEnvironment\\Lib\\site-packages\\pyedflib\\edfwriter.py:134: UserWarning: Physical minimum for channel 0 (PSG_F3) is -0.0004721538704509041, which has 22 chars, however, EDF+ can only save 8 chars, will be truncated to -0.00047, some loss of precision is to be expected\n",
      "  warnings.warn('Physical minimum for channel {} ({}) is {}, which has {} chars, '\\\n",
      "C:\\Users\\naikh\\anaconda3\\envs\\PytorchEnvironment\\Lib\\site-packages\\pyedflib\\edfwriter.py:134: UserWarning: Physical minimum for channel 1 (PSG_F4) is -0.001003159795834287, which has 21 chars, however, EDF+ can only save 8 chars, will be truncated to -0.00100, some loss of precision is to be expected\n",
      "  warnings.warn('Physical minimum for channel {} ({}) is {}, which has {} chars, '\\\n",
      "C:\\Users\\naikh\\anaconda3\\envs\\PytorchEnvironment\\Lib\\site-packages\\pyedflib\\edfwriter.py:134: UserWarning: Physical minimum for channel 2 (PSG_C3) is -0.0016032961126115817, which has 22 chars, however, EDF+ can only save 8 chars, will be truncated to -0.00160, some loss of precision is to be expected\n",
      "  warnings.warn('Physical minimum for channel {} ({}) is {}, which has {} chars, '\\\n",
      "C:\\Users\\naikh\\anaconda3\\envs\\PytorchEnvironment\\Lib\\site-packages\\pyedflib\\edfwriter.py:141: UserWarning: Physical maximum for channel 2 (PSG_C3) is 0.0031999999999999993, which has 21 chars, however, EDF+ can only save 8 chars, will be truncated to 0.003199, some loss of precision is to be expected.\n",
      "  warnings.warn('Physical maximum for channel {} ({}) is {}, which has {} chars, '\\\n",
      "C:\\Users\\naikh\\anaconda3\\envs\\PytorchEnvironment\\Lib\\site-packages\\pyedflib\\edfwriter.py:134: UserWarning: Physical minimum for channel 3 (PSG_C4) is -0.0015074978667887387, which has 22 chars, however, EDF+ can only save 8 chars, will be truncated to -0.00150, some loss of precision is to be expected\n",
      "  warnings.warn('Physical minimum for channel {} ({}) is {}, which has {} chars, '\\\n",
      "C:\\Users\\naikh\\anaconda3\\envs\\PytorchEnvironment\\Lib\\site-packages\\pyedflib\\edfwriter.py:134: UserWarning: Physical minimum for channel 4 (PSG_O1) is -0.0007997578429846646, which has 22 chars, however, EDF+ can only save 8 chars, will be truncated to -0.00079, some loss of precision is to be expected\n",
      "  warnings.warn('Physical minimum for channel {} ({}) is {}, which has {} chars, '\\\n",
      "C:\\Users\\naikh\\anaconda3\\envs\\PytorchEnvironment\\Lib\\site-packages\\pyedflib\\edfwriter.py:134: UserWarning: Physical minimum for channel 5 (PSG_O2) is -0.0008280629190508888, which has 22 chars, however, EDF+ can only save 8 chars, will be truncated to -0.00082, some loss of precision is to be expected\n",
      "  warnings.warn('Physical minimum for channel {} ({}) is {}, which has {} chars, '\\\n"
     ]
    },
    {
     "name": "stdout",
     "output_type": "stream",
     "text": [
      "Extracting EDF parameters from C:\\Users\\naikh\\SleepResearchCode_experient\\Dataset_clean_for_jupyter\\sub-126\\eeg\\sub-126_task-Sleep_acq-psg_eeg.edf...\n",
      "EDF file detected\n",
      "Setting channel info structure...\n",
      "Creating raw.info structure...\n",
      "Reading 0 ... 6689279  =      0.000 ... 26129.996 secs...\n"
     ]
    },
    {
     "name": "stderr",
     "output_type": "stream",
     "text": [
      "C:\\Users\\naikh\\anaconda3\\envs\\PytorchEnvironment\\Lib\\site-packages\\pyedflib\\edfwriter.py:134: UserWarning: Physical minimum for channel 0 (PSG_F3) is -0.0005996884234988936, which has 22 chars, however, EDF+ can only save 8 chars, will be truncated to -0.00059, some loss of precision is to be expected\n",
      "  warnings.warn('Physical minimum for channel {} ({}) is {}, which has {} chars, '\\\n",
      "C:\\Users\\naikh\\anaconda3\\envs\\PytorchEnvironment\\Lib\\site-packages\\pyedflib\\edfwriter.py:141: UserWarning: Physical maximum for channel 0 (PSG_F3) is 0.001069792, which has 11 chars, however, EDF+ can only save 8 chars, will be truncated to 0.001069, some loss of precision is to be expected.\n",
      "  warnings.warn('Physical maximum for channel {} ({}) is {}, which has {} chars, '\\\n",
      "C:\\Users\\naikh\\anaconda3\\envs\\PytorchEnvironment\\Lib\\site-packages\\pyedflib\\edfwriter.py:134: UserWarning: Physical minimum for channel 1 (PSG_F4) is -0.0005948980462348363, which has 22 chars, however, EDF+ can only save 8 chars, will be truncated to -0.00059, some loss of precision is to be expected\n",
      "  warnings.warn('Physical minimum for channel {} ({}) is {}, which has {} chars, '\\\n",
      "C:\\Users\\naikh\\anaconda3\\envs\\PytorchEnvironment\\Lib\\site-packages\\pyedflib\\edfwriter.py:141: UserWarning: Physical maximum for channel 1 (PSG_F4) is 0.0010601240000000002, which has 21 chars, however, EDF+ can only save 8 chars, will be truncated to 0.001060, some loss of precision is to be expected.\n",
      "  warnings.warn('Physical maximum for channel {} ({}) is {}, which has {} chars, '\\\n",
      "C:\\Users\\naikh\\anaconda3\\envs\\PytorchEnvironment\\Lib\\site-packages\\pyedflib\\edfwriter.py:134: UserWarning: Physical minimum for channel 2 (PSG_C3) is -0.00022571836163881885, which has 23 chars, however, EDF+ can only save 8 chars, will be truncated to -0.00022, some loss of precision is to be expected\n",
      "  warnings.warn('Physical minimum for channel {} ({}) is {}, which has {} chars, '\\\n",
      "C:\\Users\\naikh\\anaconda3\\envs\\PytorchEnvironment\\Lib\\site-packages\\pyedflib\\edfwriter.py:141: UserWarning: Physical maximum for channel 2 (PSG_C3) is 0.0010745770000000002, which has 21 chars, however, EDF+ can only save 8 chars, will be truncated to 0.001074, some loss of precision is to be expected.\n",
      "  warnings.warn('Physical maximum for channel {} ({}) is {}, which has {} chars, '\\\n",
      "C:\\Users\\naikh\\anaconda3\\envs\\PytorchEnvironment\\Lib\\site-packages\\pyedflib\\edfwriter.py:134: UserWarning: Physical minimum for channel 3 (PSG_C4) is -3.01598767071016e-06, which has 21 chars, however, EDF+ can only save 8 chars, will be truncated to -3.01598, some loss of precision is to be expected\n",
      "  warnings.warn('Physical minimum for channel {} ({}) is {}, which has {} chars, '\\\n",
      "C:\\Users\\naikh\\anaconda3\\envs\\PytorchEnvironment\\Lib\\site-packages\\pyedflib\\edfwriter.py:141: UserWarning: Physical maximum for channel 3 (PSG_C4) is 0.0029002880000000004, which has 21 chars, however, EDF+ can only save 8 chars, will be truncated to 0.002900, some loss of precision is to be expected.\n",
      "  warnings.warn('Physical maximum for channel {} ({}) is {}, which has {} chars, '\\\n",
      "C:\\Users\\naikh\\anaconda3\\envs\\PytorchEnvironment\\Lib\\site-packages\\pyedflib\\edfwriter.py:134: UserWarning: Physical minimum for channel 4 (PSG_O1) is -0.00017101254200045763, which has 23 chars, however, EDF+ can only save 8 chars, will be truncated to -0.00017, some loss of precision is to be expected\n",
      "  warnings.warn('Physical minimum for channel {} ({}) is {}, which has {} chars, '\\\n",
      "C:\\Users\\naikh\\anaconda3\\envs\\PytorchEnvironment\\Lib\\site-packages\\pyedflib\\edfwriter.py:134: UserWarning: Physical minimum for channel 5 (PSG_O2) is 0.0005202481601892116, which has 21 chars, however, EDF+ can only save 8 chars, will be truncated to 0.000520, some loss of precision is to be expected\n",
      "  warnings.warn('Physical minimum for channel {} ({}) is {}, which has {} chars, '\\\n"
     ]
    },
    {
     "name": "stdout",
     "output_type": "stream",
     "text": [
      "Extracting EDF parameters from C:\\Users\\naikh\\SleepResearchCode_experient\\Dataset_clean_for_jupyter\\sub-127\\eeg\\sub-127_task-Sleep_acq-psg_eeg.edf...\n",
      "EDF file detected\n",
      "Setting channel info structure...\n",
      "Creating raw.info structure...\n",
      "Reading 0 ... 6391295  =      0.000 ... 24965.996 secs...\n"
     ]
    },
    {
     "name": "stderr",
     "output_type": "stream",
     "text": [
      "C:\\Users\\naikh\\AppData\\Local\\Temp\\ipykernel_16604\\791336486.py:6: RuntimeWarning: Physical range is not defined in following channels:\n",
      "PSG_PULSE, PSG_BEAT, PSG_SPO2\n",
      "  raw = mne.io.read_raw_edf(file_path, preload=True)\n",
      "C:\\Users\\naikh\\AppData\\Local\\Temp\\ipykernel_16604\\791336486.py:6: RuntimeWarning: Channels contain different highpass filters. Highest filter setting will be stored.\n",
      "  raw = mne.io.read_raw_edf(file_path, preload=True)\n",
      "C:\\Users\\naikh\\anaconda3\\envs\\PytorchEnvironment\\Lib\\site-packages\\pyedflib\\edfwriter.py:134: UserWarning: Physical minimum for channel 0 (PSG_F3) is -0.0013850141319905393, which has 22 chars, however, EDF+ can only save 8 chars, will be truncated to -0.00138, some loss of precision is to be expected\n",
      "  warnings.warn('Physical minimum for channel {} ({}) is {}, which has {} chars, '\\\n",
      "C:\\Users\\naikh\\anaconda3\\envs\\PytorchEnvironment\\Lib\\site-packages\\pyedflib\\edfwriter.py:134: UserWarning: Physical minimum for channel 1 (PSG_F4) is -0.0021886993640039673, which has 22 chars, however, EDF+ can only save 8 chars, will be truncated to -0.00218, some loss of precision is to be expected\n",
      "  warnings.warn('Physical minimum for channel {} ({}) is {}, which has {} chars, '\\\n",
      "C:\\Users\\naikh\\anaconda3\\envs\\PytorchEnvironment\\Lib\\site-packages\\pyedflib\\edfwriter.py:141: UserWarning: Physical maximum for channel 1 (PSG_F4) is 0.0003268462829022662, which has 21 chars, however, EDF+ can only save 8 chars, will be truncated to 0.000326, some loss of precision is to be expected.\n",
      "  warnings.warn('Physical maximum for channel {} ({}) is {}, which has {} chars, '\\\n",
      "C:\\Users\\naikh\\anaconda3\\envs\\PytorchEnvironment\\Lib\\site-packages\\pyedflib\\edfwriter.py:134: UserWarning: Physical minimum for channel 2 (PSG_C3) is -0.0020839278088914314, which has 22 chars, however, EDF+ can only save 8 chars, will be truncated to -0.00208, some loss of precision is to be expected\n",
      "  warnings.warn('Physical minimum for channel {} ({}) is {}, which has {} chars, '\\\n",
      "C:\\Users\\naikh\\anaconda3\\envs\\PytorchEnvironment\\Lib\\site-packages\\pyedflib\\edfwriter.py:141: UserWarning: Physical maximum for channel 2 (PSG_C3) is -0.000249669363900206, which has 21 chars, however, EDF+ can only save 8 chars, will be truncated to -0.00024, some loss of precision is to be expected.\n",
      "  warnings.warn('Physical maximum for channel {} ({}) is {}, which has {} chars, '\\\n",
      "C:\\Users\\naikh\\anaconda3\\envs\\PytorchEnvironment\\Lib\\site-packages\\pyedflib\\edfwriter.py:134: UserWarning: Physical minimum for channel 3 (PSG_C4) is -0.002300134388120851, which has 21 chars, however, EDF+ can only save 8 chars, will be truncated to -0.00230, some loss of precision is to be expected\n",
      "  warnings.warn('Physical minimum for channel {} ({}) is {}, which has {} chars, '\\\n",
      "C:\\Users\\naikh\\anaconda3\\envs\\PytorchEnvironment\\Lib\\site-packages\\pyedflib\\edfwriter.py:141: UserWarning: Physical maximum for channel 3 (PSG_C4) is -0.0003578893502174409, which has 22 chars, however, EDF+ can only save 8 chars, will be truncated to -0.00035, some loss of precision is to be expected.\n",
      "  warnings.warn('Physical maximum for channel {} ({}) is {}, which has {} chars, '\\\n",
      "C:\\Users\\naikh\\anaconda3\\envs\\PytorchEnvironment\\Lib\\site-packages\\pyedflib\\edfwriter.py:134: UserWarning: Physical minimum for channel 4 (PSG_O1) is -0.002083727831354238, which has 21 chars, however, EDF+ can only save 8 chars, will be truncated to -0.00208, some loss of precision is to be expected\n",
      "  warnings.warn('Physical minimum for channel {} ({}) is {}, which has {} chars, '\\\n",
      "C:\\Users\\naikh\\anaconda3\\envs\\PytorchEnvironment\\Lib\\site-packages\\pyedflib\\edfwriter.py:141: UserWarning: Physical maximum for channel 4 (PSG_O1) is -0.0002512471611291678, which has 22 chars, however, EDF+ can only save 8 chars, will be truncated to -0.00025, some loss of precision is to be expected.\n",
      "  warnings.warn('Physical maximum for channel {} ({}) is {}, which has {} chars, '\\\n",
      "C:\\Users\\naikh\\anaconda3\\envs\\PytorchEnvironment\\Lib\\site-packages\\pyedflib\\edfwriter.py:134: UserWarning: Physical minimum for channel 5 (PSG_O2) is -0.002298863502253757, which has 21 chars, however, EDF+ can only save 8 chars, will be truncated to -0.00229, some loss of precision is to be expected\n",
      "  warnings.warn('Physical minimum for channel {} ({}) is {}, which has {} chars, '\\\n",
      "C:\\Users\\naikh\\anaconda3\\envs\\PytorchEnvironment\\Lib\\site-packages\\pyedflib\\edfwriter.py:141: UserWarning: Physical maximum for channel 5 (PSG_O2) is -0.0002793268897047377, which has 22 chars, however, EDF+ can only save 8 chars, will be truncated to -0.00027, some loss of precision is to be expected.\n",
      "  warnings.warn('Physical maximum for channel {} ({}) is {}, which has {} chars, '\\\n"
     ]
    },
    {
     "name": "stdout",
     "output_type": "stream",
     "text": [
      "Extracting EDF parameters from C:\\Users\\naikh\\SleepResearchCode_experient\\Dataset_clean_for_jupyter\\sub-128\\eeg\\sub-128_task-Sleep_acq-psg_eeg.edf...\n",
      "EDF file detected\n",
      "Setting channel info structure...\n",
      "Creating raw.info structure...\n",
      "Reading 0 ... 6309887  =      0.000 ... 24647.996 secs...\n"
     ]
    },
    {
     "name": "stderr",
     "output_type": "stream",
     "text": [
      "C:\\Users\\naikh\\anaconda3\\envs\\PytorchEnvironment\\Lib\\site-packages\\pyedflib\\edfwriter.py:134: UserWarning: Physical minimum for channel 1 (PSG_F4) is -0.0024536756755931944, which has 22 chars, however, EDF+ can only save 8 chars, will be truncated to -0.00245, some loss of precision is to be expected\n",
      "  warnings.warn('Physical minimum for channel {} ({}) is {}, which has {} chars, '\\\n",
      "C:\\Users\\naikh\\anaconda3\\envs\\PytorchEnvironment\\Lib\\site-packages\\pyedflib\\edfwriter.py:134: UserWarning: Physical minimum for channel 2 (PSG_C3) is -0.002335705596551461, which has 21 chars, however, EDF+ can only save 8 chars, will be truncated to -0.00233, some loss of precision is to be expected\n",
      "  warnings.warn('Physical minimum for channel {} ({}) is {}, which has {} chars, '\\\n",
      "C:\\Users\\naikh\\anaconda3\\envs\\PytorchEnvironment\\Lib\\site-packages\\pyedflib\\edfwriter.py:134: UserWarning: Physical minimum for channel 3 (PSG_C4) is -0.0024588127740901807, which has 22 chars, however, EDF+ can only save 8 chars, will be truncated to -0.00245, some loss of precision is to be expected\n",
      "  warnings.warn('Physical minimum for channel {} ({}) is {}, which has {} chars, '\\\n",
      "C:\\Users\\naikh\\anaconda3\\envs\\PytorchEnvironment\\Lib\\site-packages\\pyedflib\\edfwriter.py:134: UserWarning: Physical minimum for channel 4 (PSG_O1) is -0.0021104435724422065, which has 22 chars, however, EDF+ can only save 8 chars, will be truncated to -0.00211, some loss of precision is to be expected\n",
      "  warnings.warn('Physical minimum for channel {} ({}) is {}, which has {} chars, '\\\n"
     ]
    }
   ],
   "source": [
    "for i in range(1,129):\n",
    "    filter_6_channels(i)"
   ]
  },
  {
   "cell_type": "code",
   "execution_count": null,
   "id": "260e9aac-9b4b-4f4c-a50b-80b14525709f",
   "metadata": {},
   "outputs": [],
   "source": []
  }
 ],
 "metadata": {
  "kernelspec": {
   "display_name": "Python 3 (ipykernel)",
   "language": "python",
   "name": "python3"
  },
  "language_info": {
   "codemirror_mode": {
    "name": "ipython",
    "version": 3
   },
   "file_extension": ".py",
   "mimetype": "text/x-python",
   "name": "python",
   "nbconvert_exporter": "python",
   "pygments_lexer": "ipython3",
   "version": "3.12.9"
  }
 },
 "nbformat": 4,
 "nbformat_minor": 5
}
