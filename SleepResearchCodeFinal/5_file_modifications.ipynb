{
 "cells": [
  {
   "cell_type": "markdown",
   "id": "0b60deb8-4f98-416b-8127-0816d7aeb7cd",
   "metadata": {},
   "source": [
    "This code will combine Dataset_clean_for_jupyter\\\\sub-{sub_no}\\\\eeg\\\\sub-{sub_no}_task-Sleep_acq-psg_events.tsv and 'Dataset_clean_for_jupyter\\\\sub-{sub_no}\\\\eeg\\\\sub-{sub_no}_task-Sleep_acq-headband_events.tsv' file and store it in Dataset_clean_for_jupyter\\\\sub-{sub_no}\\\\eeg\\\\sub-{sub_no}_majority_aiPSG_aiHB_events.tsv"
   ]
  },
  {
   "cell_type": "code",
   "execution_count": 9,
   "id": "5d7daa33-a7c4-494f-8f0d-063aa22029e3",
   "metadata": {},
   "outputs": [],
   "source": [
    "import pandas as pd"
   ]
  },
  {
   "cell_type": "code",
   "execution_count": 3,
   "id": "39d69dcf-75b0-4bce-8e21-9162f5ed9f7c",
   "metadata": {},
   "outputs": [],
   "source": [
    "for sub_no in range (1,129):\n",
    "    event_1_psg = pd.read_csv(f'Dataset_clean_for_jupyter\\\\sub-{sub_no}\\\\eeg\\\\sub-{sub_no}_task-Sleep_acq-psg_events.tsv',sep = '\\t')\n",
    "    event_1_hb = pd.read_csv(f'Dataset_clean_for_jupyter\\\\sub-{sub_no}\\\\eeg\\\\sub-{sub_no}_task-Sleep_acq-headband_events.tsv',sep = '\\t')\n",
    "    merged_labels_df = pd.merge(event_1_psg[['onset','majority','ai_psg']], event_1_hb[['onset','ai_hb']], on='onset', suffixes=('_psg', '_hb'))\n",
    "    merged_labels_df.to_csv(f'Dataset_clean_for_jupyter\\\\sub-{sub_no}\\\\eeg\\\\sub-{sub_no}_majority_aiPSG_aiHB_events.tsv', sep='\\t', index=False)\n"
   ]
  },
  {
   "cell_type": "code",
   "execution_count": 11,
   "id": "6269f94f-b397-405e-84dc-738249de7be9",
   "metadata": {},
   "outputs": [],
   "source": [
    "# for Yasa results\n",
    "for sub_no in range (1,129):\n",
    "    event_majority = pd.read_csv(f'Dataset_clean_for_jupyter\\\\sub-{sub_no}\\\\eeg\\\\sub-{sub_no}_task-Sleep_acq-psg_events.tsv',sep = '\\t')\n",
    "    event_yasa_hb = pd.read_csv(f'Dataset_clean_for_jupyter\\\\sub-{sub_no}\\\\eeg\\\\sub-{sub_no}_yasa_hb1_hb2_events.tsv',sep = '\\t')\n",
    "    event_yasa_psg = pd.read_csv(f'Dataset_clean_for_jupyter\\\\sub-{sub_no}\\\\eeg\\\\sub-{sub_no}_yasa_psg_events.tsv',sep = '\\t')\n",
    "    merged_labels_df =pd.concat([event_majority[['onset','majority']], event_yasa_hb,event_yasa_psg[['yasa_PSG']]], axis=1)\n",
    "    merged_labels_df.to_csv(f'Dataset_clean_for_jupyter\\\\sub-{sub_no}\\\\eeg\\\\sub-{sub_no}_majority_yasa_PSG_HB_events.tsv', sep='\\t', index=False)"
   ]
  },
  {
   "cell_type": "code",
   "execution_count": null,
   "id": "5aed16be-15eb-476f-a215-cdc89a9d3a3f",
   "metadata": {},
   "outputs": [],
   "source": []
  },
  {
   "cell_type": "code",
   "execution_count": null,
   "id": "b3844220-a312-4eb1-ba71-da7efcf8bca0",
   "metadata": {},
   "outputs": [],
   "source": []
  }
 ],
 "metadata": {
  "kernelspec": {
   "display_name": "Python 3 (ipykernel)",
   "language": "python",
   "name": "python3"
  },
  "language_info": {
   "codemirror_mode": {
    "name": "ipython",
    "version": 3
   },
   "file_extension": ".py",
   "mimetype": "text/x-python",
   "name": "python",
   "nbconvert_exporter": "python",
   "pygments_lexer": "ipython3",
   "version": "3.12.9"
  }
 },
 "nbformat": 4,
 "nbformat_minor": 5
}
