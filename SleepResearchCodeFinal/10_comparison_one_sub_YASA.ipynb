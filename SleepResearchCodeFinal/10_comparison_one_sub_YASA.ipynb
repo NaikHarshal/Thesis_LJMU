{
 "cells": [
  {
   "cell_type": "code",
   "execution_count": 2,
   "id": "e7f0d499-1860-464d-975e-1fe394729064",
   "metadata": {},
   "outputs": [],
   "source": [
    "import mne\n",
    "import numpy as np\n",
    "import tensorflow as tf\n",
    "import os\n"
   ]
  },
  {
   "cell_type": "code",
   "execution_count": 3,
   "id": "468fb38f-14d3-4fb9-81b6-b6b3ce7bbd9f",
   "metadata": {},
   "outputs": [],
   "source": [
    "sub_no =25"
   ]
  },
  {
   "cell_type": "code",
   "execution_count": 4,
   "id": "3b6896a7-ff19-43f9-9a3b-de5c8b176de9",
   "metadata": {},
   "outputs": [
    {
     "name": "stdout",
     "output_type": "stream",
     "text": [
      "Extracting EDF parameters from C:\\Users\\naikh\\SleepResearchCode_experient\\YASA\\Dataset_clean_for_jupyter\\sub-25\\eeg\\sub-25_task-Sleep_acq-headband_eeg_2-channels.edf...\n",
      "EDF file detected\n"
     ]
    },
    {
     "ename": "FileNotFoundError",
     "evalue": "[Errno 2] No such file or directory: 'C:\\\\Users\\\\naikh\\\\SleepResearchCode_experient\\\\YASA\\\\Dataset_clean_for_jupyter\\\\sub-25\\\\eeg\\\\sub-25_task-Sleep_acq-headband_eeg_2-channels.edf'",
     "output_type": "error",
     "traceback": [
      "\u001b[1;31m---------------------------------------------------------------------------\u001b[0m",
      "\u001b[1;31mFileNotFoundError\u001b[0m                         Traceback (most recent call last)",
      "Cell \u001b[1;32mIn[4], line 2\u001b[0m\n\u001b[0;32m      1\u001b[0m \u001b[38;5;66;03m# Step 1: Load the EDF file\u001b[39;00m\n\u001b[1;32m----> 2\u001b[0m raw \u001b[38;5;241m=\u001b[39m mne\u001b[38;5;241m.\u001b[39mio\u001b[38;5;241m.\u001b[39mread_raw_edf(\u001b[38;5;124mf\u001b[39m\u001b[38;5;124m'\u001b[39m\u001b[38;5;124mDataset_clean_for_jupyter/sub-\u001b[39m\u001b[38;5;132;01m{\u001b[39;00msub_no\u001b[38;5;132;01m}\u001b[39;00m\u001b[38;5;124m/eeg/sub-\u001b[39m\u001b[38;5;132;01m{\u001b[39;00msub_no\u001b[38;5;132;01m}\u001b[39;00m\u001b[38;5;124m_task-Sleep_acq-headband_eeg_2-channels.edf\u001b[39m\u001b[38;5;124m'\u001b[39m, preload\u001b[38;5;241m=\u001b[39m\u001b[38;5;28;01mTrue\u001b[39;00m)\n\u001b[0;32m      4\u001b[0m \u001b[38;5;66;03m# Print information about available channels\u001b[39;00m\n\u001b[0;32m      5\u001b[0m \u001b[38;5;28mprint\u001b[39m(raw\u001b[38;5;241m.\u001b[39minfo)\n",
      "File \u001b[1;32m~\\anaconda3\\envs\\TensorFlowEnv\\Lib\\site-packages\\mne\\io\\edf\\edf.py:1699\u001b[0m, in \u001b[0;36mread_raw_edf\u001b[1;34m(input_fname, eog, misc, stim_channel, exclude, infer_types, include, preload, units, encoding, exclude_after_unique, verbose)\u001b[0m\n\u001b[0;32m   1697\u001b[0m \u001b[38;5;28;01mif\u001b[39;00m ext \u001b[38;5;241m!=\u001b[39m \u001b[38;5;124m\"\u001b[39m\u001b[38;5;124medf\u001b[39m\u001b[38;5;124m\"\u001b[39m:\n\u001b[0;32m   1698\u001b[0m     \u001b[38;5;28;01mraise\u001b[39;00m \u001b[38;5;167;01mNotImplementedError\u001b[39;00m(\u001b[38;5;124mf\u001b[39m\u001b[38;5;124m\"\u001b[39m\u001b[38;5;124mOnly EDF files are supported, got \u001b[39m\u001b[38;5;132;01m{\u001b[39;00mext\u001b[38;5;132;01m}\u001b[39;00m\u001b[38;5;124m.\u001b[39m\u001b[38;5;124m\"\u001b[39m)\n\u001b[1;32m-> 1699\u001b[0m \u001b[38;5;28;01mreturn\u001b[39;00m RawEDF(\n\u001b[0;32m   1700\u001b[0m     input_fname\u001b[38;5;241m=\u001b[39minput_fname,\n\u001b[0;32m   1701\u001b[0m     eog\u001b[38;5;241m=\u001b[39meog,\n\u001b[0;32m   1702\u001b[0m     misc\u001b[38;5;241m=\u001b[39mmisc,\n\u001b[0;32m   1703\u001b[0m     stim_channel\u001b[38;5;241m=\u001b[39mstim_channel,\n\u001b[0;32m   1704\u001b[0m     exclude\u001b[38;5;241m=\u001b[39mexclude,\n\u001b[0;32m   1705\u001b[0m     infer_types\u001b[38;5;241m=\u001b[39minfer_types,\n\u001b[0;32m   1706\u001b[0m     preload\u001b[38;5;241m=\u001b[39mpreload,\n\u001b[0;32m   1707\u001b[0m     include\u001b[38;5;241m=\u001b[39minclude,\n\u001b[0;32m   1708\u001b[0m     units\u001b[38;5;241m=\u001b[39munits,\n\u001b[0;32m   1709\u001b[0m     encoding\u001b[38;5;241m=\u001b[39mencoding,\n\u001b[0;32m   1710\u001b[0m     exclude_after_unique\u001b[38;5;241m=\u001b[39mexclude_after_unique,\n\u001b[0;32m   1711\u001b[0m     verbose\u001b[38;5;241m=\u001b[39mverbose,\n\u001b[0;32m   1712\u001b[0m )\n",
      "File \u001b[1;32m<decorator-gen-204>:12\u001b[0m, in \u001b[0;36m__init__\u001b[1;34m(self, input_fname, eog, misc, stim_channel, exclude, infer_types, preload, include, units, encoding, exclude_after_unique, verbose)\u001b[0m\n",
      "File \u001b[1;32m~\\anaconda3\\envs\\TensorFlowEnv\\Lib\\site-packages\\mne\\io\\edf\\edf.py:152\u001b[0m, in \u001b[0;36mRawEDF.__init__\u001b[1;34m(self, input_fname, eog, misc, stim_channel, exclude, infer_types, preload, include, units, encoding, exclude_after_unique, verbose)\u001b[0m\n\u001b[0;32m    150\u001b[0m logger\u001b[38;5;241m.\u001b[39minfo(\u001b[38;5;124mf\u001b[39m\u001b[38;5;124m\"\u001b[39m\u001b[38;5;124mExtracting EDF parameters from \u001b[39m\u001b[38;5;132;01m{\u001b[39;00minput_fname\u001b[38;5;132;01m}\u001b[39;00m\u001b[38;5;124m...\u001b[39m\u001b[38;5;124m\"\u001b[39m)\n\u001b[0;32m    151\u001b[0m input_fname \u001b[38;5;241m=\u001b[39m os\u001b[38;5;241m.\u001b[39mpath\u001b[38;5;241m.\u001b[39mabspath(input_fname)\n\u001b[1;32m--> 152\u001b[0m info, edf_info, orig_units \u001b[38;5;241m=\u001b[39m _get_info(\n\u001b[0;32m    153\u001b[0m     input_fname,\n\u001b[0;32m    154\u001b[0m     stim_channel,\n\u001b[0;32m    155\u001b[0m     eog,\n\u001b[0;32m    156\u001b[0m     misc,\n\u001b[0;32m    157\u001b[0m     exclude,\n\u001b[0;32m    158\u001b[0m     infer_types,\n\u001b[0;32m    159\u001b[0m     preload,\n\u001b[0;32m    160\u001b[0m     include,\n\u001b[0;32m    161\u001b[0m     exclude_after_unique,\n\u001b[0;32m    162\u001b[0m )\n\u001b[0;32m    163\u001b[0m logger\u001b[38;5;241m.\u001b[39minfo(\u001b[38;5;124m\"\u001b[39m\u001b[38;5;124mCreating raw.info structure...\u001b[39m\u001b[38;5;124m\"\u001b[39m)\n\u001b[0;32m    165\u001b[0m _validate_type(units, (\u001b[38;5;28mstr\u001b[39m, \u001b[38;5;28;01mNone\u001b[39;00m, \u001b[38;5;28mdict\u001b[39m), \u001b[38;5;124m\"\u001b[39m\u001b[38;5;124munits\u001b[39m\u001b[38;5;124m\"\u001b[39m)\n",
      "File \u001b[1;32m~\\anaconda3\\envs\\TensorFlowEnv\\Lib\\site-packages\\mne\\io\\edf\\edf.py:538\u001b[0m, in \u001b[0;36m_get_info\u001b[1;34m(fname, stim_channel, eog, misc, exclude, infer_types, preload, include, exclude_after_unique)\u001b[0m\n\u001b[0;32m    535\u001b[0m eog \u001b[38;5;241m=\u001b[39m eog \u001b[38;5;28;01mif\u001b[39;00m eog \u001b[38;5;129;01mis\u001b[39;00m \u001b[38;5;129;01mnot\u001b[39;00m \u001b[38;5;28;01mNone\u001b[39;00m \u001b[38;5;28;01melse\u001b[39;00m []\n\u001b[0;32m    536\u001b[0m misc \u001b[38;5;241m=\u001b[39m misc \u001b[38;5;28;01mif\u001b[39;00m misc \u001b[38;5;129;01mis\u001b[39;00m \u001b[38;5;129;01mnot\u001b[39;00m \u001b[38;5;28;01mNone\u001b[39;00m \u001b[38;5;28;01melse\u001b[39;00m []\n\u001b[1;32m--> 538\u001b[0m edf_info, orig_units \u001b[38;5;241m=\u001b[39m _read_header(\n\u001b[0;32m    539\u001b[0m     fname, exclude, infer_types, include, exclude_after_unique\n\u001b[0;32m    540\u001b[0m )\n\u001b[0;32m    542\u001b[0m \u001b[38;5;66;03m# XXX: `tal_ch_names` to pass to `_check_stim_channel` should be computed\u001b[39;00m\n\u001b[0;32m    543\u001b[0m \u001b[38;5;66;03m#      from `edf_info['ch_names']` and `edf_info['tal_idx']` but 'tal_idx'\u001b[39;00m\n\u001b[0;32m    544\u001b[0m \u001b[38;5;66;03m#      contains stim channels that are not TAL.\u001b[39;00m\n\u001b[0;32m    545\u001b[0m stim_channel_idxs, _ \u001b[38;5;241m=\u001b[39m _check_stim_channel(stim_channel, edf_info[\u001b[38;5;124m\"\u001b[39m\u001b[38;5;124mch_names\u001b[39m\u001b[38;5;124m\"\u001b[39m])\n",
      "File \u001b[1;32m~\\anaconda3\\envs\\TensorFlowEnv\\Lib\\site-packages\\mne\\io\\edf\\edf.py:512\u001b[0m, in \u001b[0;36m_read_header\u001b[1;34m(fname, exclude, infer_types, include, exclude_after_unique)\u001b[0m\n\u001b[0;32m    510\u001b[0m logger\u001b[38;5;241m.\u001b[39minfo(\u001b[38;5;124mf\u001b[39m\u001b[38;5;124m\"\u001b[39m\u001b[38;5;132;01m{\u001b[39;00mext\u001b[38;5;241m.\u001b[39mupper()\u001b[38;5;132;01m}\u001b[39;00m\u001b[38;5;124m file detected\u001b[39m\u001b[38;5;124m\"\u001b[39m)\n\u001b[0;32m    511\u001b[0m \u001b[38;5;28;01mif\u001b[39;00m ext \u001b[38;5;129;01min\u001b[39;00m (\u001b[38;5;124m\"\u001b[39m\u001b[38;5;124mbdf\u001b[39m\u001b[38;5;124m\"\u001b[39m, \u001b[38;5;124m\"\u001b[39m\u001b[38;5;124medf\u001b[39m\u001b[38;5;124m\"\u001b[39m):\n\u001b[1;32m--> 512\u001b[0m     \u001b[38;5;28;01mreturn\u001b[39;00m _read_edf_header(\n\u001b[0;32m    513\u001b[0m         fname, exclude, infer_types, include, exclude_after_unique\n\u001b[0;32m    514\u001b[0m     )\n\u001b[0;32m    515\u001b[0m \u001b[38;5;28;01melif\u001b[39;00m ext \u001b[38;5;241m==\u001b[39m \u001b[38;5;124m\"\u001b[39m\u001b[38;5;124mgdf\u001b[39m\u001b[38;5;124m\"\u001b[39m:\n\u001b[0;32m    516\u001b[0m     \u001b[38;5;28;01mreturn\u001b[39;00m _read_gdf_header(fname, exclude, include), \u001b[38;5;28;01mNone\u001b[39;00m\n",
      "File \u001b[1;32m~\\anaconda3\\envs\\TensorFlowEnv\\Lib\\site-packages\\mne\\io\\edf\\edf.py:806\u001b[0m, in \u001b[0;36m_read_edf_header\u001b[1;34m(fname, exclude, infer_types, include, exclude_after_unique)\u001b[0m\n\u001b[0;32m    803\u001b[0m \u001b[38;5;250m\u001b[39m\u001b[38;5;124;03m\"\"\"Read header information from EDF+ or BDF file.\"\"\"\u001b[39;00m\n\u001b[0;32m    804\u001b[0m edf_info \u001b[38;5;241m=\u001b[39m {\u001b[38;5;124m\"\u001b[39m\u001b[38;5;124mevents\u001b[39m\u001b[38;5;124m\"\u001b[39m: []}\n\u001b[1;32m--> 806\u001b[0m \u001b[38;5;28;01mwith\u001b[39;00m \u001b[38;5;28mopen\u001b[39m(fname, \u001b[38;5;124m\"\u001b[39m\u001b[38;5;124mrb\u001b[39m\u001b[38;5;124m\"\u001b[39m) \u001b[38;5;28;01mas\u001b[39;00m fid:\n\u001b[0;32m    807\u001b[0m     fid\u001b[38;5;241m.\u001b[39mread(\u001b[38;5;241m8\u001b[39m)  \u001b[38;5;66;03m# version (unused here)\u001b[39;00m\n\u001b[0;32m    809\u001b[0m     \u001b[38;5;66;03m# patient ID\u001b[39;00m\n",
      "\u001b[1;31mFileNotFoundError\u001b[0m: [Errno 2] No such file or directory: 'C:\\\\Users\\\\naikh\\\\SleepResearchCode_experient\\\\YASA\\\\Dataset_clean_for_jupyter\\\\sub-25\\\\eeg\\\\sub-25_task-Sleep_acq-headband_eeg_2-channels.edf'"
     ]
    }
   ],
   "source": [
    "\n",
    "# Step 1: Load the EDF file\n",
    "raw = mne.io.read_raw_edf(f'Dataset_clean_for_jupyter/sub-{sub_no}/eeg/sub-{sub_no}_task-Sleep_acq-headband_eeg_2-channels.edf', preload=True)\n",
    "\n",
    "# Print information about available channels\n",
    "print(raw.info)"
   ]
  },
  {
   "cell_type": "code",
   "execution_count": 4,
   "id": "1ffdab7d-8516-46e9-962d-7ee7dec27467",
   "metadata": {},
   "outputs": [],
   "source": [
    "# pip install yasa"
   ]
  },
  {
   "cell_type": "code",
   "execution_count": 19,
   "id": "d538c51b-66d8-41ae-bc73-a2d80959eada",
   "metadata": {},
   "outputs": [
    {
     "name": "stdout",
     "output_type": "stream",
     "text": [
      "Sampling frequency of the instance is already 100.0, returning unmodified.\n",
      "NOTE: pick_channels() is a legacy function. New code should use inst.pick(...).\n"
     ]
    },
    {
     "name": "stderr",
     "output_type": "stream",
     "text": [
      "C:\\Users\\naikh\\anaconda3\\envs\\TensorFlowEnv\\Lib\\site-packages\\sklearn\\base.py:380: InconsistentVersionWarning: Trying to unpickle estimator LabelEncoder from version 0.24.2 when using version 1.6.1. This might lead to breaking code or invalid results. Use at your own risk. For more info please refer to:\n",
      "https://scikit-learn.org/stable/model_persistence.html#security-maintainability-limitations\n",
      "  warnings.warn(\n",
      "C:\\Users\\naikh\\anaconda3\\envs\\TensorFlowEnv\\Lib\\site-packages\\yasa\\plotting.py:89: FutureWarning: 'S' is deprecated and will be removed in a future version. Please use 's' instead of 'S'.\n",
      "  freq_str = pd.tseries.frequencies.to_offset(pd.Timedelta(1 / sf_hypno, \"S\")).freqstr\n"
     ]
    },
    {
     "data": {
      "text/plain": [
       "<Axes: xlabel='Time [hrs]', ylabel='Stage'>"
      ]
     },
     "execution_count": 19,
     "metadata": {},
     "output_type": "execute_result"
    },
    {
     "data": {
      "image/png": "[encoded data removed]",
      "text/plain": [
       "<Figure size 640x480 with 1 Axes>"
      ]
     },
     "metadata": {},
     "output_type": "display_data"
    }
   ],
   "source": [
    "import yasa\n",
    "\n",
    "# Preprocess your data\n",
    "# Resample to 100 Hz (common for sleep staging)\n",
    "raw.resample(100)\n",
    "\n",
    "# Extract EEG data (adjust channel names to match your file)\n",
    "# eeg_data = raw.get_data(picks =['HB_1'])\n",
    "eeg_data = raw.pick_channels(['HB_1'])\n",
    "sf = raw.info['sfreq']  # Sampling frequency\n",
    "\n",
    "# Use YASA's sleep staging\n",
    "from yasa import SleepStaging\n",
    "\n",
    "# Create the staging instance\n",
    "staging = SleepStaging(eeg_data, eeg_name='HB_1')\n",
    "\n",
    "# Predict sleep stages\n",
    "# Classes: W (Wake), N1, N2, N3, REM\n",
    "hypno = staging.predict()\n",
    "\n",
    "# Convert string labels to integers according to YASA's standard mapping\n",
    "# YASA standard: Wake=0, N1=1, N2=2, N3=3, REM=4\n",
    "mapping = {'W': 0, 'N1': 1, 'N2': 2, 'N3': 3, 'R': 4}\n",
    "hypno_int = np.array([mapping[stage] for stage in hypno])\n",
    "\n",
    "# Now plot with integer values\n",
    "yasa.plot_hypnogram(hypno_int, sf_hypno=1/30)  "
   ]
  },
  {
   "cell_type": "code",
   "execution_count": 6,
   "id": "d7ae97ff-94b8-41fd-9736-baf9d23d29e0",
   "metadata": {},
   "outputs": [
    {
     "data": {
      "text/plain": [
       "(1083,)"
      ]
     },
     "execution_count": 6,
     "metadata": {},
     "output_type": "execute_result"
    }
   ],
   "source": [
    "hypno.shape"
   ]
  },
  {
   "cell_type": "code",
   "execution_count": 7,
   "id": "3f3e1bbe-c33a-46b2-b756-31b28c7e0eaf",
   "metadata": {},
   "outputs": [
    {
     "name": "stdout",
     "output_type": "stream",
     "text": [
      "Type of hypno: <class 'numpy.ndarray'>\n",
      "Length of hypnogram: 1083\n",
      "Unique values: ['N1' 'N2' 'N3' 'R' 'W']\n"
     ]
    }
   ],
   "source": [
    "# Basic information\n",
    "print(\"Type of hypno:\", type(hypno))\n",
    "print(\"Length of hypnogram:\", len(hypno))\n",
    "print(\"Unique values:\", np.unique(hypno))"
   ]
  },
  {
   "cell_type": "code",
   "execution_count": 8,
   "id": "687cebed-416a-4418-a5ff-8ac9238d5afc",
   "metadata": {},
   "outputs": [
    {
     "data": {
      "text/plain": [
       "array(['W', 'W', 'W', ..., 'W', 'W', 'W'], dtype=object)"
      ]
     },
     "execution_count": 8,
     "metadata": {},
     "output_type": "execute_result"
    }
   ],
   "source": [
    "hypno"
   ]
  },
  {
   "cell_type": "code",
   "execution_count": 14,
   "id": "916e30cd-af67-433b-b039-7f638919f1f5",
   "metadata": {},
   "outputs": [
    {
     "data": {
      "text/plain": [
       "array([0, 0, 0, ..., 0, 0, 0])"
      ]
     },
     "execution_count": 14,
     "metadata": {},
     "output_type": "execute_result"
    }
   ],
   "source": [
    "hypno_int"
   ]
  },
  {
   "cell_type": "code",
   "execution_count": 15,
   "id": "58ed3d56-9f5d-4fe0-9e97-1d0f762a5aa3",
   "metadata": {},
   "outputs": [],
   "source": [
    "unique_values, counts = np.unique(hypno_int, return_counts=True)\n"
   ]
  },
  {
   "cell_type": "code",
   "execution_count": 17,
   "id": "f43d716e-7c36-4e22-b0bb-ab260d2cb75e",
   "metadata": {},
   "outputs": [
    {
     "data": {
      "text/plain": [
       "(array([0, 1, 2, 3, 4]), array([360, 160, 409,  22, 132]))"
      ]
     },
     "execution_count": 17,
     "metadata": {},
     "output_type": "execute_result"
    }
   ],
   "source": [
    "unique_values ,counts"
   ]
  },
  {
   "cell_type": "code",
   "execution_count": null,
   "id": "52a6fdcd-5bcb-4ff3-90e2-387cc5836529",
   "metadata": {},
   "outputs": [],
   "source": []
  }
 ],
 "metadata": {
  "kernelspec": {
   "display_name": "Python 3 (ipykernel)",
   "language": "python",
   "name": "python3"
  },
  "language_info": {
   "codemirror_mode": {
    "name": "ipython",
    "version": 3
   },
   "file_extension": ".py",
   "mimetype": "text/x-python",
   "name": "python",
   "nbconvert_exporter": "python",
   "pygments_lexer": "ipython3",
   "version": "3.12.9"
  }
 },
 "nbformat": 4,
 "nbformat_minor": 5
}
