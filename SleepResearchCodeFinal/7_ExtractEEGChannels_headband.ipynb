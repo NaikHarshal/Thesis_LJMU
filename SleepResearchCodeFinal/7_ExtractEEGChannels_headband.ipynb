{
 "cells": [
  {
   "cell_type": "markdown",
   "id": "a3802037-e843-41fa-a691-c16ef39df7e0",
   "metadata": {},
   "source": [
    "## This code will extract 2 channels from headband edf file(sub-1_task-Sleep_acq-headband_eeg.edf)  and store it as new (sub-1_task-Sleep_acq-headband_eeg_2-channels.edf)"
   ]
  },
  {
   "cell_type": "markdown",
   "id": "73eb8a22-9682-4967-8d0a-b7f64745dc81",
   "metadata": {},
   "source": [
    "ok, let's try this for 1 file first "
   ]
  },
  {
   "cell_type": "code",
   "execution_count": 11,
   "id": "bccc71d8-daba-492d-a756-5a79069e042b",
   "metadata": {},
   "outputs": [],
   "source": [
    "sub_no = 25"
   ]
  },
  {
   "cell_type": "code",
   "execution_count": 12,
   "id": "974551a3-4fd1-41ca-9943-22fc37d35d39",
   "metadata": {},
   "outputs": [],
   "source": [
    "# pip install pyedflib"
   ]
  },
  {
   "cell_type": "code",
   "execution_count": 13,
   "id": "890af452-dda7-4311-9f07-e95c140cc321",
   "metadata": {},
   "outputs": [],
   "source": [
    "import mne\n",
    "import pyedflib\n",
    "import numpy as np\n"
   ]
  },
  {
   "cell_type": "code",
   "execution_count": 14,
   "id": "8fb9efa5-8b40-4166-aae8-37ef167770e8",
   "metadata": {},
   "outputs": [
    {
     "name": "stdout",
     "output_type": "stream",
     "text": [
      "Extracting EDF parameters from C:\\Users\\naikh\\SleepResearchCode_experient\\Dataset_clean_for_jupyter\\sub-25\\eeg\\sub-25_task-Sleep_acq-headband_eeg.edf...\n",
      "EDF file detected\n",
      "Setting channel info structure...\n",
      "Creating raw.info structure...\n",
      "Reading 0 ... 8321535  =      0.000 ... 32505.996 secs...\n"
     ]
    },
    {
     "name": "stderr",
     "output_type": "stream",
     "text": [
      "C:\\Users\\naikh\\AppData\\Local\\Temp\\ipykernel_22900\\1154899221.py:2: RuntimeWarning: Channels contain different highpass filters. Highest filter setting will be stored.\n",
      "  raw = mne.io.read_raw_edf(file_path, preload=True)\n",
      "C:\\Users\\naikh\\AppData\\Local\\Temp\\ipykernel_22900\\1154899221.py:2: RuntimeWarning: Channels contain different lowpass filters. Lowest filter setting will be stored.\n",
      "  raw = mne.io.read_raw_edf(file_path, preload=True)\n"
     ]
    },
    {
     "name": "stdout",
     "output_type": "stream",
     "text": [
      "<RawEDF | sub-25_task-Sleep_acq-headband_eeg.edf, 9 x 8321536 (32506.0 s), ~571.4 MiB, data loaded>\n",
      "<Info | 8 non-empty values\n",
      " bads: []\n",
      " ch_names: HB_1, HB_2, HB_IMU_1, HB_IMU_2, HB_IMU_3, HB_IMU_4, HB_IMU_5, ...\n",
      " chs: 9 EEG\n",
      " custom_ref_applied: False\n",
      " highpass: 0.1 Hz\n",
      " lowpass: 10.0 Hz\n",
      " meas_date: 2023-02-01 22:30:34 UTC\n",
      " nchan: 9\n",
      " projs: []\n",
      " sfreq: 256.0 Hz\n",
      " subject_info: <subject_info | his_id: sub-25>\n",
      ">\n"
     ]
    }
   ],
   "source": [
    "\n",
    "file_path = f'Dataset_clean_for_jupyter/sub-{sub_no}/eeg/sub-{sub_no}_task-Sleep_acq-headband_eeg.edf'\n",
    "raw = mne.io.read_raw_edf(file_path, preload=True)\n",
    "print(raw)\n",
    "print(raw.info)"
   ]
  },
  {
   "cell_type": "code",
   "execution_count": 15,
   "id": "187ee377-a606-4cfd-9811-4c084f7ab220",
   "metadata": {},
   "outputs": [
    {
     "data": {
      "text/plain": [
       "['HB_1',\n",
       " 'HB_2',\n",
       " 'HB_IMU_1',\n",
       " 'HB_IMU_2',\n",
       " 'HB_IMU_3',\n",
       " 'HB_IMU_4',\n",
       " 'HB_IMU_5',\n",
       " 'HB_IMU_6',\n",
       " 'HB_PULSE']"
      ]
     },
     "execution_count": 15,
     "metadata": {},
     "output_type": "execute_result"
    }
   ],
   "source": [
    "raw.ch_names"
   ]
  },
  {
   "cell_type": "code",
   "execution_count": 16,
   "id": "028068a1-afc5-4167-8da7-e5ab4d087e86",
   "metadata": {},
   "outputs": [],
   "source": [
    "raw2 = raw.copy().pick(range(2))"
   ]
  },
  {
   "cell_type": "code",
   "execution_count": 17,
   "id": "22d9501a-53ff-4180-bc76-85dad7ce0291",
   "metadata": {},
   "outputs": [
    {
     "data": {
      "text/plain": [
       "['HB_1', 'HB_2']"
      ]
     },
     "execution_count": 17,
     "metadata": {},
     "output_type": "execute_result"
    }
   ],
   "source": [
    "raw2.ch_names"
   ]
  },
  {
   "cell_type": "code",
   "execution_count": 18,
   "id": "846ceedb-c774-42a8-ac67-84073d4abc3c",
   "metadata": {},
   "outputs": [],
   "source": [
    "# Define the new file path\n",
    "new_file_path =f'Dataset_clean_for_jupyter/sub-{sub_no}/eeg/sub-{sub_no}_task-Sleep_acq-headband_eeg_2-channels.edf'\n",
    "\n",
    "# Save the modified data as a new EDF file\n",
    "##raw2.save(new_file_path,fmt='edf', overwrite=True)"
   ]
  },
  {
   "cell_type": "code",
   "execution_count": 19,
   "id": "f4c94c61-58a0-421c-8381-8b63d1275c8b",
   "metadata": {},
   "outputs": [
    {
     "name": "stderr",
     "output_type": "stream",
     "text": [
      "C:\\Users\\naikh\\anaconda3\\envs\\TensorFlowEnv\\Lib\\site-packages\\pyedflib\\edfwriter.py:133: UserWarning: Physical minimum for channel 0 (HB_1) is -0.0029999084458686197, which has 22 chars, however, EDF+ can only save 8 chars, will be truncated to -0.00299, some loss of precision is to be expected\n",
      "  warnings.warn('Physical minimum for channel {} ({}) is {}, which has {} chars, '\n",
      "C:\\Users\\naikh\\anaconda3\\envs\\TensorFlowEnv\\Lib\\site-packages\\pyedflib\\edfwriter.py:140: UserWarning: Physical maximum for channel 0 (HB_1) is 0.002999999999999999, which has 20 chars, however, EDF+ can only save 8 chars, will be truncated to 0.002999, some loss of precision is to be expected.\n",
      "  warnings.warn('Physical maximum for channel {} ({}) is {}, which has {} chars, '\n",
      "C:\\Users\\naikh\\anaconda3\\envs\\TensorFlowEnv\\Lib\\site-packages\\pyedflib\\edfwriter.py:133: UserWarning: Physical minimum for channel 1 (HB_2) is -0.0029999425589837493, which has 22 chars, however, EDF+ can only save 8 chars, will be truncated to -0.00299, some loss of precision is to be expected\n",
      "  warnings.warn('Physical minimum for channel {} ({}) is {}, which has {} chars, '\n",
      "C:\\Users\\naikh\\anaconda3\\envs\\TensorFlowEnv\\Lib\\site-packages\\pyedflib\\edfwriter.py:140: UserWarning: Physical maximum for channel 1 (HB_2) is -0.0006381977348134585, which has 22 chars, however, EDF+ can only save 8 chars, will be truncated to -0.00063, some loss of precision is to be expected.\n",
      "  warnings.warn('Physical maximum for channel {} ({}) is {}, which has {} chars, '\n"
     ]
    }
   ],
   "source": [
    "\n",
    "\n",
    "# Create a new EDF file\n",
    "n_channels = len(raw2.ch_names)\n",
    "n_samples = raw.n_times\n",
    "sample_rate = raw.info['sfreq']\n",
    "\n",
    "# Initialize the EDF file\n",
    "with pyedflib.EdfWriter(new_file_path, n_channels=n_channels, file_type=pyedflib.FILETYPE_EDFPLUS) as f:\n",
    "    # Set the header information\n",
    "    channel_info = []\n",
    "    data_list = []\n",
    "\n",
    "    for i, ch_name in enumerate(raw2.ch_names):\n",
    "        ch_dict = {\n",
    "            'label': ch_name,\n",
    "            'dimension': 'uV',\n",
    "            'sample_frequency': sample_rate,\n",
    "            'physical_max': raw._data[i].max(),\n",
    "            'physical_min': raw._data[i].min(),\n",
    "            'digital_max': 32767,\n",
    "            'digital_min': -32768,\n",
    "            'transducer': '',\n",
    "            'prefilter': ''\n",
    "        }\n",
    "        channel_info.append(ch_dict)\n",
    "        data_list.append(raw._data[i])\n",
    "\n",
    "    f.setSignalHeaders(channel_info)\n",
    "    f.writeSamples(data_list)"
   ]
  },
  {
   "cell_type": "code",
   "execution_count": 20,
   "id": "d6e43dbb-0385-49b3-b0d1-1f0c1a924975",
   "metadata": {},
   "outputs": [
    {
     "name": "stdout",
     "output_type": "stream",
     "text": [
      "Channel 0 (HB_1):\n",
      "  Digital Min: -32768\n",
      "  Digital Max: 32767\n",
      "  Physical Min: -3000.0\n",
      "  Physical Max: 3000.0\n",
      "\n",
      "Channel 1 (HB_2):\n",
      "  Digital Min: -32768\n",
      "  Digital Max: 32767\n",
      "  Physical Min: -3000.0\n",
      "  Physical Max: 764.397\n",
      "\n",
      "Channel 2 (HB_IMU_1):\n",
      "  Digital Min: -32768\n",
      "  Digital Max: 32767\n",
      "  Physical Min: -80.0\n",
      "  Physical Max: 8.3816\n",
      "\n",
      "Channel 3 (HB_IMU_2):\n",
      "  Digital Min: -32768\n",
      "  Digital Max: 32767\n",
      "  Physical Min: -80.0\n",
      "  Physical Max: 5.06119\n",
      "\n",
      "Channel 4 (HB_IMU_3):\n",
      "  Digital Min: -32768\n",
      "  Digital Max: 32767\n",
      "  Physical Min: -80.0\n",
      "  Physical Max: -5.32975\n",
      "\n",
      "Channel 5 (HB_IMU_4):\n",
      "  Digital Min: -32768\n",
      "  Digital Max: 32767\n",
      "  Physical Min: -2000.0\n",
      "  Physical Max: 147.282\n",
      "\n",
      "Channel 6 (HB_IMU_5):\n",
      "  Digital Min: -32768\n",
      "  Digital Max: 32767\n",
      "  Physical Min: -2000.0\n",
      "  Physical Max: 122.929\n",
      "\n",
      "Channel 7 (HB_IMU_6):\n",
      "  Digital Min: -32768\n",
      "  Digital Max: 32767\n",
      "  Physical Min: -2000.0\n",
      "  Physical Max: 81.3013\n",
      "\n",
      "Channel 8 (HB_PULSE):\n",
      "  Digital Min: -32768\n",
      "  Digital Max: 32767\n",
      "  Physical Min: -187.5\n",
      "  Physical Max: 187.5\n",
      "\n"
     ]
    }
   ],
   "source": [
    "### this code is or checking digital min digital max\n",
    "\n",
    "import pyedflib\n",
    "\n",
    "# Open the EDF file\n",
    "edf_file = pyedflib.EdfReader(file_path)\n",
    "\n",
    "# Get the number of channels\n",
    "n_channels = edf_file.signals_in_file\n",
    "\n",
    "# Print the digital and physical ranges for each channel\n",
    "for i in range(n_channels):\n",
    "    digital_min = edf_file.getDigitalMinimum(i)\n",
    "    digital_max = edf_file.getDigitalMaximum(i)\n",
    "    physical_min = edf_file.getPhysicalMinimum(i)\n",
    "    physical_max = edf_file.getPhysicalMaximum(i)\n",
    "    channel_label = edf_file.getLabel(i)\n",
    "    \n",
    "    print(f\"Channel {i} ({channel_label}):\")\n",
    "    print(f\"  Digital Min: {digital_min}\")\n",
    "    print(f\"  Digital Max: {digital_max}\")\n",
    "    print(f\"  Physical Min: {physical_min}\")\n",
    "    print(f\"  Physical Max: {physical_max}\")\n",
    "    print()\n",
    "\n",
    "# Close the EDF file\n",
    "edf_file.close()"
   ]
  },
  {
   "cell_type": "markdown",
   "id": "75761081-61b0-4b8d-97e6-39131bcb0e9c",
   "metadata": {},
   "source": [
    "### ok, let's do this for all the channels"
   ]
  },
  {
   "cell_type": "code",
   "execution_count": 21,
   "id": "2094efdc-3e7b-4ab1-835d-0558109a54df",
   "metadata": {},
   "outputs": [],
   "source": [
    "# Create a new EDF file\n",
    "def filter_2_channels(sub_no):\n",
    "    file_path = f'Dataset_clean_for_jupyter/sub-{sub_no}/eeg/sub-{sub_no}_task-Sleep_acq-headband_eeg.edf'\n",
    "    new_file_path =f'Dataset_clean_for_jupyter/sub-{sub_no}/eeg/sub-{sub_no}_task-Sleep_acq-headband_eeg_2-channels.edf'\n",
    "    \n",
    "    raw = mne.io.read_raw_edf(file_path, preload=True)\n",
    "    raw2= raw.copy().pick(range(2))\n",
    "    n_samples = raw.n_times\n",
    "    sample_rate = raw.info['sfreq']\n",
    "    \n",
    "    # Initialize the EDF file\n",
    "    with pyedflib.EdfWriter(new_file_path, n_channels=2, file_type=pyedflib.FILETYPE_EDFPLUS) as f:\n",
    "        # Set the header information\n",
    "        channel_info = []\n",
    "        data_list = []\n",
    "    \n",
    "        for i, ch_name in enumerate(raw2.ch_names):\n",
    "            ch_dict = {\n",
    "                'label': ch_name,\n",
    "                'dimension': 'uV',\n",
    "                'sample_frequency': sample_rate,\n",
    "                'physical_max': raw._data[i].max(),\n",
    "                'physical_min': raw._data[i].min(),\n",
    "                'digital_max': 32767,\n",
    "                'digital_min': -32768,\n",
    "                'transducer': '',\n",
    "                'prefilter': ''\n",
    "            }\n",
    "            channel_info.append(ch_dict)\n",
    "            data_list.append(raw._data[i])\n",
    "    \n",
    "        f.setSignalHeaders(channel_info)\n",
    "        f.writeSamples(data_list)"
   ]
  },
  {
   "cell_type": "code",
   "execution_count": 22,
   "id": "a053662b-c995-4b96-98f3-78866f7e8dab",
   "metadata": {},
   "outputs": [
    {
     "name": "stdout",
     "output_type": "stream",
     "text": [
      "Extracting EDF parameters from C:\\Users\\naikh\\SleepResearchCode_experient\\Dataset_clean_for_jupyter\\sub-1\\eeg\\sub-1_task-Sleep_acq-headband_eeg.edf...\n",
      "EDF file detected\n",
      "Setting channel info structure...\n",
      "Creating raw.info structure...\n",
      "Reading 0 ... 7029503  =      0.000 ... 27458.996 secs...\n"
     ]
    },
    {
     "name": "stderr",
     "output_type": "stream",
     "text": [
      "C:\\Users\\naikh\\anaconda3\\envs\\TensorFlowEnv\\Lib\\site-packages\\pyedflib\\edfwriter.py:140: UserWarning: Physical maximum for channel 0 (HB_1) is 0.0006769970244907299, which has 21 chars, however, EDF+ can only save 8 chars, will be truncated to 0.000676, some loss of precision is to be expected.\n",
      "  warnings.warn('Physical maximum for channel {} ({}) is {}, which has {} chars, '\n",
      "C:\\Users\\naikh\\anaconda3\\envs\\TensorFlowEnv\\Lib\\site-packages\\pyedflib\\edfwriter.py:133: UserWarning: Physical minimum for channel 1 (HB_2) is -0.0029999084458686197, which has 22 chars, however, EDF+ can only save 8 chars, will be truncated to -0.00299, some loss of precision is to be expected\n",
      "  warnings.warn('Physical minimum for channel {} ({}) is {}, which has {} chars, '\n",
      "C:\\Users\\naikh\\anaconda3\\envs\\TensorFlowEnv\\Lib\\site-packages\\pyedflib\\edfwriter.py:140: UserWarning: Physical maximum for channel 1 (HB_2) is 0.002999999999999999, which has 20 chars, however, EDF+ can only save 8 chars, will be truncated to 0.002999, some loss of precision is to be expected.\n",
      "  warnings.warn('Physical maximum for channel {} ({}) is {}, which has {} chars, '\n"
     ]
    },
    {
     "name": "stdout",
     "output_type": "stream",
     "text": [
      "Extracting EDF parameters from C:\\Users\\naikh\\SleepResearchCode_experient\\Dataset_clean_for_jupyter\\sub-2\\eeg\\sub-2_task-Sleep_acq-headband_eeg.edf...\n",
      "EDF file detected\n",
      "Setting channel info structure...\n",
      "Creating raw.info structure...\n",
      "Reading 0 ... 7014399  =      0.000 ... 27399.996 secs...\n"
     ]
    },
    {
     "name": "stderr",
     "output_type": "stream",
     "text": [
      "C:\\Users\\naikh\\anaconda3\\envs\\TensorFlowEnv\\Lib\\site-packages\\pyedflib\\edfwriter.py:133: UserWarning: Physical minimum for channel 0 (HB_1) is -0.0029999464539513234, which has 22 chars, however, EDF+ can only save 8 chars, will be truncated to -0.00299, some loss of precision is to be expected\n",
      "  warnings.warn('Physical minimum for channel {} ({}) is {}, which has {} chars, '\n",
      "C:\\Users\\naikh\\anaconda3\\envs\\TensorFlowEnv\\Lib\\site-packages\\pyedflib\\edfwriter.py:140: UserWarning: Physical maximum for channel 0 (HB_1) is -0.0009476335002868695, which has 22 chars, however, EDF+ can only save 8 chars, will be truncated to -0.00094, some loss of precision is to be expected.\n",
      "  warnings.warn('Physical maximum for channel {} ({}) is {}, which has {} chars, '\n",
      "C:\\Users\\naikh\\anaconda3\\envs\\TensorFlowEnv\\Lib\\site-packages\\pyedflib\\edfwriter.py:133: UserWarning: Physical minimum for channel 1 (HB_2) is -0.00299993839298085, which has 20 chars, however, EDF+ can only save 8 chars, will be truncated to -0.00299, some loss of precision is to be expected\n",
      "  warnings.warn('Physical minimum for channel {} ({}) is {}, which has {} chars, '\n",
      "C:\\Users\\naikh\\anaconda3\\envs\\TensorFlowEnv\\Lib\\site-packages\\pyedflib\\edfwriter.py:140: UserWarning: Physical maximum for channel 1 (HB_2) is -0.0002831920625009536, which has 22 chars, however, EDF+ can only save 8 chars, will be truncated to -0.00028, some loss of precision is to be expected.\n",
      "  warnings.warn('Physical maximum for channel {} ({}) is {}, which has {} chars, '\n"
     ]
    },
    {
     "name": "stdout",
     "output_type": "stream",
     "text": [
      "Extracting EDF parameters from C:\\Users\\naikh\\SleepResearchCode_experient\\Dataset_clean_for_jupyter\\sub-3\\eeg\\sub-3_task-Sleep_acq-headband_eeg.edf...\n",
      "EDF file detected\n",
      "Setting channel info structure...\n",
      "Creating raw.info structure...\n",
      "Reading 0 ... 7659775  =      0.000 ... 29920.996 secs...\n"
     ]
    },
    {
     "name": "stderr",
     "output_type": "stream",
     "text": [
      "C:\\Users\\naikh\\AppData\\Local\\Temp\\ipykernel_22900\\606145124.py:6: RuntimeWarning: Channels contain different highpass filters. Highest filter setting will be stored.\n",
      "  raw = mne.io.read_raw_edf(file_path, preload=True)\n",
      "C:\\Users\\naikh\\AppData\\Local\\Temp\\ipykernel_22900\\606145124.py:6: RuntimeWarning: Channels contain different lowpass filters. Lowest filter setting will be stored.\n",
      "  raw = mne.io.read_raw_edf(file_path, preload=True)\n"
     ]
    },
    {
     "name": "stdout",
     "output_type": "stream",
     "text": [
      "Extracting EDF parameters from C:\\Users\\naikh\\SleepResearchCode_experient\\Dataset_clean_for_jupyter\\sub-4\\eeg\\sub-4_task-Sleep_acq-headband_eeg.edf...\n",
      "EDF file detected\n",
      "Setting channel info structure...\n",
      "Creating raw.info structure...\n",
      "Reading 0 ... 8219647  =      0.000 ... 32107.996 secs...\n"
     ]
    },
    {
     "name": "stderr",
     "output_type": "stream",
     "text": [
      "C:\\Users\\naikh\\AppData\\Local\\Temp\\ipykernel_22900\\606145124.py:6: RuntimeWarning: Channels contain different highpass filters. Highest filter setting will be stored.\n",
      "  raw = mne.io.read_raw_edf(file_path, preload=True)\n",
      "C:\\Users\\naikh\\AppData\\Local\\Temp\\ipykernel_22900\\606145124.py:6: RuntimeWarning: Channels contain different lowpass filters. Lowest filter setting will be stored.\n",
      "  raw = mne.io.read_raw_edf(file_path, preload=True)\n",
      "C:\\Users\\naikh\\anaconda3\\envs\\TensorFlowEnv\\Lib\\site-packages\\pyedflib\\edfwriter.py:133: UserWarning: Physical minimum for channel 0 (HB_1) is -0.00299991970327306, which has 20 chars, however, EDF+ can only save 8 chars, will be truncated to -0.00299, some loss of precision is to be expected\n",
      "  warnings.warn('Physical minimum for channel {} ({}) is {}, which has {} chars, '\n",
      "C:\\Users\\naikh\\anaconda3\\envs\\TensorFlowEnv\\Lib\\site-packages\\pyedflib\\edfwriter.py:140: UserWarning: Physical maximum for channel 0 (HB_1) is 0.0016152149743190664, which has 21 chars, however, EDF+ can only save 8 chars, will be truncated to 0.001615, some loss of precision is to be expected.\n",
      "  warnings.warn('Physical maximum for channel {} ({}) is {}, which has {} chars, '\n"
     ]
    },
    {
     "name": "stdout",
     "output_type": "stream",
     "text": [
      "Extracting EDF parameters from C:\\Users\\naikh\\SleepResearchCode_experient\\Dataset_clean_for_jupyter\\sub-5\\eeg\\sub-5_task-Sleep_acq-headband_eeg.edf...\n",
      "EDF file detected\n",
      "Setting channel info structure...\n",
      "Creating raw.info structure...\n",
      "Reading 0 ... 7725567  =      0.000 ... 30177.996 secs...\n"
     ]
    },
    {
     "name": "stderr",
     "output_type": "stream",
     "text": [
      "C:\\Users\\naikh\\anaconda3\\envs\\TensorFlowEnv\\Lib\\site-packages\\pyedflib\\edfwriter.py:133: UserWarning: Physical minimum for channel 0 (HB_1) is -0.002999912124299992, which has 21 chars, however, EDF+ can only save 8 chars, will be truncated to -0.00299, some loss of precision is to be expected\n",
      "  warnings.warn('Physical minimum for channel {} ({}) is {}, which has {} chars, '\n",
      "C:\\Users\\naikh\\anaconda3\\envs\\TensorFlowEnv\\Lib\\site-packages\\pyedflib\\edfwriter.py:140: UserWarning: Physical maximum for channel 0 (HB_1) is 0.0025275572818799115, which has 21 chars, however, EDF+ can only save 8 chars, will be truncated to 0.002527, some loss of precision is to be expected.\n",
      "  warnings.warn('Physical maximum for channel {} ({}) is {}, which has {} chars, '\n"
     ]
    },
    {
     "name": "stdout",
     "output_type": "stream",
     "text": [
      "Extracting EDF parameters from C:\\Users\\naikh\\SleepResearchCode_experient\\Dataset_clean_for_jupyter\\sub-6\\eeg\\sub-6_task-Sleep_acq-headband_eeg.edf...\n",
      "EDF file detected\n",
      "Setting channel info structure...\n",
      "Creating raw.info structure...\n",
      "Reading 0 ... 7670015  =      0.000 ... 29960.996 secs...\n"
     ]
    },
    {
     "name": "stderr",
     "output_type": "stream",
     "text": [
      "C:\\Users\\naikh\\AppData\\Local\\Temp\\ipykernel_22900\\606145124.py:6: RuntimeWarning: Channels contain different highpass filters. Highest filter setting will be stored.\n",
      "  raw = mne.io.read_raw_edf(file_path, preload=True)\n",
      "C:\\Users\\naikh\\AppData\\Local\\Temp\\ipykernel_22900\\606145124.py:6: RuntimeWarning: Channels contain different lowpass filters. Lowest filter setting will be stored.\n",
      "  raw = mne.io.read_raw_edf(file_path, preload=True)\n"
     ]
    },
    {
     "name": "stdout",
     "output_type": "stream",
     "text": [
      "Extracting EDF parameters from C:\\Users\\naikh\\SleepResearchCode_experient\\Dataset_clean_for_jupyter\\sub-7\\eeg\\sub-7_task-Sleep_acq-headband_eeg.edf...\n",
      "EDF file detected\n",
      "Setting channel info structure...\n",
      "Creating raw.info structure...\n",
      "Reading 0 ... 7187967  =      0.000 ... 28077.996 secs...\n",
      "Extracting EDF parameters from C:\\Users\\naikh\\SleepResearchCode_experient\\Dataset_clean_for_jupyter\\sub-8\\eeg\\sub-8_task-Sleep_acq-headband_eeg.edf...\n",
      "EDF file detected\n",
      "Setting channel info structure...\n",
      "Creating raw.info structure...\n",
      "Reading 0 ... 3146239  =      0.000 ... 12289.996 secs...\n"
     ]
    },
    {
     "name": "stderr",
     "output_type": "stream",
     "text": [
      "C:\\Users\\naikh\\AppData\\Local\\Temp\\ipykernel_22900\\606145124.py:6: RuntimeWarning: Physical range is not defined in following channels:\n",
      "HB_PULSE\n",
      "  raw = mne.io.read_raw_edf(file_path, preload=True)\n",
      "C:\\Users\\naikh\\AppData\\Local\\Temp\\ipykernel_22900\\606145124.py:6: RuntimeWarning: Channels contain different highpass filters. Highest filter setting will be stored.\n",
      "  raw = mne.io.read_raw_edf(file_path, preload=True)\n",
      "C:\\Users\\naikh\\AppData\\Local\\Temp\\ipykernel_22900\\606145124.py:6: RuntimeWarning: Channels contain different lowpass filters. Lowest filter setting will be stored.\n",
      "  raw = mne.io.read_raw_edf(file_path, preload=True)\n",
      "C:\\Users\\naikh\\anaconda3\\envs\\TensorFlowEnv\\Lib\\site-packages\\pyedflib\\edfwriter.py:133: UserWarning: Physical minimum for channel 0 (HB_1) is -0.0003191990218600748, which has 22 chars, however, EDF+ can only save 8 chars, will be truncated to -0.00031, some loss of precision is to be expected\n",
      "  warnings.warn('Physical minimum for channel {} ({}) is {}, which has {} chars, '\n",
      "C:\\Users\\naikh\\anaconda3\\envs\\TensorFlowEnv\\Lib\\site-packages\\pyedflib\\edfwriter.py:140: UserWarning: Physical maximum for channel 0 (HB_1) is 0.00040715839999999994, which has 22 chars, however, EDF+ can only save 8 chars, will be truncated to 0.000407, some loss of precision is to be expected.\n",
      "  warnings.warn('Physical maximum for channel {} ({}) is {}, which has {} chars, '\n",
      "C:\\Users\\naikh\\anaconda3\\envs\\TensorFlowEnv\\Lib\\site-packages\\pyedflib\\edfwriter.py:133: UserWarning: Physical minimum for channel 1 (HB_2) is -0.00010928112541084913, which has 23 chars, however, EDF+ can only save 8 chars, will be truncated to -0.00010, some loss of precision is to be expected\n",
      "  warnings.warn('Physical minimum for channel {} ({}) is {}, which has {} chars, '\n",
      "C:\\Users\\naikh\\anaconda3\\envs\\TensorFlowEnv\\Lib\\site-packages\\pyedflib\\edfwriter.py:140: UserWarning: Physical maximum for channel 1 (HB_2) is 0.0009299664, which has 12 chars, however, EDF+ can only save 8 chars, will be truncated to 0.000929, some loss of precision is to be expected.\n",
      "  warnings.warn('Physical maximum for channel {} ({}) is {}, which has {} chars, '\n"
     ]
    },
    {
     "name": "stdout",
     "output_type": "stream",
     "text": [
      "Extracting EDF parameters from C:\\Users\\naikh\\SleepResearchCode_experient\\Dataset_clean_for_jupyter\\sub-9\\eeg\\sub-9_task-Sleep_acq-headband_eeg.edf...\n",
      "EDF file detected\n",
      "Setting channel info structure...\n",
      "Creating raw.info structure...\n",
      "Reading 0 ... 8107775  =      0.000 ... 31670.996 secs...\n",
      "Extracting EDF parameters from C:\\Users\\naikh\\SleepResearchCode_experient\\Dataset_clean_for_jupyter\\sub-10\\eeg\\sub-10_task-Sleep_acq-headband_eeg.edf...\n",
      "EDF file detected\n",
      "Setting channel info structure...\n",
      "Creating raw.info structure...\n",
      "Reading 0 ... 7631615  =      0.000 ... 29810.996 secs...\n"
     ]
    },
    {
     "name": "stderr",
     "output_type": "stream",
     "text": [
      "C:\\Users\\naikh\\anaconda3\\envs\\TensorFlowEnv\\Lib\\site-packages\\pyedflib\\edfwriter.py:133: UserWarning: Physical minimum for channel 0 (HB_1) is -0.001205613675211719, which has 21 chars, however, EDF+ can only save 8 chars, will be truncated to -0.00120, some loss of precision is to be expected\n",
      "  warnings.warn('Physical minimum for channel {} ({}) is {}, which has {} chars, '\n",
      "C:\\Users\\naikh\\anaconda3\\envs\\TensorFlowEnv\\Lib\\site-packages\\pyedflib\\edfwriter.py:140: UserWarning: Physical maximum for channel 0 (HB_1) is 0.001436107, which has 11 chars, however, EDF+ can only save 8 chars, will be truncated to 0.001436, some loss of precision is to be expected.\n",
      "  warnings.warn('Physical maximum for channel {} ({}) is {}, which has {} chars, '\n",
      "C:\\Users\\naikh\\anaconda3\\envs\\TensorFlowEnv\\Lib\\site-packages\\pyedflib\\edfwriter.py:133: UserWarning: Physical minimum for channel 1 (HB_2) is -0.0014434374427405201, which has 22 chars, however, EDF+ can only save 8 chars, will be truncated to -0.00144, some loss of precision is to be expected\n",
      "  warnings.warn('Physical minimum for channel {} ({}) is {}, which has {} chars, '\n",
      "C:\\Users\\naikh\\anaconda3\\envs\\TensorFlowEnv\\Lib\\site-packages\\pyedflib\\edfwriter.py:140: UserWarning: Physical maximum for channel 1 (HB_2) is 0.0012508626549172194, which has 21 chars, however, EDF+ can only save 8 chars, will be truncated to 0.001250, some loss of precision is to be expected.\n",
      "  warnings.warn('Physical maximum for channel {} ({}) is {}, which has {} chars, '\n"
     ]
    },
    {
     "name": "stdout",
     "output_type": "stream",
     "text": [
      "Extracting EDF parameters from C:\\Users\\naikh\\SleepResearchCode_experient\\Dataset_clean_for_jupyter\\sub-11\\eeg\\sub-11_task-Sleep_acq-headband_eeg.edf...\n",
      "EDF file detected\n",
      "Setting channel info structure...\n",
      "Creating raw.info structure...\n",
      "Reading 0 ... 7568127  =      0.000 ... 29562.996 secs...\n"
     ]
    },
    {
     "name": "stderr",
     "output_type": "stream",
     "text": [
      "C:\\Users\\naikh\\AppData\\Local\\Temp\\ipykernel_22900\\606145124.py:6: RuntimeWarning: Channels contain different highpass filters. Highest filter setting will be stored.\n",
      "  raw = mne.io.read_raw_edf(file_path, preload=True)\n",
      "C:\\Users\\naikh\\AppData\\Local\\Temp\\ipykernel_22900\\606145124.py:6: RuntimeWarning: Channels contain different lowpass filters. Lowest filter setting will be stored.\n",
      "  raw = mne.io.read_raw_edf(file_path, preload=True)\n"
     ]
    },
    {
     "name": "stdout",
     "output_type": "stream",
     "text": [
      "Extracting EDF parameters from C:\\Users\\naikh\\SleepResearchCode_experient\\Dataset_clean_for_jupyter\\sub-12\\eeg\\sub-12_task-Sleep_acq-headband_eeg.edf...\n",
      "EDF file detected\n",
      "Setting channel info structure...\n",
      "Creating raw.info structure...\n",
      "Reading 0 ... 7783423  =      0.000 ... 30403.996 secs...\n"
     ]
    },
    {
     "name": "stderr",
     "output_type": "stream",
     "text": [
      "C:\\Users\\naikh\\anaconda3\\envs\\TensorFlowEnv\\Lib\\site-packages\\pyedflib\\edfwriter.py:133: UserWarning: Physical minimum for channel 0 (HB_1) is -0.0017431524477149614, which has 22 chars, however, EDF+ can only save 8 chars, will be truncated to -0.00174, some loss of precision is to be expected\n",
      "  warnings.warn('Physical minimum for channel {} ({}) is {}, which has {} chars, '\n",
      "C:\\Users\\naikh\\anaconda3\\envs\\TensorFlowEnv\\Lib\\site-packages\\pyedflib\\edfwriter.py:140: UserWarning: Physical maximum for channel 0 (HB_1) is 0.0010423653052719919, which has 21 chars, however, EDF+ can only save 8 chars, will be truncated to 0.001042, some loss of precision is to be expected.\n",
      "  warnings.warn('Physical maximum for channel {} ({}) is {}, which has {} chars, '\n",
      "C:\\Users\\naikh\\anaconda3\\envs\\TensorFlowEnv\\Lib\\site-packages\\pyedflib\\edfwriter.py:133: UserWarning: Physical minimum for channel 1 (HB_2) is -0.0018200615091783015, which has 22 chars, however, EDF+ can only save 8 chars, will be truncated to -0.00182, some loss of precision is to be expected\n",
      "  warnings.warn('Physical minimum for channel {} ({}) is {}, which has {} chars, '\n",
      "C:\\Users\\naikh\\anaconda3\\envs\\TensorFlowEnv\\Lib\\site-packages\\pyedflib\\edfwriter.py:140: UserWarning: Physical maximum for channel 1 (HB_2) is 0.0009540984001831081, which has 21 chars, however, EDF+ can only save 8 chars, will be truncated to 0.000954, some loss of precision is to be expected.\n",
      "  warnings.warn('Physical maximum for channel {} ({}) is {}, which has {} chars, '\n"
     ]
    },
    {
     "name": "stdout",
     "output_type": "stream",
     "text": [
      "Extracting EDF parameters from C:\\Users\\naikh\\SleepResearchCode_experient\\Dataset_clean_for_jupyter\\sub-13\\eeg\\sub-13_task-Sleep_acq-headband_eeg.edf...\n",
      "EDF file detected\n",
      "Setting channel info structure...\n",
      "Creating raw.info structure...\n",
      "Reading 0 ... 7663359  =      0.000 ... 29934.996 secs...\n"
     ]
    },
    {
     "name": "stderr",
     "output_type": "stream",
     "text": [
      "C:\\Users\\naikh\\anaconda3\\envs\\TensorFlowEnv\\Lib\\site-packages\\pyedflib\\edfwriter.py:133: UserWarning: Physical minimum for channel 0 (HB_1) is -0.0029999270699168383, which has 22 chars, however, EDF+ can only save 8 chars, will be truncated to -0.00299, some loss of precision is to be expected\n",
      "  warnings.warn('Physical minimum for channel {} ({}) is {}, which has {} chars, '\n",
      "C:\\Users\\naikh\\anaconda3\\envs\\TensorFlowEnv\\Lib\\site-packages\\pyedflib\\edfwriter.py:140: UserWarning: Physical maximum for channel 0 (HB_1) is 0.0008072420613717861, which has 21 chars, however, EDF+ can only save 8 chars, will be truncated to 0.000807, some loss of precision is to be expected.\n",
      "  warnings.warn('Physical maximum for channel {} ({}) is {}, which has {} chars, '\n"
     ]
    },
    {
     "name": "stdout",
     "output_type": "stream",
     "text": [
      "Extracting EDF parameters from C:\\Users\\naikh\\SleepResearchCode_experient\\Dataset_clean_for_jupyter\\sub-14\\eeg\\sub-14_task-Sleep_acq-headband_eeg.edf...\n",
      "EDF file detected\n",
      "Setting channel info structure...\n",
      "Creating raw.info structure...\n",
      "Reading 0 ... 8220927  =      0.000 ... 32112.996 secs...\n"
     ]
    },
    {
     "name": "stderr",
     "output_type": "stream",
     "text": [
      "C:\\Users\\naikh\\AppData\\Local\\Temp\\ipykernel_22900\\606145124.py:6: RuntimeWarning: Channels contain different highpass filters. Highest filter setting will be stored.\n",
      "  raw = mne.io.read_raw_edf(file_path, preload=True)\n",
      "C:\\Users\\naikh\\AppData\\Local\\Temp\\ipykernel_22900\\606145124.py:6: RuntimeWarning: Channels contain different lowpass filters. Lowest filter setting will be stored.\n",
      "  raw = mne.io.read_raw_edf(file_path, preload=True)\n",
      "C:\\Users\\naikh\\anaconda3\\envs\\TensorFlowEnv\\Lib\\site-packages\\pyedflib\\edfwriter.py:133: UserWarning: Physical minimum for channel 0 (HB_1) is -0.0029999110080567632, which has 22 chars, however, EDF+ can only save 8 chars, will be truncated to -0.00299, some loss of precision is to be expected\n",
      "  warnings.warn('Physical minimum for channel {} ({}) is {}, which has {} chars, '\n",
      "C:\\Users\\naikh\\anaconda3\\envs\\TensorFlowEnv\\Lib\\site-packages\\pyedflib\\edfwriter.py:140: UserWarning: Physical maximum for channel 0 (HB_1) is 0.002668875776104371, which has 20 chars, however, EDF+ can only save 8 chars, will be truncated to 0.002668, some loss of precision is to be expected.\n",
      "  warnings.warn('Physical maximum for channel {} ({}) is {}, which has {} chars, '\n"
     ]
    },
    {
     "name": "stdout",
     "output_type": "stream",
     "text": [
      "Extracting EDF parameters from C:\\Users\\naikh\\SleepResearchCode_experient\\Dataset_clean_for_jupyter\\sub-15\\eeg\\sub-15_task-Sleep_acq-headband_eeg.edf...\n",
      "EDF file detected\n",
      "Setting channel info structure...\n",
      "Creating raw.info structure...\n",
      "Reading 0 ... 8403711  =      0.000 ... 32826.996 secs...\n",
      "Extracting EDF parameters from C:\\Users\\naikh\\SleepResearchCode_experient\\Dataset_clean_for_jupyter\\sub-16\\eeg\\sub-16_task-Sleep_acq-headband_eeg.edf...\n",
      "EDF file detected\n",
      "Setting channel info structure...\n",
      "Creating raw.info structure...\n",
      "Reading 0 ... 7898879  =      0.000 ... 30854.996 secs...\n",
      "Extracting EDF parameters from C:\\Users\\naikh\\SleepResearchCode_experient\\Dataset_clean_for_jupyter\\sub-17\\eeg\\sub-17_task-Sleep_acq-headband_eeg.edf...\n",
      "EDF file detected\n",
      "Setting channel info structure...\n",
      "Creating raw.info structure...\n",
      "Reading 0 ... 7584767  =      0.000 ... 29627.996 secs...\n"
     ]
    },
    {
     "name": "stderr",
     "output_type": "stream",
     "text": [
      "C:\\Users\\naikh\\anaconda3\\envs\\TensorFlowEnv\\Lib\\site-packages\\pyedflib\\edfwriter.py:133: UserWarning: Physical minimum for channel 0 (HB_1) is -0.002088676655039292, which has 21 chars, however, EDF+ can only save 8 chars, will be truncated to -0.00208, some loss of precision is to be expected\n",
      "  warnings.warn('Physical minimum for channel {} ({}) is {}, which has {} chars, '\n",
      "C:\\Users\\naikh\\anaconda3\\envs\\TensorFlowEnv\\Lib\\site-packages\\pyedflib\\edfwriter.py:140: UserWarning: Physical maximum for channel 0 (HB_1) is 0.0008369210250705728, which has 21 chars, however, EDF+ can only save 8 chars, will be truncated to 0.000836, some loss of precision is to be expected.\n",
      "  warnings.warn('Physical maximum for channel {} ({}) is {}, which has {} chars, '\n",
      "C:\\Users\\naikh\\anaconda3\\envs\\TensorFlowEnv\\Lib\\site-packages\\pyedflib\\edfwriter.py:133: UserWarning: Physical minimum for channel 1 (HB_2) is -0.002999921967895018, which has 21 chars, however, EDF+ can only save 8 chars, will be truncated to -0.00299, some loss of precision is to be expected\n",
      "  warnings.warn('Physical minimum for channel {} ({}) is {}, which has {} chars, '\n",
      "C:\\Users\\naikh\\anaconda3\\envs\\TensorFlowEnv\\Lib\\site-packages\\pyedflib\\edfwriter.py:140: UserWarning: Physical maximum for channel 1 (HB_2) is 0.0013585612558785383, which has 21 chars, however, EDF+ can only save 8 chars, will be truncated to 0.001358, some loss of precision is to be expected.\n",
      "  warnings.warn('Physical maximum for channel {} ({}) is {}, which has {} chars, '\n"
     ]
    },
    {
     "name": "stdout",
     "output_type": "stream",
     "text": [
      "Extracting EDF parameters from C:\\Users\\naikh\\SleepResearchCode_experient\\Dataset_clean_for_jupyter\\sub-18\\eeg\\sub-18_task-Sleep_acq-headband_eeg.edf...\n",
      "EDF file detected\n",
      "Setting channel info structure...\n",
      "Creating raw.info structure...\n",
      "Reading 0 ... 8043775  =      0.000 ... 31420.996 secs...\n"
     ]
    },
    {
     "name": "stderr",
     "output_type": "stream",
     "text": [
      "C:\\Users\\naikh\\AppData\\Local\\Temp\\ipykernel_22900\\606145124.py:6: RuntimeWarning: Channels contain different highpass filters. Highest filter setting will be stored.\n",
      "  raw = mne.io.read_raw_edf(file_path, preload=True)\n",
      "C:\\Users\\naikh\\AppData\\Local\\Temp\\ipykernel_22900\\606145124.py:6: RuntimeWarning: Channels contain different lowpass filters. Lowest filter setting will be stored.\n",
      "  raw = mne.io.read_raw_edf(file_path, preload=True)\n",
      "C:\\Users\\naikh\\anaconda3\\envs\\TensorFlowEnv\\Lib\\site-packages\\pyedflib\\edfwriter.py:133: UserWarning: Physical minimum for channel 0 (HB_1) is -0.0029999371104905775, which has 22 chars, however, EDF+ can only save 8 chars, will be truncated to -0.00299, some loss of precision is to be expected\n",
      "  warnings.warn('Physical minimum for channel {} ({}) is {}, which has {} chars, '\n",
      "C:\\Users\\naikh\\anaconda3\\envs\\TensorFlowEnv\\Lib\\site-packages\\pyedflib\\edfwriter.py:140: UserWarning: Physical maximum for channel 0 (HB_1) is -0.00016890295432974754, which has 23 chars, however, EDF+ can only save 8 chars, will be truncated to -0.00016, some loss of precision is to be expected.\n",
      "  warnings.warn('Physical maximum for channel {} ({}) is {}, which has {} chars, '\n",
      "C:\\Users\\naikh\\anaconda3\\envs\\TensorFlowEnv\\Lib\\site-packages\\pyedflib\\edfwriter.py:133: UserWarning: Physical minimum for channel 1 (HB_2) is -0.0029999354899214155, which has 22 chars, however, EDF+ can only save 8 chars, will be truncated to -0.00299, some loss of precision is to be expected\n",
      "  warnings.warn('Physical minimum for channel {} ({}) is {}, which has {} chars, '\n",
      "C:\\Users\\naikh\\anaconda3\\envs\\TensorFlowEnv\\Lib\\site-packages\\pyedflib\\edfwriter.py:140: UserWarning: Physical maximum for channel 1 (HB_2) is -2.1118101228351405e-05, which has 23 chars, however, EDF+ can only save 8 chars, will be truncated to -2.11181, some loss of precision is to be expected.\n",
      "  warnings.warn('Physical maximum for channel {} ({}) is {}, which has {} chars, '\n"
     ]
    },
    {
     "name": "stdout",
     "output_type": "stream",
     "text": [
      "Extracting EDF parameters from C:\\Users\\naikh\\SleepResearchCode_experient\\Dataset_clean_for_jupyter\\sub-19\\eeg\\sub-19_task-Sleep_acq-headband_eeg.edf...\n",
      "EDF file detected\n",
      "Setting channel info structure...\n",
      "Creating raw.info structure...\n",
      "Reading 0 ... 7776511  =      0.000 ... 30376.996 secs...\n",
      "Extracting EDF parameters from C:\\Users\\naikh\\SleepResearchCode_experient\\Dataset_clean_for_jupyter\\sub-20\\eeg\\sub-20_task-Sleep_acq-headband_eeg.edf...\n",
      "EDF file detected\n",
      "Setting channel info structure...\n",
      "Creating raw.info structure...\n",
      "Reading 0 ... 4962815  =      0.000 ... 19385.996 secs...\n"
     ]
    },
    {
     "name": "stderr",
     "output_type": "stream",
     "text": [
      "C:\\Users\\naikh\\AppData\\Local\\Temp\\ipykernel_22900\\606145124.py:6: RuntimeWarning: Number of records from the header does not match the file size (perhaps the recording was not stopped before exiting). Inferring from the file size.\n",
      "  raw = mne.io.read_raw_edf(file_path, preload=True)\n",
      "C:\\Users\\naikh\\AppData\\Local\\Temp\\ipykernel_22900\\606145124.py:6: RuntimeWarning: Channels contain different highpass filters. Highest filter setting will be stored.\n",
      "  raw = mne.io.read_raw_edf(file_path, preload=True)\n",
      "C:\\Users\\naikh\\AppData\\Local\\Temp\\ipykernel_22900\\606145124.py:6: RuntimeWarning: Channels contain different lowpass filters. Lowest filter setting will be stored.\n",
      "  raw = mne.io.read_raw_edf(file_path, preload=True)\n"
     ]
    },
    {
     "name": "stdout",
     "output_type": "stream",
     "text": [
      "Extracting EDF parameters from C:\\Users\\naikh\\SleepResearchCode_experient\\Dataset_clean_for_jupyter\\sub-21\\eeg\\sub-21_task-Sleep_acq-headband_eeg.edf...\n",
      "EDF file detected\n",
      "Setting channel info structure...\n",
      "Creating raw.info structure...\n",
      "Reading 0 ... 8012543  =      0.000 ... 31298.996 secs...\n",
      "Extracting EDF parameters from C:\\Users\\naikh\\SleepResearchCode_experient\\Dataset_clean_for_jupyter\\sub-22\\eeg\\sub-22_task-Sleep_acq-headband_eeg.edf...\n",
      "EDF file detected\n",
      "Setting channel info structure...\n",
      "Creating raw.info structure...\n",
      "Reading 0 ... 7945471  =      0.000 ... 31036.996 secs...\n"
     ]
    },
    {
     "name": "stderr",
     "output_type": "stream",
     "text": [
      "C:\\Users\\naikh\\AppData\\Local\\Temp\\ipykernel_22900\\606145124.py:6: RuntimeWarning: Physical range is not defined in following channels:\n",
      "HB_PULSE\n",
      "  raw = mne.io.read_raw_edf(file_path, preload=True)\n",
      "C:\\Users\\naikh\\AppData\\Local\\Temp\\ipykernel_22900\\606145124.py:6: RuntimeWarning: Channels contain different highpass filters. Highest filter setting will be stored.\n",
      "  raw = mne.io.read_raw_edf(file_path, preload=True)\n",
      "C:\\Users\\naikh\\AppData\\Local\\Temp\\ipykernel_22900\\606145124.py:6: RuntimeWarning: Channels contain different lowpass filters. Lowest filter setting will be stored.\n",
      "  raw = mne.io.read_raw_edf(file_path, preload=True)\n",
      "C:\\Users\\naikh\\anaconda3\\envs\\TensorFlowEnv\\Lib\\site-packages\\pyedflib\\edfwriter.py:133: UserWarning: Physical minimum for channel 0 (HB_1) is -0.0014985615532616158, which has 22 chars, however, EDF+ can only save 8 chars, will be truncated to -0.00149, some loss of precision is to be expected\n",
      "  warnings.warn('Physical minimum for channel {} ({}) is {}, which has {} chars, '\n",
      "C:\\Users\\naikh\\anaconda3\\envs\\TensorFlowEnv\\Lib\\site-packages\\pyedflib\\edfwriter.py:140: UserWarning: Physical maximum for channel 0 (HB_1) is 0.001666297, which has 11 chars, however, EDF+ can only save 8 chars, will be truncated to 0.001666, some loss of precision is to be expected.\n",
      "  warnings.warn('Physical maximum for channel {} ({}) is {}, which has {} chars, '\n"
     ]
    },
    {
     "name": "stdout",
     "output_type": "stream",
     "text": [
      "Extracting EDF parameters from C:\\Users\\naikh\\SleepResearchCode_experient\\Dataset_clean_for_jupyter\\sub-23\\eeg\\sub-23_task-Sleep_acq-headband_eeg.edf...\n",
      "EDF file detected\n",
      "Setting channel info structure...\n",
      "Creating raw.info structure...\n",
      "Reading 0 ... 8601087  =      0.000 ... 33597.996 secs...\n"
     ]
    },
    {
     "name": "stderr",
     "output_type": "stream",
     "text": [
      "C:\\Users\\naikh\\AppData\\Local\\Temp\\ipykernel_22900\\606145124.py:6: RuntimeWarning: Channels contain different highpass filters. Highest filter setting will be stored.\n",
      "  raw = mne.io.read_raw_edf(file_path, preload=True)\n",
      "C:\\Users\\naikh\\AppData\\Local\\Temp\\ipykernel_22900\\606145124.py:6: RuntimeWarning: Channels contain different lowpass filters. Lowest filter setting will be stored.\n",
      "  raw = mne.io.read_raw_edf(file_path, preload=True)\n",
      "C:\\Users\\naikh\\anaconda3\\envs\\TensorFlowEnv\\Lib\\site-packages\\pyedflib\\edfwriter.py:133: UserWarning: Physical minimum for channel 0 (HB_1) is -0.002999941839502556, which has 21 chars, however, EDF+ can only save 8 chars, will be truncated to -0.00299, some loss of precision is to be expected\n",
      "  warnings.warn('Physical minimum for channel {} ({}) is {}, which has {} chars, '\n",
      "C:\\Users\\naikh\\anaconda3\\envs\\TensorFlowEnv\\Lib\\site-packages\\pyedflib\\edfwriter.py:140: UserWarning: Physical maximum for channel 0 (HB_1) is -0.0005786621704066528, which has 22 chars, however, EDF+ can only save 8 chars, will be truncated to -0.00057, some loss of precision is to be expected.\n",
      "  warnings.warn('Physical maximum for channel {} ({}) is {}, which has {} chars, '\n",
      "C:\\Users\\naikh\\anaconda3\\envs\\TensorFlowEnv\\Lib\\site-packages\\pyedflib\\edfwriter.py:133: UserWarning: Physical minimum for channel 1 (HB_2) is -0.0029999359285877774, which has 22 chars, however, EDF+ can only save 8 chars, will be truncated to -0.00299, some loss of precision is to be expected\n",
      "  warnings.warn('Physical minimum for channel {} ({}) is {}, which has {} chars, '\n",
      "C:\\Users\\naikh\\anaconda3\\envs\\TensorFlowEnv\\Lib\\site-packages\\pyedflib\\edfwriter.py:140: UserWarning: Physical maximum for channel 1 (HB_2) is -6.149282124055821e-05, which has 22 chars, however, EDF+ can only save 8 chars, will be truncated to -6.14928, some loss of precision is to be expected.\n",
      "  warnings.warn('Physical maximum for channel {} ({}) is {}, which has {} chars, '\n"
     ]
    },
    {
     "name": "stdout",
     "output_type": "stream",
     "text": [
      "Extracting EDF parameters from C:\\Users\\naikh\\SleepResearchCode_experient\\Dataset_clean_for_jupyter\\sub-24\\eeg\\sub-24_task-Sleep_acq-headband_eeg.edf...\n",
      "EDF file detected\n",
      "Setting channel info structure...\n",
      "Creating raw.info structure...\n",
      "Reading 0 ... 7168511  =      0.000 ... 28001.996 secs...\n"
     ]
    },
    {
     "name": "stderr",
     "output_type": "stream",
     "text": [
      "C:\\Users\\naikh\\AppData\\Local\\Temp\\ipykernel_22900\\606145124.py:6: RuntimeWarning: Channels contain different highpass filters. Highest filter setting will be stored.\n",
      "  raw = mne.io.read_raw_edf(file_path, preload=True)\n",
      "C:\\Users\\naikh\\AppData\\Local\\Temp\\ipykernel_22900\\606145124.py:6: RuntimeWarning: Channels contain different lowpass filters. Lowest filter setting will be stored.\n",
      "  raw = mne.io.read_raw_edf(file_path, preload=True)\n",
      "C:\\Users\\naikh\\anaconda3\\envs\\TensorFlowEnv\\Lib\\site-packages\\pyedflib\\edfwriter.py:133: UserWarning: Physical minimum for channel 1 (HB_2) is -0.0029999466690974284, which has 22 chars, however, EDF+ can only save 8 chars, will be truncated to -0.00299, some loss of precision is to be expected\n",
      "  warnings.warn('Physical minimum for channel {} ({}) is {}, which has {} chars, '\n",
      "C:\\Users\\naikh\\anaconda3\\envs\\TensorFlowEnv\\Lib\\site-packages\\pyedflib\\edfwriter.py:140: UserWarning: Physical maximum for channel 1 (HB_2) is -0.0009640927943465322, which has 22 chars, however, EDF+ can only save 8 chars, will be truncated to -0.00096, some loss of precision is to be expected.\n",
      "  warnings.warn('Physical maximum for channel {} ({}) is {}, which has {} chars, '\n"
     ]
    },
    {
     "name": "stdout",
     "output_type": "stream",
     "text": [
      "Extracting EDF parameters from C:\\Users\\naikh\\SleepResearchCode_experient\\Dataset_clean_for_jupyter\\sub-25\\eeg\\sub-25_task-Sleep_acq-headband_eeg.edf...\n",
      "EDF file detected\n",
      "Setting channel info structure...\n",
      "Creating raw.info structure...\n",
      "Reading 0 ... 8321535  =      0.000 ... 32505.996 secs...\n"
     ]
    },
    {
     "name": "stderr",
     "output_type": "stream",
     "text": [
      "C:\\Users\\naikh\\AppData\\Local\\Temp\\ipykernel_22900\\606145124.py:6: RuntimeWarning: Channels contain different highpass filters. Highest filter setting will be stored.\n",
      "  raw = mne.io.read_raw_edf(file_path, preload=True)\n",
      "C:\\Users\\naikh\\AppData\\Local\\Temp\\ipykernel_22900\\606145124.py:6: RuntimeWarning: Channels contain different lowpass filters. Lowest filter setting will be stored.\n",
      "  raw = mne.io.read_raw_edf(file_path, preload=True)\n"
     ]
    },
    {
     "name": "stdout",
     "output_type": "stream",
     "text": [
      "Extracting EDF parameters from C:\\Users\\naikh\\SleepResearchCode_experient\\Dataset_clean_for_jupyter\\sub-26\\eeg\\sub-26_task-Sleep_acq-headband_eeg.edf...\n",
      "EDF file detected\n",
      "Setting channel info structure...\n",
      "Creating raw.info structure...\n",
      "Reading 0 ... 7470847  =      0.000 ... 29182.996 secs...\n"
     ]
    },
    {
     "name": "stderr",
     "output_type": "stream",
     "text": [
      "C:\\Users\\naikh\\AppData\\Local\\Temp\\ipykernel_22900\\606145124.py:6: RuntimeWarning: Channels contain different highpass filters. Highest filter setting will be stored.\n",
      "  raw = mne.io.read_raw_edf(file_path, preload=True)\n",
      "C:\\Users\\naikh\\AppData\\Local\\Temp\\ipykernel_22900\\606145124.py:6: RuntimeWarning: Channels contain different lowpass filters. Lowest filter setting will be stored.\n",
      "  raw = mne.io.read_raw_edf(file_path, preload=True)\n",
      "C:\\Users\\naikh\\anaconda3\\envs\\TensorFlowEnv\\Lib\\site-packages\\pyedflib\\edfwriter.py:133: UserWarning: Physical minimum for channel 0 (HB_1) is -0.0021871347726863505, which has 22 chars, however, EDF+ can only save 8 chars, will be truncated to -0.00218, some loss of precision is to be expected\n",
      "  warnings.warn('Physical minimum for channel {} ({}) is {}, which has {} chars, '\n",
      "C:\\Users\\naikh\\anaconda3\\envs\\TensorFlowEnv\\Lib\\site-packages\\pyedflib\\edfwriter.py:140: UserWarning: Physical maximum for channel 0 (HB_1) is 0.001990022393408103, which has 20 chars, however, EDF+ can only save 8 chars, will be truncated to 0.001990, some loss of precision is to be expected.\n",
      "  warnings.warn('Physical maximum for channel {} ({}) is {}, which has {} chars, '\n",
      "C:\\Users\\naikh\\anaconda3\\envs\\TensorFlowEnv\\Lib\\site-packages\\pyedflib\\edfwriter.py:133: UserWarning: Physical minimum for channel 1 (HB_2) is -0.002198355298008698, which has 21 chars, however, EDF+ can only save 8 chars, will be truncated to -0.00219, some loss of precision is to be expected\n",
      "  warnings.warn('Physical minimum for channel {} ({}) is {}, which has {} chars, '\n",
      "C:\\Users\\naikh\\anaconda3\\envs\\TensorFlowEnv\\Lib\\site-packages\\pyedflib\\edfwriter.py:140: UserWarning: Physical maximum for channel 1 (HB_2) is 0.001890810552300297, which has 20 chars, however, EDF+ can only save 8 chars, will be truncated to 0.001890, some loss of precision is to be expected.\n",
      "  warnings.warn('Physical maximum for channel {} ({}) is {}, which has {} chars, '\n"
     ]
    },
    {
     "name": "stdout",
     "output_type": "stream",
     "text": [
      "Extracting EDF parameters from C:\\Users\\naikh\\SleepResearchCode_experient\\Dataset_clean_for_jupyter\\sub-27\\eeg\\sub-27_task-Sleep_acq-headband_eeg.edf...\n",
      "EDF file detected\n",
      "Setting channel info structure...\n",
      "Creating raw.info structure...\n",
      "Reading 0 ... 7311615  =      0.000 ... 28560.996 secs...\n"
     ]
    },
    {
     "name": "stderr",
     "output_type": "stream",
     "text": [
      "C:\\Users\\naikh\\anaconda3\\envs\\TensorFlowEnv\\Lib\\site-packages\\pyedflib\\edfwriter.py:133: UserWarning: Physical minimum for channel 0 (HB_1) is -0.001365597917647059, which has 21 chars, however, EDF+ can only save 8 chars, will be truncated to -0.00136, some loss of precision is to be expected\n",
      "  warnings.warn('Physical minimum for channel {} ({}) is {}, which has {} chars, '\n",
      "C:\\Users\\naikh\\anaconda3\\envs\\TensorFlowEnv\\Lib\\site-packages\\pyedflib\\edfwriter.py:140: UserWarning: Physical maximum for channel 0 (HB_1) is 0.0026471669999999993, which has 21 chars, however, EDF+ can only save 8 chars, will be truncated to 0.002647, some loss of precision is to be expected.\n",
      "  warnings.warn('Physical maximum for channel {} ({}) is {}, which has {} chars, '\n",
      "C:\\Users\\naikh\\anaconda3\\envs\\TensorFlowEnv\\Lib\\site-packages\\pyedflib\\edfwriter.py:133: UserWarning: Physical minimum for channel 1 (HB_2) is -0.0015862766143282215, which has 22 chars, however, EDF+ can only save 8 chars, will be truncated to -0.00158, some loss of precision is to be expected\n",
      "  warnings.warn('Physical minimum for channel {} ({}) is {}, which has {} chars, '\n",
      "C:\\Users\\naikh\\anaconda3\\envs\\TensorFlowEnv\\Lib\\site-packages\\pyedflib\\edfwriter.py:140: UserWarning: Physical maximum for channel 1 (HB_2) is 0.0030000000000000005, which has 21 chars, however, EDF+ can only save 8 chars, will be truncated to 0.003000, some loss of precision is to be expected.\n",
      "  warnings.warn('Physical maximum for channel {} ({}) is {}, which has {} chars, '\n"
     ]
    },
    {
     "name": "stdout",
     "output_type": "stream",
     "text": [
      "Extracting EDF parameters from C:\\Users\\naikh\\SleepResearchCode_experient\\Dataset_clean_for_jupyter\\sub-28\\eeg\\sub-28_task-Sleep_acq-headband_eeg.edf...\n",
      "EDF file detected\n",
      "Setting channel info structure...\n",
      "Creating raw.info structure...\n",
      "Reading 0 ... 6598143  =      0.000 ... 25773.996 secs...\n"
     ]
    },
    {
     "name": "stderr",
     "output_type": "stream",
     "text": [
      "C:\\Users\\naikh\\anaconda3\\envs\\TensorFlowEnv\\Lib\\site-packages\\pyedflib\\edfwriter.py:133: UserWarning: Physical minimum for channel 0 (HB_1) is -0.002999931425909819, which has 21 chars, however, EDF+ can only save 8 chars, will be truncated to -0.00299, some loss of precision is to be expected\n",
      "  warnings.warn('Physical minimum for channel {} ({}) is {}, which has {} chars, '\n",
      "C:\\Users\\naikh\\anaconda3\\envs\\TensorFlowEnv\\Lib\\site-packages\\pyedflib\\edfwriter.py:140: UserWarning: Physical maximum for channel 0 (HB_1) is 0.0003660277906157014, which has 21 chars, however, EDF+ can only save 8 chars, will be truncated to 0.000366, some loss of precision is to be expected.\n",
      "  warnings.warn('Physical maximum for channel {} ({}) is {}, which has {} chars, '\n",
      "C:\\Users\\naikh\\anaconda3\\envs\\TensorFlowEnv\\Lib\\site-packages\\pyedflib\\edfwriter.py:133: UserWarning: Physical minimum for channel 1 (HB_2) is -0.0029999311395132373, which has 22 chars, however, EDF+ can only save 8 chars, will be truncated to -0.00299, some loss of precision is to be expected\n",
      "  warnings.warn('Physical minimum for channel {} ({}) is {}, which has {} chars, '\n",
      "C:\\Users\\naikh\\anaconda3\\envs\\TensorFlowEnv\\Lib\\site-packages\\pyedflib\\edfwriter.py:140: UserWarning: Physical maximum for channel 1 (HB_2) is 0.00039420225302510105, which has 22 chars, however, EDF+ can only save 8 chars, will be truncated to 0.000394, some loss of precision is to be expected.\n",
      "  warnings.warn('Physical maximum for channel {} ({}) is {}, which has {} chars, '\n"
     ]
    },
    {
     "name": "stdout",
     "output_type": "stream",
     "text": [
      "Extracting EDF parameters from C:\\Users\\naikh\\SleepResearchCode_experient\\Dataset_clean_for_jupyter\\sub-29\\eeg\\sub-29_task-Sleep_acq-headband_eeg.edf...\n",
      "EDF file detected\n",
      "Setting channel info structure...\n",
      "Creating raw.info structure...\n",
      "Reading 0 ... 8510463  =      0.000 ... 33243.996 secs...\n",
      "Extracting EDF parameters from C:\\Users\\naikh\\SleepResearchCode_experient\\Dataset_clean_for_jupyter\\sub-30\\eeg\\sub-30_task-Sleep_acq-headband_eeg.edf...\n",
      "EDF file detected\n",
      "Setting channel info structure...\n",
      "Creating raw.info structure...\n",
      "Reading 0 ... 6408191  =      0.000 ... 25031.996 secs...\n"
     ]
    },
    {
     "name": "stderr",
     "output_type": "stream",
     "text": [
      "C:\\Users\\naikh\\AppData\\Local\\Temp\\ipykernel_22900\\606145124.py:6: RuntimeWarning: Channels contain different highpass filters. Highest filter setting will be stored.\n",
      "  raw = mne.io.read_raw_edf(file_path, preload=True)\n",
      "C:\\Users\\naikh\\AppData\\Local\\Temp\\ipykernel_22900\\606145124.py:6: RuntimeWarning: Channels contain different lowpass filters. Lowest filter setting will be stored.\n",
      "  raw = mne.io.read_raw_edf(file_path, preload=True)\n",
      "C:\\Users\\naikh\\anaconda3\\envs\\TensorFlowEnv\\Lib\\site-packages\\pyedflib\\edfwriter.py:133: UserWarning: Physical minimum for channel 0 (HB_1) is -0.001977952313694972, which has 21 chars, however, EDF+ can only save 8 chars, will be truncated to -0.00197, some loss of precision is to be expected\n",
      "  warnings.warn('Physical minimum for channel {} ({}) is {}, which has {} chars, '\n",
      "C:\\Users\\naikh\\anaconda3\\envs\\TensorFlowEnv\\Lib\\site-packages\\pyedflib\\edfwriter.py:140: UserWarning: Physical maximum for channel 0 (HB_1) is 0.0016347102249790186, which has 21 chars, however, EDF+ can only save 8 chars, will be truncated to 0.001634, some loss of precision is to be expected.\n",
      "  warnings.warn('Physical maximum for channel {} ({}) is {}, which has {} chars, '\n"
     ]
    },
    {
     "name": "stdout",
     "output_type": "stream",
     "text": [
      "Extracting EDF parameters from C:\\Users\\naikh\\SleepResearchCode_experient\\Dataset_clean_for_jupyter\\sub-31\\eeg\\sub-31_task-Sleep_acq-headband_eeg.edf...\n",
      "EDF file detected\n",
      "Setting channel info structure...\n",
      "Creating raw.info structure...\n",
      "Reading 0 ... 6533887  =      0.000 ... 25522.996 secs...\n"
     ]
    },
    {
     "name": "stderr",
     "output_type": "stream",
     "text": [
      "C:\\Users\\naikh\\AppData\\Local\\Temp\\ipykernel_22900\\606145124.py:6: RuntimeWarning: Channels contain different highpass filters. Highest filter setting will be stored.\n",
      "  raw = mne.io.read_raw_edf(file_path, preload=True)\n",
      "C:\\Users\\naikh\\AppData\\Local\\Temp\\ipykernel_22900\\606145124.py:6: RuntimeWarning: Channels contain different lowpass filters. Lowest filter setting will be stored.\n",
      "  raw = mne.io.read_raw_edf(file_path, preload=True)\n",
      "C:\\Users\\naikh\\anaconda3\\envs\\TensorFlowEnv\\Lib\\site-packages\\pyedflib\\edfwriter.py:140: UserWarning: Physical maximum for channel 0 (HB_1) is 0.000660700389105058, which has 20 chars, however, EDF+ can only save 8 chars, will be truncated to 0.000660, some loss of precision is to be expected.\n",
      "  warnings.warn('Physical maximum for channel {} ({}) is {}, which has {} chars, '\n",
      "C:\\Users\\naikh\\anaconda3\\envs\\TensorFlowEnv\\Lib\\site-packages\\pyedflib\\edfwriter.py:140: UserWarning: Physical maximum for channel 1 (HB_2) is 0.0012060883497367815, which has 21 chars, however, EDF+ can only save 8 chars, will be truncated to 0.001206, some loss of precision is to be expected.\n",
      "  warnings.warn('Physical maximum for channel {} ({}) is {}, which has {} chars, '\n"
     ]
    },
    {
     "name": "stdout",
     "output_type": "stream",
     "text": [
      "Extracting EDF parameters from C:\\Users\\naikh\\SleepResearchCode_experient\\Dataset_clean_for_jupyter\\sub-32\\eeg\\sub-32_task-Sleep_acq-headband_eeg.edf...\n",
      "EDF file detected\n",
      "Setting channel info structure...\n",
      "Creating raw.info structure...\n",
      "Reading 0 ... 6394367  =      0.000 ... 24977.996 secs...\n"
     ]
    },
    {
     "name": "stderr",
     "output_type": "stream",
     "text": [
      "C:\\Users\\naikh\\AppData\\Local\\Temp\\ipykernel_22900\\606145124.py:6: RuntimeWarning: Channels contain different highpass filters. Highest filter setting will be stored.\n",
      "  raw = mne.io.read_raw_edf(file_path, preload=True)\n",
      "C:\\Users\\naikh\\AppData\\Local\\Temp\\ipykernel_22900\\606145124.py:6: RuntimeWarning: Channels contain different lowpass filters. Lowest filter setting will be stored.\n",
      "  raw = mne.io.read_raw_edf(file_path, preload=True)\n",
      "C:\\Users\\naikh\\anaconda3\\envs\\TensorFlowEnv\\Lib\\site-packages\\pyedflib\\edfwriter.py:140: UserWarning: Physical maximum for channel 1 (HB_2) is 0.002871732661936369, which has 20 chars, however, EDF+ can only save 8 chars, will be truncated to 0.002871, some loss of precision is to be expected.\n",
      "  warnings.warn('Physical maximum for channel {} ({}) is {}, which has {} chars, '\n"
     ]
    },
    {
     "name": "stdout",
     "output_type": "stream",
     "text": [
      "Extracting EDF parameters from C:\\Users\\naikh\\SleepResearchCode_experient\\Dataset_clean_for_jupyter\\sub-33\\eeg\\sub-33_task-Sleep_acq-headband_eeg.edf...\n",
      "EDF file detected\n",
      "Setting channel info structure...\n",
      "Creating raw.info structure...\n",
      "Reading 0 ... 6733055  =      0.000 ... 26300.996 secs...\n"
     ]
    },
    {
     "name": "stderr",
     "output_type": "stream",
     "text": [
      "C:\\Users\\naikh\\AppData\\Local\\Temp\\ipykernel_22900\\606145124.py:6: RuntimeWarning: Channels contain different highpass filters. Highest filter setting will be stored.\n",
      "  raw = mne.io.read_raw_edf(file_path, preload=True)\n",
      "C:\\Users\\naikh\\AppData\\Local\\Temp\\ipykernel_22900\\606145124.py:6: RuntimeWarning: Channels contain different lowpass filters. Lowest filter setting will be stored.\n",
      "  raw = mne.io.read_raw_edf(file_path, preload=True)\n",
      "C:\\Users\\naikh\\anaconda3\\envs\\TensorFlowEnv\\Lib\\site-packages\\pyedflib\\edfwriter.py:133: UserWarning: Physical minimum for channel 0 (HB_1) is -0.0029999283049057753, which has 22 chars, however, EDF+ can only save 8 chars, will be truncated to -0.00299, some loss of precision is to be expected\n",
      "  warnings.warn('Physical minimum for channel {} ({}) is {}, which has {} chars, '\n",
      "C:\\Users\\naikh\\anaconda3\\envs\\TensorFlowEnv\\Lib\\site-packages\\pyedflib\\edfwriter.py:140: UserWarning: Physical maximum for channel 0 (HB_1) is 0.0006793922355992981, which has 21 chars, however, EDF+ can only save 8 chars, will be truncated to 0.000679, some loss of precision is to be expected.\n",
      "  warnings.warn('Physical maximum for channel {} ({}) is {}, which has {} chars, '\n",
      "C:\\Users\\naikh\\anaconda3\\envs\\TensorFlowEnv\\Lib\\site-packages\\pyedflib\\edfwriter.py:133: UserWarning: Physical minimum for channel 1 (HB_2) is -0.002999928782696269, which has 21 chars, however, EDF+ can only save 8 chars, will be truncated to -0.00299, some loss of precision is to be expected\n",
      "  warnings.warn('Physical minimum for channel {} ({}) is {}, which has {} chars, '\n",
      "C:\\Users\\naikh\\anaconda3\\envs\\TensorFlowEnv\\Lib\\site-packages\\pyedflib\\edfwriter.py:140: UserWarning: Physical maximum for channel 1 (HB_2) is 0.0006305157095902957, which has 21 chars, however, EDF+ can only save 8 chars, will be truncated to 0.000630, some loss of precision is to be expected.\n",
      "  warnings.warn('Physical maximum for channel {} ({}) is {}, which has {} chars, '\n"
     ]
    },
    {
     "name": "stdout",
     "output_type": "stream",
     "text": [
      "Extracting EDF parameters from C:\\Users\\naikh\\SleepResearchCode_experient\\Dataset_clean_for_jupyter\\sub-34\\eeg\\sub-34_task-Sleep_acq-headband_eeg.edf...\n",
      "EDF file detected\n",
      "Setting channel info structure...\n",
      "Creating raw.info structure...\n",
      "Reading 0 ... 7214847  =      0.000 ... 28182.996 secs...\n"
     ]
    },
    {
     "name": "stderr",
     "output_type": "stream",
     "text": [
      "C:\\Users\\naikh\\AppData\\Local\\Temp\\ipykernel_22900\\606145124.py:6: RuntimeWarning: Channels contain different highpass filters. Highest filter setting will be stored.\n",
      "  raw = mne.io.read_raw_edf(file_path, preload=True)\n",
      "C:\\Users\\naikh\\AppData\\Local\\Temp\\ipykernel_22900\\606145124.py:6: RuntimeWarning: Channels contain different lowpass filters. Lowest filter setting will be stored.\n",
      "  raw = mne.io.read_raw_edf(file_path, preload=True)\n",
      "C:\\Users\\naikh\\anaconda3\\envs\\TensorFlowEnv\\Lib\\site-packages\\pyedflib\\edfwriter.py:133: UserWarning: Physical minimum for channel 0 (HB_1) is -0.0013355281411764706, which has 22 chars, however, EDF+ can only save 8 chars, will be truncated to -0.00133, some loss of precision is to be expected\n",
      "  warnings.warn('Physical minimum for channel {} ({}) is {}, which has {} chars, '\n",
      "C:\\Users\\naikh\\anaconda3\\envs\\TensorFlowEnv\\Lib\\site-packages\\pyedflib\\edfwriter.py:140: UserWarning: Physical maximum for channel 0 (HB_1) is 0.0028105789999999997, which has 21 chars, however, EDF+ can only save 8 chars, will be truncated to 0.002810, some loss of precision is to be expected.\n",
      "  warnings.warn('Physical maximum for channel {} ({}) is {}, which has {} chars, '\n"
     ]
    },
    {
     "name": "stdout",
     "output_type": "stream",
     "text": [
      "Extracting EDF parameters from C:\\Users\\naikh\\SleepResearchCode_experient\\Dataset_clean_for_jupyter\\sub-35\\eeg\\sub-35_task-Sleep_acq-headband_eeg.edf...\n",
      "EDF file detected\n",
      "Setting channel info structure...\n",
      "Creating raw.info structure...\n",
      "Reading 0 ... 6727935  =      0.000 ... 26280.996 secs...\n"
     ]
    },
    {
     "name": "stderr",
     "output_type": "stream",
     "text": [
      "C:\\Users\\naikh\\AppData\\Local\\Temp\\ipykernel_22900\\606145124.py:6: RuntimeWarning: Channels contain different highpass filters. Highest filter setting will be stored.\n",
      "  raw = mne.io.read_raw_edf(file_path, preload=True)\n",
      "C:\\Users\\naikh\\AppData\\Local\\Temp\\ipykernel_22900\\606145124.py:6: RuntimeWarning: Channels contain different lowpass filters. Lowest filter setting will be stored.\n",
      "  raw = mne.io.read_raw_edf(file_path, preload=True)\n",
      "C:\\Users\\naikh\\anaconda3\\envs\\TensorFlowEnv\\Lib\\site-packages\\pyedflib\\edfwriter.py:133: UserWarning: Physical minimum for channel 0 (HB_1) is -0.002999930596063172, which has 21 chars, however, EDF+ can only save 8 chars, will be truncated to -0.00299, some loss of precision is to be expected\n",
      "  warnings.warn('Physical minimum for channel {} ({}) is {}, which has {} chars, '\n",
      "C:\\Users\\naikh\\anaconda3\\envs\\TensorFlowEnv\\Lib\\site-packages\\pyedflib\\edfwriter.py:140: UserWarning: Physical maximum for channel 0 (HB_1) is 0.00044798758159761903, which has 22 chars, however, EDF+ can only save 8 chars, will be truncated to 0.000447, some loss of precision is to be expected.\n",
      "  warnings.warn('Physical maximum for channel {} ({}) is {}, which has {} chars, '\n",
      "C:\\Users\\naikh\\anaconda3\\envs\\TensorFlowEnv\\Lib\\site-packages\\pyedflib\\edfwriter.py:133: UserWarning: Physical minimum for channel 1 (HB_2) is -0.002999937240421149, which has 21 chars, however, EDF+ can only save 8 chars, will be truncated to -0.00299, some loss of precision is to be expected\n",
      "  warnings.warn('Physical minimum for channel {} ({}) is {}, which has {} chars, '\n",
      "C:\\Users\\naikh\\anaconda3\\envs\\TensorFlowEnv\\Lib\\site-packages\\pyedflib\\edfwriter.py:140: UserWarning: Physical maximum for channel 1 (HB_2) is -0.00018058867969787104, which has 23 chars, however, EDF+ can only save 8 chars, will be truncated to -0.00018, some loss of precision is to be expected.\n",
      "  warnings.warn('Physical maximum for channel {} ({}) is {}, which has {} chars, '\n"
     ]
    },
    {
     "name": "stdout",
     "output_type": "stream",
     "text": [
      "Extracting EDF parameters from C:\\Users\\naikh\\SleepResearchCode_experient\\Dataset_clean_for_jupyter\\sub-36\\eeg\\sub-36_task-Sleep_acq-headband_eeg.edf...\n",
      "EDF file detected\n",
      "Setting channel info structure...\n",
      "Creating raw.info structure...\n",
      "Reading 0 ... 6873599  =      0.000 ... 26849.996 secs...\n"
     ]
    },
    {
     "name": "stderr",
     "output_type": "stream",
     "text": [
      "C:\\Users\\naikh\\AppData\\Local\\Temp\\ipykernel_22900\\606145124.py:6: RuntimeWarning: Channels contain different highpass filters. Highest filter setting will be stored.\n",
      "  raw = mne.io.read_raw_edf(file_path, preload=True)\n",
      "C:\\Users\\naikh\\AppData\\Local\\Temp\\ipykernel_22900\\606145124.py:6: RuntimeWarning: Channels contain different lowpass filters. Lowest filter setting will be stored.\n",
      "  raw = mne.io.read_raw_edf(file_path, preload=True)\n",
      "C:\\Users\\naikh\\anaconda3\\envs\\TensorFlowEnv\\Lib\\site-packages\\pyedflib\\edfwriter.py:140: UserWarning: Physical maximum for channel 0 (HB_1) is 0.00047209887846189037, which has 22 chars, however, EDF+ can only save 8 chars, will be truncated to 0.000472, some loss of precision is to be expected.\n",
      "  warnings.warn('Physical maximum for channel {} ({}) is {}, which has {} chars, '\n",
      "C:\\Users\\naikh\\anaconda3\\envs\\TensorFlowEnv\\Lib\\site-packages\\pyedflib\\edfwriter.py:140: UserWarning: Physical maximum for channel 1 (HB_2) is 0.0005024948500801096, which has 21 chars, however, EDF+ can only save 8 chars, will be truncated to 0.000502, some loss of precision is to be expected.\n",
      "  warnings.warn('Physical maximum for channel {} ({}) is {}, which has {} chars, '\n"
     ]
    },
    {
     "name": "stdout",
     "output_type": "stream",
     "text": [
      "Extracting EDF parameters from C:\\Users\\naikh\\SleepResearchCode_experient\\Dataset_clean_for_jupyter\\sub-37\\eeg\\sub-37_task-Sleep_acq-headband_eeg.edf...\n",
      "EDF file detected\n",
      "Setting channel info structure...\n",
      "Creating raw.info structure...\n",
      "Reading 0 ... 6582783  =      0.000 ... 25713.996 secs...\n"
     ]
    },
    {
     "name": "stderr",
     "output_type": "stream",
     "text": [
      "C:\\Users\\naikh\\AppData\\Local\\Temp\\ipykernel_22900\\606145124.py:6: RuntimeWarning: Channels contain different highpass filters. Highest filter setting will be stored.\n",
      "  raw = mne.io.read_raw_edf(file_path, preload=True)\n",
      "C:\\Users\\naikh\\AppData\\Local\\Temp\\ipykernel_22900\\606145124.py:6: RuntimeWarning: Channels contain different lowpass filters. Lowest filter setting will be stored.\n",
      "  raw = mne.io.read_raw_edf(file_path, preload=True)\n",
      "C:\\Users\\naikh\\anaconda3\\envs\\TensorFlowEnv\\Lib\\site-packages\\pyedflib\\edfwriter.py:133: UserWarning: Physical minimum for channel 1 (HB_2) is -0.0018072658601205461, which has 22 chars, however, EDF+ can only save 8 chars, will be truncated to -0.00180, some loss of precision is to be expected\n",
      "  warnings.warn('Physical minimum for channel {} ({}) is {}, which has {} chars, '\n",
      "C:\\Users\\naikh\\anaconda3\\envs\\TensorFlowEnv\\Lib\\site-packages\\pyedflib\\edfwriter.py:140: UserWarning: Physical maximum for channel 1 (HB_2) is 0.0022850970000000003, which has 21 chars, however, EDF+ can only save 8 chars, will be truncated to 0.002285, some loss of precision is to be expected.\n",
      "  warnings.warn('Physical maximum for channel {} ({}) is {}, which has {} chars, '\n"
     ]
    },
    {
     "name": "stdout",
     "output_type": "stream",
     "text": [
      "Extracting EDF parameters from C:\\Users\\naikh\\SleepResearchCode_experient\\Dataset_clean_for_jupyter\\sub-38\\eeg\\sub-38_task-Sleep_acq-headband_eeg.edf...\n",
      "EDF file detected\n",
      "Setting channel info structure...\n",
      "Creating raw.info structure...\n",
      "Reading 0 ... 6540799  =      0.000 ... 25549.996 secs...\n"
     ]
    },
    {
     "name": "stderr",
     "output_type": "stream",
     "text": [
      "C:\\Users\\naikh\\AppData\\Local\\Temp\\ipykernel_22900\\606145124.py:6: RuntimeWarning: Channels contain different highpass filters. Highest filter setting will be stored.\n",
      "  raw = mne.io.read_raw_edf(file_path, preload=True)\n",
      "C:\\Users\\naikh\\AppData\\Local\\Temp\\ipykernel_22900\\606145124.py:6: RuntimeWarning: Channels contain different lowpass filters. Lowest filter setting will be stored.\n",
      "  raw = mne.io.read_raw_edf(file_path, preload=True)\n",
      "C:\\Users\\naikh\\anaconda3\\envs\\TensorFlowEnv\\Lib\\site-packages\\pyedflib\\edfwriter.py:133: UserWarning: Physical minimum for channel 1 (HB_2) is -0.0016138469013504235, which has 22 chars, however, EDF+ can only save 8 chars, will be truncated to -0.00161, some loss of precision is to be expected\n",
      "  warnings.warn('Physical minimum for channel {} ({}) is {}, which has {} chars, '\n"
     ]
    },
    {
     "name": "stdout",
     "output_type": "stream",
     "text": [
      "Extracting EDF parameters from C:\\Users\\naikh\\SleepResearchCode_experient\\Dataset_clean_for_jupyter\\sub-39\\eeg\\sub-39_task-Sleep_acq-headband_eeg.edf...\n",
      "EDF file detected\n",
      "Setting channel info structure...\n",
      "Creating raw.info structure...\n",
      "Reading 0 ... 6966527  =      0.000 ... 27212.996 secs...\n"
     ]
    },
    {
     "name": "stderr",
     "output_type": "stream",
     "text": [
      "C:\\Users\\naikh\\AppData\\Local\\Temp\\ipykernel_22900\\606145124.py:6: RuntimeWarning: Channels contain different highpass filters. Highest filter setting will be stored.\n",
      "  raw = mne.io.read_raw_edf(file_path, preload=True)\n",
      "C:\\Users\\naikh\\AppData\\Local\\Temp\\ipykernel_22900\\606145124.py:6: RuntimeWarning: Channels contain different lowpass filters. Lowest filter setting will be stored.\n",
      "  raw = mne.io.read_raw_edf(file_path, preload=True)\n",
      "C:\\Users\\naikh\\anaconda3\\envs\\TensorFlowEnv\\Lib\\site-packages\\pyedflib\\edfwriter.py:133: UserWarning: Physical minimum for channel 0 (HB_1) is -0.002217092608194095, which has 21 chars, however, EDF+ can only save 8 chars, will be truncated to -0.00221, some loss of precision is to be expected\n",
      "  warnings.warn('Physical minimum for channel {} ({}) is {}, which has {} chars, '\n",
      "C:\\Users\\naikh\\anaconda3\\envs\\TensorFlowEnv\\Lib\\site-packages\\pyedflib\\edfwriter.py:140: UserWarning: Physical maximum for channel 0 (HB_1) is 0.002181637955046922, which has 20 chars, however, EDF+ can only save 8 chars, will be truncated to 0.002181, some loss of precision is to be expected.\n",
      "  warnings.warn('Physical maximum for channel {} ({}) is {}, which has {} chars, '\n"
     ]
    },
    {
     "name": "stdout",
     "output_type": "stream",
     "text": [
      "Extracting EDF parameters from C:\\Users\\naikh\\SleepResearchCode_experient\\Dataset_clean_for_jupyter\\sub-40\\eeg\\sub-40_task-Sleep_acq-headband_eeg.edf...\n",
      "EDF file detected\n",
      "Setting channel info structure...\n",
      "Creating raw.info structure...\n",
      "Reading 0 ... 6401791  =      0.000 ... 25006.996 secs...\n"
     ]
    },
    {
     "name": "stderr",
     "output_type": "stream",
     "text": [
      "C:\\Users\\naikh\\AppData\\Local\\Temp\\ipykernel_22900\\606145124.py:6: RuntimeWarning: Channels contain different highpass filters. Highest filter setting will be stored.\n",
      "  raw = mne.io.read_raw_edf(file_path, preload=True)\n",
      "C:\\Users\\naikh\\AppData\\Local\\Temp\\ipykernel_22900\\606145124.py:6: RuntimeWarning: Channels contain different lowpass filters. Lowest filter setting will be stored.\n",
      "  raw = mne.io.read_raw_edf(file_path, preload=True)\n",
      "C:\\Users\\naikh\\anaconda3\\envs\\TensorFlowEnv\\Lib\\site-packages\\pyedflib\\edfwriter.py:133: UserWarning: Physical minimum for channel 0 (HB_1) is -0.0012545143951781489, which has 22 chars, however, EDF+ can only save 8 chars, will be truncated to -0.00125, some loss of precision is to be expected\n",
      "  warnings.warn('Physical minimum for channel {} ({}) is {}, which has {} chars, '\n",
      "C:\\Users\\naikh\\anaconda3\\envs\\TensorFlowEnv\\Lib\\site-packages\\pyedflib\\edfwriter.py:140: UserWarning: Physical maximum for channel 0 (HB_1) is 0.0009153858677042802, which has 21 chars, however, EDF+ can only save 8 chars, will be truncated to 0.000915, some loss of precision is to be expected.\n",
      "  warnings.warn('Physical maximum for channel {} ({}) is {}, which has {} chars, '\n",
      "C:\\Users\\naikh\\anaconda3\\envs\\TensorFlowEnv\\Lib\\site-packages\\pyedflib\\edfwriter.py:133: UserWarning: Physical minimum for channel 1 (HB_2) is -0.0012922070853437094, which has 22 chars, however, EDF+ can only save 8 chars, will be truncated to -0.00129, some loss of precision is to be expected\n",
      "  warnings.warn('Physical minimum for channel {} ({}) is {}, which has {} chars, '\n",
      "C:\\Users\\naikh\\anaconda3\\envs\\TensorFlowEnv\\Lib\\site-packages\\pyedflib\\edfwriter.py:140: UserWarning: Physical maximum for channel 1 (HB_2) is 0.001528478, which has 11 chars, however, EDF+ can only save 8 chars, will be truncated to 0.001528, some loss of precision is to be expected.\n",
      "  warnings.warn('Physical maximum for channel {} ({}) is {}, which has {} chars, '\n"
     ]
    },
    {
     "name": "stdout",
     "output_type": "stream",
     "text": [
      "Extracting EDF parameters from C:\\Users\\naikh\\SleepResearchCode_experient\\Dataset_clean_for_jupyter\\sub-41\\eeg\\sub-41_task-Sleep_acq-headband_eeg.edf...\n",
      "EDF file detected\n",
      "Setting channel info structure...\n",
      "Creating raw.info structure...\n",
      "Reading 0 ... 7040511  =      0.000 ... 27501.996 secs...\n"
     ]
    },
    {
     "name": "stderr",
     "output_type": "stream",
     "text": [
      "C:\\Users\\naikh\\AppData\\Local\\Temp\\ipykernel_22900\\606145124.py:6: RuntimeWarning: Channels contain different highpass filters. Highest filter setting will be stored.\n",
      "  raw = mne.io.read_raw_edf(file_path, preload=True)\n",
      "C:\\Users\\naikh\\AppData\\Local\\Temp\\ipykernel_22900\\606145124.py:6: RuntimeWarning: Channels contain different lowpass filters. Lowest filter setting will be stored.\n",
      "  raw = mne.io.read_raw_edf(file_path, preload=True)\n",
      "C:\\Users\\naikh\\anaconda3\\envs\\TensorFlowEnv\\Lib\\site-packages\\pyedflib\\edfwriter.py:140: UserWarning: Physical maximum for channel 0 (HB_1) is 0.001520668345159075, which has 20 chars, however, EDF+ can only save 8 chars, will be truncated to 0.001520, some loss of precision is to be expected.\n",
      "  warnings.warn('Physical maximum for channel {} ({}) is {}, which has {} chars, '\n",
      "C:\\Users\\naikh\\anaconda3\\envs\\TensorFlowEnv\\Lib\\site-packages\\pyedflib\\edfwriter.py:140: UserWarning: Physical maximum for channel 1 (HB_2) is 0.0018665598535133894, which has 21 chars, however, EDF+ can only save 8 chars, will be truncated to 0.001866, some loss of precision is to be expected.\n",
      "  warnings.warn('Physical maximum for channel {} ({}) is {}, which has {} chars, '\n"
     ]
    },
    {
     "name": "stdout",
     "output_type": "stream",
     "text": [
      "Extracting EDF parameters from C:\\Users\\naikh\\SleepResearchCode_experient\\Dataset_clean_for_jupyter\\sub-42\\eeg\\sub-42_task-Sleep_acq-headband_eeg.edf...\n",
      "EDF file detected\n",
      "Setting channel info structure...\n",
      "Creating raw.info structure...\n",
      "Reading 0 ... 6871039  =      0.000 ... 26839.996 secs...\n"
     ]
    },
    {
     "name": "stderr",
     "output_type": "stream",
     "text": [
      "C:\\Users\\naikh\\AppData\\Local\\Temp\\ipykernel_22900\\606145124.py:6: RuntimeWarning: Channels contain different highpass filters. Highest filter setting will be stored.\n",
      "  raw = mne.io.read_raw_edf(file_path, preload=True)\n",
      "C:\\Users\\naikh\\AppData\\Local\\Temp\\ipykernel_22900\\606145124.py:6: RuntimeWarning: Channels contain different lowpass filters. Lowest filter setting will be stored.\n",
      "  raw = mne.io.read_raw_edf(file_path, preload=True)\n",
      "C:\\Users\\naikh\\anaconda3\\envs\\TensorFlowEnv\\Lib\\site-packages\\pyedflib\\edfwriter.py:140: UserWarning: Physical maximum for channel 0 (HB_1) is 0.0010260013733119704, which has 21 chars, however, EDF+ can only save 8 chars, will be truncated to 0.001026, some loss of precision is to be expected.\n",
      "  warnings.warn('Physical maximum for channel {} ({}) is {}, which has {} chars, '\n",
      "C:\\Users\\naikh\\anaconda3\\envs\\TensorFlowEnv\\Lib\\site-packages\\pyedflib\\edfwriter.py:140: UserWarning: Physical maximum for channel 1 (HB_2) is 0.0011680018310826273, which has 21 chars, however, EDF+ can only save 8 chars, will be truncated to 0.001168, some loss of precision is to be expected.\n",
      "  warnings.warn('Physical maximum for channel {} ({}) is {}, which has {} chars, '\n"
     ]
    },
    {
     "name": "stdout",
     "output_type": "stream",
     "text": [
      "Extracting EDF parameters from C:\\Users\\naikh\\SleepResearchCode_experient\\Dataset_clean_for_jupyter\\sub-43\\eeg\\sub-43_task-Sleep_acq-headband_eeg.edf...\n",
      "EDF file detected\n",
      "Setting channel info structure...\n",
      "Creating raw.info structure...\n",
      "Reading 0 ... 6452479  =      0.000 ... 25204.996 secs...\n"
     ]
    },
    {
     "name": "stderr",
     "output_type": "stream",
     "text": [
      "C:\\Users\\naikh\\AppData\\Local\\Temp\\ipykernel_22900\\606145124.py:6: RuntimeWarning: Channels contain different highpass filters. Highest filter setting will be stored.\n",
      "  raw = mne.io.read_raw_edf(file_path, preload=True)\n",
      "C:\\Users\\naikh\\AppData\\Local\\Temp\\ipykernel_22900\\606145124.py:6: RuntimeWarning: Channels contain different lowpass filters. Lowest filter setting will be stored.\n",
      "  raw = mne.io.read_raw_edf(file_path, preload=True)\n",
      "C:\\Users\\naikh\\anaconda3\\envs\\TensorFlowEnv\\Lib\\site-packages\\pyedflib\\edfwriter.py:140: UserWarning: Physical maximum for channel 1 (HB_2) is 0.002162188143739986, which has 20 chars, however, EDF+ can only save 8 chars, will be truncated to 0.002162, some loss of precision is to be expected.\n",
      "  warnings.warn('Physical maximum for channel {} ({}) is {}, which has {} chars, '\n"
     ]
    },
    {
     "name": "stdout",
     "output_type": "stream",
     "text": [
      "Extracting EDF parameters from C:\\Users\\naikh\\SleepResearchCode_experient\\Dataset_clean_for_jupyter\\sub-44\\eeg\\sub-44_task-Sleep_acq-headband_eeg.edf...\n",
      "EDF file detected\n",
      "Setting channel info structure...\n",
      "Creating raw.info structure...\n",
      "Reading 0 ... 6534399  =      0.000 ... 25524.996 secs...\n"
     ]
    },
    {
     "name": "stderr",
     "output_type": "stream",
     "text": [
      "C:\\Users\\naikh\\AppData\\Local\\Temp\\ipykernel_22900\\606145124.py:6: RuntimeWarning: Channels contain different highpass filters. Highest filter setting will be stored.\n",
      "  raw = mne.io.read_raw_edf(file_path, preload=True)\n",
      "C:\\Users\\naikh\\AppData\\Local\\Temp\\ipykernel_22900\\606145124.py:6: RuntimeWarning: Channels contain different lowpass filters. Lowest filter setting will be stored.\n",
      "  raw = mne.io.read_raw_edf(file_path, preload=True)\n"
     ]
    },
    {
     "name": "stdout",
     "output_type": "stream",
     "text": [
      "Extracting EDF parameters from C:\\Users\\naikh\\SleepResearchCode_experient\\Dataset_clean_for_jupyter\\sub-45\\eeg\\sub-45_task-Sleep_acq-headband_eeg.edf...\n",
      "EDF file detected\n",
      "Setting channel info structure...\n",
      "Creating raw.info structure...\n",
      "Reading 0 ... 6308351  =      0.000 ... 24641.996 secs...\n"
     ]
    },
    {
     "name": "stderr",
     "output_type": "stream",
     "text": [
      "C:\\Users\\naikh\\AppData\\Local\\Temp\\ipykernel_22900\\606145124.py:6: RuntimeWarning: Channels contain different highpass filters. Highest filter setting will be stored.\n",
      "  raw = mne.io.read_raw_edf(file_path, preload=True)\n",
      "C:\\Users\\naikh\\AppData\\Local\\Temp\\ipykernel_22900\\606145124.py:6: RuntimeWarning: Channels contain different lowpass filters. Lowest filter setting will be stored.\n",
      "  raw = mne.io.read_raw_edf(file_path, preload=True)\n",
      "C:\\Users\\naikh\\anaconda3\\envs\\TensorFlowEnv\\Lib\\site-packages\\pyedflib\\edfwriter.py:140: UserWarning: Physical maximum for channel 1 (HB_2) is 0.002903227283131151, which has 20 chars, however, EDF+ can only save 8 chars, will be truncated to 0.002903, some loss of precision is to be expected.\n",
      "  warnings.warn('Physical maximum for channel {} ({}) is {}, which has {} chars, '\n"
     ]
    },
    {
     "name": "stdout",
     "output_type": "stream",
     "text": [
      "Extracting EDF parameters from C:\\Users\\naikh\\SleepResearchCode_experient\\Dataset_clean_for_jupyter\\sub-46\\eeg\\sub-46_task-Sleep_acq-headband_eeg.edf...\n",
      "EDF file detected\n",
      "Setting channel info structure...\n",
      "Creating raw.info structure...\n",
      "Reading 0 ... 7435007  =      0.000 ... 29042.996 secs...\n"
     ]
    },
    {
     "name": "stderr",
     "output_type": "stream",
     "text": [
      "C:\\Users\\naikh\\AppData\\Local\\Temp\\ipykernel_22900\\606145124.py:6: RuntimeWarning: Channels contain different highpass filters. Highest filter setting will be stored.\n",
      "  raw = mne.io.read_raw_edf(file_path, preload=True)\n",
      "C:\\Users\\naikh\\AppData\\Local\\Temp\\ipykernel_22900\\606145124.py:6: RuntimeWarning: Channels contain different lowpass filters. Lowest filter setting will be stored.\n",
      "  raw = mne.io.read_raw_edf(file_path, preload=True)\n",
      "C:\\Users\\naikh\\anaconda3\\envs\\TensorFlowEnv\\Lib\\site-packages\\pyedflib\\edfwriter.py:133: UserWarning: Physical minimum for channel 0 (HB_1) is -0.0029999343806668194, which has 22 chars, however, EDF+ can only save 8 chars, will be truncated to -0.00299, some loss of precision is to be expected\n",
      "  warnings.warn('Physical minimum for channel {} ({}) is {}, which has {} chars, '\n",
      "C:\\Users\\naikh\\anaconda3\\envs\\TensorFlowEnv\\Lib\\site-packages\\pyedflib\\edfwriter.py:140: UserWarning: Physical maximum for channel 0 (HB_1) is 8.220569883268489e-05, which has 21 chars, however, EDF+ can only save 8 chars, will be truncated to 8.220569, some loss of precision is to be expected.\n",
      "  warnings.warn('Physical maximum for channel {} ({}) is {}, which has {} chars, '\n",
      "C:\\Users\\naikh\\anaconda3\\envs\\TensorFlowEnv\\Lib\\site-packages\\pyedflib\\edfwriter.py:133: UserWarning: Physical minimum for channel 1 (HB_2) is -0.0029999314859845885, which has 22 chars, however, EDF+ can only save 8 chars, will be truncated to -0.00299, some loss of precision is to be expected\n",
      "  warnings.warn('Physical minimum for channel {} ({}) is {}, which has {} chars, '\n",
      "C:\\Users\\naikh\\anaconda3\\envs\\TensorFlowEnv\\Lib\\site-packages\\pyedflib\\edfwriter.py:140: UserWarning: Physical maximum for channel 1 (HB_2) is 0.00036013285783169293, which has 22 chars, however, EDF+ can only save 8 chars, will be truncated to 0.000360, some loss of precision is to be expected.\n",
      "  warnings.warn('Physical maximum for channel {} ({}) is {}, which has {} chars, '\n"
     ]
    },
    {
     "name": "stdout",
     "output_type": "stream",
     "text": [
      "Extracting EDF parameters from C:\\Users\\naikh\\SleepResearchCode_experient\\Dataset_clean_for_jupyter\\sub-47\\eeg\\sub-47_task-Sleep_acq-headband_eeg.edf...\n",
      "EDF file detected\n",
      "Setting channel info structure...\n",
      "Creating raw.info structure...\n",
      "Reading 0 ... 6236671  =      0.000 ... 24361.996 secs...\n"
     ]
    },
    {
     "name": "stderr",
     "output_type": "stream",
     "text": [
      "C:\\Users\\naikh\\AppData\\Local\\Temp\\ipykernel_22900\\606145124.py:6: RuntimeWarning: Channels contain different highpass filters. Highest filter setting will be stored.\n",
      "  raw = mne.io.read_raw_edf(file_path, preload=True)\n",
      "C:\\Users\\naikh\\AppData\\Local\\Temp\\ipykernel_22900\\606145124.py:6: RuntimeWarning: Channels contain different lowpass filters. Lowest filter setting will be stored.\n",
      "  raw = mne.io.read_raw_edf(file_path, preload=True)\n",
      "C:\\Users\\naikh\\anaconda3\\envs\\TensorFlowEnv\\Lib\\site-packages\\pyedflib\\edfwriter.py:140: UserWarning: Physical maximum for channel 0 (HB_1) is 0.001624399176012817, which has 20 chars, however, EDF+ can only save 8 chars, will be truncated to 0.001624, some loss of precision is to be expected.\n",
      "  warnings.warn('Physical maximum for channel {} ({}) is {}, which has {} chars, '\n",
      "C:\\Users\\naikh\\anaconda3\\envs\\TensorFlowEnv\\Lib\\site-packages\\pyedflib\\edfwriter.py:133: UserWarning: Physical minimum for channel 1 (HB_2) is -0.0029999387939421683, which has 22 chars, however, EDF+ can only save 8 chars, will be truncated to -0.00299, some loss of precision is to be expected\n",
      "  warnings.warn('Physical minimum for channel {} ({}) is {}, which has {} chars, '\n",
      "C:\\Users\\naikh\\anaconda3\\envs\\TensorFlowEnv\\Lib\\site-packages\\pyedflib\\edfwriter.py:140: UserWarning: Physical maximum for channel 1 (HB_2) is -0.00031844019427786655, which has 23 chars, however, EDF+ can only save 8 chars, will be truncated to -0.00031, some loss of precision is to be expected.\n",
      "  warnings.warn('Physical maximum for channel {} ({}) is {}, which has {} chars, '\n"
     ]
    },
    {
     "name": "stdout",
     "output_type": "stream",
     "text": [
      "Extracting EDF parameters from C:\\Users\\naikh\\SleepResearchCode_experient\\Dataset_clean_for_jupyter\\sub-48\\eeg\\sub-48_task-Sleep_acq-headband_eeg.edf...\n",
      "EDF file detected\n",
      "Setting channel info structure...\n",
      "Creating raw.info structure...\n",
      "Reading 0 ... 8055551  =      0.000 ... 31466.996 secs...\n"
     ]
    },
    {
     "name": "stderr",
     "output_type": "stream",
     "text": [
      "C:\\Users\\naikh\\AppData\\Local\\Temp\\ipykernel_22900\\606145124.py:6: RuntimeWarning: Channels contain different highpass filters. Highest filter setting will be stored.\n",
      "  raw = mne.io.read_raw_edf(file_path, preload=True)\n",
      "C:\\Users\\naikh\\AppData\\Local\\Temp\\ipykernel_22900\\606145124.py:6: RuntimeWarning: Channels contain different lowpass filters. Lowest filter setting will be stored.\n",
      "  raw = mne.io.read_raw_edf(file_path, preload=True)\n"
     ]
    },
    {
     "name": "stdout",
     "output_type": "stream",
     "text": [
      "Extracting EDF parameters from C:\\Users\\naikh\\SleepResearchCode_experient\\Dataset_clean_for_jupyter\\sub-49\\eeg\\sub-49_task-Sleep_acq-headband_eeg.edf...\n",
      "EDF file detected\n",
      "Setting channel info structure...\n",
      "Creating raw.info structure...\n",
      "Reading 0 ... 6933759  =      0.000 ... 27084.996 secs...\n"
     ]
    },
    {
     "name": "stderr",
     "output_type": "stream",
     "text": [
      "C:\\Users\\naikh\\AppData\\Local\\Temp\\ipykernel_22900\\606145124.py:6: RuntimeWarning: Channels contain different highpass filters. Highest filter setting will be stored.\n",
      "  raw = mne.io.read_raw_edf(file_path, preload=True)\n",
      "C:\\Users\\naikh\\AppData\\Local\\Temp\\ipykernel_22900\\606145124.py:6: RuntimeWarning: Channels contain different lowpass filters. Lowest filter setting will be stored.\n",
      "  raw = mne.io.read_raw_edf(file_path, preload=True)\n",
      "C:\\Users\\naikh\\anaconda3\\envs\\TensorFlowEnv\\Lib\\site-packages\\pyedflib\\edfwriter.py:140: UserWarning: Physical maximum for channel 1 (HB_2) is 0.0008926985580224304, which has 21 chars, however, EDF+ can only save 8 chars, will be truncated to 0.000892, some loss of precision is to be expected.\n",
      "  warnings.warn('Physical maximum for channel {} ({}) is {}, which has {} chars, '\n"
     ]
    },
    {
     "name": "stdout",
     "output_type": "stream",
     "text": [
      "Extracting EDF parameters from C:\\Users\\naikh\\SleepResearchCode_experient\\Dataset_clean_for_jupyter\\sub-50\\eeg\\sub-50_task-Sleep_acq-headband_eeg.edf...\n",
      "EDF file detected\n",
      "Setting channel info structure...\n",
      "Creating raw.info structure...\n",
      "Reading 0 ... 6876159  =      0.000 ... 26859.996 secs...\n"
     ]
    },
    {
     "name": "stderr",
     "output_type": "stream",
     "text": [
      "C:\\Users\\naikh\\AppData\\Local\\Temp\\ipykernel_22900\\606145124.py:6: RuntimeWarning: Channels contain different highpass filters. Highest filter setting will be stored.\n",
      "  raw = mne.io.read_raw_edf(file_path, preload=True)\n",
      "C:\\Users\\naikh\\AppData\\Local\\Temp\\ipykernel_22900\\606145124.py:6: RuntimeWarning: Channels contain different lowpass filters. Lowest filter setting will be stored.\n",
      "  raw = mne.io.read_raw_edf(file_path, preload=True)\n"
     ]
    },
    {
     "name": "stdout",
     "output_type": "stream",
     "text": [
      "Extracting EDF parameters from C:\\Users\\naikh\\SleepResearchCode_experient\\Dataset_clean_for_jupyter\\sub-51\\eeg\\sub-51_task-Sleep_acq-headband_eeg.edf...\n",
      "EDF file detected\n",
      "Setting channel info structure...\n",
      "Creating raw.info structure...\n",
      "Reading 0 ... 6876159  =      0.000 ... 26859.996 secs...\n"
     ]
    },
    {
     "name": "stderr",
     "output_type": "stream",
     "text": [
      "C:\\Users\\naikh\\AppData\\Local\\Temp\\ipykernel_22900\\606145124.py:6: RuntimeWarning: Channels contain different highpass filters. Highest filter setting will be stored.\n",
      "  raw = mne.io.read_raw_edf(file_path, preload=True)\n",
      "C:\\Users\\naikh\\AppData\\Local\\Temp\\ipykernel_22900\\606145124.py:6: RuntimeWarning: Channels contain different lowpass filters. Lowest filter setting will be stored.\n",
      "  raw = mne.io.read_raw_edf(file_path, preload=True)\n",
      "C:\\Users\\naikh\\anaconda3\\envs\\TensorFlowEnv\\Lib\\site-packages\\pyedflib\\edfwriter.py:140: UserWarning: Physical maximum for channel 0 (HB_1) is 0.002306294346532387, which has 20 chars, however, EDF+ can only save 8 chars, will be truncated to 0.002306, some loss of precision is to be expected.\n",
      "  warnings.warn('Physical maximum for channel {} ({}) is {}, which has {} chars, '\n"
     ]
    },
    {
     "name": "stdout",
     "output_type": "stream",
     "text": [
      "Extracting EDF parameters from C:\\Users\\naikh\\SleepResearchCode_experient\\Dataset_clean_for_jupyter\\sub-52\\eeg\\sub-52_task-Sleep_acq-headband_eeg.edf...\n",
      "EDF file detected\n",
      "Setting channel info structure...\n",
      "Creating raw.info structure...\n",
      "Reading 0 ... 7094271  =      0.000 ... 27711.996 secs...\n"
     ]
    },
    {
     "name": "stderr",
     "output_type": "stream",
     "text": [
      "C:\\Users\\naikh\\AppData\\Local\\Temp\\ipykernel_22900\\606145124.py:6: RuntimeWarning: Channels contain different highpass filters. Highest filter setting will be stored.\n",
      "  raw = mne.io.read_raw_edf(file_path, preload=True)\n",
      "C:\\Users\\naikh\\AppData\\Local\\Temp\\ipykernel_22900\\606145124.py:6: RuntimeWarning: Channels contain different lowpass filters. Lowest filter setting will be stored.\n",
      "  raw = mne.io.read_raw_edf(file_path, preload=True)\n",
      "C:\\Users\\naikh\\anaconda3\\envs\\TensorFlowEnv\\Lib\\site-packages\\pyedflib\\edfwriter.py:133: UserWarning: Physical minimum for channel 0 (HB_1) is -0.0008064721471580072, which has 22 chars, however, EDF+ can only save 8 chars, will be truncated to -0.00080, some loss of precision is to be expected\n",
      "  warnings.warn('Physical minimum for channel {} ({}) is {}, which has {} chars, '\n",
      "C:\\Users\\naikh\\anaconda3\\envs\\TensorFlowEnv\\Lib\\site-packages\\pyedflib\\edfwriter.py:140: UserWarning: Physical maximum for channel 0 (HB_1) is 0.0027604039999999993, which has 21 chars, however, EDF+ can only save 8 chars, will be truncated to 0.002760, some loss of precision is to be expected.\n",
      "  warnings.warn('Physical maximum for channel {} ({}) is {}, which has {} chars, '\n",
      "C:\\Users\\naikh\\anaconda3\\envs\\TensorFlowEnv\\Lib\\site-packages\\pyedflib\\edfwriter.py:133: UserWarning: Physical minimum for channel 1 (HB_2) is -0.00016149184821850923, which has 23 chars, however, EDF+ can only save 8 chars, will be truncated to -0.00016, some loss of precision is to be expected\n",
      "  warnings.warn('Physical minimum for channel {} ({}) is {}, which has {} chars, '\n",
      "C:\\Users\\naikh\\anaconda3\\envs\\TensorFlowEnv\\Lib\\site-packages\\pyedflib\\edfwriter.py:140: UserWarning: Physical maximum for channel 1 (HB_2) is 0.0009099689999999997, which has 21 chars, however, EDF+ can only save 8 chars, will be truncated to 0.000909, some loss of precision is to be expected.\n",
      "  warnings.warn('Physical maximum for channel {} ({}) is {}, which has {} chars, '\n"
     ]
    },
    {
     "name": "stdout",
     "output_type": "stream",
     "text": [
      "Extracting EDF parameters from C:\\Users\\naikh\\SleepResearchCode_experient\\Dataset_clean_for_jupyter\\sub-53\\eeg\\sub-53_task-Sleep_acq-headband_eeg.edf...\n",
      "EDF file detected\n",
      "Setting channel info structure...\n",
      "Creating raw.info structure...\n",
      "Reading 0 ... 5122047  =      0.000 ... 20007.996 secs...\n"
     ]
    },
    {
     "name": "stderr",
     "output_type": "stream",
     "text": [
      "C:\\Users\\naikh\\AppData\\Local\\Temp\\ipykernel_22900\\606145124.py:6: RuntimeWarning: Channels contain different highpass filters. Highest filter setting will be stored.\n",
      "  raw = mne.io.read_raw_edf(file_path, preload=True)\n",
      "C:\\Users\\naikh\\AppData\\Local\\Temp\\ipykernel_22900\\606145124.py:6: RuntimeWarning: Channels contain different lowpass filters. Lowest filter setting will be stored.\n",
      "  raw = mne.io.read_raw_edf(file_path, preload=True)\n"
     ]
    },
    {
     "name": "stdout",
     "output_type": "stream",
     "text": [
      "Extracting EDF parameters from C:\\Users\\naikh\\SleepResearchCode_experient\\Dataset_clean_for_jupyter\\sub-54\\eeg\\sub-54_task-Sleep_acq-headband_eeg.edf...\n",
      "EDF file detected\n",
      "Setting channel info structure...\n",
      "Creating raw.info structure...\n",
      "Reading 0 ... 6073087  =      0.000 ... 23722.996 secs...\n"
     ]
    },
    {
     "name": "stderr",
     "output_type": "stream",
     "text": [
      "C:\\Users\\naikh\\AppData\\Local\\Temp\\ipykernel_22900\\606145124.py:6: RuntimeWarning: Channels contain different highpass filters. Highest filter setting will be stored.\n",
      "  raw = mne.io.read_raw_edf(file_path, preload=True)\n",
      "C:\\Users\\naikh\\AppData\\Local\\Temp\\ipykernel_22900\\606145124.py:6: RuntimeWarning: Channels contain different lowpass filters. Lowest filter setting will be stored.\n",
      "  raw = mne.io.read_raw_edf(file_path, preload=True)\n"
     ]
    },
    {
     "name": "stdout",
     "output_type": "stream",
     "text": [
      "Extracting EDF parameters from C:\\Users\\naikh\\SleepResearchCode_experient\\Dataset_clean_for_jupyter\\sub-55\\eeg\\sub-55_task-Sleep_acq-headband_eeg.edf...\n",
      "EDF file detected\n",
      "Setting channel info structure...\n",
      "Creating raw.info structure...\n",
      "Reading 0 ... 8242943  =      0.000 ... 32198.996 secs...\n"
     ]
    },
    {
     "name": "stderr",
     "output_type": "stream",
     "text": [
      "C:\\Users\\naikh\\AppData\\Local\\Temp\\ipykernel_22900\\606145124.py:6: RuntimeWarning: Channels contain different highpass filters. Highest filter setting will be stored.\n",
      "  raw = mne.io.read_raw_edf(file_path, preload=True)\n",
      "C:\\Users\\naikh\\AppData\\Local\\Temp\\ipykernel_22900\\606145124.py:6: RuntimeWarning: Channels contain different lowpass filters. Lowest filter setting will be stored.\n",
      "  raw = mne.io.read_raw_edf(file_path, preload=True)\n"
     ]
    },
    {
     "name": "stdout",
     "output_type": "stream",
     "text": [
      "Extracting EDF parameters from C:\\Users\\naikh\\SleepResearchCode_experient\\Dataset_clean_for_jupyter\\sub-56\\eeg\\sub-56_task-Sleep_acq-headband_eeg.edf...\n",
      "EDF file detected\n",
      "Setting channel info structure...\n",
      "Creating raw.info structure...\n",
      "Reading 0 ... 7359231  =      0.000 ... 28746.996 secs...\n"
     ]
    },
    {
     "name": "stderr",
     "output_type": "stream",
     "text": [
      "C:\\Users\\naikh\\AppData\\Local\\Temp\\ipykernel_22900\\606145124.py:6: RuntimeWarning: Channels contain different highpass filters. Highest filter setting will be stored.\n",
      "  raw = mne.io.read_raw_edf(file_path, preload=True)\n",
      "C:\\Users\\naikh\\AppData\\Local\\Temp\\ipykernel_22900\\606145124.py:6: RuntimeWarning: Channels contain different lowpass filters. Lowest filter setting will be stored.\n",
      "  raw = mne.io.read_raw_edf(file_path, preload=True)\n"
     ]
    },
    {
     "name": "stdout",
     "output_type": "stream",
     "text": [
      "Extracting EDF parameters from C:\\Users\\naikh\\SleepResearchCode_experient\\Dataset_clean_for_jupyter\\sub-57\\eeg\\sub-57_task-Sleep_acq-headband_eeg.edf...\n",
      "EDF file detected\n",
      "Setting channel info structure...\n",
      "Creating raw.info structure...\n",
      "Reading 0 ... 7925759  =      0.000 ... 30959.996 secs...\n"
     ]
    },
    {
     "name": "stderr",
     "output_type": "stream",
     "text": [
      "C:\\Users\\naikh\\AppData\\Local\\Temp\\ipykernel_22900\\606145124.py:6: RuntimeWarning: Channels contain different highpass filters. Highest filter setting will be stored.\n",
      "  raw = mne.io.read_raw_edf(file_path, preload=True)\n",
      "C:\\Users\\naikh\\AppData\\Local\\Temp\\ipykernel_22900\\606145124.py:6: RuntimeWarning: Channels contain different lowpass filters. Lowest filter setting will be stored.\n",
      "  raw = mne.io.read_raw_edf(file_path, preload=True)\n"
     ]
    },
    {
     "name": "stdout",
     "output_type": "stream",
     "text": [
      "Extracting EDF parameters from C:\\Users\\naikh\\SleepResearchCode_experient\\Dataset_clean_for_jupyter\\sub-58\\eeg\\sub-58_task-Sleep_acq-headband_eeg.edf...\n",
      "EDF file detected\n",
      "Setting channel info structure...\n",
      "Creating raw.info structure...\n",
      "Reading 0 ... 7721471  =      0.000 ... 30161.996 secs...\n"
     ]
    },
    {
     "name": "stderr",
     "output_type": "stream",
     "text": [
      "C:\\Users\\naikh\\AppData\\Local\\Temp\\ipykernel_22900\\606145124.py:6: RuntimeWarning: Channels contain different highpass filters. Highest filter setting will be stored.\n",
      "  raw = mne.io.read_raw_edf(file_path, preload=True)\n",
      "C:\\Users\\naikh\\AppData\\Local\\Temp\\ipykernel_22900\\606145124.py:6: RuntimeWarning: Channels contain different lowpass filters. Lowest filter setting will be stored.\n",
      "  raw = mne.io.read_raw_edf(file_path, preload=True)\n",
      "C:\\Users\\naikh\\anaconda3\\envs\\TensorFlowEnv\\Lib\\site-packages\\pyedflib\\edfwriter.py:140: UserWarning: Physical maximum for channel 0 (HB_1) is 0.0014893568322270538, which has 21 chars, however, EDF+ can only save 8 chars, will be truncated to 0.001489, some loss of precision is to be expected.\n",
      "  warnings.warn('Physical maximum for channel {} ({}) is {}, which has {} chars, '\n"
     ]
    },
    {
     "name": "stdout",
     "output_type": "stream",
     "text": [
      "Extracting EDF parameters from C:\\Users\\naikh\\SleepResearchCode_experient\\Dataset_clean_for_jupyter\\sub-59\\eeg\\sub-59_task-Sleep_acq-headband_eeg.edf...\n",
      "EDF file detected\n",
      "Setting channel info structure...\n",
      "Creating raw.info structure...\n",
      "Reading 0 ... 8122879  =      0.000 ... 31729.996 secs...\n"
     ]
    },
    {
     "name": "stderr",
     "output_type": "stream",
     "text": [
      "C:\\Users\\naikh\\AppData\\Local\\Temp\\ipykernel_22900\\606145124.py:6: RuntimeWarning: Channels contain different highpass filters. Highest filter setting will be stored.\n",
      "  raw = mne.io.read_raw_edf(file_path, preload=True)\n",
      "C:\\Users\\naikh\\AppData\\Local\\Temp\\ipykernel_22900\\606145124.py:6: RuntimeWarning: Channels contain different lowpass filters. Lowest filter setting will be stored.\n",
      "  raw = mne.io.read_raw_edf(file_path, preload=True)\n",
      "C:\\Users\\naikh\\anaconda3\\envs\\TensorFlowEnv\\Lib\\site-packages\\pyedflib\\edfwriter.py:133: UserWarning: Physical minimum for channel 0 (HB_1) is -0.002999926494331273, which has 21 chars, however, EDF+ can only save 8 chars, will be truncated to -0.00299, some loss of precision is to be expected\n",
      "  warnings.warn('Physical minimum for channel {} ({}) is {}, which has {} chars, '\n",
      "C:\\Users\\naikh\\anaconda3\\envs\\TensorFlowEnv\\Lib\\site-packages\\pyedflib\\edfwriter.py:140: UserWarning: Physical maximum for channel 0 (HB_1) is 0.0008675742657206067, which has 21 chars, however, EDF+ can only save 8 chars, will be truncated to 0.000867, some loss of precision is to be expected.\n",
      "  warnings.warn('Physical maximum for channel {} ({}) is {}, which has {} chars, '\n"
     ]
    },
    {
     "name": "stdout",
     "output_type": "stream",
     "text": [
      "Extracting EDF parameters from C:\\Users\\naikh\\SleepResearchCode_experient\\Dataset_clean_for_jupyter\\sub-60\\eeg\\sub-60_task-Sleep_acq-headband_eeg.edf...\n",
      "EDF file detected\n",
      "Setting channel info structure...\n",
      "Creating raw.info structure...\n",
      "Reading 0 ... 7087359  =      0.000 ... 27684.996 secs...\n"
     ]
    },
    {
     "name": "stderr",
     "output_type": "stream",
     "text": [
      "C:\\Users\\naikh\\AppData\\Local\\Temp\\ipykernel_22900\\606145124.py:6: RuntimeWarning: Channels contain different highpass filters. Highest filter setting will be stored.\n",
      "  raw = mne.io.read_raw_edf(file_path, preload=True)\n",
      "C:\\Users\\naikh\\AppData\\Local\\Temp\\ipykernel_22900\\606145124.py:6: RuntimeWarning: Channels contain different lowpass filters. Lowest filter setting will be stored.\n",
      "  raw = mne.io.read_raw_edf(file_path, preload=True)\n",
      "C:\\Users\\naikh\\anaconda3\\envs\\TensorFlowEnv\\Lib\\site-packages\\pyedflib\\edfwriter.py:133: UserWarning: Physical minimum for channel 0 (HB_1) is -0.0008766816945296406, which has 22 chars, however, EDF+ can only save 8 chars, will be truncated to -0.00087, some loss of precision is to be expected\n",
      "  warnings.warn('Physical minimum for channel {} ({}) is {}, which has {} chars, '\n",
      "C:\\Users\\naikh\\anaconda3\\envs\\TensorFlowEnv\\Lib\\site-packages\\pyedflib\\edfwriter.py:140: UserWarning: Physical maximum for channel 0 (HB_1) is 0.0017457110000000003, which has 21 chars, however, EDF+ can only save 8 chars, will be truncated to 0.001745, some loss of precision is to be expected.\n",
      "  warnings.warn('Physical maximum for channel {} ({}) is {}, which has {} chars, '\n",
      "C:\\Users\\naikh\\anaconda3\\envs\\TensorFlowEnv\\Lib\\site-packages\\pyedflib\\edfwriter.py:133: UserWarning: Physical minimum for channel 1 (HB_2) is -0.0007557027323109788, which has 22 chars, however, EDF+ can only save 8 chars, will be truncated to -0.00075, some loss of precision is to be expected\n",
      "  warnings.warn('Physical minimum for channel {} ({}) is {}, which has {} chars, '\n",
      "C:\\Users\\naikh\\anaconda3\\envs\\TensorFlowEnv\\Lib\\site-packages\\pyedflib\\edfwriter.py:140: UserWarning: Physical maximum for channel 1 (HB_2) is 0.0011191820000000002, which has 21 chars, however, EDF+ can only save 8 chars, will be truncated to 0.001119, some loss of precision is to be expected.\n",
      "  warnings.warn('Physical maximum for channel {} ({}) is {}, which has {} chars, '\n"
     ]
    },
    {
     "name": "stdout",
     "output_type": "stream",
     "text": [
      "Extracting EDF parameters from C:\\Users\\naikh\\SleepResearchCode_experient\\Dataset_clean_for_jupyter\\sub-61\\eeg\\sub-61_task-Sleep_acq-headband_eeg.edf...\n",
      "EDF file detected\n",
      "Setting channel info structure...\n",
      "Creating raw.info structure...\n",
      "Reading 0 ... 7287551  =      0.000 ... 28466.996 secs...\n"
     ]
    },
    {
     "name": "stderr",
     "output_type": "stream",
     "text": [
      "C:\\Users\\naikh\\AppData\\Local\\Temp\\ipykernel_22900\\606145124.py:6: RuntimeWarning: Channels contain different highpass filters. Highest filter setting will be stored.\n",
      "  raw = mne.io.read_raw_edf(file_path, preload=True)\n",
      "C:\\Users\\naikh\\AppData\\Local\\Temp\\ipykernel_22900\\606145124.py:6: RuntimeWarning: Channels contain different lowpass filters. Lowest filter setting will be stored.\n",
      "  raw = mne.io.read_raw_edf(file_path, preload=True)\n"
     ]
    },
    {
     "name": "stdout",
     "output_type": "stream",
     "text": [
      "Extracting EDF parameters from C:\\Users\\naikh\\SleepResearchCode_experient\\Dataset_clean_for_jupyter\\sub-62\\eeg\\sub-62_task-Sleep_acq-headband_eeg.edf...\n",
      "EDF file detected\n",
      "Setting channel info structure...\n",
      "Creating raw.info structure...\n",
      "Reading 0 ... 7550463  =      0.000 ... 29493.996 secs...\n"
     ]
    },
    {
     "name": "stderr",
     "output_type": "stream",
     "text": [
      "C:\\Users\\naikh\\AppData\\Local\\Temp\\ipykernel_22900\\606145124.py:6: RuntimeWarning: Channels contain different highpass filters. Highest filter setting will be stored.\n",
      "  raw = mne.io.read_raw_edf(file_path, preload=True)\n",
      "C:\\Users\\naikh\\AppData\\Local\\Temp\\ipykernel_22900\\606145124.py:6: RuntimeWarning: Channels contain different lowpass filters. Lowest filter setting will be stored.\n",
      "  raw = mne.io.read_raw_edf(file_path, preload=True)\n",
      "C:\\Users\\naikh\\anaconda3\\envs\\TensorFlowEnv\\Lib\\site-packages\\pyedflib\\edfwriter.py:133: UserWarning: Physical minimum for channel 0 (HB_1) is -0.002999943425151446, which has 21 chars, however, EDF+ can only save 8 chars, will be truncated to -0.00299, some loss of precision is to be expected\n",
      "  warnings.warn('Physical minimum for channel {} ({}) is {}, which has {} chars, '\n",
      "C:\\Users\\naikh\\anaconda3\\envs\\TensorFlowEnv\\Lib\\site-packages\\pyedflib\\edfwriter.py:140: UserWarning: Physical maximum for channel 0 (HB_1) is -0.0007088883581002517, which has 22 chars, however, EDF+ can only save 8 chars, will be truncated to -0.00070, some loss of precision is to be expected.\n",
      "  warnings.warn('Physical maximum for channel {} ({}) is {}, which has {} chars, '\n",
      "C:\\Users\\naikh\\anaconda3\\envs\\TensorFlowEnv\\Lib\\site-packages\\pyedflib\\edfwriter.py:140: UserWarning: Physical maximum for channel 1 (HB_2) is 0.0007036392767223618, which has 21 chars, however, EDF+ can only save 8 chars, will be truncated to 0.000703, some loss of precision is to be expected.\n",
      "  warnings.warn('Physical maximum for channel {} ({}) is {}, which has {} chars, '\n"
     ]
    },
    {
     "name": "stdout",
     "output_type": "stream",
     "text": [
      "Extracting EDF parameters from C:\\Users\\naikh\\SleepResearchCode_experient\\Dataset_clean_for_jupyter\\sub-63\\eeg\\sub-63_task-Sleep_acq-headband_eeg.edf...\n",
      "EDF file detected\n",
      "Setting channel info structure...\n",
      "Creating raw.info structure...\n",
      "Reading 0 ... 6825215  =      0.000 ... 26660.996 secs...\n"
     ]
    },
    {
     "name": "stderr",
     "output_type": "stream",
     "text": [
      "C:\\Users\\naikh\\AppData\\Local\\Temp\\ipykernel_22900\\606145124.py:6: RuntimeWarning: Channels contain different highpass filters. Highest filter setting will be stored.\n",
      "  raw = mne.io.read_raw_edf(file_path, preload=True)\n",
      "C:\\Users\\naikh\\AppData\\Local\\Temp\\ipykernel_22900\\606145124.py:6: RuntimeWarning: Channels contain different lowpass filters. Lowest filter setting will be stored.\n",
      "  raw = mne.io.read_raw_edf(file_path, preload=True)\n",
      "C:\\Users\\naikh\\anaconda3\\envs\\TensorFlowEnv\\Lib\\site-packages\\pyedflib\\edfwriter.py:133: UserWarning: Physical minimum for channel 0 (HB_1) is -0.0005482612615548943, which has 22 chars, however, EDF+ can only save 8 chars, will be truncated to -0.00054, some loss of precision is to be expected\n",
      "  warnings.warn('Physical minimum for channel {} ({}) is {}, which has {} chars, '\n",
      "C:\\Users\\naikh\\anaconda3\\envs\\TensorFlowEnv\\Lib\\site-packages\\pyedflib\\edfwriter.py:140: UserWarning: Physical maximum for channel 0 (HB_1) is 0.0015212739999999998, which has 21 chars, however, EDF+ can only save 8 chars, will be truncated to 0.001521, some loss of precision is to be expected.\n",
      "  warnings.warn('Physical maximum for channel {} ({}) is {}, which has {} chars, '\n",
      "C:\\Users\\naikh\\anaconda3\\envs\\TensorFlowEnv\\Lib\\site-packages\\pyedflib\\edfwriter.py:133: UserWarning: Physical minimum for channel 1 (HB_2) is -0.000315645453650721, which has 21 chars, however, EDF+ can only save 8 chars, will be truncated to -0.00031, some loss of precision is to be expected\n",
      "  warnings.warn('Physical minimum for channel {} ({}) is {}, which has {} chars, '\n",
      "C:\\Users\\naikh\\anaconda3\\envs\\TensorFlowEnv\\Lib\\site-packages\\pyedflib\\edfwriter.py:140: UserWarning: Physical maximum for channel 1 (HB_2) is 0.0017390869999999998, which has 21 chars, however, EDF+ can only save 8 chars, will be truncated to 0.001739, some loss of precision is to be expected.\n",
      "  warnings.warn('Physical maximum for channel {} ({}) is {}, which has {} chars, '\n"
     ]
    },
    {
     "name": "stdout",
     "output_type": "stream",
     "text": [
      "Extracting EDF parameters from C:\\Users\\naikh\\SleepResearchCode_experient\\Dataset_clean_for_jupyter\\sub-64\\eeg\\sub-64_task-Sleep_acq-headband_eeg.edf...\n",
      "EDF file detected\n",
      "Setting channel info structure...\n",
      "Creating raw.info structure...\n",
      "Reading 0 ... 6804991  =      0.000 ... 26581.996 secs...\n"
     ]
    },
    {
     "name": "stderr",
     "output_type": "stream",
     "text": [
      "C:\\Users\\naikh\\AppData\\Local\\Temp\\ipykernel_22900\\606145124.py:6: RuntimeWarning: Channels contain different highpass filters. Highest filter setting will be stored.\n",
      "  raw = mne.io.read_raw_edf(file_path, preload=True)\n",
      "C:\\Users\\naikh\\AppData\\Local\\Temp\\ipykernel_22900\\606145124.py:6: RuntimeWarning: Channels contain different lowpass filters. Lowest filter setting will be stored.\n",
      "  raw = mne.io.read_raw_edf(file_path, preload=True)\n",
      "C:\\Users\\naikh\\anaconda3\\envs\\TensorFlowEnv\\Lib\\site-packages\\pyedflib\\edfwriter.py:133: UserWarning: Physical minimum for channel 0 (HB_1) is -0.0027758183537346455, which has 22 chars, however, EDF+ can only save 8 chars, will be truncated to -0.00277, some loss of precision is to be expected\n",
      "  warnings.warn('Physical minimum for channel {} ({}) is {}, which has {} chars, '\n",
      "C:\\Users\\naikh\\anaconda3\\envs\\TensorFlowEnv\\Lib\\site-packages\\pyedflib\\edfwriter.py:140: UserWarning: Physical maximum for channel 0 (HB_1) is 0.0023809597660486765, which has 21 chars, however, EDF+ can only save 8 chars, will be truncated to 0.002380, some loss of precision is to be expected.\n",
      "  warnings.warn('Physical maximum for channel {} ({}) is {}, which has {} chars, '\n",
      "C:\\Users\\naikh\\anaconda3\\envs\\TensorFlowEnv\\Lib\\site-packages\\pyedflib\\edfwriter.py:133: UserWarning: Physical minimum for channel 1 (HB_2) is -0.002574603982040131, which has 21 chars, however, EDF+ can only save 8 chars, will be truncated to -0.00257, some loss of precision is to be expected\n",
      "  warnings.warn('Physical minimum for channel {} ({}) is {}, which has {} chars, '\n",
      "C:\\Users\\naikh\\anaconda3\\envs\\TensorFlowEnv\\Lib\\site-packages\\pyedflib\\edfwriter.py:140: UserWarning: Physical maximum for channel 1 (HB_2) is 0.002245086709559777, which has 20 chars, however, EDF+ can only save 8 chars, will be truncated to 0.002245, some loss of precision is to be expected.\n",
      "  warnings.warn('Physical maximum for channel {} ({}) is {}, which has {} chars, '\n"
     ]
    },
    {
     "name": "stdout",
     "output_type": "stream",
     "text": [
      "Extracting EDF parameters from C:\\Users\\naikh\\SleepResearchCode_experient\\Dataset_clean_for_jupyter\\sub-65\\eeg\\sub-65_task-Sleep_acq-headband_eeg.edf...\n",
      "EDF file detected\n",
      "Setting channel info structure...\n",
      "Creating raw.info structure...\n",
      "Reading 0 ... 6894079  =      0.000 ... 26929.996 secs...\n"
     ]
    },
    {
     "name": "stderr",
     "output_type": "stream",
     "text": [
      "C:\\Users\\naikh\\AppData\\Local\\Temp\\ipykernel_22900\\606145124.py:6: RuntimeWarning: Channels contain different highpass filters. Highest filter setting will be stored.\n",
      "  raw = mne.io.read_raw_edf(file_path, preload=True)\n",
      "C:\\Users\\naikh\\AppData\\Local\\Temp\\ipykernel_22900\\606145124.py:6: RuntimeWarning: Channels contain different lowpass filters. Lowest filter setting will be stored.\n",
      "  raw = mne.io.read_raw_edf(file_path, preload=True)\n",
      "C:\\Users\\naikh\\anaconda3\\envs\\TensorFlowEnv\\Lib\\site-packages\\pyedflib\\edfwriter.py:133: UserWarning: Physical minimum for channel 1 (HB_2) is -0.0010728813685511559, which has 22 chars, however, EDF+ can only save 8 chars, will be truncated to -0.00107, some loss of precision is to be expected\n",
      "  warnings.warn('Physical minimum for channel {} ({}) is {}, which has {} chars, '\n",
      "C:\\Users\\naikh\\anaconda3\\envs\\TensorFlowEnv\\Lib\\site-packages\\pyedflib\\edfwriter.py:140: UserWarning: Physical maximum for channel 1 (HB_2) is 0.001287591, which has 11 chars, however, EDF+ can only save 8 chars, will be truncated to 0.001287, some loss of precision is to be expected.\n",
      "  warnings.warn('Physical maximum for channel {} ({}) is {}, which has {} chars, '\n"
     ]
    },
    {
     "name": "stdout",
     "output_type": "stream",
     "text": [
      "Extracting EDF parameters from C:\\Users\\naikh\\SleepResearchCode_experient\\Dataset_clean_for_jupyter\\sub-66\\eeg\\sub-66_task-Sleep_acq-headband_eeg.edf...\n",
      "EDF file detected\n",
      "Setting channel info structure...\n",
      "Creating raw.info structure...\n",
      "Reading 0 ... 8306175  =      0.000 ... 32445.996 secs...\n"
     ]
    },
    {
     "name": "stderr",
     "output_type": "stream",
     "text": [
      "C:\\Users\\naikh\\AppData\\Local\\Temp\\ipykernel_22900\\606145124.py:6: RuntimeWarning: Channels contain different highpass filters. Highest filter setting will be stored.\n",
      "  raw = mne.io.read_raw_edf(file_path, preload=True)\n",
      "C:\\Users\\naikh\\AppData\\Local\\Temp\\ipykernel_22900\\606145124.py:6: RuntimeWarning: Channels contain different lowpass filters. Lowest filter setting will be stored.\n",
      "  raw = mne.io.read_raw_edf(file_path, preload=True)\n",
      "C:\\Users\\naikh\\anaconda3\\envs\\TensorFlowEnv\\Lib\\site-packages\\pyedflib\\edfwriter.py:140: UserWarning: Physical maximum for channel 0 (HB_1) is 0.0014552986953536276, which has 21 chars, however, EDF+ can only save 8 chars, will be truncated to 0.001455, some loss of precision is to be expected.\n",
      "  warnings.warn('Physical maximum for channel {} ({}) is {}, which has {} chars, '\n"
     ]
    },
    {
     "name": "stdout",
     "output_type": "stream",
     "text": [
      "Extracting EDF parameters from C:\\Users\\naikh\\SleepResearchCode_experient\\Dataset_clean_for_jupyter\\sub-67\\eeg\\sub-67_task-Sleep_acq-headband_eeg.edf...\n",
      "EDF file detected\n",
      "Setting channel info structure...\n",
      "Creating raw.info structure...\n",
      "Reading 0 ... 7100671  =      0.000 ... 27736.996 secs...\n"
     ]
    },
    {
     "name": "stderr",
     "output_type": "stream",
     "text": [
      "C:\\Users\\naikh\\AppData\\Local\\Temp\\ipykernel_22900\\606145124.py:6: RuntimeWarning: Channels contain different highpass filters. Highest filter setting will be stored.\n",
      "  raw = mne.io.read_raw_edf(file_path, preload=True)\n",
      "C:\\Users\\naikh\\AppData\\Local\\Temp\\ipykernel_22900\\606145124.py:6: RuntimeWarning: Channels contain different lowpass filters. Lowest filter setting will be stored.\n",
      "  raw = mne.io.read_raw_edf(file_path, preload=True)\n"
     ]
    },
    {
     "name": "stdout",
     "output_type": "stream",
     "text": [
      "Extracting EDF parameters from C:\\Users\\naikh\\SleepResearchCode_experient\\Dataset_clean_for_jupyter\\sub-68\\eeg\\sub-68_task-Sleep_acq-headband_eeg.edf...\n",
      "EDF file detected\n",
      "Setting channel info structure...\n",
      "Creating raw.info structure...\n",
      "Reading 0 ... 6687231  =      0.000 ... 26121.996 secs...\n"
     ]
    },
    {
     "name": "stderr",
     "output_type": "stream",
     "text": [
      "C:\\Users\\naikh\\AppData\\Local\\Temp\\ipykernel_22900\\606145124.py:6: RuntimeWarning: Channels contain different highpass filters. Highest filter setting will be stored.\n",
      "  raw = mne.io.read_raw_edf(file_path, preload=True)\n",
      "C:\\Users\\naikh\\AppData\\Local\\Temp\\ipykernel_22900\\606145124.py:6: RuntimeWarning: Channels contain different lowpass filters. Lowest filter setting will be stored.\n",
      "  raw = mne.io.read_raw_edf(file_path, preload=True)\n",
      "C:\\Users\\naikh\\anaconda3\\envs\\TensorFlowEnv\\Lib\\site-packages\\pyedflib\\edfwriter.py:133: UserWarning: Physical minimum for channel 1 (HB_2) is -0.0017880754940108338, which has 22 chars, however, EDF+ can only save 8 chars, will be truncated to -0.00178, some loss of precision is to be expected\n",
      "  warnings.warn('Physical minimum for channel {} ({}) is {}, which has {} chars, '\n",
      "C:\\Users\\naikh\\anaconda3\\envs\\TensorFlowEnv\\Lib\\site-packages\\pyedflib\\edfwriter.py:140: UserWarning: Physical maximum for channel 1 (HB_2) is 0.0005906806149385826, which has 21 chars, however, EDF+ can only save 8 chars, will be truncated to 0.000590, some loss of precision is to be expected.\n",
      "  warnings.warn('Physical maximum for channel {} ({}) is {}, which has {} chars, '\n"
     ]
    },
    {
     "name": "stdout",
     "output_type": "stream",
     "text": [
      "Extracting EDF parameters from C:\\Users\\naikh\\SleepResearchCode_experient\\Dataset_clean_for_jupyter\\sub-69\\eeg\\sub-69_task-Sleep_acq-headband_eeg.edf...\n",
      "EDF file detected\n",
      "Setting channel info structure...\n",
      "Creating raw.info structure...\n",
      "Reading 0 ... 7709695  =      0.000 ... 30115.996 secs...\n"
     ]
    },
    {
     "name": "stderr",
     "output_type": "stream",
     "text": [
      "C:\\Users\\naikh\\AppData\\Local\\Temp\\ipykernel_22900\\606145124.py:6: RuntimeWarning: Channels contain different highpass filters. Highest filter setting will be stored.\n",
      "  raw = mne.io.read_raw_edf(file_path, preload=True)\n",
      "C:\\Users\\naikh\\AppData\\Local\\Temp\\ipykernel_22900\\606145124.py:6: RuntimeWarning: Channels contain different lowpass filters. Lowest filter setting will be stored.\n",
      "  raw = mne.io.read_raw_edf(file_path, preload=True)\n",
      "C:\\Users\\naikh\\anaconda3\\envs\\TensorFlowEnv\\Lib\\site-packages\\pyedflib\\edfwriter.py:133: UserWarning: Physical minimum for channel 1 (HB_2) is -0.002909615629922942, which has 21 chars, however, EDF+ can only save 8 chars, will be truncated to -0.00290, some loss of precision is to be expected\n",
      "  warnings.warn('Physical minimum for channel {} ({}) is {}, which has {} chars, '\n",
      "C:\\Users\\naikh\\anaconda3\\envs\\TensorFlowEnv\\Lib\\site-packages\\pyedflib\\edfwriter.py:140: UserWarning: Physical maximum for channel 1 (HB_2) is 0.0011722604194857708, which has 21 chars, however, EDF+ can only save 8 chars, will be truncated to 0.001172, some loss of precision is to be expected.\n",
      "  warnings.warn('Physical maximum for channel {} ({}) is {}, which has {} chars, '\n"
     ]
    },
    {
     "name": "stdout",
     "output_type": "stream",
     "text": [
      "Extracting EDF parameters from C:\\Users\\naikh\\SleepResearchCode_experient\\Dataset_clean_for_jupyter\\sub-70\\eeg\\sub-70_task-Sleep_acq-headband_eeg.edf...\n",
      "EDF file detected\n",
      "Setting channel info structure...\n",
      "Creating raw.info structure...\n",
      "Reading 0 ... 6833151  =      0.000 ... 26691.996 secs...\n"
     ]
    },
    {
     "name": "stderr",
     "output_type": "stream",
     "text": [
      "C:\\Users\\naikh\\AppData\\Local\\Temp\\ipykernel_22900\\606145124.py:6: RuntimeWarning: Channels contain different highpass filters. Highest filter setting will be stored.\n",
      "  raw = mne.io.read_raw_edf(file_path, preload=True)\n",
      "C:\\Users\\naikh\\AppData\\Local\\Temp\\ipykernel_22900\\606145124.py:6: RuntimeWarning: Channels contain different lowpass filters. Lowest filter setting will be stored.\n",
      "  raw = mne.io.read_raw_edf(file_path, preload=True)\n",
      "C:\\Users\\naikh\\anaconda3\\envs\\TensorFlowEnv\\Lib\\site-packages\\pyedflib\\edfwriter.py:133: UserWarning: Physical minimum for channel 0 (HB_1) is -0.0013844264840161746, which has 22 chars, however, EDF+ can only save 8 chars, will be truncated to -0.00138, some loss of precision is to be expected\n",
      "  warnings.warn('Physical minimum for channel {} ({}) is {}, which has {} chars, '\n",
      "C:\\Users\\naikh\\anaconda3\\envs\\TensorFlowEnv\\Lib\\site-packages\\pyedflib\\edfwriter.py:140: UserWarning: Physical maximum for channel 0 (HB_1) is 0.0030000000000000005, which has 21 chars, however, EDF+ can only save 8 chars, will be truncated to 0.003000, some loss of precision is to be expected.\n",
      "  warnings.warn('Physical maximum for channel {} ({}) is {}, which has {} chars, '\n",
      "C:\\Users\\naikh\\anaconda3\\envs\\TensorFlowEnv\\Lib\\site-packages\\pyedflib\\edfwriter.py:133: UserWarning: Physical minimum for channel 1 (HB_2) is -0.002226402435339895, which has 21 chars, however, EDF+ can only save 8 chars, will be truncated to -0.00222, some loss of precision is to be expected\n",
      "  warnings.warn('Physical minimum for channel {} ({}) is {}, which has {} chars, '\n"
     ]
    },
    {
     "name": "stdout",
     "output_type": "stream",
     "text": [
      "Extracting EDF parameters from C:\\Users\\naikh\\SleepResearchCode_experient\\Dataset_clean_for_jupyter\\sub-71\\eeg\\sub-71_task-Sleep_acq-headband_eeg.edf...\n",
      "EDF file detected\n",
      "Setting channel info structure...\n",
      "Creating raw.info structure...\n",
      "Reading 0 ... 8556799  =      0.000 ... 33424.996 secs...\n"
     ]
    },
    {
     "name": "stderr",
     "output_type": "stream",
     "text": [
      "C:\\Users\\naikh\\AppData\\Local\\Temp\\ipykernel_22900\\606145124.py:6: RuntimeWarning: Channels contain different highpass filters. Highest filter setting will be stored.\n",
      "  raw = mne.io.read_raw_edf(file_path, preload=True)\n",
      "C:\\Users\\naikh\\AppData\\Local\\Temp\\ipykernel_22900\\606145124.py:6: RuntimeWarning: Channels contain different lowpass filters. Lowest filter setting will be stored.\n",
      "  raw = mne.io.read_raw_edf(file_path, preload=True)\n",
      "C:\\Users\\naikh\\anaconda3\\envs\\TensorFlowEnv\\Lib\\site-packages\\pyedflib\\edfwriter.py:133: UserWarning: Physical minimum for channel 0 (HB_1) is -0.0029999318212710763, which has 22 chars, however, EDF+ can only save 8 chars, will be truncated to -0.00299, some loss of precision is to be expected\n",
      "  warnings.warn('Physical minimum for channel {} ({}) is {}, which has {} chars, '\n",
      "C:\\Users\\naikh\\anaconda3\\envs\\TensorFlowEnv\\Lib\\site-packages\\pyedflib\\edfwriter.py:140: UserWarning: Physical maximum for channel 0 (HB_1) is 0.0003273265076523992, which has 21 chars, however, EDF+ can only save 8 chars, will be truncated to 0.000327, some loss of precision is to be expected.\n",
      "  warnings.warn('Physical maximum for channel {} ({}) is {}, which has {} chars, '\n",
      "C:\\Users\\naikh\\anaconda3\\envs\\TensorFlowEnv\\Lib\\site-packages\\pyedflib\\edfwriter.py:133: UserWarning: Physical minimum for channel 1 (HB_2) is -0.002999908842633707, which has 21 chars, however, EDF+ can only save 8 chars, will be truncated to -0.00299, some loss of precision is to be expected\n",
      "  warnings.warn('Physical minimum for channel {} ({}) is {}, which has {} chars, '\n",
      "C:\\Users\\naikh\\anaconda3\\envs\\TensorFlowEnv\\Lib\\site-packages\\pyedflib\\edfwriter.py:140: UserWarning: Physical maximum for channel 1 (HB_2) is 0.0006371789150835428, which has 21 chars, however, EDF+ can only save 8 chars, will be truncated to 0.000637, some loss of precision is to be expected.\n",
      "  warnings.warn('Physical maximum for channel {} ({}) is {}, which has {} chars, '\n"
     ]
    },
    {
     "name": "stdout",
     "output_type": "stream",
     "text": [
      "Extracting EDF parameters from C:\\Users\\naikh\\SleepResearchCode_experient\\Dataset_clean_for_jupyter\\sub-72\\eeg\\sub-72_task-Sleep_acq-headband_eeg.edf...\n",
      "EDF file detected\n",
      "Setting channel info structure...\n",
      "Creating raw.info structure...\n",
      "Reading 0 ... 7420159  =      0.000 ... 28984.996 secs...\n"
     ]
    },
    {
     "name": "stderr",
     "output_type": "stream",
     "text": [
      "C:\\Users\\naikh\\AppData\\Local\\Temp\\ipykernel_22900\\606145124.py:6: RuntimeWarning: Channels contain different highpass filters. Highest filter setting will be stored.\n",
      "  raw = mne.io.read_raw_edf(file_path, preload=True)\n",
      "C:\\Users\\naikh\\AppData\\Local\\Temp\\ipykernel_22900\\606145124.py:6: RuntimeWarning: Channels contain different lowpass filters. Lowest filter setting will be stored.\n",
      "  raw = mne.io.read_raw_edf(file_path, preload=True)\n",
      "C:\\Users\\naikh\\anaconda3\\envs\\TensorFlowEnv\\Lib\\site-packages\\pyedflib\\edfwriter.py:140: UserWarning: Physical maximum for channel 0 (HB_1) is 0.00227708857862211, which has 19 chars, however, EDF+ can only save 8 chars, will be truncated to 0.002277, some loss of precision is to be expected.\n",
      "  warnings.warn('Physical maximum for channel {} ({}) is {}, which has {} chars, '\n"
     ]
    },
    {
     "name": "stdout",
     "output_type": "stream",
     "text": [
      "Extracting EDF parameters from C:\\Users\\naikh\\SleepResearchCode_experient\\Dataset_clean_for_jupyter\\sub-73\\eeg\\sub-73_task-Sleep_acq-headband_eeg.edf...\n",
      "EDF file detected\n",
      "Setting channel info structure...\n",
      "Creating raw.info structure...\n",
      "Reading 0 ... 6644735  =      0.000 ... 25955.996 secs...\n"
     ]
    },
    {
     "name": "stderr",
     "output_type": "stream",
     "text": [
      "C:\\Users\\naikh\\AppData\\Local\\Temp\\ipykernel_22900\\606145124.py:6: RuntimeWarning: Channels contain different highpass filters. Highest filter setting will be stored.\n",
      "  raw = mne.io.read_raw_edf(file_path, preload=True)\n",
      "C:\\Users\\naikh\\AppData\\Local\\Temp\\ipykernel_22900\\606145124.py:6: RuntimeWarning: Channels contain different lowpass filters. Lowest filter setting will be stored.\n",
      "  raw = mne.io.read_raw_edf(file_path, preload=True)\n",
      "C:\\Users\\naikh\\anaconda3\\envs\\TensorFlowEnv\\Lib\\site-packages\\pyedflib\\edfwriter.py:133: UserWarning: Physical minimum for channel 0 (HB_1) is -0.00170096265506981, which has 20 chars, however, EDF+ can only save 8 chars, will be truncated to -0.00170, some loss of precision is to be expected\n",
      "  warnings.warn('Physical minimum for channel {} ({}) is {}, which has {} chars, '\n",
      "C:\\Users\\naikh\\anaconda3\\envs\\TensorFlowEnv\\Lib\\site-packages\\pyedflib\\edfwriter.py:133: UserWarning: Physical minimum for channel 1 (HB_2) is -0.0015705912352788585, which has 22 chars, however, EDF+ can only save 8 chars, will be truncated to -0.00157, some loss of precision is to be expected\n",
      "  warnings.warn('Physical minimum for channel {} ({}) is {}, which has {} chars, '\n",
      "C:\\Users\\naikh\\anaconda3\\envs\\TensorFlowEnv\\Lib\\site-packages\\pyedflib\\edfwriter.py:140: UserWarning: Physical maximum for channel 1 (HB_2) is 0.002013001, which has 11 chars, however, EDF+ can only save 8 chars, will be truncated to 0.002013, some loss of precision is to be expected.\n",
      "  warnings.warn('Physical maximum for channel {} ({}) is {}, which has {} chars, '\n"
     ]
    },
    {
     "name": "stdout",
     "output_type": "stream",
     "text": [
      "Extracting EDF parameters from C:\\Users\\naikh\\SleepResearchCode_experient\\Dataset_clean_for_jupyter\\sub-74\\eeg\\sub-74_task-Sleep_acq-headband_eeg.edf...\n",
      "EDF file detected\n",
      "Setting channel info structure...\n",
      "Creating raw.info structure...\n",
      "Reading 0 ... 7443199  =      0.000 ... 29074.996 secs...\n"
     ]
    },
    {
     "name": "stderr",
     "output_type": "stream",
     "text": [
      "C:\\Users\\naikh\\AppData\\Local\\Temp\\ipykernel_22900\\606145124.py:6: RuntimeWarning: Channels contain different highpass filters. Highest filter setting will be stored.\n",
      "  raw = mne.io.read_raw_edf(file_path, preload=True)\n",
      "C:\\Users\\naikh\\AppData\\Local\\Temp\\ipykernel_22900\\606145124.py:6: RuntimeWarning: Channels contain different lowpass filters. Lowest filter setting will be stored.\n",
      "  raw = mne.io.read_raw_edf(file_path, preload=True)\n",
      "C:\\Users\\naikh\\anaconda3\\envs\\TensorFlowEnv\\Lib\\site-packages\\pyedflib\\edfwriter.py:133: UserWarning: Physical minimum for channel 0 (HB_1) is -0.0006969791958495459, which has 22 chars, however, EDF+ can only save 8 chars, will be truncated to -0.00069, some loss of precision is to be expected\n",
      "  warnings.warn('Physical minimum for channel {} ({}) is {}, which has {} chars, '\n",
      "C:\\Users\\naikh\\anaconda3\\envs\\TensorFlowEnv\\Lib\\site-packages\\pyedflib\\edfwriter.py:133: UserWarning: Physical minimum for channel 1 (HB_2) is -0.00031526901925841156, which has 23 chars, however, EDF+ can only save 8 chars, will be truncated to -0.00031, some loss of precision is to be expected\n",
      "  warnings.warn('Physical minimum for channel {} ({}) is {}, which has {} chars, '\n",
      "C:\\Users\\naikh\\anaconda3\\envs\\TensorFlowEnv\\Lib\\site-packages\\pyedflib\\edfwriter.py:140: UserWarning: Physical maximum for channel 1 (HB_2) is 0.0009954628999999998, which has 21 chars, however, EDF+ can only save 8 chars, will be truncated to 0.000995, some loss of precision is to be expected.\n",
      "  warnings.warn('Physical maximum for channel {} ({}) is {}, which has {} chars, '\n"
     ]
    },
    {
     "name": "stdout",
     "output_type": "stream",
     "text": [
      "Extracting EDF parameters from C:\\Users\\naikh\\SleepResearchCode_experient\\Dataset_clean_for_jupyter\\sub-75\\eeg\\sub-75_task-Sleep_acq-headband_eeg.edf...\n",
      "EDF file detected\n",
      "Setting channel info structure...\n",
      "Creating raw.info structure...\n",
      "Reading 0 ... 6633983  =      0.000 ... 25913.996 secs...\n"
     ]
    },
    {
     "name": "stderr",
     "output_type": "stream",
     "text": [
      "C:\\Users\\naikh\\AppData\\Local\\Temp\\ipykernel_22900\\606145124.py:6: RuntimeWarning: Channels contain different highpass filters. Highest filter setting will be stored.\n",
      "  raw = mne.io.read_raw_edf(file_path, preload=True)\n",
      "C:\\Users\\naikh\\AppData\\Local\\Temp\\ipykernel_22900\\606145124.py:6: RuntimeWarning: Channels contain different lowpass filters. Lowest filter setting will be stored.\n",
      "  raw = mne.io.read_raw_edf(file_path, preload=True)\n"
     ]
    },
    {
     "name": "stdout",
     "output_type": "stream",
     "text": [
      "Extracting EDF parameters from C:\\Users\\naikh\\SleepResearchCode_experient\\Dataset_clean_for_jupyter\\sub-76\\eeg\\sub-76_task-Sleep_acq-headband_eeg.edf...\n",
      "EDF file detected\n",
      "Setting channel info structure...\n",
      "Creating raw.info structure...\n",
      "Reading 0 ... 8049919  =      0.000 ... 31444.996 secs...\n"
     ]
    },
    {
     "name": "stderr",
     "output_type": "stream",
     "text": [
      "C:\\Users\\naikh\\AppData\\Local\\Temp\\ipykernel_22900\\606145124.py:6: RuntimeWarning: Channels contain different highpass filters. Highest filter setting will be stored.\n",
      "  raw = mne.io.read_raw_edf(file_path, preload=True)\n",
      "C:\\Users\\naikh\\AppData\\Local\\Temp\\ipykernel_22900\\606145124.py:6: RuntimeWarning: Channels contain different lowpass filters. Lowest filter setting will be stored.\n",
      "  raw = mne.io.read_raw_edf(file_path, preload=True)\n",
      "C:\\Users\\naikh\\anaconda3\\envs\\TensorFlowEnv\\Lib\\site-packages\\pyedflib\\edfwriter.py:140: UserWarning: Physical maximum for channel 1 (HB_2) is 0.0006390020599679558, which has 21 chars, however, EDF+ can only save 8 chars, will be truncated to 0.000639, some loss of precision is to be expected.\n",
      "  warnings.warn('Physical maximum for channel {} ({}) is {}, which has {} chars, '\n"
     ]
    },
    {
     "name": "stdout",
     "output_type": "stream",
     "text": [
      "Extracting EDF parameters from C:\\Users\\naikh\\SleepResearchCode_experient\\Dataset_clean_for_jupyter\\sub-77\\eeg\\sub-77_task-Sleep_acq-headband_eeg.edf...\n",
      "EDF file detected\n",
      "Setting channel info structure...\n",
      "Creating raw.info structure...\n",
      "Reading 0 ... 8281855  =      0.000 ... 32350.996 secs...\n"
     ]
    },
    {
     "name": "stderr",
     "output_type": "stream",
     "text": [
      "C:\\Users\\naikh\\AppData\\Local\\Temp\\ipykernel_22900\\606145124.py:6: RuntimeWarning: Channels contain different highpass filters. Highest filter setting will be stored.\n",
      "  raw = mne.io.read_raw_edf(file_path, preload=True)\n",
      "C:\\Users\\naikh\\AppData\\Local\\Temp\\ipykernel_22900\\606145124.py:6: RuntimeWarning: Channels contain different lowpass filters. Lowest filter setting will be stored.\n",
      "  raw = mne.io.read_raw_edf(file_path, preload=True)\n"
     ]
    },
    {
     "name": "stdout",
     "output_type": "stream",
     "text": [
      "Extracting EDF parameters from C:\\Users\\naikh\\SleepResearchCode_experient\\Dataset_clean_for_jupyter\\sub-78\\eeg\\sub-78_task-Sleep_acq-headband_eeg.edf...\n",
      "EDF file detected\n",
      "Setting channel info structure...\n",
      "Creating raw.info structure...\n",
      "Reading 0 ... 6765311  =      0.000 ... 26426.996 secs...\n"
     ]
    },
    {
     "name": "stderr",
     "output_type": "stream",
     "text": [
      "C:\\Users\\naikh\\AppData\\Local\\Temp\\ipykernel_22900\\606145124.py:6: RuntimeWarning: Channels contain different highpass filters. Highest filter setting will be stored.\n",
      "  raw = mne.io.read_raw_edf(file_path, preload=True)\n",
      "C:\\Users\\naikh\\AppData\\Local\\Temp\\ipykernel_22900\\606145124.py:6: RuntimeWarning: Channels contain different lowpass filters. Lowest filter setting will be stored.\n",
      "  raw = mne.io.read_raw_edf(file_path, preload=True)\n"
     ]
    },
    {
     "name": "stdout",
     "output_type": "stream",
     "text": [
      "Extracting EDF parameters from C:\\Users\\naikh\\SleepResearchCode_experient\\Dataset_clean_for_jupyter\\sub-79\\eeg\\sub-79_task-Sleep_acq-headband_eeg.edf...\n",
      "EDF file detected\n",
      "Setting channel info structure...\n",
      "Creating raw.info structure...\n",
      "Reading 0 ... 7941631  =      0.000 ... 31021.996 secs...\n"
     ]
    },
    {
     "name": "stderr",
     "output_type": "stream",
     "text": [
      "C:\\Users\\naikh\\AppData\\Local\\Temp\\ipykernel_22900\\606145124.py:6: RuntimeWarning: Physical range is not defined in following channels:\n",
      "HB_PULSE\n",
      "  raw = mne.io.read_raw_edf(file_path, preload=True)\n",
      "C:\\Users\\naikh\\AppData\\Local\\Temp\\ipykernel_22900\\606145124.py:6: RuntimeWarning: Channels contain different highpass filters. Highest filter setting will be stored.\n",
      "  raw = mne.io.read_raw_edf(file_path, preload=True)\n",
      "C:\\Users\\naikh\\AppData\\Local\\Temp\\ipykernel_22900\\606145124.py:6: RuntimeWarning: Channels contain different lowpass filters. Lowest filter setting will be stored.\n",
      "  raw = mne.io.read_raw_edf(file_path, preload=True)\n",
      "C:\\Users\\naikh\\anaconda3\\envs\\TensorFlowEnv\\Lib\\site-packages\\pyedflib\\edfwriter.py:133: UserWarning: Physical minimum for channel 0 (HB_1) is -0.0018334433544060424, which has 22 chars, however, EDF+ can only save 8 chars, will be truncated to -0.00183, some loss of precision is to be expected\n",
      "  warnings.warn('Physical minimum for channel {} ({}) is {}, which has {} chars, '\n",
      "C:\\Users\\naikh\\anaconda3\\envs\\TensorFlowEnv\\Lib\\site-packages\\pyedflib\\edfwriter.py:140: UserWarning: Physical maximum for channel 0 (HB_1) is 0.0028987669999999996, which has 21 chars, however, EDF+ can only save 8 chars, will be truncated to 0.002898, some loss of precision is to be expected.\n",
      "  warnings.warn('Physical maximum for channel {} ({}) is {}, which has {} chars, '\n",
      "C:\\Users\\naikh\\anaconda3\\envs\\TensorFlowEnv\\Lib\\site-packages\\pyedflib\\edfwriter.py:133: UserWarning: Physical minimum for channel 1 (HB_2) is -0.0022314656034485387, which has 22 chars, however, EDF+ can only save 8 chars, will be truncated to -0.00223, some loss of precision is to be expected\n",
      "  warnings.warn('Physical minimum for channel {} ({}) is {}, which has {} chars, '\n",
      "C:\\Users\\naikh\\anaconda3\\envs\\TensorFlowEnv\\Lib\\site-packages\\pyedflib\\edfwriter.py:140: UserWarning: Physical maximum for channel 1 (HB_2) is 0.0024407979999999992, which has 21 chars, however, EDF+ can only save 8 chars, will be truncated to 0.002440, some loss of precision is to be expected.\n",
      "  warnings.warn('Physical maximum for channel {} ({}) is {}, which has {} chars, '\n"
     ]
    },
    {
     "name": "stdout",
     "output_type": "stream",
     "text": [
      "Extracting EDF parameters from C:\\Users\\naikh\\SleepResearchCode_experient\\Dataset_clean_for_jupyter\\sub-80\\eeg\\sub-80_task-Sleep_acq-headband_eeg.edf...\n",
      "EDF file detected\n",
      "Setting channel info structure...\n",
      "Creating raw.info structure...\n",
      "Reading 0 ... 6304255  =      0.000 ... 24625.996 secs...\n"
     ]
    },
    {
     "name": "stderr",
     "output_type": "stream",
     "text": [
      "C:\\Users\\naikh\\AppData\\Local\\Temp\\ipykernel_22900\\606145124.py:6: RuntimeWarning: Channels contain different highpass filters. Highest filter setting will be stored.\n",
      "  raw = mne.io.read_raw_edf(file_path, preload=True)\n",
      "C:\\Users\\naikh\\AppData\\Local\\Temp\\ipykernel_22900\\606145124.py:6: RuntimeWarning: Channels contain different lowpass filters. Lowest filter setting will be stored.\n",
      "  raw = mne.io.read_raw_edf(file_path, preload=True)\n",
      "C:\\Users\\naikh\\anaconda3\\envs\\TensorFlowEnv\\Lib\\site-packages\\pyedflib\\edfwriter.py:140: UserWarning: Physical maximum for channel 0 (HB_1) is 0.0004024261844815745, which has 21 chars, however, EDF+ can only save 8 chars, will be truncated to 0.000402, some loss of precision is to be expected.\n",
      "  warnings.warn('Physical maximum for channel {} ({}) is {}, which has {} chars, '\n",
      "C:\\Users\\naikh\\anaconda3\\envs\\TensorFlowEnv\\Lib\\site-packages\\pyedflib\\edfwriter.py:140: UserWarning: Physical maximum for channel 1 (HB_2) is 0.000643762874799725, which has 20 chars, however, EDF+ can only save 8 chars, will be truncated to 0.000643, some loss of precision is to be expected.\n",
      "  warnings.warn('Physical maximum for channel {} ({}) is {}, which has {} chars, '\n"
     ]
    },
    {
     "name": "stdout",
     "output_type": "stream",
     "text": [
      "Extracting EDF parameters from C:\\Users\\naikh\\SleepResearchCode_experient\\Dataset_clean_for_jupyter\\sub-81\\eeg\\sub-81_task-Sleep_acq-headband_eeg.edf...\n",
      "EDF file detected\n",
      "Setting channel info structure...\n",
      "Creating raw.info structure...\n",
      "Reading 0 ... 6955775  =      0.000 ... 27170.996 secs...\n"
     ]
    },
    {
     "name": "stderr",
     "output_type": "stream",
     "text": [
      "C:\\Users\\naikh\\AppData\\Local\\Temp\\ipykernel_22900\\606145124.py:6: RuntimeWarning: Channels contain different highpass filters. Highest filter setting will be stored.\n",
      "  raw = mne.io.read_raw_edf(file_path, preload=True)\n",
      "C:\\Users\\naikh\\AppData\\Local\\Temp\\ipykernel_22900\\606145124.py:6: RuntimeWarning: Channels contain different lowpass filters. Lowest filter setting will be stored.\n",
      "  raw = mne.io.read_raw_edf(file_path, preload=True)\n",
      "C:\\Users\\naikh\\anaconda3\\envs\\TensorFlowEnv\\Lib\\site-packages\\pyedflib\\edfwriter.py:133: UserWarning: Physical minimum for channel 0 (HB_1) is -0.0029999127473716333, which has 22 chars, however, EDF+ can only save 8 chars, will be truncated to -0.00299, some loss of precision is to be expected\n",
      "  warnings.warn('Physical minimum for channel {} ({}) is {}, which has {} chars, '\n",
      "C:\\Users\\naikh\\anaconda3\\envs\\TensorFlowEnv\\Lib\\site-packages\\pyedflib\\edfwriter.py:140: UserWarning: Physical maximum for channel 0 (HB_1) is 0.0024494501572594803, which has 21 chars, however, EDF+ can only save 8 chars, will be truncated to 0.002449, some loss of precision is to be expected.\n",
      "  warnings.warn('Physical maximum for channel {} ({}) is {}, which has {} chars, '\n"
     ]
    },
    {
     "name": "stdout",
     "output_type": "stream",
     "text": [
      "Extracting EDF parameters from C:\\Users\\naikh\\SleepResearchCode_experient\\Dataset_clean_for_jupyter\\sub-82\\eeg\\sub-82_task-Sleep_acq-headband_eeg.edf...\n",
      "EDF file detected\n",
      "Setting channel info structure...\n",
      "Creating raw.info structure...\n",
      "Reading 0 ... 6825727  =      0.000 ... 26662.996 secs...\n"
     ]
    },
    {
     "name": "stderr",
     "output_type": "stream",
     "text": [
      "C:\\Users\\naikh\\AppData\\Local\\Temp\\ipykernel_22900\\606145124.py:6: RuntimeWarning: Channels contain different highpass filters. Highest filter setting will be stored.\n",
      "  raw = mne.io.read_raw_edf(file_path, preload=True)\n",
      "C:\\Users\\naikh\\AppData\\Local\\Temp\\ipykernel_22900\\606145124.py:6: RuntimeWarning: Channels contain different lowpass filters. Lowest filter setting will be stored.\n",
      "  raw = mne.io.read_raw_edf(file_path, preload=True)\n",
      "C:\\Users\\naikh\\anaconda3\\envs\\TensorFlowEnv\\Lib\\site-packages\\pyedflib\\edfwriter.py:140: UserWarning: Physical maximum for channel 0 (HB_1) is 0.0026112611581597615, which has 21 chars, however, EDF+ can only save 8 chars, will be truncated to 0.002611, some loss of precision is to be expected.\n",
      "  warnings.warn('Physical maximum for channel {} ({}) is {}, which has {} chars, '\n",
      "C:\\Users\\naikh\\anaconda3\\envs\\TensorFlowEnv\\Lib\\site-packages\\pyedflib\\edfwriter.py:140: UserWarning: Physical maximum for channel 1 (HB_2) is 0.002587731746395056, which has 20 chars, however, EDF+ can only save 8 chars, will be truncated to 0.002587, some loss of precision is to be expected.\n",
      "  warnings.warn('Physical maximum for channel {} ({}) is {}, which has {} chars, '\n"
     ]
    },
    {
     "name": "stdout",
     "output_type": "stream",
     "text": [
      "Extracting EDF parameters from C:\\Users\\naikh\\SleepResearchCode_experient\\Dataset_clean_for_jupyter\\sub-83\\eeg\\sub-83_task-Sleep_acq-headband_eeg.edf...\n",
      "EDF file detected\n",
      "Setting channel info structure...\n",
      "Creating raw.info structure...\n",
      "Reading 0 ... 6998783  =      0.000 ... 27338.996 secs...\n"
     ]
    },
    {
     "name": "stderr",
     "output_type": "stream",
     "text": [
      "C:\\Users\\naikh\\AppData\\Local\\Temp\\ipykernel_22900\\606145124.py:6: RuntimeWarning: Channels contain different highpass filters. Highest filter setting will be stored.\n",
      "  raw = mne.io.read_raw_edf(file_path, preload=True)\n",
      "C:\\Users\\naikh\\AppData\\Local\\Temp\\ipykernel_22900\\606145124.py:6: RuntimeWarning: Channels contain different lowpass filters. Lowest filter setting will be stored.\n",
      "  raw = mne.io.read_raw_edf(file_path, preload=True)\n"
     ]
    },
    {
     "name": "stdout",
     "output_type": "stream",
     "text": [
      "Extracting EDF parameters from C:\\Users\\naikh\\SleepResearchCode_experient\\Dataset_clean_for_jupyter\\sub-84\\eeg\\sub-84_task-Sleep_acq-headband_eeg.edf...\n",
      "EDF file detected\n",
      "Setting channel info structure...\n",
      "Creating raw.info structure...\n",
      "Reading 0 ... 7816447  =      0.000 ... 30532.996 secs...\n"
     ]
    },
    {
     "name": "stderr",
     "output_type": "stream",
     "text": [
      "C:\\Users\\naikh\\AppData\\Local\\Temp\\ipykernel_22900\\606145124.py:6: RuntimeWarning: Channels contain different highpass filters. Highest filter setting will be stored.\n",
      "  raw = mne.io.read_raw_edf(file_path, preload=True)\n",
      "C:\\Users\\naikh\\AppData\\Local\\Temp\\ipykernel_22900\\606145124.py:6: RuntimeWarning: Channels contain different lowpass filters. Lowest filter setting will be stored.\n",
      "  raw = mne.io.read_raw_edf(file_path, preload=True)\n",
      "C:\\Users\\naikh\\anaconda3\\envs\\TensorFlowEnv\\Lib\\site-packages\\pyedflib\\edfwriter.py:133: UserWarning: Physical minimum for channel 0 (HB_1) is -0.0029999309928282593, which has 22 chars, however, EDF+ can only save 8 chars, will be truncated to -0.00299, some loss of precision is to be expected\n",
      "  warnings.warn('Physical minimum for channel {} ({}) is {}, which has {} chars, '\n",
      "C:\\Users\\naikh\\anaconda3\\envs\\TensorFlowEnv\\Lib\\site-packages\\pyedflib\\edfwriter.py:140: UserWarning: Physical maximum for channel 0 (HB_1) is 0.0004086782552834363, which has 21 chars, however, EDF+ can only save 8 chars, will be truncated to 0.000408, some loss of precision is to be expected.\n",
      "  warnings.warn('Physical maximum for channel {} ({}) is {}, which has {} chars, '\n",
      "C:\\Users\\naikh\\anaconda3\\envs\\TensorFlowEnv\\Lib\\site-packages\\pyedflib\\edfwriter.py:133: UserWarning: Physical minimum for channel 1 (HB_2) is -0.00299993646645304, which has 20 chars, however, EDF+ can only save 8 chars, will be truncated to -0.00299, some loss of precision is to be expected\n",
      "  warnings.warn('Physical minimum for channel {} ({}) is {}, which has {} chars, '\n",
      "C:\\Users\\naikh\\anaconda3\\envs\\TensorFlowEnv\\Lib\\site-packages\\pyedflib\\edfwriter.py:140: UserWarning: Physical maximum for channel 1 (HB_2) is -0.000110621351369497, which has 21 chars, however, EDF+ can only save 8 chars, will be truncated to -0.00011, some loss of precision is to be expected.\n",
      "  warnings.warn('Physical maximum for channel {} ({}) is {}, which has {} chars, '\n"
     ]
    },
    {
     "name": "stdout",
     "output_type": "stream",
     "text": [
      "Extracting EDF parameters from C:\\Users\\naikh\\SleepResearchCode_experient\\Dataset_clean_for_jupyter\\sub-85\\eeg\\sub-85_task-Sleep_acq-headband_eeg.edf...\n",
      "EDF file detected\n",
      "Setting channel info structure...\n",
      "Creating raw.info structure...\n",
      "Reading 0 ... 8305663  =      0.000 ... 32443.996 secs...\n"
     ]
    },
    {
     "name": "stderr",
     "output_type": "stream",
     "text": [
      "C:\\Users\\naikh\\AppData\\Local\\Temp\\ipykernel_22900\\606145124.py:6: RuntimeWarning: Channels contain different highpass filters. Highest filter setting will be stored.\n",
      "  raw = mne.io.read_raw_edf(file_path, preload=True)\n",
      "C:\\Users\\naikh\\AppData\\Local\\Temp\\ipykernel_22900\\606145124.py:6: RuntimeWarning: Channels contain different lowpass filters. Lowest filter setting will be stored.\n",
      "  raw = mne.io.read_raw_edf(file_path, preload=True)\n",
      "C:\\Users\\naikh\\anaconda3\\envs\\TensorFlowEnv\\Lib\\site-packages\\pyedflib\\edfwriter.py:140: UserWarning: Physical maximum for channel 0 (HB_1) is 0.002344747081712062, which has 20 chars, however, EDF+ can only save 8 chars, will be truncated to 0.002344, some loss of precision is to be expected.\n",
      "  warnings.warn('Physical maximum for channel {} ({}) is {}, which has {} chars, '\n",
      "C:\\Users\\naikh\\anaconda3\\envs\\TensorFlowEnv\\Lib\\site-packages\\pyedflib\\edfwriter.py:140: UserWarning: Physical maximum for channel 1 (HB_2) is 0.002364705882352941, which has 20 chars, however, EDF+ can only save 8 chars, will be truncated to 0.002364, some loss of precision is to be expected.\n",
      "  warnings.warn('Physical maximum for channel {} ({}) is {}, which has {} chars, '\n"
     ]
    },
    {
     "name": "stdout",
     "output_type": "stream",
     "text": [
      "Extracting EDF parameters from C:\\Users\\naikh\\SleepResearchCode_experient\\Dataset_clean_for_jupyter\\sub-86\\eeg\\sub-86_task-Sleep_acq-headband_eeg.edf...\n",
      "EDF file detected\n",
      "Setting channel info structure...\n",
      "Creating raw.info structure...\n",
      "Reading 0 ... 7254271  =      0.000 ... 28336.996 secs...\n"
     ]
    },
    {
     "name": "stderr",
     "output_type": "stream",
     "text": [
      "C:\\Users\\naikh\\AppData\\Local\\Temp\\ipykernel_22900\\606145124.py:6: RuntimeWarning: Channels contain different highpass filters. Highest filter setting will be stored.\n",
      "  raw = mne.io.read_raw_edf(file_path, preload=True)\n",
      "C:\\Users\\naikh\\AppData\\Local\\Temp\\ipykernel_22900\\606145124.py:6: RuntimeWarning: Channels contain different lowpass filters. Lowest filter setting will be stored.\n",
      "  raw = mne.io.read_raw_edf(file_path, preload=True)\n",
      "C:\\Users\\naikh\\anaconda3\\envs\\TensorFlowEnv\\Lib\\site-packages\\pyedflib\\edfwriter.py:133: UserWarning: Physical minimum for channel 0 (HB_1) is -0.0006910964115358205, which has 22 chars, however, EDF+ can only save 8 chars, will be truncated to -0.00069, some loss of precision is to be expected\n",
      "  warnings.warn('Physical minimum for channel {} ({}) is {}, which has {} chars, '\n",
      "C:\\Users\\naikh\\anaconda3\\envs\\TensorFlowEnv\\Lib\\site-packages\\pyedflib\\edfwriter.py:140: UserWarning: Physical maximum for channel 0 (HB_1) is 0.0016931259999999997, which has 21 chars, however, EDF+ can only save 8 chars, will be truncated to 0.001693, some loss of precision is to be expected.\n",
      "  warnings.warn('Physical maximum for channel {} ({}) is {}, which has {} chars, '\n",
      "C:\\Users\\naikh\\anaconda3\\envs\\TensorFlowEnv\\Lib\\site-packages\\pyedflib\\edfwriter.py:133: UserWarning: Physical minimum for channel 1 (HB_2) is -0.0006580114866102083, which has 22 chars, however, EDF+ can only save 8 chars, will be truncated to -0.00065, some loss of precision is to be expected\n",
      "  warnings.warn('Physical minimum for channel {} ({}) is {}, which has {} chars, '\n",
      "C:\\Users\\naikh\\anaconda3\\envs\\TensorFlowEnv\\Lib\\site-packages\\pyedflib\\edfwriter.py:140: UserWarning: Physical maximum for channel 1 (HB_2) is 0.0017149090000000004, which has 21 chars, however, EDF+ can only save 8 chars, will be truncated to 0.001714, some loss of precision is to be expected.\n",
      "  warnings.warn('Physical maximum for channel {} ({}) is {}, which has {} chars, '\n"
     ]
    },
    {
     "name": "stdout",
     "output_type": "stream",
     "text": [
      "Extracting EDF parameters from C:\\Users\\naikh\\SleepResearchCode_experient\\Dataset_clean_for_jupyter\\sub-87\\eeg\\sub-87_task-Sleep_acq-headband_eeg.edf...\n",
      "EDF file detected\n",
      "Setting channel info structure...\n",
      "Creating raw.info structure...\n",
      "Reading 0 ... 7357183  =      0.000 ... 28738.996 secs...\n"
     ]
    },
    {
     "name": "stderr",
     "output_type": "stream",
     "text": [
      "C:\\Users\\naikh\\AppData\\Local\\Temp\\ipykernel_22900\\606145124.py:6: RuntimeWarning: Channels contain different highpass filters. Highest filter setting will be stored.\n",
      "  raw = mne.io.read_raw_edf(file_path, preload=True)\n",
      "C:\\Users\\naikh\\AppData\\Local\\Temp\\ipykernel_22900\\606145124.py:6: RuntimeWarning: Channels contain different lowpass filters. Lowest filter setting will be stored.\n",
      "  raw = mne.io.read_raw_edf(file_path, preload=True)\n"
     ]
    },
    {
     "name": "stdout",
     "output_type": "stream",
     "text": [
      "Extracting EDF parameters from C:\\Users\\naikh\\SleepResearchCode_experient\\Dataset_clean_for_jupyter\\sub-88\\eeg\\sub-88_task-Sleep_acq-headband_eeg.edf...\n",
      "EDF file detected\n",
      "Setting channel info structure...\n",
      "Creating raw.info structure...\n",
      "Reading 0 ... 6890239  =      0.000 ... 26914.996 secs...\n"
     ]
    },
    {
     "name": "stderr",
     "output_type": "stream",
     "text": [
      "C:\\Users\\naikh\\AppData\\Local\\Temp\\ipykernel_22900\\606145124.py:6: RuntimeWarning: Channels contain different highpass filters. Highest filter setting will be stored.\n",
      "  raw = mne.io.read_raw_edf(file_path, preload=True)\n",
      "C:\\Users\\naikh\\AppData\\Local\\Temp\\ipykernel_22900\\606145124.py:6: RuntimeWarning: Channels contain different lowpass filters. Lowest filter setting will be stored.\n",
      "  raw = mne.io.read_raw_edf(file_path, preload=True)\n"
     ]
    },
    {
     "name": "stdout",
     "output_type": "stream",
     "text": [
      "Extracting EDF parameters from C:\\Users\\naikh\\SleepResearchCode_experient\\Dataset_clean_for_jupyter\\sub-89\\eeg\\sub-89_task-Sleep_acq-headband_eeg.edf...\n",
      "EDF file detected\n",
      "Setting channel info structure...\n",
      "Creating raw.info structure...\n",
      "Reading 0 ... 7485695  =      0.000 ... 29240.996 secs...\n"
     ]
    },
    {
     "name": "stderr",
     "output_type": "stream",
     "text": [
      "C:\\Users\\naikh\\AppData\\Local\\Temp\\ipykernel_22900\\606145124.py:6: RuntimeWarning: Channels contain different highpass filters. Highest filter setting will be stored.\n",
      "  raw = mne.io.read_raw_edf(file_path, preload=True)\n",
      "C:\\Users\\naikh\\AppData\\Local\\Temp\\ipykernel_22900\\606145124.py:6: RuntimeWarning: Channels contain different lowpass filters. Lowest filter setting will be stored.\n",
      "  raw = mne.io.read_raw_edf(file_path, preload=True)\n"
     ]
    },
    {
     "name": "stdout",
     "output_type": "stream",
     "text": [
      "Extracting EDF parameters from C:\\Users\\naikh\\SleepResearchCode_experient\\Dataset_clean_for_jupyter\\sub-90\\eeg\\sub-90_task-Sleep_acq-headband_eeg.edf...\n",
      "EDF file detected\n",
      "Setting channel info structure...\n",
      "Creating raw.info structure...\n",
      "Reading 0 ... 7987967  =      0.000 ... 31202.996 secs...\n"
     ]
    },
    {
     "name": "stderr",
     "output_type": "stream",
     "text": [
      "C:\\Users\\naikh\\AppData\\Local\\Temp\\ipykernel_22900\\606145124.py:6: RuntimeWarning: Channels contain different highpass filters. Highest filter setting will be stored.\n",
      "  raw = mne.io.read_raw_edf(file_path, preload=True)\n",
      "C:\\Users\\naikh\\AppData\\Local\\Temp\\ipykernel_22900\\606145124.py:6: RuntimeWarning: Channels contain different lowpass filters. Lowest filter setting will be stored.\n",
      "  raw = mne.io.read_raw_edf(file_path, preload=True)\n",
      "C:\\Users\\naikh\\anaconda3\\envs\\TensorFlowEnv\\Lib\\site-packages\\pyedflib\\edfwriter.py:133: UserWarning: Physical minimum for channel 0 (HB_1) is -0.0029999148750896464, which has 22 chars, however, EDF+ can only save 8 chars, will be truncated to -0.00299, some loss of precision is to be expected\n",
      "  warnings.warn('Physical minimum for channel {} ({}) is {}, which has {} chars, '\n",
      "C:\\Users\\naikh\\anaconda3\\envs\\TensorFlowEnv\\Lib\\site-packages\\pyedflib\\edfwriter.py:140: UserWarning: Physical maximum for channel 0 (HB_1) is 0.0021869161625543607, which has 21 chars, however, EDF+ can only save 8 chars, will be truncated to 0.002186, some loss of precision is to be expected.\n",
      "  warnings.warn('Physical maximum for channel {} ({}) is {}, which has {} chars, '\n",
      "C:\\Users\\naikh\\anaconda3\\envs\\TensorFlowEnv\\Lib\\site-packages\\pyedflib\\edfwriter.py:133: UserWarning: Physical minimum for channel 1 (HB_2) is -0.002999913021194781, which has 21 chars, however, EDF+ can only save 8 chars, will be truncated to -0.00299, some loss of precision is to be expected\n",
      "  warnings.warn('Physical minimum for channel {} ({}) is {}, which has {} chars, '\n",
      "C:\\Users\\naikh\\anaconda3\\envs\\TensorFlowEnv\\Lib\\site-packages\\pyedflib\\edfwriter.py:140: UserWarning: Physical maximum for channel 1 (HB_2) is 0.0024153004129091327, which has 21 chars, however, EDF+ can only save 8 chars, will be truncated to 0.002415, some loss of precision is to be expected.\n",
      "  warnings.warn('Physical maximum for channel {} ({}) is {}, which has {} chars, '\n"
     ]
    },
    {
     "name": "stdout",
     "output_type": "stream",
     "text": [
      "Extracting EDF parameters from C:\\Users\\naikh\\SleepResearchCode_experient\\Dataset_clean_for_jupyter\\sub-91\\eeg\\sub-91_task-Sleep_acq-headband_eeg.edf...\n",
      "EDF file detected\n",
      "Setting channel info structure...\n",
      "Creating raw.info structure...\n",
      "Reading 0 ... 7847423  =      0.000 ... 30653.996 secs...\n"
     ]
    },
    {
     "name": "stderr",
     "output_type": "stream",
     "text": [
      "C:\\Users\\naikh\\AppData\\Local\\Temp\\ipykernel_22900\\606145124.py:6: RuntimeWarning: Channels contain different highpass filters. Highest filter setting will be stored.\n",
      "  raw = mne.io.read_raw_edf(file_path, preload=True)\n",
      "C:\\Users\\naikh\\AppData\\Local\\Temp\\ipykernel_22900\\606145124.py:6: RuntimeWarning: Channels contain different lowpass filters. Lowest filter setting will be stored.\n",
      "  raw = mne.io.read_raw_edf(file_path, preload=True)\n",
      "C:\\Users\\naikh\\anaconda3\\envs\\TensorFlowEnv\\Lib\\site-packages\\pyedflib\\edfwriter.py:133: UserWarning: Physical minimum for channel 0 (HB_1) is -0.0018075628207827876, which has 22 chars, however, EDF+ can only save 8 chars, will be truncated to -0.00180, some loss of precision is to be expected\n",
      "  warnings.warn('Physical minimum for channel {} ({}) is {}, which has {} chars, '\n",
      "C:\\Users\\naikh\\anaconda3\\envs\\TensorFlowEnv\\Lib\\site-packages\\pyedflib\\edfwriter.py:133: UserWarning: Physical minimum for channel 1 (HB_2) is -0.0014274796144655526, which has 22 chars, however, EDF+ can only save 8 chars, will be truncated to -0.00142, some loss of precision is to be expected\n",
      "  warnings.warn('Physical minimum for channel {} ({}) is {}, which has {} chars, '\n",
      "C:\\Users\\naikh\\anaconda3\\envs\\TensorFlowEnv\\Lib\\site-packages\\pyedflib\\edfwriter.py:140: UserWarning: Physical maximum for channel 1 (HB_2) is 0.001025981988738842, which has 20 chars, however, EDF+ can only save 8 chars, will be truncated to 0.001025, some loss of precision is to be expected.\n",
      "  warnings.warn('Physical maximum for channel {} ({}) is {}, which has {} chars, '\n"
     ]
    },
    {
     "name": "stdout",
     "output_type": "stream",
     "text": [
      "Extracting EDF parameters from C:\\Users\\naikh\\SleepResearchCode_experient\\Dataset_clean_for_jupyter\\sub-92\\eeg\\sub-92_task-Sleep_acq-headband_eeg.edf...\n",
      "EDF file detected\n",
      "Setting channel info structure...\n",
      "Creating raw.info structure...\n",
      "Reading 0 ... 7592959  =      0.000 ... 29659.996 secs...\n"
     ]
    },
    {
     "name": "stderr",
     "output_type": "stream",
     "text": [
      "C:\\Users\\naikh\\AppData\\Local\\Temp\\ipykernel_22900\\606145124.py:6: RuntimeWarning: Channels contain different highpass filters. Highest filter setting will be stored.\n",
      "  raw = mne.io.read_raw_edf(file_path, preload=True)\n",
      "C:\\Users\\naikh\\AppData\\Local\\Temp\\ipykernel_22900\\606145124.py:6: RuntimeWarning: Channels contain different lowpass filters. Lowest filter setting will be stored.\n",
      "  raw = mne.io.read_raw_edf(file_path, preload=True)\n",
      "C:\\Users\\naikh\\anaconda3\\envs\\TensorFlowEnv\\Lib\\site-packages\\pyedflib\\edfwriter.py:133: UserWarning: Physical minimum for channel 0 (HB_1) is -0.002322096625314717, which has 21 chars, however, EDF+ can only save 8 chars, will be truncated to -0.00232, some loss of precision is to be expected\n",
      "  warnings.warn('Physical minimum for channel {} ({}) is {}, which has {} chars, '\n",
      "C:\\Users\\naikh\\anaconda3\\envs\\TensorFlowEnv\\Lib\\site-packages\\pyedflib\\edfwriter.py:140: UserWarning: Physical maximum for channel 0 (HB_1) is 0.0024119949999999997, which has 21 chars, however, EDF+ can only save 8 chars, will be truncated to 0.002411, some loss of precision is to be expected.\n",
      "  warnings.warn('Physical maximum for channel {} ({}) is {}, which has {} chars, '\n",
      "C:\\Users\\naikh\\anaconda3\\envs\\TensorFlowEnv\\Lib\\site-packages\\pyedflib\\edfwriter.py:133: UserWarning: Physical minimum for channel 1 (HB_2) is -0.0020287272640268556, which has 22 chars, however, EDF+ can only save 8 chars, will be truncated to -0.00202, some loss of precision is to be expected\n",
      "  warnings.warn('Physical minimum for channel {} ({}) is {}, which has {} chars, '\n",
      "C:\\Users\\naikh\\anaconda3\\envs\\TensorFlowEnv\\Lib\\site-packages\\pyedflib\\edfwriter.py:140: UserWarning: Physical maximum for channel 1 (HB_2) is 0.0009149420209048596, which has 21 chars, however, EDF+ can only save 8 chars, will be truncated to 0.000914, some loss of precision is to be expected.\n",
      "  warnings.warn('Physical maximum for channel {} ({}) is {}, which has {} chars, '\n"
     ]
    },
    {
     "name": "stdout",
     "output_type": "stream",
     "text": [
      "Extracting EDF parameters from C:\\Users\\naikh\\SleepResearchCode_experient\\Dataset_clean_for_jupyter\\sub-93\\eeg\\sub-93_task-Sleep_acq-headband_eeg.edf...\n",
      "EDF file detected\n",
      "Setting channel info structure...\n",
      "Creating raw.info structure...\n",
      "Reading 0 ... 6750463  =      0.000 ... 26368.996 secs...\n"
     ]
    },
    {
     "name": "stderr",
     "output_type": "stream",
     "text": [
      "C:\\Users\\naikh\\AppData\\Local\\Temp\\ipykernel_22900\\606145124.py:6: RuntimeWarning: Channels contain different highpass filters. Highest filter setting will be stored.\n",
      "  raw = mne.io.read_raw_edf(file_path, preload=True)\n",
      "C:\\Users\\naikh\\AppData\\Local\\Temp\\ipykernel_22900\\606145124.py:6: RuntimeWarning: Channels contain different lowpass filters. Lowest filter setting will be stored.\n",
      "  raw = mne.io.read_raw_edf(file_path, preload=True)\n",
      "C:\\Users\\naikh\\anaconda3\\envs\\TensorFlowEnv\\Lib\\site-packages\\pyedflib\\edfwriter.py:133: UserWarning: Physical minimum for channel 0 (HB_1) is -0.0020183939231555657, which has 22 chars, however, EDF+ can only save 8 chars, will be truncated to -0.00201, some loss of precision is to be expected\n",
      "  warnings.warn('Physical minimum for channel {} ({}) is {}, which has {} chars, '\n",
      "C:\\Users\\naikh\\anaconda3\\envs\\TensorFlowEnv\\Lib\\site-packages\\pyedflib\\edfwriter.py:140: UserWarning: Physical maximum for channel 0 (HB_1) is 0.0013270945389486535, which has 21 chars, however, EDF+ can only save 8 chars, will be truncated to 0.001327, some loss of precision is to be expected.\n",
      "  warnings.warn('Physical maximum for channel {} ({}) is {}, which has {} chars, '\n",
      "C:\\Users\\naikh\\anaconda3\\envs\\TensorFlowEnv\\Lib\\site-packages\\pyedflib\\edfwriter.py:133: UserWarning: Physical minimum for channel 1 (HB_2) is -0.0020753115550316624, which has 22 chars, however, EDF+ can only save 8 chars, will be truncated to -0.00207, some loss of precision is to be expected\n",
      "  warnings.warn('Physical minimum for channel {} ({}) is {}, which has {} chars, '\n",
      "C:\\Users\\naikh\\anaconda3\\envs\\TensorFlowEnv\\Lib\\site-packages\\pyedflib\\edfwriter.py:140: UserWarning: Physical maximum for channel 1 (HB_2) is 0.0014590310152437628, which has 21 chars, however, EDF+ can only save 8 chars, will be truncated to 0.001459, some loss of precision is to be expected.\n",
      "  warnings.warn('Physical maximum for channel {} ({}) is {}, which has {} chars, '\n"
     ]
    },
    {
     "name": "stdout",
     "output_type": "stream",
     "text": [
      "Extracting EDF parameters from C:\\Users\\naikh\\SleepResearchCode_experient\\Dataset_clean_for_jupyter\\sub-94\\eeg\\sub-94_task-Sleep_acq-headband_eeg.edf...\n",
      "EDF file detected\n",
      "Setting channel info structure...\n",
      "Creating raw.info structure...\n",
      "Reading 0 ... 7720703  =      0.000 ... 30158.996 secs...\n"
     ]
    },
    {
     "name": "stderr",
     "output_type": "stream",
     "text": [
      "C:\\Users\\naikh\\AppData\\Local\\Temp\\ipykernel_22900\\606145124.py:6: RuntimeWarning: Channels contain different highpass filters. Highest filter setting will be stored.\n",
      "  raw = mne.io.read_raw_edf(file_path, preload=True)\n",
      "C:\\Users\\naikh\\AppData\\Local\\Temp\\ipykernel_22900\\606145124.py:6: RuntimeWarning: Channels contain different lowpass filters. Lowest filter setting will be stored.\n",
      "  raw = mne.io.read_raw_edf(file_path, preload=True)\n",
      "C:\\Users\\naikh\\anaconda3\\envs\\TensorFlowEnv\\Lib\\site-packages\\pyedflib\\edfwriter.py:133: UserWarning: Physical minimum for channel 0 (HB_1) is -0.002999922413550011, which has 21 chars, however, EDF+ can only save 8 chars, will be truncated to -0.00299, some loss of precision is to be expected\n",
      "  warnings.warn('Physical minimum for channel {} ({}) is {}, which has {} chars, '\n",
      "C:\\Users\\naikh\\anaconda3\\envs\\TensorFlowEnv\\Lib\\site-packages\\pyedflib\\edfwriter.py:140: UserWarning: Physical maximum for channel 0 (HB_1) is 0.00130891867301442, which has 19 chars, however, EDF+ can only save 8 chars, will be truncated to 0.001308, some loss of precision is to be expected.\n",
      "  warnings.warn('Physical maximum for channel {} ({}) is {}, which has {} chars, '\n"
     ]
    },
    {
     "name": "stdout",
     "output_type": "stream",
     "text": [
      "Extracting EDF parameters from C:\\Users\\naikh\\SleepResearchCode_experient\\Dataset_clean_for_jupyter\\sub-95\\eeg\\sub-95_task-Sleep_acq-headband_eeg.edf...\n",
      "EDF file detected\n",
      "Setting channel info structure...\n",
      "Creating raw.info structure...\n",
      "Reading 0 ... 7552511  =      0.000 ... 29501.996 secs...\n"
     ]
    },
    {
     "name": "stderr",
     "output_type": "stream",
     "text": [
      "C:\\Users\\naikh\\AppData\\Local\\Temp\\ipykernel_22900\\606145124.py:6: RuntimeWarning: Channels contain different highpass filters. Highest filter setting will be stored.\n",
      "  raw = mne.io.read_raw_edf(file_path, preload=True)\n",
      "C:\\Users\\naikh\\AppData\\Local\\Temp\\ipykernel_22900\\606145124.py:6: RuntimeWarning: Channels contain different lowpass filters. Lowest filter setting will be stored.\n",
      "  raw = mne.io.read_raw_edf(file_path, preload=True)\n"
     ]
    },
    {
     "name": "stdout",
     "output_type": "stream",
     "text": [
      "Extracting EDF parameters from C:\\Users\\naikh\\SleepResearchCode_experient\\Dataset_clean_for_jupyter\\sub-96\\eeg\\sub-96_task-Sleep_acq-headband_eeg.edf...\n",
      "EDF file detected\n",
      "Setting channel info structure...\n",
      "Creating raw.info structure...\n",
      "Reading 0 ... 7460095  =      0.000 ... 29140.996 secs...\n"
     ]
    },
    {
     "name": "stderr",
     "output_type": "stream",
     "text": [
      "C:\\Users\\naikh\\AppData\\Local\\Temp\\ipykernel_22900\\606145124.py:6: RuntimeWarning: Channels contain different highpass filters. Highest filter setting will be stored.\n",
      "  raw = mne.io.read_raw_edf(file_path, preload=True)\n",
      "C:\\Users\\naikh\\AppData\\Local\\Temp\\ipykernel_22900\\606145124.py:6: RuntimeWarning: Channels contain different lowpass filters. Lowest filter setting will be stored.\n",
      "  raw = mne.io.read_raw_edf(file_path, preload=True)\n",
      "C:\\Users\\naikh\\anaconda3\\envs\\TensorFlowEnv\\Lib\\site-packages\\pyedflib\\edfwriter.py:140: UserWarning: Physical maximum for channel 0 (HB_1) is 0.0004933394369420917, which has 21 chars, however, EDF+ can only save 8 chars, will be truncated to 0.000493, some loss of precision is to be expected.\n",
      "  warnings.warn('Physical maximum for channel {} ({}) is {}, which has {} chars, '\n",
      "C:\\Users\\naikh\\anaconda3\\envs\\TensorFlowEnv\\Lib\\site-packages\\pyedflib\\edfwriter.py:140: UserWarning: Physical maximum for channel 1 (HB_2) is 0.0009724422064545659, which has 21 chars, however, EDF+ can only save 8 chars, will be truncated to 0.000972, some loss of precision is to be expected.\n",
      "  warnings.warn('Physical maximum for channel {} ({}) is {}, which has {} chars, '\n"
     ]
    },
    {
     "name": "stdout",
     "output_type": "stream",
     "text": [
      "Extracting EDF parameters from C:\\Users\\naikh\\SleepResearchCode_experient\\Dataset_clean_for_jupyter\\sub-97\\eeg\\sub-97_task-Sleep_acq-headband_eeg.edf...\n",
      "EDF file detected\n",
      "Setting channel info structure...\n",
      "Creating raw.info structure...\n",
      "Reading 0 ... 8333823  =      0.000 ... 32553.996 secs...\n"
     ]
    },
    {
     "name": "stderr",
     "output_type": "stream",
     "text": [
      "C:\\Users\\naikh\\AppData\\Local\\Temp\\ipykernel_22900\\606145124.py:6: RuntimeWarning: Channels contain different highpass filters. Highest filter setting will be stored.\n",
      "  raw = mne.io.read_raw_edf(file_path, preload=True)\n",
      "C:\\Users\\naikh\\AppData\\Local\\Temp\\ipykernel_22900\\606145124.py:6: RuntimeWarning: Channels contain different lowpass filters. Lowest filter setting will be stored.\n",
      "  raw = mne.io.read_raw_edf(file_path, preload=True)\n",
      "C:\\Users\\naikh\\anaconda3\\envs\\TensorFlowEnv\\Lib\\site-packages\\pyedflib\\edfwriter.py:140: UserWarning: Physical maximum for channel 0 (HB_1) is 0.0007619592584115355, which has 21 chars, however, EDF+ can only save 8 chars, will be truncated to 0.000761, some loss of precision is to be expected.\n",
      "  warnings.warn('Physical maximum for channel {} ({}) is {}, which has {} chars, '\n",
      "C:\\Users\\naikh\\anaconda3\\envs\\TensorFlowEnv\\Lib\\site-packages\\pyedflib\\edfwriter.py:140: UserWarning: Physical maximum for channel 1 (HB_2) is 0.0007684596017395282, which has 21 chars, however, EDF+ can only save 8 chars, will be truncated to 0.000768, some loss of precision is to be expected.\n",
      "  warnings.warn('Physical maximum for channel {} ({}) is {}, which has {} chars, '\n"
     ]
    },
    {
     "name": "stdout",
     "output_type": "stream",
     "text": [
      "Extracting EDF parameters from C:\\Users\\naikh\\SleepResearchCode_experient\\Dataset_clean_for_jupyter\\sub-98\\eeg\\sub-98_task-Sleep_acq-headband_eeg.edf...\n",
      "EDF file detected\n",
      "Setting channel info structure...\n",
      "Creating raw.info structure...\n",
      "Reading 0 ... 6920191  =      0.000 ... 27031.996 secs...\n"
     ]
    },
    {
     "name": "stderr",
     "output_type": "stream",
     "text": [
      "C:\\Users\\naikh\\AppData\\Local\\Temp\\ipykernel_22900\\606145124.py:6: RuntimeWarning: Channels contain different highpass filters. Highest filter setting will be stored.\n",
      "  raw = mne.io.read_raw_edf(file_path, preload=True)\n",
      "C:\\Users\\naikh\\AppData\\Local\\Temp\\ipykernel_22900\\606145124.py:6: RuntimeWarning: Channels contain different lowpass filters. Lowest filter setting will be stored.\n",
      "  raw = mne.io.read_raw_edf(file_path, preload=True)\n",
      "C:\\Users\\naikh\\anaconda3\\envs\\TensorFlowEnv\\Lib\\site-packages\\pyedflib\\edfwriter.py:133: UserWarning: Physical minimum for channel 0 (HB_1) is -0.002618978179934386, which has 21 chars, however, EDF+ can only save 8 chars, will be truncated to -0.00261, some loss of precision is to be expected\n",
      "  warnings.warn('Physical minimum for channel {} ({}) is {}, which has {} chars, '\n",
      "C:\\Users\\naikh\\anaconda3\\envs\\TensorFlowEnv\\Lib\\site-packages\\pyedflib\\edfwriter.py:140: UserWarning: Physical maximum for channel 0 (HB_1) is 0.0016102182037994962, which has 21 chars, however, EDF+ can only save 8 chars, will be truncated to 0.001610, some loss of precision is to be expected.\n",
      "  warnings.warn('Physical maximum for channel {} ({}) is {}, which has {} chars, '\n",
      "C:\\Users\\naikh\\anaconda3\\envs\\TensorFlowEnv\\Lib\\site-packages\\pyedflib\\edfwriter.py:133: UserWarning: Physical minimum for channel 1 (HB_2) is -0.0025334278771801328, which has 22 chars, however, EDF+ can only save 8 chars, will be truncated to -0.00253, some loss of precision is to be expected\n",
      "  warnings.warn('Physical minimum for channel {} ({}) is {}, which has {} chars, '\n",
      "C:\\Users\\naikh\\anaconda3\\envs\\TensorFlowEnv\\Lib\\site-packages\\pyedflib\\edfwriter.py:140: UserWarning: Physical maximum for channel 1 (HB_2) is 0.001875512224124513, which has 20 chars, however, EDF+ can only save 8 chars, will be truncated to 0.001875, some loss of precision is to be expected.\n",
      "  warnings.warn('Physical maximum for channel {} ({}) is {}, which has {} chars, '\n"
     ]
    },
    {
     "name": "stdout",
     "output_type": "stream",
     "text": [
      "Extracting EDF parameters from C:\\Users\\naikh\\SleepResearchCode_experient\\Dataset_clean_for_jupyter\\sub-99\\eeg\\sub-99_task-Sleep_acq-headband_eeg.edf...\n",
      "EDF file detected\n",
      "Setting channel info structure...\n",
      "Creating raw.info structure...\n",
      "Reading 0 ... 8208383  =      0.000 ... 32063.996 secs...\n"
     ]
    },
    {
     "name": "stderr",
     "output_type": "stream",
     "text": [
      "C:\\Users\\naikh\\AppData\\Local\\Temp\\ipykernel_22900\\606145124.py:6: RuntimeWarning: Channels contain different highpass filters. Highest filter setting will be stored.\n",
      "  raw = mne.io.read_raw_edf(file_path, preload=True)\n",
      "C:\\Users\\naikh\\AppData\\Local\\Temp\\ipykernel_22900\\606145124.py:6: RuntimeWarning: Channels contain different lowpass filters. Lowest filter setting will be stored.\n",
      "  raw = mne.io.read_raw_edf(file_path, preload=True)\n"
     ]
    },
    {
     "name": "stdout",
     "output_type": "stream",
     "text": [
      "Extracting EDF parameters from C:\\Users\\naikh\\SleepResearchCode_experient\\Dataset_clean_for_jupyter\\sub-100\\eeg\\sub-100_task-Sleep_acq-headband_eeg.edf...\n",
      "EDF file detected\n",
      "Setting channel info structure...\n",
      "Creating raw.info structure...\n",
      "Reading 0 ... 7653887  =      0.000 ... 29897.996 secs...\n"
     ]
    },
    {
     "name": "stderr",
     "output_type": "stream",
     "text": [
      "C:\\Users\\naikh\\AppData\\Local\\Temp\\ipykernel_22900\\606145124.py:6: RuntimeWarning: Channels contain different highpass filters. Highest filter setting will be stored.\n",
      "  raw = mne.io.read_raw_edf(file_path, preload=True)\n",
      "C:\\Users\\naikh\\AppData\\Local\\Temp\\ipykernel_22900\\606145124.py:6: RuntimeWarning: Channels contain different lowpass filters. Lowest filter setting will be stored.\n",
      "  raw = mne.io.read_raw_edf(file_path, preload=True)\n",
      "C:\\Users\\naikh\\anaconda3\\envs\\TensorFlowEnv\\Lib\\site-packages\\pyedflib\\edfwriter.py:133: UserWarning: Physical minimum for channel 0 (HB_1) is -0.0011593832434271761, which has 22 chars, however, EDF+ can only save 8 chars, will be truncated to -0.00115, some loss of precision is to be expected\n",
      "  warnings.warn('Physical minimum for channel {} ({}) is {}, which has {} chars, '\n",
      "C:\\Users\\naikh\\anaconda3\\envs\\TensorFlowEnv\\Lib\\site-packages\\pyedflib\\edfwriter.py:140: UserWarning: Physical maximum for channel 0 (HB_1) is 0.0017457219999999997, which has 21 chars, however, EDF+ can only save 8 chars, will be truncated to 0.001745, some loss of precision is to be expected.\n",
      "  warnings.warn('Physical maximum for channel {} ({}) is {}, which has {} chars, '\n",
      "C:\\Users\\naikh\\anaconda3\\envs\\TensorFlowEnv\\Lib\\site-packages\\pyedflib\\edfwriter.py:133: UserWarning: Physical minimum for channel 1 (HB_2) is -0.0025296761851071946, which has 22 chars, however, EDF+ can only save 8 chars, will be truncated to -0.00252, some loss of precision is to be expected\n",
      "  warnings.warn('Physical minimum for channel {} ({}) is {}, which has {} chars, '\n",
      "C:\\Users\\naikh\\anaconda3\\envs\\TensorFlowEnv\\Lib\\site-packages\\pyedflib\\edfwriter.py:140: UserWarning: Physical maximum for channel 1 (HB_2) is 0.0020954173682917526, which has 21 chars, however, EDF+ can only save 8 chars, will be truncated to 0.002095, some loss of precision is to be expected.\n",
      "  warnings.warn('Physical maximum for channel {} ({}) is {}, which has {} chars, '\n"
     ]
    },
    {
     "name": "stdout",
     "output_type": "stream",
     "text": [
      "Extracting EDF parameters from C:\\Users\\naikh\\SleepResearchCode_experient\\Dataset_clean_for_jupyter\\sub-101\\eeg\\sub-101_task-Sleep_acq-headband_eeg.edf...\n",
      "EDF file detected\n",
      "Setting channel info structure...\n",
      "Creating raw.info structure...\n",
      "Reading 0 ... 7186175  =      0.000 ... 28070.996 secs...\n"
     ]
    },
    {
     "name": "stderr",
     "output_type": "stream",
     "text": [
      "C:\\Users\\naikh\\AppData\\Local\\Temp\\ipykernel_22900\\606145124.py:6: RuntimeWarning: Channels contain different highpass filters. Highest filter setting will be stored.\n",
      "  raw = mne.io.read_raw_edf(file_path, preload=True)\n",
      "C:\\Users\\naikh\\AppData\\Local\\Temp\\ipykernel_22900\\606145124.py:6: RuntimeWarning: Channels contain different lowpass filters. Lowest filter setting will be stored.\n",
      "  raw = mne.io.read_raw_edf(file_path, preload=True)\n",
      "C:\\Users\\naikh\\anaconda3\\envs\\TensorFlowEnv\\Lib\\site-packages\\pyedflib\\edfwriter.py:133: UserWarning: Physical minimum for channel 0 (HB_1) is -0.0009278557073304341, which has 22 chars, however, EDF+ can only save 8 chars, will be truncated to -0.00092, some loss of precision is to be expected\n",
      "  warnings.warn('Physical minimum for channel {} ({}) is {}, which has {} chars, '\n",
      "C:\\Users\\naikh\\anaconda3\\envs\\TensorFlowEnv\\Lib\\site-packages\\pyedflib\\edfwriter.py:140: UserWarning: Physical maximum for channel 0 (HB_1) is 0.0007960311804592967, which has 21 chars, however, EDF+ can only save 8 chars, will be truncated to 0.000796, some loss of precision is to be expected.\n",
      "  warnings.warn('Physical maximum for channel {} ({}) is {}, which has {} chars, '\n"
     ]
    },
    {
     "name": "stdout",
     "output_type": "stream",
     "text": [
      "Extracting EDF parameters from C:\\Users\\naikh\\SleepResearchCode_experient\\Dataset_clean_for_jupyter\\sub-102\\eeg\\sub-102_task-Sleep_acq-headband_eeg.edf...\n",
      "EDF file detected\n",
      "Setting channel info structure...\n",
      "Creating raw.info structure...\n",
      "Reading 0 ... 7400959  =      0.000 ... 28909.996 secs...\n"
     ]
    },
    {
     "name": "stderr",
     "output_type": "stream",
     "text": [
      "C:\\Users\\naikh\\AppData\\Local\\Temp\\ipykernel_22900\\606145124.py:6: RuntimeWarning: Channels contain different highpass filters. Highest filter setting will be stored.\n",
      "  raw = mne.io.read_raw_edf(file_path, preload=True)\n",
      "C:\\Users\\naikh\\AppData\\Local\\Temp\\ipykernel_22900\\606145124.py:6: RuntimeWarning: Channels contain different lowpass filters. Lowest filter setting will be stored.\n",
      "  raw = mne.io.read_raw_edf(file_path, preload=True)\n",
      "C:\\Users\\naikh\\anaconda3\\envs\\TensorFlowEnv\\Lib\\site-packages\\pyedflib\\edfwriter.py:133: UserWarning: Physical minimum for channel 0 (HB_1) is -0.001457798873777371, which has 21 chars, however, EDF+ can only save 8 chars, will be truncated to -0.00145, some loss of precision is to be expected\n",
      "  warnings.warn('Physical minimum for channel {} ({}) is {}, which has {} chars, '\n",
      "C:\\Users\\naikh\\anaconda3\\envs\\TensorFlowEnv\\Lib\\site-packages\\pyedflib\\edfwriter.py:140: UserWarning: Physical maximum for channel 0 (HB_1) is 0.002528657, which has 11 chars, however, EDF+ can only save 8 chars, will be truncated to 0.002528, some loss of precision is to be expected.\n",
      "  warnings.warn('Physical maximum for channel {} ({}) is {}, which has {} chars, '\n",
      "C:\\Users\\naikh\\anaconda3\\envs\\TensorFlowEnv\\Lib\\site-packages\\pyedflib\\edfwriter.py:133: UserWarning: Physical minimum for channel 1 (HB_2) is -0.002200538607766842, which has 21 chars, however, EDF+ can only save 8 chars, will be truncated to -0.00220, some loss of precision is to be expected\n",
      "  warnings.warn('Physical minimum for channel {} ({}) is {}, which has {} chars, '\n",
      "C:\\Users\\naikh\\anaconda3\\envs\\TensorFlowEnv\\Lib\\site-packages\\pyedflib\\edfwriter.py:140: UserWarning: Physical maximum for channel 1 (HB_2) is 0.0022567739999999996, which has 21 chars, however, EDF+ can only save 8 chars, will be truncated to 0.002256, some loss of precision is to be expected.\n",
      "  warnings.warn('Physical maximum for channel {} ({}) is {}, which has {} chars, '\n"
     ]
    },
    {
     "name": "stdout",
     "output_type": "stream",
     "text": [
      "Extracting EDF parameters from C:\\Users\\naikh\\SleepResearchCode_experient\\Dataset_clean_for_jupyter\\sub-103\\eeg\\sub-103_task-Sleep_acq-headband_eeg.edf...\n",
      "EDF file detected\n",
      "Setting channel info structure...\n",
      "Creating raw.info structure...\n",
      "Reading 0 ... 6590207  =      0.000 ... 25742.996 secs...\n"
     ]
    },
    {
     "name": "stderr",
     "output_type": "stream",
     "text": [
      "C:\\Users\\naikh\\AppData\\Local\\Temp\\ipykernel_22900\\606145124.py:6: RuntimeWarning: Channels contain different highpass filters. Highest filter setting will be stored.\n",
      "  raw = mne.io.read_raw_edf(file_path, preload=True)\n",
      "C:\\Users\\naikh\\AppData\\Local\\Temp\\ipykernel_22900\\606145124.py:6: RuntimeWarning: Channels contain different lowpass filters. Lowest filter setting will be stored.\n",
      "  raw = mne.io.read_raw_edf(file_path, preload=True)\n",
      "C:\\Users\\naikh\\anaconda3\\envs\\TensorFlowEnv\\Lib\\site-packages\\pyedflib\\edfwriter.py:140: UserWarning: Physical maximum for channel 0 (HB_1) is 0.001111329823758297, which has 20 chars, however, EDF+ can only save 8 chars, will be truncated to 0.001111, some loss of precision is to be expected.\n",
      "  warnings.warn('Physical maximum for channel {} ({}) is {}, which has {} chars, '\n",
      "C:\\Users\\naikh\\anaconda3\\envs\\TensorFlowEnv\\Lib\\site-packages\\pyedflib\\edfwriter.py:140: UserWarning: Physical maximum for channel 1 (HB_2) is 0.0019090409704737923, which has 21 chars, however, EDF+ can only save 8 chars, will be truncated to 0.001909, some loss of precision is to be expected.\n",
      "  warnings.warn('Physical maximum for channel {} ({}) is {}, which has {} chars, '\n"
     ]
    },
    {
     "name": "stdout",
     "output_type": "stream",
     "text": [
      "Extracting EDF parameters from C:\\Users\\naikh\\SleepResearchCode_experient\\Dataset_clean_for_jupyter\\sub-104\\eeg\\sub-104_task-Sleep_acq-headband_eeg.edf...\n",
      "EDF file detected\n",
      "Setting channel info structure...\n",
      "Creating raw.info structure...\n",
      "Reading 0 ... 6443519  =      0.000 ... 25169.996 secs...\n"
     ]
    },
    {
     "name": "stderr",
     "output_type": "stream",
     "text": [
      "C:\\Users\\naikh\\AppData\\Local\\Temp\\ipykernel_22900\\606145124.py:6: RuntimeWarning: Channels contain different highpass filters. Highest filter setting will be stored.\n",
      "  raw = mne.io.read_raw_edf(file_path, preload=True)\n",
      "C:\\Users\\naikh\\AppData\\Local\\Temp\\ipykernel_22900\\606145124.py:6: RuntimeWarning: Channels contain different lowpass filters. Lowest filter setting will be stored.\n",
      "  raw = mne.io.read_raw_edf(file_path, preload=True)\n"
     ]
    },
    {
     "name": "stdout",
     "output_type": "stream",
     "text": [
      "Extracting EDF parameters from C:\\Users\\naikh\\SleepResearchCode_experient\\Dataset_clean_for_jupyter\\sub-105\\eeg\\sub-105_task-Sleep_acq-headband_eeg.edf...\n",
      "EDF file detected\n",
      "Setting channel info structure...\n",
      "Creating raw.info structure...\n",
      "Reading 0 ... 7474175  =      0.000 ... 29195.996 secs...\n"
     ]
    },
    {
     "name": "stderr",
     "output_type": "stream",
     "text": [
      "C:\\Users\\naikh\\AppData\\Local\\Temp\\ipykernel_22900\\606145124.py:6: RuntimeWarning: Channels contain different highpass filters. Highest filter setting will be stored.\n",
      "  raw = mne.io.read_raw_edf(file_path, preload=True)\n",
      "C:\\Users\\naikh\\AppData\\Local\\Temp\\ipykernel_22900\\606145124.py:6: RuntimeWarning: Channels contain different lowpass filters. Lowest filter setting will be stored.\n",
      "  raw = mne.io.read_raw_edf(file_path, preload=True)\n",
      "C:\\Users\\naikh\\anaconda3\\envs\\TensorFlowEnv\\Lib\\site-packages\\pyedflib\\edfwriter.py:140: UserWarning: Physical maximum for channel 0 (HB_1) is 0.0010822156099794002, which has 21 chars, however, EDF+ can only save 8 chars, will be truncated to 0.001082, some loss of precision is to be expected.\n",
      "  warnings.warn('Physical maximum for channel {} ({}) is {}, which has {} chars, '\n",
      "C:\\Users\\naikh\\anaconda3\\envs\\TensorFlowEnv\\Lib\\site-packages\\pyedflib\\edfwriter.py:133: UserWarning: Physical minimum for channel 1 (HB_2) is -0.0029999234683299, which has 19 chars, however, EDF+ can only save 8 chars, will be truncated to -0.00299, some loss of precision is to be expected\n",
      "  warnings.warn('Physical minimum for channel {} ({}) is {}, which has {} chars, '\n",
      "C:\\Users\\naikh\\anaconda3\\envs\\TensorFlowEnv\\Lib\\site-packages\\pyedflib\\edfwriter.py:140: UserWarning: Physical maximum for channel 1 (HB_2) is 0.001192557951415274, which has 20 chars, however, EDF+ can only save 8 chars, will be truncated to 0.001192, some loss of precision is to be expected.\n",
      "  warnings.warn('Physical maximum for channel {} ({}) is {}, which has {} chars, '\n"
     ]
    },
    {
     "name": "stdout",
     "output_type": "stream",
     "text": [
      "Extracting EDF parameters from C:\\Users\\naikh\\SleepResearchCode_experient\\Dataset_clean_for_jupyter\\sub-106\\eeg\\sub-106_task-Sleep_acq-headband_eeg.edf...\n",
      "EDF file detected\n",
      "Setting channel info structure...\n",
      "Creating raw.info structure...\n",
      "Reading 0 ... 6747903  =      0.000 ... 26358.996 secs...\n"
     ]
    },
    {
     "name": "stderr",
     "output_type": "stream",
     "text": [
      "C:\\Users\\naikh\\AppData\\Local\\Temp\\ipykernel_22900\\606145124.py:6: RuntimeWarning: Channels contain different highpass filters. Highest filter setting will be stored.\n",
      "  raw = mne.io.read_raw_edf(file_path, preload=True)\n",
      "C:\\Users\\naikh\\AppData\\Local\\Temp\\ipykernel_22900\\606145124.py:6: RuntimeWarning: Channels contain different lowpass filters. Lowest filter setting will be stored.\n",
      "  raw = mne.io.read_raw_edf(file_path, preload=True)\n",
      "C:\\Users\\naikh\\anaconda3\\envs\\TensorFlowEnv\\Lib\\site-packages\\pyedflib\\edfwriter.py:140: UserWarning: Physical maximum for channel 0 (HB_1) is 0.0005605401693751428, which has 21 chars, however, EDF+ can only save 8 chars, will be truncated to 0.000560, some loss of precision is to be expected.\n",
      "  warnings.warn('Physical maximum for channel {} ({}) is {}, which has {} chars, '\n",
      "C:\\Users\\naikh\\anaconda3\\envs\\TensorFlowEnv\\Lib\\site-packages\\pyedflib\\edfwriter.py:140: UserWarning: Physical maximum for channel 1 (HB_2) is 0.0007681849393453877, which has 21 chars, however, EDF+ can only save 8 chars, will be truncated to 0.000768, some loss of precision is to be expected.\n",
      "  warnings.warn('Physical maximum for channel {} ({}) is {}, which has {} chars, '\n"
     ]
    },
    {
     "name": "stdout",
     "output_type": "stream",
     "text": [
      "Extracting EDF parameters from C:\\Users\\naikh\\SleepResearchCode_experient\\Dataset_clean_for_jupyter\\sub-107\\eeg\\sub-107_task-Sleep_acq-headband_eeg.edf...\n",
      "EDF file detected\n",
      "Setting channel info structure...\n",
      "Creating raw.info structure...\n",
      "Reading 0 ... 7315711  =      0.000 ... 28576.996 secs...\n"
     ]
    },
    {
     "name": "stderr",
     "output_type": "stream",
     "text": [
      "C:\\Users\\naikh\\AppData\\Local\\Temp\\ipykernel_22900\\606145124.py:6: RuntimeWarning: Channels contain different highpass filters. Highest filter setting will be stored.\n",
      "  raw = mne.io.read_raw_edf(file_path, preload=True)\n",
      "C:\\Users\\naikh\\AppData\\Local\\Temp\\ipykernel_22900\\606145124.py:6: RuntimeWarning: Channels contain different lowpass filters. Lowest filter setting will be stored.\n",
      "  raw = mne.io.read_raw_edf(file_path, preload=True)\n"
     ]
    },
    {
     "name": "stdout",
     "output_type": "stream",
     "text": [
      "Extracting EDF parameters from C:\\Users\\naikh\\SleepResearchCode_experient\\Dataset_clean_for_jupyter\\sub-108\\eeg\\sub-108_task-Sleep_acq-headband_eeg.edf...\n",
      "EDF file detected\n",
      "Setting channel info structure...\n",
      "Creating raw.info structure...\n",
      "Reading 0 ... 7688447  =      0.000 ... 30032.996 secs...\n"
     ]
    },
    {
     "name": "stderr",
     "output_type": "stream",
     "text": [
      "C:\\Users\\naikh\\AppData\\Local\\Temp\\ipykernel_22900\\606145124.py:6: RuntimeWarning: Channels contain different highpass filters. Highest filter setting will be stored.\n",
      "  raw = mne.io.read_raw_edf(file_path, preload=True)\n",
      "C:\\Users\\naikh\\AppData\\Local\\Temp\\ipykernel_22900\\606145124.py:6: RuntimeWarning: Channels contain different lowpass filters. Lowest filter setting will be stored.\n",
      "  raw = mne.io.read_raw_edf(file_path, preload=True)\n"
     ]
    },
    {
     "name": "stdout",
     "output_type": "stream",
     "text": [
      "Extracting EDF parameters from C:\\Users\\naikh\\SleepResearchCode_experient\\Dataset_clean_for_jupyter\\sub-109\\eeg\\sub-109_task-Sleep_acq-headband_eeg.edf...\n",
      "EDF file detected\n",
      "Setting channel info structure...\n",
      "Creating raw.info structure...\n",
      "Reading 0 ... 6479103  =      0.000 ... 25308.996 secs...\n"
     ]
    },
    {
     "name": "stderr",
     "output_type": "stream",
     "text": [
      "C:\\Users\\naikh\\AppData\\Local\\Temp\\ipykernel_22900\\606145124.py:6: RuntimeWarning: Channels contain different highpass filters. Highest filter setting will be stored.\n",
      "  raw = mne.io.read_raw_edf(file_path, preload=True)\n",
      "C:\\Users\\naikh\\AppData\\Local\\Temp\\ipykernel_22900\\606145124.py:6: RuntimeWarning: Channels contain different lowpass filters. Lowest filter setting will be stored.\n",
      "  raw = mne.io.read_raw_edf(file_path, preload=True)\n",
      "C:\\Users\\naikh\\anaconda3\\envs\\TensorFlowEnv\\Lib\\site-packages\\pyedflib\\edfwriter.py:133: UserWarning: Physical minimum for channel 1 (HB_2) is -0.002999926131090257, which has 21 chars, however, EDF+ can only save 8 chars, will be truncated to -0.00299, some loss of precision is to be expected\n",
      "  warnings.warn('Physical minimum for channel {} ({}) is {}, which has {} chars, '\n",
      "C:\\Users\\naikh\\anaconda3\\envs\\TensorFlowEnv\\Lib\\site-packages\\pyedflib\\edfwriter.py:140: UserWarning: Physical maximum for channel 1 (HB_2) is 0.0009058924715648122, which has 21 chars, however, EDF+ can only save 8 chars, will be truncated to 0.000905, some loss of precision is to be expected.\n",
      "  warnings.warn('Physical maximum for channel {} ({}) is {}, which has {} chars, '\n"
     ]
    },
    {
     "name": "stdout",
     "output_type": "stream",
     "text": [
      "Extracting EDF parameters from C:\\Users\\naikh\\SleepResearchCode_experient\\Dataset_clean_for_jupyter\\sub-110\\eeg\\sub-110_task-Sleep_acq-headband_eeg.edf...\n",
      "EDF file detected\n",
      "Setting channel info structure...\n",
      "Creating raw.info structure...\n",
      "Reading 0 ... 7323903  =      0.000 ... 28608.996 secs...\n"
     ]
    },
    {
     "name": "stderr",
     "output_type": "stream",
     "text": [
      "C:\\Users\\naikh\\AppData\\Local\\Temp\\ipykernel_22900\\606145124.py:6: RuntimeWarning: Channels contain different highpass filters. Highest filter setting will be stored.\n",
      "  raw = mne.io.read_raw_edf(file_path, preload=True)\n",
      "C:\\Users\\naikh\\AppData\\Local\\Temp\\ipykernel_22900\\606145124.py:6: RuntimeWarning: Channels contain different lowpass filters. Lowest filter setting will be stored.\n",
      "  raw = mne.io.read_raw_edf(file_path, preload=True)\n"
     ]
    },
    {
     "name": "stdout",
     "output_type": "stream",
     "text": [
      "Extracting EDF parameters from C:\\Users\\naikh\\SleepResearchCode_experient\\Dataset_clean_for_jupyter\\sub-111\\eeg\\sub-111_task-Sleep_acq-headband_eeg.edf...\n",
      "EDF file detected\n",
      "Setting channel info structure...\n",
      "Creating raw.info structure...\n",
      "Reading 0 ... 7385087  =      0.000 ... 28847.996 secs...\n"
     ]
    },
    {
     "name": "stderr",
     "output_type": "stream",
     "text": [
      "C:\\Users\\naikh\\AppData\\Local\\Temp\\ipykernel_22900\\606145124.py:6: RuntimeWarning: Channels contain different highpass filters. Highest filter setting will be stored.\n",
      "  raw = mne.io.read_raw_edf(file_path, preload=True)\n",
      "C:\\Users\\naikh\\AppData\\Local\\Temp\\ipykernel_22900\\606145124.py:6: RuntimeWarning: Channels contain different lowpass filters. Lowest filter setting will be stored.\n",
      "  raw = mne.io.read_raw_edf(file_path, preload=True)\n",
      "C:\\Users\\naikh\\anaconda3\\envs\\TensorFlowEnv\\Lib\\site-packages\\pyedflib\\edfwriter.py:140: UserWarning: Physical maximum for channel 0 (HB_1) is 0.002989379720759899, which has 20 chars, however, EDF+ can only save 8 chars, will be truncated to 0.002989, some loss of precision is to be expected.\n",
      "  warnings.warn('Physical maximum for channel {} ({}) is {}, which has {} chars, '\n"
     ]
    },
    {
     "name": "stdout",
     "output_type": "stream",
     "text": [
      "Extracting EDF parameters from C:\\Users\\naikh\\SleepResearchCode_experient\\Dataset_clean_for_jupyter\\sub-112\\eeg\\sub-112_task-Sleep_acq-headband_eeg.edf...\n",
      "EDF file detected\n",
      "Setting channel info structure...\n",
      "Creating raw.info structure...\n",
      "Reading 0 ... 7061503  =      0.000 ... 27583.996 secs...\n"
     ]
    },
    {
     "name": "stderr",
     "output_type": "stream",
     "text": [
      "C:\\Users\\naikh\\AppData\\Local\\Temp\\ipykernel_22900\\606145124.py:6: RuntimeWarning: Channels contain different highpass filters. Highest filter setting will be stored.\n",
      "  raw = mne.io.read_raw_edf(file_path, preload=True)\n",
      "C:\\Users\\naikh\\AppData\\Local\\Temp\\ipykernel_22900\\606145124.py:6: RuntimeWarning: Channels contain different lowpass filters. Lowest filter setting will be stored.\n",
      "  raw = mne.io.read_raw_edf(file_path, preload=True)\n",
      "C:\\Users\\naikh\\anaconda3\\envs\\TensorFlowEnv\\Lib\\site-packages\\pyedflib\\edfwriter.py:133: UserWarning: Physical minimum for channel 0 (HB_1) is -0.002999941821341268, which has 21 chars, however, EDF+ can only save 8 chars, will be truncated to -0.00299, some loss of precision is to be expected\n",
      "  warnings.warn('Physical minimum for channel {} ({}) is {}, which has {} chars, '\n",
      "C:\\Users\\naikh\\anaconda3\\envs\\TensorFlowEnv\\Lib\\site-packages\\pyedflib\\edfwriter.py:140: UserWarning: Physical maximum for channel 0 (HB_1) is -0.0005771497571068893, which has 22 chars, however, EDF+ can only save 8 chars, will be truncated to -0.00057, some loss of precision is to be expected.\n",
      "  warnings.warn('Physical maximum for channel {} ({}) is {}, which has {} chars, '\n",
      "C:\\Users\\naikh\\anaconda3\\envs\\TensorFlowEnv\\Lib\\site-packages\\pyedflib\\edfwriter.py:140: UserWarning: Physical maximum for channel 1 (HB_2) is 0.0007860379949645225, which has 21 chars, however, EDF+ can only save 8 chars, will be truncated to 0.000786, some loss of precision is to be expected.\n",
      "  warnings.warn('Physical maximum for channel {} ({}) is {}, which has {} chars, '\n"
     ]
    },
    {
     "name": "stdout",
     "output_type": "stream",
     "text": [
      "Extracting EDF parameters from C:\\Users\\naikh\\SleepResearchCode_experient\\Dataset_clean_for_jupyter\\sub-113\\eeg\\sub-113_task-Sleep_acq-headband_eeg.edf...\n",
      "EDF file detected\n",
      "Setting channel info structure...\n",
      "Creating raw.info structure...\n",
      "Reading 0 ... 7197951  =      0.000 ... 28116.996 secs...\n"
     ]
    },
    {
     "name": "stderr",
     "output_type": "stream",
     "text": [
      "C:\\Users\\naikh\\AppData\\Local\\Temp\\ipykernel_22900\\606145124.py:6: RuntimeWarning: Channels contain different highpass filters. Highest filter setting will be stored.\n",
      "  raw = mne.io.read_raw_edf(file_path, preload=True)\n",
      "C:\\Users\\naikh\\AppData\\Local\\Temp\\ipykernel_22900\\606145124.py:6: RuntimeWarning: Channels contain different lowpass filters. Lowest filter setting will be stored.\n",
      "  raw = mne.io.read_raw_edf(file_path, preload=True)\n",
      "C:\\Users\\naikh\\anaconda3\\envs\\TensorFlowEnv\\Lib\\site-packages\\pyedflib\\edfwriter.py:140: UserWarning: Physical maximum for channel 0 (HB_1) is 0.0006448615243762872, which has 21 chars, however, EDF+ can only save 8 chars, will be truncated to 0.000644, some loss of precision is to be expected.\n",
      "  warnings.warn('Physical maximum for channel {} ({}) is {}, which has {} chars, '\n",
      "C:\\Users\\naikh\\anaconda3\\envs\\TensorFlowEnv\\Lib\\site-packages\\pyedflib\\edfwriter.py:140: UserWarning: Physical maximum for channel 1 (HB_2) is 0.0006510872053101393, which has 21 chars, however, EDF+ can only save 8 chars, will be truncated to 0.000651, some loss of precision is to be expected.\n",
      "  warnings.warn('Physical maximum for channel {} ({}) is {}, which has {} chars, '\n"
     ]
    },
    {
     "name": "stdout",
     "output_type": "stream",
     "text": [
      "Extracting EDF parameters from C:\\Users\\naikh\\SleepResearchCode_experient\\Dataset_clean_for_jupyter\\sub-114\\eeg\\sub-114_task-Sleep_acq-headband_eeg.edf...\n",
      "EDF file detected\n",
      "Setting channel info structure...\n",
      "Creating raw.info structure...\n",
      "Reading 0 ... 7171327  =      0.000 ... 28012.996 secs...\n"
     ]
    },
    {
     "name": "stderr",
     "output_type": "stream",
     "text": [
      "C:\\Users\\naikh\\AppData\\Local\\Temp\\ipykernel_22900\\606145124.py:6: RuntimeWarning: Channels contain different highpass filters. Highest filter setting will be stored.\n",
      "  raw = mne.io.read_raw_edf(file_path, preload=True)\n",
      "C:\\Users\\naikh\\AppData\\Local\\Temp\\ipykernel_22900\\606145124.py:6: RuntimeWarning: Channels contain different lowpass filters. Lowest filter setting will be stored.\n",
      "  raw = mne.io.read_raw_edf(file_path, preload=True)\n",
      "C:\\Users\\naikh\\anaconda3\\envs\\TensorFlowEnv\\Lib\\site-packages\\pyedflib\\edfwriter.py:133: UserWarning: Physical minimum for channel 0 (HB_1) is -0.0029999433175783934, which has 22 chars, however, EDF+ can only save 8 chars, will be truncated to -0.00299, some loss of precision is to be expected\n",
      "  warnings.warn('Physical minimum for channel {} ({}) is {}, which has {} chars, '\n",
      "C:\\Users\\naikh\\anaconda3\\envs\\TensorFlowEnv\\Lib\\site-packages\\pyedflib\\edfwriter.py:140: UserWarning: Physical maximum for channel 0 (HB_1) is -0.0007001674257267111, which has 22 chars, however, EDF+ can only save 8 chars, will be truncated to -0.00070, some loss of precision is to be expected.\n",
      "  warnings.warn('Physical maximum for channel {} ({}) is {}, which has {} chars, '\n",
      "C:\\Users\\naikh\\anaconda3\\envs\\TensorFlowEnv\\Lib\\site-packages\\pyedflib\\edfwriter.py:133: UserWarning: Physical minimum for channel 1 (HB_2) is -0.00299994268751049, which has 20 chars, however, EDF+ can only save 8 chars, will be truncated to -0.00299, some loss of precision is to be expected\n",
      "  warnings.warn('Physical minimum for channel {} ({}) is {}, which has {} chars, '\n",
      "C:\\Users\\naikh\\anaconda3\\envs\\TensorFlowEnv\\Lib\\site-packages\\pyedflib\\edfwriter.py:140: UserWarning: Physical maximum for channel 1 (HB_2) is -0.000648755117875944, which has 21 chars, however, EDF+ can only save 8 chars, will be truncated to -0.00064, some loss of precision is to be expected.\n",
      "  warnings.warn('Physical maximum for channel {} ({}) is {}, which has {} chars, '\n"
     ]
    },
    {
     "name": "stdout",
     "output_type": "stream",
     "text": [
      "Extracting EDF parameters from C:\\Users\\naikh\\SleepResearchCode_experient\\Dataset_clean_for_jupyter\\sub-115\\eeg\\sub-115_task-Sleep_acq-headband_eeg.edf...\n",
      "EDF file detected\n",
      "Setting channel info structure...\n",
      "Creating raw.info structure...\n",
      "Reading 0 ... 6591487  =      0.000 ... 25747.996 secs...\n"
     ]
    },
    {
     "name": "stderr",
     "output_type": "stream",
     "text": [
      "C:\\Users\\naikh\\AppData\\Local\\Temp\\ipykernel_22900\\606145124.py:6: RuntimeWarning: Channels contain different highpass filters. Highest filter setting will be stored.\n",
      "  raw = mne.io.read_raw_edf(file_path, preload=True)\n",
      "C:\\Users\\naikh\\AppData\\Local\\Temp\\ipykernel_22900\\606145124.py:6: RuntimeWarning: Channels contain different lowpass filters. Lowest filter setting will be stored.\n",
      "  raw = mne.io.read_raw_edf(file_path, preload=True)\n"
     ]
    },
    {
     "name": "stdout",
     "output_type": "stream",
     "text": [
      "Extracting EDF parameters from C:\\Users\\naikh\\SleepResearchCode_experient\\Dataset_clean_for_jupyter\\sub-116\\eeg\\sub-116_task-Sleep_acq-headband_eeg.edf...\n",
      "EDF file detected\n",
      "Setting channel info structure...\n",
      "Creating raw.info structure...\n",
      "Reading 0 ... 6708223  =      0.000 ... 26203.996 secs...\n"
     ]
    },
    {
     "name": "stderr",
     "output_type": "stream",
     "text": [
      "C:\\Users\\naikh\\AppData\\Local\\Temp\\ipykernel_22900\\606145124.py:6: RuntimeWarning: Channels contain different highpass filters. Highest filter setting will be stored.\n",
      "  raw = mne.io.read_raw_edf(file_path, preload=True)\n",
      "C:\\Users\\naikh\\AppData\\Local\\Temp\\ipykernel_22900\\606145124.py:6: RuntimeWarning: Channels contain different lowpass filters. Lowest filter setting will be stored.\n",
      "  raw = mne.io.read_raw_edf(file_path, preload=True)\n",
      "C:\\Users\\naikh\\anaconda3\\envs\\TensorFlowEnv\\Lib\\site-packages\\pyedflib\\edfwriter.py:140: UserWarning: Physical maximum for channel 0 (HB_1) is 0.0017166857404440372, which has 21 chars, however, EDF+ can only save 8 chars, will be truncated to 0.001716, some loss of precision is to be expected.\n",
      "  warnings.warn('Physical maximum for channel {} ({}) is {}, which has {} chars, '\n"
     ]
    },
    {
     "name": "stdout",
     "output_type": "stream",
     "text": [
      "Extracting EDF parameters from C:\\Users\\naikh\\SleepResearchCode_experient\\Dataset_clean_for_jupyter\\sub-117\\eeg\\sub-117_task-Sleep_acq-headband_eeg.edf...\n",
      "EDF file detected\n",
      "Setting channel info structure...\n",
      "Creating raw.info structure...\n",
      "Reading 0 ... 6092543  =      0.000 ... 23798.996 secs...\n"
     ]
    },
    {
     "name": "stderr",
     "output_type": "stream",
     "text": [
      "C:\\Users\\naikh\\AppData\\Local\\Temp\\ipykernel_22900\\606145124.py:6: RuntimeWarning: Channels contain different highpass filters. Highest filter setting will be stored.\n",
      "  raw = mne.io.read_raw_edf(file_path, preload=True)\n",
      "C:\\Users\\naikh\\AppData\\Local\\Temp\\ipykernel_22900\\606145124.py:6: RuntimeWarning: Channels contain different lowpass filters. Lowest filter setting will be stored.\n",
      "  raw = mne.io.read_raw_edf(file_path, preload=True)\n",
      "C:\\Users\\naikh\\anaconda3\\envs\\TensorFlowEnv\\Lib\\site-packages\\pyedflib\\edfwriter.py:140: UserWarning: Physical maximum for channel 0 (HB_1) is 0.0019068436713206678, which has 21 chars, however, EDF+ can only save 8 chars, will be truncated to 0.001906, some loss of precision is to be expected.\n",
      "  warnings.warn('Physical maximum for channel {} ({}) is {}, which has {} chars, '\n"
     ]
    },
    {
     "name": "stdout",
     "output_type": "stream",
     "text": [
      "Extracting EDF parameters from C:\\Users\\naikh\\SleepResearchCode_experient\\Dataset_clean_for_jupyter\\sub-118\\eeg\\sub-118_task-Sleep_acq-headband_eeg.edf...\n",
      "EDF file detected\n",
      "Setting channel info structure...\n",
      "Creating raw.info structure...\n",
      "Reading 0 ... 6867199  =      0.000 ... 26824.996 secs...\n"
     ]
    },
    {
     "name": "stderr",
     "output_type": "stream",
     "text": [
      "C:\\Users\\naikh\\AppData\\Local\\Temp\\ipykernel_22900\\606145124.py:6: RuntimeWarning: Channels contain different highpass filters. Highest filter setting will be stored.\n",
      "  raw = mne.io.read_raw_edf(file_path, preload=True)\n",
      "C:\\Users\\naikh\\AppData\\Local\\Temp\\ipykernel_22900\\606145124.py:6: RuntimeWarning: Channels contain different lowpass filters. Lowest filter setting will be stored.\n",
      "  raw = mne.io.read_raw_edf(file_path, preload=True)\n",
      "C:\\Users\\naikh\\anaconda3\\envs\\TensorFlowEnv\\Lib\\site-packages\\pyedflib\\edfwriter.py:140: UserWarning: Physical maximum for channel 0 (HB_1) is 0.0020692607003891046, which has 21 chars, however, EDF+ can only save 8 chars, will be truncated to 0.002069, some loss of precision is to be expected.\n",
      "  warnings.warn('Physical maximum for channel {} ({}) is {}, which has {} chars, '\n",
      "C:\\Users\\naikh\\anaconda3\\envs\\TensorFlowEnv\\Lib\\site-packages\\pyedflib\\edfwriter.py:140: UserWarning: Physical maximum for channel 1 (HB_2) is 0.0022113527122911416, which has 21 chars, however, EDF+ can only save 8 chars, will be truncated to 0.002211, some loss of precision is to be expected.\n",
      "  warnings.warn('Physical maximum for channel {} ({}) is {}, which has {} chars, '\n"
     ]
    },
    {
     "name": "stdout",
     "output_type": "stream",
     "text": [
      "Extracting EDF parameters from C:\\Users\\naikh\\SleepResearchCode_experient\\Dataset_clean_for_jupyter\\sub-119\\eeg\\sub-119_task-Sleep_acq-headband_eeg.edf...\n",
      "EDF file detected\n",
      "Setting channel info structure...\n",
      "Creating raw.info structure...\n",
      "Reading 0 ... 6902015  =      0.000 ... 26960.996 secs...\n"
     ]
    },
    {
     "name": "stderr",
     "output_type": "stream",
     "text": [
      "C:\\Users\\naikh\\AppData\\Local\\Temp\\ipykernel_22900\\606145124.py:6: RuntimeWarning: Channels contain different highpass filters. Highest filter setting will be stored.\n",
      "  raw = mne.io.read_raw_edf(file_path, preload=True)\n",
      "C:\\Users\\naikh\\AppData\\Local\\Temp\\ipykernel_22900\\606145124.py:6: RuntimeWarning: Channels contain different lowpass filters. Lowest filter setting will be stored.\n",
      "  raw = mne.io.read_raw_edf(file_path, preload=True)\n",
      "C:\\Users\\naikh\\anaconda3\\envs\\TensorFlowEnv\\Lib\\site-packages\\pyedflib\\edfwriter.py:140: UserWarning: Physical maximum for channel 0 (HB_1) is 0.0014100709544518193, which has 21 chars, however, EDF+ can only save 8 chars, will be truncated to 0.001410, some loss of precision is to be expected.\n",
      "  warnings.warn('Physical maximum for channel {} ({}) is {}, which has {} chars, '\n",
      "C:\\Users\\naikh\\anaconda3\\envs\\TensorFlowEnv\\Lib\\site-packages\\pyedflib\\edfwriter.py:140: UserWarning: Physical maximum for channel 1 (HB_2) is 0.0014003662165255205, which has 21 chars, however, EDF+ can only save 8 chars, will be truncated to 0.001400, some loss of precision is to be expected.\n",
      "  warnings.warn('Physical maximum for channel {} ({}) is {}, which has {} chars, '\n"
     ]
    },
    {
     "name": "stdout",
     "output_type": "stream",
     "text": [
      "Extracting EDF parameters from C:\\Users\\naikh\\SleepResearchCode_experient\\Dataset_clean_for_jupyter\\sub-120\\eeg\\sub-120_task-Sleep_acq-headband_eeg.edf...\n",
      "EDF file detected\n",
      "Setting channel info structure...\n",
      "Creating raw.info structure...\n",
      "Reading 0 ... 6059775  =      0.000 ... 23670.996 secs...\n"
     ]
    },
    {
     "name": "stderr",
     "output_type": "stream",
     "text": [
      "C:\\Users\\naikh\\AppData\\Local\\Temp\\ipykernel_22900\\606145124.py:6: RuntimeWarning: Channels contain different highpass filters. Highest filter setting will be stored.\n",
      "  raw = mne.io.read_raw_edf(file_path, preload=True)\n",
      "C:\\Users\\naikh\\AppData\\Local\\Temp\\ipykernel_22900\\606145124.py:6: RuntimeWarning: Channels contain different lowpass filters. Lowest filter setting will be stored.\n",
      "  raw = mne.io.read_raw_edf(file_path, preload=True)\n",
      "C:\\Users\\naikh\\anaconda3\\envs\\TensorFlowEnv\\Lib\\site-packages\\pyedflib\\edfwriter.py:133: UserWarning: Physical minimum for channel 0 (HB_1) is -0.0029999409495826655, which has 22 chars, however, EDF+ can only save 8 chars, will be truncated to -0.00299, some loss of precision is to be expected\n",
      "  warnings.warn('Physical minimum for channel {} ({}) is {}, which has {} chars, '\n",
      "C:\\Users\\naikh\\anaconda3\\envs\\TensorFlowEnv\\Lib\\site-packages\\pyedflib\\edfwriter.py:140: UserWarning: Physical maximum for channel 0 (HB_1) is -0.0005039979096986344, which has 22 chars, however, EDF+ can only save 8 chars, will be truncated to -0.00050, some loss of precision is to be expected.\n",
      "  warnings.warn('Physical maximum for channel {} ({}) is {}, which has {} chars, '\n",
      "C:\\Users\\naikh\\anaconda3\\envs\\TensorFlowEnv\\Lib\\site-packages\\pyedflib\\edfwriter.py:133: UserWarning: Physical minimum for channel 1 (HB_2) is -0.002999926448233768, which has 21 chars, however, EDF+ can only save 8 chars, will be truncated to -0.00299, some loss of precision is to be expected\n",
      "  warnings.warn('Physical minimum for channel {} ({}) is {}, which has {} chars, '\n",
      "C:\\Users\\naikh\\anaconda3\\envs\\TensorFlowEnv\\Lib\\site-packages\\pyedflib\\edfwriter.py:140: UserWarning: Physical maximum for channel 1 (HB_2) is 0.0008724269403372242, which has 21 chars, however, EDF+ can only save 8 chars, will be truncated to 0.000872, some loss of precision is to be expected.\n",
      "  warnings.warn('Physical maximum for channel {} ({}) is {}, which has {} chars, '\n"
     ]
    },
    {
     "name": "stdout",
     "output_type": "stream",
     "text": [
      "Extracting EDF parameters from C:\\Users\\naikh\\SleepResearchCode_experient\\Dataset_clean_for_jupyter\\sub-121\\eeg\\sub-121_task-Sleep_acq-headband_eeg.edf...\n",
      "EDF file detected\n",
      "Setting channel info structure...\n",
      "Creating raw.info structure...\n",
      "Reading 0 ... 6861055  =      0.000 ... 26800.996 secs...\n"
     ]
    },
    {
     "name": "stderr",
     "output_type": "stream",
     "text": [
      "C:\\Users\\naikh\\AppData\\Local\\Temp\\ipykernel_22900\\606145124.py:6: RuntimeWarning: Channels contain different highpass filters. Highest filter setting will be stored.\n",
      "  raw = mne.io.read_raw_edf(file_path, preload=True)\n",
      "C:\\Users\\naikh\\AppData\\Local\\Temp\\ipykernel_22900\\606145124.py:6: RuntimeWarning: Channels contain different lowpass filters. Lowest filter setting will be stored.\n",
      "  raw = mne.io.read_raw_edf(file_path, preload=True)\n"
     ]
    },
    {
     "name": "stdout",
     "output_type": "stream",
     "text": [
      "Extracting EDF parameters from C:\\Users\\naikh\\SleepResearchCode_experient\\Dataset_clean_for_jupyter\\sub-122\\eeg\\sub-122_task-Sleep_acq-headband_eeg.edf...\n",
      "EDF file detected\n",
      "Setting channel info structure...\n",
      "Creating raw.info structure...\n",
      "Reading 0 ... 6728191  =      0.000 ... 26281.996 secs...\n"
     ]
    },
    {
     "name": "stderr",
     "output_type": "stream",
     "text": [
      "C:\\Users\\naikh\\AppData\\Local\\Temp\\ipykernel_22900\\606145124.py:6: RuntimeWarning: Channels contain different highpass filters. Highest filter setting will be stored.\n",
      "  raw = mne.io.read_raw_edf(file_path, preload=True)\n",
      "C:\\Users\\naikh\\AppData\\Local\\Temp\\ipykernel_22900\\606145124.py:6: RuntimeWarning: Channels contain different lowpass filters. Lowest filter setting will be stored.\n",
      "  raw = mne.io.read_raw_edf(file_path, preload=True)\n",
      "C:\\Users\\naikh\\anaconda3\\envs\\TensorFlowEnv\\Lib\\site-packages\\pyedflib\\edfwriter.py:140: UserWarning: Physical maximum for channel 0 (HB_1) is 0.0010650949874113065, which has 21 chars, however, EDF+ can only save 8 chars, will be truncated to 0.001065, some loss of precision is to be expected.\n",
      "  warnings.warn('Physical maximum for channel {} ({}) is {}, which has {} chars, '\n",
      "C:\\Users\\naikh\\anaconda3\\envs\\TensorFlowEnv\\Lib\\site-packages\\pyedflib\\edfwriter.py:133: UserWarning: Physical minimum for channel 1 (HB_2) is -0.002999942836993972, which has 21 chars, however, EDF+ can only save 8 chars, will be truncated to -0.00299, some loss of precision is to be expected\n",
      "  warnings.warn('Physical minimum for channel {} ({}) is {}, which has {} chars, '\n",
      "C:\\Users\\naikh\\anaconda3\\envs\\TensorFlowEnv\\Lib\\site-packages\\pyedflib\\edfwriter.py:140: UserWarning: Physical maximum for channel 1 (HB_2) is -0.0006610041193743803, which has 22 chars, however, EDF+ can only save 8 chars, will be truncated to -0.00066, some loss of precision is to be expected.\n",
      "  warnings.warn('Physical maximum for channel {} ({}) is {}, which has {} chars, '\n"
     ]
    },
    {
     "name": "stdout",
     "output_type": "stream",
     "text": [
      "Extracting EDF parameters from C:\\Users\\naikh\\SleepResearchCode_experient\\Dataset_clean_for_jupyter\\sub-123\\eeg\\sub-123_task-Sleep_acq-headband_eeg.edf...\n",
      "EDF file detected\n",
      "Setting channel info structure...\n",
      "Creating raw.info structure...\n",
      "Reading 0 ... 6755583  =      0.000 ... 26388.996 secs...\n"
     ]
    },
    {
     "name": "stderr",
     "output_type": "stream",
     "text": [
      "C:\\Users\\naikh\\AppData\\Local\\Temp\\ipykernel_22900\\606145124.py:6: RuntimeWarning: Channels contain different highpass filters. Highest filter setting will be stored.\n",
      "  raw = mne.io.read_raw_edf(file_path, preload=True)\n",
      "C:\\Users\\naikh\\AppData\\Local\\Temp\\ipykernel_22900\\606145124.py:6: RuntimeWarning: Channels contain different lowpass filters. Lowest filter setting will be stored.\n",
      "  raw = mne.io.read_raw_edf(file_path, preload=True)\n",
      "C:\\Users\\naikh\\anaconda3\\envs\\TensorFlowEnv\\Lib\\site-packages\\pyedflib\\edfwriter.py:140: UserWarning: Physical maximum for channel 0 (HB_1) is 0.0018519111924925609, which has 21 chars, however, EDF+ can only save 8 chars, will be truncated to 0.001851, some loss of precision is to be expected.\n",
      "  warnings.warn('Physical maximum for channel {} ({}) is {}, which has {} chars, '\n",
      "C:\\Users\\naikh\\anaconda3\\envs\\TensorFlowEnv\\Lib\\site-packages\\pyedflib\\edfwriter.py:140: UserWarning: Physical maximum for channel 1 (HB_2) is 0.0019742275120164794, which has 21 chars, however, EDF+ can only save 8 chars, will be truncated to 0.001974, some loss of precision is to be expected.\n",
      "  warnings.warn('Physical maximum for channel {} ({}) is {}, which has {} chars, '\n"
     ]
    },
    {
     "name": "stdout",
     "output_type": "stream",
     "text": [
      "Extracting EDF parameters from C:\\Users\\naikh\\SleepResearchCode_experient\\Dataset_clean_for_jupyter\\sub-124\\eeg\\sub-124_task-Sleep_acq-headband_eeg.edf...\n",
      "EDF file detected\n",
      "Setting channel info structure...\n",
      "Creating raw.info structure...\n",
      "Reading 0 ... 6828031  =      0.000 ... 26671.996 secs...\n"
     ]
    },
    {
     "name": "stderr",
     "output_type": "stream",
     "text": [
      "C:\\Users\\naikh\\AppData\\Local\\Temp\\ipykernel_22900\\606145124.py:6: RuntimeWarning: Channels contain different highpass filters. Highest filter setting will be stored.\n",
      "  raw = mne.io.read_raw_edf(file_path, preload=True)\n",
      "C:\\Users\\naikh\\AppData\\Local\\Temp\\ipykernel_22900\\606145124.py:6: RuntimeWarning: Channels contain different lowpass filters. Lowest filter setting will be stored.\n",
      "  raw = mne.io.read_raw_edf(file_path, preload=True)\n",
      "C:\\Users\\naikh\\anaconda3\\envs\\TensorFlowEnv\\Lib\\site-packages\\pyedflib\\edfwriter.py:133: UserWarning: Physical minimum for channel 0 (HB_1) is -0.0017230549522697794, which has 22 chars, however, EDF+ can only save 8 chars, will be truncated to -0.00172, some loss of precision is to be expected\n",
      "  warnings.warn('Physical minimum for channel {} ({}) is {}, which has {} chars, '\n",
      "C:\\Users\\naikh\\anaconda3\\envs\\TensorFlowEnv\\Lib\\site-packages\\pyedflib\\edfwriter.py:140: UserWarning: Physical maximum for channel 0 (HB_1) is 0.0008059246223086902, which has 21 chars, however, EDF+ can only save 8 chars, will be truncated to 0.000805, some loss of precision is to be expected.\n",
      "  warnings.warn('Physical maximum for channel {} ({}) is {}, which has {} chars, '\n",
      "C:\\Users\\naikh\\anaconda3\\envs\\TensorFlowEnv\\Lib\\site-packages\\pyedflib\\edfwriter.py:133: UserWarning: Physical minimum for channel 1 (HB_2) is -0.0017247246869459068, which has 22 chars, however, EDF+ can only save 8 chars, will be truncated to -0.00172, some loss of precision is to be expected\n",
      "  warnings.warn('Physical minimum for channel {} ({}) is {}, which has {} chars, '\n",
      "C:\\Users\\naikh\\anaconda3\\envs\\TensorFlowEnv\\Lib\\site-packages\\pyedflib\\edfwriter.py:140: UserWarning: Physical maximum for channel 1 (HB_2) is 0.0008316565727779047, which has 21 chars, however, EDF+ can only save 8 chars, will be truncated to 0.000831, some loss of precision is to be expected.\n",
      "  warnings.warn('Physical maximum for channel {} ({}) is {}, which has {} chars, '\n"
     ]
    },
    {
     "name": "stdout",
     "output_type": "stream",
     "text": [
      "Extracting EDF parameters from C:\\Users\\naikh\\SleepResearchCode_experient\\Dataset_clean_for_jupyter\\sub-125\\eeg\\sub-125_task-Sleep_acq-headband_eeg.edf...\n",
      "EDF file detected\n",
      "Setting channel info structure...\n",
      "Creating raw.info structure...\n",
      "Reading 0 ... 7508735  =      0.000 ... 29330.996 secs...\n"
     ]
    },
    {
     "name": "stderr",
     "output_type": "stream",
     "text": [
      "C:\\Users\\naikh\\AppData\\Local\\Temp\\ipykernel_22900\\606145124.py:6: RuntimeWarning: Channels contain different highpass filters. Highest filter setting will be stored.\n",
      "  raw = mne.io.read_raw_edf(file_path, preload=True)\n",
      "C:\\Users\\naikh\\AppData\\Local\\Temp\\ipykernel_22900\\606145124.py:6: RuntimeWarning: Channels contain different lowpass filters. Lowest filter setting will be stored.\n",
      "  raw = mne.io.read_raw_edf(file_path, preload=True)\n",
      "C:\\Users\\naikh\\anaconda3\\envs\\TensorFlowEnv\\Lib\\site-packages\\pyedflib\\edfwriter.py:133: UserWarning: Physical minimum for channel 0 (HB_1) is -0.0008129476653223469, which has 22 chars, however, EDF+ can only save 8 chars, will be truncated to -0.00081, some loss of precision is to be expected\n",
      "  warnings.warn('Physical minimum for channel {} ({}) is {}, which has {} chars, '\n",
      "C:\\Users\\naikh\\anaconda3\\envs\\TensorFlowEnv\\Lib\\site-packages\\pyedflib\\edfwriter.py:140: UserWarning: Physical maximum for channel 0 (HB_1) is 0.0005046866428259709, which has 21 chars, however, EDF+ can only save 8 chars, will be truncated to 0.000504, some loss of precision is to be expected.\n",
      "  warnings.warn('Physical maximum for channel {} ({}) is {}, which has {} chars, '\n",
      "C:\\Users\\naikh\\anaconda3\\envs\\TensorFlowEnv\\Lib\\site-packages\\pyedflib\\edfwriter.py:133: UserWarning: Physical minimum for channel 1 (HB_2) is -0.0007823915188281071, which has 22 chars, however, EDF+ can only save 8 chars, will be truncated to -0.00078, some loss of precision is to be expected\n",
      "  warnings.warn('Physical minimum for channel {} ({}) is {}, which has {} chars, '\n",
      "C:\\Users\\naikh\\anaconda3\\envs\\TensorFlowEnv\\Lib\\site-packages\\pyedflib\\edfwriter.py:140: UserWarning: Physical maximum for channel 1 (HB_2) is 0.0006047192681345845, which has 21 chars, however, EDF+ can only save 8 chars, will be truncated to 0.000604, some loss of precision is to be expected.\n",
      "  warnings.warn('Physical maximum for channel {} ({}) is {}, which has {} chars, '\n"
     ]
    },
    {
     "name": "stdout",
     "output_type": "stream",
     "text": [
      "Extracting EDF parameters from C:\\Users\\naikh\\SleepResearchCode_experient\\Dataset_clean_for_jupyter\\sub-126\\eeg\\sub-126_task-Sleep_acq-headband_eeg.edf...\n",
      "EDF file detected\n",
      "Setting channel info structure...\n",
      "Creating raw.info structure...\n",
      "Reading 0 ... 6689279  =      0.000 ... 26129.996 secs...\n"
     ]
    },
    {
     "name": "stderr",
     "output_type": "stream",
     "text": [
      "C:\\Users\\naikh\\AppData\\Local\\Temp\\ipykernel_22900\\606145124.py:6: RuntimeWarning: Channels contain different highpass filters. Highest filter setting will be stored.\n",
      "  raw = mne.io.read_raw_edf(file_path, preload=True)\n",
      "C:\\Users\\naikh\\AppData\\Local\\Temp\\ipykernel_22900\\606145124.py:6: RuntimeWarning: Channels contain different lowpass filters. Lowest filter setting will be stored.\n",
      "  raw = mne.io.read_raw_edf(file_path, preload=True)\n",
      "C:\\Users\\naikh\\anaconda3\\envs\\TensorFlowEnv\\Lib\\site-packages\\pyedflib\\edfwriter.py:133: UserWarning: Physical minimum for channel 0 (HB_1) is -0.0029999261059433886, which has 22 chars, however, EDF+ can only save 8 chars, will be truncated to -0.00299, some loss of precision is to be expected\n",
      "  warnings.warn('Physical minimum for channel {} ({}) is {}, which has {} chars, '\n",
      "C:\\Users\\naikh\\anaconda3\\envs\\TensorFlowEnv\\Lib\\site-packages\\pyedflib\\edfwriter.py:140: UserWarning: Physical maximum for channel 0 (HB_1) is 0.0009085522303807122, which has 21 chars, however, EDF+ can only save 8 chars, will be truncated to 0.000908, some loss of precision is to be expected.\n",
      "  warnings.warn('Physical maximum for channel {} ({}) is {}, which has {} chars, '\n"
     ]
    },
    {
     "name": "stdout",
     "output_type": "stream",
     "text": [
      "Extracting EDF parameters from C:\\Users\\naikh\\SleepResearchCode_experient\\Dataset_clean_for_jupyter\\sub-127\\eeg\\sub-127_task-Sleep_acq-headband_eeg.edf...\n",
      "EDF file detected\n",
      "Setting channel info structure...\n",
      "Creating raw.info structure...\n",
      "Reading 0 ... 6391295  =      0.000 ... 24965.996 secs...\n"
     ]
    },
    {
     "name": "stderr",
     "output_type": "stream",
     "text": [
      "C:\\Users\\naikh\\AppData\\Local\\Temp\\ipykernel_22900\\606145124.py:6: RuntimeWarning: Channels contain different highpass filters. Highest filter setting will be stored.\n",
      "  raw = mne.io.read_raw_edf(file_path, preload=True)\n",
      "C:\\Users\\naikh\\AppData\\Local\\Temp\\ipykernel_22900\\606145124.py:6: RuntimeWarning: Channels contain different lowpass filters. Lowest filter setting will be stored.\n",
      "  raw = mne.io.read_raw_edf(file_path, preload=True)\n",
      "C:\\Users\\naikh\\anaconda3\\envs\\TensorFlowEnv\\Lib\\site-packages\\pyedflib\\edfwriter.py:133: UserWarning: Physical minimum for channel 1 (HB_2) is -0.0029999285871061265, which has 22 chars, however, EDF+ can only save 8 chars, will be truncated to -0.00299, some loss of precision is to be expected\n",
      "  warnings.warn('Physical minimum for channel {} ({}) is {}, which has {} chars, '\n",
      "C:\\Users\\naikh\\anaconda3\\envs\\TensorFlowEnv\\Lib\\site-packages\\pyedflib\\edfwriter.py:140: UserWarning: Physical maximum for channel 1 (HB_2) is 0.0006504843090257113, which has 21 chars, however, EDF+ can only save 8 chars, will be truncated to 0.000650, some loss of precision is to be expected.\n",
      "  warnings.warn('Physical maximum for channel {} ({}) is {}, which has {} chars, '\n"
     ]
    },
    {
     "name": "stdout",
     "output_type": "stream",
     "text": [
      "Extracting EDF parameters from C:\\Users\\naikh\\SleepResearchCode_experient\\Dataset_clean_for_jupyter\\sub-128\\eeg\\sub-128_task-Sleep_acq-headband_eeg.edf...\n",
      "EDF file detected\n",
      "Setting channel info structure...\n",
      "Creating raw.info structure...\n",
      "Reading 0 ... 6309887  =      0.000 ... 24647.996 secs...\n"
     ]
    },
    {
     "name": "stderr",
     "output_type": "stream",
     "text": [
      "C:\\Users\\naikh\\AppData\\Local\\Temp\\ipykernel_22900\\606145124.py:6: RuntimeWarning: Channels contain different highpass filters. Highest filter setting will be stored.\n",
      "  raw = mne.io.read_raw_edf(file_path, preload=True)\n",
      "C:\\Users\\naikh\\AppData\\Local\\Temp\\ipykernel_22900\\606145124.py:6: RuntimeWarning: Channels contain different lowpass filters. Lowest filter setting will be stored.\n",
      "  raw = mne.io.read_raw_edf(file_path, preload=True)\n",
      "C:\\Users\\naikh\\anaconda3\\envs\\TensorFlowEnv\\Lib\\site-packages\\pyedflib\\edfwriter.py:133: UserWarning: Physical minimum for channel 0 (HB_1) is -0.002639105125505455, which has 21 chars, however, EDF+ can only save 8 chars, will be truncated to -0.00263, some loss of precision is to be expected\n",
      "  warnings.warn('Physical minimum for channel {} ({}) is {}, which has {} chars, '\n"
     ]
    }
   ],
   "source": [
    "for i in range(1,129):\n",
    "    filter_2_channels(i)"
   ]
  },
  {
   "cell_type": "code",
   "execution_count": null,
   "id": "260e9aac-9b4b-4f4c-a50b-80b14525709f",
   "metadata": {},
   "outputs": [],
   "source": []
  }
 ],
 "metadata": {
  "kernelspec": {
   "display_name": "Python 3 (ipykernel)",
   "language": "python",
   "name": "python3"
  },
  "language_info": {
   "codemirror_mode": {
    "name": "ipython",
    "version": 3
   },
   "file_extension": ".py",
   "mimetype": "text/x-python",
   "name": "python",
   "nbconvert_exporter": "python",
   "pygments_lexer": "ipython3",
   "version": "3.12.9"
  }
 },
 "nbformat": 4,
 "nbformat_minor": 5
}
