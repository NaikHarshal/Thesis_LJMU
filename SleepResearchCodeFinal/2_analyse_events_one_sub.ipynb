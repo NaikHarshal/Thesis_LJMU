{
 "cells": [
  {
   "cell_type": "code",
   "execution_count": 1,
   "id": "fdbb3485-e581-4827-b4e9-d378f94d22c2",
   "metadata": {},
   "outputs": [],
   "source": [
    "import pandas as pd"
   ]
  },
  {
   "cell_type": "code",
   "execution_count": 2,
   "id": "436163b3-2e72-404a-a1bb-f0916e2b25bb",
   "metadata": {},
   "outputs": [],
   "source": [
    "sub_no = 90"
   ]
  },
  {
   "cell_type": "code",
   "execution_count": 3,
   "id": "534d4ac1-e0f3-4455-bd85-75975a56212e",
   "metadata": {},
   "outputs": [],
   "source": [
    "event_1_psg = pd.read_csv(f'Dataset_clean_for_jupyter\\\\sub-{sub_no}\\\\eeg\\\\sub-{sub_no}_task-Sleep_acq-psg_events.tsv',sep = '\\t')\n",
    "event_1_hb = pd.read_csv(f'Dataset_clean_for_jupyter\\\\sub-{sub_no}\\\\eeg\\\\sub-{sub_no}_task-Sleep_acq-headband_events.tsv',sep = '\\t')"
   ]
  },
  {
   "cell_type": "code",
   "execution_count": 4,
   "id": "58c93c44-652b-44f9-990a-dcdd21427cd2",
   "metadata": {},
   "outputs": [
    {
     "data": {
      "text/html": [
       "<div>\n",
       "<style scoped>\n",
       "    .dataframe tbody tr th:only-of-type {\n",
       "        vertical-align: middle;\n",
       "    }\n",
       "\n",
       "    .dataframe tbody tr th {\n",
       "        vertical-align: top;\n",
       "    }\n",
       "\n",
       "    .dataframe thead th {\n",
       "        text-align: right;\n",
       "    }\n",
       "</style>\n",
       "<table border=\"1\" class=\"dataframe\">\n",
       "  <thead>\n",
       "    <tr style=\"text-align: right;\">\n",
       "      <th></th>\n",
       "      <th>onset</th>\n",
       "      <th>duration</th>\n",
       "      <th>begsample</th>\n",
       "      <th>endsample</th>\n",
       "      <th>offset</th>\n",
       "      <th>majority</th>\n",
       "      <th>ai_psg</th>\n",
       "    </tr>\n",
       "  </thead>\n",
       "  <tbody>\n",
       "    <tr>\n",
       "      <th>0</th>\n",
       "      <td>0</td>\n",
       "      <td>30</td>\n",
       "      <td>1</td>\n",
       "      <td>7680</td>\n",
       "      <td>0</td>\n",
       "      <td>0</td>\n",
       "      <td>0</td>\n",
       "    </tr>\n",
       "    <tr>\n",
       "      <th>1</th>\n",
       "      <td>30</td>\n",
       "      <td>30</td>\n",
       "      <td>7681</td>\n",
       "      <td>15360</td>\n",
       "      <td>0</td>\n",
       "      <td>0</td>\n",
       "      <td>0</td>\n",
       "    </tr>\n",
       "    <tr>\n",
       "      <th>2</th>\n",
       "      <td>60</td>\n",
       "      <td>30</td>\n",
       "      <td>15361</td>\n",
       "      <td>23040</td>\n",
       "      <td>0</td>\n",
       "      <td>0</td>\n",
       "      <td>0</td>\n",
       "    </tr>\n",
       "    <tr>\n",
       "      <th>3</th>\n",
       "      <td>90</td>\n",
       "      <td>30</td>\n",
       "      <td>23041</td>\n",
       "      <td>30720</td>\n",
       "      <td>0</td>\n",
       "      <td>0</td>\n",
       "      <td>0</td>\n",
       "    </tr>\n",
       "    <tr>\n",
       "      <th>4</th>\n",
       "      <td>120</td>\n",
       "      <td>30</td>\n",
       "      <td>30721</td>\n",
       "      <td>38400</td>\n",
       "      <td>0</td>\n",
       "      <td>0</td>\n",
       "      <td>0</td>\n",
       "    </tr>\n",
       "  </tbody>\n",
       "</table>\n",
       "</div>"
      ],
      "text/plain": [
       "   onset  duration  begsample  endsample  offset  majority  ai_psg\n",
       "0      0        30          1       7680       0         0       0\n",
       "1     30        30       7681      15360       0         0       0\n",
       "2     60        30      15361      23040       0         0       0\n",
       "3     90        30      23041      30720       0         0       0\n",
       "4    120        30      30721      38400       0         0       0"
      ]
     },
     "execution_count": 4,
     "metadata": {},
     "output_type": "execute_result"
    }
   ],
   "source": [
    "event_1_psg.head()"
   ]
  },
  {
   "cell_type": "code",
   "execution_count": 5,
   "id": "b84fdbe6-0ff2-4058-a291-102fbbee5e83",
   "metadata": {},
   "outputs": [
    {
     "data": {
      "text/html": [
       "<div>\n",
       "<style scoped>\n",
       "    .dataframe tbody tr th:only-of-type {\n",
       "        vertical-align: middle;\n",
       "    }\n",
       "\n",
       "    .dataframe tbody tr th {\n",
       "        vertical-align: top;\n",
       "    }\n",
       "\n",
       "    .dataframe thead th {\n",
       "        text-align: right;\n",
       "    }\n",
       "</style>\n",
       "<table border=\"1\" class=\"dataframe\">\n",
       "  <thead>\n",
       "    <tr style=\"text-align: right;\">\n",
       "      <th></th>\n",
       "      <th>onset</th>\n",
       "      <th>duration</th>\n",
       "      <th>begsample</th>\n",
       "      <th>endsample</th>\n",
       "      <th>offset</th>\n",
       "      <th>ai_hb</th>\n",
       "    </tr>\n",
       "  </thead>\n",
       "  <tbody>\n",
       "    <tr>\n",
       "      <th>0</th>\n",
       "      <td>0</td>\n",
       "      <td>30</td>\n",
       "      <td>1</td>\n",
       "      <td>7680</td>\n",
       "      <td>0</td>\n",
       "      <td>0</td>\n",
       "    </tr>\n",
       "    <tr>\n",
       "      <th>1</th>\n",
       "      <td>30</td>\n",
       "      <td>30</td>\n",
       "      <td>7681</td>\n",
       "      <td>15360</td>\n",
       "      <td>0</td>\n",
       "      <td>0</td>\n",
       "    </tr>\n",
       "    <tr>\n",
       "      <th>2</th>\n",
       "      <td>60</td>\n",
       "      <td>30</td>\n",
       "      <td>15361</td>\n",
       "      <td>23040</td>\n",
       "      <td>0</td>\n",
       "      <td>0</td>\n",
       "    </tr>\n",
       "    <tr>\n",
       "      <th>3</th>\n",
       "      <td>90</td>\n",
       "      <td>30</td>\n",
       "      <td>23041</td>\n",
       "      <td>30720</td>\n",
       "      <td>0</td>\n",
       "      <td>0</td>\n",
       "    </tr>\n",
       "    <tr>\n",
       "      <th>4</th>\n",
       "      <td>120</td>\n",
       "      <td>30</td>\n",
       "      <td>30721</td>\n",
       "      <td>38400</td>\n",
       "      <td>0</td>\n",
       "      <td>0</td>\n",
       "    </tr>\n",
       "  </tbody>\n",
       "</table>\n",
       "</div>"
      ],
      "text/plain": [
       "   onset  duration  begsample  endsample  offset  ai_hb\n",
       "0      0        30          1       7680       0      0\n",
       "1     30        30       7681      15360       0      0\n",
       "2     60        30      15361      23040       0      0\n",
       "3     90        30      23041      30720       0      0\n",
       "4    120        30      30721      38400       0      0"
      ]
     },
     "execution_count": 5,
     "metadata": {},
     "output_type": "execute_result"
    }
   ],
   "source": [
    "event_1_hb.head()"
   ]
  },
  {
   "cell_type": "code",
   "execution_count": 6,
   "id": "dfe92444-958a-496c-86a0-c4e5351c6c68",
   "metadata": {},
   "outputs": [
    {
     "name": "stdout",
     "output_type": "stream",
     "text": [
      "Are the specified columns equal in both files? \n",
      ":->  True\n"
     ]
    }
   ],
   "source": [
    "\n",
    "# Select the columns of interest\n",
    "cols_to_compare = ['onset', 'duration', 'begsample', 'endsample', 'offset']\n",
    "\n",
    "# Check for equality of the selected columns\n",
    "comparison_result = event_1_psg[cols_to_compare].equals(event_1_hb[cols_to_compare])\n",
    "\n",
    "# Print the result\n",
    "print(f\"Are the specified columns equal in both files? \\n:->  {comparison_result}\")"
   ]
  },
  {
   "cell_type": "code",
   "execution_count": 7,
   "id": "05e5bf70-003d-4f51-a80a-a4eb70a1a7e4",
   "metadata": {},
   "outputs": [
    {
     "name": "stdout",
     "output_type": "stream",
     "text": [
      "0 0\n"
     ]
    }
   ],
   "source": [
    "print( event_1_hb['offset'].sum(),event_1_psg['offset'].sum())"
   ]
  },
  {
   "cell_type": "code",
   "execution_count": 8,
   "id": "1923f7e3-3d00-4f61-b8ea-4e418a94a81e",
   "metadata": {},
   "outputs": [
    {
     "name": "stdout",
     "output_type": "stream",
     "text": [
      "<class 'pandas.core.frame.DataFrame'>\n",
      "RangeIndex: 1040 entries, 0 to 1039\n",
      "Data columns (total 6 columns):\n",
      " #   Column     Non-Null Count  Dtype\n",
      "---  ------     --------------  -----\n",
      " 0   onset      1040 non-null   int64\n",
      " 1   duration   1040 non-null   int64\n",
      " 2   begsample  1040 non-null   int64\n",
      " 3   endsample  1040 non-null   int64\n",
      " 4   offset     1040 non-null   int64\n",
      " 5   ai_hb      1040 non-null   int64\n",
      "dtypes: int64(6)\n",
      "memory usage: 48.9 KB\n"
     ]
    }
   ],
   "source": [
    "event_1_hb.info()"
   ]
  },
  {
   "cell_type": "markdown",
   "id": "284eed35-c740-4ce8-887a-e5fcc3cbbf0a",
   "metadata": {},
   "source": [
    "ok, so now we can combine these 2 datasets on column onset (1 row will indicates a sample of 30 sec)"
   ]
  },
  {
   "cell_type": "code",
   "execution_count": 9,
   "id": "7117f223-788f-438c-9537-eb3e26138faf",
   "metadata": {},
   "outputs": [],
   "source": [
    "merged_labels_df = pd.merge(event_1_psg[['onset','majority','ai_psg']], event_1_hb[['onset','ai_hb']], on='onset', suffixes=('_psg', '_hb'))\n"
   ]
  },
  {
   "cell_type": "code",
   "execution_count": 10,
   "id": "a0271c60-8b14-4fdf-a794-2cd1efb7e4a6",
   "metadata": {},
   "outputs": [
    {
     "data": {
      "text/html": [
       "<div>\n",
       "<style scoped>\n",
       "    .dataframe tbody tr th:only-of-type {\n",
       "        vertical-align: middle;\n",
       "    }\n",
       "\n",
       "    .dataframe tbody tr th {\n",
       "        vertical-align: top;\n",
       "    }\n",
       "\n",
       "    .dataframe thead th {\n",
       "        text-align: right;\n",
       "    }\n",
       "</style>\n",
       "<table border=\"1\" class=\"dataframe\">\n",
       "  <thead>\n",
       "    <tr style=\"text-align: right;\">\n",
       "      <th></th>\n",
       "      <th>onset</th>\n",
       "      <th>majority</th>\n",
       "      <th>ai_psg</th>\n",
       "      <th>ai_hb</th>\n",
       "    </tr>\n",
       "  </thead>\n",
       "  <tbody>\n",
       "    <tr>\n",
       "      <th>0</th>\n",
       "      <td>0</td>\n",
       "      <td>0</td>\n",
       "      <td>0</td>\n",
       "      <td>0</td>\n",
       "    </tr>\n",
       "    <tr>\n",
       "      <th>1</th>\n",
       "      <td>30</td>\n",
       "      <td>0</td>\n",
       "      <td>0</td>\n",
       "      <td>0</td>\n",
       "    </tr>\n",
       "    <tr>\n",
       "      <th>2</th>\n",
       "      <td>60</td>\n",
       "      <td>0</td>\n",
       "      <td>0</td>\n",
       "      <td>0</td>\n",
       "    </tr>\n",
       "    <tr>\n",
       "      <th>3</th>\n",
       "      <td>90</td>\n",
       "      <td>0</td>\n",
       "      <td>0</td>\n",
       "      <td>0</td>\n",
       "    </tr>\n",
       "    <tr>\n",
       "      <th>4</th>\n",
       "      <td>120</td>\n",
       "      <td>0</td>\n",
       "      <td>0</td>\n",
       "      <td>0</td>\n",
       "    </tr>\n",
       "  </tbody>\n",
       "</table>\n",
       "</div>"
      ],
      "text/plain": [
       "   onset  majority  ai_psg  ai_hb\n",
       "0      0         0       0      0\n",
       "1     30         0       0      0\n",
       "2     60         0       0      0\n",
       "3     90         0       0      0\n",
       "4    120         0       0      0"
      ]
     },
     "execution_count": 10,
     "metadata": {},
     "output_type": "execute_result"
    }
   ],
   "source": [
    "merged_labels_df.head()"
   ]
  },
  {
   "cell_type": "code",
   "execution_count": 11,
   "id": "3eab9c95-3bb1-42fd-b81f-0d8a03af4e7d",
   "metadata": {},
   "outputs": [
    {
     "name": "stdout",
     "output_type": "stream",
     "text": [
      "<class 'pandas.core.frame.DataFrame'>\n",
      "RangeIndex: 1040 entries, 0 to 1039\n",
      "Data columns (total 4 columns):\n",
      " #   Column    Non-Null Count  Dtype\n",
      "---  ------    --------------  -----\n",
      " 0   onset     1040 non-null   int64\n",
      " 1   majority  1040 non-null   int64\n",
      " 2   ai_psg    1040 non-null   int64\n",
      " 3   ai_hb     1040 non-null   int64\n",
      "dtypes: int64(4)\n",
      "memory usage: 32.6 KB\n"
     ]
    }
   ],
   "source": [
    "merged_labels_df.info()"
   ]
  },
  {
   "cell_type": "code",
   "execution_count": 12,
   "id": "81adcfb2-e5bf-4d8b-b2c1-79c5c0cb51e2",
   "metadata": {},
   "outputs": [
    {
     "data": {
      "text/html": [
       "<div>\n",
       "<style scoped>\n",
       "    .dataframe tbody tr th:only-of-type {\n",
       "        vertical-align: middle;\n",
       "    }\n",
       "\n",
       "    .dataframe tbody tr th {\n",
       "        vertical-align: top;\n",
       "    }\n",
       "\n",
       "    .dataframe thead th {\n",
       "        text-align: right;\n",
       "    }\n",
       "</style>\n",
       "<table border=\"1\" class=\"dataframe\">\n",
       "  <thead>\n",
       "    <tr style=\"text-align: right;\">\n",
       "      <th></th>\n",
       "      <th>onset</th>\n",
       "      <th>majority</th>\n",
       "      <th>ai_psg</th>\n",
       "      <th>ai_hb</th>\n",
       "    </tr>\n",
       "  </thead>\n",
       "  <tbody>\n",
       "    <tr>\n",
       "      <th>count</th>\n",
       "      <td>1040.000000</td>\n",
       "      <td>1040.000000</td>\n",
       "      <td>1040.000000</td>\n",
       "      <td>1040.000000</td>\n",
       "    </tr>\n",
       "    <tr>\n",
       "      <th>mean</th>\n",
       "      <td>15585.000000</td>\n",
       "      <td>1.890385</td>\n",
       "      <td>1.892308</td>\n",
       "      <td>1.640385</td>\n",
       "    </tr>\n",
       "    <tr>\n",
       "      <th>std</th>\n",
       "      <td>9010.993286</td>\n",
       "      <td>1.332753</td>\n",
       "      <td>1.325670</td>\n",
       "      <td>1.547920</td>\n",
       "    </tr>\n",
       "    <tr>\n",
       "      <th>min</th>\n",
       "      <td>0.000000</td>\n",
       "      <td>0.000000</td>\n",
       "      <td>-2.000000</td>\n",
       "      <td>-2.000000</td>\n",
       "    </tr>\n",
       "    <tr>\n",
       "      <th>25%</th>\n",
       "      <td>7792.500000</td>\n",
       "      <td>2.000000</td>\n",
       "      <td>1.000000</td>\n",
       "      <td>0.000000</td>\n",
       "    </tr>\n",
       "    <tr>\n",
       "      <th>50%</th>\n",
       "      <td>15585.000000</td>\n",
       "      <td>2.000000</td>\n",
       "      <td>2.000000</td>\n",
       "      <td>2.000000</td>\n",
       "    </tr>\n",
       "    <tr>\n",
       "      <th>75%</th>\n",
       "      <td>23377.500000</td>\n",
       "      <td>2.000000</td>\n",
       "      <td>2.000000</td>\n",
       "      <td>2.000000</td>\n",
       "    </tr>\n",
       "    <tr>\n",
       "      <th>max</th>\n",
       "      <td>31170.000000</td>\n",
       "      <td>8.000000</td>\n",
       "      <td>4.000000</td>\n",
       "      <td>4.000000</td>\n",
       "    </tr>\n",
       "  </tbody>\n",
       "</table>\n",
       "</div>"
      ],
      "text/plain": [
       "              onset     majority       ai_psg        ai_hb\n",
       "count   1040.000000  1040.000000  1040.000000  1040.000000\n",
       "mean   15585.000000     1.890385     1.892308     1.640385\n",
       "std     9010.993286     1.332753     1.325670     1.547920\n",
       "min        0.000000     0.000000    -2.000000    -2.000000\n",
       "25%     7792.500000     2.000000     1.000000     0.000000\n",
       "50%    15585.000000     2.000000     2.000000     2.000000\n",
       "75%    23377.500000     2.000000     2.000000     2.000000\n",
       "max    31170.000000     8.000000     4.000000     4.000000"
      ]
     },
     "execution_count": 12,
     "metadata": {},
     "output_type": "execute_result"
    }
   ],
   "source": [
    "merged_labels_df.describe()"
   ]
  },
  {
   "cell_type": "markdown",
   "id": "9d9293b6-50ff-4ce9-b1b8-90e8f91a216e",
   "metadata": {},
   "source": [
    "somethings not right, lets see the actual results "
   ]
  },
  {
   "cell_type": "code",
   "execution_count": 13,
   "id": "25a5d7e9-f43b-485a-86f2-7d28f80a9f04",
   "metadata": {},
   "outputs": [],
   "source": [
    "\n",
    "def analyze_label_distribution(df):\n",
    "    \"\"\"\n",
    "    Analyzes the distribution of labels in each column ('majority', 'ai_psg', 'ai_hb').\n",
    "\n",
    "    Args:\n",
    "        df: DataFrame with 'onset', 'majority', 'ai_psg', and 'ai_hb' columns.\n",
    "\n",
    "    Returns:\n",
    "        A dictionary containing the unique labels and their counts for each column.\n",
    "    \"\"\"\n",
    "\n",
    "    label_distributions = {}\n",
    "    for col in ['majority', 'ai_psg', 'ai_hb']:\n",
    "        label_distributions[col] = df[col].value_counts().to_dict()\n",
    "\n",
    "    return label_distributions"
   ]
  },
  {
   "cell_type": "code",
   "execution_count": 14,
   "id": "d6bfbb89-6e09-4ddc-9f5d-0c1e72a8d582",
   "metadata": {},
   "outputs": [
    {
     "name": "stdout",
     "output_type": "stream",
     "text": [
      "Label Distribution for 'majority':\n",
      "  - 2: 620\n",
      "  - 0: 227\n",
      "  - 4: 159\n",
      "  - 1: 26\n",
      "  - 8: 8\n",
      "\n",
      "Label Distribution for 'ai_psg':\n",
      "  - 2: 576\n",
      "  - 0: 233\n",
      "  - 4: 200\n",
      "  - 1: 26\n",
      "  - -2: 5\n",
      "\n",
      "Label Distribution for 'ai_hb':\n",
      "  - 2: 540\n",
      "  - 0: 234\n",
      "  - 4: 179\n",
      "  - -2: 59\n",
      "  - 1: 28\n",
      "\n"
     ]
    }
   ],
   "source": [
    "# Analyze label distributions\n",
    "label_distributions = analyze_label_distribution(merged_labels_df)\n",
    "\n",
    "# Print the results\n",
    "for col, label_counts in label_distributions.items():\n",
    "    print(f\"Label Distribution for '{col}':\")\n",
    "    for label, count in label_counts.items():\n",
    "        print(f\"  - {label}: {count}\")\n",
    "    print()"
   ]
  }
 ],
 "metadata": {
  "kernelspec": {
   "display_name": "Python 3 (ipykernel)",
   "language": "python",
   "name": "python3"
  },
  "language_info": {
   "codemirror_mode": {
    "name": "ipython",
    "version": 3
   },
   "file_extension": ".py",
   "mimetype": "text/x-python",
   "name": "python",
   "nbconvert_exporter": "python",
   "pygments_lexer": "ipython3",
   "version": "3.12.9"
  }
 },
 "nbformat": 4,
 "nbformat_minor": 5
}
