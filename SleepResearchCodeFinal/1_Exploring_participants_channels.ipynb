{
 "cells": [
  {
   "cell_type": "code",
   "execution_count": 1,
   "id": "8b08e63e-6428-46aa-9971-4b34dd5ef087",
   "metadata": {},
   "outputs": [],
   "source": [
    "import pandas as pd"
   ]
  },
  {
   "cell_type": "code",
   "execution_count": 2,
   "id": "392ffde4-8e44-46eb-ab0f-256797e2a840",
   "metadata": {},
   "outputs": [],
   "source": [
    "participant_file = \"Final_Dataset_bitbrain_filtereed/participants.tsv\"\n",
    "channels_file = \"Final_Dataset_bitbrain_filtereed/channels.tsv\""
   ]
  },
  {
   "cell_type": "code",
   "execution_count": 3,
   "id": "68e8a266-870f-45bb-ae16-3c5f6d45d4ff",
   "metadata": {},
   "outputs": [],
   "source": [
    "par_data = pd.read_csv(participant_file , sep = '\\t')\n",
    "ch_data = pd.read_csv(channels_file , sep = '\\t')\n"
   ]
  },
  {
   "cell_type": "code",
   "execution_count": 4,
   "id": "f24152ff-1edd-41eb-90c9-cf23e6029981",
   "metadata": {},
   "outputs": [
    {
     "data": {
      "text/html": [
       "<div>\n",
       "<style scoped>\n",
       "    .dataframe tbody tr th:only-of-type {\n",
       "        vertical-align: middle;\n",
       "    }\n",
       "\n",
       "    .dataframe tbody tr th {\n",
       "        vertical-align: top;\n",
       "    }\n",
       "\n",
       "    .dataframe thead th {\n",
       "        text-align: right;\n",
       "    }\n",
       "</style>\n",
       "<table border=\"1\" class=\"dataframe\">\n",
       "  <thead>\n",
       "    <tr style=\"text-align: right;\">\n",
       "      <th></th>\n",
       "      <th>participant_id</th>\n",
       "      <th>age</th>\n",
       "      <th>sex</th>\n",
       "      <th>bmi</th>\n",
       "      <th>pid</th>\n",
       "    </tr>\n",
       "  </thead>\n",
       "  <tbody>\n",
       "    <tr>\n",
       "      <th>0</th>\n",
       "      <td>sub-1</td>\n",
       "      <td>27.0</td>\n",
       "      <td>F</td>\n",
       "      <td>19.8</td>\n",
       "      <td>89</td>\n",
       "    </tr>\n",
       "    <tr>\n",
       "      <th>1</th>\n",
       "      <td>sub-2</td>\n",
       "      <td>27.0</td>\n",
       "      <td>F</td>\n",
       "      <td>19.8</td>\n",
       "      <td>89</td>\n",
       "    </tr>\n",
       "    <tr>\n",
       "      <th>2</th>\n",
       "      <td>sub-3</td>\n",
       "      <td>27.0</td>\n",
       "      <td>M</td>\n",
       "      <td>25.1</td>\n",
       "      <td>1</td>\n",
       "    </tr>\n",
       "    <tr>\n",
       "      <th>3</th>\n",
       "      <td>sub-4</td>\n",
       "      <td>26.0</td>\n",
       "      <td>F</td>\n",
       "      <td>22.0</td>\n",
       "      <td>2</td>\n",
       "    </tr>\n",
       "    <tr>\n",
       "      <th>4</th>\n",
       "      <td>sub-5</td>\n",
       "      <td>27.0</td>\n",
       "      <td>F</td>\n",
       "      <td>20.7</td>\n",
       "      <td>3</td>\n",
       "    </tr>\n",
       "  </tbody>\n",
       "</table>\n",
       "</div>"
      ],
      "text/plain": [
       "  participant_id   age sex   bmi  pid\n",
       "0          sub-1  27.0   F  19.8   89\n",
       "1          sub-2  27.0   F  19.8   89\n",
       "2          sub-3  27.0   M  25.1    1\n",
       "3          sub-4  26.0   F  22.0    2\n",
       "4          sub-5  27.0   F  20.7    3"
      ]
     },
     "execution_count": 4,
     "metadata": {},
     "output_type": "execute_result"
    }
   ],
   "source": [
    "par_data.head()"
   ]
  },
  {
   "cell_type": "code",
   "execution_count": 5,
   "id": "6f502447-0ebb-4603-9d75-6d9d6120e1bb",
   "metadata": {},
   "outputs": [
    {
     "name": "stdout",
     "output_type": "stream",
     "text": [
      "<class 'pandas.core.frame.DataFrame'>\n",
      "RangeIndex: 128 entries, 0 to 127\n",
      "Data columns (total 5 columns):\n",
      " #   Column          Non-Null Count  Dtype  \n",
      "---  ------          --------------  -----  \n",
      " 0   participant_id  128 non-null    object \n",
      " 1   age             127 non-null    float64\n",
      " 2   sex             128 non-null    object \n",
      " 3   bmi             127 non-null    float64\n",
      " 4   pid             128 non-null    int64  \n",
      "dtypes: float64(2), int64(1), object(2)\n",
      "memory usage: 5.1+ KB\n"
     ]
    }
   ],
   "source": [
    "par_data.info()"
   ]
  },
  {
   "cell_type": "markdown",
   "id": "a337c22f-f6d0-4d7d-a6a4-40416d10a798",
   "metadata": {},
   "source": [
    "ok, now lets first see what is difference between pid and participant_id"
   ]
  },
  {
   "cell_type": "code",
   "execution_count": 6,
   "id": "78570fbf-b01b-45b2-a4d0-1dad94a280aa",
   "metadata": {},
   "outputs": [
    {
     "data": {
      "text/plain": [
       "128"
      ]
     },
     "execution_count": 6,
     "metadata": {},
     "output_type": "execute_result"
    }
   ],
   "source": [
    "par_data['participant_id'].nunique()"
   ]
  },
  {
   "cell_type": "code",
   "execution_count": 7,
   "id": "b280d326-a59a-4dfc-9df9-02c7adbed18f",
   "metadata": {},
   "outputs": [
    {
     "data": {
      "text/plain": [
       "100"
      ]
     },
     "execution_count": 7,
     "metadata": {},
     "output_type": "execute_result"
    }
   ],
   "source": [
    "par_data['pid'].nunique()"
   ]
  },
  {
   "cell_type": "markdown",
   "id": "aa688ded-4178-4987-8ea1-1429b151f9c5",
   "metadata": {
    "scrolled": true
   },
   "source": [
    "Looks like some participants are participated more than once"
   ]
  },
  {
   "cell_type": "code",
   "execution_count": 8,
   "id": "d99baa36-99d1-4a9a-9d3f-ed7cb4409de6",
   "metadata": {},
   "outputs": [
    {
     "name": "stdout",
     "output_type": "stream",
     "text": [
      "    participant_id   age sex   bmi  pid\n",
      "22          sub-23  34.0   M  28.1   15\n",
      "123        sub-124  35.0   M  27.3   15\n",
      "56          sub-57  26.0   F  20.9   77\n",
      "54          sub-55  26.0   F  20.9   77\n",
      "57          sub-58  27.0   F  19.1   78\n",
      "55          sub-56  27.0   F  19.1   78\n",
      "60          sub-61  29.0   F  20.1   79\n",
      "58          sub-59  29.0   F  20.1   79\n",
      "61          sub-62  29.0   F  24.2   80\n",
      "59          sub-60  29.0   F  24.2   80\n",
      "64          sub-65  29.0   M  27.8   81\n",
      "62          sub-63  29.0   M  27.8   81\n",
      "63          sub-64  29.0   M  24.3   82\n",
      "65          sub-66  29.0   M  24.3   82\n",
      "34          sub-35  66.0   F  23.5   83\n",
      "31          sub-32  66.0   F  23.5   83\n",
      "40          sub-41  66.0   F  23.5   83\n",
      "41          sub-42  69.0   M  26.0   84\n",
      "35          sub-36  69.0   M  26.0   84\n",
      "32          sub-33  69.0   M  26.0   84\n",
      "36          sub-37  67.0   M  23.6   86\n",
      "39          sub-40  67.0   M  23.6   86\n",
      "37          sub-38  82.0   F  27.8   87\n",
      "42          sub-43  82.0   F  27.8   87\n",
      "46          sub-47  82.0   F  27.8   87\n",
      "53          sub-54  64.0   F  24.9   88\n",
      "49          sub-50  64.0   F  24.9   88\n",
      "52          sub-53  64.0   F  24.9   88\n",
      "0            sub-1  27.0   F  19.8   89\n",
      "1            sub-2  27.0   F  19.8   89\n",
      "9           sub-10  41.0   M  26.0   91\n",
      "12          sub-13  41.0   M  26.0   91\n",
      "16          sub-17  71.0   M  24.2   92\n",
      "11          sub-12  71.0   M  24.2   92\n",
      "20          sub-21  67.0   F  27.5   93\n",
      "18          sub-19  67.0   F  27.5   93\n",
      "109        sub-110  70.0   M  25.6   96\n",
      "110        sub-111  70.0   M  25.6   96\n",
      "108        sub-109  70.0   M  25.6   96\n",
      "111        sub-112  73.0   F  21.1   97\n",
      "112        sub-113  73.0   F  21.1   97\n",
      "113        sub-114  73.0   F  21.1   97\n",
      "115        sub-116  65.0   M  25.1   98\n",
      "114        sub-115  65.0   M  25.1   98\n",
      "116        sub-117  65.0   M  25.1   98\n",
      "117        sub-118  62.0   F  26.4   99\n",
      "118        sub-119  62.0   F  26.4   99\n",
      "119        sub-120  62.0   F  26.4   99\n"
     ]
    }
   ],
   "source": [
    "# Find duplicate PIDs\n",
    "duplicate_pids = par_data[par_data.duplicated(subset=['pid'], keep=False)]\n",
    "duplicated_pids_sorted = duplicate_pids.sort_values(by='pid')\n",
    "\n",
    "# Display rows where pid is repeated\n",
    "print(duplicated_pids_sorted)\n"
   ]
  },
  {
   "cell_type": "markdown",
   "id": "03719bd7-b576-4348-9bdf-36950714b16a",
   "metadata": {},
   "source": [
    "since we are analysing demographics of people, we need to drop participant_id column, and merge duplicates "
   ]
  },
  {
   "cell_type": "code",
   "execution_count": 9,
   "id": "edd559c9-2071-490c-ab3e-a67b66129aba",
   "metadata": {},
   "outputs": [],
   "source": [
    "par_data = par_data.drop(columns=['participant_id'])"
   ]
  },
  {
   "cell_type": "code",
   "execution_count": 10,
   "id": "794b2847-981d-4923-aef7-64f53ad86a4f",
   "metadata": {},
   "outputs": [],
   "source": [
    "par_data = par_data.drop_duplicates(subset=['pid'])"
   ]
  },
  {
   "cell_type": "markdown",
   "id": "5fe603bf-0545-4c77-ba8a-c640c0ce3d36",
   "metadata": {},
   "source": [
    "additionally we can also set index to pids since they are unique"
   ]
  },
  {
   "cell_type": "code",
   "execution_count": 11,
   "id": "b2bb71de-9e45-406e-800d-368b661007b2",
   "metadata": {},
   "outputs": [],
   "source": [
    "par_data.set_index('pid', inplace=True)\n"
   ]
  },
  {
   "cell_type": "code",
   "execution_count": 12,
   "id": "37149104-4719-45ba-9099-ec012db674a1",
   "metadata": {},
   "outputs": [
    {
     "data": {
      "text/html": [
       "<div>\n",
       "<style scoped>\n",
       "    .dataframe tbody tr th:only-of-type {\n",
       "        vertical-align: middle;\n",
       "    }\n",
       "\n",
       "    .dataframe tbody tr th {\n",
       "        vertical-align: top;\n",
       "    }\n",
       "\n",
       "    .dataframe thead th {\n",
       "        text-align: right;\n",
       "    }\n",
       "</style>\n",
       "<table border=\"1\" class=\"dataframe\">\n",
       "  <thead>\n",
       "    <tr style=\"text-align: right;\">\n",
       "      <th></th>\n",
       "      <th>age</th>\n",
       "      <th>sex</th>\n",
       "      <th>bmi</th>\n",
       "    </tr>\n",
       "    <tr>\n",
       "      <th>pid</th>\n",
       "      <th></th>\n",
       "      <th></th>\n",
       "      <th></th>\n",
       "    </tr>\n",
       "  </thead>\n",
       "  <tbody>\n",
       "    <tr>\n",
       "      <th>89</th>\n",
       "      <td>27.0</td>\n",
       "      <td>F</td>\n",
       "      <td>19.8</td>\n",
       "    </tr>\n",
       "    <tr>\n",
       "      <th>1</th>\n",
       "      <td>27.0</td>\n",
       "      <td>M</td>\n",
       "      <td>25.1</td>\n",
       "    </tr>\n",
       "    <tr>\n",
       "      <th>2</th>\n",
       "      <td>26.0</td>\n",
       "      <td>F</td>\n",
       "      <td>22.0</td>\n",
       "    </tr>\n",
       "    <tr>\n",
       "      <th>3</th>\n",
       "      <td>27.0</td>\n",
       "      <td>F</td>\n",
       "      <td>20.7</td>\n",
       "    </tr>\n",
       "    <tr>\n",
       "      <th>4</th>\n",
       "      <td>26.0</td>\n",
       "      <td>F</td>\n",
       "      <td>19.0</td>\n",
       "    </tr>\n",
       "    <tr>\n",
       "      <th>...</th>\n",
       "      <td>...</td>\n",
       "      <td>...</td>\n",
       "      <td>...</td>\n",
       "    </tr>\n",
       "    <tr>\n",
       "      <th>102</th>\n",
       "      <td>30.0</td>\n",
       "      <td>F</td>\n",
       "      <td>20.8</td>\n",
       "    </tr>\n",
       "    <tr>\n",
       "      <th>104</th>\n",
       "      <td>32.0</td>\n",
       "      <td>M</td>\n",
       "      <td>21.7</td>\n",
       "    </tr>\n",
       "    <tr>\n",
       "      <th>106</th>\n",
       "      <td>24.0</td>\n",
       "      <td>M</td>\n",
       "      <td>20.5</td>\n",
       "    </tr>\n",
       "    <tr>\n",
       "      <th>107</th>\n",
       "      <td>22.0</td>\n",
       "      <td>M</td>\n",
       "      <td>22.3</td>\n",
       "    </tr>\n",
       "    <tr>\n",
       "      <th>108</th>\n",
       "      <td>23.0</td>\n",
       "      <td>F</td>\n",
       "      <td>27.1</td>\n",
       "    </tr>\n",
       "  </tbody>\n",
       "</table>\n",
       "<p>100 rows × 3 columns</p>\n",
       "</div>"
      ],
      "text/plain": [
       "      age sex   bmi\n",
       "pid                \n",
       "89   27.0   F  19.8\n",
       "1    27.0   M  25.1\n",
       "2    26.0   F  22.0\n",
       "3    27.0   F  20.7\n",
       "4    26.0   F  19.0\n",
       "..    ...  ..   ...\n",
       "102  30.0   F  20.8\n",
       "104  32.0   M  21.7\n",
       "106  24.0   M  20.5\n",
       "107  22.0   M  22.3\n",
       "108  23.0   F  27.1\n",
       "\n",
       "[100 rows x 3 columns]"
      ]
     },
     "execution_count": 12,
     "metadata": {},
     "output_type": "execute_result"
    }
   ],
   "source": [
    "par_data"
   ]
  },
  {
   "cell_type": "code",
   "execution_count": 13,
   "id": "9f5ef0e4-3950-4fca-8849-9c4c9a712faf",
   "metadata": {},
   "outputs": [
    {
     "name": "stdout",
     "output_type": "stream",
     "text": [
      "<class 'pandas.core.frame.DataFrame'>\n",
      "Index: 100 entries, 89 to 108\n",
      "Data columns (total 3 columns):\n",
      " #   Column  Non-Null Count  Dtype  \n",
      "---  ------  --------------  -----  \n",
      " 0   age     99 non-null     float64\n",
      " 1   sex     100 non-null    object \n",
      " 2   bmi     99 non-null     float64\n",
      "dtypes: float64(2), object(1)\n",
      "memory usage: 3.1+ KB\n"
     ]
    }
   ],
   "source": [
    "par_data.info()"
   ]
  },
  {
   "cell_type": "code",
   "execution_count": 14,
   "id": "959cf3cf-bc5a-4148-92bc-f9d232df233f",
   "metadata": {},
   "outputs": [
    {
     "data": {
      "text/html": [
       "<div>\n",
       "<style scoped>\n",
       "    .dataframe tbody tr th:only-of-type {\n",
       "        vertical-align: middle;\n",
       "    }\n",
       "\n",
       "    .dataframe tbody tr th {\n",
       "        vertical-align: top;\n",
       "    }\n",
       "\n",
       "    .dataframe thead th {\n",
       "        text-align: right;\n",
       "    }\n",
       "</style>\n",
       "<table border=\"1\" class=\"dataframe\">\n",
       "  <thead>\n",
       "    <tr style=\"text-align: right;\">\n",
       "      <th></th>\n",
       "      <th>age</th>\n",
       "      <th>sex</th>\n",
       "      <th>bmi</th>\n",
       "    </tr>\n",
       "    <tr>\n",
       "      <th>pid</th>\n",
       "      <th></th>\n",
       "      <th></th>\n",
       "      <th></th>\n",
       "    </tr>\n",
       "  </thead>\n",
       "  <tbody>\n",
       "    <tr>\n",
       "      <th>11</th>\n",
       "      <td>NaN</td>\n",
       "      <td>F</td>\n",
       "      <td>26.8</td>\n",
       "    </tr>\n",
       "    <tr>\n",
       "      <th>21</th>\n",
       "      <td>23.0</td>\n",
       "      <td>F</td>\n",
       "      <td>NaN</td>\n",
       "    </tr>\n",
       "  </tbody>\n",
       "</table>\n",
       "</div>"
      ],
      "text/plain": [
       "      age sex   bmi\n",
       "pid                \n",
       "11    NaN   F  26.8\n",
       "21   23.0   F   NaN"
      ]
     },
     "execution_count": 14,
     "metadata": {},
     "output_type": "execute_result"
    }
   ],
   "source": [
    "par_data[par_data.isnull().any(axis=1)]\n"
   ]
  },
  {
   "cell_type": "code",
   "execution_count": 15,
   "id": "4f6763dc-ef72-4c7e-9feb-27dcb0bba20d",
   "metadata": {},
   "outputs": [],
   "source": [
    "# dropping 2 rows with missing values .\n",
    "par_data.dropna(inplace=True)\n"
   ]
  },
  {
   "cell_type": "code",
   "execution_count": 16,
   "id": "6222e26c-5635-4314-a730-4461921a889c",
   "metadata": {},
   "outputs": [
    {
     "data": {
      "text/html": [
       "<div>\n",
       "<style scoped>\n",
       "    .dataframe tbody tr th:only-of-type {\n",
       "        vertical-align: middle;\n",
       "    }\n",
       "\n",
       "    .dataframe tbody tr th {\n",
       "        vertical-align: top;\n",
       "    }\n",
       "\n",
       "    .dataframe thead th {\n",
       "        text-align: right;\n",
       "    }\n",
       "</style>\n",
       "<table border=\"1\" class=\"dataframe\">\n",
       "  <thead>\n",
       "    <tr style=\"text-align: right;\">\n",
       "      <th></th>\n",
       "      <th>age</th>\n",
       "      <th>bmi</th>\n",
       "    </tr>\n",
       "  </thead>\n",
       "  <tbody>\n",
       "    <tr>\n",
       "      <th>count</th>\n",
       "      <td>98.000000</td>\n",
       "      <td>98.000000</td>\n",
       "    </tr>\n",
       "    <tr>\n",
       "      <th>mean</th>\n",
       "      <td>38.132653</td>\n",
       "      <td>23.661224</td>\n",
       "    </tr>\n",
       "    <tr>\n",
       "      <th>std</th>\n",
       "      <td>16.930201</td>\n",
       "      <td>3.406714</td>\n",
       "    </tr>\n",
       "    <tr>\n",
       "      <th>min</th>\n",
       "      <td>18.000000</td>\n",
       "      <td>18.300000</td>\n",
       "    </tr>\n",
       "    <tr>\n",
       "      <th>25%</th>\n",
       "      <td>26.000000</td>\n",
       "      <td>21.100000</td>\n",
       "    </tr>\n",
       "    <tr>\n",
       "      <th>50%</th>\n",
       "      <td>31.000000</td>\n",
       "      <td>23.300000</td>\n",
       "    </tr>\n",
       "    <tr>\n",
       "      <th>75%</th>\n",
       "      <td>49.250000</td>\n",
       "      <td>25.900000</td>\n",
       "    </tr>\n",
       "    <tr>\n",
       "      <th>max</th>\n",
       "      <td>82.000000</td>\n",
       "      <td>33.300000</td>\n",
       "    </tr>\n",
       "  </tbody>\n",
       "</table>\n",
       "</div>"
      ],
      "text/plain": [
       "             age        bmi\n",
       "count  98.000000  98.000000\n",
       "mean   38.132653  23.661224\n",
       "std    16.930201   3.406714\n",
       "min    18.000000  18.300000\n",
       "25%    26.000000  21.100000\n",
       "50%    31.000000  23.300000\n",
       "75%    49.250000  25.900000\n",
       "max    82.000000  33.300000"
      ]
     },
     "execution_count": 16,
     "metadata": {},
     "output_type": "execute_result"
    }
   ],
   "source": [
    "par_data.describe() "
   ]
  },
  {
   "cell_type": "markdown",
   "id": "a0ddb67c-582b-44ad-9221-dc6773f7864d",
   "metadata": {},
   "source": [
    "# Exploratory data analysis (EDA)"
   ]
  },
  {
   "cell_type": "code",
   "execution_count": 17,
   "id": "0fb1c765-75c4-4aa1-bd97-7ba5e3a8d16a",
   "metadata": {},
   "outputs": [],
   "source": [
    "import numpy as np\n",
    "import matplotlib.pyplot as plt\n",
    "import seaborn as sns\n",
    "from scipy.stats import ttest_ind, pearsonr, f_oneway"
   ]
  },
  {
   "cell_type": "code",
   "execution_count": 18,
   "id": "b000446a-0cef-4025-9494-848b5cfa26a2",
   "metadata": {},
   "outputs": [
    {
     "data": {
      "image/png": "[encoded data removed]",
      "text/plain": [
       "<Figure size 640x480 with 1 Axes>"
      ]
     },
     "metadata": {},
     "output_type": "display_data"
    }
   ],
   "source": [
    "# Count the occurrences of each sex\n",
    "sex_counts = par_data['sex'].value_counts()\n",
    "\n",
    "# Create the bar plot\n",
    "plt.bar(sex_counts.index, sex_counts.values)\n",
    "\n",
    "# Add labels and title\n",
    "plt.xlabel(\"Sex\")\n",
    "plt.ylabel(\"Count\")\n",
    "plt.title(\"Distribution of Sex\")\n",
    "\n",
    "# Show the plot\n",
    "plt.show()"
   ]
  },
  {
   "cell_type": "code",
   "execution_count": 19,
   "id": "be65a7d7-c0d5-4e65-89e2-0a1f29e74628",
   "metadata": {},
   "outputs": [
    {
     "data": {
      "image/png": "[encoded data removed]",
      "text/plain": [
       "<Figure size 1200x500 with 2 Axes>"
      ]
     },
     "metadata": {},
     "output_type": "display_data"
    }
   ],
   "source": [
    "plt.figure(figsize=(12, 5))\n",
    "\n",
    "plt.subplot(1, 2, 1)\n",
    "sns.histplot(par_data['age'], bins=10, kde=True)\n",
    "plt.title(\"Age Distribution\")\n",
    "\n",
    "plt.subplot(1, 2, 2)\n",
    "sns.histplot(par_data['bmi'], bins=10, kde=True)\n",
    "plt.title(\"BMI Distribution\")\n",
    "\n",
    "plt.show()"
   ]
  },
  {
   "cell_type": "markdown",
   "id": "5cfccaa5-1fcd-4b7c-b760-a94170a8123c",
   "metadata": {},
   "source": [
    "I think this is enough analysis for participant dataset , \n",
    "it confirms.\n",
    "different age people are there, \n",
    "different sex people are there. \n",
    "bmi is good so people are healthy \n",
    "\n"
   ]
  },
  {
   "cell_type": "code",
   "execution_count": 20,
   "id": "c63f4bcb-52db-4281-8618-a808322f16fb",
   "metadata": {},
   "outputs": [
    {
     "data": {
      "text/html": [
       "<div>\n",
       "<style scoped>\n",
       "    .dataframe tbody tr th:only-of-type {\n",
       "        vertical-align: middle;\n",
       "    }\n",
       "\n",
       "    .dataframe tbody tr th {\n",
       "        vertical-align: top;\n",
       "    }\n",
       "\n",
       "    .dataframe thead th {\n",
       "        text-align: right;\n",
       "    }\n",
       "</style>\n",
       "<table border=\"1\" class=\"dataframe\">\n",
       "  <thead>\n",
       "    <tr style=\"text-align: right;\">\n",
       "      <th></th>\n",
       "      <th>BMI Range</th>\n",
       "      <th>Category</th>\n",
       "      <th>Health Implications</th>\n",
       "    </tr>\n",
       "  </thead>\n",
       "  <tbody>\n",
       "    <tr>\n",
       "      <th>0</th>\n",
       "      <td>&lt; 18.5</td>\n",
       "      <td>Underweight</td>\n",
       "      <td>Risk of malnutrition, weak immunity</td>\n",
       "    </tr>\n",
       "    <tr>\n",
       "      <th>1</th>\n",
       "      <td>18.5 – 24.9</td>\n",
       "      <td>Normal Weight</td>\n",
       "      <td>Optimal health, lower disease risk</td>\n",
       "    </tr>\n",
       "    <tr>\n",
       "      <th>2</th>\n",
       "      <td>25 – 29.9</td>\n",
       "      <td>Overweight</td>\n",
       "      <td>Higher risk of heart disease, diabetes</td>\n",
       "    </tr>\n",
       "    <tr>\n",
       "      <th>3</th>\n",
       "      <td>30+</td>\n",
       "      <td>Obese</td>\n",
       "      <td>Increased risk of chronic illnesses</td>\n",
       "    </tr>\n",
       "  </tbody>\n",
       "</table>\n",
       "</div>"
      ],
      "text/plain": [
       "     BMI Range       Category                     Health Implications\n",
       "0       < 18.5    Underweight     Risk of malnutrition, weak immunity\n",
       "1  18.5 – 24.9  Normal Weight      Optimal health, lower disease risk\n",
       "2    25 – 29.9     Overweight  Higher risk of heart disease, diabetes\n",
       "3          30+          Obese     Increased risk of chronic illnesses"
      ]
     },
     "metadata": {},
     "output_type": "display_data"
    }
   ],
   "source": [
    "# Create DataFrame\n",
    "bmi_table = pd.DataFrame({\n",
    "    \"BMI Range\": [\"< 18.5\", \"18.5 – 24.9\", \"25 – 29.9\", \"30+\"],\n",
    "    \"Category\": [\"Underweight\", \"Normal Weight\", \"Overweight\", \"Obese\"],\n",
    "    \"Health Implications\": [\n",
    "        \"Risk of malnutrition, weak immunity\",\n",
    "        \"Optimal health, lower disease risk\",\n",
    "        \"Higher risk of heart disease, diabetes\",\n",
    "        \"Increased risk of chronic illnesses\"\n",
    "    ]\n",
    "})\n",
    "\n",
    "# Display in Jupyter Notebook\n",
    "from IPython.display import display\n",
    "display(bmi_table)\n"
   ]
  },
  {
   "cell_type": "markdown",
   "id": "25ea4e2c-5fc6-4cf8-af5f-14389fbecfe8",
   "metadata": {},
   "source": [
    "Ok, this is Enoough, let's analyse the channels tsv file"
   ]
  },
  {
   "cell_type": "code",
   "execution_count": 21,
   "id": "b87aa963-f63a-4e45-978b-e0462948e16a",
   "metadata": {},
   "outputs": [
    {
     "data": {
      "text/html": [
       "<div>\n",
       "<style scoped>\n",
       "    .dataframe tbody tr th:only-of-type {\n",
       "        vertical-align: middle;\n",
       "    }\n",
       "\n",
       "    .dataframe tbody tr th {\n",
       "        vertical-align: top;\n",
       "    }\n",
       "\n",
       "    .dataframe thead th {\n",
       "        text-align: right;\n",
       "    }\n",
       "</style>\n",
       "<table border=\"1\" class=\"dataframe\">\n",
       "  <thead>\n",
       "    <tr style=\"text-align: right;\">\n",
       "      <th></th>\n",
       "      <th>REC</th>\n",
       "      <th>PSG_EEG</th>\n",
       "      <th>PSG_EOG</th>\n",
       "      <th>PSG_EMG</th>\n",
       "      <th>PSG_BELTS</th>\n",
       "      <th>PSG_THER</th>\n",
       "      <th>PSG_CAN</th>\n",
       "      <th>PSG_PPG</th>\n",
       "      <th>HB_EEG</th>\n",
       "      <th>HB_IMU</th>\n",
       "      <th>HB_PULSE</th>\n",
       "    </tr>\n",
       "  </thead>\n",
       "  <tbody>\n",
       "    <tr>\n",
       "      <th>0</th>\n",
       "      <td>sub-1</td>\n",
       "      <td>1</td>\n",
       "      <td>1</td>\n",
       "      <td>1</td>\n",
       "      <td>1</td>\n",
       "      <td>1</td>\n",
       "      <td>0</td>\n",
       "      <td>0</td>\n",
       "      <td>1</td>\n",
       "      <td>0</td>\n",
       "      <td>0</td>\n",
       "    </tr>\n",
       "    <tr>\n",
       "      <th>1</th>\n",
       "      <td>sub-2</td>\n",
       "      <td>1</td>\n",
       "      <td>1</td>\n",
       "      <td>1</td>\n",
       "      <td>1</td>\n",
       "      <td>1</td>\n",
       "      <td>0</td>\n",
       "      <td>0</td>\n",
       "      <td>1</td>\n",
       "      <td>0</td>\n",
       "      <td>0</td>\n",
       "    </tr>\n",
       "    <tr>\n",
       "      <th>2</th>\n",
       "      <td>sub-3</td>\n",
       "      <td>1</td>\n",
       "      <td>1</td>\n",
       "      <td>1</td>\n",
       "      <td>0</td>\n",
       "      <td>0</td>\n",
       "      <td>0</td>\n",
       "      <td>0</td>\n",
       "      <td>1</td>\n",
       "      <td>1</td>\n",
       "      <td>1</td>\n",
       "    </tr>\n",
       "    <tr>\n",
       "      <th>3</th>\n",
       "      <td>sub-4</td>\n",
       "      <td>1</td>\n",
       "      <td>1</td>\n",
       "      <td>1</td>\n",
       "      <td>0</td>\n",
       "      <td>0</td>\n",
       "      <td>0</td>\n",
       "      <td>0</td>\n",
       "      <td>1</td>\n",
       "      <td>1</td>\n",
       "      <td>1</td>\n",
       "    </tr>\n",
       "    <tr>\n",
       "      <th>4</th>\n",
       "      <td>sub-5</td>\n",
       "      <td>1</td>\n",
       "      <td>1</td>\n",
       "      <td>1</td>\n",
       "      <td>1</td>\n",
       "      <td>1</td>\n",
       "      <td>0</td>\n",
       "      <td>0</td>\n",
       "      <td>1</td>\n",
       "      <td>0</td>\n",
       "      <td>0</td>\n",
       "    </tr>\n",
       "  </tbody>\n",
       "</table>\n",
       "</div>"
      ],
      "text/plain": [
       "     REC  PSG_EEG  PSG_EOG  PSG_EMG  PSG_BELTS  PSG_THER  PSG_CAN  PSG_PPG  \\\n",
       "0  sub-1        1        1        1          1         1        0        0   \n",
       "1  sub-2        1        1        1          1         1        0        0   \n",
       "2  sub-3        1        1        1          0         0        0        0   \n",
       "3  sub-4        1        1        1          0         0        0        0   \n",
       "4  sub-5        1        1        1          1         1        0        0   \n",
       "\n",
       "   HB_EEG  HB_IMU  HB_PULSE  \n",
       "0       1       0         0  \n",
       "1       1       0         0  \n",
       "2       1       1         1  \n",
       "3       1       1         1  \n",
       "4       1       0         0  "
      ]
     },
     "execution_count": 21,
     "metadata": {},
     "output_type": "execute_result"
    }
   ],
   "source": [
    "ch_data.head()"
   ]
  },
  {
   "cell_type": "code",
   "execution_count": 22,
   "id": "96ccbdf3-f336-42df-aff8-fd2a95a02e40",
   "metadata": {},
   "outputs": [
    {
     "name": "stdout",
     "output_type": "stream",
     "text": [
      "<class 'pandas.core.frame.DataFrame'>\n",
      "RangeIndex: 128 entries, 0 to 127\n",
      "Data columns (total 11 columns):\n",
      " #   Column     Non-Null Count  Dtype \n",
      "---  ------     --------------  ----- \n",
      " 0   REC        128 non-null    object\n",
      " 1   PSG_EEG    128 non-null    int64 \n",
      " 2   PSG_EOG    128 non-null    int64 \n",
      " 3   PSG_EMG    128 non-null    int64 \n",
      " 4   PSG_BELTS  128 non-null    int64 \n",
      " 5   PSG_THER   128 non-null    int64 \n",
      " 6   PSG_CAN    128 non-null    int64 \n",
      " 7   PSG_PPG    128 non-null    int64 \n",
      " 8   HB_EEG     128 non-null    int64 \n",
      " 9   HB_IMU     128 non-null    int64 \n",
      " 10  HB_PULSE   128 non-null    int64 \n",
      "dtypes: int64(10), object(1)\n",
      "memory usage: 11.1+ KB\n"
     ]
    }
   ],
   "source": [
    "ch_data.info()"
   ]
  },
  {
   "cell_type": "markdown",
   "id": "8954cd30-086b-47fd-b4d6-51699eab5e1a",
   "metadata": {},
   "source": [
    "### The purpose of analysis of this channels.tsv file is to determine which channels needs to be included."
   ]
  },
  {
   "cell_type": "markdown",
   "id": "18fffe33-62ca-4401-bf3a-2f7d2cebd5d9",
   "metadata": {},
   "source": [
    "let's convert 0 to NaN since 0 represents missing channesl "
   ]
  },
  {
   "cell_type": "code",
   "execution_count": 23,
   "id": "366ef4f1-7099-4366-af9d-8e356f660f16",
   "metadata": {},
   "outputs": [],
   "source": [
    "ch_data.replace(0, np.nan, inplace=True)\n"
   ]
  },
  {
   "cell_type": "code",
   "execution_count": 24,
   "id": "9e8447c9-9f48-490e-be3f-211b57081e7c",
   "metadata": {},
   "outputs": [
    {
     "name": "stdout",
     "output_type": "stream",
     "text": [
      "<class 'pandas.core.frame.DataFrame'>\n",
      "RangeIndex: 128 entries, 0 to 127\n",
      "Data columns (total 11 columns):\n",
      " #   Column     Non-Null Count  Dtype  \n",
      "---  ------     --------------  -----  \n",
      " 0   REC        128 non-null    object \n",
      " 1   PSG_EEG    128 non-null    int64  \n",
      " 2   PSG_EOG    128 non-null    int64  \n",
      " 3   PSG_EMG    128 non-null    int64  \n",
      " 4   PSG_BELTS  62 non-null     float64\n",
      " 5   PSG_THER   62 non-null     float64\n",
      " 6   PSG_CAN    19 non-null     float64\n",
      " 7   PSG_PPG    104 non-null    float64\n",
      " 8   HB_EEG     128 non-null    int64  \n",
      " 9   HB_IMU     94 non-null     float64\n",
      " 10  HB_PULSE   112 non-null    float64\n",
      "dtypes: float64(6), int64(4), object(1)\n",
      "memory usage: 11.1+ KB\n"
     ]
    }
   ],
   "source": [
    "ch_data.info()"
   ]
  },
  {
   "cell_type": "markdown",
   "id": "858640b1-0f2e-47cd-bf98-1e27d8d75cce",
   "metadata": {},
   "source": [
    "### since We are trying to compare 2 devices, \n",
    "### the EEG signal is the consistently present in both the devices .\n",
    "### So we need to keep only the PSG_EEG and HB_EEG"
   ]
  },
  {
   "cell_type": "markdown",
   "id": "479c5a21-178c-40bc-bbf2-f4f9850d1baf",
   "metadata": {},
   "source": [
    "# The Analysis of participant.tsv and channels.tsv is hence complete"
   ]
  },
  {
   "cell_type": "code",
   "execution_count": null,
   "id": "23ae79a4-ae98-43f6-a79d-970a61ed739f",
   "metadata": {},
   "outputs": [],
   "source": []
  },
  {
   "cell_type": "code",
   "execution_count": null,
   "id": "55e84715-4a27-46cf-9537-27aaf6f6a1cb",
   "metadata": {},
   "outputs": [],
   "source": []
  },
  {
   "cell_type": "code",
   "execution_count": null,
   "id": "4c4bd65f-b3c8-46a8-a712-7e9ffb110d59",
   "metadata": {},
   "outputs": [],
   "source": []
  }
 ],
 "metadata": {
  "kernelspec": {
   "display_name": "Python 3 (ipykernel)",
   "language": "python",
   "name": "python3"
  },
  "language_info": {
   "codemirror_mode": {
    "name": "ipython",
    "version": 3
   },
   "file_extension": ".py",
   "mimetype": "text/x-python",
   "name": "python",
   "nbconvert_exporter": "python",
   "pygments_lexer": "ipython3",
   "version": "3.12.9"
  }
 },
 "nbformat": 4,
 "nbformat_minor": 5
}
